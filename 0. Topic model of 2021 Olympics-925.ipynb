{
 "cells": [
  {
   "cell_type": "markdown",
   "metadata": {},
   "source": [
    "# 1. Prerequisites"
   ]
  },
  {
   "cell_type": "code",
   "execution_count": 202,
   "metadata": {},
   "outputs": [],
   "source": [
    "# pip install PyMuPDF                    # (install PyMuPDF for extracting info from PDF files)\n",
    "# pip install tika                       # (install tika for extracting paragraphs from PDF files)\n",
    "# pip install spacy==2.2.0               # (install spacy for lemmatization)\n",
    "# conda install gensim                   # (intall gesim for topic modelling)\n",
    "# pip install pyLDAvis                   # (install pyLDAvis for topic modelling visulisation)\n",
    "# conda install -c conda-forge pyldavis  # (if you use aconda to install pyLADvis)"
   ]
  },
  {
   "cell_type": "code",
   "execution_count": 203,
   "metadata": {},
   "outputs": [],
   "source": [
    "import pandas as pd\n",
    "import numpy as np\n",
    "import re\n",
    "\n",
    "# glob for extracting the directories of metadata\n",
    "import glob\n",
    "\n",
    "# PyMuPDF\n",
    "import fitz\n",
    "\n",
    "# tika\n",
    "import tika               \n",
    "from tika import parser   \n",
    "\n",
    "# Gensim\n",
    "import gensim\n",
    "import gensim.corpora as corpora\n",
    "from gensim.utils import simple_preprocess\n",
    "from gensim.models import CoherenceModel\n",
    "\n",
    "# spacy for lemmatization\n",
    "import spacy\n",
    "\n",
    "# Visualisation\n",
    "import plotly.express as px\n",
    "import pyLDAvis\n",
    "import pyLDAvis.gensim_models\n",
    "import matplotlib.pyplot as plt\n",
    "%matplotlib inline\n",
    "\n",
    "# Enable logging for gensim - optional\n",
    "import logging\n",
    "logging.basicConfig(format='%(asctime)s : %(levelname)s : %(message)s', level=logging.ERROR)\n",
    "\n",
    "import warnings\n",
    "warnings.filterwarnings(\"ignore\",category=DeprecationWarning)\n",
    "import os"
   ]
  },
  {
   "cell_type": "markdown",
   "metadata": {},
   "source": [
    "# 2. Import pdf files, data wrangling and overview"
   ]
  },
  {
   "cell_type": "code",
   "execution_count": 204,
   "metadata": {},
   "outputs": [
    {
     "data": {
      "text/plain": [
       "['D:\\\\LEON\\\\Business Analytics\\\\Study\\\\9. Business Project\\\\Data set\\\\Olympics\\\\Examination_of_Witnesses_Sept_2003_-_Q1-19.pdf']"
      ]
     },
     "execution_count": 204,
     "metadata": {},
     "output_type": "execute_result"
    }
   ],
   "source": [
    "# Extract the directories of the PDF files, make sure the folder name does not contain number\n",
    "pdf_dir = \"D:\\LEON\\Business Analytics\\Study\\9. Business Project\\Data set\\Olympics\"\n",
    "pdf_files = glob.glob(\"%s/*.pdf\" % pdf_dir)\n",
    "pdf_files[:1]"
   ]
  },
  {
   "cell_type": "code",
   "execution_count": 205,
   "metadata": {},
   "outputs": [],
   "source": [
    "# Use PyMuPDF to extract all info of the PDF files (text, title, date, etc)\n",
    "list_metadata = []\n",
    "for i in pdf_files:\n",
    "    with fitz.open(i) as doc:\n",
    "        info = doc.metadata\n",
    "        info['file_name'] = os.path.basename(i)\n",
    "        text = ''\n",
    "        for page in doc:\n",
    "            text+= page.getText()\n",
    "        info['Content'] = text       \n",
    "    list_metadata.append(info)"
   ]
  },
  {
   "cell_type": "code",
   "execution_count": 206,
   "metadata": {},
   "outputs": [
    {
     "data": {
      "text/html": [
       "<div>\n",
       "<style scoped>\n",
       "    .dataframe tbody tr th:only-of-type {\n",
       "        vertical-align: middle;\n",
       "    }\n",
       "\n",
       "    .dataframe tbody tr th {\n",
       "        vertical-align: top;\n",
       "    }\n",
       "\n",
       "    .dataframe thead th {\n",
       "        text-align: right;\n",
       "    }\n",
       "</style>\n",
       "<table border=\"1\" class=\"dataframe\">\n",
       "  <thead>\n",
       "    <tr style=\"text-align: right;\">\n",
       "      <th></th>\n",
       "      <th>format</th>\n",
       "      <th>title</th>\n",
       "      <th>author</th>\n",
       "      <th>subject</th>\n",
       "      <th>keywords</th>\n",
       "      <th>creator</th>\n",
       "      <th>producer</th>\n",
       "      <th>creationDate</th>\n",
       "      <th>modDate</th>\n",
       "      <th>trapped</th>\n",
       "      <th>encryption</th>\n",
       "      <th>file_name</th>\n",
       "      <th>Content</th>\n",
       "      <th>document_id</th>\n",
       "      <th>Word_count</th>\n",
       "    </tr>\n",
       "  </thead>\n",
       "  <tbody>\n",
       "    <tr>\n",
       "      <th>0</th>\n",
       "      <td>PDF 1.7</td>\n",
       "      <td></td>\n",
       "      <td>B Lewis</td>\n",
       "      <td></td>\n",
       "      <td></td>\n",
       "      <td>Microsoft Word</td>\n",
       "      <td></td>\n",
       "      <td>D:20210822083603+00'00'</td>\n",
       "      <td>D:20210822083603+00'00'</td>\n",
       "      <td></td>\n",
       "      <td>None</td>\n",
       "      <td>Examination_of_Witnesses_Sept_2003_-_Q1-19.pdf</td>\n",
       "      <td>Examination of Witnesses (1-19) \\n16 SEPTEMBER...</td>\n",
       "      <td>0</td>\n",
       "      <td>6115</td>\n",
       "    </tr>\n",
       "    <tr>\n",
       "      <th>1</th>\n",
       "      <td>PDF 1.7</td>\n",
       "      <td></td>\n",
       "      <td>B Lewis</td>\n",
       "      <td></td>\n",
       "      <td></td>\n",
       "      <td>Microsoft Word</td>\n",
       "      <td></td>\n",
       "      <td>D:20210822083606+00'00'</td>\n",
       "      <td>D:20210822083606+00'00'</td>\n",
       "      <td></td>\n",
       "      <td>None</td>\n",
       "      <td>Examination_of_Witnesses_Sept_2003_-_Q20-39.pdf</td>\n",
       "      <td>Examination of Witnesses (20-39) \\n16 SEPTEMBE...</td>\n",
       "      <td>1</td>\n",
       "      <td>4002</td>\n",
       "    </tr>\n",
       "    <tr>\n",
       "      <th>2</th>\n",
       "      <td>PDF 1.7</td>\n",
       "      <td></td>\n",
       "      <td>B Lewis</td>\n",
       "      <td></td>\n",
       "      <td></td>\n",
       "      <td>Microsoft Word</td>\n",
       "      <td></td>\n",
       "      <td>D:20210822083609+00'00'</td>\n",
       "      <td>D:20210822083609+00'00'</td>\n",
       "      <td></td>\n",
       "      <td>None</td>\n",
       "      <td>Examination_of_Witnesses_Sept_2003_-_Q40-44.pdf</td>\n",
       "      <td>Examination of Witnesses (40-44) \\n16 SEPTEMBE...</td>\n",
       "      <td>2</td>\n",
       "      <td>1007</td>\n",
       "    </tr>\n",
       "  </tbody>\n",
       "</table>\n",
       "</div>"
      ],
      "text/plain": [
       "    format title   author subject keywords         creator producer  \\\n",
       "0  PDF 1.7        B Lewis                   Microsoft Word            \n",
       "1  PDF 1.7        B Lewis                   Microsoft Word            \n",
       "2  PDF 1.7        B Lewis                   Microsoft Word            \n",
       "\n",
       "              creationDate                  modDate trapped encryption  \\\n",
       "0  D:20210822083603+00'00'  D:20210822083603+00'00'               None   \n",
       "1  D:20210822083606+00'00'  D:20210822083606+00'00'               None   \n",
       "2  D:20210822083609+00'00'  D:20210822083609+00'00'               None   \n",
       "\n",
       "                                         file_name  \\\n",
       "0   Examination_of_Witnesses_Sept_2003_-_Q1-19.pdf   \n",
       "1  Examination_of_Witnesses_Sept_2003_-_Q20-39.pdf   \n",
       "2  Examination_of_Witnesses_Sept_2003_-_Q40-44.pdf   \n",
       "\n",
       "                                             Content  document_id  Word_count  \n",
       "0  Examination of Witnesses (1-19) \\n16 SEPTEMBER...            0        6115  \n",
       "1  Examination of Witnesses (20-39) \\n16 SEPTEMBE...            1        4002  \n",
       "2  Examination of Witnesses (40-44) \\n16 SEPTEMBE...            2        1007  "
      ]
     },
     "execution_count": 206,
     "metadata": {},
     "output_type": "execute_result"
    }
   ],
   "source": [
    "df = pd.DataFrame(list_metadata)\n",
    "df['document_id'] = df.index\n",
    "df = df.drop_duplicates(subset = 'Content')             # drop duplicate rows\n",
    "df = df.dropna(subset=['Content'])                      # drop rows whose text content is NaN\n",
    "df['Word_count'] = df ['Content'].str.count(' ') + 1\n",
    "df.head(3)"
   ]
  },
  {
   "cell_type": "code",
   "execution_count": 207,
   "metadata": {
    "scrolled": true
   },
   "outputs": [
    {
     "data": {
      "text/html": [
       "<div>\n",
       "<style scoped>\n",
       "    .dataframe tbody tr th:only-of-type {\n",
       "        vertical-align: middle;\n",
       "    }\n",
       "\n",
       "    .dataframe tbody tr th {\n",
       "        vertical-align: top;\n",
       "    }\n",
       "\n",
       "    .dataframe thead th {\n",
       "        text-align: right;\n",
       "    }\n",
       "</style>\n",
       "<table border=\"1\" class=\"dataframe\">\n",
       "  <thead>\n",
       "    <tr style=\"text-align: right;\">\n",
       "      <th></th>\n",
       "      <th>file_name</th>\n",
       "      <th>Content</th>\n",
       "    </tr>\n",
       "  </thead>\n",
       "  <tbody>\n",
       "  </tbody>\n",
       "</table>\n",
       "</div>"
      ],
      "text/plain": [
       "Empty DataFrame\n",
       "Columns: [file_name, Content]\n",
       "Index: []"
      ]
     },
     "execution_count": 207,
     "metadata": {},
     "output_type": "execute_result"
    }
   ],
   "source": [
    "# check if there are documents with few words\n",
    "min_word_count= 10                                               # set the threshold of the minimum word count of each document \n",
    "min_word_count_filter = df['Word_count'] <= min_word_count\n",
    "df_few_words = df[min_word_count_filter][['file_name', 'Content']]\n",
    "df_few_words"
   ]
  },
  {
   "cell_type": "code",
   "execution_count": 208,
   "metadata": {},
   "outputs": [
    {
     "name": "stdout",
     "output_type": "stream",
     "text": [
      "<class 'pandas.core.frame.DataFrame'>\n",
      "Int64Index: 169 entries, 0 to 168\n",
      "Data columns (total 15 columns):\n",
      " #   Column        Non-Null Count  Dtype \n",
      "---  ------        --------------  ----- \n",
      " 0   format        169 non-null    object\n",
      " 1   title         169 non-null    object\n",
      " 2   author        169 non-null    object\n",
      " 3   subject       169 non-null    object\n",
      " 4   keywords      169 non-null    object\n",
      " 5   creator       169 non-null    object\n",
      " 6   producer      169 non-null    object\n",
      " 7   creationDate  169 non-null    object\n",
      " 8   modDate       169 non-null    object\n",
      " 9   trapped       169 non-null    object\n",
      " 10  encryption    3 non-null      object\n",
      " 11  file_name     169 non-null    object\n",
      " 12  Content       169 non-null    object\n",
      " 13  document_id   169 non-null    int64 \n",
      " 14  Word_count    169 non-null    int64 \n",
      "dtypes: int64(2), object(13)\n",
      "memory usage: 21.1+ KB\n"
     ]
    }
   ],
   "source": [
    "df.info()"
   ]
  },
  {
   "cell_type": "code",
   "execution_count": 209,
   "metadata": {},
   "outputs": [
    {
     "data": {
      "text/plain": [
       "1054090"
      ]
     },
     "execution_count": 209,
     "metadata": {},
     "output_type": "execute_result"
    }
   ],
   "source": [
    "# Word count\n",
    "df['Word_count'].sum( )"
   ]
  },
  {
   "cell_type": "markdown",
   "metadata": {},
   "source": [
    "# 3. Natural language processing"
   ]
  },
  {
   "cell_type": "markdown",
   "metadata": {},
   "source": [
    "### 3.1. Tokenisation"
   ]
  },
  {
   "cell_type": "code",
   "execution_count": 210,
   "metadata": {
    "scrolled": false
   },
   "outputs": [],
   "source": [
    "data = df.Content.values.tolist()"
   ]
  },
  {
   "cell_type": "code",
   "execution_count": 211,
   "metadata": {},
   "outputs": [],
   "source": [
    "def sent_to_words(sentences):\n",
    "    for sentence in sentences:\n",
    "        yield(gensim.utils.simple_preprocess(str(sentence).encode('utf-8'), deacc=True))  # deacc=True removes punctuations\n",
    "\n",
    "data_words= list(sent_to_words(data))"
   ]
  },
  {
   "cell_type": "markdown",
   "metadata": {},
   "source": [
    "### 3.2. Processing words: \n",
    "Remove Stopwords, Make Bigrams and Trigrams,Lemmatisation, remove short words and meaningless words"
   ]
  },
  {
   "cell_type": "code",
   "execution_count": 212,
   "metadata": {},
   "outputs": [],
   "source": [
    "# Build the bigram and trigram models\n",
    "bigram = gensim.models.Phrases(data_words, min_count=5, threshold=100) # higher threshold fewer phrases.\n",
    "trigram = gensim.models.Phrases(bigram[data_words], threshold=100)  \n",
    "bigram_mod = gensim.models.phrases.Phraser(bigram)\n",
    "trigram_mod = gensim.models.phrases.Phraser(trigram)"
   ]
  },
  {
   "cell_type": "code",
   "execution_count": 213,
   "metadata": {},
   "outputs": [
    {
     "data": {
      "text/plain": [
       "['amoungst',\n",
       " 'mine',\n",
       " 'describe',\n",
       " 'another',\n",
       " 'within',\n",
       " 'somehow',\n",
       " 'during',\n",
       " 'being',\n",
       " 'de',\n",
       " 'fifty',\n",
       " 'whereas',\n",
       " 'every',\n",
       " 'will',\n",
       " 'ltd',\n",
       " 'than',\n",
       " 'itself',\n",
       " 'an',\n",
       " 'next',\n",
       " 'therein',\n",
       " 'noone',\n",
       " 'four',\n",
       " 'back',\n",
       " 'is',\n",
       " 'third',\n",
       " 'last',\n",
       " 'what',\n",
       " 'whenever',\n",
       " 'neither',\n",
       " 'thick',\n",
       " 'thereby',\n",
       " 'thin',\n",
       " 'show',\n",
       " 'behind',\n",
       " 'or',\n",
       " 'thereupon',\n",
       " 'either',\n",
       " 'moreover',\n",
       " 'thence',\n",
       " 'nevertheless',\n",
       " 'three',\n",
       " 'hereby',\n",
       " 'became',\n",
       " 'it',\n",
       " 'seemed',\n",
       " 'seems',\n",
       " 'everyone',\n",
       " 'myself',\n",
       " 'say',\n",
       " 'each',\n",
       " 'them',\n",
       " 'whose',\n",
       " 'give',\n",
       " 'among',\n",
       " 'sometime',\n",
       " 'might',\n",
       " 'now',\n",
       " 'thru',\n",
       " 'km',\n",
       " 'does',\n",
       " 'various',\n",
       " 'herself',\n",
       " 'should',\n",
       " 'although',\n",
       " 'meanwhile',\n",
       " 'all',\n",
       " 'everywhere',\n",
       " 'yourselves',\n",
       " 'been',\n",
       " 'who',\n",
       " 'hereafter',\n",
       " 'amount',\n",
       " 'very',\n",
       " 'eg',\n",
       " 'whether',\n",
       " 'least',\n",
       " 'didn',\n",
       " 'indeed',\n",
       " 'while',\n",
       " 'interest',\n",
       " 'none',\n",
       " 'nobody',\n",
       " 'computer',\n",
       " 'using',\n",
       " 'per',\n",
       " 'whom',\n",
       " 'hence',\n",
       " 'everything',\n",
       " 'they',\n",
       " 'own',\n",
       " 'beside',\n",
       " 'would',\n",
       " 'sixty',\n",
       " 'find',\n",
       " 'under',\n",
       " 'because',\n",
       " 'our',\n",
       " 'much',\n",
       " 'otherwise',\n",
       " 'us',\n",
       " 'did',\n",
       " 'co',\n",
       " 'never',\n",
       " 'con',\n",
       " 'please',\n",
       " 'quite',\n",
       " 'six',\n",
       " 'be',\n",
       " 'made',\n",
       " 'nine',\n",
       " 'beyond',\n",
       " 'through',\n",
       " 'am',\n",
       " 'after',\n",
       " 'must',\n",
       " 'eleven',\n",
       " 'becoming',\n",
       " 'system',\n",
       " 'done',\n",
       " 'really',\n",
       " 'several',\n",
       " 'doesn',\n",
       " 'cry',\n",
       " 'a',\n",
       " 'the',\n",
       " 're',\n",
       " 'sometimes',\n",
       " 'become',\n",
       " 'for',\n",
       " 'beforehand',\n",
       " 'wherein',\n",
       " 'onto',\n",
       " 'no',\n",
       " 'top',\n",
       " 'latterly',\n",
       " 'also',\n",
       " 'but',\n",
       " 'once',\n",
       " 'seem',\n",
       " 'towards',\n",
       " 'already',\n",
       " 'where',\n",
       " 'his',\n",
       " 'due',\n",
       " 'below',\n",
       " 'can',\n",
       " 'more',\n",
       " 'are',\n",
       " 'less',\n",
       " 'have',\n",
       " 'has',\n",
       " 'then',\n",
       " 'sincere',\n",
       " 'fill',\n",
       " 'anyhow',\n",
       " 'whence',\n",
       " 'few',\n",
       " 'in',\n",
       " 'if',\n",
       " 'further',\n",
       " 'around',\n",
       " 'anyway',\n",
       " 'which',\n",
       " 'whereupon',\n",
       " 'though',\n",
       " 'many',\n",
       " 'on',\n",
       " 'this',\n",
       " 'twelve',\n",
       " 'go',\n",
       " 'via',\n",
       " 'their',\n",
       " 'nothing',\n",
       " 'call',\n",
       " 'bottom',\n",
       " 'me',\n",
       " 'unless',\n",
       " 'mill',\n",
       " 'along',\n",
       " 'across',\n",
       " 'yourself',\n",
       " 'hereupon',\n",
       " 'amongst',\n",
       " 'as',\n",
       " 'between',\n",
       " 'throughout',\n",
       " 'her',\n",
       " 'over',\n",
       " 'before',\n",
       " 'therefore',\n",
       " 'put',\n",
       " 'inc',\n",
       " 'until',\n",
       " 'anything',\n",
       " 'used',\n",
       " 'becomes',\n",
       " 'nowhere',\n",
       " 'why',\n",
       " 'those',\n",
       " 'move',\n",
       " 'from',\n",
       " 'since',\n",
       " 'about',\n",
       " 'latter',\n",
       " 'ever',\n",
       " 'herein',\n",
       " 'anyone',\n",
       " 'at',\n",
       " 'besides',\n",
       " 'somewhere',\n",
       " 'first',\n",
       " 'doing',\n",
       " 'full',\n",
       " 'your',\n",
       " 'above',\n",
       " 'alone',\n",
       " 'wherever',\n",
       " 'however',\n",
       " 'always',\n",
       " 'cannot',\n",
       " 'any',\n",
       " 'yours',\n",
       " 'still',\n",
       " 'with',\n",
       " 'she',\n",
       " 'thereafter',\n",
       " 'yet',\n",
       " 'cant',\n",
       " 'bill',\n",
       " 'almost',\n",
       " 'two',\n",
       " 'by',\n",
       " 'keep',\n",
       " 'whereafter',\n",
       " 'make',\n",
       " 'so',\n",
       " 'too',\n",
       " 'others',\n",
       " 'something',\n",
       " 'seeming',\n",
       " 'ie',\n",
       " 'same',\n",
       " 'someone',\n",
       " 'whereby',\n",
       " 'one',\n",
       " 'serious',\n",
       " 'some',\n",
       " 'get',\n",
       " 'whither',\n",
       " 'that',\n",
       " 'perhaps',\n",
       " 'only',\n",
       " 'i',\n",
       " 'name',\n",
       " 'part',\n",
       " 'you',\n",
       " 'ours',\n",
       " 'out',\n",
       " 'hers',\n",
       " 'we',\n",
       " 'how',\n",
       " 'could',\n",
       " 'toward',\n",
       " 'eight',\n",
       " 'he',\n",
       " 'couldnt',\n",
       " 'un',\n",
       " 'forty',\n",
       " 'well',\n",
       " 'to',\n",
       " 'even',\n",
       " 'five',\n",
       " 'regarding',\n",
       " 'whole',\n",
       " 'had',\n",
       " 'nor',\n",
       " 'both',\n",
       " 'without',\n",
       " 'there',\n",
       " 'front',\n",
       " 'when',\n",
       " 'into',\n",
       " 'him',\n",
       " 'these',\n",
       " 'do',\n",
       " 'whoever',\n",
       " 'see',\n",
       " 'fifteen',\n",
       " 'were',\n",
       " 'except',\n",
       " 'upon',\n",
       " 'ourselves',\n",
       " 'just',\n",
       " 'anywhere',\n",
       " 'mostly',\n",
       " 'was',\n",
       " 'rather',\n",
       " 'fire',\n",
       " 'former',\n",
       " 'etc',\n",
       " 'elsewhere',\n",
       " 'off',\n",
       " 'namely',\n",
       " 'afterwards',\n",
       " 'don',\n",
       " 'empty',\n",
       " 'enough',\n",
       " 'himself',\n",
       " 'may',\n",
       " 'twenty',\n",
       " 'hundred',\n",
       " 'other',\n",
       " 'detail',\n",
       " 'whatever',\n",
       " 'and',\n",
       " 'themselves',\n",
       " 'my',\n",
       " 'hasnt',\n",
       " 'side',\n",
       " 'here',\n",
       " 'up',\n",
       " 'formerly',\n",
       " 'its',\n",
       " 'most',\n",
       " 'often',\n",
       " 'against',\n",
       " 'again',\n",
       " 'else',\n",
       " 'kg',\n",
       " 'not',\n",
       " 'ten',\n",
       " 'take',\n",
       " 'together',\n",
       " 'such',\n",
       " 'thus',\n",
       " 'down',\n",
       " 'found',\n",
       " 'of',\n",
       " 'go',\n",
       " 'would',\n",
       " 'make',\n",
       " 'think',\n",
       " 'take',\n",
       " 'say',\n",
       " 'need',\n",
       " 'want',\n",
       " 'thing',\n",
       " 'have',\n",
       " 'lot',\n",
       " 'know',\n",
       " 'use',\n",
       " 'try',\n",
       " 'happen',\n",
       " 'ask',\n",
       " 'new',\n",
       " 'way',\n",
       " 'new',\n",
       " 'jonathan',\n",
       " 'stephen']"
      ]
     },
     "execution_count": 213,
     "metadata": {},
     "output_type": "execute_result"
    }
   ],
   "source": [
    "# import the stop_words from gensim\n",
    "from gensim.parsing.preprocessing import remove_stopwords, STOPWORDS\n",
    "stop_words = [i for i in STOPWORDS]\n",
    "\n",
    "# add more stop words after analysing the overall term frequncy of each topic in pyLDAvis in the \"Word frequency of each topic\" section\n",
    "new_stop_words = ['go', 'would', 'make', 'think', 'take', 'say', 'need', 'want', 'thing', 'have', 'lot', \n",
    "                  'know', 'use', 'try', 'happen', 'ask', 'new', 'way', 'new', 'jonathan', 'stephen']            \n",
    "stop_words.extend(new_stop_words)\n",
    "stop_words"
   ]
  },
  {
   "cell_type": "code",
   "execution_count": 214,
   "metadata": {},
   "outputs": [],
   "source": [
    "# Define functions for stopwords, bigrams, trigrams and lemmatization\n",
    "def remove_stop_words(texts):\n",
    "    return [[word for word in doc if word not in stop_words] for doc in texts]\n",
    "\n",
    "def make_bigrams(texts):\n",
    "    return [bigram_mod[doc] for doc in texts]\n",
    "\n",
    "def make_trigrams(texts):\n",
    "    return [trigram_mod[bigram_mod[doc]] for doc in texts]\n",
    "\n",
    "def lemmatization(texts, allowed_postags=['NOUN', 'ADJ', 'VERB', 'ADV']):\n",
    "    \"\"\"https://spacy.io/api/annotation\"\"\"\n",
    "    texts_out = []\n",
    "    for sent in texts:\n",
    "        doc = nlp(\" \".join(sent)) \n",
    "        texts_out.append([token.lemma_ for token in doc if token.pos_ in allowed_postags])\n",
    "    return texts_out"
   ]
  },
  {
   "cell_type": "code",
   "execution_count": 215,
   "metadata": {},
   "outputs": [
    {
     "data": {
      "text/plain": [
       "[['examination',\n",
       "  'witness',\n",
       "  'morning',\n",
       "  'like',\n",
       "  'welcome',\n",
       "  'today',\n",
       "  'occasional',\n",
       "  'series',\n",
       "  'checking',\n",
       "  'session',\n",
       "  'follow',\n",
       "  'regard',\n",
       "  'olympic',\n",
       "  'bid',\n",
       "  'committee',\n",
       "  'report',\n",
       "  'bring',\n",
       "  'good',\n",
       "  'express',\n",
       "  'number',\n",
       "  'concern',\n",
       "  'issue',\n",
       "  'ought',\n",
       "  'consider',\n",
       "  'interested',\n",
       "  'hear',\n",
       "  'understand',\n",
       "  'course',\n",
       "  'acceptable',\n",
       "  'appearance',\n",
       "  'like',\n",
       "  'open',\n",
       "  'statement',\n",
       "  'happy',\n",
       "  'listen',\n",
       "  'thank',\n",
       "  'thank',\n",
       "  'opportunity',\n",
       "  'come',\n",
       "  'today',\n",
       "  'talk',\n",
       "  'little_bit',\n",
       "  'plan',\n",
       "  'hope',\n",
       "  'come',\n",
       "  'month',\n",
       "  'month',\n",
       "  'shall',\n",
       "  'able',\n",
       "  'meet',\n",
       "  'update',\n",
       "  'progress',\n",
       "  'like',\n",
       "  'role',\n",
       "  'week',\n",
       "  'explain',\n",
       "  'sitting',\n",
       "  'role',\n",
       "  'offer',\n",
       "  'accept',\n",
       "  'work',\n",
       "  'like',\n",
       "  'little_bit',\n",
       "  'idea',\n",
       "  'job',\n",
       "  'philosophy',\n",
       "  'bid',\n",
       "  'update',\n",
       "  'initial',\n",
       "  'thought',\n",
       "  'reaction',\n",
       "  'work',\n",
       "  'date',\n",
       "  'sense',\n",
       "  'progress',\n",
       "  'week',\n",
       "  'talk',\n",
       "  'little_bit',\n",
       "  'future',\n",
       "  'motivation',\n",
       "  'role',\n",
       "  'come',\n",
       "  'number',\n",
       "  'area',\n",
       "  'lucky',\n",
       "  'able',\n",
       "  'start',\n",
       "  'airline',\n",
       "  'hope',\n",
       "  'customer',\n",
       "  'great',\n",
       "  'fortune',\n",
       "  'work',\n",
       "  'tremendous',\n",
       "  'people',\n",
       "  'enormous',\n",
       "  'number',\n",
       "  'customer',\n",
       "  'area',\n",
       "  'business',\n",
       "  'tremendous',\n",
       "  'opportunity',\n",
       "  'feel',\n",
       "  'motivation',\n",
       "  'second',\n",
       "  'emotional',\n",
       "  'issue',\n",
       "  'believe',\n",
       "  'endeavour',\n",
       "  'believe',\n",
       "  'child',\n",
       "  'lucky',\n",
       "  'attend',\n",
       "  'olympic',\n",
       "  'believe',\n",
       "  'world',\n",
       "  'positive',\n",
       "  'country',\n",
       "  'compete',\n",
       "  'individual',\n",
       "  'team',\n",
       "  'pursuit',\n",
       "  'inspirational',\n",
       "  'love',\n",
       "  'bring',\n",
       "  'time',\n",
       "  'right',\n",
       "  'people',\n",
       "  'star',\n",
       "  'align',\n",
       "  'position',\n",
       "  'mayor',\n",
       "  'supportive',\n",
       "  'government',\n",
       "  'supportive',\n",
       "  'good',\n",
       "  'time',\n",
       "  'country',\n",
       "  'olympic',\n",
       "  'bid',\n",
       "  'important',\n",
       "  'consider',\n",
       "  'role',\n",
       "  'feel',\n",
       "  'role',\n",
       "  'bid',\n",
       "  'concern',\n",
       "  'business',\n",
       "  'background',\n",
       "  'useful',\n",
       "  'tough',\n",
       "  'business',\n",
       "  'reputation',\n",
       "  'tough',\n",
       "  'fair',\n",
       "  'believe',\n",
       "  'commitment',\n",
       "  'believe',\n",
       "  'strong',\n",
       "  'financial',\n",
       "  'management',\n",
       "  'believe',\n",
       "  'hire',\n",
       "  'capable',\n",
       "  'people',\n",
       "  'diverse',\n",
       "  'background',\n",
       "  'leave',\n",
       "  'believe',\n",
       "  'good',\n",
       "  'principle',\n",
       "  'management',\n",
       "  'world',\n",
       "  'world',\n",
       "  'good',\n",
       "  'learn',\n",
       "  'privilege',\n",
       "  'position',\n",
       "  'public',\n",
       "  'monie',\n",
       "  'win',\n",
       "  'game',\n",
       "  'good',\n",
       "  'fulfil',\n",
       "  'obligation',\n",
       "  'backdrop',\n",
       "  'believe',\n",
       "  'game',\n",
       "  'believe',\n",
       "  'believe',\n",
       "  'win',\n",
       "  'motivate',\n",
       "  'bring',\n",
       "  'business',\n",
       "  'philosophy',\n",
       "  'bid',\n",
       "  'learn',\n",
       "  'support',\n",
       "  'people',\n",
       "  'support',\n",
       "  'organisation',\n",
       "  'ioc',\n",
       "  'build',\n",
       "  'team',\n",
       "  'draw',\n",
       "  'experience',\n",
       "  'expertise',\n",
       "  'people',\n",
       "  'work',\n",
       "  'dcms',\n",
       "  'gla',\n",
       "  'boa',\n",
       "  'agree',\n",
       "  'create',\n",
       "  'separate',\n",
       "  'team',\n",
       "  'team',\n",
       "  'people',\n",
       "  'focus',\n",
       "  'win',\n",
       "  'bid',\n",
       "  'rely',\n",
       "  'support',\n",
       "  'organisation',\n",
       "  'help',\n",
       "  'work',\n",
       "  'issue',\n",
       "  'arise',\n",
       "  'arise',\n",
       "  'work',\n",
       "  'arrive',\n",
       "  'different',\n",
       "  'stage',\n",
       "  'work',\n",
       "  'today',\n",
       "  'shall',\n",
       "  'moment',\n",
       "  'bid',\n",
       "  'arup',\n",
       "  'report',\n",
       "  'report',\n",
       "  'high',\n",
       "  'level',\n",
       "  'start',\n",
       "  'oppose',\n",
       "  'tell',\n",
       "  'orient',\n",
       "  'competitive',\n",
       "  'process',\n",
       "  'repeat',\n",
       "  'work',\n",
       "  'game',\n",
       "  'case',\n",
       "  'tick',\n",
       "  'box',\n",
       "  'win',\n",
       "  'case',\n",
       "  'believe',\n",
       "  'live',\n",
       "  'city',\n",
       "  'city',\n",
       "  'create',\n",
       "  'worthy',\n",
       "  'competition',\n",
       "  'world_championship',\n",
       "  'bid',\n",
       "  'world_class',\n",
       "  'city',\n",
       "  'bid',\n",
       "  'approach',\n",
       "  'begin',\n",
       "  'understand',\n",
       "  'ioc',\n",
       "  'encourage',\n",
       "  'early',\n",
       "  'pronouncement',\n",
       "  'early',\n",
       "  'brush',\n",
       "  'organisation',\n",
       "  'change',\n",
       "  'nature',\n",
       "  'game',\n",
       "  'change',\n",
       "  'nature',\n",
       "  'bidding',\n",
       "  'issue',\n",
       "  'past',\n",
       "  'transform',\n",
       "  'organisation',\n",
       "  'work',\n",
       "  'prepare',\n",
       "  'bid',\n",
       "  'insist',\n",
       "  'legacy',\n",
       "  'issue',\n",
       "  'venue',\n",
       "  'eager',\n",
       "  'game',\n",
       "  'contain',\n",
       "  'grow',\n",
       "  'big',\n",
       "  'big',\n",
       "  'issue',\n",
       "  'believe',\n",
       "  'work',\n",
       "  'favour',\n",
       "  'bid',\n",
       "  'live',\n",
       "  'cosmopolitan',\n",
       "  'democratic',\n",
       "  'country',\n",
       "  'people',\n",
       "  'compete',\n",
       "  'efficient',\n",
       "  'right',\n",
       "  'people',\n",
       "  'sport',\n",
       "  'country',\n",
       "  'early',\n",
       "  'feedback',\n",
       "  'receive',\n",
       "  'member',\n",
       "  'meeting',\n",
       "  'positive',\n",
       "  'open',\n",
       "  'sense',\n",
       "  'open',\n",
       "  'understand',\n",
       "  'positive',\n",
       "  'chance',\n",
       "  'win',\n",
       "  'important',\n",
       "  'accomplish',\n",
       "  'week',\n",
       "  'priority',\n",
       "  'deadline',\n",
       "  'mind',\n",
       "  'submit',\n",
       "  'applicant',\n",
       "  'questionnaire',\n",
       "  'simple',\n",
       "  'document',\n",
       "  'require',\n",
       "  'work',\n",
       "  'answer',\n",
       "  'simple',\n",
       "  'question',\n",
       "  'venue',\n",
       "  'approach',\n",
       "  'game',\n",
       "  'etcetera',\n",
       "  'order',\n",
       "  'complete',\n",
       "  'questionnaire',\n",
       "  'stage',\n",
       "  'hear',\n",
       "  'spring',\n",
       "  'undertake',\n",
       "  'number',\n",
       "  'piece',\n",
       "  'work',\n",
       "  'build',\n",
       "  'team',\n",
       "  'spend',\n",
       "  'time',\n",
       "  'interview',\n",
       "  'people',\n",
       "  'hire',\n",
       "  'people',\n",
       "  'hire',\n",
       "  'combination',\n",
       "  'people',\n",
       "  'sporting',\n",
       "  'experience',\n",
       "  'people',\n",
       "  'olympic',\n",
       "  'experience',\n",
       "  'people',\n",
       "  'come',\n",
       "  'business',\n",
       "  'chief_operate',\n",
       "  'officer',\n",
       "  'hire',\n",
       "  'week',\n",
       "  'start',\n",
       "  'week',\n",
       "  'guy',\n",
       "  'spend',\n",
       "  'year',\n",
       "  'proctor',\n",
       "  'gamble',\n",
       "  'work',\n",
       "  'bring',\n",
       "  'tremendous',\n",
       "  'organisational',\n",
       "  'skill',\n",
       "  'structure',\n",
       "  'ability',\n",
       "  'work',\n",
       "  'complex',\n",
       "  'project',\n",
       "  'deliver',\n",
       "  'background',\n",
       "  'tremendous',\n",
       "  'asset',\n",
       "  'olympic',\n",
       "  'expert',\n",
       "  'work',\n",
       "  'technical',\n",
       "  'bid',\n",
       "  'people',\n",
       "  'understand',\n",
       "  'group',\n",
       "  'satisfy',\n",
       "  'join',\n",
       "  'director',\n",
       "  'marketing',\n",
       "  'build',\n",
       "  'brand',\n",
       "  'create',\n",
       "  'exciting',\n",
       "  'communication',\n",
       "  'idea',\n",
       "  'middle',\n",
       "  'search',\n",
       "  'interview',\n",
       "  'people',\n",
       "  'group',\n",
       "  'executive',\n",
       "  'search',\n",
       "  'people',\n",
       "  'interview',\n",
       "  'people',\n",
       "  'important',\n",
       "  'right',\n",
       "  'person',\n",
       "  'confident',\n",
       "  'love',\n",
       "  'sit',\n",
       "  'today',\n",
       "  'middle',\n",
       "  'process',\n",
       "  'chairman',\n",
       "  'member',\n",
       "  'question',\n",
       "  'suggest',\n",
       "  'draw',\n",
       "  'remark',\n",
       "  'close',\n",
       "  'sure',\n",
       "  'able',\n",
       "  'response',\n",
       "  'question',\n",
       "  'thank',\n",
       "  'speculation',\n",
       "  'today',\n",
       "  'vice',\n",
       "  'chairman',\n",
       "  'today',\n",
       "  'announce',\n",
       "  'bring',\n",
       "  'board',\n",
       "  'vice',\n",
       "  'chairman',\n",
       "  'believe',\n",
       "  'bid',\n",
       "  'strong',\n",
       "  'leadership',\n",
       "  'figure',\n",
       "  'addition',\n",
       "  'complement',\n",
       "  'bid',\n",
       "  'vice',\n",
       "  'chairman',\n",
       "  'role',\n",
       "  'iaaf',\n",
       "  'relationship',\n",
       "  'world',\n",
       "  'tremendous',\n",
       "  'assistance',\n",
       "  'bid',\n",
       "  'second',\n",
       "  'person',\n",
       "  'invite',\n",
       "  'vice',\n",
       "  'chairman',\n",
       "  'world',\n",
       "  'wide',\n",
       "  'reputation',\n",
       "  'different',\n",
       "  'strong',\n",
       "  'sport',\n",
       "  'administrator',\n",
       "  'terrific',\n",
       "  'athlete',\n",
       "  'agree',\n",
       "  'work',\n",
       "  'technical',\n",
       "  'bid',\n",
       "  'make_sure',\n",
       "  'board',\n",
       "  'learning',\n",
       "  'person',\n",
       "  'chairman',\n",
       "  'chairman',\n",
       "  'group',\n",
       "  'wise',\n",
       "  'counsel',\n",
       "  'look',\n",
       "  'provide',\n",
       "  'role',\n",
       "  'board',\n",
       "  'subject',\n",
       "  'interview',\n",
       "  'people',\n",
       "  'right',\n",
       "  'person',\n",
       "  'enthusiasm',\n",
       "  'drive',\n",
       "  'run',\n",
       "  'work',\n",
       "  'day',\n",
       "  'week',\n",
       "  'chairman',\n",
       "  'day',\n",
       "  'week',\n",
       "  'work',\n",
       "  'mention',\n",
       "  'bit',\n",
       "  'laugh',\n",
       "  'breakfast',\n",
       "  'table',\n",
       "  'morning',\n",
       "  'news',\n",
       "  'child',\n",
       "  'day',\n",
       "  'week',\n",
       "  'hour',\n",
       "  'day',\n",
       "  'night',\n",
       "  'week',\n",
       "  'order',\n",
       "  'like',\n",
       "  'stick',\n",
       "  'day',\n",
       "  'week',\n",
       "  'personal',\n",
       "  'professional',\n",
       "  'reason',\n",
       "  'believe',\n",
       "  'bid',\n",
       "  'people',\n",
       "  'represent',\n",
       "  'leadership',\n",
       "  'bid',\n",
       "  'room',\n",
       "  'chairman',\n",
       "  'unable',\n",
       "  'meet',\n",
       "  'people',\n",
       "  'run',\n",
       "  'bid',\n",
       "  'hire',\n",
       "  'people',\n",
       "  'act',\n",
       "  'role',\n",
       "  'chairman',\n",
       "  'appreciate',\n",
       "  'confidence',\n",
       "  'assure',\n",
       "  'good',\n",
       "  'bid',\n",
       "  'hire',\n",
       "  'time',\n",
       "  'british',\n",
       "  'tight',\n",
       "  'deadline',\n",
       "  'mention',\n",
       "  'submission',\n",
       "  'response',\n",
       "  'bid',\n",
       "  'time',\n",
       "  'spend',\n",
       "  'schmooze',\n",
       "  'ioc',\n",
       "  'city',\n",
       "  'interesting',\n",
       "  'question',\n",
       "  'success',\n",
       "  'bid',\n",
       "  'lie',\n",
       "  'hand',\n",
       "  'member',\n",
       "  'vote',\n",
       "  'opportunity',\n",
       "  'meet',\n",
       "  'half',\n",
       "  'prague',\n",
       "  'trip',\n",
       "  'international',\n",
       "  'sporting',\n",
       "  'event',\n",
       "  'attend',\n",
       "  'view',\n",
       "  'strong',\n",
       "  'ioc',\n",
       "  'member',\n",
       "  'good',\n",
       "  'job',\n",
       "  'bid',\n",
       "  'eye',\n",
       "  'member',\n",
       "  'manner',\n",
       "  'intend',\n",
       "  'ioc',\n",
       "  'issue',\n",
       "  'change',\n",
       "  'rule',\n",
       "  'interact',\n",
       "  'bid',\n",
       "  'interact',\n",
       "  'ioc',\n",
       "  'example',\n",
       "  'lunch',\n",
       "  'rule',\n",
       "  'change',\n",
       "  'important',\n",
       "  'entertain',\n",
       "  'time',\n",
       "  'come',\n",
       "  'sit',\n",
       "  'lobby',\n",
       "  'catch',\n",
       "  'ioc',\n",
       "  'member',\n",
       "  'great',\n",
       "  'believer',\n",
       "  'order',\n",
       "  'sell',\n",
       "  'product',\n",
       "  'notch',\n",
       "  'shape',\n",
       "  'believe',\n",
       "  'attend',\n",
       "  'world',\n",
       "  'row',\n",
       "  'championship',\n",
       "  'sit',\n",
       "  'leadership',\n",
       "  'class',\n",
       "  'rowing',\n",
       "  'championship',\n",
       "  'hold',\n",
       "  'number',\n",
       "  'sport',\n",
       "  'send',\n",
       "  'signal',\n",
       "  'game',\n",
       "  'sport',\n",
       "  'wonderful',\n",
       "  'attribute',\n",
       "  'bring',\n",
       "  'philosophy',\n",
       "  'fact',\n",
       "  'member',\n",
       "  'ring',\n",
       "  'response',\n",
       "  'number',\n",
       "  'article',\n",
       "  'paper',\n",
       "  'forget',\n",
       "  'judgment',\n",
       "  'feel',\n",
       "  'comfortable',\n",
       "  'approach',\n",
       "  'damage',\n",
       "  'product',\n",
       "  'damaged',\n",
       "  'reputation',\n",
       "  'picketts_lock',\n",
       "  'disaster',\n",
       "  'good',\n",
       "  'comeback',\n",
       "  'indoor',\n",
       "  'championship',\n",
       "  'residual',\n",
       "  'question',\n",
       "  'mark',\n",
       "  'question',\n",
       "  'privacy',\n",
       "  'lounge',\n",
       "  'area',\n",
       "  'member',\n",
       "  'governing',\n",
       "  'board',\n",
       "  'meet',\n",
       "  'half',\n",
       "  'half',\n",
       "  'half',\n",
       "  'half',\n",
       "  'understand',\n",
       "  'build',\n",
       "  'specificity',\n",
       "  'stadium',\n",
       "  'shall',\n",
       "  'build',\n",
       "  'plan',\n",
       "  'stride',\n",
       "  'ground',\n",
       "  'good',\n",
       "  'morning',\n",
       "  'press',\n",
       "  'newspaper',\n",
       "  'report',\n",
       "  'true',\n",
       "  'people',\n",
       "  'offer',\n",
       "  'post',\n",
       "  'turn',\n",
       "  'offer',\n",
       "  'position',\n",
       "  'fascinating',\n",
       "  'watch',\n",
       "  'process',\n",
       "  'unwind',\n",
       "  'press',\n",
       "  'interview',\n",
       "  'people',\n",
       "  'people',\n",
       "  'invite',\n",
       "  'additional',\n",
       "  'chat',\n",
       "  'stakeholder',\n",
       "  'offer',\n",
       "  'thought',\n",
       "  'vote',\n",
       "  'ioc',\n",
       "  'bid',\n",
       "  'cope',\n",
       "  'vote',\n",
       "  'ioc',\n",
       "  'committee',\n",
       "  'target',\n",
       "  'vote',\n",
       "  'people',\n",
       "  'identify',\n",
       "  'right',\n",
       "  'approach',\n",
       "  'sell',\n",
       "  'bid',\n",
       "  'strategy',\n",
       "  'sell',\n",
       "  'bid',\n",
       "  'priority',\n",
       "  'couple',\n",
       "  'month',\n",
       "  'identify',\n",
       "  'grouping',\n",
       "  'stage',\n",
       "  'begin',\n",
       "  'feel',\n",
       "  'careful',\n",
       "  'refer',\n",
       "  'ioc',\n",
       "  'member',\n",
       "  'religion',\n",
       "  'nationality',\n",
       "  'sport',\n",
       "  'person',\n",
       "  'leader',\n",
       "  'federation',\n",
       "  'work',\n",
       "  'understand',\n",
       "  'person',\n",
       "  'step',\n",
       "  'help',\n",
       "  'present',\n",
       "  'bid',\n",
       "  'positive',\n",
       "  'begin',\n",
       "  'work',\n",
       "  'course',\n",
       "  'recruit',\n",
       "  'member',\n",
       "  'speak',\n",
       "  'meaningful',\n",
       "  'ioc',\n",
       "  'member',\n",
       "  'stage',\n",
       "  'choose',\n",
       "  'derek_wyatt',\n",
       "  'look',\n",
       "  'assembly',\n",
       "  'people',\n",
       "  'bid',\n",
       "  'experience',\n",
       "  'international',\n",
       "  'sporting',\n",
       "  'event',\n",
       "  'bidding',\n",
       "  'experience',\n",
       "  'major',\n",
       "  'world_championship',\n",
       "  'rugby',\n",
       "  'etcetera',\n",
       "  'team',\n",
       "  'people',\n",
       "  'responsible',\n",
       "  'game',\n",
       "  'work',\n",
       "  'game',\n",
       "  'bid',\n",
       "  'work',\n",
       "  'number',\n",
       "  'summer',\n",
       "  'game',\n",
       "  'bid',\n",
       "  'combination',\n",
       "  'people',\n",
       "  'stage',\n",
       "  'event',\n",
       "  'people',\n",
       "  'bidding',\n",
       "  'manchester',\n",
       "  'people',\n",
       "  'feel',\n",
       "  'beneficial',\n",
       "  'intention',\n",
       "  'team',\n",
       "  'fact',\n",
       "  'interview',\n",
       "  'people',\n",
       "  'interesting',\n",
       "  'bid',\n",
       "  'team',\n",
       "  'long',\n",
       "  'time',\n",
       "  'game',\n",
       "  'near',\n",
       "  'challenge',\n",
       "  'right',\n",
       "  'combination',\n",
       "  'touch',\n",
       "  'people',\n",
       "  'responsible',\n",
       "  'useful',\n",
       "  'helpful',\n",
       "  'clear',\n",
       "  'role',\n",
       "  'film',\n",
       "  'inquiry',\n",
       "  'sport',\n",
       "  'channel',\n",
       "  'logo',\n",
       "  'right',\n",
       "  'hand',\n",
       "  'semi',\n",
       "  'final',\n",
       "  'final',\n",
       "  'wonder',\n",
       "  'legal',\n",
       "  'discussion',\n",
       "  'idea',\n",
       "  'television',\n",
       "  'broadcaster',\n",
       "  'broadcaster',\n",
       "  'fifth',\n",
       "  'avenue',\n",
       "  'shop',\n",
       "  'window',\n",
       "  'olympic',\n",
       "  'bid',\n",
       "  'olympic',\n",
       "  'bid',\n",
       "  'good',\n",
       "  'luggage',\n",
       "  'rack',\n",
       "  'shirt',\n",
       "  'badge',\n",
       "  'bid',\n",
       "  'conversation',\n",
       "  'handle',\n",
       "  'liaison',\n",
       "  'right',\n",
       "  'good',\n",
       "  'reason',\n",
       "  'bid',\n",
       "  'game',\n",
       "  'start',\n",
       "  'history',\n",
       "  'legacy',\n",
       "  'fail',\n",
       "  'bid',\n",
       "  'different',\n",
       "  'issue',\n",
       "  'participate',\n",
       "  'national',\n",
       "  'competition',\n",
       "  'win',\n",
       "  'brand',\n",
       "  'material',\n",
       "  'create',\n",
       "  'domestic',\n",
       "  'competition',\n",
       "  'process',\n",
       "  'tomorrow',\n",
       "  'fact',\n",
       "  'launch',\n",
       "  'logo',\n",
       "  'design',\n",
       "  'competition',\n",
       "  'large',\n",
       "  'cinema',\n",
       "  'leicest',\n",
       "  'square',\n",
       "  'people',\n",
       "  'design',\n",
       "  'come',\n",
       "  'competition',\n",
       "  'win',\n",
       "  'design',\n",
       "  'logo',\n",
       "  'choose',\n",
       "  'plan',\n",
       "  'brand',\n",
       "  'material',\n",
       "  'begin',\n",
       "  'discussion',\n",
       "  'retailer',\n",
       "  'organisation',\n",
       "  'discussion',\n",
       "  'bbc',\n",
       "  'high',\n",
       "  'level',\n",
       "  'people',\n",
       "  'help',\n",
       "  'stage',\n",
       "  'game',\n",
       "  'begin',\n",
       "  'discussion',\n",
       "  'question',\n",
       "  'legal',\n",
       "  'screen',\n",
       "  'understanding',\n",
       "  'example',\n",
       "  'push',\n",
       "  'little_bit',\n",
       "  'send',\n",
       "  'team',\n",
       "  'world',\n",
       "  'shirt',\n",
       "  'judge',\n",
       "  'risk',\n",
       "  'worth',\n",
       "  'difficult',\n",
       "  'understanding',\n",
       "  'precise',\n",
       "  'rule',\n",
       "  'write',\n",
       "  'ioc',\n",
       "  'stay',\n",
       "  'touch',\n",
       "  'promote',\n",
       "  'bid',\n",
       "  'harm',\n",
       "  'reputation',\n",
       "  'receive',\n",
       "  'sort',\n",
       "  'reprimand',\n",
       "  'respect',\n",
       "  'foreign',\n",
       "  'office',\n",
       "  'designate',\n",
       "  'ambassador',\n",
       "  'appoint',\n",
       "  'office',\n",
       "  'ambassador',\n",
       "  'sign',\n",
       "  'stakeholder',\n",
       "  'process',\n",
       "  'begin',\n",
       "  'discussion',\n",
       "  'wonderful',\n",
       "  'suggestion',\n",
       "  'plan',\n",
       "  'implement',\n",
       "  'meet',\n",
       "  'permanent_secretary',\n",
       "  'week',\n",
       "  'promote',\n",
       "  'meet',\n",
       "  'consul',\n",
       "  'general',\n",
       "  'ground',\n",
       "  'help',\n",
       "  'bid',\n",
       "  'replicate',\n",
       "  'city',\n",
       "  'bid',\n",
       "  'role',\n",
       "  ...]]"
      ]
     },
     "execution_count": 215,
     "metadata": {},
     "output_type": "execute_result"
    }
   ],
   "source": [
    "# Form Trigrams\n",
    "data_words_trigrams = make_trigrams(data_words)\n",
    "\n",
    "# Initialize spacy 'en' model, keeping only tagger component (for efficiency)\n",
    "# python3 -m spacy download en\n",
    "nlp = spacy.load('en_core_web_sm', disable=['parser', 'ner'])\n",
    "\n",
    "#increase the maximum length of text that the parser or NER can process\n",
    "nlp.max_length = 13000000 #\n",
    "\n",
    "# Do lemmatization keeping only noun, adj, verb\n",
    "data_lemmatized1 = lemmatization(data_words_trigrams, allowed_postags=['NOUN', 'ADJ', 'VERB'])\n",
    "\n",
    "# Set a threshold for removing the words with length less than the threshold\n",
    "minimum_len = 3 \n",
    "data_lemmatized2 = []\n",
    "for i in data_lemmatized1:\n",
    "    new_element = [x for x in i if len(x) >= minimum_len]\n",
    "    data_lemmatized2.append(new_element)\n",
    "\n",
    "# remove stop words\n",
    "data_lemmatized = remove_stop_words(data_lemmatized2)\n",
    "data_lemmatized[:1]"
   ]
  },
  {
   "cell_type": "markdown",
   "metadata": {},
   "source": [
    "###  3.3. Dictionary and Corpus"
   ]
  },
  {
   "cell_type": "code",
   "execution_count": 216,
   "metadata": {},
   "outputs": [
    {
     "name": "stdout",
     "output_type": "stream",
     "text": [
      "After removal of high and low frequency words - Number of unique tokens: 3413, 349895\n"
     ]
    }
   ],
   "source": [
    "# Create Dictionary, set the parameters to filter out tokens in the dictionary by their frequency\n",
    "no_below = 5             # remove the tokens less frequent than no_below documents (absolute number)\n",
    "no_above = 0.85          # remove the tokens more frequent than no_above documents (fraction of the total corpus size)\n",
    "id2word = corpora.Dictionary(data_lemmatized)\n",
    "id2word.filter_extremes(no_below = no_below, no_above = no_above)\n",
    "\n",
    "# print the number of reserved unique tokens and word count afer removal of high and low frequency words\n",
    "print('After removal of high and low frequency words - Number of unique tokens: %d, %d' % (len(id2word),id2word.num_pos))"
   ]
  },
  {
   "cell_type": "code",
   "execution_count": 217,
   "metadata": {},
   "outputs": [
    {
     "name": "stdout",
     "output_type": "stream",
     "text": [
      "[[(0, 2), (1, 4), (2, 3), (3, 1), (4, 1), (5, 1), (6, 1), (7, 2), (8, 1), (9, 1), (10, 1), (11, 1), (12, 3), (13, 1), (14, 1), (15, 2), (16, 3), (17, 1), (18, 2), (19, 3), (20, 1), (21, 1), (22, 2), (23, 1), (24, 1), (25, 1), (26, 1), (27, 1), (28, 5), (29, 1), (30, 4), (31, 2), (32, 1), (33, 1), (34, 2), (35, 1), (36, 1), (37, 1), (38, 1), (39, 1), (40, 2), (41, 4), (42, 3), (43, 1), (44, 1), (45, 1), (46, 2), (47, 1), (48, 3), (49, 1), (50, 1), (51, 1), (52, 1), (53, 11), (54, 17), (55, 1), (56, 1), (57, 61), (58, 4), (59, 3), (60, 1), (61, 1), (62, 5), (63, 1), (64, 3), (65, 1), (66, 1), (67, 11), (68, 1), (69, 2), (70, 2), (71, 8), (72, 5), (73, 1), (74, 2), (75, 1), (76, 1), (77, 2), (78, 1), (79, 10), (80, 2), (81, 3), (82, 1), (83, 4), (84, 1), (85, 1), (86, 2), (87, 4), (88, 16), (89, 1), (90, 1), (91, 2), (92, 3), (93, 16), (94, 1), (95, 1), (96, 3), (97, 2), (98, 1), (99, 2), (100, 5), (101, 1), (102, 1), (103, 1), (104, 1), (105, 4), (106, 1), (107, 3), (108, 1), (109, 1), (110, 2), (111, 1), (112, 1), (113, 2), (114, 1), (115, 1), (116, 14), (117, 2), (118, 2), (119, 1), (120, 7), (121, 1), (122, 1), (123, 1), (124, 3), (125, 1), (126, 2), (127, 2), (128, 1), (129, 1), (130, 1), (131, 5), (132, 1), (133, 2), (134, 1), (135, 2), (136, 1), (137, 2), (138, 1), (139, 1), (140, 4), (141, 1), (142, 2), (143, 1), (144, 3), (145, 1), (146, 1), (147, 1), (148, 1), (149, 1), (150, 6), (151, 1), (152, 1), (153, 1), (154, 1), (155, 1), (156, 2), (157, 1), (158, 4), (159, 1), (160, 2), (161, 1), (162, 1), (163, 1), (164, 1), (165, 1), (166, 1), (167, 1), (168, 1), (169, 1), (170, 1), (171, 1), (172, 3), (173, 7), (174, 1), (175, 3), (176, 2), (177, 3), (178, 1), (179, 2), (180, 1), (181, 1), (182, 5), (183, 1), (184, 1), (185, 1), (186, 1), (187, 1), (188, 1), (189, 1), (190, 1), (191, 5), (192, 1), (193, 2), (194, 4), (195, 1), (196, 1), (197, 1), (198, 8), (199, 1), (200, 1), (201, 2), (202, 1), (203, 3), (204, 1), (205, 1), (206, 2), (207, 1), (208, 1), (209, 1), (210, 1), (211, 1), (212, 1), (213, 1), (214, 1), (215, 1), (216, 1), (217, 3), (218, 1), (219, 1), (220, 1), (221, 15), (222, 2), (223, 4), (224, 2), (225, 6), (226, 1), (227, 1), (228, 2), (229, 1), (230, 5), (231, 4), (232, 1), (233, 4), (234, 1), (235, 2), (236, 7), (237, 2), (238, 2), (239, 6), (240, 2), (241, 1), (242, 3), (243, 1), (244, 1), (245, 1), (246, 3), (247, 2), (248, 1), (249, 5), (250, 1), (251, 1), (252, 2), (253, 3), (254, 1), (255, 1), (256, 1), (257, 1), (258, 1), (259, 1), (260, 1), (261, 5), (262, 2), (263, 1), (264, 6), (265, 4), (266, 15), (267, 1), (268, 18), (269, 2), (270, 2), (271, 1), (272, 1), (273, 1), (274, 1), (275, 1), (276, 3), (277, 1), (278, 1), (279, 3), (280, 4), (281, 1), (282, 2), (283, 3), (284, 2), (285, 1), (286, 1), (287, 2), (288, 1), (289, 1), (290, 5), (291, 1), (292, 1), (293, 1), (294, 4), (295, 6), (296, 1), (297, 1), (298, 2), (299, 2), (300, 3), (301, 1), (302, 9), (303, 1), (304, 2), (305, 2), (306, 1), (307, 1), (308, 2), (309, 1), (310, 1), (311, 3), (312, 1), (313, 1), (314, 2), (315, 1), (316, 2), (317, 1), (318, 2), (319, 1), (320, 2), (321, 1), (322, 6), (323, 2), (324, 15), (325, 2), (326, 2), (327, 1), (328, 2), (329, 2), (330, 1), (331, 2), (332, 2), (333, 1), (334, 3), (335, 3), (336, 1), (337, 2), (338, 4), (339, 2), (340, 1), (341, 1), (342, 1), (343, 1), (344, 2), (345, 1), (346, 1), (347, 1), (348, 8), (349, 1), (350, 1), (351, 4), (352, 2), (353, 1), (354, 1), (355, 5), (356, 3), (357, 1), (358, 5), (359, 1), (360, 1), (361, 3), (362, 6), (363, 1), (364, 1), (365, 1), (366, 1), (367, 1), (368, 2), (369, 1), (370, 1), (371, 1), (372, 39), (373, 2), (374, 1), (375, 7), (376, 1), (377, 1), (378, 3), (379, 1), (380, 1), (381, 2), (382, 6), (383, 1), (384, 1), (385, 4), (386, 4), (387, 2), (388, 1), (389, 1), (390, 1), (391, 1), (392, 1), (393, 2), (394, 2), (395, 1), (396, 1), (397, 2), (398, 1), (399, 8), (400, 2), (401, 1), (402, 1), (403, 2), (404, 1), (405, 2), (406, 2), (407, 1), (408, 1), (409, 1), (410, 3), (411, 7), (412, 1), (413, 1), (414, 1), (415, 1), (416, 1), (417, 1), (418, 2), (419, 4), (420, 1), (421, 1), (422, 2), (423, 1), (424, 1), (425, 1), (426, 1), (427, 1), (428, 1), (429, 1), (430, 1), (431, 5), (432, 1), (433, 4), (434, 2), (435, 1), (436, 1), (437, 1), (438, 1), (439, 3), (440, 2), (441, 1), (442, 2), (443, 2), (444, 12), (445, 1), (446, 1), (447, 3), (448, 10), (449, 1), (450, 1), (451, 1), (452, 1), (453, 1), (454, 1), (455, 3), (456, 6), (457, 1), (458, 1), (459, 1), (460, 1), (461, 1), (462, 1), (463, 2), (464, 2), (465, 3), (466, 1), (467, 2), (468, 3), (469, 1), (470, 1), (471, 1), (472, 1), (473, 1), (474, 8), (475, 1), (476, 1), (477, 1), (478, 1), (479, 2), (480, 4), (481, 1), (482, 1), (483, 1), (484, 1), (485, 4), (486, 2), (487, 1), (488, 1), (489, 3), (490, 4), (491, 1), (492, 1), (493, 7), (494, 9), (495, 2), (496, 1), (497, 2), (498, 11), (499, 1), (500, 1), (501, 1), (502, 1), (503, 1), (504, 1), (505, 1), (506, 1), (507, 1), (508, 4), (509, 1), (510, 1), (511, 1), (512, 1), (513, 1), (514, 1), (515, 1), (516, 1), (517, 2), (518, 1), (519, 4), (520, 3), (521, 2), (522, 1), (523, 4), (524, 1), (525, 1), (526, 9), (527, 2), (528, 1), (529, 4), (530, 1), (531, 1), (532, 4), (533, 2), (534, 1), (535, 1), (536, 12), (537, 2), (538, 6), (539, 1), (540, 2), (541, 2), (542, 2), (543, 2), (544, 1), (545, 3), (546, 1), (547, 1), (548, 15), (549, 5), (550, 1), (551, 1), (552, 1), (553, 1), (554, 1), (555, 7), (556, 2), (557, 1), (558, 2), (559, 2), (560, 2), (561, 2), (562, 1), (563, 7), (564, 4), (565, 1), (566, 1), (567, 4), (568, 1), (569, 1), (570, 12), (571, 2), (572, 1), (573, 1), (574, 8), (575, 2), (576, 1), (577, 1), (578, 2), (579, 5), (580, 27), (581, 10), (582, 2), (583, 1), (584, 1), (585, 1), (586, 1), (587, 2)]]\n"
     ]
    }
   ],
   "source": [
    "# Create Corpus\n",
    "texts = data_lemmatized\n",
    "\n",
    "# Term Document Frequency\n",
    "corpus = [id2word.doc2bow(text) for text in texts]\n",
    "\n",
    "# View\n",
    "print(corpus[:1])"
   ]
  },
  {
   "cell_type": "markdown",
   "metadata": {},
   "source": [
    "#  4. LDA Model"
   ]
  },
  {
   "cell_type": "markdown",
   "metadata": {},
   "source": [
    "### 4.1. Building LDA Model, Perparameter/Hyperparameter tuning"
   ]
  },
  {
   "cell_type": "code",
   "execution_count": 218,
   "metadata": {},
   "outputs": [],
   "source": [
    "# set training parameters and hyperameters\n",
    "k = 20\n",
    "passes = 20\n",
    "iterations = 100\n",
    "alpha = 50.0/k   \n",
    "eta = 0.01\n",
    "random_state = 12345\n",
    "minimum_probability = 0"
   ]
  },
  {
   "cell_type": "markdown",
   "metadata": {},
   "source": [
    "Plot the coherence score against number of topics to identify the opitmal k"
   ]
  },
  {
   "cell_type": "code",
   "execution_count": 219,
   "metadata": {},
   "outputs": [],
   "source": [
    "#start=3; limit=63; step=3\n",
    "#coherence_values = []\n",
    "#model_list = []\n",
    "#for i in range(start,limit,step):\n",
    "    #model = gensim.models.LdaModel(corpus = corpus,id2word = id2word,alpha = alpha,eta = eta,\n",
    "    #                               iterations = iterations,num_topics = i,passes = passes,random_state = 12345,minimum_probability = minimum_probability)\n",
    "    #model_list.append(model)\n",
    "    #coherencemodel = CoherenceModel(model=model, texts=texts, dictionary=id2word, coherence='c_v')\n",
    "    #coherence_values.append(coherencemodel.get_coherence())"
   ]
  },
  {
   "cell_type": "code",
   "execution_count": 220,
   "metadata": {},
   "outputs": [],
   "source": [
    "#list_num_topics = [i for i in range(start, limit, step)]\n",
    "#df_coherence1 = pd.DataFrame({'Number_of_Topics': list_num_topics, 'Coherence_Score': coherence_values})\n",
    "#save the result to disk\n",
    "#df_coherence1.to_pickle('./df_coherence1.pkl')\n",
    "#load the result from disk\n",
    "#df_coherence = pd.read_pickle('./df_coherence1.pkl') "
   ]
  },
  {
   "cell_type": "code",
   "execution_count": 221,
   "metadata": {},
   "outputs": [],
   "source": [
    "#fig1 = px.line(df_coherence, x = 'Number_of_Topics', y = \"Coherence_Score\", title = 'Coherence scores against number of topics')\n",
    "#fig1.update_layout(autosize=False, width=1000, height=400)\n",
    "#fig1.update_traces(mode = \"lines + markers\")\n",
    "#fig1.show()"
   ]
  },
  {
   "cell_type": "code",
   "execution_count": 222,
   "metadata": {},
   "outputs": [],
   "source": [
    "# num of topics = 15 to get the optimal coherence socre\n",
    "k = 15\n",
    "lda_model = gensim.models.LdaModel(\n",
    "    corpus = corpus,\n",
    "    id2word = id2word,\n",
    "    alpha = alpha,\n",
    "    eta = eta,\n",
    "    iterations = iterations,\n",
    "    num_topics = k,\n",
    "    passes = passes,\n",
    "    random_state = 12345,\n",
    "    minimum_probability = minimum_probability)"
   ]
  },
  {
   "cell_type": "markdown",
   "metadata": {},
   "source": [
    "### 4.2. Topic distribution of documents"
   ]
  },
  {
   "cell_type": "code",
   "execution_count": 223,
   "metadata": {},
   "outputs": [],
   "source": [
    "# create the function for converting a list of tuples into a dictionary\n",
    "def Convert(tup, di):\n",
    "    di = dict(tup)\n",
    "    return di"
   ]
  },
  {
   "cell_type": "code",
   "execution_count": 224,
   "metadata": {},
   "outputs": [
    {
     "data": {
      "text/html": [
       "<div>\n",
       "<style scoped>\n",
       "    .dataframe tbody tr th:only-of-type {\n",
       "        vertical-align: middle;\n",
       "    }\n",
       "\n",
       "    .dataframe tbody tr th {\n",
       "        vertical-align: top;\n",
       "    }\n",
       "\n",
       "    .dataframe thead th {\n",
       "        text-align: right;\n",
       "    }\n",
       "</style>\n",
       "<table border=\"1\" class=\"dataframe\">\n",
       "  <thead>\n",
       "    <tr style=\"text-align: right;\">\n",
       "      <th></th>\n",
       "      <th>author</th>\n",
       "      <th>creationDate</th>\n",
       "      <th>file_name</th>\n",
       "      <th>Content</th>\n",
       "      <th>document_id</th>\n",
       "      <th>Word_count</th>\n",
       "      <th>1</th>\n",
       "      <th>2</th>\n",
       "      <th>3</th>\n",
       "      <th>4</th>\n",
       "      <th>...</th>\n",
       "      <th>6</th>\n",
       "      <th>7</th>\n",
       "      <th>8</th>\n",
       "      <th>9</th>\n",
       "      <th>10</th>\n",
       "      <th>11</th>\n",
       "      <th>12</th>\n",
       "      <th>13</th>\n",
       "      <th>14</th>\n",
       "      <th>15</th>\n",
       "    </tr>\n",
       "  </thead>\n",
       "  <tbody>\n",
       "    <tr>\n",
       "      <th>0</th>\n",
       "      <td>B Lewis</td>\n",
       "      <td>D:20210822083603+00'00'</td>\n",
       "      <td>Examination_of_Witnesses_Sept_2003_-_Q1-19.pdf</td>\n",
       "      <td>Examination of Witnesses (1-19) \\n16 SEPTEMBER...</td>\n",
       "      <td>0</td>\n",
       "      <td>6115</td>\n",
       "      <td>0.004820</td>\n",
       "      <td>0.011355</td>\n",
       "      <td>0.032990</td>\n",
       "      <td>0.012826</td>\n",
       "      <td>...</td>\n",
       "      <td>0.663834</td>\n",
       "      <td>0.019587</td>\n",
       "      <td>0.014590</td>\n",
       "      <td>0.091884</td>\n",
       "      <td>0.008266</td>\n",
       "      <td>0.052450</td>\n",
       "      <td>0.003564</td>\n",
       "      <td>0.057776</td>\n",
       "      <td>0.015176</td>\n",
       "      <td>0.006010</td>\n",
       "    </tr>\n",
       "    <tr>\n",
       "      <th>1</th>\n",
       "      <td>B Lewis</td>\n",
       "      <td>D:20210822083606+00'00'</td>\n",
       "      <td>Examination_of_Witnesses_Sept_2003_-_Q20-39.pdf</td>\n",
       "      <td>Examination of Witnesses (20-39) \\n16 SEPTEMBE...</td>\n",
       "      <td>1</td>\n",
       "      <td>4002</td>\n",
       "      <td>0.010785</td>\n",
       "      <td>0.039997</td>\n",
       "      <td>0.026004</td>\n",
       "      <td>0.006935</td>\n",
       "      <td>...</td>\n",
       "      <td>0.717799</td>\n",
       "      <td>0.008112</td>\n",
       "      <td>0.021213</td>\n",
       "      <td>0.075689</td>\n",
       "      <td>0.010199</td>\n",
       "      <td>0.010522</td>\n",
       "      <td>0.007809</td>\n",
       "      <td>0.011441</td>\n",
       "      <td>0.025342</td>\n",
       "      <td>0.009812</td>\n",
       "    </tr>\n",
       "    <tr>\n",
       "      <th>2</th>\n",
       "      <td>B Lewis</td>\n",
       "      <td>D:20210822083609+00'00'</td>\n",
       "      <td>Examination_of_Witnesses_Sept_2003_-_Q40-44.pdf</td>\n",
       "      <td>Examination of Witnesses (40-44) \\n16 SEPTEMBE...</td>\n",
       "      <td>2</td>\n",
       "      <td>1007</td>\n",
       "      <td>0.024581</td>\n",
       "      <td>0.030571</td>\n",
       "      <td>0.084446</td>\n",
       "      <td>0.018693</td>\n",
       "      <td>...</td>\n",
       "      <td>0.580960</td>\n",
       "      <td>0.020036</td>\n",
       "      <td>0.028731</td>\n",
       "      <td>0.060172</td>\n",
       "      <td>0.021893</td>\n",
       "      <td>0.018353</td>\n",
       "      <td>0.020019</td>\n",
       "      <td>0.021789</td>\n",
       "      <td>0.026806</td>\n",
       "      <td>0.022368</td>\n",
       "    </tr>\n",
       "    <tr>\n",
       "      <th>3</th>\n",
       "      <td>Bronwen Lewis</td>\n",
       "      <td>D:20210822084116+00'00'</td>\n",
       "      <td>Further_supplementary_memorandum_submitted_by_...</td>\n",
       "      <td>Further supplementary memorandum submitted by ...</td>\n",
       "      <td>3</td>\n",
       "      <td>431</td>\n",
       "      <td>0.040956</td>\n",
       "      <td>0.049721</td>\n",
       "      <td>0.026363</td>\n",
       "      <td>0.268673</td>\n",
       "      <td>...</td>\n",
       "      <td>0.022124</td>\n",
       "      <td>0.085368</td>\n",
       "      <td>0.022797</td>\n",
       "      <td>0.022044</td>\n",
       "      <td>0.235568</td>\n",
       "      <td>0.111551</td>\n",
       "      <td>0.021174</td>\n",
       "      <td>0.020154</td>\n",
       "      <td>0.028024</td>\n",
       "      <td>0.023715</td>\n",
       "    </tr>\n",
       "    <tr>\n",
       "      <th>4</th>\n",
       "      <td>Bronwen Lewis</td>\n",
       "      <td>D:20210822083921+00'00'</td>\n",
       "      <td>Further_Supplementary_Memorandum_submitted_by_...</td>\n",
       "      <td>Further supplementary memorandum submitted by ...</td>\n",
       "      <td>4</td>\n",
       "      <td>288</td>\n",
       "      <td>0.033830</td>\n",
       "      <td>0.214867</td>\n",
       "      <td>0.099047</td>\n",
       "      <td>0.049259</td>\n",
       "      <td>...</td>\n",
       "      <td>0.056045</td>\n",
       "      <td>0.112267</td>\n",
       "      <td>0.038180</td>\n",
       "      <td>0.079453</td>\n",
       "      <td>0.044316</td>\n",
       "      <td>0.064786</td>\n",
       "      <td>0.031144</td>\n",
       "      <td>0.037890</td>\n",
       "      <td>0.043030</td>\n",
       "      <td>0.055079</td>\n",
       "    </tr>\n",
       "    <tr>\n",
       "      <th>...</th>\n",
       "      <td>...</td>\n",
       "      <td>...</td>\n",
       "      <td>...</td>\n",
       "      <td>...</td>\n",
       "      <td>...</td>\n",
       "      <td>...</td>\n",
       "      <td>...</td>\n",
       "      <td>...</td>\n",
       "      <td>...</td>\n",
       "      <td>...</td>\n",
       "      <td>...</td>\n",
       "      <td>...</td>\n",
       "      <td>...</td>\n",
       "      <td>...</td>\n",
       "      <td>...</td>\n",
       "      <td>...</td>\n",
       "      <td>...</td>\n",
       "      <td>...</td>\n",
       "      <td>...</td>\n",
       "      <td>...</td>\n",
       "      <td>...</td>\n",
       "    </tr>\n",
       "    <tr>\n",
       "      <th>164</th>\n",
       "      <td>Bronwen Lewis</td>\n",
       "      <td>D:20210822084528+00'00'</td>\n",
       "      <td>Written_evidence_submitted_by_UK_Sport_-_Jan_2...</td>\n",
       "      <td>Written evidence submitted by UK Sport  \\n \\n ...</td>\n",
       "      <td>164</td>\n",
       "      <td>3089</td>\n",
       "      <td>0.012864</td>\n",
       "      <td>0.035563</td>\n",
       "      <td>0.009788</td>\n",
       "      <td>0.006837</td>\n",
       "      <td>...</td>\n",
       "      <td>0.025465</td>\n",
       "      <td>0.007117</td>\n",
       "      <td>0.515936</td>\n",
       "      <td>0.041069</td>\n",
       "      <td>0.006454</td>\n",
       "      <td>0.007099</td>\n",
       "      <td>0.010358</td>\n",
       "      <td>0.263849</td>\n",
       "      <td>0.011717</td>\n",
       "      <td>0.030494</td>\n",
       "    </tr>\n",
       "    <tr>\n",
       "      <th>165</th>\n",
       "      <td>Bronwen Lewis</td>\n",
       "      <td>D:20210822084531+00'00'</td>\n",
       "      <td>Written_evidence_submitted_by_Vision_2020_UK_-...</td>\n",
       "      <td>Written evidence submitted by Vision 2020 UK  ...</td>\n",
       "      <td>165</td>\n",
       "      <td>2284</td>\n",
       "      <td>0.004715</td>\n",
       "      <td>0.004972</td>\n",
       "      <td>0.005505</td>\n",
       "      <td>0.004796</td>\n",
       "      <td>...</td>\n",
       "      <td>0.004288</td>\n",
       "      <td>0.005174</td>\n",
       "      <td>0.005367</td>\n",
       "      <td>0.004263</td>\n",
       "      <td>0.006522</td>\n",
       "      <td>0.004256</td>\n",
       "      <td>0.004678</td>\n",
       "      <td>0.006269</td>\n",
       "      <td>0.007911</td>\n",
       "      <td>0.004397</td>\n",
       "    </tr>\n",
       "    <tr>\n",
       "      <th>166</th>\n",
       "      <td>Bronwen Lewis</td>\n",
       "      <td>D:20210822084535+00'00'</td>\n",
       "      <td>Written_evidence_submitted_by_VisitBritain_-_J...</td>\n",
       "      <td>Written evidence submitted by VisitBritain  \\n...</td>\n",
       "      <td>166</td>\n",
       "      <td>2372</td>\n",
       "      <td>0.012091</td>\n",
       "      <td>0.007760</td>\n",
       "      <td>0.015914</td>\n",
       "      <td>0.006989</td>\n",
       "      <td>...</td>\n",
       "      <td>0.066306</td>\n",
       "      <td>0.013051</td>\n",
       "      <td>0.015264</td>\n",
       "      <td>0.012516</td>\n",
       "      <td>0.009403</td>\n",
       "      <td>0.009534</td>\n",
       "      <td>0.005359</td>\n",
       "      <td>0.026393</td>\n",
       "      <td>0.622641</td>\n",
       "      <td>0.170108</td>\n",
       "    </tr>\n",
       "    <tr>\n",
       "      <th>167</th>\n",
       "      <td>Bronwen Lewis</td>\n",
       "      <td>D:20210822084543+00'00'</td>\n",
       "      <td>Written_evidence_submitted_by_Womens_Sport_and...</td>\n",
       "      <td>Written evidence submitted by the Women's Spor...</td>\n",
       "      <td>167</td>\n",
       "      <td>1966</td>\n",
       "      <td>0.008041</td>\n",
       "      <td>0.013320</td>\n",
       "      <td>0.026277</td>\n",
       "      <td>0.011300</td>\n",
       "      <td>...</td>\n",
       "      <td>0.015589</td>\n",
       "      <td>0.013262</td>\n",
       "      <td>0.019673</td>\n",
       "      <td>0.008634</td>\n",
       "      <td>0.015239</td>\n",
       "      <td>0.012286</td>\n",
       "      <td>0.006389</td>\n",
       "      <td>0.816624</td>\n",
       "      <td>0.013542</td>\n",
       "      <td>0.007976</td>\n",
       "    </tr>\n",
       "    <tr>\n",
       "      <th>168</th>\n",
       "      <td>Bronwen Lewis</td>\n",
       "      <td>D:20210822084546+00'00'</td>\n",
       "      <td>Written_evidence_submitted_by_Youth_Sport_Trus...</td>\n",
       "      <td>Written evidence submitted by Youth Sport Trus...</td>\n",
       "      <td>168</td>\n",
       "      <td>2682</td>\n",
       "      <td>0.004482</td>\n",
       "      <td>0.008481</td>\n",
       "      <td>0.006143</td>\n",
       "      <td>0.006481</td>\n",
       "      <td>...</td>\n",
       "      <td>0.006705</td>\n",
       "      <td>0.004664</td>\n",
       "      <td>0.056814</td>\n",
       "      <td>0.007349</td>\n",
       "      <td>0.005895</td>\n",
       "      <td>0.005618</td>\n",
       "      <td>0.004621</td>\n",
       "      <td>0.765601</td>\n",
       "      <td>0.008619</td>\n",
       "      <td>0.008475</td>\n",
       "    </tr>\n",
       "  </tbody>\n",
       "</table>\n",
       "<p>169 rows × 21 columns</p>\n",
       "</div>"
      ],
      "text/plain": [
       "            author             creationDate  \\\n",
       "0          B Lewis  D:20210822083603+00'00'   \n",
       "1          B Lewis  D:20210822083606+00'00'   \n",
       "2          B Lewis  D:20210822083609+00'00'   \n",
       "3    Bronwen Lewis  D:20210822084116+00'00'   \n",
       "4    Bronwen Lewis  D:20210822083921+00'00'   \n",
       "..             ...                      ...   \n",
       "164  Bronwen Lewis  D:20210822084528+00'00'   \n",
       "165  Bronwen Lewis  D:20210822084531+00'00'   \n",
       "166  Bronwen Lewis  D:20210822084535+00'00'   \n",
       "167  Bronwen Lewis  D:20210822084543+00'00'   \n",
       "168  Bronwen Lewis  D:20210822084546+00'00'   \n",
       "\n",
       "                                             file_name  \\\n",
       "0       Examination_of_Witnesses_Sept_2003_-_Q1-19.pdf   \n",
       "1      Examination_of_Witnesses_Sept_2003_-_Q20-39.pdf   \n",
       "2      Examination_of_Witnesses_Sept_2003_-_Q40-44.pdf   \n",
       "3    Further_supplementary_memorandum_submitted_by_...   \n",
       "4    Further_Supplementary_Memorandum_submitted_by_...   \n",
       "..                                                 ...   \n",
       "164  Written_evidence_submitted_by_UK_Sport_-_Jan_2...   \n",
       "165  Written_evidence_submitted_by_Vision_2020_UK_-...   \n",
       "166  Written_evidence_submitted_by_VisitBritain_-_J...   \n",
       "167  Written_evidence_submitted_by_Womens_Sport_and...   \n",
       "168  Written_evidence_submitted_by_Youth_Sport_Trus...   \n",
       "\n",
       "                                               Content  document_id  \\\n",
       "0    Examination of Witnesses (1-19) \\n16 SEPTEMBER...            0   \n",
       "1    Examination of Witnesses (20-39) \\n16 SEPTEMBE...            1   \n",
       "2    Examination of Witnesses (40-44) \\n16 SEPTEMBE...            2   \n",
       "3    Further supplementary memorandum submitted by ...            3   \n",
       "4    Further supplementary memorandum submitted by ...            4   \n",
       "..                                                 ...          ...   \n",
       "164  Written evidence submitted by UK Sport  \\n \\n ...          164   \n",
       "165  Written evidence submitted by Vision 2020 UK  ...          165   \n",
       "166  Written evidence submitted by VisitBritain  \\n...          166   \n",
       "167  Written evidence submitted by the Women's Spor...          167   \n",
       "168  Written evidence submitted by Youth Sport Trus...          168   \n",
       "\n",
       "     Word_count         1         2         3         4  ...         6  \\\n",
       "0          6115  0.004820  0.011355  0.032990  0.012826  ...  0.663834   \n",
       "1          4002  0.010785  0.039997  0.026004  0.006935  ...  0.717799   \n",
       "2          1007  0.024581  0.030571  0.084446  0.018693  ...  0.580960   \n",
       "3           431  0.040956  0.049721  0.026363  0.268673  ...  0.022124   \n",
       "4           288  0.033830  0.214867  0.099047  0.049259  ...  0.056045   \n",
       "..          ...       ...       ...       ...       ...  ...       ...   \n",
       "164        3089  0.012864  0.035563  0.009788  0.006837  ...  0.025465   \n",
       "165        2284  0.004715  0.004972  0.005505  0.004796  ...  0.004288   \n",
       "166        2372  0.012091  0.007760  0.015914  0.006989  ...  0.066306   \n",
       "167        1966  0.008041  0.013320  0.026277  0.011300  ...  0.015589   \n",
       "168        2682  0.004482  0.008481  0.006143  0.006481  ...  0.006705   \n",
       "\n",
       "            7         8         9        10        11        12        13  \\\n",
       "0    0.019587  0.014590  0.091884  0.008266  0.052450  0.003564  0.057776   \n",
       "1    0.008112  0.021213  0.075689  0.010199  0.010522  0.007809  0.011441   \n",
       "2    0.020036  0.028731  0.060172  0.021893  0.018353  0.020019  0.021789   \n",
       "3    0.085368  0.022797  0.022044  0.235568  0.111551  0.021174  0.020154   \n",
       "4    0.112267  0.038180  0.079453  0.044316  0.064786  0.031144  0.037890   \n",
       "..        ...       ...       ...       ...       ...       ...       ...   \n",
       "164  0.007117  0.515936  0.041069  0.006454  0.007099  0.010358  0.263849   \n",
       "165  0.005174  0.005367  0.004263  0.006522  0.004256  0.004678  0.006269   \n",
       "166  0.013051  0.015264  0.012516  0.009403  0.009534  0.005359  0.026393   \n",
       "167  0.013262  0.019673  0.008634  0.015239  0.012286  0.006389  0.816624   \n",
       "168  0.004664  0.056814  0.007349  0.005895  0.005618  0.004621  0.765601   \n",
       "\n",
       "           14        15  \n",
       "0    0.015176  0.006010  \n",
       "1    0.025342  0.009812  \n",
       "2    0.026806  0.022368  \n",
       "3    0.028024  0.023715  \n",
       "4    0.043030  0.055079  \n",
       "..        ...       ...  \n",
       "164  0.011717  0.030494  \n",
       "165  0.007911  0.004397  \n",
       "166  0.622641  0.170108  \n",
       "167  0.013542  0.007976  \n",
       "168  0.008619  0.008475  \n",
       "\n",
       "[169 rows x 21 columns]"
      ]
     },
     "execution_count": 224,
     "metadata": {},
     "output_type": "execute_result"
    }
   ],
   "source": [
    "# topic distribution of documents\n",
    "list_topic = []\n",
    "dictionary_topic = {}\n",
    "for d in texts:\n",
    "    bow = id2word.doc2bow(d)\n",
    "    belong = lda_model[bow]                        # generate a list of tuples of topic distribution of a document\n",
    "    belong_dic = Convert(belong, dictionary_topic) # convert the list of tuples into a dictionary\n",
    "    list_topic.append(belong_dic)           \n",
    "                      \n",
    "df_topic_distribution = pd.DataFrame(list_topic)   # convert the list of dictionaries into a dataframe\n",
    "\n",
    "# rename the topic IDs to ensure they are as same as the topic IDs in the pyLDAvis\n",
    "original_topic_id = [*df_topic_distribution]; new_topic_id = [x + 1 for x in original_topic_id]\n",
    "df_topic_distribution = df_topic_distribution.rename(columns = dict(zip(original_topic_id, new_topic_id))) #rename the topic IDs to ensure they are as same as the topic IDs in the pyLDAvis\n",
    "df_topic = pd.merge(df, df_topic_distribution, how = 'left', left_index=True, right_index=True) # merge with info of documents\n",
    "df_topic.drop(['title','format','creator', 'producer', 'keywords', 'trapped', 'encryption','subject', 'modDate'], axis = 1)"
   ]
  },
  {
   "cell_type": "markdown",
   "metadata": {},
   "source": [
    "# 5. Topic interpretation tools"
   ]
  },
  {
   "cell_type": "markdown",
   "metadata": {},
   "source": [
    "I first identify the salient topics defined by PTBI proposed by Marchetti and Puranam (2020), then combine both the topic visualisation of pyLDAvis and the prototypical texts defined by PTBI to facilitate the topic interpretation."
   ]
  },
  {
   "cell_type": "markdown",
   "metadata": {},
   "source": [
    "##  5.1. Salient topics for interpretation\n",
    "PTBI assumes that the topics with little salience are not worthy of interpretation. To extract the most salient topics for interpretation, for each topic, we need to compute the fraction of documents with the probability that the document belongs to the topic is more than > 1/K (Marchetti and Puranam, 2020, p. 14), and I defined the fraction as the “salience” of the topic. "
   ]
  },
  {
   "cell_type": "markdown",
   "metadata": {},
   "source": [
    "The scree plot below shows that when the topics are sorted by salience in descending order, the salience tends to level off on topic 5, as a result, we can select the topics ahead of topic 5 as the salient topics for interpretation."
   ]
  },
  {
   "cell_type": "code",
   "execution_count": 225,
   "metadata": {},
   "outputs": [],
   "source": [
    "# compute salience: the fraction of documents with the probability that the document belongs to the topic is more than > 1/K for each document\n",
    "list_percent_above = []\n",
    "for i in df_topic_distribution:\n",
    "    num_above = df_topic_distribution[i][df_topic_distribution[i] > 1/k].count()\n",
    "    percent_above =  num_above/len(df_topic_distribution)\n",
    "    list_percent_above.append(percent_above)\n",
    "    \n",
    "df_salient_topic = pd.DataFrame({'topic_ID':  [str(i) for i in new_topic_id], 'salience': list_percent_above}).sort_values(\n",
    "    by = 'salience', ascending = False)"
   ]
  },
  {
   "cell_type": "code",
   "execution_count": 226,
   "metadata": {},
   "outputs": [
    {
     "data": {
      "application/vnd.plotly.v1+json": {
       "config": {
        "plotlyServerURL": "https://plotly.com"
       },
       "data": [
        {
         "hovertemplate": "topic_ID=%{x}<br>salience=%{y}<extra></extra>",
         "legendgroup": "",
         "line": {
          "color": "#636efa",
          "dash": "solid"
         },
         "mode": "lines+markers",
         "name": "",
         "orientation": "v",
         "showlegend": false,
         "type": "scatter",
         "x": [
          "14",
          "6",
          "15",
          "13",
          "11",
          "9",
          "2",
          "3",
          "4",
          "8",
          "10",
          "5",
          "7",
          "1",
          "12"
         ],
         "xaxis": "x",
         "y": [
          0.4378698224852071,
          0.3668639053254438,
          0.30177514792899407,
          0.28994082840236685,
          0.26627218934911245,
          0.2485207100591716,
          0.22485207100591717,
          0.21301775147928995,
          0.20710059171597633,
          0.16568047337278108,
          0.11834319526627218,
          0.0650887573964497,
          0.0650887573964497,
          0.011834319526627219,
          0
         ],
         "yaxis": "y"
        }
       ],
       "layout": {
        "autosize": false,
        "height": 400,
        "legend": {
         "tracegroupgap": 0
        },
        "template": {
         "data": {
          "bar": [
           {
            "error_x": {
             "color": "#2a3f5f"
            },
            "error_y": {
             "color": "#2a3f5f"
            },
            "marker": {
             "line": {
              "color": "#E5ECF6",
              "width": 0.5
             }
            },
            "type": "bar"
           }
          ],
          "barpolar": [
           {
            "marker": {
             "line": {
              "color": "#E5ECF6",
              "width": 0.5
             }
            },
            "type": "barpolar"
           }
          ],
          "carpet": [
           {
            "aaxis": {
             "endlinecolor": "#2a3f5f",
             "gridcolor": "white",
             "linecolor": "white",
             "minorgridcolor": "white",
             "startlinecolor": "#2a3f5f"
            },
            "baxis": {
             "endlinecolor": "#2a3f5f",
             "gridcolor": "white",
             "linecolor": "white",
             "minorgridcolor": "white",
             "startlinecolor": "#2a3f5f"
            },
            "type": "carpet"
           }
          ],
          "choropleth": [
           {
            "colorbar": {
             "outlinewidth": 0,
             "ticks": ""
            },
            "type": "choropleth"
           }
          ],
          "contour": [
           {
            "colorbar": {
             "outlinewidth": 0,
             "ticks": ""
            },
            "colorscale": [
             [
              0,
              "#0d0887"
             ],
             [
              0.1111111111111111,
              "#46039f"
             ],
             [
              0.2222222222222222,
              "#7201a8"
             ],
             [
              0.3333333333333333,
              "#9c179e"
             ],
             [
              0.4444444444444444,
              "#bd3786"
             ],
             [
              0.5555555555555556,
              "#d8576b"
             ],
             [
              0.6666666666666666,
              "#ed7953"
             ],
             [
              0.7777777777777778,
              "#fb9f3a"
             ],
             [
              0.8888888888888888,
              "#fdca26"
             ],
             [
              1,
              "#f0f921"
             ]
            ],
            "type": "contour"
           }
          ],
          "contourcarpet": [
           {
            "colorbar": {
             "outlinewidth": 0,
             "ticks": ""
            },
            "type": "contourcarpet"
           }
          ],
          "heatmap": [
           {
            "colorbar": {
             "outlinewidth": 0,
             "ticks": ""
            },
            "colorscale": [
             [
              0,
              "#0d0887"
             ],
             [
              0.1111111111111111,
              "#46039f"
             ],
             [
              0.2222222222222222,
              "#7201a8"
             ],
             [
              0.3333333333333333,
              "#9c179e"
             ],
             [
              0.4444444444444444,
              "#bd3786"
             ],
             [
              0.5555555555555556,
              "#d8576b"
             ],
             [
              0.6666666666666666,
              "#ed7953"
             ],
             [
              0.7777777777777778,
              "#fb9f3a"
             ],
             [
              0.8888888888888888,
              "#fdca26"
             ],
             [
              1,
              "#f0f921"
             ]
            ],
            "type": "heatmap"
           }
          ],
          "heatmapgl": [
           {
            "colorbar": {
             "outlinewidth": 0,
             "ticks": ""
            },
            "colorscale": [
             [
              0,
              "#0d0887"
             ],
             [
              0.1111111111111111,
              "#46039f"
             ],
             [
              0.2222222222222222,
              "#7201a8"
             ],
             [
              0.3333333333333333,
              "#9c179e"
             ],
             [
              0.4444444444444444,
              "#bd3786"
             ],
             [
              0.5555555555555556,
              "#d8576b"
             ],
             [
              0.6666666666666666,
              "#ed7953"
             ],
             [
              0.7777777777777778,
              "#fb9f3a"
             ],
             [
              0.8888888888888888,
              "#fdca26"
             ],
             [
              1,
              "#f0f921"
             ]
            ],
            "type": "heatmapgl"
           }
          ],
          "histogram": [
           {
            "marker": {
             "colorbar": {
              "outlinewidth": 0,
              "ticks": ""
             }
            },
            "type": "histogram"
           }
          ],
          "histogram2d": [
           {
            "colorbar": {
             "outlinewidth": 0,
             "ticks": ""
            },
            "colorscale": [
             [
              0,
              "#0d0887"
             ],
             [
              0.1111111111111111,
              "#46039f"
             ],
             [
              0.2222222222222222,
              "#7201a8"
             ],
             [
              0.3333333333333333,
              "#9c179e"
             ],
             [
              0.4444444444444444,
              "#bd3786"
             ],
             [
              0.5555555555555556,
              "#d8576b"
             ],
             [
              0.6666666666666666,
              "#ed7953"
             ],
             [
              0.7777777777777778,
              "#fb9f3a"
             ],
             [
              0.8888888888888888,
              "#fdca26"
             ],
             [
              1,
              "#f0f921"
             ]
            ],
            "type": "histogram2d"
           }
          ],
          "histogram2dcontour": [
           {
            "colorbar": {
             "outlinewidth": 0,
             "ticks": ""
            },
            "colorscale": [
             [
              0,
              "#0d0887"
             ],
             [
              0.1111111111111111,
              "#46039f"
             ],
             [
              0.2222222222222222,
              "#7201a8"
             ],
             [
              0.3333333333333333,
              "#9c179e"
             ],
             [
              0.4444444444444444,
              "#bd3786"
             ],
             [
              0.5555555555555556,
              "#d8576b"
             ],
             [
              0.6666666666666666,
              "#ed7953"
             ],
             [
              0.7777777777777778,
              "#fb9f3a"
             ],
             [
              0.8888888888888888,
              "#fdca26"
             ],
             [
              1,
              "#f0f921"
             ]
            ],
            "type": "histogram2dcontour"
           }
          ],
          "mesh3d": [
           {
            "colorbar": {
             "outlinewidth": 0,
             "ticks": ""
            },
            "type": "mesh3d"
           }
          ],
          "parcoords": [
           {
            "line": {
             "colorbar": {
              "outlinewidth": 0,
              "ticks": ""
             }
            },
            "type": "parcoords"
           }
          ],
          "pie": [
           {
            "automargin": true,
            "type": "pie"
           }
          ],
          "scatter": [
           {
            "marker": {
             "colorbar": {
              "outlinewidth": 0,
              "ticks": ""
             }
            },
            "type": "scatter"
           }
          ],
          "scatter3d": [
           {
            "line": {
             "colorbar": {
              "outlinewidth": 0,
              "ticks": ""
             }
            },
            "marker": {
             "colorbar": {
              "outlinewidth": 0,
              "ticks": ""
             }
            },
            "type": "scatter3d"
           }
          ],
          "scattercarpet": [
           {
            "marker": {
             "colorbar": {
              "outlinewidth": 0,
              "ticks": ""
             }
            },
            "type": "scattercarpet"
           }
          ],
          "scattergeo": [
           {
            "marker": {
             "colorbar": {
              "outlinewidth": 0,
              "ticks": ""
             }
            },
            "type": "scattergeo"
           }
          ],
          "scattergl": [
           {
            "marker": {
             "colorbar": {
              "outlinewidth": 0,
              "ticks": ""
             }
            },
            "type": "scattergl"
           }
          ],
          "scattermapbox": [
           {
            "marker": {
             "colorbar": {
              "outlinewidth": 0,
              "ticks": ""
             }
            },
            "type": "scattermapbox"
           }
          ],
          "scatterpolar": [
           {
            "marker": {
             "colorbar": {
              "outlinewidth": 0,
              "ticks": ""
             }
            },
            "type": "scatterpolar"
           }
          ],
          "scatterpolargl": [
           {
            "marker": {
             "colorbar": {
              "outlinewidth": 0,
              "ticks": ""
             }
            },
            "type": "scatterpolargl"
           }
          ],
          "scatterternary": [
           {
            "marker": {
             "colorbar": {
              "outlinewidth": 0,
              "ticks": ""
             }
            },
            "type": "scatterternary"
           }
          ],
          "surface": [
           {
            "colorbar": {
             "outlinewidth": 0,
             "ticks": ""
            },
            "colorscale": [
             [
              0,
              "#0d0887"
             ],
             [
              0.1111111111111111,
              "#46039f"
             ],
             [
              0.2222222222222222,
              "#7201a8"
             ],
             [
              0.3333333333333333,
              "#9c179e"
             ],
             [
              0.4444444444444444,
              "#bd3786"
             ],
             [
              0.5555555555555556,
              "#d8576b"
             ],
             [
              0.6666666666666666,
              "#ed7953"
             ],
             [
              0.7777777777777778,
              "#fb9f3a"
             ],
             [
              0.8888888888888888,
              "#fdca26"
             ],
             [
              1,
              "#f0f921"
             ]
            ],
            "type": "surface"
           }
          ],
          "table": [
           {
            "cells": {
             "fill": {
              "color": "#EBF0F8"
             },
             "line": {
              "color": "white"
             }
            },
            "header": {
             "fill": {
              "color": "#C8D4E3"
             },
             "line": {
              "color": "white"
             }
            },
            "type": "table"
           }
          ]
         },
         "layout": {
          "annotationdefaults": {
           "arrowcolor": "#2a3f5f",
           "arrowhead": 0,
           "arrowwidth": 1
          },
          "autotypenumbers": "strict",
          "coloraxis": {
           "colorbar": {
            "outlinewidth": 0,
            "ticks": ""
           }
          },
          "colorscale": {
           "diverging": [
            [
             0,
             "#8e0152"
            ],
            [
             0.1,
             "#c51b7d"
            ],
            [
             0.2,
             "#de77ae"
            ],
            [
             0.3,
             "#f1b6da"
            ],
            [
             0.4,
             "#fde0ef"
            ],
            [
             0.5,
             "#f7f7f7"
            ],
            [
             0.6,
             "#e6f5d0"
            ],
            [
             0.7,
             "#b8e186"
            ],
            [
             0.8,
             "#7fbc41"
            ],
            [
             0.9,
             "#4d9221"
            ],
            [
             1,
             "#276419"
            ]
           ],
           "sequential": [
            [
             0,
             "#0d0887"
            ],
            [
             0.1111111111111111,
             "#46039f"
            ],
            [
             0.2222222222222222,
             "#7201a8"
            ],
            [
             0.3333333333333333,
             "#9c179e"
            ],
            [
             0.4444444444444444,
             "#bd3786"
            ],
            [
             0.5555555555555556,
             "#d8576b"
            ],
            [
             0.6666666666666666,
             "#ed7953"
            ],
            [
             0.7777777777777778,
             "#fb9f3a"
            ],
            [
             0.8888888888888888,
             "#fdca26"
            ],
            [
             1,
             "#f0f921"
            ]
           ],
           "sequentialminus": [
            [
             0,
             "#0d0887"
            ],
            [
             0.1111111111111111,
             "#46039f"
            ],
            [
             0.2222222222222222,
             "#7201a8"
            ],
            [
             0.3333333333333333,
             "#9c179e"
            ],
            [
             0.4444444444444444,
             "#bd3786"
            ],
            [
             0.5555555555555556,
             "#d8576b"
            ],
            [
             0.6666666666666666,
             "#ed7953"
            ],
            [
             0.7777777777777778,
             "#fb9f3a"
            ],
            [
             0.8888888888888888,
             "#fdca26"
            ],
            [
             1,
             "#f0f921"
            ]
           ]
          },
          "colorway": [
           "#636efa",
           "#EF553B",
           "#00cc96",
           "#ab63fa",
           "#FFA15A",
           "#19d3f3",
           "#FF6692",
           "#B6E880",
           "#FF97FF",
           "#FECB52"
          ],
          "font": {
           "color": "#2a3f5f"
          },
          "geo": {
           "bgcolor": "white",
           "lakecolor": "white",
           "landcolor": "#E5ECF6",
           "showlakes": true,
           "showland": true,
           "subunitcolor": "white"
          },
          "hoverlabel": {
           "align": "left"
          },
          "hovermode": "closest",
          "mapbox": {
           "style": "light"
          },
          "paper_bgcolor": "white",
          "plot_bgcolor": "#E5ECF6",
          "polar": {
           "angularaxis": {
            "gridcolor": "white",
            "linecolor": "white",
            "ticks": ""
           },
           "bgcolor": "#E5ECF6",
           "radialaxis": {
            "gridcolor": "white",
            "linecolor": "white",
            "ticks": ""
           }
          },
          "scene": {
           "xaxis": {
            "backgroundcolor": "#E5ECF6",
            "gridcolor": "white",
            "gridwidth": 2,
            "linecolor": "white",
            "showbackground": true,
            "ticks": "",
            "zerolinecolor": "white"
           },
           "yaxis": {
            "backgroundcolor": "#E5ECF6",
            "gridcolor": "white",
            "gridwidth": 2,
            "linecolor": "white",
            "showbackground": true,
            "ticks": "",
            "zerolinecolor": "white"
           },
           "zaxis": {
            "backgroundcolor": "#E5ECF6",
            "gridcolor": "white",
            "gridwidth": 2,
            "linecolor": "white",
            "showbackground": true,
            "ticks": "",
            "zerolinecolor": "white"
           }
          },
          "shapedefaults": {
           "line": {
            "color": "#2a3f5f"
           }
          },
          "ternary": {
           "aaxis": {
            "gridcolor": "white",
            "linecolor": "white",
            "ticks": ""
           },
           "baxis": {
            "gridcolor": "white",
            "linecolor": "white",
            "ticks": ""
           },
           "bgcolor": "#E5ECF6",
           "caxis": {
            "gridcolor": "white",
            "linecolor": "white",
            "ticks": ""
           }
          },
          "title": {
           "x": 0.05
          },
          "xaxis": {
           "automargin": true,
           "gridcolor": "white",
           "linecolor": "white",
           "ticks": "",
           "title": {
            "standoff": 15
           },
           "zerolinecolor": "white",
           "zerolinewidth": 2
          },
          "yaxis": {
           "automargin": true,
           "gridcolor": "white",
           "linecolor": "white",
           "ticks": "",
           "title": {
            "standoff": 15
           },
           "zerolinecolor": "white",
           "zerolinewidth": 2
          }
         }
        },
        "title": {
         "text": "Scree plot of salience of topics"
        },
        "width": 800,
        "xaxis": {
         "anchor": "y",
         "domain": [
          0,
          1
         ],
         "title": {
          "text": "topic_ID"
         }
        },
        "yaxis": {
         "anchor": "x",
         "domain": [
          0,
          1
         ],
         "title": {
          "text": "salience"
         }
        }
       }
      },
      "text/html": [
       "<div>                            <div id=\"79a9c1a2-9e90-495c-952c-f844b604ef7d\" class=\"plotly-graph-div\" style=\"height:400px; width:800px;\"></div>            <script type=\"text/javascript\">                require([\"plotly\"], function(Plotly) {                    window.PLOTLYENV=window.PLOTLYENV || {};                                    if (document.getElementById(\"79a9c1a2-9e90-495c-952c-f844b604ef7d\")) {                    Plotly.newPlot(                        \"79a9c1a2-9e90-495c-952c-f844b604ef7d\",                        [{\"hovertemplate\": \"topic_ID=%{x}<br>salience=%{y}<extra></extra>\", \"legendgroup\": \"\", \"line\": {\"color\": \"#636efa\", \"dash\": \"solid\"}, \"mode\": \"lines+markers\", \"name\": \"\", \"orientation\": \"v\", \"showlegend\": false, \"type\": \"scatter\", \"x\": [\"14\", \"6\", \"15\", \"13\", \"11\", \"9\", \"2\", \"3\", \"4\", \"8\", \"10\", \"5\", \"7\", \"1\", \"12\"], \"xaxis\": \"x\", \"y\": [0.4378698224852071, 0.3668639053254438, 0.30177514792899407, 0.28994082840236685, 0.26627218934911245, 0.2485207100591716, 0.22485207100591717, 0.21301775147928995, 0.20710059171597633, 0.16568047337278108, 0.11834319526627218, 0.0650887573964497, 0.0650887573964497, 0.011834319526627219, 0.0], \"yaxis\": \"y\"}],                        {\"autosize\": false, \"height\": 400, \"legend\": {\"tracegroupgap\": 0}, \"template\": {\"data\": {\"bar\": [{\"error_x\": {\"color\": \"#2a3f5f\"}, \"error_y\": {\"color\": \"#2a3f5f\"}, \"marker\": {\"line\": {\"color\": \"#E5ECF6\", \"width\": 0.5}}, \"type\": \"bar\"}], \"barpolar\": [{\"marker\": {\"line\": {\"color\": \"#E5ECF6\", \"width\": 0.5}}, \"type\": \"barpolar\"}], \"carpet\": [{\"aaxis\": {\"endlinecolor\": \"#2a3f5f\", \"gridcolor\": \"white\", \"linecolor\": \"white\", \"minorgridcolor\": \"white\", \"startlinecolor\": \"#2a3f5f\"}, \"baxis\": {\"endlinecolor\": \"#2a3f5f\", \"gridcolor\": \"white\", \"linecolor\": \"white\", \"minorgridcolor\": \"white\", \"startlinecolor\": \"#2a3f5f\"}, \"type\": \"carpet\"}], \"choropleth\": [{\"colorbar\": {\"outlinewidth\": 0, \"ticks\": \"\"}, \"type\": \"choropleth\"}], \"contour\": [{\"colorbar\": {\"outlinewidth\": 0, \"ticks\": \"\"}, \"colorscale\": [[0.0, \"#0d0887\"], [0.1111111111111111, \"#46039f\"], [0.2222222222222222, \"#7201a8\"], [0.3333333333333333, \"#9c179e\"], [0.4444444444444444, \"#bd3786\"], [0.5555555555555556, \"#d8576b\"], [0.6666666666666666, \"#ed7953\"], [0.7777777777777778, \"#fb9f3a\"], [0.8888888888888888, \"#fdca26\"], [1.0, \"#f0f921\"]], \"type\": \"contour\"}], \"contourcarpet\": [{\"colorbar\": {\"outlinewidth\": 0, \"ticks\": \"\"}, \"type\": \"contourcarpet\"}], \"heatmap\": [{\"colorbar\": {\"outlinewidth\": 0, \"ticks\": \"\"}, \"colorscale\": [[0.0, \"#0d0887\"], [0.1111111111111111, \"#46039f\"], [0.2222222222222222, \"#7201a8\"], [0.3333333333333333, \"#9c179e\"], [0.4444444444444444, \"#bd3786\"], [0.5555555555555556, \"#d8576b\"], [0.6666666666666666, \"#ed7953\"], [0.7777777777777778, \"#fb9f3a\"], [0.8888888888888888, \"#fdca26\"], [1.0, \"#f0f921\"]], \"type\": \"heatmap\"}], \"heatmapgl\": [{\"colorbar\": {\"outlinewidth\": 0, \"ticks\": \"\"}, \"colorscale\": [[0.0, \"#0d0887\"], [0.1111111111111111, \"#46039f\"], [0.2222222222222222, \"#7201a8\"], [0.3333333333333333, \"#9c179e\"], [0.4444444444444444, \"#bd3786\"], [0.5555555555555556, \"#d8576b\"], [0.6666666666666666, \"#ed7953\"], [0.7777777777777778, \"#fb9f3a\"], [0.8888888888888888, \"#fdca26\"], [1.0, \"#f0f921\"]], \"type\": \"heatmapgl\"}], \"histogram\": [{\"marker\": {\"colorbar\": {\"outlinewidth\": 0, \"ticks\": \"\"}}, \"type\": \"histogram\"}], \"histogram2d\": [{\"colorbar\": {\"outlinewidth\": 0, \"ticks\": \"\"}, \"colorscale\": [[0.0, \"#0d0887\"], [0.1111111111111111, \"#46039f\"], [0.2222222222222222, \"#7201a8\"], [0.3333333333333333, \"#9c179e\"], [0.4444444444444444, \"#bd3786\"], [0.5555555555555556, \"#d8576b\"], [0.6666666666666666, \"#ed7953\"], [0.7777777777777778, \"#fb9f3a\"], [0.8888888888888888, \"#fdca26\"], [1.0, \"#f0f921\"]], \"type\": \"histogram2d\"}], \"histogram2dcontour\": [{\"colorbar\": {\"outlinewidth\": 0, \"ticks\": \"\"}, \"colorscale\": [[0.0, \"#0d0887\"], [0.1111111111111111, \"#46039f\"], [0.2222222222222222, \"#7201a8\"], [0.3333333333333333, \"#9c179e\"], [0.4444444444444444, \"#bd3786\"], [0.5555555555555556, \"#d8576b\"], [0.6666666666666666, \"#ed7953\"], [0.7777777777777778, \"#fb9f3a\"], [0.8888888888888888, \"#fdca26\"], [1.0, \"#f0f921\"]], \"type\": \"histogram2dcontour\"}], \"mesh3d\": [{\"colorbar\": {\"outlinewidth\": 0, \"ticks\": \"\"}, \"type\": \"mesh3d\"}], \"parcoords\": [{\"line\": {\"colorbar\": {\"outlinewidth\": 0, \"ticks\": \"\"}}, \"type\": \"parcoords\"}], \"pie\": [{\"automargin\": true, \"type\": \"pie\"}], \"scatter\": [{\"marker\": {\"colorbar\": {\"outlinewidth\": 0, \"ticks\": \"\"}}, \"type\": \"scatter\"}], \"scatter3d\": [{\"line\": {\"colorbar\": {\"outlinewidth\": 0, \"ticks\": \"\"}}, \"marker\": {\"colorbar\": {\"outlinewidth\": 0, \"ticks\": \"\"}}, \"type\": \"scatter3d\"}], \"scattercarpet\": [{\"marker\": {\"colorbar\": {\"outlinewidth\": 0, \"ticks\": \"\"}}, \"type\": \"scattercarpet\"}], \"scattergeo\": [{\"marker\": {\"colorbar\": {\"outlinewidth\": 0, \"ticks\": \"\"}}, \"type\": \"scattergeo\"}], \"scattergl\": [{\"marker\": {\"colorbar\": {\"outlinewidth\": 0, \"ticks\": \"\"}}, \"type\": \"scattergl\"}], \"scattermapbox\": [{\"marker\": {\"colorbar\": {\"outlinewidth\": 0, \"ticks\": \"\"}}, \"type\": \"scattermapbox\"}], \"scatterpolar\": [{\"marker\": {\"colorbar\": {\"outlinewidth\": 0, \"ticks\": \"\"}}, \"type\": \"scatterpolar\"}], \"scatterpolargl\": [{\"marker\": {\"colorbar\": {\"outlinewidth\": 0, \"ticks\": \"\"}}, \"type\": \"scatterpolargl\"}], \"scatterternary\": [{\"marker\": {\"colorbar\": {\"outlinewidth\": 0, \"ticks\": \"\"}}, \"type\": \"scatterternary\"}], \"surface\": [{\"colorbar\": {\"outlinewidth\": 0, \"ticks\": \"\"}, \"colorscale\": [[0.0, \"#0d0887\"], [0.1111111111111111, \"#46039f\"], [0.2222222222222222, \"#7201a8\"], [0.3333333333333333, \"#9c179e\"], [0.4444444444444444, \"#bd3786\"], [0.5555555555555556, \"#d8576b\"], [0.6666666666666666, \"#ed7953\"], [0.7777777777777778, \"#fb9f3a\"], [0.8888888888888888, \"#fdca26\"], [1.0, \"#f0f921\"]], \"type\": \"surface\"}], \"table\": [{\"cells\": {\"fill\": {\"color\": \"#EBF0F8\"}, \"line\": {\"color\": \"white\"}}, \"header\": {\"fill\": {\"color\": \"#C8D4E3\"}, \"line\": {\"color\": \"white\"}}, \"type\": \"table\"}]}, \"layout\": {\"annotationdefaults\": {\"arrowcolor\": \"#2a3f5f\", \"arrowhead\": 0, \"arrowwidth\": 1}, \"autotypenumbers\": \"strict\", \"coloraxis\": {\"colorbar\": {\"outlinewidth\": 0, \"ticks\": \"\"}}, \"colorscale\": {\"diverging\": [[0, \"#8e0152\"], [0.1, \"#c51b7d\"], [0.2, \"#de77ae\"], [0.3, \"#f1b6da\"], [0.4, \"#fde0ef\"], [0.5, \"#f7f7f7\"], [0.6, \"#e6f5d0\"], [0.7, \"#b8e186\"], [0.8, \"#7fbc41\"], [0.9, \"#4d9221\"], [1, \"#276419\"]], \"sequential\": [[0.0, \"#0d0887\"], [0.1111111111111111, \"#46039f\"], [0.2222222222222222, \"#7201a8\"], [0.3333333333333333, \"#9c179e\"], [0.4444444444444444, \"#bd3786\"], [0.5555555555555556, \"#d8576b\"], [0.6666666666666666, \"#ed7953\"], [0.7777777777777778, \"#fb9f3a\"], [0.8888888888888888, \"#fdca26\"], [1.0, \"#f0f921\"]], \"sequentialminus\": [[0.0, \"#0d0887\"], [0.1111111111111111, \"#46039f\"], [0.2222222222222222, \"#7201a8\"], [0.3333333333333333, \"#9c179e\"], [0.4444444444444444, \"#bd3786\"], [0.5555555555555556, \"#d8576b\"], [0.6666666666666666, \"#ed7953\"], [0.7777777777777778, \"#fb9f3a\"], [0.8888888888888888, \"#fdca26\"], [1.0, \"#f0f921\"]]}, \"colorway\": [\"#636efa\", \"#EF553B\", \"#00cc96\", \"#ab63fa\", \"#FFA15A\", \"#19d3f3\", \"#FF6692\", \"#B6E880\", \"#FF97FF\", \"#FECB52\"], \"font\": {\"color\": \"#2a3f5f\"}, \"geo\": {\"bgcolor\": \"white\", \"lakecolor\": \"white\", \"landcolor\": \"#E5ECF6\", \"showlakes\": true, \"showland\": true, \"subunitcolor\": \"white\"}, \"hoverlabel\": {\"align\": \"left\"}, \"hovermode\": \"closest\", \"mapbox\": {\"style\": \"light\"}, \"paper_bgcolor\": \"white\", \"plot_bgcolor\": \"#E5ECF6\", \"polar\": {\"angularaxis\": {\"gridcolor\": \"white\", \"linecolor\": \"white\", \"ticks\": \"\"}, \"bgcolor\": \"#E5ECF6\", \"radialaxis\": {\"gridcolor\": \"white\", \"linecolor\": \"white\", \"ticks\": \"\"}}, \"scene\": {\"xaxis\": {\"backgroundcolor\": \"#E5ECF6\", \"gridcolor\": \"white\", \"gridwidth\": 2, \"linecolor\": \"white\", \"showbackground\": true, \"ticks\": \"\", \"zerolinecolor\": \"white\"}, \"yaxis\": {\"backgroundcolor\": \"#E5ECF6\", \"gridcolor\": \"white\", \"gridwidth\": 2, \"linecolor\": \"white\", \"showbackground\": true, \"ticks\": \"\", \"zerolinecolor\": \"white\"}, \"zaxis\": {\"backgroundcolor\": \"#E5ECF6\", \"gridcolor\": \"white\", \"gridwidth\": 2, \"linecolor\": \"white\", \"showbackground\": true, \"ticks\": \"\", \"zerolinecolor\": \"white\"}}, \"shapedefaults\": {\"line\": {\"color\": \"#2a3f5f\"}}, \"ternary\": {\"aaxis\": {\"gridcolor\": \"white\", \"linecolor\": \"white\", \"ticks\": \"\"}, \"baxis\": {\"gridcolor\": \"white\", \"linecolor\": \"white\", \"ticks\": \"\"}, \"bgcolor\": \"#E5ECF6\", \"caxis\": {\"gridcolor\": \"white\", \"linecolor\": \"white\", \"ticks\": \"\"}}, \"title\": {\"x\": 0.05}, \"xaxis\": {\"automargin\": true, \"gridcolor\": \"white\", \"linecolor\": \"white\", \"ticks\": \"\", \"title\": {\"standoff\": 15}, \"zerolinecolor\": \"white\", \"zerolinewidth\": 2}, \"yaxis\": {\"automargin\": true, \"gridcolor\": \"white\", \"linecolor\": \"white\", \"ticks\": \"\", \"title\": {\"standoff\": 15}, \"zerolinecolor\": \"white\", \"zerolinewidth\": 2}}}, \"title\": {\"text\": \"Scree plot of salience of topics\"}, \"width\": 800, \"xaxis\": {\"anchor\": \"y\", \"domain\": [0.0, 1.0], \"title\": {\"text\": \"topic_ID\"}}, \"yaxis\": {\"anchor\": \"x\", \"domain\": [0.0, 1.0], \"title\": {\"text\": \"salience\"}}},                        {\"responsive\": true}                    ).then(function(){\n",
       "                            \n",
       "var gd = document.getElementById('79a9c1a2-9e90-495c-952c-f844b604ef7d');\n",
       "var x = new MutationObserver(function (mutations, observer) {{\n",
       "        var display = window.getComputedStyle(gd).display;\n",
       "        if (!display || display === 'none') {{\n",
       "            console.log([gd, 'removed!']);\n",
       "            Plotly.purge(gd);\n",
       "            observer.disconnect();\n",
       "        }}\n",
       "}});\n",
       "\n",
       "// Listen for the removal of the full notebook cells\n",
       "var notebookContainer = gd.closest('#notebook-container');\n",
       "if (notebookContainer) {{\n",
       "    x.observe(notebookContainer, {childList: true});\n",
       "}}\n",
       "\n",
       "// Listen for the clearing of the current output cell\n",
       "var outputEl = gd.closest('.output');\n",
       "if (outputEl) {{\n",
       "    x.observe(outputEl, {childList: true});\n",
       "}}\n",
       "\n",
       "                        })                };                });            </script>        </div>"
      ]
     },
     "metadata": {},
     "output_type": "display_data"
    }
   ],
   "source": [
    "fig_L1 = px.line(df_salient_topic, x = 'topic_ID', y = 'salience', title=\"Scree plot of salience of topics\")\n",
    "fig_L1.update_layout(autosize=False, width=800, height=400)\n",
    "fig_L1.update_traces(mode = \"lines + markers\")\n",
    "fig_L1.show()"
   ]
  },
  {
   "cell_type": "markdown",
   "metadata": {},
   "source": [
    "## 5.2. Topic visualisation"
   ]
  },
  {
   "cell_type": "markdown",
   "metadata": {},
   "source": [
    "Check the words of each topic, if there're common words with high overall frequency such as \"think\" \"want\" or \"make\", return to the \"import the stop_words from gensim\" section, add these words to the list of stop words to remove them."
   ]
  },
  {
   "cell_type": "code",
   "execution_count": 227,
   "metadata": {},
   "outputs": [
    {
     "data": {
      "text/html": [
       "\n",
       "<link rel=\"stylesheet\" type=\"text/css\" href=\"https://cdn.jsdelivr.net/gh/bmabey/pyLDAvis@3.3.1/pyLDAvis/js/ldavis.v1.0.0.css\">\n",
       "\n",
       "\n",
       "<div id=\"ldavis_el1968818534188801285899675032\"></div>\n",
       "<script type=\"text/javascript\">\n",
       "\n",
       "var ldavis_el1968818534188801285899675032_data = {\"mdsDat\": {\"x\": [-0.014228692787904807, -0.028824921850940054, 0.0363846142913786, 0.14869919316519403, -0.2710437938677799, 0.005901990946786316, 0.12662898368544961, -0.024924603322624576, -0.0399617579210924, 0.1504214578182943, 0.11998349374627582, -0.03329826886927626, -0.1258355616612143, 0.0035147996133257395, -0.053416932985872], \"y\": [0.15659308773213237, -0.08320548519014387, -0.06294363536585443, -0.05966606095044266, -0.07746758461934145, -0.0038074000565573693, 0.04688617333073979, -0.12862680867265652, 0.23754094731296208, -0.033501907838524435, -0.039734510129129416, 0.07807580965109501, -0.050544255601977804, -0.04385598268308832, 0.0642576130807867], \"topics\": [1, 2, 3, 4, 5, 6, 7, 8, 9, 10, 11, 12, 13, 14, 15], \"cluster\": [1, 1, 1, 1, 1, 1, 1, 1, 1, 1, 1, 1, 1, 1, 1], \"Freq\": [0.5322742089548606, 12.831449921996754, 13.273866556974829, 10.406519035230167, 1.1595547785886589, 9.969904604842524, 0.8394165394426958, 4.395033018112427, 1.7046178285621332, 6.783181806518377, 9.558933576492908, 0.3331723436788718, 4.918679671889006, 19.972296614953468, 3.321099493762323]}, \"tinfo\": {\"Term\": [\"legacy\", \"bid\", \"work\", \"committee\", \"people\", \"government\", \"venue\", \"year\", \"cost\", \"facility\", \"project\", \"event\", \"benefit\", \"local\", \"athlete\", \"plan\", \"funding\", \"time\", \"ensure\", \"support\", \"opportunity\", \"performance\", \"stadium\", \"deliver\", \"programme\", \"stage\", \"development\", \"provide\", \"school\", \"process\", \"specific\", \"benefit\", \"committee\", \"staff\", \"decision\", \"offer\", \"stage\", \"process\", \"issue\", \"major\", \"significant\", \"case\", \"follow\", \"facility\", \"development\", \"future\", \"project\", \"provision\", \"venue\", \"bid\", \"role\", \"stadium\", \"expenditure\", \"event\", \"host\", \"government\", \"legacy\", \"final\", \"consideration\", \"infrastructure\", \"plan\", \"available\", \"area\", \"work\", \"provide\", \"time\", \"support\", \"level\", \"year\", \"programme\", \"place\", \"medal_winning_performance\", \"turf\", \"diver\", \"lodge\", \"amateur_swimming_association\", \"sporting_giant\", \"relocatable\", \"dope\", \"anti_dope\", \"synchronised_swimming\", \"vulnerable\", \"dilemma\", \"talent_pathway\", \"redbridge\", \"dry\", \"archery\", \"pinnacle\", \"casual\", \"hot\", \"tall\", \"objection\", \"aspirational\", \"squad\", \"intrinsic\", \"eastway\", \"swimming\", \"shooting\", \"alliance\", \"discipline\", \"organised\", \"cycling\", \"mode\", \"swim\", \"supplementary_memorandum_submitte\", \"shoot\", \"ipc\", \"tier\", \"circuit\", \"velopark\", \"coach\", \"warm\", \"british\", \"athlete\", \"talent\", \"pool\", \"medal\", \"competition\", \"world_championship\", \"diving\", \"performance\", \"centre\", \"facility\", \"investment\", \"design\", \"venue\", \"level\", \"evidence\", \"chairman\", \"training\", \"programme\", \"elite\", \"year\", \"community\", \"people\", \"legacy\", \"work\", \"support\", \"participation\", \"funding\", \"lottery\", \"development\", \"provide\", \"place\", \"time\", \"opportunity\", \"good\", \"project\", \"dif\\ufb01cult\", \"congratulation\", \"\\ufb01ll\", \"mayoral_development_corporation\", \"plane\", \"override\", \"bag\", \"dangerous\", \"thrilled\", \"stationery\", \"walthamstow\", \"wrap\", \"maker\", \"slot\", \"west\\ufb01eld\", \"satis\\ufb01ed\", \"explosion\", \"guest\", \"army\", \"tiny\", \"bar\", \"reaction\", \"patch\", \"pro\\ufb01t\", \"sink\", \"border\", \"precept\", \"couldn\", \"inaccurate\", \"terrible\", \"pipeline\", \"wouldn\", \"force\", \"torch\", \"cut\", \"con\\ufb01dent\", \"predecessor\", \"threat\", \"chair\", \"fantastic\", \"sort\", \"\\ufb01nal\", \"ticket\", \"make_sure\", \"come\", \"people\", \"police\", \"look\", \"question\", \"course\", \"security\", \"right\", \"contract\", \"remember\", \"number\", \"\\ufb01gure\", \"huge\", \"time\", \"money\", \"big\", \"good\", \"point\", \"fact\", \"work\", \"year\", \"volunteer\", \"end\", \"moment\", \"sure\", \"deliver\", \"committee\", \"term\", \"government\", \"important\", \"budget\", \"stadium\", \"place\", \"legacy\", \"funding\", \"cost\", \"programme\", \"completion_date\", \"governance_arrangement\", \"financially_expose\", \"anticipated_final_cost\", \"overarch\", \"compliance\", \"executive\", \"dependency\", \"highway\", \"grouping\", \"landscaping\", \"forecast\", \"readiness\", \"supplier\", \"certify\", \"differ\", \"terminate\", \"absence\", \"source_national_audit\", \"authority\", \"planned\", \"compliant\", \"contractor\", \"documentation\", \"reconcile\", \"squeeze\", \"procurement\", \"characterise\", \"contentious\", \"contracting\", \"preparation\", \"coordination\", \"locog\", \"construction\", \"delivery\", \"arrangement\", \"risk\", \"delay\", \"security\", \"management\", \"progress\", \"report\", \"main\", \"contingency\", \"programme\", \"pressure\", \"schedule\", \"scope\", \"project\", \"contract\", \"package\", \"financial\", \"plan\", \"cost\", \"venue\", \"budget\", \"remain\", \"government\", \"village\", \"include\", \"department\", \"deliver\", \"work\", \"legacy\", \"funding\", \"dame_tanni_grey_thompson\", \"redress\", \"technological\", \"dcsf\", \"curriculum\", \"disability\", \"qualified\", \"delegation\", \"disabled\", \"adaptation\", \"blind\", \"diet\", \"significance\", \"mainstream\", \"inclusion\", \"portal\", \"educate\", \"recreational\", \"urgent\", \"specialist\", \"fight\", \"cricket\", \"field\", \"child\", \"administrator\", \"society\", \"encouragement\", \"inclusive\", \"parent\", \"medallist\", \"lack\", \"coaching\", \"poor\", \"pathway\", \"school\", \"paralympic\", \"provision\", \"coach\", \"young\", \"solution\", \"people\", \"club\", \"coverage\", \"level\", \"education\", \"opportunity\", \"athlete\", \"offer\", \"participate\", \"activity\", \"sporting\", \"facility\", \"provide\", \"access\", \"regard\", \"support\", \"legacy\", \"develop\", \"witnesses_questions_tuesday_january\", \"marry\", \"breakfast\", \"refresh\", \"equation\", \"float\", \"miss_kirkbride\", \"democratic\", \"bryant\", \"cheap\", \"drum\", \"admit\", \"westfield\", \"deliverability\", \"tout\", \"interfere\", \"hotel\", \"fine\", \"north_w\", \"preparation_camp\", \"visa\", \"shall\", \"deputy_prime_minister\", \"pricing\", \"family_housing\", \"essence\", \"continent\", \"complaint\", \"flagship\", \"seater_stadium\", \"flat\", \"conflict\", \"tick\", \"law\", \"interesting\", \"ioc\", \"kind\", \"dome\", \"sander\", \"morning\", \"moment\", \"examination\", \"country\", \"come\", \"like\", \"chairman\", \"look\", \"talk\", \"people\", \"sure\", \"big\", \"ticket\", \"good\", \"day\", \"important\", \"city\", \"different\", \"able\", \"point\", \"year\", \"issue\", \"start\", \"build\", \"process\", \"end\", \"bid\", \"work\", \"time\", \"term\", \"question\", \"place\", \"opportunity\", \"area\", \"benefit\", \"renewable\", \"passenger\", \"crossing\", \"install\", \"conservation\", \"pedestrian\", \"newspaper\", \"accreditation\", \"hotspot\", \"weekly\", \"emission\", \"energy\", \"tfl\", \"traffic\", \"immigration\", \"carbon\", \"lane\", \"conventional\", \"emergency\", \"busy\", \"queue\", \"feasible\", \"journey\", \"appearance\", \"journalist\", \"station\", \"minimal\", \"efficiency\", \"unallocated\", \"audits\", \"pass\", \"location\", \"paper\", \"information\", \"road\", \"press\", \"local\", \"transport\", \"regional\", \"measure\", \"medium\", \"letter\", \"detailed\", \"time\", \"follow\", \"plan\", \"reduction\", \"impact\", \"venue\", \"work\", \"target\", \"include\", \"available\", \"number\", \"committee\", \"ensure\", \"talent_identification\", \"boxing\", \"medal_target\", \"confirmation\", \"medal_table\", \"institute\", \"aggregate\", \"intervene\", \"medicine\", \"fundraising\", \"silver\", \"countdown\", \"bronze\", \"mission\", \"science\", \"rower\", \"qualification\", \"performance\", \"video\", \"quantitative\", \"amateur\", \"duplication\", \"gold_medal\", \"medal\", \"european_championship\", \"gymnastic\", \"podium\", \"constructive\", \"clothing\", \"wheelchair\", \"volleyball\", \"governing_bodie\", \"world_class\", \"elite\", \"success\", \"athlete\", \"boa\", \"finish\", \"cycle\", \"funding\", \"target\", \"win\", \"prepare\", \"national\", \"paralympic\", \"service\", \"goal\", \"team\", \"measure\", \"british\", \"improve\", \"support\", \"provide\", \"fund\", \"receive\", \"programme\", \"department\", \"achieve\", \"lead\", \"deliver\", \"report\", \"year\", \"include\", \"increase\", \"event\", \"number\", \"precious\", \"unequivocal\", \"appendix\", \"backing\", \"feasibility\", \"weakness\", \"appendix_memorandum_submitte\", \"metropolitan\", \"derelict\", \"brownfield\", \"manchester\", \"federation\", \"bidding\", \"sake\", \"opposed\", \"clean\", \"gentleman\", \"costly\", \"organisational\", \"deprive\", \"green\", \"suitable\", \"bid\", \"arup\", \"valley\", \"concrete\", \"urge\", \"investigation\", \"staging\", \"consideration\", \"athletic\", \"prove\", \"option\", \"minute\", \"stadium\", \"stage\", \"event\", \"city\", \"write\", \"proposal\", \"major\", \"village\", \"successful\", \"sporting\", \"facility\", \"international\", \"government\", \"support\", \"term\", \"experience\", \"host\", \"benefit\", \"area\", \"world\", \"committee\", \"member\", \"consider\", \"evidence\", \"public\", \"decision\", \"sterling\", \"dollar\", \"candidate_file\", \"installation\", \"instruction\", \"notify\", \"greek\", \"auditor_general\", \"thorough\", \"marginal\", \"collate\", \"designate\", \"david_higgin\", \"tax\", \"revised\", \"publicly_funde\", \"departmental\", \"notional\", \"custom\", \"governmental\", \"cashflow\", \"accounting\", \"output\", \"sydney\", \"ultimate_guarantor\", \"redesign\", \"anticipated\", \"compile\", \"exempt\", \"overspend\", \"gross\", \"estimate\", \"vat\", \"revise\", \"exclude\", \"cost\", \"department\", \"budget\", \"clm\", \"national_lottery_distribution\", \"infrastructure\", \"good_cause\", \"delivery\", \"underwrite\", \"non\", \"uncertainty\", \"report\", \"announce\", \"advice\", \"jonathan_stephen\", \"include\", \"funding\", \"total\", \"project\", \"bid\", \"contingency\", \"government\", \"provision\", \"paragraph\", \"fund\", \"expect\", \"time\", \"lottery\", \"figure\", \"review\", \"work\", \"public\", \"venue\", \"provide\", \"construction\", \"risk\", \"programme\", \"plan\", \"set\", \"area\", \"deliver\", \"witnesses_questions_wednesday_january\", \"relieve\", \"charismatic\", \"tune\", \"description\", \"authorise\", \"advantageous\", \"finely_balance\", \"satisfied\", \"beneficiary\", \"concordat\", \"apology\", \"telegraph\", \"finely_balanced\", \"security_guard\", \"discrepancy\", \"transcript\", \"disperse\", \"soldier\", \"predicate\", \"centrepiece\", \"reply\", \"cite\", \"dispose\", \"public_domain\", \"wembley\", \"frank\", \"wage\", \"situate\", \"screening\", \"dame_helen_ghosh\", \"orn\", \"jonathan_stephen\", \"reservation\", \"methodology\", \"am_sorry\", \"picketts_lock\", \"materialise\", \"confidence\", \"figure\", \"impression\", \"likely\", \"paragraph\", \"hearing\", \"chair\", \"statement\", \"accept\", \"debt\", \"cost\", \"arise\", \"report\", \"appear\", \"page\", \"account\", \"minister\", \"risk\", \"revenue\", \"stadium\", \"note\", \"estimate\", \"confirm\", \"pay\", \"spend\", \"government\", \"contingency\", \"effort\", \"question\", \"committee\", \"clear\", \"budget\", \"money\", \"point\", \"time\", \"decision\", \"oda\", \"agree\", \"security\", \"issue\", \"venue\", \"programme\", \"number\", \"legacy\", \"bid\", \"come\", \"increase\", \"staff\", \"specific\", \"legacy\", \"ensure\", \"committee\", \"facility\", \"venue\", \"year\", \"income\", \"benefit\", \"event\", \"decision\", \"win\", \"great\", \"host\", \"company\", \"role\", \"create\", \"deliver\", \"government\", \"term\", \"follow\", \"offer\", \"work\", \"member\", \"significant\", \"process\", \"success\", \"key\", \"support\", \"development\", \"project\", \"opportunity\", \"plan\", \"good\", \"place\", \"time\", \"people\", \"community\", \"athlete\", \"local\", \"programme\", \"bid\", \"irrelevant\", \"pioneer\", \"improves_cultural_life\", \"teaching\", \"ngbs\", \"mini\", \"studio\", \"entrepreneur\", \"pupil\", \"physically_active\", \"founder\", \"unlock\", \"leaving_laste\", \"cool\", \"beneficial\", \"compelling\", \"motivation\", \"fulfil\", \"maximize\", \"written_evidence_submitte\", \"emotional\", \"councillor\", \"gym\", \"drop_off\", \"snapshot\", \"girl\", \"league\", \"shareholder\", \"college\", \"satisfaction\", \"digital\", \"lasting\", \"participant\", \"woman\", \"active\", \"participation\", \"physical_activity\", \"young\", \"oplc\", \"soft\", \"offer\", \"legacy\", \"council\", \"adult\", \"survey\", \"club\", \"age\", \"leisure\", \"sporting\", \"community\", \"facility\", \"local\", \"people\", \"school\", \"park\", \"post\", \"increase\", \"opportunity\", \"centre\", \"create\", \"work\", \"provide\", \"aim\", \"investment\", \"volunteer\", \"ensure\", \"support\", \"develop\", \"event\", \"deliver\", \"programme\", \"development\", \"year\", \"venue\", \"nldf\", \"devolved_administration\", \"powerline\", \"ccpr\", \"beacon\", \"locality\", \"diverse_communitie\", \"liaise\", \"thames_gateway_development_corporation\", \"inactive\", \"agent\", \"oil\", \"secondee\", \"memorable\", \"gauge\", \"psa\", \"automotive\", \"telecom\", \"devote\", \"realisation\", \"socially_excluded\", \"prosperous\", \"friendship\", \"bombing\", \"pair\", \"museum\", \"whilst\", \"forge\", \"quadrennial\", \"visionary\", \"gateway\", \"lottery_distributor\", \"music\", \"heritage\", \"library\", \"visitbritain\", \"old\", \"tourism\", \"distributor\", \"cultural\", \"gallery\", \"bene\\ufb01ts\", \"sector\", \"recreation\", \"forum\", \"camelot\", \"grant\", \"art\", \"destination\", \"region\", \"regional\", \"institution\", \"visitor\", \"lottery\", \"sustainable\", \"strategy\", \"workforce\", \"maximise\", \"ensure\", \"objective\", \"welcome\", \"community\", \"brand\", \"oda\", \"opportunity\", \"legacy\", \"visit\", \"partner\", \"business\", \"work\", \"develop\", \"nation\", \"local\", \"national\", \"skill\", \"development\", \"deliver\", \"plan\", \"support\", \"year\", \"funding\", \"participation\", \"increase\", \"provide\", \"programme\", \"event\", \"government\", \"committee\", \"include\", \"fund\", \"people\", \"cost\", \"convergence\", \"neighbour\", \"blight\", \"coincide\", \"fringe\", \"wholehearte\", \"extension\", \"characteristic\", \"childhood\", \"attainment\", \"magnitude\", \"neighbouring\", \"interchange\", \"holding\", \"enhancement\", \"imbalance\", \"premier\", \"upgrade\", \"hackney\", \"regenerative\", \"deprivation\", \"open_space\", \"resident\", \"remote\", \"worklessness\", \"channel_tunnel_rail_link\", \"five_host_boroughs\", \"rail\", \"wealth\", \"southern\", \"crossrail\", \"unemployment\", \"tackle\", \"regeneration\", \"improvement\", \"benefit\", \"economic\", \"borough\", \"host_borough\", \"transport\", \"arup\", \"flow\", \"social\", \"employment\", \"area\", \"line\", \"average\", \"job\", \"significant\", \"host\", \"infrastructure\", \"city\", \"housing\", \"economy\", \"create\", \"boost\", \"skill\", \"local\", \"investment\", \"improve\", \"support\", \"opportunity\", \"community\", \"service\", \"bid\", \"development\", \"public\", \"legacy\", \"work\", \"facility\", \"include\"], \"Freq\": [2741.0, 1588.0, 3117.0, 1413.0, 2779.0, 2252.0, 1684.0, 1891.0, 3031.0, 1390.0, 1677.0, 1334.0, 933.0, 1217.0, 1418.0, 1546.0, 2147.0, 1888.0, 1021.0, 1506.0, 1386.0, 912.0, 973.0, 1482.0, 2500.0, 802.0, 1131.0, 1550.0, 683.0, 794.0, 58.86503356434586, 87.26193305266018, 87.76212597302231, 13.225606680800107, 35.6728625904473, 13.657092252115229, 35.41699764467936, 32.768547240135916, 31.99512059687652, 24.52695801366634, 11.60630143693142, 14.283767608918525, 15.288611203597958, 40.050744232565584, 31.01042237749309, 14.284885213425753, 42.08582922180258, 11.249905907826394, 41.26400048872309, 38.132615130301645, 12.344377109860574, 22.990606410293378, 6.435158441816592, 29.05974977174532, 15.133425644033498, 46.52430212471212, 55.384737144397526, 3.6284538143414578, 2.048074964995833, 12.803796461819509, 26.87999357016342, 11.717097043536368, 18.187485751230398, 39.554198565439506, 21.569977529713384, 19.810101858876518, 18.129387729955965, 15.666773109437226, 18.116828134828, 17.179875056439585, 15.221263659468384, 6.041530554884399, 5.977289496273643, 17.55431974822491, 8.702070258628877, 24.865276351113174, 17.15023992386192, 12.376641161538755, 10.34321113052855, 12.696001591727603, 14.249390434504518, 8.79942344542813, 7.053105117009233, 6.938758203108988, 6.063623592657939, 14.389982818302208, 6.833888422490959, 9.279408584175545, 6.784406266799632, 9.296834011572013, 9.877589566943795, 14.771215918187949, 16.360943908489173, 19.620086754959356, 5.787146981876222, 18.51758024979494, 295.77736334241763, 63.64652859609394, 22.44178244483598, 84.6615892660659, 5.631367572490382, 99.10003223134886, 54.6597305268369, 87.06605019798998, 24.276902239560012, 70.37078780183633, 30.943583120257497, 74.26058396034469, 17.165141931851675, 51.879819132410425, 259.56449173216373, 27.26523424349106, 223.61186146246328, 523.1319948141382, 98.05855169088193, 107.5908853688906, 188.164830946556, 163.93080775623412, 52.86431046370529, 35.17057060071709, 264.2000274928072, 152.84380921523814, 337.39290929363256, 201.6991742388832, 176.86939510046392, 364.8662588558115, 262.59606770326224, 205.00722920584792, 203.3484506340308, 146.54570736858298, 440.09300715811156, 150.06982237072307, 325.50538098924335, 260.2062702708773, 402.51960702327204, 370.8124080925115, 388.9435533731144, 262.2283639952334, 201.0196541229561, 276.8321028570787, 194.5844099172403, 197.25894827821813, 219.4772506899824, 194.9613677531501, 220.3828577363456, 189.55016434999777, 179.58337321882306, 188.74684880790227, 30.785136960315562, 12.876712560585212, 8.886392357273447, 9.855550114975106, 8.869287044310973, 8.831797350061457, 6.9095996027771935, 4.9482923656414, 5.889579893074279, 8.764313062994288, 4.865425571825171, 20.06272540988909, 61.53628411984918, 5.746649277191733, 9.294009047563296, 10.044733729036269, 4.527417222736358, 8.904554916870293, 11.523001386607152, 5.272910877323235, 32.432578883305666, 6.897228460129059, 6.001343322293237, 20.36877425416855, 11.1094612777468, 27.899154661532666, 7.660771486006243, 14.208074749699529, 5.839282340530693, 6.616232783470095, 12.089932314632215, 11.252771860914509, 71.363264519326, 15.378693505949208, 58.592588738161915, 87.75819163238666, 14.408390294921983, 37.887418836961466, 314.01666942582716, 69.3665364357888, 116.1163146992371, 61.02995550648775, 183.26404450991046, 146.7606170320386, 462.997183638436, 734.5784947617715, 70.19410518287614, 345.84555184528807, 246.0590566180668, 179.0380779721561, 242.07745345643352, 201.34531578092995, 211.41383694240952, 52.778215843859755, 280.3286120146985, 106.17706136895438, 94.6359054415405, 395.333399038829, 258.3601076386883, 140.39287853525573, 254.35110735540266, 192.04424958124073, 118.9042679057677, 451.1966432905369, 324.02336941654653, 153.14425493911753, 166.13934334661158, 117.04549755458545, 109.22950141379958, 234.3812111607952, 222.74090844515382, 174.9573280222953, 265.66663180039, 161.4846848876709, 205.6788377335861, 172.1338059301613, 184.11886233944816, 237.94923226912755, 219.47901266802194, 216.26415388000936, 179.5419047230035, 15.452837824620007, 9.802447382360874, 7.009508784073296, 19.65970050928988, 19.497380103563877, 9.199249550745854, 171.98953721105477, 11.233196869078107, 18.989295859149635, 5.307113201694722, 7.46133314145376, 131.89131547726734, 11.628055304173767, 66.56755679985673, 5.8201179315056795, 8.371255898233066, 4.231890667147231, 16.598058918449013, 13.883322428756946, 506.73068392389257, 7.506926093167558, 9.561829601639047, 144.78915970566925, 6.724416585566184, 5.231478933635482, 8.369036239464425, 177.10474519566225, 5.672011079271598, 7.476361536999095, 10.010324470866548, 293.30791870823043, 23.066347676302815, 72.1756973189571, 309.26628067410104, 690.0490345204462, 171.38153447104645, 420.81526981189444, 62.275709715909386, 317.71809132579006, 287.2828885526876, 265.1521149577227, 556.2251709601246, 200.77086111316893, 337.52947915649116, 725.102427410923, 76.93435943613876, 62.016677955537816, 87.16739837466992, 481.0806128196843, 230.70127769693386, 169.1617286923248, 122.50059787098697, 385.7669216883619, 604.5994721387918, 379.7551688642247, 340.1936112949445, 154.50275013375935, 418.9616738789935, 175.7474243422235, 302.8465516667727, 230.72857514751604, 260.2424115897431, 362.645516802881, 303.58454226669625, 238.60868681150166, 13.800846949667386, 4.984324484148478, 4.889074064982404, 6.958534929547721, 14.85196478028011, 137.1775291902355, 10.517023635568009, 4.55348404578622, 69.8133249029542, 6.4649718647142125, 4.731792458019342, 3.778139891902094, 2.861797425619488, 23.00074026077437, 38.048132164405004, 3.0708752899287814, 6.595246411589233, 9.893527001410192, 3.8717000797453607, 23.954785964092945, 4.698963346351133, 7.124242259906752, 24.306242000648794, 74.24438119624669, 3.3857559880092665, 17.25200014722425, 4.036348698518364, 16.56606711806632, 6.857606005608542, 3.112104260703398, 31.352643525764435, 23.493342898322183, 22.10175790564507, 25.69536643724568, 110.06969838149315, 79.30834010366733, 61.57540383777323, 62.09517260078988, 66.99099983177665, 18.857118990230518, 132.91826695677872, 42.1620612305329, 13.922689307074048, 66.2680619014009, 29.362693366952882, 63.633352938126464, 63.92437102712228, 28.119005554843135, 25.138665193021975, 37.3742915527598, 32.25025507354701, 43.53056493120583, 38.8670817862029, 26.344879098129862, 20.77311797232943, 27.930696283979785, 26.17684915456826, 23.918332834385758, 7.809927700903504, 4.910436391921905, 4.89906107217373, 5.814596174385356, 8.649579464152326, 5.812307489517683, 5.7599725866791935, 6.64561857643068, 9.413915889986479, 25.72899499418228, 6.495137083084614, 5.315510448673525, 14.685789364911738, 7.8181817919161505, 6.924162643943315, 4.35284928653176, 50.940235728899104, 15.316065379677113, 9.506681754572362, 4.726511838419358, 17.133319154925516, 51.23399167474073, 3.9588887869877833, 16.689694193753024, 6.819642483046145, 6.830746774323149, 8.947745992977806, 4.502600161246993, 3.756753668353412, 6.552587242932006, 8.553606660972507, 7.8606531115901115, 8.556195561992864, 20.248323038252344, 59.148708711826444, 119.80213784462104, 110.1656515209221, 27.932887330584233, 76.10365314240525, 64.58000067019846, 155.01270392134575, 51.944110360630674, 352.950061319948, 462.45124183567697, 142.7517131654058, 267.8422067223716, 345.2876259231666, 154.14520525674948, 656.8770932066343, 117.70330818935514, 147.8060040570812, 142.83961348981347, 282.5532133175156, 144.67554274826347, 210.8073199415839, 161.61418284729103, 116.47166586341605, 148.83981505751916, 187.36030498766524, 358.92221306242527, 212.59770529776026, 154.26828646660488, 183.84968848936163, 181.95398285917747, 162.23270224926247, 250.20461894343168, 354.69659287959917, 261.858728306282, 177.93901804985595, 157.58419981759087, 185.36620258684627, 176.28176558509148, 165.2069770312401, 155.68090353702777, 9.482645131246274, 11.296020142122293, 6.803362376409635, 6.627129398021318, 6.481798291840375, 14.551015267577949, 26.56929903393957, 22.569222590953903, 12.067876050521294, 9.691256641095954, 4.4138999009959, 22.79980112352656, 15.333276443551958, 37.581649563142776, 9.485054844424484, 14.301250150564858, 34.470971354819994, 4.993633141117795, 9.195828099638325, 7.7936689887154165, 12.229989020895157, 2.7817458062756817, 19.215808063808392, 4.897691793345082, 11.616567541178135, 25.49633320569274, 2.6756931497228167, 7.053753482109011, 6.762520827414859, 1.4358320596677732, 25.086795554570557, 28.730107127448456, 16.765300145329693, 58.66495850306081, 31.702194061916497, 26.354977483720184, 92.52756372049569, 61.34674646087526, 39.466296163269966, 25.868126797202027, 26.401064730529736, 14.785893961714416, 22.99795306767989, 45.79271382766664, 26.8154629996866, 33.66644794909548, 16.436077529185763, 23.711834809509647, 28.599649337701052, 29.327666066337358, 21.89974797475376, 22.142686507269765, 18.9283875117023, 18.87215837441207, 18.297844024388542, 18.00028907119782, 19.021130180752237, 11.714868638985143, 8.088786344200372, 15.081309417870678, 54.26402297029469, 31.959413088181705, 14.451203568643498, 5.616497871111591, 36.45045923824198, 17.172368738786364, 14.986201258961009, 4.617805425227607, 12.25366836822694, 43.03579652399759, 43.42390839596809, 5.242760059062199, 14.634047819584287, 496.63946696019167, 3.706831507163983, 3.1518743379040153, 7.15562596865806, 6.613221491510501, 35.96041612418698, 231.85422210685311, 8.020057179030552, 12.251645624699536, 32.27674854325392, 7.982906830925267, 6.507820296626064, 5.720616878610623, 18.471724935972173, 159.823991784472, 75.83787672307135, 191.95301469502263, 243.24325502969876, 455.90811776209034, 84.2156294626781, 25.9818497788483, 52.715924871160624, 451.3730940960498, 178.39541771623232, 134.60858207570197, 81.15398002462274, 168.6326705894193, 114.61215130156651, 122.03859370886669, 43.95911849069478, 143.6462785823852, 67.27366558980764, 97.59709416985767, 75.26750879698548, 177.5605180711959, 164.54198387633875, 120.97224514854925, 70.02982520330264, 170.35085887166304, 95.03545778204811, 84.24769926070385, 81.89740852778665, 103.73509143108349, 94.50453172086654, 97.29981949429228, 86.7727890190942, 81.47954043197036, 81.43073316650138, 76.99082092713063, 6.1300691486934555, 12.004044120965178, 18.641678132901948, 15.665603275325962, 13.505391826008879, 8.840229984063168, 16.449654844504852, 4.421899813640525, 7.2594166852187785, 5.353502233526001, 91.6939886988077, 27.70974678978327, 71.8926169429656, 5.164901119515737, 3.022062292956802, 11.06432746415739, 5.546873222292346, 4.292017524513807, 9.15859044901725, 8.111443564011129, 12.71389932825474, 23.34907874620302, 530.7217325764688, 45.564855021862826, 5.616793996965082, 3.2112594036733357, 11.337928291304712, 7.126532549842618, 33.28260559520938, 27.96203114993909, 98.7671977623709, 16.17910465865895, 38.072087090356625, 33.32488112127922, 143.57409452752412, 122.58824759935816, 171.0320461750753, 86.81483837438114, 31.045295428963403, 31.22325668683515, 83.68678403985533, 69.80422927534829, 51.70031697435251, 56.79257366811253, 92.09941601273707, 44.11367750207738, 108.52816502912938, 84.4013869423319, 59.57269520137932, 46.05919325751096, 49.700333266875006, 52.547155735086136, 54.4744715698349, 43.42943652856499, 49.28858414205595, 37.55959202575789, 34.455053104072334, 37.312212518878546, 37.885302166203005, 36.25711140669847, 10.900487815791532, 16.612511390870985, 35.06355583078646, 9.401950916507229, 5.710272892625073, 4.9044574627486615, 14.340998069412787, 12.545498900707113, 16.073398279940964, 6.1384342177282685, 4.54966877123449, 36.564374228019055, 59.04191392318915, 81.88748653469979, 14.18647654437562, 8.800364226223888, 14.271293547404898, 4.48577453544943, 6.384794388278292, 3.781281822689652, 12.19525145552356, 6.717054627200276, 9.583573661577292, 9.906344785517883, 7.671558600691763, 5.21491738672153, 8.423961824732332, 6.6996284966983035, 7.779249842890914, 8.815819026500852, 20.557281233573914, 305.31359336959116, 55.561090691452016, 39.97388157860052, 36.149437899865084, 965.7815559123482, 313.2566105095308, 402.8934484837792, 15.36928602697997, 32.97807631854428, 203.00940470893977, 45.24353537299276, 329.3532360650746, 19.545481338272435, 74.87390841193059, 44.34957651733931, 281.6459905539629, 73.97320656040675, 47.678316697115804, 76.99424018517672, 239.23546160152202, 316.9555043459346, 108.29504545389526, 249.5368226344616, 239.96539973040169, 153.96202281138858, 249.96704291847587, 94.66608404452, 75.97453983884238, 142.15012983593115, 109.12034376670698, 187.4051540231294, 131.06002489112862, 95.37284280988412, 88.37273554872284, 206.22532453148335, 119.68296184682498, 153.49596428604679, 144.88285373599936, 97.46282858002473, 112.85430925104103, 152.21641903826605, 122.0291511997744, 105.18245435191443, 107.60090521932223, 104.75707571040995, 7.522941218695148, 6.594764050240112, 4.6514284592445065, 5.293246136314512, 13.052747706408534, 21.614002992710155, 6.040487762083245, 11.544760807956614, 17.213621099771565, 12.13286328743527, 8.10150852433612, 5.6983955216501085, 8.683491719607755, 4.789163436777355, 23.43622419685048, 4.714394543370077, 9.813836694527508, 7.494263736958405, 17.883584996679968, 11.179633744561546, 15.477858771796663, 11.013646383650412, 29.81671335508968, 6.656536127691142, 20.288030151902046, 15.961250241829804, 3.7287247097789407, 10.85972790716907, 3.6934482090105822, 10.09703038026914, 65.86643294576935, 16.794986723875805, 185.3903602674663, 13.320464613670122, 17.411842198906186, 16.890100371636002, 13.131286515979065, 34.235380252027824, 51.30453365136252, 219.61785510041432, 18.809533619195207, 136.11535367551997, 130.9758656598797, 31.52256155155778, 260.32864981810303, 70.34318329239609, 80.74205749391182, 33.58703107416078, 675.9308173351351, 73.64589104036749, 367.9964675422851, 61.44937582568705, 58.67180713826221, 85.43507229946479, 62.4232588411573, 223.6317928241873, 122.46151777864932, 222.53867971364502, 88.25512417080077, 172.7413804877781, 48.04432330166741, 111.0066583884235, 135.17950830125295, 313.51584770791317, 184.29411999658592, 57.182578759849676, 155.52297980771706, 217.97726150086467, 154.96377246744186, 215.01980646858286, 170.45949158907854, 138.70435814814968, 220.6288802520819, 131.12874115731645, 129.44133965325176, 124.78774128232381, 131.15900354077002, 130.50947812418488, 155.53123835388263, 173.49017903073218, 133.13089134940927, 165.2930815658004, 144.24565783850335, 140.8443450393261, 134.3595526462423, 8.968180988349786, 7.8407896675680595, 69.69019193348284, 23.842700143308978, 32.96331766318083, 30.074121170720755, 30.206860184610154, 33.38294345609263, 5.397680168702929, 14.811983326555707, 20.378196225039364, 9.654668064466472, 7.734351828751988, 11.016469159261044, 10.457396158165707, 7.170979439910381, 7.034507320850645, 6.740526403416303, 18.032389233041293, 25.422108323084956, 9.44050623673185, 5.329066835173432, 3.089888672309041, 33.018877762214935, 5.136957824604292, 3.529703702413102, 8.207601559449625, 6.537378102945984, 7.304744995792208, 14.363386457606687, 10.647973282711401, 15.05723768438719, 12.516398613405253, 13.592989482315637, 9.23947641770922, 9.803260017870187, 12.675551266186652, 14.382846166283581, 9.2839902907476, 9.221403927941012, 8.424371358732575, 8.834374806771347, 8.393924876298902, 4.910010758865015, 5.44808000854297, 11.557895398725849, 8.888022040699983, 10.066723846565816, 4.9941459497927125, 8.839647780159423, 4.866906833325137, 18.98361227411228, 10.893485764353354, 8.283828349395385, 6.0366153786767525, 9.785606399316352, 3.726253015354327, 11.00992227119294, 9.334351621808091, 13.999432372836335, 18.76412606676149, 5.5793858177129545, 24.605028659174323, 3.1742954798184737, 7.485320711717754, 7.567465070055637, 4.9388812599464655, 4.996682147085087, 13.97017101943243, 6.8001396763771815, 8.83294249142753, 26.009897275712994, 8.152288028831927, 13.657099680557703, 34.42054188964815, 46.28511419182592, 79.67143980794629, 80.76724526474858, 269.9617192336451, 44.79097399056411, 172.64371489027792, 41.351597894284524, 24.04338804306041, 88.1269643255181, 465.48847990611694, 53.927881647458996, 31.614629980821455, 38.616666595764514, 105.01414714071934, 42.71448851425432, 70.61288912752784, 108.51458214109911, 197.10200433062332, 204.38744042181432, 183.30323325444925, 298.0967962422619, 122.16646222888747, 143.10265933595412, 57.83649629945196, 139.46358375972156, 145.57869005607998, 79.62424130433364, 83.64394030060326, 201.49491015268498, 126.35977828392879, 60.3229607194699, 81.28928865493145, 73.49628396646777, 89.03591402967935, 98.92984823584031, 85.79141004431749, 92.85159085645083, 91.59021395593557, 101.37844340861595, 83.56252599040451, 85.53850710623986, 83.49438694505265, 27.900888075214187, 14.447333537403061, 13.482373984015265, 12.531051044149219, 12.50790787428749, 18.198190215108735, 11.549528569308407, 11.538111049431963, 9.616846500683344, 8.66954410187605, 9.5978658715992, 8.644458412984783, 7.703245760289444, 7.695819546235521, 7.695136926672107, 7.694392124225281, 8.615749411006403, 7.6741915040927235, 6.724991135187288, 6.736277328526379, 5.763672528838614, 5.766669372577928, 5.777777834242792, 5.751812768007763, 5.719857726705058, 46.868044820021254, 5.718249788712379, 4.798560302550503, 4.781976498785894, 4.805076047818962, 23.952486586041985, 24.75074589434057, 39.71189381306023, 72.595616989351, 29.566806502108943, 54.0273662259335, 202.33229207859745, 342.86422757050735, 70.68749715967327, 257.23340020846854, 11.867786135222156, 143.97201882417687, 234.8812857215897, 82.71922057813516, 49.035424580796786, 81.58187150987743, 190.47470300815195, 88.8512102142902, 52.7950165614676, 225.88856418118854, 195.05935233556323, 30.452665715387038, 138.51594784967168, 476.5543233285303, 163.80165401809953, 291.76295024359314, 61.75357278389675, 153.26917291211433, 443.2973580677467, 186.2522513426575, 174.8049876296835, 484.08829011027444, 110.78219622783331, 296.51058926134925, 478.05615690385, 766.7722275333467, 141.94770053176703, 223.30977503894417, 316.489032735788, 776.1509061657442, 339.2549325471436, 231.16563754933298, 380.1781749159261, 296.18190724548816, 193.22723298285203, 337.79319301008286, 392.24389659386725, 396.93124605779684, 381.4686386614019, 426.5130135760339, 445.42281728407585, 287.9002608984324, 315.35564852242476, 360.12120652507485, 439.56478130155836, 325.3221651542745, 383.7778770693953, 315.1002643483587, 311.60584616942884, 278.81952551923087, 326.1731685411439, 324.8311765316834, 32.95868513747435, 10.963135695111442, 8.095690794536841, 6.327904717292058, 9.446851713874338, 5.9679599745663765, 29.733015963336758, 5.223988242073076, 3.667983461480242, 5.599283248953606, 4.194368317041521, 4.328339281491669, 3.1556000271888145, 3.4993068004650816, 15.0273456123059, 3.480572700029174, 6.224040111230871, 25.946568909348052, 50.427177097478264, 5.927345296722098, 18.134203025794456, 14.519649792864463, 67.73855139353803, 3.140586819425365, 9.574292982390363, 7.019412326093244, 14.577871654583292, 21.69924600835257, 5.966659899913834, 4.548586187710398, 43.173407487022665, 10.556639513889298, 16.842928878592648, 182.99887354490878, 62.69284437633651, 234.44980819375388, 116.57906948106863, 154.58226897466722, 21.84614333234066, 162.6662887286623, 43.756581714639324, 23.50979688690545, 60.48397186003203, 63.82953186912665, 194.54535384779075, 63.58778465424882, 32.289244227880076, 86.98257493727554, 67.41881451517322, 105.56709888300689, 104.74768392954407, 88.85567014797323, 43.301419775982, 36.707243596081085, 75.51578809941947, 31.552258699015844, 65.48681715677994, 104.60092982365636, 78.58049741367869, 51.80110290426201, 96.91042402393995, 91.83414241158596, 82.53008716893768, 62.652590213020765, 77.35905443679766, 67.50670598180682, 62.59701665152007, 71.06450039999164, 70.39906465865269, 61.76634179223466, 61.72689261341412], \"Total\": [2741.0, 1588.0, 3117.0, 1413.0, 2779.0, 2252.0, 1684.0, 1891.0, 3031.0, 1390.0, 1677.0, 1334.0, 933.0, 1217.0, 1418.0, 1546.0, 2147.0, 1888.0, 1021.0, 1506.0, 1386.0, 912.0, 973.0, 1482.0, 2500.0, 802.0, 1131.0, 1550.0, 683.0, 794.0, 226.73085472012457, 933.2866922327246, 1413.608438596366, 236.81525299178122, 661.8839994963001, 291.24725578333613, 802.0726657985562, 794.0682724533622, 880.1157026993883, 717.0265255640144, 340.31080835877503, 454.5577756277611, 495.7130742336076, 1390.7304066282074, 1131.851483583506, 558.7443675833345, 1677.7266960080449, 454.7776882985292, 1684.0812203186576, 1588.0588453044525, 518.453192554881, 973.7945408511639, 276.4817005920292, 1334.640461446782, 729.9629991962581, 2252.54246489913, 2741.4903088413744, 191.7393195667918, 109.85786737202956, 724.871737563715, 1546.015202193948, 697.8664492962586, 1159.4566220621648, 3117.717262856808, 1550.7699642991647, 1888.5073474180738, 1506.4269329861995, 1048.7260611175238, 1891.3182818944717, 2500.546845784587, 1215.9092787742618, 6.223319031851943, 6.22392814206643, 18.33543258692654, 9.24010219433653, 26.409634447772977, 18.359407702468875, 13.256612357024954, 11.255538534377658, 14.236760298652909, 16.33808673287096, 10.188753395390108, 8.19235250546561, 8.188302654197894, 7.1751039916937325, 17.274942313366022, 8.204052457935951, 11.172722641774486, 8.177895796687821, 11.21908355116119, 12.143714887340199, 18.225916720525102, 20.27683516743356, 24.390329567222196, 7.198527430938943, 23.115226475832486, 370.4100836821033, 79.77347170704678, 28.180370802004585, 106.54755946356826, 7.165854629134269, 131.1579163737183, 72.16045443070756, 121.87818665213949, 31.4453946222009, 98.68745850894457, 41.12249230517224, 108.3496861721399, 22.19979377285759, 77.0959739477498, 474.82132602316597, 38.14218481448372, 488.3904611195247, 1418.7091526203674, 184.98339921234842, 224.4989371787556, 465.7376255555785, 391.12688714159975, 95.07636777369093, 55.7363521233984, 912.3180949331961, 453.8236507653024, 1390.7304066282074, 688.2242439876082, 585.3141979164952, 1684.0812203186576, 1048.7260611175238, 756.8084319840837, 751.3630412170977, 460.964979638369, 2500.546845784587, 488.00403816897654, 1891.3182818944717, 1307.2409487171692, 2779.753834166333, 2741.4903088413744, 3117.717262856808, 1506.4269329861995, 919.4555411027587, 2147.74810683279, 1030.4520600184733, 1131.851483583506, 1550.7699642991647, 1215.9092787742618, 1888.5073474180738, 1386.696220948355, 1097.511007691679, 1677.7266960080449, 30.98462048454985, 13.071376506902782, 9.098592990276426, 10.100155454329629, 9.10866251355525, 9.085240485446025, 7.1131528581114996, 5.119764592697128, 6.095842995921936, 9.089614528267072, 5.059945640329731, 20.998628080989953, 64.78745990947259, 6.104094685686001, 10.112014690571224, 11.10315198516049, 5.0610462607393885, 10.095892812009232, 13.094846697756422, 6.048704617971202, 37.67908588466611, 8.043295601931117, 7.053117760010785, 24.010185515226457, 13.108643832726266, 32.938960115599556, 9.116375112974886, 16.936292819308505, 7.0334965542223, 8.028746725269004, 14.97180098209286, 13.983646757445072, 106.20476915034678, 20.02467352673162, 91.49285285174959, 149.1130431474787, 18.820847152389042, 58.89215441935272, 752.6882661642157, 122.14246936759245, 232.29978177158088, 106.06720585432308, 414.0694443738064, 334.85488459793845, 1452.2176737371392, 2779.753834166333, 143.40862348486624, 1173.6448792294789, 762.9608937757233, 508.34271982280507, 800.8188661197928, 627.2540936358854, 671.6864774945554, 104.72845471118455, 1032.3363525300178, 273.6960311445239, 240.70734154370305, 1888.5073474180738, 1031.0614684243658, 431.21929272178426, 1097.511007691679, 726.9629647068829, 344.7623678731499, 3117.717262856808, 1891.3182818944717, 532.8836849218461, 668.4598213533709, 352.87155709084874, 314.3686311293596, 1482.3329540122995, 1413.608438596366, 860.1702888716964, 2252.54246489913, 764.3599922552311, 1456.950085368813, 973.7945408511639, 1215.9092787742618, 2741.4903088413744, 2147.74810683279, 3031.356739258216, 2500.546845784587, 16.901034742742542, 11.055380339678754, 8.10172346796573, 22.756190160002305, 22.7698889635643, 11.002404721763433, 212.73419299690465, 14.015439673436378, 24.961821864548686, 6.99748758730227, 10.065999228440827, 179.1245648490989, 15.907073415185593, 92.15962701093088, 8.137708912367598, 11.927277332915445, 6.04800658453981, 23.887202019618286, 20.115827967892475, 735.2454067838751, 10.929664217644854, 14.05942512588031, 217.3639199570237, 10.115592002469535, 8.098378374184131, 12.9806728340416, 275.9473016229669, 8.980014515893048, 11.85259841467389, 15.883866791889684, 505.42587459362045, 38.43308520364192, 128.1272067450101, 604.4086893840622, 1438.4059424378088, 346.7197566792819, 935.2494119959006, 115.97243453374362, 800.8188661197928, 716.4291689212916, 658.9684235881384, 1592.0355189977483, 485.589559648534, 949.0222406591294, 2500.546845784587, 162.96379615005608, 124.96756765030723, 192.3481367149911, 1677.7266960080449, 671.6864774945554, 466.7513147865403, 314.1597663060041, 1546.015202193948, 3031.356739258216, 1684.0812203186576, 1456.950085368813, 461.66041777315775, 2252.54246489913, 585.5754532634475, 1419.3305289852901, 958.4679882160838, 1482.3329540122995, 3117.717262856808, 2741.4903088413744, 2147.74810683279, 18.07256139496158, 6.781079209563865, 6.780627435001302, 10.134886705058188, 22.053436308535993, 237.38435440139722, 18.25444621291756, 8.679143005579121, 135.2081480611635, 12.854206489787423, 9.765022447712177, 8.473210867335675, 6.528433636398667, 54.09158518826044, 89.95178850522166, 7.544430343437368, 17.090431976443575, 26.20147454152874, 10.437981382898691, 74.30387624167733, 14.701498050034523, 22.593635264378573, 77.30316369175164, 242.68041449008226, 11.589537544378521, 59.45527080256367, 14.484494751239067, 60.59383685352982, 25.09182476128618, 11.466261971885029, 121.16553041645227, 90.92333788064326, 95.14619742526754, 119.61507123982352, 683.0384608758159, 496.4023538334219, 454.7776882985292, 474.82132602316597, 602.900331085673, 93.58433864788343, 2779.753834166333, 427.5097064765826, 62.90522455703506, 1048.7260611175238, 274.7275651084571, 1386.696220948355, 1418.7091526203674, 291.24725578333613, 225.094735732812, 615.6221585361259, 520.7400496361643, 1390.7304066282074, 1550.7699642991647, 344.94613926989723, 177.93520002017837, 1506.4269329861995, 2741.4903088413744, 970.8723170789608, 8.086020736157904, 5.0993434910671445, 5.102170732746723, 6.070631730685782, 9.060952293818424, 6.101726227802051, 6.103604778556018, 7.090905633768326, 10.057996509655236, 27.904268585692634, 7.0820459775297, 6.103767136034362, 16.90082820764525, 9.027878503554348, 8.033696701306141, 5.088006335405085, 60.64980429726277, 18.882410715079132, 12.016664065049106, 6.057103693185137, 21.976923127256892, 65.83710464950688, 5.101578533199522, 22.001752969926038, 9.075831874614591, 9.092305781109454, 12.035113897441864, 6.085957162269341, 5.117480162877323, 9.064960746917988, 11.904425857303188, 10.91688612166836, 12.031136403456573, 30.91291353048038, 105.26623536578028, 236.96394264926295, 217.87230359459716, 46.10965794127856, 150.04330727334298, 125.93619848299076, 352.87155709084874, 99.02288152453264, 1027.5263645180464, 1452.2176737371392, 343.85017929345366, 751.3630412170977, 1173.6448792294789, 421.07570885021676, 2779.753834166333, 314.3686311293596, 431.21929272178426, 414.0694443738064, 1097.511007691679, 451.9413162868187, 764.3599922552311, 558.0431333638055, 354.6354856413133, 504.41030486989047, 726.9629647068829, 1891.3182818944717, 880.1157026993883, 589.9043172820867, 807.6489599975371, 794.0682724533622, 668.4598213533709, 1588.0588453044525, 3117.717262856808, 1888.5073474180738, 860.1702888716964, 762.9608937757233, 1215.9092787742618, 1386.696220948355, 1159.4566220621648, 933.2866922327246, 11.002863112459089, 13.330189999845535, 8.412926207946082, 8.453592080664842, 8.359749238459182, 18.997882604517137, 35.22129338918257, 34.37156433941908, 18.48957809199614, 14.985457518721388, 6.946392247014404, 39.42138077707921, 26.97240792642842, 68.55190990783919, 17.939844074048963, 27.72349323749631, 69.29719869758793, 10.059477136278737, 19.97059003232625, 17.50327586342065, 27.46856963245981, 6.5179786268604465, 49.372775539843595, 14.81507239672362, 35.26940819392243, 78.19565004092912, 8.65399955435229, 24.34991912092957, 23.441937992129954, 5.347591576331641, 97.66853480044571, 119.23489988738393, 70.6180811379472, 366.95804926717096, 168.34631902929578, 165.15874999019908, 1217.8940709410901, 714.0737091324513, 335.2748294223347, 256.1813857325209, 284.95432817411125, 71.89996348001412, 245.38739502155875, 1888.5073474180738, 495.7130742336076, 1546.015202193948, 110.67132417902117, 650.7049978070004, 1684.0812203186576, 3117.717262856808, 703.9371073059198, 1419.3305289852901, 697.8664492962586, 1032.3363525300178, 1413.608438596366, 1021.3311183901516, 19.49602032907261, 13.361319882170342, 10.327240913578667, 19.402200327849048, 72.28335299887073, 43.53948712921507, 20.44661571683606, 8.272286193941234, 53.971267561272846, 25.455057804337223, 22.446004996972025, 7.1553430915020675, 19.44133636896684, 73.20808500837923, 75.08040382822934, 9.276257690222844, 26.172270028872695, 912.3180949331961, 7.083887643943922, 6.1165819404023685, 14.242100774025621, 13.186600940182664, 71.92280135508946, 465.7376255555785, 16.207982260647725, 25.197908610093826, 67.02569929025229, 17.15908857611656, 14.228783408140135, 12.61750250426353, 41.64560840644406, 381.96804932667294, 182.55340601448137, 488.00403816897654, 643.7061394656837, 1418.7091526203674, 232.05947128326167, 62.839100580783416, 145.74089222349554, 2147.74810683279, 703.9371073059198, 533.7084413485065, 279.1876873028291, 854.9685211129487, 496.4023538334219, 584.2243910660642, 131.5416374014015, 841.2753720261087, 256.1813857325209, 488.3904611195247, 331.161133893164, 1506.4269329861995, 1550.7699642991647, 967.8357239702516, 338.4219239123578, 2500.546845784587, 958.4679882160838, 679.580174263582, 628.0331230381071, 1482.3329540122995, 1592.0355189977483, 1891.3182818944717, 1419.3305289852901, 1139.2651074934715, 1334.640461446782, 1032.3363525300178, 7.278287526117367, 15.29174091937669, 26.56950220982542, 22.78323799720304, 20.590558261951273, 13.835141519643209, 26.13600513577903, 7.866004384907006, 13.283620297836647, 10.119707220986156, 191.42137890295507, 58.72494534214944, 163.76424986076825, 12.850687613120995, 7.6508359890366755, 29.81561272759216, 15.005930309482988, 11.71415426270969, 25.52906725253327, 23.402682524201005, 37.03207950937844, 68.49688988845816, 1588.0588453044525, 136.68744699172566, 17.95586990805449, 11.057848892775358, 39.86282233521143, 26.29905792520685, 124.65433328582402, 109.85786737202956, 450.34211161111284, 65.64463812002134, 178.73354462438354, 154.6418698617772, 973.7945408511639, 802.0726657985562, 1334.640461446782, 558.0431333638055, 155.10486372015075, 157.11704659435958, 717.0265255640144, 585.5754532634475, 405.1992558102355, 520.7400496361643, 1390.7304066282074, 382.3445202900412, 2252.54246489913, 1506.4269329861995, 860.1702888716964, 479.7553475863949, 729.9629991962581, 933.2866922327246, 1159.4566220621648, 580.4136827198835, 1413.608438596366, 488.7339420210743, 358.2280832346108, 756.8084319840837, 924.6674114896556, 661.8839994963001, 11.377712891925206, 17.523522388364935, 37.886701601165804, 10.30197200119517, 7.223743291090355, 6.212907894784339, 18.4698916586441, 16.368437929215236, 21.492305864067742, 8.266098795932866, 6.174006901820142, 52.00400376063226, 85.33900030466368, 118.99986174950556, 21.223236629194858, 13.237875151566273, 22.14053443411909, 7.126468479958813, 10.180201376747307, 6.115341093777468, 19.809153448886008, 11.257472051361027, 16.30233160593026, 17.037741842974885, 13.277742308925108, 9.177448643788455, 15.20333151106584, 12.160695023794888, 14.183081323123691, 16.122619946654346, 39.38582849765174, 705.652134401547, 116.4624891283083, 83.42413902654899, 75.76304571135302, 3031.356739258216, 958.4679882160838, 1456.950085368813, 30.305742835148028, 76.42910103481927, 724.871737563715, 113.64293311095572, 1438.4059424378088, 40.75106759222089, 233.8427057031587, 118.31476110636311, 1592.0355189977483, 260.78692368597575, 140.69513625331433, 276.3498299129131, 1419.3305289852901, 2147.74810683279, 463.6572003748687, 1677.7266960080449, 1588.0588453044525, 949.0222406591294, 2252.54246489913, 454.7776882985292, 316.1302049376071, 967.8357239702516, 654.4363168917273, 1888.5073474180738, 1030.4520600184733, 542.5213478958306, 469.8321563867555, 3117.717262856808, 924.6674114896556, 1684.0812203186576, 1550.7699642991647, 604.4086893840622, 935.2494119959006, 2500.546845784587, 1546.015202193948, 873.5474881236876, 1159.4566220621648, 1482.3329540122995, 7.7331666955180225, 6.780601254434245, 4.830978119357761, 5.803762266886013, 14.38523181391292, 23.9176483663547, 6.811224667265332, 13.490234763982919, 20.20007369239806, 14.388091057394682, 9.687510635913958, 6.844510987102149, 10.6362625930944, 5.87830818991009, 28.79979635640097, 5.848760361880951, 12.566204358191706, 9.665464615315658, 23.133781711670288, 14.497609871395852, 20.134603948332252, 14.43433312462846, 39.12994914079963, 8.792596652695538, 26.969723460755485, 21.227215727299818, 4.964580741800154, 14.501569122863009, 4.945690586142062, 13.556499164479261, 90.2852270318285, 23.19360465879939, 276.3498299129131, 18.443728979729812, 24.99270175414081, 24.1672615771003, 18.27425266740264, 55.16928080781083, 89.94105528578439, 542.5213478958306, 28.12236200645793, 324.45648873159126, 316.1302049376071, 53.34647786574194, 752.6882661642157, 149.95647563107264, 182.65456444455847, 60.11014410004892, 3031.356739258216, 170.3801670479313, 1592.0355189977483, 139.5490069460122, 133.99389100302608, 229.52535515889593, 148.48364038724887, 935.2494119959006, 394.90084700488427, 973.7945408511639, 253.6027296934758, 705.652134401547, 107.20827991058715, 398.0786450308814, 551.0478479923659, 2252.54246489913, 949.0222406591294, 143.24371047984357, 762.9608937757233, 1413.608438596366, 778.7404752482848, 1456.950085368813, 1031.0614684243658, 726.9629647068829, 1888.5073474180738, 661.8839994963001, 707.9473666901903, 662.3685532783095, 800.8188661197928, 880.1157026993883, 1684.0812203186576, 2500.546845784587, 1032.3363525300178, 2741.4903088413744, 1588.0588453044525, 1452.2176737371392, 1139.2651074934715, 236.81525299178122, 226.73085472012457, 2741.4903088413744, 1021.3311183901516, 1413.608438596366, 1390.7304066282074, 1684.0812203186576, 1891.3182818944717, 310.11332536077816, 933.2866922327246, 1334.640461446782, 661.8839994963001, 533.7084413485065, 765.9429263978434, 729.9629991962581, 524.6477480636587, 518.453192554881, 517.8369550375417, 1482.3329540122995, 2252.54246489913, 860.1702888716964, 495.7130742336076, 291.24725578333613, 3117.717262856808, 488.7339420210743, 340.31080835877503, 794.0682724533622, 643.7061394656837, 745.3469945516582, 1506.4269329861995, 1131.851483583506, 1677.7266960080449, 1386.696220948355, 1546.015202193948, 1097.511007691679, 1215.9092787742618, 1888.5073474180738, 2779.753834166333, 1307.2409487171692, 1418.7091526203674, 1217.8940709410901, 2500.546845784587, 1588.0588453044525, 5.144959689249873, 6.091717642978265, 13.133506265551375, 10.115453564477319, 12.195401287452572, 6.124159196639938, 11.148972399194742, 6.154558086034828, 24.023321011468514, 14.187266513354265, 11.075433950628003, 8.080291694951514, 13.119401106015363, 5.088028010588638, 15.104091139904856, 13.191550492763206, 19.983323669623285, 26.874267196734625, 8.073165380615745, 37.9888137169228, 5.048747637065598, 11.991118809330265, 12.144745435807861, 8.053507938742413, 8.167365980827167, 22.954279220091195, 11.207678917775143, 15.117579266838609, 44.77166010345955, 14.171044084249306, 24.00484368467089, 71.29858885242513, 101.9633082765732, 190.07450472349618, 203.76095478746723, 919.4555411027587, 105.75559862800249, 602.900331085673, 101.29452208624028, 52.79472742401176, 291.24725578333613, 2741.4903088413744, 156.56763173427913, 76.87201900880524, 101.7385072543841, 427.5097064765826, 118.99530160544612, 247.1151360008214, 520.7400496361643, 1307.2409487171692, 1390.7304066282074, 1217.8940709410901, 2779.753834166333, 683.0384608758159, 911.7377499758186, 212.0099367854584, 1139.2651074934715, 1386.696220948355, 453.8236507653024, 517.8369550375417, 3117.717262856808, 1550.7699642991647, 299.7967146579707, 688.2242439876082, 532.8836849218461, 1021.3311183901516, 1506.4269329861995, 970.8723170789608, 1334.640461446782, 1482.3329540122995, 2500.546845784587, 1131.851483583506, 1891.3182818944717, 1684.0812203186576, 28.14752404225225, 14.637666145957843, 13.663664858919656, 12.708575641937648, 12.686932674455718, 18.486287469314163, 11.740030711554073, 11.739033311004565, 9.792799043734707, 8.843247777250184, 9.798442222603098, 8.833686714356643, 7.8789083813038525, 7.871943472321501, 7.871751102514302, 7.8745808309105, 8.828970228451466, 7.865980122934858, 6.898957530871184, 6.9117207496177855, 5.935599081831956, 5.938854630859451, 5.950408954338019, 5.928886589854141, 5.897091646867717, 48.45018011271714, 5.919744655840526, 4.969772494177866, 4.953639910890536, 4.977573636118211, 25.27611689941365, 26.241602895229175, 42.7053814727464, 79.51328440535995, 32.054457497085245, 60.16316507737297, 241.76826580902386, 424.37504635707535, 84.6704851642538, 345.20989117403883, 12.736767133184646, 194.12323678475389, 347.0631636331959, 109.1987119882041, 61.46422376118329, 108.63937152170708, 290.153754417225, 122.91113377626486, 68.15673783050407, 365.2520616958601, 335.2748294223347, 38.072562432149184, 232.31101779119146, 1030.4520600184733, 286.832321248715, 584.5377891574328, 88.78200272921625, 272.94434869791763, 1021.3311183901516, 348.2484854759665, 334.98703863162297, 1307.2409487171692, 188.2076106955085, 707.9473666901903, 1386.696220948355, 2741.4903088413744, 264.9113955820229, 502.69244141226267, 836.4680595488986, 3117.717262856808, 970.8723170789608, 552.0129898424988, 1217.8940709410901, 854.9685211129487, 445.80696857906423, 1131.851483583506, 1482.3329540122995, 1546.015202193948, 1506.4269329861995, 1891.3182818944717, 2147.74810683279, 919.4555411027587, 1139.2651074934715, 1550.7699642991647, 2500.546845784587, 1334.640461446782, 2252.54246489913, 1413.608438596366, 1419.3305289852901, 967.8357239702516, 2779.753834166333, 3031.356739258216, 37.07579413291305, 13.06182382987851, 10.138799689158843, 8.066222642766867, 12.09908788661285, 8.039055172925435, 40.82824717901038, 7.175048961090452, 5.096438759735304, 8.07475184284038, 6.073831064919965, 7.060583146059942, 5.166852245746874, 6.021923329744391, 26.014954113459638, 6.051495647580172, 11.021425457942634, 46.96270304688186, 91.96389775812608, 10.890107804383735, 33.88107265940052, 27.79613264804579, 132.53730544626575, 6.145680092081506, 18.937961376806882, 13.888398171846138, 28.952551419723413, 43.38283266525566, 11.95945868621649, 9.172162695679795, 89.59823790791134, 21.70640360686304, 35.75035229354502, 524.9431753367084, 187.21834529610248, 933.2866922327246, 403.26785901832835, 586.6870675830147, 54.19520077311853, 714.0737091324513, 136.68744699172566, 61.134963265789715, 216.01375780535537, 237.32467891593325, 1159.4566220621648, 247.61761110374388, 102.86127257170023, 471.6538993058808, 340.31080835877503, 729.9629991962581, 724.871737563715, 558.0431333638055, 173.23658368570221, 130.79068986222842, 517.8369550375417, 104.55689111310633, 445.80696857906423, 1217.8940709410901, 688.2242439876082, 331.161133893164, 1506.4269329861995, 1386.696220948355, 1307.2409487171692, 584.2243910660642, 1588.0588453044525, 1131.851483583506, 924.6674114896556, 2741.4903088413744, 3117.717262856808, 1390.7304066282074, 1419.3305289852901], \"Category\": [\"Default\", \"Default\", \"Default\", \"Default\", \"Default\", \"Default\", \"Default\", \"Default\", \"Default\", \"Default\", \"Default\", \"Default\", \"Default\", \"Default\", \"Default\", \"Default\", \"Default\", \"Default\", \"Default\", \"Default\", \"Default\", \"Default\", \"Default\", \"Default\", \"Default\", \"Default\", \"Default\", \"Default\", \"Default\", \"Default\", \"Topic1\", \"Topic1\", \"Topic1\", \"Topic1\", \"Topic1\", \"Topic1\", \"Topic1\", \"Topic1\", \"Topic1\", \"Topic1\", \"Topic1\", \"Topic1\", \"Topic1\", \"Topic1\", \"Topic1\", \"Topic1\", \"Topic1\", \"Topic1\", \"Topic1\", \"Topic1\", \"Topic1\", \"Topic1\", \"Topic1\", \"Topic1\", \"Topic1\", \"Topic1\", \"Topic1\", \"Topic1\", \"Topic1\", \"Topic1\", \"Topic1\", \"Topic1\", \"Topic1\", \"Topic1\", \"Topic1\", \"Topic1\", \"Topic1\", \"Topic1\", \"Topic1\", \"Topic1\", \"Topic1\", \"Topic2\", \"Topic2\", \"Topic2\", \"Topic2\", \"Topic2\", \"Topic2\", \"Topic2\", \"Topic2\", \"Topic2\", \"Topic2\", \"Topic2\", \"Topic2\", \"Topic2\", \"Topic2\", \"Topic2\", \"Topic2\", \"Topic2\", \"Topic2\", \"Topic2\", \"Topic2\", \"Topic2\", \"Topic2\", \"Topic2\", \"Topic2\", \"Topic2\", \"Topic2\", \"Topic2\", \"Topic2\", \"Topic2\", \"Topic2\", \"Topic2\", \"Topic2\", \"Topic2\", \"Topic2\", \"Topic2\", \"Topic2\", \"Topic2\", \"Topic2\", \"Topic2\", \"Topic2\", \"Topic2\", \"Topic2\", \"Topic2\", \"Topic2\", \"Topic2\", \"Topic2\", \"Topic2\", \"Topic2\", \"Topic2\", \"Topic2\", \"Topic2\", \"Topic2\", \"Topic2\", \"Topic2\", \"Topic2\", \"Topic2\", \"Topic2\", \"Topic2\", \"Topic2\", \"Topic2\", \"Topic2\", \"Topic2\", \"Topic2\", \"Topic2\", \"Topic2\", \"Topic2\", \"Topic2\", \"Topic2\", \"Topic2\", \"Topic2\", \"Topic2\", \"Topic2\", \"Topic2\", \"Topic2\", \"Topic2\", \"Topic2\", \"Topic2\", \"Topic3\", \"Topic3\", \"Topic3\", \"Topic3\", \"Topic3\", \"Topic3\", \"Topic3\", \"Topic3\", \"Topic3\", \"Topic3\", \"Topic3\", \"Topic3\", \"Topic3\", \"Topic3\", \"Topic3\", \"Topic3\", \"Topic3\", \"Topic3\", \"Topic3\", \"Topic3\", \"Topic3\", \"Topic3\", \"Topic3\", \"Topic3\", \"Topic3\", \"Topic3\", \"Topic3\", \"Topic3\", \"Topic3\", \"Topic3\", \"Topic3\", \"Topic3\", \"Topic3\", \"Topic3\", \"Topic3\", \"Topic3\", \"Topic3\", \"Topic3\", \"Topic3\", \"Topic3\", \"Topic3\", \"Topic3\", \"Topic3\", \"Topic3\", \"Topic3\", \"Topic3\", \"Topic3\", \"Topic3\", \"Topic3\", \"Topic3\", \"Topic3\", \"Topic3\", \"Topic3\", \"Topic3\", \"Topic3\", \"Topic3\", \"Topic3\", \"Topic3\", \"Topic3\", \"Topic3\", \"Topic3\", \"Topic3\", \"Topic3\", \"Topic3\", \"Topic3\", \"Topic3\", \"Topic3\", \"Topic3\", \"Topic3\", \"Topic3\", \"Topic3\", \"Topic3\", \"Topic3\", \"Topic3\", \"Topic3\", \"Topic3\", \"Topic3\", \"Topic3\", \"Topic3\", \"Topic3\", \"Topic3\", \"Topic4\", \"Topic4\", \"Topic4\", \"Topic4\", \"Topic4\", \"Topic4\", \"Topic4\", \"Topic4\", \"Topic4\", \"Topic4\", \"Topic4\", \"Topic4\", \"Topic4\", \"Topic4\", \"Topic4\", \"Topic4\", \"Topic4\", \"Topic4\", \"Topic4\", \"Topic4\", \"Topic4\", \"Topic4\", \"Topic4\", \"Topic4\", \"Topic4\", \"Topic4\", \"Topic4\", \"Topic4\", \"Topic4\", \"Topic4\", \"Topic4\", \"Topic4\", \"Topic4\", \"Topic4\", \"Topic4\", \"Topic4\", \"Topic4\", \"Topic4\", \"Topic4\", \"Topic4\", \"Topic4\", \"Topic4\", \"Topic4\", \"Topic4\", \"Topic4\", \"Topic4\", \"Topic4\", \"Topic4\", \"Topic4\", \"Topic4\", \"Topic4\", \"Topic4\", \"Topic4\", \"Topic4\", \"Topic4\", \"Topic4\", \"Topic4\", \"Topic4\", \"Topic4\", \"Topic4\", \"Topic4\", \"Topic4\", \"Topic4\", \"Topic4\", \"Topic4\", \"Topic5\", \"Topic5\", \"Topic5\", \"Topic5\", \"Topic5\", \"Topic5\", \"Topic5\", \"Topic5\", \"Topic5\", \"Topic5\", \"Topic5\", \"Topic5\", \"Topic5\", \"Topic5\", \"Topic5\", \"Topic5\", \"Topic5\", \"Topic5\", \"Topic5\", \"Topic5\", \"Topic5\", \"Topic5\", \"Topic5\", \"Topic5\", \"Topic5\", \"Topic5\", \"Topic5\", \"Topic5\", \"Topic5\", \"Topic5\", \"Topic5\", \"Topic5\", \"Topic5\", \"Topic5\", \"Topic5\", \"Topic5\", \"Topic5\", \"Topic5\", \"Topic5\", \"Topic5\", \"Topic5\", \"Topic5\", \"Topic5\", \"Topic5\", \"Topic5\", \"Topic5\", \"Topic5\", \"Topic5\", \"Topic5\", \"Topic5\", \"Topic5\", \"Topic5\", \"Topic5\", \"Topic5\", \"Topic5\", \"Topic5\", \"Topic5\", \"Topic5\", \"Topic6\", \"Topic6\", \"Topic6\", \"Topic6\", \"Topic6\", \"Topic6\", \"Topic6\", \"Topic6\", \"Topic6\", \"Topic6\", \"Topic6\", \"Topic6\", \"Topic6\", \"Topic6\", \"Topic6\", \"Topic6\", \"Topic6\", \"Topic6\", \"Topic6\", \"Topic6\", \"Topic6\", \"Topic6\", \"Topic6\", \"Topic6\", \"Topic6\", \"Topic6\", \"Topic6\", \"Topic6\", \"Topic6\", \"Topic6\", \"Topic6\", \"Topic6\", \"Topic6\", \"Topic6\", \"Topic6\", \"Topic6\", \"Topic6\", \"Topic6\", \"Topic6\", \"Topic6\", \"Topic6\", \"Topic6\", \"Topic6\", \"Topic6\", \"Topic6\", \"Topic6\", \"Topic6\", \"Topic6\", \"Topic6\", \"Topic6\", \"Topic6\", \"Topic6\", \"Topic6\", \"Topic6\", \"Topic6\", \"Topic6\", \"Topic6\", \"Topic6\", \"Topic6\", \"Topic6\", \"Topic6\", \"Topic6\", \"Topic6\", \"Topic6\", \"Topic6\", \"Topic6\", \"Topic6\", \"Topic6\", \"Topic6\", \"Topic6\", \"Topic6\", \"Topic6\", \"Topic6\", \"Topic6\", \"Topic7\", \"Topic7\", \"Topic7\", \"Topic7\", \"Topic7\", \"Topic7\", \"Topic7\", \"Topic7\", \"Topic7\", \"Topic7\", \"Topic7\", \"Topic7\", \"Topic7\", \"Topic7\", \"Topic7\", \"Topic7\", \"Topic7\", \"Topic7\", \"Topic7\", \"Topic7\", \"Topic7\", \"Topic7\", \"Topic7\", \"Topic7\", \"Topic7\", \"Topic7\", \"Topic7\", \"Topic7\", \"Topic7\", \"Topic7\", \"Topic7\", \"Topic7\", \"Topic7\", \"Topic7\", \"Topic7\", \"Topic7\", \"Topic7\", \"Topic7\", \"Topic7\", \"Topic7\", \"Topic7\", \"Topic7\", \"Topic7\", \"Topic7\", \"Topic7\", \"Topic7\", \"Topic7\", \"Topic7\", \"Topic7\", \"Topic7\", \"Topic7\", \"Topic7\", \"Topic7\", \"Topic7\", \"Topic7\", \"Topic7\", \"Topic8\", \"Topic8\", \"Topic8\", \"Topic8\", \"Topic8\", \"Topic8\", \"Topic8\", \"Topic8\", \"Topic8\", \"Topic8\", \"Topic8\", \"Topic8\", \"Topic8\", \"Topic8\", \"Topic8\", \"Topic8\", \"Topic8\", \"Topic8\", \"Topic8\", \"Topic8\", \"Topic8\", \"Topic8\", \"Topic8\", \"Topic8\", \"Topic8\", \"Topic8\", \"Topic8\", \"Topic8\", \"Topic8\", \"Topic8\", \"Topic8\", \"Topic8\", \"Topic8\", \"Topic8\", \"Topic8\", \"Topic8\", \"Topic8\", \"Topic8\", \"Topic8\", \"Topic8\", \"Topic8\", \"Topic8\", \"Topic8\", \"Topic8\", \"Topic8\", \"Topic8\", \"Topic8\", \"Topic8\", \"Topic8\", \"Topic8\", \"Topic8\", \"Topic8\", \"Topic8\", \"Topic8\", \"Topic8\", \"Topic8\", \"Topic8\", \"Topic8\", \"Topic8\", \"Topic8\", \"Topic8\", \"Topic8\", \"Topic8\", \"Topic8\", \"Topic8\", \"Topic8\", \"Topic9\", \"Topic9\", \"Topic9\", \"Topic9\", \"Topic9\", \"Topic9\", \"Topic9\", \"Topic9\", \"Topic9\", \"Topic9\", \"Topic9\", \"Topic9\", \"Topic9\", \"Topic9\", \"Topic9\", \"Topic9\", \"Topic9\", \"Topic9\", \"Topic9\", \"Topic9\", \"Topic9\", \"Topic9\", \"Topic9\", \"Topic9\", \"Topic9\", \"Topic9\", \"Topic9\", \"Topic9\", \"Topic9\", \"Topic9\", \"Topic9\", \"Topic9\", \"Topic9\", \"Topic9\", \"Topic9\", \"Topic9\", \"Topic9\", \"Topic9\", \"Topic9\", \"Topic9\", \"Topic9\", \"Topic9\", \"Topic9\", \"Topic9\", \"Topic9\", \"Topic9\", \"Topic9\", \"Topic9\", \"Topic9\", \"Topic9\", \"Topic9\", \"Topic9\", \"Topic9\", \"Topic9\", \"Topic9\", \"Topic9\", \"Topic9\", \"Topic9\", \"Topic9\", \"Topic9\", \"Topic10\", \"Topic10\", \"Topic10\", \"Topic10\", \"Topic10\", \"Topic10\", \"Topic10\", \"Topic10\", \"Topic10\", \"Topic10\", \"Topic10\", \"Topic10\", \"Topic10\", \"Topic10\", \"Topic10\", \"Topic10\", \"Topic10\", \"Topic10\", \"Topic10\", \"Topic10\", \"Topic10\", \"Topic10\", \"Topic10\", \"Topic10\", \"Topic10\", \"Topic10\", \"Topic10\", \"Topic10\", \"Topic10\", \"Topic10\", \"Topic10\", \"Topic10\", \"Topic10\", \"Topic10\", \"Topic10\", \"Topic10\", \"Topic10\", \"Topic10\", \"Topic10\", \"Topic10\", \"Topic10\", \"Topic10\", \"Topic10\", \"Topic10\", \"Topic10\", \"Topic10\", \"Topic10\", \"Topic10\", \"Topic10\", \"Topic10\", \"Topic10\", \"Topic10\", \"Topic10\", \"Topic10\", \"Topic10\", \"Topic10\", \"Topic10\", \"Topic10\", \"Topic10\", \"Topic10\", \"Topic10\", \"Topic10\", \"Topic10\", \"Topic10\", \"Topic10\", \"Topic10\", \"Topic10\", \"Topic10\", \"Topic10\", \"Topic10\", \"Topic10\", \"Topic10\", \"Topic10\", \"Topic10\", \"Topic10\", \"Topic10\", \"Topic11\", \"Topic11\", \"Topic11\", \"Topic11\", \"Topic11\", \"Topic11\", \"Topic11\", \"Topic11\", \"Topic11\", \"Topic11\", \"Topic11\", \"Topic11\", \"Topic11\", \"Topic11\", \"Topic11\", \"Topic11\", \"Topic11\", \"Topic11\", \"Topic11\", \"Topic11\", \"Topic11\", \"Topic11\", \"Topic11\", \"Topic11\", \"Topic11\", \"Topic11\", \"Topic11\", \"Topic11\", \"Topic11\", \"Topic11\", \"Topic11\", \"Topic11\", \"Topic11\", \"Topic11\", \"Topic11\", \"Topic11\", \"Topic11\", \"Topic11\", \"Topic11\", \"Topic11\", \"Topic11\", \"Topic11\", \"Topic11\", \"Topic11\", \"Topic11\", \"Topic11\", \"Topic11\", \"Topic11\", \"Topic11\", \"Topic11\", \"Topic11\", \"Topic11\", \"Topic11\", \"Topic11\", \"Topic11\", \"Topic11\", \"Topic11\", \"Topic11\", \"Topic11\", \"Topic11\", \"Topic11\", \"Topic11\", \"Topic11\", \"Topic11\", \"Topic11\", \"Topic11\", \"Topic11\", \"Topic11\", \"Topic11\", \"Topic11\", \"Topic11\", \"Topic11\", \"Topic11\", \"Topic11\", \"Topic11\", \"Topic11\", \"Topic11\", \"Topic11\", \"Topic11\", \"Topic11\", \"Topic11\", \"Topic11\", \"Topic11\", \"Topic11\", \"Topic11\", \"Topic12\", \"Topic12\", \"Topic12\", \"Topic12\", \"Topic12\", \"Topic12\", \"Topic12\", \"Topic12\", \"Topic12\", \"Topic12\", \"Topic12\", \"Topic12\", \"Topic12\", \"Topic12\", \"Topic12\", \"Topic12\", \"Topic12\", \"Topic12\", \"Topic12\", \"Topic12\", \"Topic12\", \"Topic12\", \"Topic12\", \"Topic12\", \"Topic12\", \"Topic12\", \"Topic12\", \"Topic12\", \"Topic12\", \"Topic12\", \"Topic12\", \"Topic12\", \"Topic12\", \"Topic12\", \"Topic12\", \"Topic12\", \"Topic12\", \"Topic12\", \"Topic12\", \"Topic12\", \"Topic12\", \"Topic12\", \"Topic12\", \"Topic13\", \"Topic13\", \"Topic13\", \"Topic13\", \"Topic13\", \"Topic13\", \"Topic13\", \"Topic13\", \"Topic13\", \"Topic13\", \"Topic13\", \"Topic13\", \"Topic13\", \"Topic13\", \"Topic13\", \"Topic13\", \"Topic13\", \"Topic13\", \"Topic13\", \"Topic13\", \"Topic13\", \"Topic13\", \"Topic13\", \"Topic13\", \"Topic13\", \"Topic13\", \"Topic13\", \"Topic13\", \"Topic13\", \"Topic13\", \"Topic13\", \"Topic13\", \"Topic13\", \"Topic13\", \"Topic13\", \"Topic13\", \"Topic13\", \"Topic13\", \"Topic13\", \"Topic13\", \"Topic13\", \"Topic13\", \"Topic13\", \"Topic13\", \"Topic13\", \"Topic13\", \"Topic13\", \"Topic13\", \"Topic13\", \"Topic13\", \"Topic13\", \"Topic13\", \"Topic13\", \"Topic13\", \"Topic13\", \"Topic13\", \"Topic13\", \"Topic13\", \"Topic13\", \"Topic13\", \"Topic13\", \"Topic13\", \"Topic13\", \"Topic13\", \"Topic13\", \"Topic13\", \"Topic13\", \"Topic13\", \"Topic13\", \"Topic13\", \"Topic13\", \"Topic13\", \"Topic13\", \"Topic13\", \"Topic14\", \"Topic14\", \"Topic14\", \"Topic14\", \"Topic14\", \"Topic14\", \"Topic14\", \"Topic14\", \"Topic14\", \"Topic14\", \"Topic14\", \"Topic14\", \"Topic14\", \"Topic14\", \"Topic14\", \"Topic14\", \"Topic14\", \"Topic14\", \"Topic14\", \"Topic14\", \"Topic14\", \"Topic14\", \"Topic14\", \"Topic14\", \"Topic14\", \"Topic14\", \"Topic14\", \"Topic14\", \"Topic14\", \"Topic14\", \"Topic14\", \"Topic14\", \"Topic14\", \"Topic14\", \"Topic14\", \"Topic14\", \"Topic14\", \"Topic14\", \"Topic14\", \"Topic14\", \"Topic14\", \"Topic14\", \"Topic14\", \"Topic14\", \"Topic14\", \"Topic14\", \"Topic14\", \"Topic14\", \"Topic14\", \"Topic14\", \"Topic14\", \"Topic14\", \"Topic14\", \"Topic14\", \"Topic14\", \"Topic14\", \"Topic14\", \"Topic14\", \"Topic14\", \"Topic14\", \"Topic14\", \"Topic14\", \"Topic14\", \"Topic14\", \"Topic14\", \"Topic14\", \"Topic14\", \"Topic14\", \"Topic14\", \"Topic14\", \"Topic14\", \"Topic14\", \"Topic14\", \"Topic14\", \"Topic14\", \"Topic14\", \"Topic14\", \"Topic14\", \"Topic14\", \"Topic14\", \"Topic14\", \"Topic14\", \"Topic14\", \"Topic14\", \"Topic14\", \"Topic14\", \"Topic14\", \"Topic14\", \"Topic14\", \"Topic14\", \"Topic14\", \"Topic14\", \"Topic15\", \"Topic15\", \"Topic15\", \"Topic15\", \"Topic15\", \"Topic15\", \"Topic15\", \"Topic15\", \"Topic15\", \"Topic15\", \"Topic15\", \"Topic15\", \"Topic15\", \"Topic15\", \"Topic15\", \"Topic15\", \"Topic15\", \"Topic15\", \"Topic15\", \"Topic15\", \"Topic15\", \"Topic15\", \"Topic15\", \"Topic15\", \"Topic15\", \"Topic15\", \"Topic15\", \"Topic15\", \"Topic15\", \"Topic15\", \"Topic15\", \"Topic15\", \"Topic15\", \"Topic15\", \"Topic15\", \"Topic15\", \"Topic15\", \"Topic15\", \"Topic15\", \"Topic15\", \"Topic15\", \"Topic15\", \"Topic15\", \"Topic15\", \"Topic15\", \"Topic15\", \"Topic15\", \"Topic15\", \"Topic15\", \"Topic15\", \"Topic15\", \"Topic15\", \"Topic15\", \"Topic15\", \"Topic15\", \"Topic15\", \"Topic15\", \"Topic15\", \"Topic15\", \"Topic15\", \"Topic15\", \"Topic15\", \"Topic15\", \"Topic15\", \"Topic15\", \"Topic15\", \"Topic15\", \"Topic15\", \"Topic15\", \"Topic15\", \"Topic15\"], \"logprob\": [30.0, 29.0, 28.0, 27.0, 26.0, 25.0, 24.0, 23.0, 22.0, 21.0, 20.0, 19.0, 18.0, 17.0, 16.0, 15.0, 14.0, 13.0, 12.0, 11.0, 10.0, 9.0, 8.0, 7.0, 6.0, 5.0, 4.0, 3.0, 2.0, 1.0, -3.363, -2.9693, -2.9636, -4.8561, -3.8638, -4.824, -3.871, -3.9488, -3.9726, -4.2385, -4.9867, -4.7791, -4.7111, -3.7481, -4.0039, -4.779, -3.6985, -5.0179, -3.7182, -3.7972, -4.925, -4.3031, -5.5765, -4.0689, -4.7213, -3.5983, -3.4239, -6.1494, -6.7213, -4.8885, -4.1469, -4.9772, -4.5375, -3.7606, -4.3669, -4.452, -4.5407, -4.6867, -4.5414, -4.5945, -4.7155, -8.8221, -8.8328, -7.7554, -8.4572, -7.4073, -7.7787, -8.1049, -8.2844, -8.0794, -7.964, -8.446, -8.6673, -8.6836, -8.8184, -7.9542, -8.6988, -8.3929, -8.7061, -8.3911, -8.3305, -7.928, -7.8258, -7.6442, -8.8651, -7.702, -4.9311, -6.4674, -7.5098, -6.1821, -8.8924, -6.0246, -6.6196, -6.1541, -7.4312, -6.3669, -7.1886, -6.3131, -7.7778, -6.6718, -5.0617, -7.3151, -5.2108, -4.3609, -6.0352, -5.9424, -5.3834, -5.5213, -6.653, -7.0605, -5.044, -5.5913, -4.7995, -5.314, -5.4453, -4.7212, -5.0501, -5.2977, -5.3058, -5.6334, -4.5337, -5.6096, -4.8353, -5.0593, -4.623, -4.705, -4.6573, -5.0515, -5.3173, -4.9973, -5.3499, -5.3362, -5.2295, -5.3479, -5.2254, -5.3761, -5.4301, -5.3803, -7.2276, -8.0992, -8.4701, -8.3666, -8.472, -8.4763, -8.7217, -9.0556, -8.8814, -8.4839, -9.0725, -7.6558, -6.535, -8.906, -8.4253, -8.3476, -9.1445, -8.4681, -8.2103, -8.992, -7.1755, -8.7235, -8.8626, -7.6406, -8.2468, -7.326, -8.6185, -8.0008, -8.89, -8.7651, -8.1623, -8.234, -6.3868, -7.9216, -6.584, -6.18, -7.9868, -7.02, -4.9052, -6.4152, -5.9, -6.5433, -5.4437, -5.6658, -4.5169, -4.0553, -6.4034, -4.8086, -5.1491, -5.467, -5.1654, -5.3496, -5.3008, -6.6885, -5.0187, -5.9895, -6.1046, -4.6749, -5.1003, -5.7102, -5.1159, -5.3969, -5.8763, -4.5427, -4.8738, -5.6232, -5.5418, -5.8921, -5.9612, -5.1977, -5.2486, -5.4901, -5.0724, -5.5702, -5.3283, -5.5064, -5.439, -5.1826, -5.2634, -5.2781, -5.4642, -7.6735, -8.1286, -8.464, -7.4327, -7.441, -8.1921, -5.2638, -7.9924, -7.4674, -8.7422, -8.4015, -5.5293, -7.9578, -6.213, -8.6499, -8.2865, -8.9686, -7.602, -7.7806, -4.1833, -8.3954, -8.1535, -5.436, -8.5055, -8.7566, -8.2867, -5.2345, -8.6757, -8.3995, -8.1076, -4.73, -7.2729, -6.1322, -4.6771, -3.8745, -5.2674, -4.3691, -6.2797, -4.6501, -4.7508, -4.831, -4.0901, -5.1091, -4.5896, -3.8249, -6.0683, -6.2839, -5.9434, -4.2352, -4.9701, -5.2804, -5.6031, -4.456, -4.0067, -4.4717, -4.5817, -5.371, -4.3735, -5.2422, -4.698, -4.97, -4.8496, -4.5178, -4.6956, -4.9364, -5.5921, -6.6106, -6.6299, -6.2769, -5.5187, -3.2956, -5.8639, -6.701, -3.971, -6.3505, -6.6626, -6.8876, -7.1654, -5.0813, -4.578, -7.0949, -6.3305, -5.925, -6.8632, -5.0407, -6.6695, -6.2534, -5.0261, -3.9095, -6.9973, -5.3689, -6.8215, -5.4095, -6.2915, -7.0816, -4.7716, -5.0601, -5.1212, -4.9706, -3.5158, -3.8435, -4.0966, -4.0882, -4.0123, -5.28, -3.3271, -4.4753, -5.5833, -4.0232, -4.8371, -4.0637, -4.0592, -4.8804, -4.9925, -4.5959, -4.7433, -4.4434, -4.5567, -4.9456, -5.1832, -4.8871, -4.952, -5.0422, -8.313, -8.777, -8.7794, -8.608, -8.2109, -8.6084, -8.6175, -8.4744, -8.1262, -7.1208, -8.4973, -8.6978, -7.6815, -8.3119, -8.4334, -8.8976, -6.4377, -7.6395, -8.1164, -8.8152, -7.5274, -6.432, -8.9924, -7.5536, -8.4486, -8.447, -8.177, -8.8637, -9.0448, -8.4885, -8.222, -8.3065, -8.2217, -7.3603, -6.2883, -5.5826, -5.6664, -7.0386, -6.0363, -6.2005, -5.3249, -6.4182, -4.5021, -4.2319, -5.4073, -4.778, -4.524, -5.3305, -3.8809, -5.6002, -5.3725, -5.4067, -4.7245, -5.3939, -5.0175, -5.2832, -5.6108, -5.3655, -5.1354, -4.4853, -5.009, -5.3297, -5.1543, -5.1646, -5.2794, -4.8461, -4.4971, -4.8006, -5.187, -5.3084, -5.1461, -5.1963, -5.2612, -5.3206, -5.6443, -5.4693, -5.9764, -6.0026, -6.0248, -5.2161, -4.614, -4.7772, -5.4032, -5.6226, -6.409, -4.767, -5.1638, -4.2673, -5.6441, -5.2334, -4.3537, -6.2856, -5.675, -5.8405, -5.3899, -6.8707, -4.938, -6.305, -5.4413, -4.6552, -6.9096, -5.9402, -5.9824, -7.532, -4.6714, -4.5358, -5.0745, -3.8219, -4.4374, -4.6221, -3.3663, -3.7772, -4.2183, -4.6408, -4.6204, -5.2001, -4.7584, -4.0697, -4.6048, -4.3773, -5.0943, -4.7278, -4.5404, -4.5152, -4.8073, -4.7963, -4.9531, -4.9561, -4.987, -5.0034, -6.6038, -7.0884, -7.4588, -6.8358, -5.5554, -6.0848, -6.8785, -7.8236, -5.9533, -6.706, -6.8422, -8.0194, -7.0435, -5.7873, -5.7783, -7.8925, -6.866, -3.3414, -8.2391, -8.4013, -7.5814, -7.6602, -5.9669, -4.1032, -7.4674, -7.0436, -6.075, -7.472, -7.6763, -7.8052, -6.6331, -4.4752, -5.2207, -4.2921, -4.0552, -3.427, -5.1159, -6.2919, -5.5844, -3.437, -4.3653, -4.6469, -5.153, -4.4216, -4.8078, -4.745, -5.766, -4.582, -5.3405, -4.9685, -5.2283, -4.37, -4.4461, -4.7537, -5.3004, -4.4114, -4.9951, -5.1155, -5.1438, -4.9075, -5.0007, -4.9715, -5.086, -5.149, -5.1496, -5.2056, -6.789, -6.1169, -5.6768, -5.8507, -5.9991, -6.4229, -5.8019, -7.1156, -6.6199, -6.9244, -4.0837, -5.2804, -4.327, -6.9603, -7.4962, -6.1984, -6.8889, -7.1454, -6.3875, -6.5089, -6.0595, -5.4516, -2.3279, -4.783, -6.8764, -7.4355, -6.174, -6.6383, -5.0971, -5.2713, -4.0094, -5.8184, -4.9627, -5.0959, -3.6353, -3.7933, -3.4603, -4.1384, -5.1667, -5.161, -4.1751, -4.3565, -4.6567, -4.5628, -4.0793, -4.8154, -3.9152, -4.1666, -4.515, -4.7722, -4.6962, -4.6405, -4.6044, -4.831, -4.7045, -4.9762, -5.0625, -4.9828, -4.9676, -5.0115, -7.5945, -7.1731, -6.4261, -7.7424, -8.241, -8.3931, -7.3202, -7.4539, -7.2061, -8.1687, -8.4682, -6.3842, -5.905, -5.5779, -7.331, -7.8085, -7.325, -8.4824, -8.1294, -8.6532, -7.4822, -8.0786, -7.7232, -7.6901, -7.9458, -8.3318, -7.8522, -8.0812, -7.9318, -7.8067, -6.9601, -4.2619, -5.9658, -6.295, -6.3956, -3.1103, -4.2363, -3.9846, -7.2509, -6.4874, -4.67, -6.1712, -4.1861, -7.0105, -5.6675, -6.1912, -4.3426, -5.6796, -6.1188, -5.6395, -4.5058, -4.2245, -5.2984, -4.4637, -4.5028, -4.9466, -4.4619, -5.4329, -5.6529, -5.0264, -5.2908, -4.75, -5.1076, -5.4255, -5.5017, -4.6543, -5.1984, -4.9496, -5.0073, -5.4038, -5.2572, -4.958, -5.179, -5.3276, -5.3048, -5.3316, -8.3083, -8.44, -8.7891, -8.6599, -7.7573, -7.253, -8.5278, -7.8801, -7.4806, -7.8304, -8.2343, -8.5861, -8.1649, -8.7599, -7.172, -8.7757, -8.0425, -8.3122, -7.4424, -7.9122, -7.5869, -7.9272, -6.9312, -8.4307, -7.3163, -7.5561, -9.0102, -7.9412, -9.0197, -8.0141, -6.1387, -7.5052, -5.1038, -7.737, -7.4692, -7.4996, -7.7513, -6.793, -6.3885, -4.9344, -7.3919, -5.4128, -5.4513, -6.8756, -4.7644, -6.0729, -5.935, -6.8122, -3.8102, -6.027, -4.4182, -6.2081, -6.2543, -5.8785, -6.1924, -4.9163, -5.5185, -4.9212, -5.8461, -5.1745, -6.4542, -5.6167, -5.4197, -4.5785, -5.1098, -6.2801, -5.2795, -4.9419, -5.2831, -4.9556, -5.1878, -5.394, -4.9298, -5.4501, -5.4631, -5.4997, -5.4499, -5.4549, -5.2795, -5.1702, -5.435, -5.2186, -5.3548, -5.3786, -5.4258, -4.7761, -4.9104, -2.7257, -3.7983, -3.4743, -3.5661, -3.5617, -3.4617, -5.2838, -4.2743, -3.9553, -4.7023, -4.9241, -4.5703, -4.6224, -4.9997, -5.0189, -5.0616, -4.0776, -3.7341, -4.7247, -5.2966, -5.8416, -3.4727, -5.3333, -5.7085, -4.8647, -5.0922, -4.9812, -4.3051, -4.6044, -4.2579, -4.4427, -4.3602, -4.7462, -4.687, -4.4301, -4.3037, -4.7414, -4.7482, -4.8386, -4.7911, -4.8422, -8.0706, -7.9666, -7.2145, -7.4772, -7.3526, -8.0536, -7.4826, -8.0794, -6.7183, -7.2737, -7.5476, -7.864, -7.381, -8.3465, -7.2631, -7.4282, -7.0229, -6.7299, -7.9428, -6.4589, -8.5068, -7.6489, -7.638, -8.0647, -8.0531, -7.0249, -7.7449, -7.4834, -6.4034, -7.5636, -7.0476, -6.1232, -5.827, -5.284, -5.2703, -4.0636, -5.8599, -4.5106, -5.9398, -6.482, -5.1831, -3.5188, -5.6742, -6.2082, -6.0082, -5.0078, -5.9073, -5.4047, -4.975, -4.3781, -4.3419, -4.4507, -3.9645, -4.8565, -4.6983, -5.6042, -4.7241, -4.6812, -5.2846, -5.2353, -4.3561, -4.8227, -5.5622, -5.2639, -5.3646, -5.1728, -5.0675, -5.21, -5.1309, -5.1445, -5.043, -5.2363, -5.2129, -5.2371, -7.7345, -8.3927, -8.4618, -8.535, -8.5368, -8.1619, -8.6165, -8.6175, -8.7997, -8.9034, -8.8016, -8.9063, -9.0215, -9.0225, -9.0226, -9.0227, -8.9096, -9.0253, -9.1573, -9.1557, -9.3116, -9.3111, -9.3092, -9.3137, -9.3192, -7.2158, -9.3195, -9.4949, -9.4983, -9.4935, -7.8871, -7.8543, -7.3815, -6.7783, -7.6765, -7.0737, -5.7533, -5.2258, -6.8049, -5.5132, -8.5893, -6.0936, -5.6041, -6.6477, -7.1706, -6.6616, -5.8137, -6.5762, -7.0968, -5.6431, -5.7899, -7.647, -6.1322, -4.8966, -5.9645, -5.3872, -6.94, -6.031, -4.9689, -5.8361, -5.8995, -4.8809, -6.3556, -5.3711, -4.8934, -4.421, -6.1077, -5.6546, -5.3059, -4.4088, -5.2364, -5.62, -5.1225, -5.3722, -5.7993, -5.2407, -5.0913, -5.0794, -5.1191, -5.0075, -4.9642, -5.4006, -5.3095, -5.1767, -4.9774, -5.2784, -5.1131, -5.3103, -5.3214, -5.4326, -5.2757, -5.2799, -5.7739, -6.8746, -7.1778, -7.4242, -7.0234, -7.4827, -5.8769, -7.6159, -7.9695, -7.5465, -7.8354, -7.8039, -8.1199, -8.0166, -6.5593, -8.0219, -7.4407, -6.0131, -5.3486, -7.4895, -6.3713, -6.5936, -5.0535, -8.1247, -7.01, -7.3204, -6.5896, -6.1918, -7.4829, -7.7543, -5.5039, -6.9124, -6.4452, -4.0596, -5.1309, -3.8119, -4.5106, -4.2284, -6.1851, -4.1774, -5.4905, -6.1117, -5.1667, -5.1129, -3.9985, -5.1167, -5.7944, -4.8034, -5.0582, -4.6098, -4.6176, -4.7821, -5.5009, -5.6662, -4.9448, -5.8175, -5.0873, -4.619, -4.905, -5.3217, -4.6953, -4.7491, -4.856, -5.1315, -4.9207, -5.0569, -5.1324, -5.0055, -5.0149, -5.1458, -5.1464], \"loglift\": [30.0, 29.0, 28.0, 27.0, 26.0, 25.0, 24.0, 23.0, 22.0, 21.0, 20.0, 19.0, 18.0, 17.0, 16.0, 15.0, 14.0, 13.0, 12.0, 11.0, 10.0, 9.0, 8.0, 7.0, 6.0, 5.0, 4.0, 3.0, 2.0, 1.0, 3.8873, 2.866, 2.4565, 2.3506, 2.3151, 2.1759, 2.1158, 2.0481, 1.9213, 1.8604, 1.8575, 1.7756, 1.7569, 1.6883, 1.6385, 1.5693, 1.5503, 1.5363, 1.5268, 1.5066, 1.4981, 1.4897, 1.4754, 1.4087, 1.3597, 1.3559, 1.3338, 1.2684, 1.2535, 1.1995, 1.1837, 1.1488, 1.0808, 0.8686, 0.9606, 0.6784, 0.8158, 1.032, 0.5876, 0.2552, 0.8552, 2.0236, 2.0128, 2.0097, 1.9933, 1.993, 1.9851, 1.9846, 1.9687, 1.9387, 1.9165, 1.9067, 1.9035, 1.8877, 1.885, 1.8705, 1.8705, 1.8676, 1.8665, 1.8653, 1.8467, 1.8431, 1.8387, 1.8356, 1.835, 1.8315, 1.8283, 1.8274, 1.8256, 1.8233, 1.8123, 1.773, 1.7755, 1.7169, 1.7945, 1.7151, 1.7689, 1.6755, 1.7961, 1.6571, 1.4493, 1.7176, 1.2721, 1.0556, 1.4186, 1.3177, 1.147, 1.1837, 1.4663, 1.5928, 0.814, 0.965, 0.6369, 0.8259, 0.8565, 0.5238, 0.6686, 0.7472, 0.7463, 0.9073, 0.316, 0.874, 0.2936, 0.4391, 0.1209, 0.0527, -0.0282, 0.305, 0.5329, 0.0045, 0.3864, 0.3062, 0.098, 0.2228, -0.0949, 0.0632, 0.2431, -0.1315, 2.0129, 2.0044, 1.9958, 1.9949, 1.9927, 1.9911, 1.9903, 1.9853, 1.985, 1.9829, 1.9802, 1.9738, 1.9679, 1.959, 1.935, 1.9192, 1.908, 1.8938, 1.8915, 1.8821, 1.8694, 1.8657, 1.8579, 1.8549, 1.8539, 1.8533, 1.8454, 1.8437, 1.8333, 1.8259, 1.8056, 1.8021, 1.6218, 1.7554, 1.5737, 1.4893, 1.7522, 1.5783, 1.1452, 1.4536, 1.3259, 1.4667, 1.2043, 1.1945, 0.8762, 0.6886, 1.3049, 0.7975, 0.8877, 0.9758, 0.823, 0.883, 0.8634, 1.3341, 0.7158, 1.0725, 1.0858, 0.4556, 0.6354, 0.8972, 0.5573, 0.6882, 0.9548, 0.0864, 0.2552, 0.7725, 0.6272, 0.9158, 0.9623, 0.1749, 0.1715, 0.4268, -0.1182, 0.4647, 0.0616, 0.2864, 0.1317, -0.4248, -0.2615, -0.6209, -0.6145, 2.1732, 2.1425, 2.1179, 2.1165, 2.1076, 2.0837, 2.0501, 2.0415, 1.9893, 1.9862, 1.9633, 1.9566, 1.9494, 1.9374, 1.9275, 1.9087, 1.9057, 1.8987, 1.8919, 1.8905, 1.8871, 1.8772, 1.8564, 1.8544, 1.8258, 1.8238, 1.8193, 1.8033, 1.8019, 1.8011, 1.7186, 1.7522, 1.6888, 1.5927, 1.5282, 1.5581, 1.4641, 1.641, 1.3383, 1.3489, 1.3524, 1.2111, 1.3795, 1.229, 1.0248, 1.5122, 1.5621, 1.4713, 1.0136, 1.1941, 1.2478, 1.321, 0.8745, 0.6505, 0.7733, 0.8082, 1.1681, 0.5807, 1.0592, 0.718, 0.8386, 0.523, 0.1113, 0.0621, 0.0654, 4.1875, 4.1493, 4.1301, 4.0811, 4.0618, 3.9087, 3.9057, 3.8121, 3.7961, 3.7699, 3.7326, 3.6495, 3.6324, 3.602, 3.5967, 3.5583, 3.505, 3.4832, 3.4654, 3.3251, 3.3165, 3.303, 3.3001, 3.2728, 3.2266, 3.2198, 3.1794, 3.1603, 3.16, 3.153, 3.1053, 3.1038, 2.9974, 2.9192, 2.6317, 2.6231, 2.4576, 2.4229, 2.2599, 2.8552, 1.4168, 2.1407, 2.949, 1.6955, 2.2211, 1.3756, 1.3573, 2.1194, 2.265, 1.6555, 1.6754, 0.993, 0.7708, 1.885, 2.3094, 0.4694, -0.1942, 0.7536, 2.2709, 2.2679, 2.265, 2.2625, 2.2591, 2.257, 2.2477, 2.2407, 2.2394, 2.2244, 2.2191, 2.1673, 2.1651, 2.1617, 2.157, 2.1495, 2.1311, 2.0963, 2.0713, 2.0576, 2.0566, 2.0548, 2.052, 2.0293, 2.0198, 2.0196, 2.0092, 2.0043, 1.9965, 1.981, 1.975, 1.9772, 1.9648, 1.8825, 1.7292, 1.6235, 1.6237, 1.8044, 1.6268, 1.6377, 1.483, 1.6604, 1.237, 1.1613, 1.4265, 1.2741, 1.0821, 1.3007, 0.863, 1.3232, 1.2349, 1.2413, 0.9487, 1.1665, 1.0175, 1.0664, 1.1922, 1.0851, 0.9498, 0.6437, 0.8849, 0.9643, 0.8256, 0.8322, 0.8897, 0.4576, 0.132, 0.3299, 0.7299, 0.7284, 0.4247, 0.243, 0.3571, 0.5147, 4.6315, 4.6146, 4.5679, 4.5368, 4.5258, 4.5136, 4.4983, 4.3596, 4.3536, 4.3444, 4.3268, 4.2327, 4.2154, 4.1791, 4.1429, 4.1183, 4.0819, 4.0799, 4.0047, 3.9711, 3.9711, 3.9287, 3.8366, 3.6733, 3.6696, 3.6595, 3.6064, 3.5412, 3.5371, 3.4653, 3.421, 3.3571, 3.3422, 2.9468, 3.1106, 2.945, 2.2028, 2.3258, 2.6407, 2.4873, 2.4013, 3.1986, 2.4128, 1.0608, 1.8632, 0.9533, 2.8731, 1.4681, 0.7046, 0.1139, 1.31, 0.6198, 1.1729, 0.7783, 0.4331, 0.7417, 3.1, 2.9932, 2.8804, 2.8728, 2.838, 2.8155, 2.7777, 2.7375, 2.7322, 2.7311, 2.7207, 2.6868, 2.6631, 2.5934, 2.5771, 2.5541, 2.5433, 2.5166, 2.477, 2.4617, 2.4364, 2.4346, 2.4315, 2.4272, 2.4211, 2.4036, 2.394, 2.3595, 2.3424, 2.3337, 2.3117, 2.2534, 2.2463, 2.1916, 2.1515, 1.9895, 2.1111, 2.2415, 2.1078, 1.5648, 1.752, 1.7472, 1.8892, 1.5014, 1.6589, 1.5587, 2.0286, 1.3571, 1.7876, 1.5144, 1.6431, 0.9865, 0.8814, 1.0452, 1.5493, 0.4383, 0.8136, 1.037, 1.0876, 0.4652, 0.3006, 0.1575, 0.33, 0.4869, 0.328, 0.5288, 3.9001, 3.8298, 3.7175, 3.6973, 3.6501, 3.6239, 3.6088, 3.4958, 3.4676, 3.4351, 3.3358, 3.3207, 3.2486, 3.1603, 3.143, 3.0805, 3.0766, 3.0678, 3.0467, 3.0123, 3.0027, 2.9956, 2.9758, 2.9733, 2.9097, 2.8354, 2.8145, 2.7661, 2.7513, 2.7035, 2.5546, 2.6713, 2.5254, 2.537, 2.1575, 2.1935, 2.0173, 2.2112, 2.4632, 2.456, 1.9238, 1.9449, 2.0129, 1.856, 1.3571, 1.9123, 1.039, 1.1899, 1.4019, 1.7285, 1.3848, 1.1948, 1.0139, 1.4792, 0.7156, 1.5059, 1.7303, 1.062, 0.877, 1.1674, 2.6479, 2.6373, 2.6133, 2.5993, 2.4556, 2.4542, 2.4377, 2.4247, 2.4002, 2.3931, 2.3854, 2.3385, 2.3223, 2.3169, 2.2879, 2.2824, 2.2516, 2.2278, 2.2242, 2.21, 2.2056, 2.1743, 2.1595, 2.1485, 2.1422, 2.1255, 2.1003, 2.0946, 2.0901, 2.087, 2.0405, 1.8529, 1.9506, 1.955, 1.9508, 1.5469, 1.5724, 1.4053, 2.0118, 1.8502, 1.418, 1.7697, 1.2166, 1.956, 1.5519, 1.7095, 0.9586, 1.4307, 1.6086, 1.4128, 0.9102, 0.7773, 1.2364, 0.7851, 0.801, 0.872, 0.4922, 1.1213, 1.265, 0.7725, 0.8994, 0.3805, 0.6286, 0.9523, 1.0199, -0.0252, 0.6461, 0.2954, 0.3201, 0.8659, 0.576, -0.1082, 0.1515, 0.5739, 0.3134, 0.041, 2.3201, 2.3199, 2.3098, 2.2556, 2.2505, 2.2464, 2.2276, 2.192, 2.1877, 2.1772, 2.1689, 2.1644, 2.1448, 2.1428, 2.1416, 2.1321, 2.1005, 2.0933, 2.0903, 2.0878, 2.0847, 2.0772, 2.0759, 2.0694, 2.063, 2.0626, 2.0614, 2.0585, 2.0557, 2.0531, 2.0323, 2.0249, 1.9485, 2.0223, 1.9863, 1.9894, 2.0172, 1.8705, 1.7863, 1.4434, 1.9455, 1.479, 1.4666, 1.8216, 1.286, 1.5907, 1.5314, 1.7657, 0.847, 1.5089, 0.883, 1.5275, 1.5219, 1.3594, 1.4812, 0.9169, 1.1769, 0.8716, 1.2922, 0.9404, 1.545, 1.0706, 0.9425, 0.3757, 0.7088, 1.4294, 0.7573, 0.4782, 0.7332, 0.4343, 0.5478, 0.6912, 0.2006, 0.7288, 0.6486, 0.6785, 0.5385, 0.4391, -0.0344, -0.3204, 0.2994, -0.4608, -0.0511, 0.0145, 0.2101, 2.4307, 2.3398, 2.0321, 1.9469, 1.9458, 1.8703, 1.6834, 1.6673, 1.6533, 1.561, 1.5223, 1.4766, 1.4701, 1.4625, 1.4586, 1.4116, 1.4042, 1.3627, 1.2951, 1.2201, 1.1921, 1.1714, 1.1582, 1.1565, 1.1489, 1.1356, 1.1322, 1.1146, 1.0789, 1.0515, 1.038, 0.9909, 0.9966, 0.9704, 0.927, 0.8837, 0.7004, 0.4402, 0.7569, 0.6683, 0.7305, 0.0587, 0.4615, 2.9654, 2.9005, 2.8843, 2.8828, 2.8203, 2.8082, 2.78, 2.7774, 2.7767, 2.748, 2.7217, 2.7205, 2.719, 2.7006, 2.696, 2.6663, 2.6562, 2.6529, 2.6427, 2.5778, 2.5481, 2.5409, 2.5391, 2.5232, 2.5208, 2.5156, 2.5125, 2.4748, 2.469, 2.4592, 2.4481, 2.2839, 2.2223, 2.1426, 2.0868, 1.7866, 2.153, 1.7616, 2.1162, 2.2256, 1.8167, 1.239, 1.9463, 2.1236, 2.0434, 1.6082, 1.9876, 1.7595, 1.4438, 1.1202, 1.0946, 1.1184, 0.7794, 1.291, 1.1603, 1.7131, 0.9118, 0.7582, 1.2717, 1.189, 0.273, 0.5048, 1.4087, 0.876, 1.0311, 0.5723, 0.289, 0.5859, 0.3467, 0.2281, -0.1933, 0.4061, -0.0839, 0.0079, 1.602, 1.5977, 1.5975, 1.5968, 1.5966, 1.5951, 1.5945, 1.5936, 1.5927, 1.591, 1.5901, 1.5892, 1.5883, 1.5882, 1.5881, 1.5877, 1.5864, 1.5861, 1.5853, 1.5851, 1.5814, 1.5814, 1.5814, 1.5805, 1.5803, 1.5776, 1.5762, 1.5758, 1.5756, 1.5756, 1.557, 1.5523, 1.5381, 1.5198, 1.53, 1.5033, 1.4328, 1.3975, 1.4303, 1.3167, 1.5402, 1.3119, 1.2204, 1.3331, 1.3849, 1.3244, 1.1899, 1.2863, 1.3554, 1.1303, 1.0692, 1.3875, 1.0937, 0.8397, 1.0506, 0.9159, 1.2478, 1.0338, 0.7762, 0.985, 0.9604, 0.6174, 1.0808, 0.7405, 0.5459, 0.3368, 0.9869, 0.7994, 0.6389, 0.2203, 0.5594, 0.7404, 0.4466, 0.5507, 0.7748, 0.4016, 0.2813, 0.2512, 0.2374, 0.1214, 0.0377, 0.4497, 0.3264, 0.1508, -0.1277, 0.1992, -0.1589, 0.1098, 0.0946, 0.3663, -0.5319, -0.6226, 3.2872, 3.2297, 3.1798, 3.1622, 3.1574, 3.107, 3.0878, 3.0875, 3.076, 3.0388, 3.0346, 2.9155, 2.9118, 2.862, 2.8561, 2.8518, 2.8335, 2.8116, 2.804, 2.7966, 2.7798, 2.7555, 2.7337, 2.7335, 2.7228, 2.7225, 2.7187, 2.7121, 2.7095, 2.7035, 2.6748, 2.684, 2.6522, 2.3511, 2.3108, 2.0234, 2.1638, 2.0711, 2.4963, 1.9256, 2.2658, 2.4492, 2.1319, 2.0917, 1.6198, 2.0454, 2.2462, 1.7143, 1.7859, 1.4712, 1.4704, 1.5675, 2.0184, 2.1343, 1.4796, 2.2068, 1.4868, 0.9501, 1.2349, 1.5497, 0.6612, 0.6902, 0.6424, 1.1722, 0.3831, 0.5855, 0.7122, -0.2478, -0.3858, 0.2906, 0.2697]}, \"token.table\": {\"Topic\": [1, 2, 3, 4, 5, 6, 7, 8, 9, 10, 11, 12, 13, 14, 15, 2, 3, 4, 11, 14, 2, 3, 4, 6, 11, 14, 1, 2, 3, 4, 5, 6, 7, 8, 9, 10, 11, 12, 13, 14, 15, 2, 3, 4, 6, 7, 8, 10, 11, 13, 14, 15, 3, 4, 10, 3, 4, 7, 8, 14, 2, 3, 4, 5, 6, 7, 8, 10, 11, 12, 13, 14, 15, 2, 3, 4, 5, 6, 13, 14, 15, 2, 3, 4, 5, 6, 7, 8, 9, 10, 11, 12, 13, 14, 15, 5, 10, 11, 2, 3, 5, 6, 3, 6, 2, 3, 11, 13, 14, 15, 3, 11, 2, 3, 4, 6, 7, 8, 9, 10, 11, 13, 14, 2, 3, 5, 6, 8, 11, 13, 14, 15, 14, 6, 8, 10, 2, 3, 4, 6, 7, 8, 9, 10, 11, 12, 13, 14, 15, 2, 3, 4, 6, 8, 10, 11, 13, 14, 15, 2, 14, 2, 3, 6, 11, 3, 8, 13, 14, 2, 13, 2, 3, 4, 6, 7, 8, 10, 11, 14, 2, 14, 3, 6, 10, 11, 4, 11, 2, 11, 2, 3, 6, 11, 13, 14, 15, 3, 7, 11, 14, 9, 10, 15, 9, 15, 2, 4, 1, 2, 3, 4, 5, 6, 7, 8, 9, 10, 11, 12, 13, 14, 15, 2, 3, 4, 6, 9, 10, 11, 14, 15, 2, 3, 2, 3, 4, 5, 6, 7, 8, 10, 11, 13, 14, 15, 3, 6, 10, 13, 14, 15, 6, 9, 10, 11, 15, 2, 3, 1, 2, 3, 4, 5, 6, 7, 8, 9, 10, 11, 12, 13, 14, 15, 1, 2, 3, 4, 5, 6, 8, 9, 11, 13, 14, 15, 14, 15, 4, 10, 11, 4, 7, 8, 11, 2, 3, 11, 1, 2, 3, 4, 5, 6, 7, 8, 9, 10, 11, 12, 13, 14, 15, 14, 1, 2, 3, 4, 5, 6, 7, 8, 9, 10, 11, 12, 13, 14, 15, 2, 3, 4, 10, 11, 13, 14, 15, 6, 9, 14, 15, 3, 3, 11, 14, 3, 4, 13, 15, 6, 11, 14, 1, 3, 4, 5, 6, 7, 8, 9, 10, 11, 12, 13, 14, 15, 2, 3, 10, 14, 1, 2, 3, 4, 5, 6, 7, 8, 9, 10, 11, 12, 13, 14, 15, 1, 2, 3, 4, 6, 8, 9, 10, 11, 14, 15, 2, 3, 5, 6, 8, 9, 10, 11, 13, 14, 15, 10, 14, 15, 3, 5, 1, 2, 3, 6, 7, 8, 9, 11, 12, 13, 14, 14, 2, 3, 6, 11, 13, 14, 15, 3, 4, 6, 2, 3, 4, 6, 10, 11, 13, 14, 15, 3, 8, 2, 3, 6, 13, 14, 6, 1, 2, 3, 5, 6, 8, 9, 10, 11, 12, 13, 14, 15, 2, 8, 13, 9, 15, 6, 1, 2, 3, 4, 6, 7, 8, 9, 10, 11, 12, 14, 1, 2, 3, 4, 5, 6, 7, 8, 9, 10, 11, 12, 13, 14, 15, 1, 2, 3, 4, 6, 7, 8, 9, 10, 11, 12, 13, 14, 15, 3, 6, 7, 11, 13, 2, 10, 14, 4, 10, 14, 2, 3, 4, 6, 7, 14, 1, 2, 3, 4, 6, 7, 8, 9, 10, 11, 12, 13, 14, 15, 4, 9, 10, 14, 2, 14, 14, 1, 2, 3, 4, 6, 8, 9, 10, 11, 12, 13, 14, 15, 3, 11, 14, 4, 8, 10, 1, 2, 3, 4, 6, 7, 8, 9, 10, 11, 12, 13, 14, 15, 1, 2, 3, 4, 5, 6, 9, 10, 11, 12, 13, 14, 4, 11, 14, 15, 4, 11, 15, 2, 15, 11, 2, 6, 2, 3, 5, 6, 10, 11, 13, 14, 15, 14, 15, 2, 4, 6, 11, 11, 14, 1, 2, 3, 4, 6, 7, 9, 10, 11, 12, 13, 14, 15, 2, 3, 9, 10, 11, 13, 14, 1, 2, 3, 4, 5, 6, 7, 8, 9, 10, 11, 12, 13, 14, 15, 4, 6, 10, 14, 2, 8, 14, 2, 3, 4, 5, 6, 11, 12, 13, 14, 2, 3, 5, 6, 8, 10, 12, 13, 14, 15, 2, 3, 5, 8, 13, 14, 11, 14, 15, 10, 14, 2, 3, 6, 11, 13, 14, 1, 2, 3, 4, 5, 6, 7, 8, 9, 10, 11, 12, 13, 14, 15, 1, 2, 3, 4, 5, 6, 7, 8, 9, 10, 11, 12, 13, 14, 15, 1, 2, 3, 4, 5, 6, 7, 8, 9, 10, 11, 12, 13, 14, 15, 1, 2, 3, 4, 6, 7, 8, 10, 11, 12, 13, 14, 15, 2, 3, 10, 13, 2, 3, 4, 5, 6, 7, 8, 9, 10, 11, 12, 13, 14, 3, 8, 10, 11, 14, 3, 6, 4, 11, 3, 4, 2, 4, 8, 13, 6, 11, 3, 4, 7, 9, 15, 4, 6, 10, 11, 13, 14, 15, 4, 6, 7, 8, 10, 11, 14, 15, 4, 8, 10, 6, 11, 14, 3, 7, 14, 2, 3, 4, 6, 8, 9, 10, 11, 13, 14, 15, 1, 2, 3, 4, 6, 7, 9, 10, 11, 14, 15, 1, 2, 3, 4, 6, 10, 11, 14, 15, 3, 6, 8, 11, 14, 4, 11, 14, 3, 6, 2, 3, 4, 6, 7, 8, 10, 11, 14, 2, 3, 4, 5, 6, 8, 9, 10, 11, 12, 14, 15, 3, 4, 6, 11, 14, 2, 3, 4, 6, 10, 11, 14, 2, 6, 7, 11, 13, 6, 14, 15, 2, 3, 4, 14, 13, 14, 4, 10, 14, 15, 1, 2, 3, 4, 5, 6, 7, 8, 9, 10, 11, 12, 13, 14, 15, 4, 6, 9, 11, 14, 3, 11, 2, 3, 6, 8, 9, 11, 13, 14, 15, 13, 14, 3, 8, 1, 2, 3, 4, 5, 6, 7, 8, 9, 10, 11, 12, 13, 14, 15, 2, 3, 4, 6, 8, 10, 11, 13, 14, 2, 3, 5, 6, 9, 13, 14, 2, 3, 4, 5, 6, 8, 9, 11, 12, 13, 14, 15, 5, 6, 11, 14, 7, 11, 2, 6, 10, 11, 15, 2, 3, 4, 6, 7, 11, 13, 14, 15, 5, 13, 14, 2, 6, 10, 11, 2, 3, 4, 6, 8, 11, 13, 14, 2, 3, 6, 8, 11, 13, 14, 2, 3, 8, 11, 13, 14, 3, 11, 2, 5, 3, 3, 10, 14, 1, 2, 3, 4, 6, 7, 8, 9, 10, 11, 12, 13, 14, 15, 2, 5, 3, 4, 6, 10, 11, 13, 1, 2, 3, 4, 5, 6, 7, 8, 9, 10, 11, 12, 13, 14, 15, 2, 3, 4, 9, 10, 11, 14, 5, 10, 11, 1, 2, 3, 4, 5, 6, 7, 8, 9, 10, 11, 12, 13, 14, 15, 6, 11, 1, 2, 3, 4, 6, 7, 8, 9, 10, 11, 12, 13, 14, 15, 6, 2, 3, 4, 5, 6, 7, 8, 9, 10, 11, 13, 14, 3, 10, 11, 14, 3, 4, 15, 2, 10, 13, 14, 15, 2, 6, 9, 10, 11, 13, 14, 15, 4, 6, 9, 11, 14, 15, 6, 11, 1, 2, 3, 4, 6, 7, 8, 10, 11, 12, 13, 14, 15, 2, 4, 10, 3, 6, 13, 14, 15, 2, 3, 4, 6, 7, 8, 9, 10, 11, 13, 14, 15, 1, 2, 3, 4, 5, 6, 8, 9, 10, 11, 12, 13, 14, 15, 1, 2, 3, 4, 5, 6, 7, 8, 9, 10, 11, 12, 13, 14, 15, 14, 14, 5, 14, 3, 4, 11, 3, 4, 5, 6, 7, 8, 10, 11, 13, 3, 3, 6, 13, 14, 2, 14, 2, 3, 5, 6, 8, 14, 2, 3, 5, 13, 14, 15, 2, 3, 6, 8, 14, 11, 14, 2, 11, 14, 2, 11, 10, 11, 14, 2, 14, 2, 3, 8, 14, 4, 8, 2, 10, 6, 10, 11, 14, 15, 2, 3, 3, 11, 13, 6, 2, 3, 2, 8, 13, 14, 2, 11, 14, 1, 2, 3, 4, 6, 9, 10, 11, 12, 13, 14, 15, 2, 3, 4, 6, 8, 9, 10, 11, 13, 14, 15, 2, 3, 5, 15, 2, 3, 4, 5, 6, 10, 11, 13, 14, 15, 3, 4, 7, 8, 10, 11, 2, 3, 5, 6, 8, 9, 11, 13, 14, 15, 2, 3, 4, 5, 6, 8, 9, 10, 11, 13, 14, 15, 3, 4, 7, 10, 11, 6, 7, 14, 11, 13, 14, 2, 3, 4, 6, 7, 10, 11, 12, 13, 14, 15, 3, 5, 6, 11, 14, 1, 2, 3, 4, 6, 7, 8, 9, 10, 11, 12, 13, 14, 15, 4, 5, 7, 14, 3, 4, 13, 14, 15, 1, 2, 3, 4, 5, 6, 7, 8, 9, 10, 11, 12, 13, 14, 15, 6, 13, 6, 6, 13, 2, 3, 4, 5, 6, 7, 8, 10, 11, 14, 15, 2, 8, 14, 1, 2, 3, 4, 5, 6, 7, 8, 9, 10, 11, 12, 13, 14, 15, 1, 2, 3, 4, 5, 6, 8, 9, 10, 11, 12, 13, 14, 15, 2, 3, 4, 6, 10, 11, 13, 2, 4, 5, 10, 11, 14, 2, 3, 4, 6, 7, 11, 14, 3, 6, 10, 14, 2, 3, 4, 5, 6, 7, 8, 10, 11, 12, 13, 14, 15, 1, 2, 3, 4, 6, 7, 8, 9, 10, 11, 14, 2, 3, 4, 5, 6, 8, 9, 10, 11, 12, 13, 14, 15, 3, 3, 11, 14, 15, 1, 2, 3, 4, 5, 6, 7, 8, 9, 10, 11, 12, 13, 14, 15, 2, 3, 4, 5, 6, 8, 9, 10, 11, 12, 13, 14, 2, 3, 6, 2, 3, 6, 14, 2, 4, 6, 8, 9, 7, 11, 14, 2, 3, 6, 8, 9, 11, 14, 3, 4, 5, 6, 8, 10, 11, 13, 14, 15, 2, 5, 6, 14, 3, 4, 6, 8, 10, 11, 13, 14, 15, 1, 2, 3, 4, 5, 6, 7, 8, 10, 11, 13, 14, 15, 1, 2, 3, 4, 5, 6, 7, 8, 9, 10, 11, 12, 13, 14, 15, 4, 10, 3, 6, 11, 4, 11, 6, 11, 4, 5, 6, 8, 11, 13, 14, 15, 6, 13, 6, 11, 6, 4, 6, 10, 11, 14, 15, 1, 2, 3, 4, 5, 6, 7, 8, 9, 10, 11, 12, 13, 14, 15, 3, 4, 5, 6, 10, 11, 14, 15, 2, 3, 4, 6, 10, 11, 14, 15, 14, 3, 4, 5, 8, 11, 13, 14, 13, 14, 10, 11, 14, 11, 13, 15, 4, 11, 13, 14, 1, 2, 3, 4, 6, 8, 10, 11, 12, 13, 14, 15, 1, 2, 3, 4, 5, 6, 7, 8, 9, 10, 11, 12, 13, 14, 15, 2, 3, 8, 14, 1, 2, 3, 4, 5, 6, 8, 9, 10, 11, 12, 13, 14, 15, 10, 14, 4, 14, 14, 2, 6, 9, 11, 2, 3, 13, 14, 2, 3, 4, 5, 6, 8, 11, 13, 14, 15, 2, 3, 8, 1, 2, 3, 4, 5, 6, 7, 8, 9, 10, 11, 12, 13, 14, 15, 2, 3, 4, 10, 11, 14, 4, 8, 2, 3, 4, 5, 8, 11, 13, 14, 1, 2, 3, 4, 5, 6, 7, 8, 9, 10, 11, 12, 13, 14, 15, 4, 6, 10, 2, 3, 4, 5, 6, 7, 8, 10, 11, 13, 14, 1, 2, 3, 4, 5, 6, 7, 8, 9, 10, 11, 12, 13, 14, 15, 2, 6, 10, 2, 3, 8, 9, 11, 14, 15, 2, 4, 10, 14, 3, 4, 3, 13, 2, 13, 14, 3, 8, 14, 2, 3, 6, 9, 11, 13, 14, 15, 3, 6, 10, 11, 6, 10, 11, 14, 4, 10, 15, 14, 15, 1, 2, 3, 4, 5, 6, 7, 8, 9, 10, 11, 12, 13, 14, 15, 3, 6, 11, 14, 15, 2, 6, 3, 6, 15, 3, 7, 2, 3, 4, 6, 7, 10, 11, 13, 14, 15, 2, 3, 4, 5, 6, 10, 11, 13, 14, 15, 14, 15, 4, 7, 10, 11, 1, 2, 3, 4, 5, 6, 7, 8, 9, 10, 11, 12, 13, 14, 15, 1, 2, 3, 4, 5, 6, 7, 8, 9, 10, 11, 12, 13, 14, 15, 2, 3, 6, 10, 11, 2, 3, 4, 5, 6, 8, 9, 10, 11, 13, 14, 15, 2, 3, 4, 6, 8, 10, 11, 13, 14, 15, 13, 14, 3, 11, 14, 1, 2, 3, 4, 5, 6, 7, 8, 9, 10, 11, 12, 13, 14, 15, 2, 3, 4, 5, 10, 11, 14, 2, 4, 5, 13, 14, 1, 2, 3, 4, 6, 8, 9, 10, 11, 12, 14, 15, 1, 2, 3, 4, 5, 6, 7, 8, 9, 10, 11, 12, 13, 14, 15, 1, 2, 3, 4, 5, 6, 7, 8, 9, 10, 11, 12, 13, 14, 15, 1, 2, 3, 4, 5, 6, 7, 8, 9, 10, 11, 12, 13, 14, 15, 2, 7, 10, 2, 3, 4, 8, 10, 14, 2, 14, 15, 10, 13, 3, 8, 15, 2, 3, 6, 11, 14, 6, 14, 1, 2, 3, 4, 5, 6, 8, 9, 10, 11, 12, 13, 14, 15, 2, 8, 2, 13, 2, 4, 9, 10, 14, 1, 2, 3, 4, 5, 6, 8, 9, 10, 11, 12, 13, 14, 15, 2, 3, 6, 7, 9, 10, 11, 13, 14, 2, 14, 13, 1, 2, 3, 4, 5, 6, 7, 8, 9, 10, 11, 12, 13, 14, 15, 2, 3, 4, 5, 6, 9, 10, 11, 12, 13, 14, 15, 3, 10, 11, 2, 3, 4, 6, 7, 2, 3, 6, 7, 8, 11, 14, 1, 2, 3, 4, 5, 6, 7, 8, 9, 10, 11, 12, 13, 14, 15, 2, 3, 4, 6, 10, 11, 14, 2, 3, 4, 5, 6, 8, 10, 11, 13, 14, 15, 3, 4, 10, 2, 3, 6, 7, 11, 14, 2, 6, 8, 13, 14, 15, 2, 3, 4, 6, 11, 14, 1, 2, 3, 4, 5, 6, 7, 8, 9, 10, 11, 12, 13, 14, 15, 2, 13, 4, 13, 14, 1, 2, 3, 4, 5, 6, 7, 8, 9, 10, 11, 12, 13, 14, 15, 2, 3, 6, 10, 11, 13, 14, 15, 2, 3, 6, 7, 9, 10, 11, 1, 2, 3, 4, 5, 6, 7, 8, 9, 10, 11, 12, 13, 14, 15, 14, 6, 14, 2, 3, 6, 7, 8, 9, 10, 11, 13, 14, 2, 3, 4, 5, 6, 8, 9, 10, 11, 14, 15, 2, 3, 4, 6, 7, 8, 10, 11, 13, 14, 15, 1, 2, 3, 4, 5, 6, 7, 9, 10, 11, 12, 13, 14, 15, 14, 2, 3, 4, 6, 7, 8, 10, 11, 13, 14, 15, 2, 3, 4, 7, 10, 11, 14, 2, 1, 2, 3, 4, 5, 6, 7, 8, 9, 10, 11, 12, 13, 14, 15, 2, 3, 4, 6, 8, 9, 10, 11, 12, 13, 14, 4, 14, 11, 15, 2, 3, 4, 5, 6, 7, 8, 9, 10, 11, 13, 14, 15, 2, 3, 4, 5, 10, 13, 14, 1, 2, 3, 4, 5, 6, 7, 8, 9, 10, 11, 12, 13, 14, 15, 2, 3, 4, 6, 8, 11, 13, 14, 3, 13, 1, 2, 3, 4, 6, 7, 8, 9, 10, 11, 12, 13, 14, 15, 2, 3, 6, 8, 9, 11, 14, 15, 3, 10, 6, 4, 8, 10, 11, 2, 3, 4, 6, 8, 10, 11, 13, 14, 15, 13, 14, 3, 2, 3, 4, 6, 7, 8, 10, 11, 13, 14, 15, 2, 3, 4, 6, 8, 11, 14, 2, 3, 8, 2, 8, 2, 3, 5, 14, 2, 8, 2, 3, 4, 6, 7, 9, 10, 11, 13, 14, 15, 1, 2, 3, 4, 5, 6, 7, 8, 9, 10, 11, 12, 13, 14, 15, 14, 10, 11, 14, 9, 11, 14, 15, 13, 14, 2, 4, 7, 13, 2, 3, 4, 6, 10, 11, 14, 15, 2, 3, 4, 6, 8, 9, 10, 11, 13, 14, 15, 6, 2, 8, 2, 11, 14, 15, 2, 3, 5, 6, 9, 11, 14, 1, 2, 3, 4, 6, 7, 8, 9, 10, 11, 12, 13, 14, 2, 3, 6, 11, 14, 15, 2, 13, 14, 6, 14, 6, 14, 2, 3, 4, 5, 6, 8, 9, 10, 11, 12, 13, 14, 15, 1, 2, 3, 4, 5, 6, 8, 9, 10, 11, 12, 13, 14, 15, 2, 3, 4, 10, 11, 14, 11, 14, 15, 14, 15, 3, 6, 7, 11, 2, 13, 14, 2, 3, 4, 5, 6, 7, 8, 10, 11, 13, 14, 4, 6, 2, 3, 4, 6, 8, 10, 11, 13, 14, 15, 10, 11, 10, 11, 1, 2, 3, 4, 5, 6, 7, 8, 9, 10, 11, 12, 13, 14, 15, 2, 4, 14, 2, 3, 4, 6, 8, 9, 10, 11, 14, 15, 1, 2, 3, 4, 6, 7, 10, 11, 12, 13, 14, 1, 3, 4, 5, 6, 7, 8, 9, 10, 11, 12, 13, 14, 15, 14, 2, 3, 6, 10, 11, 13, 14, 15, 3, 6, 11, 13, 14, 15, 3, 6, 11, 13, 1, 2, 3, 4, 5, 6, 7, 8, 9, 10, 11, 12, 13, 14, 15, 3, 6, 9, 2, 3, 4, 6, 8, 9, 10, 11, 13, 14, 15, 4, 6, 8, 9, 14, 2, 3, 3, 7, 11, 3, 4, 10, 13, 14, 4, 11, 14, 3, 3, 10, 14, 2, 3, 4, 6, 8, 10, 11, 13, 14, 2, 3, 4, 8, 10, 11, 14, 14, 2, 3, 4, 6, 7, 10, 11, 14, 15, 2, 3, 4, 8, 10, 11, 14, 2, 3, 4, 5, 6, 8, 10, 11, 13, 14, 2, 5, 6, 13, 14, 1, 2, 3, 4, 6, 7, 8, 9, 10, 11, 12, 13, 14, 15, 2, 3, 5, 9, 11, 13, 14, 15, 2, 3, 5, 6, 11, 13, 14, 15, 2, 3, 4, 5, 6, 8, 10, 11, 12, 13, 14, 15, 2, 3, 4, 5, 6, 8, 10, 11, 12, 13, 14, 15, 2, 3, 4, 6, 7, 11, 13, 14, 3, 7, 14, 3, 14, 2, 3, 5, 8, 13, 14, 2, 3, 4, 6, 7, 8, 10, 11, 13, 14, 3, 7, 15, 1, 2, 3, 4, 5, 6, 7, 8, 9, 10, 11, 12, 13, 14, 15, 2, 3, 4, 5, 8, 10, 11, 12, 13, 14, 15, 2, 3, 4, 5, 13, 14, 15, 2, 13, 3, 11, 14, 2, 14, 13, 3, 14, 15, 1, 2, 3, 4, 5, 6, 7, 8, 9, 10, 11, 12, 13, 14, 15, 1, 2, 3, 4, 5, 6, 7, 8, 9, 10, 11, 12, 13, 14, 15, 3, 4, 14, 2, 3, 8, 1, 2, 3, 4, 6, 7, 8, 9, 10, 11, 12, 13, 14, 15, 2, 3, 4, 6, 10, 11, 14, 2, 3, 6, 8, 11, 13, 14, 2, 3, 5, 6, 8, 11, 13, 14, 15, 2, 5, 14, 2, 3, 4, 5, 6, 8, 10, 11, 13, 14, 14, 2, 3, 9, 10, 3, 11, 2, 6, 11, 2, 11, 13, 15, 1, 2, 3, 4, 6, 7, 8, 10, 11, 14, 15, 6, 14, 2, 3, 4, 5, 6, 7, 8, 9, 10, 11, 13, 14, 2, 3, 6, 7, 10, 11, 13, 14, 15, 2, 3, 4, 6, 9, 10, 11, 14, 15, 3, 6, 10, 1, 2, 3, 4, 5, 6, 7, 8, 9, 10, 11, 12, 13, 14, 15, 2, 3, 4, 6, 10, 11, 14, 1, 2, 3, 4, 5, 6, 7, 8, 9, 10, 11, 12, 13, 14, 15, 1, 2, 3, 4, 6, 7, 8, 10, 11, 12, 13, 14, 15, 1, 2, 3, 4, 5, 6, 7, 8, 9, 10, 11, 12, 13, 14, 15, 2, 3, 4, 6, 8, 9, 10, 11, 13, 14, 15, 14, 2, 3, 4, 6, 8, 9, 10, 11, 13, 14, 15, 1, 2, 3, 4, 5, 6, 7, 8, 9, 10, 11, 12, 13, 14, 15, 1, 2, 3, 4, 5, 6, 8, 9, 10, 11, 12, 13, 14, 15, 2, 3, 14, 14, 1, 2, 3, 4, 5, 6, 7, 8, 9, 10, 11, 12, 13, 14, 15, 2, 3, 10, 11, 14, 3, 4, 10, 11, 3, 13, 14, 14, 2, 6, 8, 11, 14, 15, 3, 5, 11, 4, 8, 10, 1, 2, 3, 4, 5, 6, 7, 8, 9, 10, 11, 12, 13, 14, 3, 7, 2, 3, 4, 6, 7, 11, 15, 3, 11, 3, 4, 14, 14, 2, 3, 4, 5, 6, 7, 8, 9, 10, 11, 13, 14, 15, 4, 10, 11, 2, 3, 5, 9, 13, 14, 2, 3, 5, 14, 15, 2, 14, 3, 6, 10, 14, 5, 14, 2, 3, 4, 5, 7, 8, 10, 11, 14, 6, 2, 3, 4, 5, 6, 7, 9, 10, 11, 12, 13, 14, 15, 1, 2, 3, 4, 5, 6, 9, 10, 11, 13, 14, 15, 11, 14, 15, 2, 3, 6, 10, 11, 13, 14, 15, 2, 3, 4, 6, 7, 8, 9, 10, 11, 13, 14, 15, 11, 2, 2, 3, 4, 6, 7, 8, 10, 11, 12, 13, 14, 3, 6, 11, 13, 14, 2, 6, 15, 4, 7, 3, 11, 14, 1, 2, 3, 4, 6, 7, 8, 9, 10, 11, 12, 13, 14, 15, 2, 11, 2, 3, 6, 11, 14, 15, 2, 3, 4, 6, 10, 11, 14, 2, 3, 4, 6, 7, 8, 10, 11, 13, 14, 2, 4, 7, 8, 10, 11, 14, 4, 10, 11, 14, 1, 2, 3, 4, 5, 6, 8, 9, 10, 11, 12, 13, 14, 15, 2, 3, 4, 6, 7, 8, 9, 10, 11, 14, 15, 2, 3, 4, 6, 7, 10, 11, 13, 14, 15, 1, 2, 3, 4, 6, 7, 8, 10, 11, 12, 13, 14, 15, 2, 8, 3, 9, 11, 2, 3, 6, 14, 2, 3, 4, 8, 13, 8, 11, 15, 2, 3, 2, 3, 4, 6, 10, 11, 14, 15, 2, 3, 5, 6, 7, 11, 13, 14, 15, 2, 3, 8, 14, 2, 3, 4, 8, 10, 11, 13, 14, 3, 11, 6, 13, 14, 2, 3, 4, 6, 8, 10, 11, 13, 14, 15, 2, 3, 4, 6, 7, 10, 11, 14, 3, 11, 1, 2, 3, 4, 5, 6, 7, 8, 9, 10, 11, 12, 13, 14, 15, 1, 2, 3, 4, 5, 6, 7, 8, 9, 10, 11, 12, 13, 14, 15, 3, 6, 10, 14, 10, 13, 14, 2, 3, 6, 8, 11, 14, 2, 3, 6, 8, 11, 4, 5, 13, 15, 1, 3, 4, 5, 6, 7, 8, 9, 10, 11, 12, 13, 14, 15, 2, 3, 8, 13, 2, 3, 2, 11, 1, 2, 3, 4, 5, 6, 8, 10, 11, 12, 13, 14, 15, 3, 2, 3, 13, 2, 3, 4, 6, 10, 13, 14, 15, 14, 2, 5, 13, 14, 15, 2, 3, 8, 11, 13, 14, 2, 3, 11, 2, 3, 4, 5, 6, 8, 11, 13, 14, 2, 3, 6, 10, 11, 14, 4, 8, 10, 9, 11, 14, 15, 2, 3, 4, 5, 8, 10, 13, 14, 1, 3, 4, 5, 6, 7, 8, 10, 11, 12, 13, 14, 15, 2, 3, 4, 6, 8, 9, 10, 11, 13, 14, 1, 2, 3, 4, 5, 6, 8, 9, 10, 11, 12, 13, 14, 15, 2, 8, 2, 3, 8, 4, 6, 1, 2, 3, 4, 5, 6, 7, 9, 10, 11, 12, 13, 14, 15, 1, 2, 3, 4, 5, 6, 7, 8, 10, 11, 12, 13, 14, 1, 2, 3, 4, 5, 6, 8, 9, 10, 11, 12, 13, 14, 15, 3, 4, 8, 9, 10, 11, 14, 15, 1, 2, 3, 4, 6, 8, 10, 11, 12, 13, 14, 15, 2, 3, 4, 6, 10, 11, 14, 3, 4, 6, 7, 11, 14, 15, 3, 10, 2, 3, 4, 5, 6, 8, 10, 11, 12, 13, 14, 15, 2, 4, 13, 1, 2, 3, 4, 5, 6, 8, 9, 10, 11, 12, 13, 14, 15, 1, 2, 3, 4, 5, 6, 8, 9, 10, 11, 12, 13, 14, 15, 2, 3, 4, 6, 9, 10, 11, 13, 14, 2, 10, 11, 14, 2, 3, 4, 10, 11, 14, 1, 2, 3, 4, 5, 6, 7, 8, 9, 10, 11, 12, 13, 14, 15, 2, 3, 4, 6, 10, 11, 13, 14, 2, 3, 6, 8, 11, 13, 14, 2, 3, 4, 6, 8, 10, 11, 13, 14, 15, 2, 3, 6, 8, 13, 14, 2, 3, 5, 6, 8, 11, 13, 14, 3, 10, 11, 14, 2, 8, 3, 4, 10, 14, 15, 2, 3, 5, 6, 8, 13, 14, 15, 8, 2, 14, 2, 3, 6, 10, 11, 13, 14, 2, 11, 2, 3, 4, 5, 6, 7, 8, 10, 11, 12, 13, 14, 15, 4, 10, 11, 14, 15, 13, 14, 1, 2, 3, 4, 5, 6, 8, 9, 10, 11, 12, 13, 14, 15, 5, 14, 15, 14, 3, 11, 1, 2, 3, 4, 5, 6, 7, 8, 9, 10, 11, 12, 13, 14, 15, 4, 14, 3, 11, 3, 6, 7, 14, 14, 3, 4, 10, 13, 15, 3, 4, 5, 11, 13, 14, 3, 3, 6, 2, 3, 4, 6, 7, 11, 14, 2, 3, 4, 6, 8, 11, 14, 15, 1, 2, 3, 4, 5, 6, 7, 8, 9, 10, 11, 12, 13, 14, 15, 3, 11, 3, 6, 2, 3, 4, 5, 7, 8, 10, 11, 12, 13, 14, 15, 3, 4, 6, 9, 11, 14, 15, 6, 11, 3, 6, 7, 8, 11, 15, 1, 2, 3, 4, 6, 7, 8, 9, 11, 12, 13, 14, 15, 6, 11, 1, 2, 3, 4, 5, 6, 7, 9, 10, 11, 12, 13, 14, 15, 11, 2, 4, 10, 2, 3, 4, 7, 10, 11, 2, 3, 4, 8, 10, 11, 14, 4, 8, 10, 11, 14, 11, 14, 15, 3, 9, 13, 14, 3, 4, 6, 10, 11, 13, 14, 15, 2, 3, 5, 9, 11, 14, 15, 5, 10, 11, 14, 9, 10, 14, 4, 10, 11, 14, 2, 4, 10, 11, 13, 14, 1, 2, 3, 4, 5, 6, 7, 8, 9, 10, 11, 12, 13, 14, 15, 8, 14, 1, 2, 3, 4, 6, 9, 10, 11, 13, 14, 15, 3, 6, 14, 2, 3, 4, 6, 10, 11, 13, 14, 15, 3, 6, 14, 3, 6, 11, 14, 15, 2, 3, 8, 2, 3, 4, 6, 9, 11, 13, 14, 15, 2, 14, 3, 11, 3, 2, 3, 6, 11, 14, 8, 9, 10, 6, 14, 15, 3, 7, 13, 14, 2, 3, 4, 6, 8, 9, 11, 13, 14, 15, 2, 3, 11, 14, 6, 11, 2, 3, 2, 3, 5, 8, 15, 14, 11, 15, 1, 2, 3, 4, 5, 6, 8, 9, 10, 11, 12, 13, 14, 15, 6, 11, 2, 3, 5, 8, 13, 14, 1, 2, 3, 4, 5, 6, 7, 8, 9, 10, 11, 12, 13, 14, 15, 2, 3, 4, 6, 13, 14, 10, 14, 15, 1, 2, 3, 4, 5, 6, 8, 9, 10, 11, 12, 13, 14, 15, 2, 3, 6, 8, 10, 11, 14, 2, 3, 6, 8, 11, 13, 14, 3, 11, 3, 14, 2, 3, 4, 6, 7, 9, 10, 11, 14, 5, 7, 13, 15, 1, 2, 3, 4, 5, 6, 7, 8, 9, 10, 11, 12, 13, 14, 15, 2, 3, 4, 5, 6, 8, 11, 12, 13, 14, 15, 2, 3, 4, 10, 11, 14, 3, 2, 3, 4, 10, 14], \"Freq\": [0.0019825130262910544, 0.16256606815586647, 0.24583161526009076, 0.03568523447323898, 0.005947539078873164, 0.2953944409173671, 0.019825130262910544, 0.013877591184037382, 0.003965026052582109, 0.009912565131455272, 0.05154533868356742, 0.0019825130262910544, 0.015860104210328435, 0.13679339881408276, 0.003965026052582109, 0.16745368489431478, 0.041863421223578695, 0.7116781608008378, 0.041863421223578695, 0.041863421223578695, 0.11497112083598751, 0.22446742639407086, 0.032848891667425, 0.07117259861275417, 0.44346003751023755, 0.10949630555808335, 0.002899003311405573, 0.16234418543871207, 0.1188591357676285, 0.08117209271935603, 0.07537408609654489, 0.08407109603076161, 0.011596013245622292, 0.026091029802650156, 0.008697009934216718, 0.008697009934216718, 0.02899003311405573, 0.002899003311405573, 0.13045514901325078, 0.19713222517557896, 0.06087906953951703, 0.1045636112114292, 0.14377496541571516, 0.10892042834523875, 0.02178408566904775, 0.0087136342676191, 0.0522818056057146, 0.1045636112114292, 0.37032945637381176, 0.00435681713380955, 0.0697090741409528, 0.0087136342676191, 0.2664896689339149, 0.0888298896446383, 0.6218092275124681, 0.05818763383155933, 0.08728145074733899, 0.6691577890629323, 0.029093816915779665, 0.14546908457889834, 0.1736366134104326, 0.05738837222887179, 0.07357483619086128, 0.030901431200161734, 0.02501544430489283, 0.02648694102871006, 0.12360572480064694, 0.039730411543065086, 0.01618646396198948, 0.0014714967238172254, 0.0691603460194096, 0.3104858087254346, 0.05150238533360289, 0.20121617531074604, 0.06380025070828532, 0.014723134778835075, 0.03435398115061517, 0.02944626955767015, 0.397524639028547, 0.24047786805430624, 0.014723134778835075, 0.15431543306676673, 0.055228681308105994, 0.17218353584291868, 0.060101800247056525, 0.04385807045055476, 0.0016243729796501763, 0.04873118938950529, 0.009746237877901057, 0.011370610857551235, 0.011370610857551235, 0.0016243729796501763, 0.10558424367726146, 0.30700649315388334, 0.019492475755802114, 0.4667732702728059, 0.1555910900909353, 0.3111821801818706, 0.1725694396641474, 0.3451388793282948, 0.2588541594962211, 0.1725694396641474, 0.1638332488302795, 0.8191662441513974, 0.3122072284487668, 0.05203453807479446, 0.09106044163089032, 0.4162763045983557, 0.05203453807479446, 0.09106044163089032, 0.146816475575382, 0.880898853452292, 0.049752963651827034, 0.049752963651827034, 0.049752963651827034, 0.17768915589938228, 0.021322698707925872, 0.021322698707925872, 0.021322698707925872, 0.34116317932681395, 0.06396809612377762, 0.014215132471950581, 0.19190428837133286, 0.1680738628346369, 0.042018465708659226, 0.008403693141731845, 0.025211079425195536, 0.01680738628346369, 0.008403693141731845, 0.3613588050944694, 0.31934033938581013, 0.042018465708659226, 1.0205703899474905, 0.09781569858297719, 0.6847098900808403, 0.19563139716595437, 0.07699640894420778, 0.08454507648775757, 0.18267775455390475, 0.02566546964806926, 0.004529200526129869, 0.09058401052259739, 0.010568134560969696, 0.09964241157485713, 0.18871668858874457, 0.0015097335087099566, 0.0015097335087099566, 0.22495029279778353, 0.007548667543549783, 0.12675255645597414, 0.05670509104609369, 0.11674577568313407, 0.010006780772840063, 0.14009493081976088, 0.05670509104609369, 0.01667796795473344, 0.20013561545680125, 0.2168135834115347, 0.053369497455147005, 0.7806852562222159, 0.21291416078787706, 0.08275658347220857, 0.12413487520831286, 0.12413487520831286, 0.7034309595137729, 0.07021436063868994, 0.49150052447082954, 0.35107180319344966, 0.07021436063868994, 0.9466242347821726, 0.037864969391286904, 0.1840583082984589, 0.05751822134326841, 0.13420918313429295, 0.023007288537307363, 0.019172740447756135, 0.03451093280596104, 0.28375655862679083, 0.13037463504474173, 0.13037463504474173, 0.9131290916817689, 0.07024069936013608, 0.13155011443013576, 0.19732517164520363, 0.526200457720543, 0.06577505721506788, 0.878881739842078, 0.1318322609763117, 0.1461024756749471, 0.8766148540496826, 0.22931012337751674, 0.15765070982204277, 0.057327530844379186, 0.43712242268839124, 0.057327530844379186, 0.057327530844379186, 0.007165941355547398, 0.3374941320641645, 0.3374941320641645, 0.2699953056513316, 0.0674988264128329, 0.715105606795064, 0.11291141159922063, 0.15054854879896085, 0.6121823100691357, 0.3443525494138888, 0.8532368650603586, 0.12189098072290837, 0.01552451351563795, 0.14058309461383256, 0.06641041892800678, 0.07072278379346177, 0.0017249459461819944, 0.14230804056001453, 0.0008624729730909972, 0.01638698648872895, 0.04657354054691385, 0.0931470810938277, 0.02156182432727493, 0.004312364865454986, 0.04571106757382285, 0.16645728380656247, 0.16818222975274447, 0.03521536634197618, 0.05282304951296428, 0.13499223764424204, 0.011738455447325396, 0.011738455447325396, 0.11151532674959125, 0.4343228515510396, 0.18781528715720633, 0.01760768317098809, 0.07636591882907136, 0.9163910259488562, 0.04037843165928988, 0.15862955294721026, 0.4931937009813264, 0.008652521069847832, 0.0057683473798985545, 0.0057683473798985545, 0.011536694759797109, 0.15574537925726098, 0.011536694759797109, 0.0057683473798985545, 0.08940938438842759, 0.008652521069847832, 0.03254383778837481, 0.05695171612965592, 0.02440787834128111, 0.040679797235468516, 0.7241003907913396, 0.11390343225931183, 0.08779152924501119, 0.33653419543920954, 0.1316872938675168, 0.12437133309709918, 0.32190227389837434, 0.7890777760869435, 0.1479520830163019, 0.0035243305442591664, 0.3686449749295088, 0.10220558578351582, 0.020441117156703166, 0.045111430966517325, 0.03030924268062883, 0.0014097322177036664, 0.32141894563643597, 0.0042291966531109995, 0.005638928870814666, 0.014802188285888498, 0.0063437949796665, 0.02396544770096233, 0.05004549372848016, 0.002819464435407333, 0.004441068131170185, 0.26424355380462605, 0.16654005491888196, 0.004441068131170185, 0.019984806590265834, 0.03330801098377639, 0.02664640878702111, 0.2198328724929242, 0.16654005491888196, 0.04885174944287204, 0.03996961318053167, 0.0022205340655850926, 0.24768563033591368, 0.743056891007741, 0.1832795537957501, 0.7942113997815837, 0.06109318459858336, 0.18700007016728518, 0.18700007016728518, 0.18700007016728518, 0.37400014033457035, 0.04181013052297877, 0.04181013052297877, 0.919822871505533, 0.008160540609488903, 0.03808252284428155, 0.03944261294586303, 0.6895656815018123, 0.0013600901015814837, 0.0040802703047444515, 0.0040802703047444515, 0.0013600901015814837, 0.0027201802031629673, 0.11560765863442612, 0.005440360406325935, 0.0013600901015814837, 0.024481621828466707, 0.06392423477432974, 0.0013600901015814837, 1.01937142918405, 0.017195267106050193, 0.14615977040142664, 0.0917080912322677, 0.17911736568802283, 0.008597633553025097, 0.0415552288396213, 0.027225839584579473, 0.06878106842420077, 0.008597633553025097, 0.07737870197722586, 0.149025648252435, 0.008597633553025097, 0.03582347313760457, 0.13039744222088062, 0.01003057247852928, 0.16527114214098432, 0.08749648701581524, 0.03888732756258455, 0.019443663781292274, 0.0777746551251691, 0.04860915945323068, 0.25276762915679957, 0.3110986205006764, 0.08778383477561565, 0.7022706782049252, 0.2194595869390391, 0.04389191738780782, 0.9840924467154581, 0.8492775036515079, 0.1326996099455481, 1.0246763605969647, 0.06620722761384895, 0.06620722761384895, 0.7282795037523384, 0.06620722761384895, 0.06950192322323782, 0.834023078678854, 0.06950192322323782, 0.09321894410801869, 0.002142964232368246, 0.08464708717854572, 0.004285928464736492, 0.16715121012472317, 0.003214446348552369, 0.020358160207498335, 0.056788552157758514, 0.07286078390052037, 0.08036115871380922, 0.016072231742761844, 0.08143264082999334, 0.0653604090872315, 0.2507268151870848, 0.0669677685954441, 0.14423827082095653, 0.04636230133530745, 0.7417968213649192, 0.023928584329452152, 0.030855279793240934, 0.022039485566600667, 0.025187983504686477, 0.005667296288554457, 0.15742489690429048, 0.0012593991752343238, 0.0018890987628514856, 0.33437048102471295, 0.15112790102811885, 0.09067674061687131, 0.005037596700937295, 0.008815794226640266, 0.09319553896733995, 0.048486868246521465, 0.006106338842880521, 0.0610633884288052, 0.03663803305728312, 0.006106338842880521, 0.25646623140098185, 0.006106338842880521, 0.4396563966873975, 0.024425355371522083, 0.06716972727168573, 0.04274437190016364, 0.04274437190016364, 0.12058829666869651, 0.3246607987234137, 0.0023190057051672404, 0.3432128443647516, 0.0023190057051672404, 0.0023190057051672404, 0.025509062756839646, 0.06493215974468274, 0.018552045641337923, 0.08812221679635514, 0.0023190057051672404, 0.09863100472033925, 0.09863100472033925, 0.789048037762714, 0.40962527443417707, 0.5120315930427214, 0.008618480378931462, 0.24993593098901243, 0.0689478430314517, 0.004309240189465731, 0.030164681326260122, 0.36197617591512143, 0.13358644587343768, 0.07756632341038316, 0.004309240189465731, 0.004309240189465731, 0.05602012246305451, 1.011994395417776, 0.28692513406454434, 0.06694919794839368, 0.028692513406454435, 0.009564171135484812, 0.0860775402193633, 0.21997593611615066, 0.306053476335514, 0.8500571937223812, 0.060718370980170085, 0.09107755647025513, 0.19772039714099596, 0.03749869600949923, 0.006817944728999861, 0.12954094985099734, 0.0017044861822499652, 0.08351982293024829, 0.030680751280499373, 0.2488549826084949, 0.26419535824874457, 0.07484290540296273, 0.8981148648355527, 0.15939844243884202, 0.07438593980479295, 0.12751875395107362, 0.04781953273165261, 0.5897742370237156, 0.9799750462894212, 0.0020475420377943625, 0.45864941646593727, 0.09213939170074632, 0.010237710188971813, 0.059378719096036515, 0.20065911970384753, 0.0020475420377943625, 0.0020475420377943625, 0.038903298718092894, 0.0020475420377943625, 0.02252296241573799, 0.11056727004089559, 0.0020475420377943625, 0.3086207597116357, 0.6172415194232714, 0.05143679328527262, 0.4940854404988166, 0.3952683523990533, 0.8948104119304867, 0.0013727306241199876, 0.04598647590801959, 0.14139125428435873, 0.2333642061003979, 0.03020007373063973, 0.0013727306241199876, 0.0013727306241199876, 0.003431826560299969, 0.2766052207601775, 0.14756854209289869, 0.0013727306241199876, 0.11599573773813895, 0.0012381616884680313, 0.12505433053527115, 0.0990529350774425, 0.06438440780033763, 0.0012381616884680313, 0.22782175067811777, 0.006190808442340157, 0.011143455196212283, 0.023525072080892596, 0.038383012342508974, 0.05819359935799747, 0.0024763233769360626, 0.07428970130808188, 0.2513468227590104, 0.014857940261616376, 0.01075952619739436, 0.054993133897793395, 0.15063336676352104, 0.06694816300600935, 0.14943786385269944, 0.011955029108215956, 0.01075952619739436, 0.008368520375751169, 0.025105561127253505, 0.03586508732464787, 0.004782011643286382, 0.019128046573145527, 0.3777789198196242, 0.07053467173847414, 0.11426432489587361, 0.22852864979174722, 0.45705729958349445, 0.11426432489587361, 0.057132162447936806, 0.11966195880839102, 0.11966195880839102, 0.7547908170990818, 0.026394485604131587, 0.9238069961446056, 0.052788971208263175, 0.03607049051984148, 0.14428196207936592, 0.14428196207936592, 0.03607049051984148, 0.5049868672777807, 0.14428196207936592, 0.030799165146092777, 0.1231966605843711, 0.17599522940624443, 0.09019755507070028, 0.10779707801132472, 0.013199642205468333, 0.021999403675780554, 0.019799463308202498, 0.06159833029218555, 0.20019457344960304, 0.004399880735156111, 0.02419934404335861, 0.0989973165410125, 0.026399284410936665, 0.05048171304141401, 0.151445139124242, 0.605780556496968, 0.151445139124242, 0.855965907860444, 0.12228084398006343, 1.0229313155363113, 0.0022034990867348075, 0.33713536027042557, 0.04406998173469615, 0.039662983561226536, 0.10136095798980115, 0.039662983561226536, 0.006610497260204422, 0.006610497260204422, 0.05508747716837019, 0.0022034990867348075, 0.1762799269387846, 0.14102394155102768, 0.05068047899490057, 0.04966573976652915, 0.7449860964979372, 0.14899721929958745, 0.7373082601764321, 0.12288471002940536, 0.12288471002940536, 0.0013285712624379184, 0.009299998837065428, 0.41717137640550633, 0.065099991859458, 0.06244284933458216, 0.0013285712624379184, 0.0026571425248758367, 0.0013285712624379184, 0.014614283886817101, 0.3454285282338588, 0.0013285712624379184, 0.0026571425248758367, 0.07439999069652342, 0.0026571425248758367, 0.001330914544825291, 0.2701756525995341, 0.10913499267567386, 0.021294632717204658, 0.003992743634475873, 0.356685098013178, 0.01197823090342762, 0.05856023997231281, 0.027949205441331112, 0.003992743634475873, 0.001330914544825291, 0.1330914544825291, 0.14400508793406422, 0.14400508793406422, 0.14400508793406422, 0.5040178077692248, 0.6681503676170071, 0.22271678920566904, 0.11135839460283452, 0.2787437424951095, 0.6968593562377738, 1.0349870929791563, 0.07167362204309705, 0.9317570865602616, 0.1813084096318707, 0.04944774808141928, 0.30492777983541886, 0.03296516538761285, 0.008241291346903212, 0.0618096851017741, 0.20191163799912873, 0.1401019528973546, 0.01236193702035482, 0.19621544516546638, 0.7848617806618655, 0.7657728794212909, 0.13513639048611018, 0.04504546349537006, 0.04504546349537006, 0.766676181766868, 0.23000285453006042, 0.005375928527095068, 0.023295690284078633, 0.08063892790642603, 0.03225557116257041, 0.29030014046313374, 0.0017919761756983563, 0.155901927285757, 0.02508766645977699, 0.08959880878491781, 0.0017919761756983563, 0.010751857054190137, 0.12543833229888493, 0.15948587963715372, 0.10061842523275466, 0.10061842523275466, 0.3689342258534338, 0.06707895015516978, 0.06707895015516978, 0.03353947507758489, 0.2683158006206791, 0.007704749131072232, 0.11043473754536867, 0.14767435834555112, 0.10401411326947514, 0.008988873986250938, 0.11300298725572608, 0.0012841248551787054, 0.03081899652428893, 0.012841248551787055, 0.11685536182126219, 0.19903935255269933, 0.002568249710357411, 0.043660245076075986, 0.0937411144280455, 0.007704749131072232, 0.29697341685226636, 0.16498523158459244, 0.49495569475377726, 0.03299704631691849, 0.2811203098159216, 0.49196054217786284, 0.21084023236194122, 0.26432148390574545, 0.1660781005071498, 0.0023391281761570397, 0.09824338339859566, 0.04912169169929783, 0.018713025409256318, 0.0023391281761570397, 0.24560845849648916, 0.14970420327405054, 0.5475743943045113, 0.06107560551858011, 0.13057543248799885, 0.004212110725419318, 0.12215121103716022, 0.002106055362709659, 0.002106055362709659, 0.03159083044064488, 0.09687854668464431, 0.006318166088128976, 0.2529603568909065, 0.010998276386561154, 0.2529603568909065, 0.1649741457984173, 0.02199655277312231, 0.28595518605059, 0.12397376619609164, 0.12397376619609164, 0.7438425971765499, 0.8098468433078628, 0.16196936866157258, 0.11167778877186743, 0.04467111550874697, 0.06700667326312046, 0.13401334652624092, 0.5807245016137106, 0.04467111550874697, 0.004131612022431589, 0.09915868853835814, 0.318822727730971, 0.010329030056078974, 0.004820214026170188, 0.3181341257272324, 0.0013772040074771965, 0.0013772040074771965, 0.004131612022431589, 0.018592254100942153, 0.09709288252714235, 0.005508816029908786, 0.005508816029908786, 0.10673331057948274, 0.002754408014954393, 0.062252033588154766, 0.08347431776593481, 0.15775231238816492, 0.04739643466370874, 0.0007074094725926678, 0.09762250721778816, 0.01273337050666802, 0.0374927020474114, 0.03466306415704072, 0.054470529389635425, 0.15421526502520158, 0.023344512595558038, 0.004244456835556007, 0.22283398386669037, 0.0070740947259266785, 0.0038248495848501648, 0.19889217841220855, 0.054312864104872335, 0.030598796678801318, 0.0030598796678801316, 0.0627275331915427, 0.0030598796678801316, 0.0022949097509100988, 0.0038248495848501648, 0.02065418775819089, 0.025244007260011088, 0.006884729252730297, 0.15069907364309648, 0.37024543981349595, 0.06349250310851273, 0.001906040774387664, 0.00953020387193832, 0.1524832619510131, 0.20775844440825536, 0.21728864828019367, 0.007624163097550656, 0.005718122323162992, 0.015248326195101311, 0.11436244646325983, 0.013342285420713647, 0.06671142710356824, 0.12961077265836116, 0.05527518245724225, 0.15161220063533748, 0.07580610031766874, 0.07580610031766874, 0.6822549028590186, 0.4193012686970483, 0.09459845696213895, 0.08437159675001582, 0.03323729568940017, 0.0434641559015233, 0.015340290318184693, 0.0715880214848619, 0.0051134301060615645, 0.007670145159092347, 0.05624773116667721, 0.0025567150530307822, 0.07670145159092347, 0.0869283118030466, 0.08223214199873406, 0.08223214199873406, 0.5756249939911384, 0.16446428399746812, 0.08223214199873406, 0.16431269122293962, 0.821563456114698, 0.8875196239946869, 0.05916797493297912, 0.18177844303835478, 0.8180029936725965, 0.07112666350484131, 0.7112666350484131, 0.07112666350484131, 0.14225332700968263, 0.1032256931200423, 0.8258055449603384, 0.0904335020035723, 0.0904335020035723, 0.1808670040071446, 0.27130050601071687, 0.27130050601071687, 0.21124946710518572, 0.11118393005536091, 0.044473572022144366, 0.5670380432823406, 0.022236786011072183, 0.022236786011072183, 0.022236786011072183, 0.18655275522263964, 0.055965826566791894, 0.07462110208905585, 0.04663818880565991, 0.1585698419392437, 0.44772661253433516, 0.009327637761131982, 0.009327637761131982, 0.15462163823213054, 0.7731081911606527, 0.05154054607737685, 0.7328096959920847, 0.18320242399802117, 0.09160121199901058, 0.9945394804544809, 0.7177248777268208, 0.11962081295447013, 0.10049463368404558, 0.05862186964902659, 0.16749105614007598, 0.05583035204669199, 0.05024731684202279, 0.09491159847937639, 0.12282677450272238, 0.041872764035018994, 0.039081246432684395, 0.24007051380077554, 0.027915176023345995, 0.018205341573098947, 0.16384807415789052, 0.1001293786520442, 0.03641068314619789, 0.07282136629239579, 0.018205341573098947, 0.25487478202338526, 0.054616024719296836, 0.03641068314619789, 0.20936142809063787, 0.018205341573098947, 0.0016545096348946852, 0.03970823123747245, 0.089343520284313, 0.5112434771824578, 0.05128979868173524, 0.16048743458478448, 0.03970823123747245, 0.09596155882389175, 0.008272548174473426, 0.3496689217136682, 0.11655630723788941, 0.46622522895155766, 0.05827815361894471, 0.05827815361894471, 0.5905877981433826, 0.1687393708981093, 0.1687393708981093, 0.24927059482483735, 0.747811784474512, 0.15594998057917883, 0.07586755811960051, 0.3561560367281246, 0.008429728679955612, 0.004214864339977806, 0.005268580424972258, 0.16227227708914554, 0.19388375963897908, 0.03582634688981135, 0.03126458653497341, 0.3141346551847329, 0.34391045188470754, 0.002977579669997468, 0.10868165795490757, 0.001488789834998734, 0.001488789834998734, 0.02977579669997468, 0.11612560712990125, 0.001488789834998734, 0.04317490521496328, 0.002977579669997468, 0.0629569621240214, 0.6295696212402139, 0.1259139242480428, 0.0629569621240214, 0.0629569621240214, 0.09661217006093759, 0.09661217006093759, 0.6670840313731404, 0.004600579526711314, 0.07360927242738102, 0.004600579526711314, 0.05520695432053576, 0.09940874525113998, 0.19881749050227995, 0.49704372625569987, 0.09940874525113998, 0.09940874525113998, 0.08091532683683852, 0.026971775612279508, 0.8900685952052239, 0.23472125081226877, 0.5901562877565615, 0.013412642903558215, 0.15424539339091947, 0.7861591940287367, 0.19653979850718417, 0.5984427187703505, 0.02601924864218915, 0.3122309837062698, 0.0520384972843783, 0.0046183940737459525, 0.03727703788094948, 0.07125522285208041, 0.19958060104402153, 0.00032988529098185377, 0.026720708569530155, 0.00263908232785483, 0.0023091970368729763, 0.0023091970368729763, 0.31866919108847075, 0.22300245670373317, 0.001979311745891123, 0.0006597705819637075, 0.10721271956910249, 0.001649426454909269, 0.17073362320032867, 0.17073362320032867, 0.34146724640065734, 0.17073362320032867, 0.08536681160016434, 0.8266271816013399, 0.17713439605742998, 0.10219225917113325, 0.09580524297293742, 0.031935080990979144, 0.09580524297293742, 0.012774032396391657, 0.03832209718917497, 0.34489887470257474, 0.15328838875669987, 0.12135330776572073, 0.5837653776354308, 0.33358021579167474, 0.27951140489339626, 0.6987785122334906, 0.013624954534929715, 0.143062022616762, 0.13916917846392496, 0.0009732110382092654, 0.009732110382092653, 0.3435434964878707, 0.0009732110382092654, 0.02724990906985943, 0.030169542184487225, 0.008758899343883388, 0.018491009725976042, 0.0068124772674648575, 0.03406238633732429, 0.21216000632961984, 0.010705321420301919, 0.15343978965055063, 0.35212464548010974, 0.019671767903916747, 0.1868817950872091, 0.005901530371175024, 0.055080950130966894, 0.08655577877723368, 0.023606121484700097, 0.11409625384271713, 0.015896930772313158, 0.27024782312932366, 0.2225570308123842, 0.28614475390163685, 0.031793861544626316, 0.04769079231693947, 0.12717544617850526, 0.08496882961319385, 0.06179551244595916, 0.0405533050426607, 0.021242207403298463, 0.16800654946245147, 0.00965554881968112, 0.007724439055744895, 0.02510442693117091, 0.013517768347553567, 0.1622132201706428, 0.25876870836745397, 0.146764342059153, 0.309821766975069, 0.17704100970003944, 0.17704100970003944, 0.309821766975069, 0.8320529417443884, 0.11886470596348406, 0.022321867557882007, 0.3236670795892891, 0.07812653645258702, 0.08928747023152803, 0.4799201524944632, 0.0028967883759038826, 0.026071095383134943, 0.01158715350361553, 0.0666261326457893, 0.008690365127711647, 0.0028967883759038826, 0.04055503726265436, 0.7444746126072979, 0.09849080478073201, 0.6801661106298481, 0.1360332221259696, 0.1360332221259696, 0.09822988396713932, 0.09822988396713932, 0.589379303802836, 0.19645976793427863, 0.054649077432329586, 0.6448591137014891, 0.03278944645939775, 0.021859630972931834, 0.10929815486465917, 0.0655788929187955, 0.021859630972931834, 0.04371926194586367, 0.37738207280669583, 0.06175343009564113, 0.02744596893139606, 0.3636590883409978, 0.01372298446569803, 0.020584476698547044, 0.13036835242413128, 0.7548152847893047, 0.0457463808963215, 0.11436595224080374, 0.0076243968160535835, 0.02287319044816075, 0.0457463808963215, 0.26582421941010587, 0.7310166033777912, 0.16599749943781436, 0.774654997376467, 0.9766074024442528, 0.29294929528994934, 0.6913603368842804, 0.011717971811597973, 0.004425353310098176, 0.11948453937265077, 0.27879725853618514, 0.011063383275245442, 0.3208381149821178, 0.0376155031358345, 0.022126766550490885, 0.004425353310098176, 0.002212676655049088, 0.0575295930312763, 0.002212676655049088, 0.02876479651563815, 0.10178312613225807, 0.006638029965147265, 0.29600725566105635, 0.6906835965424648, 0.06654450858314852, 0.04990838143736139, 0.2162696528952327, 0.03327225429157426, 0.5656283229567625, 0.08318063572893565, 0.054390195302192426, 0.08007445419489441, 0.14352968204745226, 0.071009421644529, 0.0015108387583942342, 0.1193562619131445, 0.0015108387583942342, 0.052879356543798196, 0.054390195302192426, 0.10424787432920216, 0.19791987734964467, 0.015108387583942342, 0.007554193791971171, 0.09216116426204829, 0.0045325162751827025, 0.051736432231697486, 0.03449095482113165, 0.5346097997275406, 0.025868216115848743, 0.1293410805792437, 0.15520929669509245, 0.07760464834754623, 0.5760937452909698, 0.23043749811638792, 0.23043749811638792, 0.009444571789425277, 0.09849339151829217, 0.15785927133753677, 0.17539919037504084, 0.004047673624039404, 0.02496065401490966, 0.005396898165385872, 0.07015967615001634, 0.006071510436059107, 0.07083428842068958, 0.015516082225484383, 0.012143020872118214, 0.062064328901937534, 0.2644480101039077, 0.022262204932216725, 0.8861439591649728, 0.1107679948956216, 0.0027808561421964126, 0.017380350888727577, 0.034065487741906056, 0.4796976845288812, 0.0013904280710982063, 0.0013904280710982063, 0.006256926319941928, 0.0013904280710982063, 0.22872541769565494, 0.009037782462138341, 0.0027808561421964126, 0.018075564924276682, 0.18979343170490515, 0.0069521403554910315, 0.9871799684746311, 0.03234328155048528, 0.07720654305599711, 0.24100961413426125, 0.00104333166291888, 0.00417332665167552, 0.00208666332583776, 0.09911650797729359, 0.00208666332583776, 0.3265628104936094, 0.12206980456150894, 0.00104333166291888, 0.08972652301102367, 0.09033205616382739, 0.6323243931467918, 0.22583014040956848, 0.045166028081913695, 0.07134988436326485, 0.7848487279959133, 0.1426997687265297, 0.05903000829122472, 0.08854501243683707, 0.02951500414561236, 0.2951500414561236, 0.5312700746210225, 0.17092057698358085, 0.08546028849179042, 0.3418411539671617, 0.04273014424589521, 0.04273014424589521, 0.04273014424589521, 0.21365072122947606, 0.04273014424589521, 0.19601776067785767, 0.7840710427114307, 0.5269647763975918, 0.07528068234251312, 0.22584204702753932, 0.15056136468502623, 0.06951573759366415, 0.903704588717634, 0.0034169681977974727, 0.30240168550507635, 0.08713268904383556, 0.21697748056013952, 0.025627261483481045, 0.011959388692291155, 0.010250904593392418, 0.06663087985705071, 0.06492239575815198, 0.0017084840988987363, 0.05125452296696209, 0.15376356890088627, 0.005125452296696209, 0.1730635979765297, 0.11537573198435314, 0.7114836805701776, 0.07336031857091335, 0.07336031857091335, 0.014672063714182669, 0.7776193768516815, 0.07336031857091335, 0.08557896789342022, 0.09372934578803167, 0.16708274683953472, 0.020375944736528623, 0.09372934578803167, 0.00815037789461145, 0.00815037789461145, 0.1793083136814519, 0.08150377894611449, 0.00815037789461145, 0.24451133683834347, 0.00815037789461145, 0.004120006235253159, 0.11742017770471501, 0.0494400748230379, 0.12463018861640804, 0.02472003741151895, 0.06386009664642396, 0.06283009508761067, 0.009270014029319606, 0.061800093528797374, 0.008240012470506318, 0.006180009352879738, 0.0885801340579429, 0.3491705284377052, 0.029870045205585397, 0.027388752366920295, 0.17405110375107413, 0.04152488262081464, 0.08481678152336608, 0.017670162817367933, 0.03268980121213068, 0.0008835081408683967, 0.05035996402949861, 0.01855367095823633, 0.06626311056512975, 0.04240839076168304, 0.009718589549552363, 0.07421468383294531, 0.29862575161351806, 0.060078553579050974, 0.9564366245548008, 1.0146460488670463, 0.47207605978744677, 0.47207605978744677, 0.08384143103978324, 0.6707314483182659, 0.16768286207956648, 0.2453223197409913, 0.06767512268717002, 0.019738577450424587, 0.32709642632132174, 0.002819796778632084, 0.022558374229056672, 0.045116748458113344, 0.16918780671792505, 0.09587309047349085, 1.0004963596522933, 0.12497477756606896, 0.16663303675475863, 0.5832156286416552, 0.08331651837737931, 0.8544554198967732, 0.12206505998525331, 0.25275465247614837, 0.06740124066030624, 0.5771231231538722, 0.00842515508253828, 0.05476350803649882, 0.03370062033015312, 0.08875204765449204, 0.2218801191362301, 0.5177202779845369, 0.06656403574086903, 0.09614805162569971, 0.007396003971207671, 0.7977658092587657, 0.01877096021785331, 0.03754192043570662, 0.02815644032677997, 0.12201124141604652, 0.8548820075767318, 0.17097640151534635, 0.1034611412694455, 0.7242279888861185, 0.1034611412694455, 0.22746409041598217, 0.7961243164559376, 0.11810490964591522, 0.03543147289377457, 0.838544858485998, 0.9817057718525982, 1.022143833762724, 0.6279564174295293, 0.053824835779673945, 0.2870657908249277, 0.017941611926557983, 0.692001021619998, 0.2965718664085706, 0.05706615244569599, 0.9701245915768317, 0.6072480527974958, 0.2819365959416945, 0.021687430457053423, 0.021687430457053423, 0.04337486091410685, 0.8884514916329519, 0.0888451491632952, 0.12416949329488758, 0.24833898658977516, 0.6208474664744379, 0.8472127996679386, 0.8104223878749439, 0.11577462683927771, 0.1516691078369962, 0.5308418774294867, 0.0758345539184981, 0.2275036617554943, 0.8219690176890522, 0.17304610898716888, 0.04326152724679222, 0.002479741386864532, 0.004959482773729064, 0.02727715525550985, 0.05951379328474876, 0.09423017270085221, 0.037196120802967976, 0.037196120802967976, 0.07439224160593595, 0.002479741386864532, 0.07439224160593595, 0.2975689664237438, 0.2901297422631502, 0.007645804155122773, 0.06881223739610495, 0.030583216620491092, 0.1452702789473327, 0.022937412465368318, 0.022937412465368318, 0.015291608310245546, 0.030583216620491092, 0.05352062908585941, 0.32112377451515645, 0.2828947537395426, 0.3510736304541652, 0.11702454348472173, 0.4095859021965261, 0.1755368152270826, 0.12011899856853549, 0.09099924133979961, 0.014559878614367939, 0.10555911995416756, 0.02183981792155191, 0.02547978757514389, 0.014559878614367939, 0.12739893787571946, 0.46591611565977403, 0.010919908960775954, 0.04106789821492535, 0.5338826767940295, 0.28747528750447743, 0.04106789821492535, 0.04106789821492535, 0.04106789821492535, 0.006981109304207212, 0.14660329538835143, 0.027924437216828846, 0.09773553025890096, 0.027924437216828846, 0.04188665582524327, 0.39792323033981103, 0.20245216982200914, 0.020943327912621636, 0.03490554652103606, 0.307374505675834, 0.036884940681100084, 0.022540797082894495, 0.008196653484688907, 0.0040983267423444535, 0.39343936726506756, 0.0020491633711722267, 0.043032430794616765, 0.026639123825238947, 0.07172071799102794, 0.08196653484688907, 0.0040983267423444535, 0.05007363319668108, 0.20029453278672432, 0.4506626987701297, 0.2503681659834054, 0.05007363319668108, 0.14395962169136148, 0.5758384867654459, 0.14395962169136148, 0.19806892161898862, 0.5942067648569659, 0.19806892161898862, 0.09270000954175098, 0.07584546235234171, 0.06320455196028477, 0.0969136463391033, 0.004213636797352318, 0.021068183986761586, 0.004213636797352318, 0.004213636797352318, 0.09270000954175098, 0.27810002862525296, 0.26967275503054833, 0.3451967145469315, 0.2761573716375452, 0.1380786858187726, 0.0690393429093863, 0.1380786858187726, 0.008975857348991203, 0.12416602666104495, 0.2483320533220899, 0.1810131232046559, 0.24234814842276245, 0.0014959762248318669, 0.004487928674495601, 0.0014959762248318669, 0.020943667147646138, 0.07031088256709775, 0.0029919524496637337, 0.007479881124159335, 0.07330283501676148, 0.011967809798654935, 0.2029355604066371, 0.025366945050829637, 0.5834397361690816, 0.15220167030497783, 0.0768788594159095, 0.153757718831819, 0.11531828912386424, 0.0768788594159095, 0.5765914456193212, 0.009791143949243667, 0.1615538751625205, 0.0734335796193275, 0.02447785987310917, 0.014686715923865501, 0.015665830318789868, 0.0176240591086386, 0.043081033376672136, 0.0009791143949243668, 0.046997490956369604, 0.013707601528941134, 0.023498745478184802, 0.08714118114826863, 0.43374767695149447, 0.03328988942742847, 0.16248120271528155, 0.8124060135764076, 0.9932730808151361, 0.7698817185123147, 0.21996620528923275, 0.026925448211268597, 0.052433767569312534, 0.130375854496669, 0.004251386559673989, 0.011337030825797303, 0.001417128853224663, 0.00991990197257264, 0.4322243002335222, 0.2451632916078667, 0.08502773119347978, 0.001417128853224663, 0.2467919779078131, 0.4935839558156262, 0.18509398343085984, 0.02172869835563303, 0.11164055362032144, 0.11763467730463399, 0.02847208750048466, 0.01573457467132047, 0.09515671348846189, 0.013486778289703261, 0.06069050230366467, 0.12812439375218096, 0.01198824736862512, 0.04270813125072699, 0.0149853092107814, 0.06968168783013351, 0.24351127467519776, 0.024725760197789312, 0.00792803006207281, 0.2708743604541543, 0.16384595461617138, 0.006606691718394008, 0.003964015031036405, 0.046246842028758055, 0.00792803006207281, 0.04888951871611565, 0.005285353374715206, 0.07003093221497649, 0.003964015031036405, 0.014534721780466817, 0.3356199392944156, 0.011892045093109213, 0.010098676029259488, 0.1615788164681518, 0.1918748445559303, 0.5251311535214934, 0.020197352058518976, 0.07069073220481642, 0.010098676029259488, 0.2507818926972318, 0.03959714095219449, 0.026398093968129664, 0.4751656914263339, 0.09239332888845382, 0.10559237587251866, 0.037605614251755015, 0.02820421068881626, 0.8085207064127329, 0.009401403562938754, 0.01410210534440813, 0.03290491247028564, 0.06580982494057128, 0.07050654066050009, 0.14101308132100018, 0.5640523252840007, 0.2115196219815003, 0.14057899542763436, 0.14363506054562641, 0.1971162001104873, 0.0015280325589960256, 0.06112130235984102, 0.01069622791297218, 0.03361671629791256, 0.1665555489305668, 0.1130744093657059, 0.0015280325589960256, 0.004584097676988076, 0.12071457216068603, 0.006112130235984102, 0.02170125540732795, 0.03978563491343457, 0.03978563491343457, 0.18446067096228755, 0.010850627703663974, 0.007233751802442649, 0.010850627703663974, 0.0036168759012213244, 0.1808437950610662, 0.24233068538182873, 0.256798188986714, 0.07712264216781241, 0.11672616111885122, 0.05419428909089521, 0.014590770139856402, 0.12923253552444242, 0.0166751658741216, 0.09588220377619922, 0.05836308055942561, 0.027097144545447604, 0.0020843957342652, 0.09171341230766882, 0.28139342412580204, 0.0333503317482432, 0.9879380156603291, 0.07347854015986967, 0.02449284671995656, 0.1714499270396959, 0.7347854015986967, 0.028761864851275555, 0.24231871137199656, 0.03595233106409444, 0.03163805133640311, 0.03163805133640311, 0.058961822945114886, 0.0028761864851275555, 0.02013330539589289, 0.06615228915793378, 0.027323771608711776, 0.051771356732296, 0.021571398638456665, 0.14668551074150532, 0.19054735463970054, 0.04458089051947711, 0.08411590910835753, 0.3451652822032602, 0.014502742949716815, 0.002900548589943363, 0.2349444357854124, 0.00870164576983009, 0.011602194359773452, 0.04640877743909381, 0.12182304077762125, 0.002900548589943363, 0.020303840129603543, 0.10732029782790443, 0.11018273738598373, 0.11018273738598373, 0.7712791617018862, 0.10643308643839515, 0.5649140741730204, 0.2128661728767903, 0.10643308643839515, 0.14569784664574237, 0.04856594888191412, 0.04856594888191412, 0.04856594888191412, 0.6799232843467977, 0.46026539388102106, 0.15342179796034033, 0.30684359592068067, 0.1362283089986642, 0.0681141544993321, 0.11919977037383118, 0.017028538624833025, 0.47679908149532474, 0.03405707724966605, 0.15325684762349723, 0.1034886493378228, 0.01293608116722785, 0.3104659480134684, 0.14229689283950633, 0.09055256817059494, 0.01293608116722785, 0.0258721623344557, 0.1552329740067342, 0.0258721623344557, 0.1034886493378228, 0.20406083718746984, 0.3401013953124497, 0.3401013953124497, 0.1360405581249799, 0.005529736316617774, 0.18432454388725913, 0.1658920894985332, 0.05345411772730515, 0.17510831669289617, 0.40551399655197007, 0.0018432454388725913, 0.0036864908777451827, 0.0018432454388725913, 0.020861657426538494, 0.010430828713269247, 0.010430828713269247, 0.21383198862201958, 0.010430828713269247, 0.21383198862201958, 0.020861657426538494, 0.1095237014893271, 0.052154143566346234, 0.27641696090163503, 0.046938729209711615, 0.0052154143566346236, 0.0052154143566346236, 0.012732375144765804, 0.003183093786191451, 0.012732375144765804, 0.3915205357015485, 0.006366187572382902, 0.03183093786191451, 0.003183093786191451, 0.1432392203786153, 0.038197125434297416, 0.1432392203786153, 0.12095756387527513, 0.003183093786191451, 0.012732375144765804, 0.044563313006680316, 0.03183093786191451, 0.8640136913680216, 0.1234305273382888, 0.10591867903830936, 0.7943900927873202, 0.10591867903830936, 0.14825538880462824, 0.8895323328277694, 0.170116973743647, 0.8505848687182351, 0.04774097611634846, 0.031827317410898975, 0.23870488058174233, 0.4137551263416867, 0.2546185392871918, 0.3108534328987983, 0.1726963516104435, 0.5180890548313305, 0.7816346859566495, 0.19540867148916238, 0.7560213409602307, 0.2520071136534102, 0.9833282871102044, 0.08178625998779214, 0.13085801598046742, 0.29443053595605173, 0.06542900799023371, 0.016357251997558428, 0.3925740479414023, 0.030259439945558436, 0.12507235177497486, 0.06253617588748743, 0.09884750382215755, 0.014121071974593937, 0.04639780791652293, 0.054466991902005185, 0.11095127980038093, 0.040345919927411246, 0.09077831983667531, 0.064553471883858, 0.010086479981852811, 0.05850158389474631, 0.15936638371327444, 0.032276735941929, 0.668519884445963, 0.009415773020365675, 0.01883154604073135, 0.009415773020365675, 0.01883154604073135, 0.01883154604073135, 0.17889968738694784, 0.06591041114255973, 0.005582707211835723, 0.03907895048285006, 0.7369173519623153, 0.005582707211835723, 0.08932331538937156, 0.011165414423671445, 0.09490602260120728, 0.01674812163550717, 1.0060822715441293, 0.016269627090475573, 0.04880888127142671, 0.016269627090475573, 0.032539254180951147, 0.032539254180951147, 0.04880888127142671, 0.797211727433303, 0.7223193272301878, 0.27086974771132044, 0.20142687812091067, 0.8057075124836427, 1.0083340567081238, 0.08265085842598593, 0.08265085842598593, 0.7438577258338734, 0.11163095082884779, 0.11163095082884779, 0.7069960219160359, 0.07442063388589852, 0.001033233197776379, 0.11675535134873084, 0.05682782587770085, 0.14775234728202222, 0.01033233197776379, 0.12502121693094187, 0.14671911408424582, 0.10022362018430878, 0.001033233197776379, 0.005166165988881895, 0.28827206217960977, 0.001033233197776379, 0.005587247388007705, 0.12897229387317785, 0.10196726483114062, 0.11127934381115345, 0.0037248315920051364, 0.0037248315920051364, 0.00046560394900064205, 0.20998738099928957, 0.00046560394900064205, 0.14759645183320352, 0.057269285727078977, 0.0037248315920051364, 0.015364930317021188, 0.20719375730528572, 0.0018624157960025682, 0.23570954134614752, 0.039284923557691254, 0.6678437004807514, 0.07856984711538251, 0.02505618098765346, 0.19865972068782384, 0.09843499673721001, 0.08232745181657565, 0.0017897272134038186, 0.042953453121691645, 0.06443017968253746, 0.026845908201057277, 0.037584271481480185, 0.13780899543209402, 0.003579454426807637, 0.08948636067019092, 0.1753932669135742, 0.014317817707230548, 0.07851285883955424, 0.9421543060746509, 0.03956303905301205, 0.949512937272289, 1.0162922958075662, 0.13328064030366057, 0.3332016007591514, 0.3998419209109817, 0.13328064030366057, 0.04356486171540206, 0.08712972343080412, 0.6099080640156289, 0.2613891702924124, 0.19765604650838098, 0.08362371198431504, 0.00760215563493773, 0.01520431126987546, 0.01520431126987546, 0.33449484793726014, 0.00760215563493773, 0.12163449015900368, 0.17484957960356778, 0.04561293380962638, 0.3197873214983228, 0.1668455590426032, 0.5005366771278096, 0.011844983703026382, 0.16400746665728838, 0.2314327585052847, 0.03371264592399816, 0.014578441480647856, 0.25785618368895896, 0.000911152592540491, 0.02095650962843129, 0.014578441480647856, 0.022778814813512273, 0.07653681777340124, 0.008200373332864419, 0.021867662220971782, 0.09658217480929204, 0.024601119998593254, 0.0967944041822654, 0.0967944041822654, 0.03519796515718742, 0.39597710801835845, 0.008799491289296855, 0.360779142861171, 0.904536948774987, 0.0904536948774987, 0.22776774170866435, 0.1701713012765883, 0.00523604003927964, 0.02356218017675838, 0.4188832031423712, 0.04450634033387694, 0.04712436035351676, 0.06283248047135567, 0.020865311412499688, 0.06747930499361601, 0.11808878373882803, 0.18601203152845466, 0.0008878855920212633, 0.053717078317286435, 0.006215199144148843, 0.01642588345239337, 0.048389764765158855, 0.11098569900265792, 0.13939803794733835, 0.011098569900265792, 0.025748682168616636, 0.17047403366808256, 0.025304739372606005, 0.16352317633067567, 0.16352317633067567, 0.6540927053227027, 0.06548252335442489, 0.09650056073283668, 0.05514317756162096, 0.01723224298800655, 0.01033934579280393, 0.01378579439040524, 0.01723224298800655, 0.01723224298800655, 0.044803831768817026, 0.00344644859760131, 0.6548252335442489, 0.011750222751355826, 0.10575200476220244, 0.20497610799587385, 0.07833481834237217, 0.023500445502711652, 0.16189195790756916, 0.005222321222824811, 0.01436138336276823, 0.01827812427988684, 0.056139953145366725, 0.05744553345107292, 0.01436138336276823, 0.04177856978259849, 0.1449194139333885, 0.06005669406248533, 0.05414216923855044, 0.10828433847710088, 0.7579903693397061, 0.027003614521478553, 0.05400722904295711, 0.027003614521478553, 0.3510469887792212, 0.05400722904295711, 0.21602891617182843, 0.27003614521478553, 0.07616952884916121, 0.33006795834636526, 0.5331867019441285, 0.05077968589944081, 0.2858168699904842, 0.7145421749762105, 0.8914516197412824, 0.0990501799712536, 0.2470204102553461, 0.6587210940142563, 0.08234013675178203, 0.3968583327583854, 0.4762299993100625, 0.11905749982751562, 0.11961215507558261, 0.043495329118393676, 0.07611682595718892, 0.032621496838795255, 0.11961215507558261, 0.021747664559196838, 0.021747664559196838, 0.5436916139799209, 0.2624353201955349, 0.056236140041900334, 0.07498152005586711, 0.5998521604469369, 0.012576514823636068, 0.05030605929454427, 0.025153029647272136, 0.9180855821254329, 0.7611623904336969, 0.12018353533163637, 0.08012235688775758, 0.332119804667937, 0.4981797070019055, 0.020548986752090284, 0.0547972980055741, 0.05890709535599215, 0.03835810860390187, 0.008219594700836115, 0.030138513903065753, 0.0013699324501393524, 0.06438682515654956, 0.06849662250696761, 0.11096452846128754, 0.07260641985738568, 0.013699324501393524, 0.02465878410250834, 0.28905574697940334, 0.14521283971477136, 0.2029700018282086, 0.018451818348018963, 0.11071091008811378, 0.2583254568722655, 0.4059400036564172, 0.8022045614473107, 0.0891338401608123, 0.06595239747839593, 0.8408930678495482, 0.09892859621759391, 0.3245071342432259, 0.6490142684864518, 0.12699396127502677, 0.04040716949659942, 0.08081433899319884, 0.13276641406025524, 0.005772452785228489, 0.06926943342274187, 0.1558562252011692, 0.011544905570456978, 0.12122150848979828, 0.24821546976482503, 0.06231633777267481, 0.3946701392269405, 0.012463267554534963, 0.008308845036356642, 0.24095650605434263, 0.008308845036356642, 0.09555171791810138, 0.037389802663604886, 0.07477960532720977, 0.058161915254496495, 0.3304968088012664, 0.4957452132018996, 0.2787092228539931, 0.5016766011371876, 0.11148368914159724, 0.05574184457079862, 0.0030735894249166373, 0.10450204044716567, 0.07222935148554098, 0.10142845102224902, 0.01075756298720823, 0.04303025194883292, 0.036883073098999644, 0.03995666252391628, 0.01997833126195814, 0.08913409332258249, 0.10142845102224902, 0.0030735894249166373, 0.047640636086207874, 0.2566447169805392, 0.07376614619799929, 0.007849704407339666, 0.13082840678899443, 0.21063373493028104, 0.051023078647707824, 0.0026165681357798883, 0.27604793832477825, 0.0013082840678899442, 0.00915798847522961, 0.005233136271559777, 0.02485739728990894, 0.06410591932660727, 0.005233136271559777, 0.03794023796880838, 0.1596106562825732, 0.014391124746789387, 0.1066766724399284, 0.035558890813309464, 0.1066766724399284, 0.07111778162661893, 0.6756189254528798, 0.10266905297820593, 0.08455098480558135, 0.03623613634524915, 0.0030196780287707627, 0.009059034086312288, 0.2264758521578072, 0.027177102258936863, 0.018118068172624575, 0.009059034086312288, 0.06039356057541525, 0.2627119885030563, 0.15702325749607965, 0.11216849484908453, 0.048072212078179084, 0.053413568975754534, 0.01602407069272636, 0.1388752793369618, 0.03204814138545272, 0.005341356897575453, 0.03738949828302818, 0.21899563280059361, 0.3365054845472536, 0.9136935527624855, 0.0761411293968738, 0.85306077194253, 0.14217679532375502, 1.0177256395724963, 0.008454690260611146, 0.11766110612683847, 0.023250398216680655, 0.21348092908043145, 0.010568362825763934, 0.0028182300868703825, 0.015500265477787102, 0.061296504389430816, 0.004931902652023169, 0.16838924769050534, 0.05847827430256043, 0.004931902652023169, 0.0472053539550789, 0.21982194677588981, 0.043682566346490925, 0.2779266584404685, 0.02223413267523748, 0.04446826535047496, 0.4224485208295121, 0.02223413267523748, 0.01111706633761874, 0.1889901277395186, 0.03300665717595159, 0.16503328587975793, 0.2805565859955885, 0.18153661446773375, 0.3465699003474917, 0.009673882915253236, 0.177354520112976, 0.0354709040225952, 0.08706494623727913, 0.038695531661012944, 0.019347765830506472, 0.019347765830506472, 0.13543436081354532, 0.061267925129937166, 0.016123138192088726, 0.3901799442485472, 0.009673882915253236, 0.0035110352925672495, 0.07899829408276311, 0.07285398232077044, 0.10357554113073386, 0.011410864700843562, 0.009655347054559936, 0.0026332764694254373, 0.0710984646744868, 0.0008777588231418124, 0.08250932937533037, 0.11761968230100286, 0.0052665529388508745, 0.12200847641671193, 0.27649402928967093, 0.039499147041381556, 0.002725107139622738, 0.08175321418868214, 0.10355407130566405, 0.14170557126038238, 0.02452596425660464, 0.035426392815095596, 0.16078132123774153, 0.02725107139622738, 0.021800857116981903, 0.10355407130566405, 0.06540257135094571, 0.002725107139622738, 0.008175321418868214, 0.2152834640301963, 0.010900428558490952, 0.01793420728982046, 0.03310930576582238, 0.02897064254509459, 0.16002831120147487, 0.008277326441455596, 0.048284404241824314, 0.004138663220727798, 0.0055182176276370645, 0.00689777203454633, 0.280049544602581, 0.04966395864873358, 0.004138663220727798, 0.01793420728982046, 0.191758062560388, 0.14485321272547294, 0.23658581830254433, 0.8280503640589051, 0.8736191477666486, 0.022967656854391342, 0.09187062741756537, 0.022967656854391342, 0.7349650193405229, 0.022967656854391342, 0.09187062741756537, 0.07879690276551346, 0.7879690276551347, 0.10506253702068462, 0.8305942996895114, 0.13843238328158525, 0.1935414353726016, 0.1935414353726016, 0.5806243061178048, 0.11399666719629772, 0.26599222345802803, 0.5604836137151304, 0.02849916679907443, 0.02849916679907443, 0.7861625431096357, 0.19654063577740893, 0.01046176887003809, 0.22492803070581893, 0.05492428656769997, 0.013077211087547613, 0.05492428656769997, 0.047077959915171406, 0.1046176887003809, 0.11507945757041899, 0.015692653305057137, 0.026154422175095227, 0.0026154422175095225, 0.04184707548015236, 0.21446626183578085, 0.07323238209026663, 0.2417711323219009, 0.7253133969657026, 0.8335038044325946, 0.13891730073876576, 0.34221758154210435, 0.1520967029076019, 0.26616923008830334, 0.03802417572690048, 0.1520967029076019, 0.004359044346676657, 0.2935089860095616, 0.07846279824017982, 0.020342206951157734, 0.002906029564451105, 0.07700978345795427, 0.013077133040029972, 0.007265073911127762, 0.02324823651560884, 0.04794948781344323, 0.007265073911127762, 0.11769419736026974, 0.19470398081822402, 0.11478816779581863, 0.025320307946094443, 0.11394138575742499, 0.5064061589218888, 0.0042200513243490735, 0.050640615892188885, 0.029540359270443513, 0.11394138575742499, 0.0042200513243490735, 0.14770179635221758, 0.7538453596135984, 0.2431759224559995, 0.9718249125347359, 0.0363588558888943, 0.11021278191321085, 0.12725599561113005, 0.04544856986111788, 0.015906999451391256, 0.24201363451045269, 0.006817285479167681, 0.009089713972223575, 0.01817942794444715, 0.02613292767014278, 0.14884406629516103, 0.005681071232639735, 0.010225928218751523, 0.17384077971877587, 0.02613292767014278, 0.03604337847098985, 0.2777460340999806, 0.014841391135113468, 0.0021201987335876383, 0.26926523916563005, 0.008480794934350553, 0.0021201987335876383, 0.06148576327404151, 0.0021201987335876383, 0.008480794934350553, 0.13145232148243358, 0.18445728982212453, 0.050660425607686674, 0.2786323408422767, 0.6694413383872883, 0.08505955029086525, 0.11341273372115367, 0.05670636686057683, 0.3969445680240378, 0.340238201163461, 0.08101630820353656, 0.2430489246106097, 0.060762231152652425, 0.3848274639667987, 0.02025407705088414, 0.16203261640707312, 0.02025407705088414, 0.010733255864018298, 0.061716221218105216, 0.04964130837108463, 0.12343244243621043, 0.0013416569830022873, 0.05634959328609607, 0.013416569830022873, 0.042933023456073194, 0.012074912847020586, 0.11806581450420128, 0.02951645362605032, 0.009391598881016011, 0.07513279104812809, 0.3193143619545444, 0.07647444803113038, 0.05966797883676655, 0.18359378103620477, 0.004589844525905119, 0.5048828978495631, 0.013769533577715359, 0.08261720146629215, 0.1468750248289638, 0.06602537844305705, 0.04126586152691065, 0.05777220613767491, 0.25584834146684604, 0.01650634461076426, 0.01650634461076426, 0.09078489535920344, 0.06602537844305705, 0.12379758458073195, 0.2475951691614639, 0.01650634461076426, 0.19868867010729843, 0.6954103453755445, 0.09934433505364922, 0.014430597755675333, 0.33190374838053266, 0.014430597755675333, 0.49064032369296134, 0.11544478204540266, 0.014430597755675333, 0.01402552303061446, 0.01402552303061446, 0.04207656909184338, 0.4768677830408916, 0.36466359879597593, 0.08415313818368676, 0.1940936429069991, 0.0646978809689997, 0.0646978809689997, 0.646978809689997, 0.03234894048449985, 0.03234894048449985, 0.009553636233348697, 0.17037317949471842, 0.07324454445567334, 0.10190545315571943, 0.022291817877813626, 0.03662227222783667, 0.001592272705558116, 0.13056636185576553, 0.003184545411116232, 0.030253181405604207, 0.05732181740009218, 0.003184545411116232, 0.07165227175011522, 0.22928726960036871, 0.06209863551676653, 0.35689816146107506, 0.6245717825568814, 0.15244598315413818, 0.762229915770691, 0.07622299157706909, 0.02006208076775746, 0.1353278539061458, 0.08681409495865956, 0.11088859187996851, 0.009483892726576255, 0.0437718125841981, 0.0018238255243415873, 0.005106711468156445, 0.0054714765730247625, 0.02006208076775746, 0.06018624230327239, 0.025533557340782224, 0.16961577376376763, 0.2797748354339995, 0.025898322445650542, 0.14163438373877538, 0.008093393356501449, 0.032373573426005796, 0.0040466966782507245, 0.07284054020851305, 0.28731546415580145, 0.38443618443381883, 0.06879384353026231, 0.05563285162323999, 0.12517391615228998, 0.04172463871743, 0.20862319358714998, 0.18080676777552998, 0.013908212905809998, 0.36161353555105996, 0.015256605698298734, 0.2507804561657854, 0.09058609633364872, 0.09344670990207975, 0.06293349850548227, 0.04481627923875253, 0.0019070757122873418, 0.07246887706691899, 0.005721227136862025, 0.050537506375614556, 0.04386274138260886, 0.005721227136862025, 0.03432736282117215, 0.19833587407788353, 0.03051321139659747, 1.022230679654925, 0.06239381840050991, 0.9359072760076486, 0.12214622102655862, 0.20939352175981477, 0.41587880016185436, 0.008724730073325615, 0.008724730073325615, 0.0029082433577752053, 0.0029082433577752053, 0.11051324759545779, 0.046531893724403285, 0.07270608394438013, 0.09554439832961686, 0.05547739257848721, 0.05855946994395872, 0.006164154730943023, 0.05547739257848721, 0.06164154730943023, 0.006164154730943023, 0.03698492838565814, 0.4191625217041256, 0.16643217773546162, 0.03698492838565814, 0.0969236392073291, 0.14134697384402162, 0.08480818430641296, 0.09288515424035705, 0.004038484966972046, 0.02019242483486023, 0.044423334636692506, 0.08480818430641296, 0.012115454900916138, 0.16557788364585388, 0.25846303788621094, 0.009031984195062293, 0.10427836297935555, 0.08703548406150936, 0.029559221002022046, 0.0008210894722783902, 0.07718241039416868, 0.07636132092189028, 0.005747626305948731, 0.023811594696073315, 0.031201399946578827, 0.006568715778227122, 0.1502593734269454, 0.3120139994657883, 0.08621439458923097, 0.9736946928840438, 0.17612293061707832, 0.025160418659582618, 0.0922548684184696, 0.025160418659582618, 0.2432173803759653, 0.025160418659582618, 0.008386806219860873, 0.20967015549652182, 0.07548125597874786, 0.06709444975888698, 0.06709444975888698, 0.007804743624748885, 0.11707115437123328, 0.5619415409819197, 0.01560948724949777, 0.1482901288702288, 0.06243794899799108, 0.08585217987223773, 0.9740152014245369, 0.003408185960497761, 0.1508122287520259, 0.2948080855830563, 0.024709348213608765, 0.003408185960497761, 0.2939560390929319, 0.0008520464901244402, 0.014484790332115484, 0.010224557881493283, 0.018745022782737684, 0.07071985868032854, 0.0008520464901244402, 0.008520464901244402, 0.10224557881493282, 0.003408185960497761, 0.1892373333665849, 0.10383792138576711, 0.04172925812699052, 0.008734030770765459, 0.012615822224438994, 0.007763582907347074, 0.12712867010780834, 0.04172925812699052, 0.0009704478634183842, 0.004852239317091921, 0.4629036308505693, 0.03810742826924661, 0.9526857067311653, 0.16464073322282582, 0.6585629328913033, 0.0473651040122181, 0.04324639931550348, 0.41392982201981904, 0.01441546643850116, 0.04942445636057541, 0.004118704696714617, 0.008237409393429235, 0.012356114090143852, 0.1626888355202274, 0.05766186575400464, 0.006178057045071926, 0.1626888355202274, 0.01441546643850116, 0.05546149164530482, 0.07394865552707308, 0.01848716388176827, 0.42520476928067025, 0.1848716388176827, 0.01848716388176827, 0.22184596658121927, 0.034866213603931814, 0.12272907188583998, 0.0962307495468518, 0.06275918448707726, 0.029287619427302722, 0.06833777866370636, 0.004183945632471818, 0.05299664467797636, 0.11715047770921089, 0.034866213603931814, 0.06275918448707726, 0.008367891264943635, 0.05020734758966181, 0.17990966219628815, 0.07670566992865, 0.16126388619009696, 0.4389961346285973, 0.011945473051118293, 0.29565045801517775, 0.0029863682627795734, 0.014931841313897867, 0.0029863682627795734, 0.06868647004393019, 0.9569753172393624, 0.0463052572857756, 0.006979056991116605, 0.06699894711471942, 0.07816543830050598, 0.40059787129009317, 0.006979056991116605, 0.004187434194669964, 0.02791622796446642, 0.004187434194669964, 0.12143559164542894, 0.11026910045964236, 0.0027916227964466423, 0.03489528495558303, 0.0991026092738558, 0.03629109635380635, 0.12537784513697023, 0.02089630752282837, 0.19851492146686953, 0.0052240768807070926, 0.4806150730250525, 0.06268892256848511, 0.0731370763298993, 0.03656853816494965, 0.24195210453860674, 0.7258563136158203, 0.9805183762887966, 0.23563838080991387, 0.09063014646535149, 0.03625205858614059, 0.6162849959643901, 0.08426626200440351, 0.04030125574123646, 0.04030125574123646, 0.07327501043861175, 0.03663750521930587, 0.06594750939475058, 0.018318752609652936, 0.05495625782895881, 0.5605538298553799, 0.021982503131583526, 0.7432029095311778, 0.24773430317705927, 0.9900837710090199, 0.027324389631136994, 0.09368362159246969, 0.023420905398117423, 0.0078069684660391405, 0.10149059005850883, 0.26153344361231123, 0.07026271619435227, 0.027324389631136994, 0.16784982201984153, 0.14052543238870455, 0.07806968466039141, 0.4036607516425901, 0.07300247636089395, 0.0021471316576733516, 0.0021471316576733516, 0.49813454458021755, 0.0021471316576733516, 0.017177053261386813, 0.22135110417816348, 0.027668888022270435, 0.7470599766013017, 0.19366256841847473, 0.7746502736738989, 0.9641157667301065, 0.5232742819509829, 0.26163714097549146, 0.17442476065032764, 0.3149824113487817, 0.6670215769738906, 0.05965868323155545, 0.17195738107918923, 0.08422402338572534, 0.09475202630894101, 0.09124269200120246, 0.01754667153869278, 0.007018668615477112, 0.0877333576934639, 0.08071468907798679, 0.2386347329262218, 0.063168017539294, 0.002046103030750583, 0.1104895636605315, 0.10025904850677858, 0.03273764849200933, 0.006138309092251749, 0.08389022426077392, 0.012276618184503499, 0.014322721215254084, 0.07775191516852216, 0.05319867879951517, 0.049106472738013995, 0.010230515153752916, 0.05933698789176692, 0.38262126675035907, 0.004092206061501166, 1.0162674602693424, 0.08002336120658257, 0.6801985702559519, 0.24007008361974772, 0.5085173875157062, 0.12712934687892655, 0.12712934687892655, 0.2542586937578531, 0.8164386064201735, 0.1632877212840347, 0.23110701444329929, 0.34666052166494893, 0.34666052166494893, 0.11555350722164964, 0.12122547610669816, 0.18857296283264158, 0.07408223539853777, 0.10102123008891513, 0.06061273805334908, 0.4175544177008492, 0.020204246017783027, 0.006734748672594343, 0.10993141776670852, 0.16813040364320125, 0.019399661958830916, 0.07113209384904669, 0.0064665539862769714, 0.21339628154714008, 0.012933107972553943, 0.2715952674236328, 0.05173243189021577, 0.03879932391766183, 0.025866215945107886, 0.9830256410244622, 0.39613111033679854, 0.587366818775253, 0.7621903220248429, 0.027716011709994288, 0.16629607025996573, 0.027716011709994288, 0.1190234779653461, 0.3315654029034641, 0.005667784665016481, 0.4392533115387772, 0.00850167699752472, 0.03117281565759064, 0.06234563131518128, 0.0009698742806558053, 0.16099913058886367, 0.25022756440919774, 0.04752383975213446, 0.1115355422754176, 0.0019397485613116105, 0.03588534838426479, 0.011638491367869663, 0.04752383975213446, 0.1648786277114869, 0.0009698742806558053, 0.0009698742806558053, 0.16390875343083108, 0.10322687326278004, 0.2620374475132109, 0.5161343663139002, 0.03970264356260771, 0.055583700987650794, 0.015881057425043085, 0.05004172561745088, 0.7005841586443122, 0.25020862808725436, 0.020639758153087263, 0.9700686331951014, 0.07024875780385036, 0.936650104051338, 0.12862016167456103, 0.10688154279998732, 0.0036231031457622824, 0.005434654718643423, 0.15760498684065927, 0.12499705852879874, 0.007246206291524565, 0.0018115515728811412, 0.01449241258304913, 0.0018115515728811412, 0.010869309437286846, 0.4184684133355436, 0.01630396415593027, 0.0023392674123212344, 0.14737384697623776, 0.04912461565874592, 0.028071208947854812, 0.007017802236963703, 0.026901575241694193, 0.1976680963411443, 0.018714139298569875, 0.050294249364906535, 0.03158011006633666, 0.0058481685308030855, 0.06900838866347642, 0.34621157702354266, 0.018714139298569875, 0.09158815039327713, 0.013084021484753875, 0.06542010742376939, 0.4317727089968779, 0.24859640821032364, 0.14392423633229265, 0.07655898693967465, 0.07655898693967465, 0.8421488563364212, 0.4248940828172397, 0.5665254437563196, 0.14195957952911625, 0.05678383181164651, 0.7665817294572278, 0.05678383181164651, 0.16399624357238093, 0.8199812178619046, 0.9947588980817353, 0.1325677442312508, 0.03848740961552443, 0.12401498653891205, 0.012829136538508142, 0.025658273077016285, 0.008552757692338762, 0.004276378846169381, 0.3207284134627036, 0.05559292500020195, 0.03421103076935505, 0.2437535942316547, 0.16643554227475418, 0.832177711373771, 0.04337492744378369, 0.01182952566648646, 0.15772700888648614, 0.003943175222162153, 0.04731810266594584, 0.18927241066378336, 0.34699941955026953, 0.019715876110810767, 0.1616701841086483, 0.015772700888648614, 0.80477613456936, 0.160955226913872, 0.5612878259756392, 0.2806439129878196, 0.007749412272844842, 0.11527250755856704, 0.27122942954956947, 0.04455912056885784, 0.006780735738739237, 0.09589897687645492, 0.0184048541480065, 0.07458809312613161, 0.006780735738739237, 0.027122942954956947, 0.12883397903604552, 0.003874706136422421, 0.03874706136422421, 0.14239545051352398, 0.01646750107979529, 0.8230038702584305, 0.10973384936779072, 0.05486692468389536, 0.025843615623193032, 0.10624597533979357, 0.09763143679872924, 0.0660447954814933, 0.09475992395170779, 0.0028715128470214483, 0.017229077082128688, 0.01435756423510724, 0.5341013895459894, 0.03732966701127883, 0.007062671937570868, 0.1497286450765024, 0.057913909888081115, 0.042376031625425206, 0.07062671937570868, 0.014125343875141735, 0.049438703562996074, 0.1822169359893284, 0.002825068775028347, 0.002825068775028347, 0.4195227130917096, 0.048069122444933325, 0.07897070115953332, 0.010300526238199999, 0.09613824488986665, 0.07897070115953332, 0.010300526238199999, 0.04463561369886666, 0.010300526238199999, 0.006867017492133332, 0.20601052476399997, 0.010300526238199999, 0.3021487696538666, 0.027468069968533328, 0.06523666617526666, 1.0188271659411536, 0.0041361921369362595, 0.033089537095490076, 0.08686003487566145, 0.012408576410808779, 0.0041361921369362595, 0.012408576410808779, 0.8355108116611244, 0.0041361921369362595, 0.035976227796218445, 0.10792868338865533, 0.17988113898109223, 0.07195245559243689, 0.035976227796218445, 0.5396434169432767, 0.23693285190256236, 0.2566772562277759, 0.08884981946346089, 0.40476028866687735, 0.007211384763968743, 0.1370163105154061, 0.08365206326203742, 0.027403262103081222, 0.046152862489399954, 0.12692037184584987, 0.002884553905587497, 0.016586184957128106, 0.010095938669556239, 0.002884553905587497, 0.014422769527937486, 0.009374800193159366, 0.10528621755394364, 0.3447041917177059, 0.06634473982851243, 0.261409341785122, 0.261409341785122, 0.392114012677683, 0.022379682607460046, 0.13987301629662527, 0.06713904782238013, 0.08392380977797517, 0.033569523911190065, 0.21260698477087042, 0.011189841303730023, 0.17344254020781535, 0.039164444563055074, 0.2070120641190054, 0.011189841303730023, 0.07834207102891855, 0.07834207102891855, 0.1566841420578371, 0.35253931963013346, 0.3133682841156742, 0.8373041752208809, 0.13955069587014682, 0.043115333502962476, 0.2155766675148124, 0.7329606695503621, 0.061340918843549495, 0.061340918843549495, 0.613409188435495, 0.24536367537419798, 0.061340918843549495, 0.8344353382839608, 0.043917649383366356, 0.13175294815009908, 0.9906176962973544, 0.06202465872846634, 0.558221928556197, 0.372147952370798, 0.0407069019370396, 0.10283848910410005, 0.36207718038735226, 0.025709622276025013, 0.02356715375302293, 0.1542577336561501, 0.13497551694913132, 0.0021424685230020846, 0.152115265133148, 0.08955632163655129, 0.06716724122741347, 0.13433448245482693, 0.007463026803045941, 0.2015017236822404, 0.4403185813797105, 0.06716724122741347, 1.0174506959183758, 0.08496407581904475, 0.0566427172126965, 0.19824951024443777, 0.014160679303174125, 0.24073154815396014, 0.14160679303174126, 0.1557674723349154, 0.09912475512221888, 0.014160679303174125, 0.006326507144088712, 0.006326507144088712, 0.29734583577216944, 0.009489760716133068, 0.24040727147537105, 0.4143862179378106, 0.025306028576354847, 0.24778287018613776, 0.1289276722919741, 0.02820292831386934, 0.15914509548540556, 0.02820292831386934, 0.231666911149641, 0.040289897591241915, 0.006043484638686287, 0.03626090783211772, 0.0926667644598564, 0.35868256237330226, 0.2789753262903462, 0.03985361804147803, 0.23912170824886816, 0.11956085412443408, 0.006580839720806925, 0.09213175609129695, 0.12722956793560056, 0.16561779964030762, 0.09432536933156592, 0.0175489059221518, 0.0010968066201344875, 0.00438722648053795, 0.046065878045648476, 0.0789700766496831, 0.0087744529610759, 0.15684334667923172, 0.14368166723761785, 0.05703394424699335, 0.26480113735387145, 0.039229798126499474, 0.019614899063249737, 0.049037247658124346, 0.019614899063249737, 0.451142678454744, 0.14711174297437304, 0.009807449531624868, 0.19103067808320984, 0.20880097371885725, 0.11106434772279641, 0.044425739089118566, 0.06663860863367785, 0.1510475129030031, 0.22212869544559283, 0.008885147817823713, 0.21860763355553714, 0.04567920701160478, 0.008700801335543767, 0.015226402337201591, 0.01087600166942971, 0.006525601001657826, 0.001087600166942971, 0.07395681135212202, 0.003262800500828913, 0.29365204507460213, 0.31322884807957563, 0.009788401502486738, 0.13129300256550466, 0.08951795629466226, 0.061667925447434005, 0.003978575835318323, 0.015914303341273292, 0.041775046270842386, 0.06564650128275233, 0.009946439588295808, 0.0019892879176591615, 0.10941083547125388, 0.443611205637993, 0.025860742929569098, 0.04095484802933427, 0.28668393620533994, 0.08190969605866855, 0.09214840806600212, 0.2559678001833392, 0.18429681613200424, 0.020477424014667137, 0.030716136022000705, 0.07501768542020688, 0.8251945396222757, 0.07501768542020688, 0.8506876255516859, 0.14178127092528098, 0.4514481280685117, 0.06688120415829803, 0.2173639135144686, 0.2340842145540431, 0.016720301039574507, 0.016720301039574507, 0.0678257935637453, 0.30647210425099725, 0.07284992642031901, 0.0678257935637453, 0.01004826571314745, 0.007536199284860588, 0.04521719570916353, 0.27883937353984173, 0.007536199284860588, 0.1356515871274906, 0.05263744496253648, 0.7895616744380471, 0.15791233488760945, 0.005036417192027615, 0.14497686631336634, 0.2644119025814498, 0.0028779526811586373, 0.047845963324262344, 0.2363518639401531, 0.0025182085960138074, 0.001079232255434489, 0.0028779526811586373, 0.0014389763405793187, 0.044968010643103705, 0.005036417192027615, 0.10720373737315923, 0.11727657175721447, 0.016188483831517334, 0.2893727543783194, 0.05809377265928381, 0.032883267542990834, 0.0010961089180996945, 0.5447661322955482, 0.0054805445904984726, 0.006576653508598167, 0.0010961089180996945, 0.0054805445904984726, 0.05480544590498473, 0.0010961089180996945, 0.1512922266770985, 0.009455764167318656, 0.02836729250195597, 0.04727882083659328, 0.42550938752933953, 0.3214959816888343, 0.01891152833463731, 0.21145722448902643, 0.7753431564597636, 0.10944360004212772, 0.7113834002738302, 0.16416540006319158, 0.8055332875040915, 0.17900739722313144, 0.8207865651428125, 0.8015067802699685, 0.13358446337832808, 0.06679223168916404, 0.01233644669207661, 0.16037380699699594, 0.15132707942280643, 0.05674765478355241, 0.0032897191178870963, 0.1521495092022782, 0.00986915735366129, 0.04934578676830644, 0.010691587133133063, 0.03865419963517338, 0.09375699485978224, 0.008224297794717741, 0.04029905919411693, 0.1908037088374516, 0.021383174266266125, 0.017464252590585358, 0.0899085596330135, 0.08602761461288343, 0.24967412962836844, 0.0019404725100650396, 0.05627370279188615, 0.021992021780737114, 0.022638845950758796, 0.009702362550325198, 0.07891254874264494, 0.03557532935119239, 0.009055538380303518, 0.040749922711365835, 0.2567891954986069, 0.023932494290802155, 0.9880704205042681, 0.7319529530545684, 0.2744823573954632, 0.46250916183292107, 0.04475895114512139, 0.4774288122146282, 0.0013755858943972582, 0.09353984081901356, 0.2641124917242736, 0.011004687155178066, 0.2572345622522873, 0.00825351536638355, 0.012380273049575325, 0.02200937431035613, 0.00825351536638355, 0.19120643932121892, 0.0013755858943972582, 0.0027511717887945164, 0.12105155870695873, 0.004126757683191775, 0.006973081364981716, 0.4881156955487201, 0.3207617427891589, 0.027892325459926863, 0.1324885459346526, 0.013946162729963432, 0.006973081364981716, 0.4810713197898385, 0.12026782994745963, 0.21826383953427858, 0.03563491257702508, 0.07126982515405016, 0.01781745628851254, 0.057906732937665746, 0.031530424559072324, 0.1261216982362893, 0.23122311343319707, 0.11561155671659853, 0.010510141519690775, 0.07357099063783543, 0.06306084911814465, 0.14714198127567085, 0.19969268887412472, 0.3976443367403602, 0.3976443367403602, 0.26509622449357345, 0.17452012184429747, 0.12263576129599281, 0.07546816079753403, 0.03301732034892114, 0.06603464069784228, 0.014150280149537632, 0.037734080398767016, 0.009433520099691754, 0.2735720828910609, 0.18395364194398922, 0.9514284882004834, 0.10969272189960123, 0.8775417751968099, 0.8243697406113227, 0.1373949567685538, 0.7438559957819378, 0.2125302845091251, 0.06897688714696518, 0.13795377429393035, 0.758745758616617, 0.09073236522952174, 0.1814647304590435, 0.1814647304590435, 0.5443941913771305, 0.009892647470848559, 0.09694794521431588, 0.04550617836590337, 0.5797091417917255, 0.007914117976678847, 0.003957058988339424, 0.009892647470848559, 0.09892647470848559, 0.02176382443586683, 0.11079765167350386, 0.013849706459187983, 0.8254770354394811, 0.16509540708789625, 0.08238185652883889, 0.02149091909447971, 0.20774555124663718, 0.0071636396981599034, 0.014327279396319807, 0.0071636396981599034, 0.2901274077754761, 0.017909099245399757, 0.08954549622699878, 0.05730911758527923, 0.0035818198490799517, 0.20416373139755725, 0.060547806280886865, 0.2724651282639909, 0.15742429633030586, 0.15742429633030586, 0.012109561256177374, 0.2664103476359022, 0.006054780628088687, 0.06660258690897555, 0.006054780628088687, 0.09818131620637566, 0.13499930978376654, 0.47249758424318283, 0.04295432584028935, 0.018408996788695436, 0.0859086516805787, 0.06749965489188327, 0.06749965489188327, 0.012272664525796957, 0.18180369561768817, 0.7726657063751747, 0.04545092390442204, 0.04155813945070848, 0.1322304437067997, 0.18134460851218245, 0.08941296669697885, 0.0025186751182247565, 0.22919943575845284, 0.008815362913786647, 0.01385271315023616, 0.005037350236449513, 0.06422621551473129, 0.0692635657511808, 0.010074700472899026, 0.008815362913786647, 0.1322304437067997, 0.010074700472899026, 0.025367162348861303, 0.09059700838879037, 0.6414268193926358, 0.03623880335551615, 0.06885372637548068, 0.00724776067110323, 0.12683581174430653, 0.006798512904750631, 0.1759615104758987, 0.07198425428559492, 0.28993657976142395, 0.007598337952368353, 0.022795013857105056, 0.001999562619044303, 0.06798512904750631, 0.0007998250476177213, 0.06078670361894682, 0.06918486661893289, 0.003599212714279746, 0.04039116490469492, 0.1759615104758987, 0.003999125238088606, 0.001517523395969288, 0.13202453544932805, 0.02883294452341647, 0.4021436999318613, 0.031867991315355046, 0.009105140375815727, 0.060700935838771515, 0.06980607621458725, 0.007587616979846439, 0.001517523395969288, 0.06828855281861795, 0.18058528412034525, 0.006070093583877152, 0.025033874766333578, 0.1126524364485011, 0.07927393676005633, 0.28669747053824884, 0.0005960446372936566, 0.06437282082771491, 0.008940669559404849, 0.0017881339118809697, 0.007748580284817536, 0.14901115932341416, 0.07390953502441341, 0.008940669559404849, 0.014901115932341415, 0.14305071295047758, 0.023841785491746266, 0.09547022633849898, 0.031823408779499664, 0.031823408779499664, 0.06364681755899933, 0.019094045267699797, 0.1973051344328979, 0.038188090535399594, 0.12729363511799865, 0.02545872702359973, 0.2927753607713969, 0.07637618107079919, 1.0102958184601498, 0.10663475647777285, 0.10663475647777285, 0.07616768319840918, 0.030467073279363672, 0.0457006099190455, 0.24373658623490937, 0.0457006099190455, 0.060934146558727344, 0.060934146558727344, 0.10663475647777285, 0.10663475647777285, 0.014186501226145684, 0.14122017129663206, 0.05868052779905715, 0.10252971340714381, 0.025148797628167352, 0.012251978331671274, 0.009027773507547254, 0.10639875919609264, 0.01160713736684647, 0.09350193989959656, 0.06770830130660441, 0.005158727718598431, 0.08124996156792529, 0.23214274733692938, 0.03869045788948823, 0.024187642188768246, 0.14292697656999417, 0.05057416094015179, 0.1781090015718389, 0.1363303468821483, 0.0021988765626152953, 0.010994382813076475, 0.006596629687845885, 0.20889327344845304, 0.03298314843922943, 0.0021988765626152953, 0.07256292656630474, 0.12093821094384123, 0.010994382813076475, 0.08329798196401551, 0.8329798196401551, 0.04164899098200776, 1.015927091458276, 0.005407349645798494, 0.06921407546622073, 0.11788022227840718, 0.07462142511201922, 0.0010814699291596989, 0.08327318454529682, 0.010814699291596988, 0.021629398583193977, 0.041095857308068556, 0.12977639149916387, 0.13950962086160115, 0.0043258797166387955, 0.028118218158152172, 0.2065607564695025, 0.06813260553706103, 0.11123584579446641, 0.03707861526482213, 0.03707861526482213, 0.7415723052964427, 0.07415723052964426, 0.07554082422976185, 0.1510816484595237, 0.6798674180678568, 0.07554082422976185, 0.04162621810375881, 0.7908981439714173, 0.16650487241503523, 1.0093587927147352, 0.03820837852035078, 0.07641675704070156, 0.5731256778052617, 0.11462513556105235, 0.03820837852035078, 0.1528335140814031, 0.10956234862850683, 0.6025929174567876, 0.3286870458855205, 0.16349000303496578, 0.4904700091048973, 0.16349000303496578, 0.010485465330221296, 0.08126235630921505, 0.32242805890430487, 0.002621366332555324, 0.01966024749416493, 0.2070879402718706, 0.00655341583138831, 0.003932049498832986, 0.002621366332555324, 0.05504869298366181, 0.20446657393931528, 0.005242732665110648, 0.011796148496498958, 0.06815552464643843, 0.5460786710304125, 0.43686293682433, 0.02305059256310106, 0.23050592563101063, 0.09220237025240424, 0.06915177768930318, 0.04610118512620212, 0.04610118512620212, 0.5071130363882234, 0.8702900336423502, 0.1243271476631929, 0.12573023005543635, 0.754381380332618, 0.12573023005543635, 1.0127723983043002, 0.14478967388853237, 0.07978206520388519, 0.12115054345775159, 0.0059097826076951986, 0.008864673911542798, 0.0059097826076951986, 0.20684239126933196, 0.0029548913038475993, 0.044323369557713994, 0.10342119563466598, 0.023639130430780794, 0.24525597821935075, 0.0059097826076951986, 0.6174075560533097, 0.24696302242132387, 0.12348151121066193, 0.05494570302851314, 0.018315234342837713, 0.045788085857094284, 0.009157617171418856, 0.10989140605702628, 0.7600822252277651, 0.1144973728575874, 0.1144973728575874, 0.38165790952529133, 0.3434921185727622, 0.03816579095252914, 0.8362248138766918, 0.13937080231278198, 0.10896274540057785, 0.10896274540057785, 0.5448137270028893, 0.10896274540057785, 0.7373457594991848, 0.29493830379967395, 0.08132187869589111, 0.18071528599086914, 0.1265007001936084, 0.018071528599086912, 0.1445722287926953, 0.009035764299543456, 0.07228611439634765, 0.19878681458995603, 0.17167952169132566, 0.9883650114486845, 0.10678044590303293, 0.1124004693716136, 0.00562002346858068, 0.1180204928401943, 0.04496018774864544, 0.08430035202871021, 0.07868032856012952, 0.0281001173429034, 0.15174063365167836, 0.00562002346858068, 0.04496018774864544, 0.21356089180606586, 0.00562002346858068, 0.0019049680936581018, 0.024764585217555323, 0.017144712842922915, 0.024764585217555323, 0.0019049680936581018, 0.038099361873162034, 0.049529170435110646, 0.11810802180680231, 0.07429375565266597, 0.005714904280974305, 0.2933650864233477, 0.34860916113943263, 0.36730582211406837, 0.09182645552851709, 0.5509587331711026, 0.07118371866070344, 0.021902682664831828, 0.24640517997935804, 0.010951341332415914, 0.013689176665519892, 0.010951341332415914, 0.6187507852814991, 0.0027378353331039785, 0.10140934247459214, 0.020878394038886618, 0.011930510879363782, 0.017895766319045672, 0.11632248107379688, 0.020878394038886618, 0.014913138599204727, 0.008947883159522836, 0.0029826277198409454, 0.05965255439681891, 0.5816124053689844, 0.03877416035793229, 1.0323568275633783, 0.9052086367782303, 0.1256334694660762, 0.07148111193759508, 0.33574461667658295, 0.019494848710253206, 0.03032532021594943, 0.010830471505696226, 0.12130128086379773, 0.14296222387519017, 0.002166094301139245, 0.015162660107974716, 0.12130128086379773, 0.5060706772210192, 0.30555210700137003, 0.0668395234065497, 0.009548503343792814, 0.10503353678172095, 0.16271592159319603, 0.32543184318639207, 0.4881477647795881, 0.09088543497988721, 0.8179689148189849, 0.06927926571777386, 0.7620719228955124, 0.13855853143554772, 0.0031406334471404916, 0.017587547303986754, 0.07035018921594702, 0.34923843932202264, 0.005025013515424786, 0.005653140204852885, 0.059672035495669344, 0.020100054061699145, 0.17713172641872374, 0.23115062170954018, 0.0012562533788561966, 0.0006281266894280983, 0.05841578211681314, 0.0012562533788561966, 0.271094853188048, 0.7048466182889248, 0.06790540949731957, 0.060360363997617406, 0.03772522749851088, 0.030180181998808703, 0.2867117289886827, 0.5130630939797479, 0.06077474936310572, 0.032919655905015596, 0.10888809260889774, 0.1190172175027487, 0.1519368734077643, 0.3089383092624541, 0.21524390399433277, 0.05746733090311126, 0.06385258989234585, 0.28095139552632176, 0.014898937641547365, 0.00425683932615639, 0.08939362584928419, 0.18730093035088116, 0.01702735730462556, 0.00425683932615639, 0.27669455620016536, 0.04794775285276886, 0.15583019677149879, 0.02397387642638443, 0.011986938213192215, 0.4794775285276886, 0.011986938213192215, 0.2637126406902287, 0.09423633326732, 0.6596543328712401, 0.09423633326732, 0.09423633326732, 0.0047827507710798125, 0.13710552210428797, 0.32044430166234744, 0.017536752827292647, 0.009565501542159625, 0.22638353649777782, 0.012754002056212833, 0.015942502570266043, 0.020725253341345857, 0.10043776619267607, 0.006377001028106417, 0.03188500514053209, 0.09565501542159625, 0.0015942502570266042, 0.06415400986134273, 0.05453090838214132, 0.4501473025270882, 0.0074846344838233195, 0.004276933990756182, 0.032077004930671366, 0.002138466995378091, 0.12082338523886216, 0.23950830348234622, 0.022453903451469956, 0.004276933990756182, 0.20790475373512188, 0.11286258059906616, 0.03564081492602089, 0.11880271642006963, 0.19008434627211143, 0.10098230895705919, 0.12474285224107312, 0.017820407463010446, 0.04752108656802786, 0.03564081492602089, 0.023145773181307467, 0.0945119071570055, 0.09836953602055673, 0.06172206181681991, 0.036647474203736825, 0.011572886590653733, 0.06172206181681991, 0.04436273193083931, 0.14273226795139604, 0.013501701022429357, 0.08293902056635176, 0.3066814946523239, 0.0173593298859806, 0.43120837449524413, 0.5390104681190552, 0.3112673905414884, 0.3890842381768605, 0.3112673905414884, 0.17994804627181715, 0.22660124345339938, 0.5065204265428928, 0.0866416519086527, 0.14113286135514463, 0.07056643067757232, 0.14113286135514463, 0.07056643067757232, 0.5645314454205785, 0.09900953978958327, 0.8415810882114578, 0.049504769894791634, 0.09006451513376681, 0.9006451513376681, 0.07201868588163941, 0.05601453346349732, 0.49612872496240484, 0.04801245725442628, 0.12803321934513673, 0.03200830483628418, 0.1200311431360657, 0.04801245725442628, 0.20643054246052975, 0.187397939254949, 0.1610451040472218, 0.021960696006439337, 0.001464046400429289, 0.11273157283305525, 0.17861366085237326, 0.121515851235631, 0.005856185601717156, 0.3462954203001278, 0.03995716388078397, 0.5727193489579037, 0.02663810925385598, 0.06238687935813392, 0.11437594548991219, 0.4523048753464709, 0.020795626452711307, 0.0779835991976674, 0.10917703887673436, 0.010397813226355654, 0.14556938516897913, 0.22129607088093953, 0.7376535696031318, 0.7722041159836177, 0.22062974742389077, 1.0153690857712587, 0.008643959700576694, 0.03169451890211454, 0.002881319900192231, 0.040338478602691234, 0.008643959700576694, 0.025931879101730077, 0.002881319900192231, 0.149828634809996, 0.6771101765451742, 0.046101118403075694, 0.0012487218300004587, 0.302190682860111, 0.39709354194014584, 0.021228271110007798, 0.0024974436600009174, 0.08865924993003257, 0.16358255973006008, 0.022476992940008256, 0.17361233871671847, 0.798616758096905, 0.0034233421791077527, 0.06675517249260117, 0.15576206914940274, 0.07531352794037055, 0.0034233421791077527, 0.030810079611969774, 0.010270026537323259, 0.20882387292557292, 0.00855835544776938, 0.05648514595527792, 0.03252175070152365, 0.00855835544776938, 0.013693368716431011, 0.22080557055245004, 0.10783527864189421, 0.006868544734628607, 0.09844914119634336, 0.16484507363108658, 0.10302817101942911, 0.0034342723673143035, 0.09158059646171476, 0.0034342723673143035, 0.07898826444822898, 0.002289514911542869, 0.12019953285600063, 0.09501486882902907, 0.006868544734628607, 0.043500783319314514, 0.16713458854262944, 0.013737089469257214, 0.060756013213135125, 0.7746391684674728, 0.1518900330328378, 0.015189003303283781, 0.1984444696500249, 0.5953334089500747, 0.1984444696500249, 0.7093099878912732, 0.010132999827018188, 0.040531999308072754, 0.15199499740527284, 0.07093099878912731, 0.020265999654036377, 0.8022717155275388, 0.05014198222047118, 0.03760648666535338, 0.08774846888582456, 0.02507099111023559, 0.153176099458926, 0.45952829837677794, 0.306352198917852, 0.153176099458926, 0.03526188327039239, 0.0029384902725326993, 0.06464678599571938, 0.017630941635196195, 0.08227772763091558, 0.005876980545065399, 0.13223206226397147, 0.011753961090130797, 0.08227772763091558, 0.16455545526183116, 0.011753961090130797, 0.15867847471676574, 0.03232339299785969, 0.19687884825969085, 0.17820543123551838, 0.08910271561775919, 0.6682703671331939, 0.044551357808879595, 0.15257108405119058, 0.8391409622815481, 0.20219623176630233, 0.8087849270652093, 0.0022431233033151864, 0.05383495927956447, 0.12112865837902005, 0.04486246606630372, 0.020188109729836676, 0.07402306900940114, 0.02916060294309742, 0.01121561651657593, 0.008972493213260746, 0.0022431233033151864, 0.051591835976249285, 0.43292279753983093, 0.1458030147154871, 0.9829467445958692, 0.2448769902922173, 0.12243849514610865, 0.6121924757305433, 0.05555201725073873, 0.04166401293805405, 0.04629334770894895, 0.037034678167159156, 0.04166401293805405, 0.19906139514848045, 0.29627742533727325, 0.27776008625369364, 1.010849944088233, 0.016819366668444823, 0.28592923336356196, 0.1513743000160034, 0.5045810000533447, 0.016819366668444823, 0.18941285404670663, 0.056823856214011995, 0.018941285404670664, 0.018941285404670664, 0.45459084971209596, 0.22729542485604798, 0.043226827868594025, 0.1729073114743761, 0.7780829016346924, 0.10685548612600221, 0.21371097225200442, 0.04274219445040088, 0.2030254236394042, 0.053427743063001104, 0.053427743063001104, 0.06411329167560133, 0.032056645837800664, 0.23508206947720486, 0.10761955869843376, 0.4993547523607326, 0.29702998200767716, 0.02152391173968675, 0.0602669528711229, 0.0086095646958747, 0.6959693641418019, 0.19884838975480054, 0.09942419487740027, 0.1090255409960197, 0.1090255409960197, 0.2180510819920394, 0.5451277049800984, 0.13458248083147728, 0.1749572250809205, 0.053832992332590916, 0.3229979539955455, 0.13458248083147728, 0.026916496166295458, 0.026916496166295458, 0.12112423274832956, 0.2602204277526731, 0.004410515724621578, 0.061747220144702096, 0.02205257862310789, 0.1455470189125121, 0.035284125796972626, 0.04410515724621578, 0.057336704420080514, 0.13231547173864736, 0.035284125796972626, 0.17642062898486313, 0.02646309434772947, 0.004410515724621578, 0.15425157780704657, 0.21413748448507644, 0.04173866223014202, 0.12340126224563727, 0.01633252000309905, 0.009073622223943917, 0.056256457788452285, 0.24498780004648574, 0.0036294488895775665, 0.13610433335915875, 0.005761031827868952, 0.1421054517541008, 0.04416791068032863, 0.003840687885245968, 0.061451006163935486, 0.021123783368852823, 0.07489341376229637, 0.10945960472951008, 0.001920343942622984, 0.0595306622213125, 0.005761031827868952, 0.20931748974590525, 0.24004299282787298, 0.023044127311475808, 0.9259557974582117, 0.05446798808577715, 0.8199971199601053, 0.040999855998005263, 0.12299956799401578, 0.6163008730194733, 0.30815043650973667, 0.02361894530636453, 0.14068676117269308, 0.17662863446498692, 0.10166415588391689, 0.00102691066549411, 0.10782561987688155, 0.00102691066549411, 0.14787513583115183, 0.00410764266197644, 0.22900107840518652, 0.00308073199648233, 0.01232292798592932, 0.04826480127822317, 0.00308073199648233, 0.05489511269128924, 0.008445401952506036, 0.1182356273350845, 0.2069123478363979, 0.01689080390501207, 0.004222700976253018, 0.05489511269128924, 0.19424424490763884, 0.14779453416885563, 0.029558906833771124, 0.03800430878627716, 0.08023131854880734, 0.04222700976253018, 0.04363694399827658, 0.07355941988280909, 0.07854649919689784, 0.10472866559586379, 0.001246769828522188, 0.10098835611029722, 0.011220928456699692, 0.15335268890822912, 0.10098835611029722, 0.06483203108315377, 0.004987079314088752, 0.009974158628177503, 0.22317179930547162, 0.028675706056010324, 0.008022184015914369, 0.21659896842968798, 0.016044368031828737, 0.26473207252517417, 0.27275425654108854, 0.008022184015914369, 0.20055460039785925, 0.008022184015914369, 0.003390380340348685, 0.13731040378412177, 0.19494686957004942, 0.13222483327359874, 0.26105928620684876, 0.010171141021046055, 0.02712304272278948, 0.06441722646662502, 0.0016951901701743426, 0.02034228204209211, 0.14070078412447043, 0.003390380340348685, 0.10002902466782058, 0.1400406345349488, 0.046680211511649604, 0.013337203289042743, 0.12670343124590608, 0.46680211511649605, 0.10669762631234195, 0.1662496570230639, 0.0383653054668609, 0.0255768703112406, 0.31971087889050753, 0.1534612218674436, 0.0511537406224812, 0.2301918328011654, 0.9901409979500906, 0.9668023885368675, 0.0872484225074869, 0.01539678044249769, 0.0752731488299887, 0.017107533824997433, 0.03763657441499435, 0.09238068265498614, 0.008553766912498716, 0.022239793972496664, 0.0017107533824997434, 0.06158712176999076, 0.4995399876899251, 0.08040540897748794, 0.08969436502257618, 0.08969436502257618, 0.8072492852031855, 0.004660511708790268, 0.16622491761351957, 0.13670834345784785, 0.029516574155671698, 0.007767519514650447, 0.02485606244688143, 0.3775014484120117, 0.02485606244688143, 0.013981535126370804, 0.02796307025274161, 0.010874527320510625, 0.04971212489376286, 0.10097775369045581, 0.02640956634981152, 0.012339608052838132, 0.13326776697065182, 0.13573568858121945, 0.07897349153816403, 0.004935843221135252, 0.07403764831702879, 0.022211294495108638, 0.12833192374951657, 0.05182635382192015, 0.01974337288454101, 0.007403764831702879, 0.08390933475929929, 0.17522243435030146, 0.07650556992759641, 0.1751904359386399, 0.04379760898465997, 0.08759521796931995, 0.014599202994886658, 0.33578166888239314, 0.014599202994886658, 0.13139282695397994, 0.029198405989773316, 0.1459920299488666, 0.7632278204279763, 0.15900579592249506, 0.03180115918449901, 0.03180115918449901, 0.02170147671889757, 0.05425369179724392, 0.7269994700830685, 0.10850738359448785, 0.03255221507834635, 0.0651044301566927, 0.01194880389208024, 0.1739214788736124, 0.09492660869819301, 0.03252729948399621, 0.018587028276569263, 0.033854944360894014, 0.003982934630693414, 0.1181603940439046, 0.05576108482970779, 0.04580374825297425, 0.01725938339967146, 0.009293514138284631, 0.06571842140644132, 0.25291634904903176, 0.06439077652954352, 0.1495060109246713, 0.3467267061870037, 0.009542936867532211, 0.37535551678960033, 0.012723915823376283, 0.0636195791168814, 0.0031809789558440707, 0.041352726425972916, 0.009829120035146851, 0.058974720210881106, 0.029487360105440553, 0.10812032038661536, 0.058974720210881106, 0.38333568137072715, 0.35384832126528665, 0.06275443409458738, 0.03137721704729369, 0.18477694483406282, 0.006972714899398598, 0.006972714899398598, 0.020918144698195792, 0.006972714899398598, 0.06624079154428668, 0.5717626217506849, 0.045322646846090886, 0.7138274894777717, 0.01640982734431659, 0.05743439570510807, 0.024614741016474886, 0.13948353242669104, 0.04102456836079148, 0.7991143142151492, 0.029696815730968384, 0.01349855260498563, 0.03779594729395976, 0.03779594729395976, 0.010798842083988503, 0.04319536833595401, 0.02699710520997126, 0.05869322409133266, 0.5869322409133266, 0.2934661204566633, 0.05869322409133266, 0.8568934801792361, 0.12241335431131943, 0.11188700931269503, 0.08391525698452128, 0.027971752328173758, 0.2797175232817376, 0.4755197895789539, 0.5297772687564393, 0.10271191945277904, 0.08649424796023499, 0.010811780995029373, 0.09730602895526436, 0.07027657646769092, 0.09190013845774966, 0.005405890497514687, 0.9745578676724633, 0.8548780248628588, 0.12212543212326554, 0.17811523776755947, 0.2944838597756983, 0.3657299548827221, 0.0071246095107023785, 0.08074557445462696, 0.0071246095107023785, 0.0641214855963214, 0.8234712435833768, 0.16469424871667537, 0.1647874487593794, 0.1733109374883128, 0.07244965419593404, 0.005682325819288944, 0.019888140367511305, 0.03125279200608919, 0.252863498958358, 0.004261744364466708, 0.02557046618680025, 0.001420581454822236, 0.09802012038273429, 0.14774047130151255, 0.001420581454822236, 0.09243708218043964, 0.6890764307996409, 0.016806742214625386, 0.18487416436087928, 0.008403371107312693, 0.8897277756882317, 0.09885864174313685, 0.009509371444849242, 0.18662141460516635, 0.18662141460516635, 0.07250895726697547, 0.019018742889698483, 0.09865972874031087, 0.17116868600728632, 0.0011886714306061552, 0.005943357153030775, 0.019018742889698483, 0.0023773428612123104, 0.01188671430606155, 0.21277218607850176, 0.0011886714306061552, 0.7373948868197977, 0.14747897736395954, 0.14747897736395954, 1.017037911991969, 0.18803597433731103, 0.8461618845178996, 0.005812802493513937, 0.19065992178725713, 0.2034480872729878, 0.030226572966272472, 0.0046502419948111495, 0.20693576876909614, 0.0023251209974055748, 0.016275846981839023, 0.06975362992216724, 0.03138913346497526, 0.059290585433842156, 0.010463044488325086, 0.013950725984433449, 0.15113286483136235, 0.003487681496108362, 0.6613749413277727, 0.3306874706638864, 0.8718670845561471, 0.12455244065087816, 0.22244954979051054, 0.03707492496508509, 0.5561238744762763, 0.14829969986034036, 1.0211585018072904, 0.04652827883265267, 0.04652827883265267, 0.7444524613224427, 0.04652827883265267, 0.13958483649795803, 0.6452472383573169, 0.15282171434778558, 0.05094057144926186, 0.08490095241543644, 0.05094057144926186, 0.033960380966174576, 0.9842773188243112, 0.24935300368950128, 0.7480590110685038, 0.0048301076719741605, 0.44195485198563567, 0.0362258075398062, 0.34535269854615247, 0.009660215343948321, 0.09660215343948321, 0.06520645357165117, 0.6829738286683448, 0.07383500850468593, 0.03691750425234296, 0.01845875212617148, 0.0461468803154287, 0.01845875212617148, 0.11075251275702888, 0.01845875212617148, 0.010590374470792271, 0.116494119178715, 0.20915989579814737, 0.0815458834251005, 0.0021180748941584545, 0.13873390556737877, 0.024357861282822225, 0.028594011071139135, 0.01747411787680725, 0.09902000130190775, 0.1170236379022546, 0.006883743406014976, 0.021180748941584542, 0.11967123151995267, 0.007942780853094205, 0.8266232715587708, 0.16532465431175417, 0.749075882809075, 0.19975356874908667, 0.24587130299676258, 0.07980033518315978, 0.15097360710327526, 0.006470297447283226, 0.010783829078805375, 0.06470297447283226, 0.23293070810219613, 0.08195710099892085, 0.0086270632630443, 0.002156765815761075, 0.10999505660381484, 0.00431353163152215, 0.02120765600441848, 0.0023564062227131644, 0.04477171823155013, 0.014138437336278988, 0.014138437336278988, 0.8082473343906155, 0.09189984268581342, 0.871329882152748, 0.12447569745039257, 0.014587485619939613, 0.029174971239879225, 0.5543244535577053, 0.04376245685981884, 0.2479872555389734, 0.10211239933957729, 0.010846810974496465, 0.31889624265019606, 0.11497619632966252, 0.03470979511838868, 0.03904851950818727, 0.015185535364295049, 0.058572779262280904, 0.0021693621948992927, 0.05206469267758303, 0.00867744877959717, 0.09762129877046817, 0.21910558168482858, 0.028201708533690806, 0.15915704877871353, 0.7957852438935676, 0.0070020782673467195, 0.0056016626138773755, 0.134439902733057, 0.20586110105999356, 0.0056016626138773755, 0.05881745744571244, 0.08542535486162997, 0.03781122264367229, 0.06862036701999785, 0.06862036701999785, 0.004201246960408031, 0.0014004156534693439, 0.08822618616856867, 0.22826775151550305, 0.8615101325786612, 0.9640214126906544, 0.37657004358633106, 0.6025120697381298, 0.21329294539037794, 0.12797576723422677, 0.17063435631230234, 0.2986101235465291, 0.12797576723422677, 0.042658589078075584, 0.08452030758030402, 0.06761624606424321, 0.37188935335333767, 0.033808123032121606, 0.37188935335333767, 0.05916421530621281, 0.008452030758030402, 0.049078468814932025, 0.049078468814932025, 0.49078468814932025, 0.3190100472970581, 0.07361770322239804, 0.09213870875263962, 0.36855483501055847, 0.5067628981395179, 0.1961843334789041, 0.7847373339156164, 0.7425474508239276, 0.2475158169413092, 0.17034794594369432, 0.02129349324296179, 0.02129349324296179, 0.08517397297184716, 0.02129349324296179, 0.06388047972888537, 0.08517397297184716, 0.5536308243170065, 0.20068824863244766, 0.050172062158111916, 0.050172062158111916, 0.27594634186961553, 0.15051618647433573, 0.20068824863244766, 0.07525809323716787, 0.3832158588205084, 0.0958039647051271, 0.1916079294102542, 0.2874118941153813, 0.33415256574723634, 0.22276837716482423, 0.44553675432964845, 0.12879683503479217, 0.48084151746322407, 0.06010518968290301, 0.3262853154214735, 0.6744839884277475, 0.07782507558781702, 0.012970845931302837, 0.06485422965651419, 0.06485422965651419, 0.1037667674504227, 0.024345619145519647, 0.21673538995401637, 0.07481824420330428, 0.22564232378774307, 0.0005937955889151133, 0.019001458845283627, 0.017220072078538286, 0.00356277353349068, 0.01068832060047204, 0.09085072510401233, 0.09263211187075768, 0.0178138676674534, 0.04928503387995441, 0.1478551016398632, 0.009500729422641813, 0.5646616944044327, 0.4234962708033246, 0.0017077218562133018, 0.035862158980479335, 0.13320230478463754, 0.3005590466935411, 0.12978686107221094, 0.11954052993493113, 0.08367837095445178, 0.16564902005269028, 0.0034154437124266036, 0.022200384130772924, 0.0017077218562133018, 0.18200910003816675, 0.7735386751622086, 1.0045054810880263, 0.015099388198124924, 0.07927178804015585, 0.011324541148593693, 0.2604644464176549, 0.007549694099062462, 0.03774847049531231, 0.015099388198124924, 0.5360282810334348, 0.03774847049531231, 0.06648586381477423, 0.03324293190738711, 0.897559161499452, 0.10330977939915, 0.120528075965675, 0.03874116727468125, 0.5983358056867437, 0.14205094667383125, 0.45623057813366036, 0.07203640707373585, 0.4322184424424151, 0.06568037451762701, 0.2871170657484838, 0.04879113535595149, 0.10884176348635333, 0.0018765821290750574, 0.0788164494211524, 0.13699049542247918, 0.2552151695542078, 0.013136074903525401, 0.8833269047489206, 0.09814743386099119, 0.2068741647598834, 0.7585386041195725, 0.98815290823444, 0.7078776460059335, 0.052435381185624706, 0.10487076237124941, 0.10487076237124941, 0.026217690592812353, 0.07227970878217578, 0.6505173790395821, 0.21683912634652736, 0.08361582461524948, 0.4180791230762474, 0.5016949476914969, 0.13346272527891742, 0.667313626394587, 0.13346272527891742, 0.06673136263945871, 0.07164456301962241, 0.11343722478106882, 0.0029851901258176007, 0.08657051364871042, 0.011940760503270403, 0.029851901258176005, 0.09254089390034562, 0.026866711132358407, 0.5224082720180802, 0.03880747163562881, 0.1413280026236211, 0.04710933420787371, 0.7537493473259793, 0.04710933420787371, 0.8875304698508566, 0.11833739598011421, 0.09889226139400618, 0.8900303525460557, 0.15850997448379248, 0.07925498724189624, 0.23776496172568873, 0.47552992345137746, 0.15850997448379248, 1.013557230729588, 0.24878545512857753, 0.7463563653857326, 0.0056210465632133945, 0.2004839940879444, 0.12928407095390806, 0.001873682187737798, 0.01686313968964018, 0.0993051559501033, 0.25294709534460275, 0.003747364375475596, 0.03185259719154257, 0.07307360532177412, 0.014989457501902384, 0.024357868440591374, 0.12178934220295687, 0.022484186252853578, 0.9893617962450617, 1.03450505012864, 0.22096598416025306, 0.24727145846504509, 0.010522189721916812, 0.010522189721916812, 0.4208875888766725, 0.08943861263629291, 0.012829899772036238, 0.1247707752830524, 0.1446571199297086, 0.11643134043122885, 0.003848969931610871, 0.11386536047682161, 0.009301677334726272, 0.017961859680850734, 0.006735697380319024, 0.06607398382598662, 0.03688596184460418, 0.010584667311929896, 0.06447024635448209, 0.248900055577503, 0.022452324601063417, 0.056317720329534846, 0.02252708813181394, 0.09010835252725576, 0.10137189659316273, 0.02252708813181394, 0.6983397320862321, 0.10560798811478085, 0.36962795840173296, 0.5280399405739042, 0.01378327258329112, 0.1671221800724048, 0.15678472563493648, 0.00172290907291139, 0.020674908874936677, 0.17401381636405036, 0.0689163629164556, 0.07408509013518977, 0.00172290907291139, 0.07236218106227837, 0.00861454536455695, 0.048241454041518916, 0.17573672543696175, 0.0172290907291139, 0.5574466215006786, 0.0736250254812217, 0.12621432939638005, 0.0736250254812217, 0.031553582349095013, 0.08414288626425337, 0.06310716469819003, 0.295803848193971, 0.027389245203145462, 0.02191139616251637, 0.41631652708781103, 0.010955698081258186, 0.02191139616251637, 0.20268041450327642, 0.7866331430421366, 0.14302420782584302, 0.9524431749951316, 0.04762215874975659, 0.10960326834542335, 0.2321010388491318, 0.012894502158285099, 0.01934175323742765, 0.0386835064748553, 0.19986478345341904, 0.0064472510791425495, 0.2772317964031296, 0.0902615151079957, 0.05264707697648016, 0.21058830790592065, 0.658088462206002, 0.07897061546472024, 0.009517171262136793, 0.17236654619203304, 0.17130908271846226, 0.02009180599784434, 0.007402244314995283, 0.18981469350595048, 0.005816049104639151, 0.05128697846818161, 0.0031723904207122643, 0.03701122157497642, 0.026436586839268868, 0.01744814731391745, 0.04547092936354245, 0.22576845160735615, 0.01850561078748821, 0.23386950169042733, 0.06966325582268049, 0.001658648948159059, 0.11112947952665696, 0.06137001108188519, 0.003317297896318118, 0.008293244740795297, 0.001658648948159059, 0.28694626803151724, 0.21728301220883675, 0.004975946844477178, 0.2594118727374194, 0.3872909649319219, 0.0036536883484143572, 0.1278790921945025, 0.03653688348414357, 0.18268441742071787, 0.9891639300294242, 0.2356996189221388, 0.5751070701700187, 0.009427984756885553, 0.11313581708262663, 0.056567908541313314], \"Term\": [\"able\", \"able\", \"able\", \"able\", \"able\", \"able\", \"able\", \"able\", \"able\", \"able\", \"able\", \"able\", \"able\", \"able\", \"able\", \"absence\", \"absence\", \"absence\", \"absence\", \"absence\", \"accept\", \"accept\", \"accept\", \"accept\", \"accept\", \"accept\", \"access\", \"access\", \"access\", \"access\", \"access\", \"access\", \"access\", \"access\", \"access\", \"access\", \"access\", \"access\", \"access\", \"access\", \"access\", \"account\", \"account\", \"account\", \"account\", \"account\", \"account\", \"account\", \"account\", \"account\", \"account\", \"account\", \"accounting\", \"accounting\", \"accounting\", \"accreditation\", \"accreditation\", \"accreditation\", \"accreditation\", \"accreditation\", \"achieve\", \"achieve\", \"achieve\", \"achieve\", \"achieve\", \"achieve\", \"achieve\", \"achieve\", \"achieve\", \"achieve\", \"achieve\", \"achieve\", \"achieve\", \"active\", \"active\", \"active\", \"active\", \"active\", \"active\", \"active\", \"active\", \"activity\", \"activity\", \"activity\", \"activity\", \"activity\", \"activity\", \"activity\", \"activity\", \"activity\", \"activity\", \"activity\", \"activity\", \"activity\", \"activity\", \"adaptation\", \"adaptation\", \"adaptation\", \"administrator\", \"administrator\", \"administrator\", \"administrator\", \"admit\", \"admit\", \"adult\", \"adult\", \"adult\", \"adult\", \"adult\", \"adult\", \"advantageous\", \"advantageous\", \"advice\", \"advice\", \"advice\", \"advice\", \"advice\", \"advice\", \"advice\", \"advice\", \"advice\", \"advice\", \"advice\", \"age\", \"age\", \"age\", \"age\", \"age\", \"age\", \"age\", \"age\", \"age\", \"agent\", \"aggregate\", \"aggregate\", \"aggregate\", \"agree\", \"agree\", \"agree\", \"agree\", \"agree\", \"agree\", \"agree\", \"agree\", \"agree\", \"agree\", \"agree\", \"agree\", \"agree\", \"aim\", \"aim\", \"aim\", \"aim\", \"aim\", \"aim\", \"aim\", \"aim\", \"aim\", \"aim\", \"alliance\", \"alliance\", \"am_sorry\", \"am_sorry\", \"am_sorry\", \"am_sorry\", \"amateur\", \"amateur\", \"amateur\", \"amateur\", \"amateur_swimming_association\", \"amateur_swimming_association\", \"announce\", \"announce\", \"announce\", \"announce\", \"announce\", \"announce\", \"announce\", \"announce\", \"announce\", \"anti_dope\", \"anti_dope\", \"anticipated\", \"anticipated\", \"anticipated\", \"anticipated\", \"anticipated_final_cost\", \"anticipated_final_cost\", \"apology\", \"apology\", \"appear\", \"appear\", \"appear\", \"appear\", \"appear\", \"appear\", \"appear\", \"appearance\", \"appearance\", \"appearance\", \"appearance\", \"appendix\", \"appendix\", \"appendix\", \"appendix_memorandum_submitte\", \"appendix_memorandum_submitte\", \"archery\", \"archery\", \"area\", \"area\", \"area\", \"area\", \"area\", \"area\", \"area\", \"area\", \"area\", \"area\", \"area\", \"area\", \"area\", \"area\", \"area\", \"arise\", \"arise\", \"arise\", \"arise\", \"arise\", \"arise\", \"arise\", \"arise\", \"arise\", \"army\", \"army\", \"arrangement\", \"arrangement\", \"arrangement\", \"arrangement\", \"arrangement\", \"arrangement\", \"arrangement\", \"arrangement\", \"arrangement\", \"arrangement\", \"arrangement\", \"arrangement\", \"art\", \"art\", \"art\", \"art\", \"art\", \"art\", \"arup\", \"arup\", \"arup\", \"arup\", \"arup\", \"aspirational\", \"aspirational\", \"athlete\", \"athlete\", \"athlete\", \"athlete\", \"athlete\", \"athlete\", \"athlete\", \"athlete\", \"athlete\", \"athlete\", \"athlete\", \"athlete\", \"athlete\", \"athlete\", \"athlete\", \"athletic\", \"athletic\", \"athletic\", \"athletic\", \"athletic\", \"athletic\", \"athletic\", \"athletic\", \"athletic\", \"athletic\", \"athletic\", \"athletic\", \"attainment\", \"attainment\", \"auditor_general\", \"auditor_general\", \"auditor_general\", \"audits\", \"audits\", \"audits\", \"audits\", \"authorise\", \"authorise\", \"authorise\", \"authority\", \"authority\", \"authority\", \"authority\", \"authority\", \"authority\", \"authority\", \"authority\", \"authority\", \"authority\", \"authority\", \"authority\", \"authority\", \"authority\", \"authority\", \"automotive\", \"available\", \"available\", \"available\", \"available\", \"available\", \"available\", \"available\", \"available\", \"available\", \"available\", \"available\", \"available\", \"available\", \"available\", \"available\", \"average\", \"average\", \"average\", \"average\", \"average\", \"average\", \"average\", \"average\", \"backing\", \"backing\", \"backing\", \"backing\", \"bag\", \"bar\", \"bar\", \"beacon\", \"beneficial\", \"beneficial\", \"beneficial\", \"beneficial\", \"beneficiary\", \"beneficiary\", \"beneficiary\", \"benefit\", \"benefit\", \"benefit\", \"benefit\", \"benefit\", \"benefit\", \"benefit\", \"benefit\", \"benefit\", \"benefit\", \"benefit\", \"benefit\", \"benefit\", \"benefit\", \"bene\\ufb01ts\", \"bene\\ufb01ts\", \"bene\\ufb01ts\", \"bene\\ufb01ts\", \"bid\", \"bid\", \"bid\", \"bid\", \"bid\", \"bid\", \"bid\", \"bid\", \"bid\", \"bid\", \"bid\", \"bid\", \"bid\", \"bid\", \"bid\", \"bidding\", \"bidding\", \"bidding\", \"bidding\", \"bidding\", \"bidding\", \"bidding\", \"bidding\", \"bidding\", \"bidding\", \"bidding\", \"big\", \"big\", \"big\", \"big\", \"big\", \"big\", \"big\", \"big\", \"big\", \"big\", \"big\", \"blight\", \"blight\", \"blight\", \"blind\", \"blind\", \"boa\", \"boa\", \"boa\", \"boa\", \"boa\", \"boa\", \"boa\", \"boa\", \"boa\", \"boa\", \"boa\", \"bombing\", \"boost\", \"boost\", \"boost\", \"boost\", \"boost\", \"boost\", \"boost\", \"border\", \"border\", \"border\", \"borough\", \"borough\", \"borough\", \"borough\", \"borough\", \"borough\", \"borough\", \"borough\", \"borough\", \"boxing\", \"boxing\", \"brand\", \"brand\", \"brand\", \"brand\", \"brand\", \"breakfast\", \"british\", \"british\", \"british\", \"british\", \"british\", \"british\", \"british\", \"british\", \"british\", \"british\", \"british\", \"british\", \"british\", \"bronze\", \"bronze\", \"bronze\", \"brownfield\", \"brownfield\", \"bryant\", \"budget\", \"budget\", \"budget\", \"budget\", \"budget\", \"budget\", \"budget\", \"budget\", \"budget\", \"budget\", \"budget\", \"budget\", \"build\", \"build\", \"build\", \"build\", \"build\", \"build\", \"build\", \"build\", \"build\", \"build\", \"build\", \"build\", \"build\", \"build\", \"build\", \"business\", \"business\", \"business\", \"business\", \"business\", \"business\", \"business\", \"business\", \"business\", \"business\", \"business\", \"business\", \"business\", \"business\", \"busy\", \"busy\", \"busy\", \"busy\", \"busy\", \"camelot\", \"camelot\", \"camelot\", \"candidate_file\", \"candidate_file\", \"candidate_file\", \"carbon\", \"carbon\", \"carbon\", \"carbon\", \"carbon\", \"carbon\", \"case\", \"case\", \"case\", \"case\", \"case\", \"case\", \"case\", \"case\", \"case\", \"case\", \"case\", \"case\", \"case\", \"case\", \"cashflow\", \"cashflow\", \"cashflow\", \"cashflow\", \"casual\", \"casual\", \"ccpr\", \"centre\", \"centre\", \"centre\", \"centre\", \"centre\", \"centre\", \"centre\", \"centre\", \"centre\", \"centre\", \"centre\", \"centre\", \"centre\", \"centrepiece\", \"centrepiece\", \"centrepiece\", \"certify\", \"certify\", \"certify\", \"chair\", \"chair\", \"chair\", \"chair\", \"chair\", \"chair\", \"chair\", \"chair\", \"chair\", \"chair\", \"chair\", \"chair\", \"chair\", \"chair\", \"chairman\", \"chairman\", \"chairman\", \"chairman\", \"chairman\", \"chairman\", \"chairman\", \"chairman\", \"chairman\", \"chairman\", \"chairman\", \"chairman\", \"channel_tunnel_rail_link\", \"channel_tunnel_rail_link\", \"channel_tunnel_rail_link\", \"channel_tunnel_rail_link\", \"characterise\", \"characterise\", \"characterise\", \"characteristic\", \"characteristic\", \"charismatic\", \"cheap\", \"cheap\", \"child\", \"child\", \"child\", \"child\", \"child\", \"child\", \"child\", \"child\", \"child\", \"childhood\", \"childhood\", \"circuit\", \"circuit\", \"circuit\", \"circuit\", \"cite\", \"cite\", \"city\", \"city\", \"city\", \"city\", \"city\", \"city\", \"city\", \"city\", \"city\", \"city\", \"city\", \"city\", \"city\", \"clean\", \"clean\", \"clean\", \"clean\", \"clean\", \"clean\", \"clean\", \"clear\", \"clear\", \"clear\", \"clear\", \"clear\", \"clear\", \"clear\", \"clear\", \"clear\", \"clear\", \"clear\", \"clear\", \"clear\", \"clear\", \"clear\", \"clm\", \"clm\", \"clm\", \"clm\", \"clothing\", \"clothing\", \"clothing\", \"club\", \"club\", \"club\", \"club\", \"club\", \"club\", \"club\", \"club\", \"club\", \"coach\", \"coach\", \"coach\", \"coach\", \"coach\", \"coach\", \"coach\", \"coach\", \"coach\", \"coach\", \"coaching\", \"coaching\", \"coaching\", \"coaching\", \"coaching\", \"coaching\", \"coincide\", \"coincide\", \"coincide\", \"collate\", \"collate\", \"college\", \"college\", \"college\", \"college\", \"college\", \"college\", \"come\", \"come\", \"come\", \"come\", \"come\", \"come\", \"come\", \"come\", \"come\", \"come\", \"come\", \"come\", \"come\", \"come\", \"come\", \"committee\", \"committee\", \"committee\", \"committee\", \"committee\", \"committee\", \"committee\", \"committee\", \"committee\", \"committee\", \"committee\", \"committee\", \"committee\", \"committee\", \"committee\", \"community\", \"community\", \"community\", \"community\", \"community\", \"community\", \"community\", \"community\", \"community\", \"community\", \"community\", \"community\", \"community\", \"community\", \"community\", \"company\", \"company\", \"company\", \"company\", \"company\", \"company\", \"company\", \"company\", \"company\", \"company\", \"company\", \"company\", \"company\", \"compelling\", \"compelling\", \"compelling\", \"compelling\", \"competition\", \"competition\", \"competition\", \"competition\", \"competition\", \"competition\", \"competition\", \"competition\", \"competition\", \"competition\", \"competition\", \"competition\", \"competition\", \"compile\", \"compile\", \"compile\", \"compile\", \"compile\", \"complaint\", \"complaint\", \"completion_date\", \"completion_date\", \"compliance\", \"compliance\", \"compliant\", \"compliant\", \"compliant\", \"compliant\", \"concordat\", \"concordat\", \"concrete\", \"concrete\", \"concrete\", \"concrete\", \"concrete\", \"confidence\", \"confidence\", \"confidence\", \"confidence\", \"confidence\", \"confidence\", \"confidence\", \"confirm\", \"confirm\", \"confirm\", \"confirm\", \"confirm\", \"confirm\", \"confirm\", \"confirm\", \"confirmation\", \"confirmation\", \"confirmation\", \"conflict\", \"conflict\", \"conflict\", \"congratulation\", \"conservation\", \"conservation\", \"consider\", \"consider\", \"consider\", \"consider\", \"consider\", \"consider\", \"consider\", \"consider\", \"consider\", \"consider\", \"consider\", \"consideration\", \"consideration\", \"consideration\", \"consideration\", \"consideration\", \"consideration\", \"consideration\", \"consideration\", \"consideration\", \"consideration\", \"consideration\", \"construction\", \"construction\", \"construction\", \"construction\", \"construction\", \"construction\", \"construction\", \"construction\", \"construction\", \"constructive\", \"constructive\", \"constructive\", \"constructive\", \"constructive\", \"contentious\", \"contentious\", \"contentious\", \"continent\", \"continent\", \"contingency\", \"contingency\", \"contingency\", \"contingency\", \"contingency\", \"contingency\", \"contingency\", \"contingency\", \"contingency\", \"contract\", \"contract\", \"contract\", \"contract\", \"contract\", \"contract\", \"contract\", \"contract\", \"contract\", \"contract\", \"contract\", \"contract\", \"contracting\", \"contracting\", \"contracting\", \"contracting\", \"contracting\", \"contractor\", \"contractor\", \"contractor\", \"contractor\", \"contractor\", \"contractor\", \"contractor\", \"conventional\", \"conventional\", \"conventional\", \"conventional\", \"conventional\", \"convergence\", \"convergence\", \"convergence\", \"con\\ufb01dent\", \"con\\ufb01dent\", \"con\\ufb01dent\", \"con\\ufb01dent\", \"cool\", \"cool\", \"coordination\", \"coordination\", \"coordination\", \"coordination\", \"cost\", \"cost\", \"cost\", \"cost\", \"cost\", \"cost\", \"cost\", \"cost\", \"cost\", \"cost\", \"cost\", \"cost\", \"cost\", \"cost\", \"cost\", \"costly\", \"costly\", \"costly\", \"costly\", \"costly\", \"couldn\", \"couldn\", \"council\", \"council\", \"council\", \"council\", \"council\", \"council\", \"council\", \"council\", \"council\", \"councillor\", \"councillor\", \"countdown\", \"countdown\", \"country\", \"country\", \"country\", \"country\", \"country\", \"country\", \"country\", \"country\", \"country\", \"country\", \"country\", \"country\", \"country\", \"country\", \"country\", \"course\", \"course\", \"course\", \"course\", \"course\", \"course\", \"course\", \"course\", \"course\", \"coverage\", \"coverage\", \"coverage\", \"coverage\", \"coverage\", \"coverage\", \"coverage\", \"create\", \"create\", \"create\", \"create\", \"create\", \"create\", \"create\", \"create\", \"create\", \"create\", \"create\", \"create\", \"cricket\", \"cricket\", \"cricket\", \"cricket\", \"crossing\", \"crossing\", \"crossrail\", \"crossrail\", \"crossrail\", \"crossrail\", \"crossrail\", \"cultural\", \"cultural\", \"cultural\", \"cultural\", \"cultural\", \"cultural\", \"cultural\", \"cultural\", \"cultural\", \"curriculum\", \"curriculum\", \"curriculum\", \"custom\", \"custom\", \"custom\", \"custom\", \"cut\", \"cut\", \"cut\", \"cut\", \"cut\", \"cut\", \"cut\", \"cut\", \"cycle\", \"cycle\", \"cycle\", \"cycle\", \"cycle\", \"cycle\", \"cycle\", \"cycling\", \"cycling\", \"cycling\", \"cycling\", \"cycling\", \"cycling\", \"dame_helen_ghosh\", \"dame_helen_ghosh\", \"dame_tanni_grey_thompson\", \"dame_tanni_grey_thompson\", \"dangerous\", \"david_higgin\", \"david_higgin\", \"david_higgin\", \"day\", \"day\", \"day\", \"day\", \"day\", \"day\", \"day\", \"day\", \"day\", \"day\", \"day\", \"day\", \"day\", \"day\", \"dcsf\", \"dcsf\", \"debt\", \"debt\", \"debt\", \"debt\", \"debt\", \"debt\", \"decision\", \"decision\", \"decision\", \"decision\", \"decision\", \"decision\", \"decision\", \"decision\", \"decision\", \"decision\", \"decision\", \"decision\", \"decision\", \"decision\", \"decision\", \"delay\", \"delay\", \"delay\", \"delay\", \"delay\", \"delay\", \"delay\", \"delegation\", \"delegation\", \"delegation\", \"deliver\", \"deliver\", \"deliver\", \"deliver\", \"deliver\", \"deliver\", \"deliver\", \"deliver\", \"deliver\", \"deliver\", \"deliver\", \"deliver\", \"deliver\", \"deliver\", \"deliver\", \"deliverability\", \"deliverability\", \"delivery\", \"delivery\", \"delivery\", \"delivery\", \"delivery\", \"delivery\", \"delivery\", \"delivery\", \"delivery\", \"delivery\", \"delivery\", \"delivery\", \"delivery\", \"delivery\", \"democratic\", \"department\", \"department\", \"department\", \"department\", \"department\", \"department\", \"department\", \"department\", \"department\", \"department\", \"department\", \"department\", \"departmental\", \"departmental\", \"departmental\", \"departmental\", \"dependency\", \"dependency\", \"dependency\", \"deprivation\", \"deprivation\", \"deprivation\", \"deprivation\", \"deprivation\", \"deprive\", \"deprive\", \"deprive\", \"deprive\", \"deprive\", \"deprive\", \"deprive\", \"deprive\", \"deputy_prime_minister\", \"deputy_prime_minister\", \"derelict\", \"derelict\", \"derelict\", \"derelict\", \"description\", \"description\", \"design\", \"design\", \"design\", \"design\", \"design\", \"design\", \"design\", \"design\", \"design\", \"design\", \"design\", \"design\", \"design\", \"designate\", \"designate\", \"designate\", \"destination\", \"destination\", \"destination\", \"destination\", \"destination\", \"detailed\", \"detailed\", \"detailed\", \"detailed\", \"detailed\", \"detailed\", \"detailed\", \"detailed\", \"detailed\", \"detailed\", \"detailed\", \"detailed\", \"develop\", \"develop\", \"develop\", \"develop\", \"develop\", \"develop\", \"develop\", \"develop\", \"develop\", \"develop\", \"develop\", \"develop\", \"develop\", \"develop\", \"development\", \"development\", \"development\", \"development\", \"development\", \"development\", \"development\", \"development\", \"development\", \"development\", \"development\", \"development\", \"development\", \"development\", \"development\", \"devolved_administration\", \"devote\", \"diet\", \"diet\", \"differ\", \"differ\", \"differ\", \"different\", \"different\", \"different\", \"different\", \"different\", \"different\", \"different\", \"different\", \"different\", \"dif\\ufb01cult\", \"digital\", \"digital\", \"digital\", \"digital\", \"dilemma\", \"dilemma\", \"disability\", \"disability\", \"disability\", \"disability\", \"disability\", \"disability\", \"disabled\", \"disabled\", \"disabled\", \"disabled\", \"disabled\", \"disabled\", \"discipline\", \"discipline\", \"discipline\", \"discipline\", \"discipline\", \"discrepancy\", \"discrepancy\", \"disperse\", \"disperse\", \"disperse\", \"dispose\", \"dispose\", \"distributor\", \"distributor\", \"distributor\", \"diver\", \"diverse_communitie\", \"diving\", \"diving\", \"diving\", \"diving\", \"documentation\", \"documentation\", \"dollar\", \"dollar\", \"dome\", \"dome\", \"dome\", \"dome\", \"dome\", \"dope\", \"dope\", \"drop_off\", \"drop_off\", \"drop_off\", \"drum\", \"dry\", \"dry\", \"duplication\", \"duplication\", \"duplication\", \"duplication\", \"eastway\", \"eastway\", \"eastway\", \"economic\", \"economic\", \"economic\", \"economic\", \"economic\", \"economic\", \"economic\", \"economic\", \"economic\", \"economic\", \"economic\", \"economic\", \"economy\", \"economy\", \"economy\", \"economy\", \"economy\", \"economy\", \"economy\", \"economy\", \"economy\", \"economy\", \"economy\", \"educate\", \"educate\", \"educate\", \"educate\", \"education\", \"education\", \"education\", \"education\", \"education\", \"education\", \"education\", \"education\", \"education\", \"education\", \"efficiency\", \"efficiency\", \"efficiency\", \"efficiency\", \"efficiency\", \"efficiency\", \"effort\", \"effort\", \"effort\", \"effort\", \"effort\", \"effort\", \"effort\", \"effort\", \"effort\", \"effort\", \"elite\", \"elite\", \"elite\", \"elite\", \"elite\", \"elite\", \"elite\", \"elite\", \"elite\", \"elite\", \"elite\", \"elite\", \"emergency\", \"emergency\", \"emergency\", \"emergency\", \"emergency\", \"emission\", \"emission\", \"emission\", \"emotional\", \"emotional\", \"emotional\", \"employment\", \"employment\", \"employment\", \"employment\", \"employment\", \"employment\", \"employment\", \"employment\", \"employment\", \"employment\", \"employment\", \"encouragement\", \"encouragement\", \"encouragement\", \"encouragement\", \"encouragement\", \"end\", \"end\", \"end\", \"end\", \"end\", \"end\", \"end\", \"end\", \"end\", \"end\", \"end\", \"end\", \"end\", \"end\", \"energy\", \"energy\", \"energy\", \"energy\", \"enhancement\", \"enhancement\", \"enhancement\", \"enhancement\", \"enhancement\", \"ensure\", \"ensure\", \"ensure\", \"ensure\", \"ensure\", \"ensure\", \"ensure\", \"ensure\", \"ensure\", \"ensure\", \"ensure\", \"ensure\", \"ensure\", \"ensure\", \"ensure\", \"entrepreneur\", \"entrepreneur\", \"equation\", \"essence\", \"essence\", \"estimate\", \"estimate\", \"estimate\", \"estimate\", \"estimate\", \"estimate\", \"estimate\", \"estimate\", \"estimate\", \"estimate\", \"estimate\", \"european_championship\", \"european_championship\", \"european_championship\", \"event\", \"event\", \"event\", \"event\", \"event\", \"event\", \"event\", \"event\", \"event\", \"event\", \"event\", \"event\", \"event\", \"event\", \"event\", \"evidence\", \"evidence\", \"evidence\", \"evidence\", \"evidence\", \"evidence\", \"evidence\", \"evidence\", \"evidence\", \"evidence\", \"evidence\", \"evidence\", \"evidence\", \"evidence\", \"examination\", \"examination\", \"examination\", \"examination\", \"examination\", \"examination\", \"examination\", \"exclude\", \"exclude\", \"exclude\", \"exclude\", \"exclude\", \"exclude\", \"executive\", \"executive\", \"executive\", \"executive\", \"executive\", \"executive\", \"executive\", \"exempt\", \"exempt\", \"exempt\", \"exempt\", \"expect\", \"expect\", \"expect\", \"expect\", \"expect\", \"expect\", \"expect\", \"expect\", \"expect\", \"expect\", \"expect\", \"expect\", \"expect\", \"expenditure\", \"expenditure\", \"expenditure\", \"expenditure\", \"expenditure\", \"expenditure\", \"expenditure\", \"expenditure\", \"expenditure\", \"expenditure\", \"expenditure\", \"experience\", \"experience\", \"experience\", \"experience\", \"experience\", \"experience\", \"experience\", \"experience\", \"experience\", \"experience\", \"experience\", \"experience\", \"experience\", \"explosion\", \"extension\", \"extension\", \"extension\", \"extension\", \"facility\", \"facility\", \"facility\", \"facility\", \"facility\", \"facility\", \"facility\", \"facility\", \"facility\", \"facility\", \"facility\", \"facility\", \"facility\", \"facility\", \"facility\", \"fact\", \"fact\", \"fact\", \"fact\", \"fact\", \"fact\", \"fact\", \"fact\", \"fact\", \"fact\", \"fact\", \"fact\", \"family_housing\", \"family_housing\", \"family_housing\", \"fantastic\", \"fantastic\", \"fantastic\", \"fantastic\", \"feasibility\", \"feasibility\", \"feasibility\", \"feasibility\", \"feasibility\", \"feasible\", \"feasible\", \"feasible\", \"federation\", \"federation\", \"federation\", \"federation\", \"federation\", \"federation\", \"federation\", \"field\", \"field\", \"field\", \"field\", \"field\", \"field\", \"field\", \"field\", \"field\", \"field\", \"fight\", \"fight\", \"fight\", \"fight\", \"figure\", \"figure\", \"figure\", \"figure\", \"figure\", \"figure\", \"figure\", \"figure\", \"figure\", \"final\", \"final\", \"final\", \"final\", \"final\", \"final\", \"final\", \"final\", \"final\", \"final\", \"final\", \"final\", \"final\", \"financial\", \"financial\", \"financial\", \"financial\", \"financial\", \"financial\", \"financial\", \"financial\", \"financial\", \"financial\", \"financial\", \"financial\", \"financial\", \"financial\", \"financial\", \"financially_expose\", \"financially_expose\", \"fine\", \"fine\", \"fine\", \"finely_balance\", \"finely_balance\", \"finely_balanced\", \"finely_balanced\", \"finish\", \"finish\", \"finish\", \"finish\", \"finish\", \"five_host_boroughs\", \"five_host_boroughs\", \"five_host_boroughs\", \"flagship\", \"flagship\", \"flat\", \"flat\", \"float\", \"flow\", \"flow\", \"flow\", \"flow\", \"flow\", \"flow\", \"follow\", \"follow\", \"follow\", \"follow\", \"follow\", \"follow\", \"follow\", \"follow\", \"follow\", \"follow\", \"follow\", \"follow\", \"follow\", \"follow\", \"follow\", \"force\", \"force\", \"force\", \"force\", \"force\", \"force\", \"force\", \"force\", \"forecast\", \"forecast\", \"forecast\", \"forecast\", \"forecast\", \"forecast\", \"forecast\", \"forecast\", \"forge\", \"forum\", \"forum\", \"forum\", \"forum\", \"forum\", \"forum\", \"forum\", \"founder\", \"founder\", \"frank\", \"frank\", \"friendship\", \"fringe\", \"fringe\", \"fringe\", \"fulfil\", \"fulfil\", \"fulfil\", \"fulfil\", \"fund\", \"fund\", \"fund\", \"fund\", \"fund\", \"fund\", \"fund\", \"fund\", \"fund\", \"fund\", \"fund\", \"fund\", \"funding\", \"funding\", \"funding\", \"funding\", \"funding\", \"funding\", \"funding\", \"funding\", \"funding\", \"funding\", \"funding\", \"funding\", \"funding\", \"funding\", \"funding\", \"fundraising\", \"fundraising\", \"fundraising\", \"fundraising\", \"future\", \"future\", \"future\", \"future\", \"future\", \"future\", \"future\", \"future\", \"future\", \"future\", \"future\", \"future\", \"future\", \"future\", \"gallery\", \"gallery\", \"gateway\", \"gateway\", \"gauge\", \"gentleman\", \"gentleman\", \"gentleman\", \"gentleman\", \"girl\", \"girl\", \"girl\", \"girl\", \"goal\", \"goal\", \"goal\", \"goal\", \"goal\", \"goal\", \"goal\", \"goal\", \"goal\", \"goal\", \"gold_medal\", \"gold_medal\", \"gold_medal\", \"good\", \"good\", \"good\", \"good\", \"good\", \"good\", \"good\", \"good\", \"good\", \"good\", \"good\", \"good\", \"good\", \"good\", \"good\", \"good_cause\", \"good_cause\", \"good_cause\", \"good_cause\", \"good_cause\", \"good_cause\", \"governance_arrangement\", \"governance_arrangement\", \"governing_bodie\", \"governing_bodie\", \"governing_bodie\", \"governing_bodie\", \"governing_bodie\", \"governing_bodie\", \"governing_bodie\", \"governing_bodie\", \"government\", \"government\", \"government\", \"government\", \"government\", \"government\", \"government\", \"government\", \"government\", \"government\", \"government\", \"government\", \"government\", \"government\", \"government\", \"governmental\", \"governmental\", \"governmental\", \"grant\", \"grant\", \"grant\", \"grant\", \"grant\", \"grant\", \"grant\", \"grant\", \"grant\", \"grant\", \"grant\", \"great\", \"great\", \"great\", \"great\", \"great\", \"great\", \"great\", \"great\", \"great\", \"great\", \"great\", \"great\", \"great\", \"great\", \"great\", \"greek\", \"greek\", \"greek\", \"green\", \"green\", \"green\", \"green\", \"green\", \"green\", \"green\", \"gross\", \"gross\", \"gross\", \"gross\", \"grouping\", \"grouping\", \"guest\", \"guest\", \"gym\", \"gym\", \"gym\", \"gymnastic\", \"gymnastic\", \"gymnastic\", \"hackney\", \"hackney\", \"hackney\", \"hackney\", \"hackney\", \"hackney\", \"hackney\", \"hackney\", \"hearing\", \"hearing\", \"hearing\", \"hearing\", \"heritage\", \"heritage\", \"heritage\", \"heritage\", \"highway\", \"highway\", \"highway\", \"holding\", \"holding\", \"host\", \"host\", \"host\", \"host\", \"host\", \"host\", \"host\", \"host\", \"host\", \"host\", \"host\", \"host\", \"host\", \"host\", \"host\", \"host_borough\", \"host_borough\", \"host_borough\", \"host_borough\", \"host_borough\", \"hot\", \"hot\", \"hotel\", \"hotel\", \"hotel\", \"hotspot\", \"hotspot\", \"housing\", \"housing\", \"housing\", \"housing\", \"housing\", \"housing\", \"housing\", \"housing\", \"housing\", \"housing\", \"huge\", \"huge\", \"huge\", \"huge\", \"huge\", \"huge\", \"huge\", \"huge\", \"huge\", \"huge\", \"imbalance\", \"imbalance\", \"immigration\", \"immigration\", \"immigration\", \"immigration\", \"impact\", \"impact\", \"impact\", \"impact\", \"impact\", \"impact\", \"impact\", \"impact\", \"impact\", \"impact\", \"impact\", \"impact\", \"impact\", \"impact\", \"impact\", \"important\", \"important\", \"important\", \"important\", \"important\", \"important\", \"important\", \"important\", \"important\", \"important\", \"important\", \"important\", \"important\", \"important\", \"important\", \"impression\", \"impression\", \"impression\", \"impression\", \"impression\", \"improve\", \"improve\", \"improve\", \"improve\", \"improve\", \"improve\", \"improve\", \"improve\", \"improve\", \"improve\", \"improve\", \"improve\", \"improvement\", \"improvement\", \"improvement\", \"improvement\", \"improvement\", \"improvement\", \"improvement\", \"improvement\", \"improvement\", \"improvement\", \"improves_cultural_life\", \"improves_cultural_life\", \"inaccurate\", \"inaccurate\", \"inactive\", \"include\", \"include\", \"include\", \"include\", \"include\", \"include\", \"include\", \"include\", \"include\", \"include\", \"include\", \"include\", \"include\", \"include\", \"include\", \"inclusion\", \"inclusion\", \"inclusion\", \"inclusion\", \"inclusion\", \"inclusion\", \"inclusion\", \"inclusive\", \"inclusive\", \"inclusive\", \"inclusive\", \"inclusive\", \"income\", \"income\", \"income\", \"income\", \"income\", \"income\", \"income\", \"income\", \"income\", \"income\", \"income\", \"income\", \"increase\", \"increase\", \"increase\", \"increase\", \"increase\", \"increase\", \"increase\", \"increase\", \"increase\", \"increase\", \"increase\", \"increase\", \"increase\", \"increase\", \"increase\", \"information\", \"information\", \"information\", \"information\", \"information\", \"information\", \"information\", \"information\", \"information\", \"information\", \"information\", \"information\", \"information\", \"information\", \"information\", \"infrastructure\", \"infrastructure\", \"infrastructure\", \"infrastructure\", \"infrastructure\", \"infrastructure\", \"infrastructure\", \"infrastructure\", \"infrastructure\", \"infrastructure\", \"infrastructure\", \"infrastructure\", \"infrastructure\", \"infrastructure\", \"infrastructure\", \"install\", \"install\", \"installation\", \"institute\", \"institute\", \"institute\", \"institute\", \"institute\", \"institute\", \"institution\", \"institution\", \"institution\", \"instruction\", \"instruction\", \"interchange\", \"interchange\", \"interchange\", \"interesting\", \"interesting\", \"interesting\", \"interesting\", \"interesting\", \"interfere\", \"interfere\", \"international\", \"international\", \"international\", \"international\", \"international\", \"international\", \"international\", \"international\", \"international\", \"international\", \"international\", \"international\", \"international\", \"international\", \"intervene\", \"intervene\", \"intrinsic\", \"intrinsic\", \"investigation\", \"investigation\", \"investigation\", \"investigation\", \"investigation\", \"investment\", \"investment\", \"investment\", \"investment\", \"investment\", \"investment\", \"investment\", \"investment\", \"investment\", \"investment\", \"investment\", \"investment\", \"investment\", \"investment\", \"ioc\", \"ioc\", \"ioc\", \"ioc\", \"ioc\", \"ioc\", \"ioc\", \"ioc\", \"ioc\", \"ipc\", \"ipc\", \"irrelevant\", \"issue\", \"issue\", \"issue\", \"issue\", \"issue\", \"issue\", \"issue\", \"issue\", \"issue\", \"issue\", \"issue\", \"issue\", \"issue\", \"issue\", \"issue\", \"job\", \"job\", \"job\", \"job\", \"job\", \"job\", \"job\", \"job\", \"job\", \"job\", \"job\", \"job\", \"jonathan_stephen\", \"jonathan_stephen\", \"jonathan_stephen\", \"journalist\", \"journalist\", \"journalist\", \"journalist\", \"journalist\", \"journey\", \"journey\", \"journey\", \"journey\", \"journey\", \"journey\", \"journey\", \"key\", \"key\", \"key\", \"key\", \"key\", \"key\", \"key\", \"key\", \"key\", \"key\", \"key\", \"key\", \"key\", \"key\", \"key\", \"kind\", \"kind\", \"kind\", \"kind\", \"kind\", \"kind\", \"kind\", \"lack\", \"lack\", \"lack\", \"lack\", \"lack\", \"lack\", \"lack\", \"lack\", \"lack\", \"lack\", \"lack\", \"landscaping\", \"landscaping\", \"landscaping\", \"lane\", \"lane\", \"lane\", \"lane\", \"lane\", \"lane\", \"lasting\", \"lasting\", \"lasting\", \"lasting\", \"lasting\", \"lasting\", \"law\", \"law\", \"law\", \"law\", \"law\", \"law\", \"lead\", \"lead\", \"lead\", \"lead\", \"lead\", \"lead\", \"lead\", \"lead\", \"lead\", \"lead\", \"lead\", \"lead\", \"lead\", \"lead\", \"lead\", \"league\", \"league\", \"leaving_laste\", \"leaving_laste\", \"leaving_laste\", \"legacy\", \"legacy\", \"legacy\", \"legacy\", \"legacy\", \"legacy\", \"legacy\", \"legacy\", \"legacy\", \"legacy\", \"legacy\", \"legacy\", \"legacy\", \"legacy\", \"legacy\", \"leisure\", \"leisure\", \"leisure\", \"leisure\", \"leisure\", \"leisure\", \"leisure\", \"leisure\", \"letter\", \"letter\", \"letter\", \"letter\", \"letter\", \"letter\", \"letter\", \"level\", \"level\", \"level\", \"level\", \"level\", \"level\", \"level\", \"level\", \"level\", \"level\", \"level\", \"level\", \"level\", \"level\", \"level\", \"liaise\", \"library\", \"library\", \"like\", \"like\", \"like\", \"like\", \"like\", \"like\", \"like\", \"like\", \"like\", \"like\", \"likely\", \"likely\", \"likely\", \"likely\", \"likely\", \"likely\", \"likely\", \"likely\", \"likely\", \"likely\", \"likely\", \"line\", \"line\", \"line\", \"line\", \"line\", \"line\", \"line\", \"line\", \"line\", \"line\", \"line\", \"local\", \"local\", \"local\", \"local\", \"local\", \"local\", \"local\", \"local\", \"local\", \"local\", \"local\", \"local\", \"local\", \"local\", \"locality\", \"location\", \"location\", \"location\", \"location\", \"location\", \"location\", \"location\", \"location\", \"location\", \"location\", \"location\", \"locog\", \"locog\", \"locog\", \"locog\", \"locog\", \"locog\", \"locog\", \"lodge\", \"look\", \"look\", \"look\", \"look\", \"look\", \"look\", \"look\", \"look\", \"look\", \"look\", \"look\", \"look\", \"look\", \"look\", \"look\", \"lottery\", \"lottery\", \"lottery\", \"lottery\", \"lottery\", \"lottery\", \"lottery\", \"lottery\", \"lottery\", \"lottery\", \"lottery\", \"lottery_distributor\", \"lottery_distributor\", \"magnitude\", \"magnitude\", \"main\", \"main\", \"main\", \"main\", \"main\", \"main\", \"main\", \"main\", \"main\", \"main\", \"main\", \"main\", \"main\", \"mainstream\", \"mainstream\", \"mainstream\", \"mainstream\", \"mainstream\", \"mainstream\", \"mainstream\", \"major\", \"major\", \"major\", \"major\", \"major\", \"major\", \"major\", \"major\", \"major\", \"major\", \"major\", \"major\", \"major\", \"major\", \"major\", \"make_sure\", \"make_sure\", \"make_sure\", \"make_sure\", \"make_sure\", \"make_sure\", \"make_sure\", \"make_sure\", \"maker\", \"maker\", \"management\", \"management\", \"management\", \"management\", \"management\", \"management\", \"management\", \"management\", \"management\", \"management\", \"management\", \"management\", \"management\", \"management\", \"manchester\", \"manchester\", \"manchester\", \"manchester\", \"manchester\", \"manchester\", \"manchester\", \"manchester\", \"marginal\", \"marginal\", \"marry\", \"materialise\", \"materialise\", \"materialise\", \"materialise\", \"maximise\", \"maximise\", \"maximise\", \"maximise\", \"maximise\", \"maximise\", \"maximise\", \"maximise\", \"maximise\", \"maximise\", \"maximize\", \"maximize\", \"mayoral_development_corporation\", \"measure\", \"measure\", \"measure\", \"measure\", \"measure\", \"measure\", \"measure\", \"measure\", \"measure\", \"measure\", \"measure\", \"medal\", \"medal\", \"medal\", \"medal\", \"medal\", \"medal\", \"medal\", \"medal_table\", \"medal_table\", \"medal_table\", \"medal_target\", \"medal_target\", \"medal_winning_performance\", \"medallist\", \"medallist\", \"medallist\", \"medicine\", \"medicine\", \"medium\", \"medium\", \"medium\", \"medium\", \"medium\", \"medium\", \"medium\", \"medium\", \"medium\", \"medium\", \"medium\", \"member\", \"member\", \"member\", \"member\", \"member\", \"member\", \"member\", \"member\", \"member\", \"member\", \"member\", \"member\", \"member\", \"member\", \"member\", \"memorable\", \"methodology\", \"methodology\", \"methodology\", \"metropolitan\", \"metropolitan\", \"metropolitan\", \"metropolitan\", \"mini\", \"mini\", \"minimal\", \"minimal\", \"minimal\", \"minimal\", \"minister\", \"minister\", \"minister\", \"minister\", \"minister\", \"minister\", \"minister\", \"minister\", \"minute\", \"minute\", \"minute\", \"minute\", \"minute\", \"minute\", \"minute\", \"minute\", \"minute\", \"minute\", \"minute\", \"miss_kirkbride\", \"mission\", \"mission\", \"mode\", \"mode\", \"mode\", \"mode\", \"moment\", \"moment\", \"moment\", \"moment\", \"moment\", \"moment\", \"moment\", \"money\", \"money\", \"money\", \"money\", \"money\", \"money\", \"money\", \"money\", \"money\", \"money\", \"money\", \"money\", \"money\", \"morning\", \"morning\", \"morning\", \"morning\", \"morning\", \"morning\", \"motivation\", \"motivation\", \"motivation\", \"museum\", \"museum\", \"music\", \"music\", \"nation\", \"nation\", \"nation\", \"nation\", \"nation\", \"nation\", \"nation\", \"nation\", \"nation\", \"nation\", \"nation\", \"nation\", \"nation\", \"national\", \"national\", \"national\", \"national\", \"national\", \"national\", \"national\", \"national\", \"national\", \"national\", \"national\", \"national\", \"national\", \"national\", \"national_lottery_distribution\", \"national_lottery_distribution\", \"national_lottery_distribution\", \"national_lottery_distribution\", \"national_lottery_distribution\", \"national_lottery_distribution\", \"neighbour\", \"neighbour\", \"neighbour\", \"neighbouring\", \"neighbouring\", \"newspaper\", \"newspaper\", \"newspaper\", \"newspaper\", \"ngbs\", \"ngbs\", \"nldf\", \"non\", \"non\", \"non\", \"non\", \"non\", \"non\", \"non\", \"non\", \"non\", \"non\", \"non\", \"north_w\", \"north_w\", \"note\", \"note\", \"note\", \"note\", \"note\", \"note\", \"note\", \"note\", \"note\", \"note\", \"notify\", \"notify\", \"notional\", \"notional\", \"number\", \"number\", \"number\", \"number\", \"number\", \"number\", \"number\", \"number\", \"number\", \"number\", \"number\", \"number\", \"number\", \"number\", \"number\", \"objection\", \"objection\", \"objection\", \"objective\", \"objective\", \"objective\", \"objective\", \"objective\", \"objective\", \"objective\", \"objective\", \"objective\", \"objective\", \"oda\", \"oda\", \"oda\", \"oda\", \"oda\", \"oda\", \"oda\", \"oda\", \"oda\", \"oda\", \"oda\", \"offer\", \"offer\", \"offer\", \"offer\", \"offer\", \"offer\", \"offer\", \"offer\", \"offer\", \"offer\", \"offer\", \"offer\", \"offer\", \"offer\", \"oil\", \"old\", \"old\", \"old\", \"old\", \"old\", \"old\", \"old\", \"old\", \"open_space\", \"open_space\", \"open_space\", \"open_space\", \"open_space\", \"open_space\", \"oplc\", \"oplc\", \"oplc\", \"oplc\", \"opportunity\", \"opportunity\", \"opportunity\", \"opportunity\", \"opportunity\", \"opportunity\", \"opportunity\", \"opportunity\", \"opportunity\", \"opportunity\", \"opportunity\", \"opportunity\", \"opportunity\", \"opportunity\", \"opportunity\", \"opposed\", \"opposed\", \"opposed\", \"option\", \"option\", \"option\", \"option\", \"option\", \"option\", \"option\", \"option\", \"option\", \"option\", \"option\", \"organisational\", \"organisational\", \"organisational\", \"organisational\", \"organisational\", \"organised\", \"organised\", \"orn\", \"orn\", \"orn\", \"output\", \"output\", \"output\", \"output\", \"output\", \"overarch\", \"overarch\", \"overarch\", \"override\", \"overspend\", \"overspend\", \"overspend\", \"package\", \"package\", \"package\", \"package\", \"package\", \"package\", \"package\", \"package\", \"package\", \"page\", \"page\", \"page\", \"page\", \"page\", \"page\", \"page\", \"pair\", \"paper\", \"paper\", \"paper\", \"paper\", \"paper\", \"paper\", \"paper\", \"paper\", \"paper\", \"paragraph\", \"paragraph\", \"paragraph\", \"paragraph\", \"paragraph\", \"paragraph\", \"paragraph\", \"paralympic\", \"paralympic\", \"paralympic\", \"paralympic\", \"paralympic\", \"paralympic\", \"paralympic\", \"paralympic\", \"paralympic\", \"paralympic\", \"parent\", \"parent\", \"parent\", \"parent\", \"parent\", \"park\", \"park\", \"park\", \"park\", \"park\", \"park\", \"park\", \"park\", \"park\", \"park\", \"park\", \"park\", \"park\", \"park\", \"participant\", \"participant\", \"participant\", \"participant\", \"participant\", \"participant\", \"participant\", \"participant\", \"participate\", \"participate\", \"participate\", \"participate\", \"participate\", \"participate\", \"participate\", \"participate\", \"participation\", \"participation\", \"participation\", \"participation\", \"participation\", \"participation\", \"participation\", \"participation\", \"participation\", \"participation\", \"participation\", \"participation\", \"partner\", \"partner\", \"partner\", \"partner\", \"partner\", \"partner\", \"partner\", \"partner\", \"partner\", \"partner\", \"partner\", \"partner\", \"pass\", \"pass\", \"pass\", \"pass\", \"pass\", \"pass\", \"pass\", \"pass\", \"passenger\", \"passenger\", \"passenger\", \"patch\", \"patch\", \"pathway\", \"pathway\", \"pathway\", \"pathway\", \"pathway\", \"pathway\", \"pay\", \"pay\", \"pay\", \"pay\", \"pay\", \"pay\", \"pay\", \"pay\", \"pay\", \"pay\", \"pedestrian\", \"pedestrian\", \"pedestrian\", \"people\", \"people\", \"people\", \"people\", \"people\", \"people\", \"people\", \"people\", \"people\", \"people\", \"people\", \"people\", \"people\", \"people\", \"people\", \"performance\", \"performance\", \"performance\", \"performance\", \"performance\", \"performance\", \"performance\", \"performance\", \"performance\", \"performance\", \"performance\", \"physical_activity\", \"physical_activity\", \"physical_activity\", \"physical_activity\", \"physical_activity\", \"physical_activity\", \"physical_activity\", \"physically_active\", \"physically_active\", \"picketts_lock\", \"picketts_lock\", \"picketts_lock\", \"pinnacle\", \"pinnacle\", \"pioneer\", \"pipeline\", \"pipeline\", \"pipeline\", \"place\", \"place\", \"place\", \"place\", \"place\", \"place\", \"place\", \"place\", \"place\", \"place\", \"place\", \"place\", \"place\", \"place\", \"place\", \"plan\", \"plan\", \"plan\", \"plan\", \"plan\", \"plan\", \"plan\", \"plan\", \"plan\", \"plan\", \"plan\", \"plan\", \"plan\", \"plan\", \"plan\", \"plane\", \"planned\", \"planned\", \"podium\", \"podium\", \"podium\", \"point\", \"point\", \"point\", \"point\", \"point\", \"point\", \"point\", \"point\", \"point\", \"point\", \"point\", \"point\", \"point\", \"point\", \"police\", \"police\", \"police\", \"police\", \"police\", \"police\", \"police\", \"pool\", \"pool\", \"pool\", \"pool\", \"pool\", \"pool\", \"pool\", \"poor\", \"poor\", \"poor\", \"poor\", \"poor\", \"poor\", \"poor\", \"poor\", \"poor\", \"portal\", \"portal\", \"portal\", \"post\", \"post\", \"post\", \"post\", \"post\", \"post\", \"post\", \"post\", \"post\", \"post\", \"powerline\", \"precept\", \"precept\", \"precious\", \"precious\", \"predecessor\", \"predecessor\", \"predicate\", \"predicate\", \"predicate\", \"premier\", \"premier\", \"premier\", \"premier\", \"preparation\", \"preparation\", \"preparation\", \"preparation\", \"preparation\", \"preparation\", \"preparation\", \"preparation\", \"preparation\", \"preparation\", \"preparation\", \"preparation_camp\", \"preparation_camp\", \"prepare\", \"prepare\", \"prepare\", \"prepare\", \"prepare\", \"prepare\", \"prepare\", \"prepare\", \"prepare\", \"prepare\", \"prepare\", \"prepare\", \"press\", \"press\", \"press\", \"press\", \"press\", \"press\", \"press\", \"press\", \"press\", \"pressure\", \"pressure\", \"pressure\", \"pressure\", \"pressure\", \"pressure\", \"pressure\", \"pressure\", \"pressure\", \"pricing\", \"pricing\", \"pricing\", \"process\", \"process\", \"process\", \"process\", \"process\", \"process\", \"process\", \"process\", \"process\", \"process\", \"process\", \"process\", \"process\", \"process\", \"process\", \"procurement\", \"procurement\", \"procurement\", \"procurement\", \"procurement\", \"procurement\", \"procurement\", \"programme\", \"programme\", \"programme\", \"programme\", \"programme\", \"programme\", \"programme\", \"programme\", \"programme\", \"programme\", \"programme\", \"programme\", \"programme\", \"programme\", \"programme\", \"progress\", \"progress\", \"progress\", \"progress\", \"progress\", \"progress\", \"progress\", \"progress\", \"progress\", \"progress\", \"progress\", \"progress\", \"progress\", \"project\", \"project\", \"project\", \"project\", \"project\", \"project\", \"project\", \"project\", \"project\", \"project\", \"project\", \"project\", \"project\", \"project\", \"project\", \"proposal\", \"proposal\", \"proposal\", \"proposal\", \"proposal\", \"proposal\", \"proposal\", \"proposal\", \"proposal\", \"proposal\", \"proposal\", \"prosperous\", \"prove\", \"prove\", \"prove\", \"prove\", \"prove\", \"prove\", \"prove\", \"prove\", \"prove\", \"prove\", \"prove\", \"provide\", \"provide\", \"provide\", \"provide\", \"provide\", \"provide\", \"provide\", \"provide\", \"provide\", \"provide\", \"provide\", \"provide\", \"provide\", \"provide\", \"provide\", \"provision\", \"provision\", \"provision\", \"provision\", \"provision\", \"provision\", \"provision\", \"provision\", \"provision\", \"provision\", \"provision\", \"provision\", \"provision\", \"provision\", \"pro\\ufb01t\", \"pro\\ufb01t\", \"pro\\ufb01t\", \"psa\", \"public\", \"public\", \"public\", \"public\", \"public\", \"public\", \"public\", \"public\", \"public\", \"public\", \"public\", \"public\", \"public\", \"public\", \"public\", \"public_domain\", \"public_domain\", \"public_domain\", \"public_domain\", \"public_domain\", \"publicly_funde\", \"publicly_funde\", \"publicly_funde\", \"publicly_funde\", \"pupil\", \"pupil\", \"pupil\", \"quadrennial\", \"qualification\", \"qualification\", \"qualification\", \"qualification\", \"qualification\", \"qualification\", \"qualified\", \"qualified\", \"qualified\", \"quantitative\", \"quantitative\", \"quantitative\", \"question\", \"question\", \"question\", \"question\", \"question\", \"question\", \"question\", \"question\", \"question\", \"question\", \"question\", \"question\", \"question\", \"question\", \"queue\", \"queue\", \"rail\", \"rail\", \"rail\", \"rail\", \"rail\", \"rail\", \"rail\", \"reaction\", \"reaction\", \"readiness\", \"readiness\", \"readiness\", \"realisation\", \"receive\", \"receive\", \"receive\", \"receive\", \"receive\", \"receive\", \"receive\", \"receive\", \"receive\", \"receive\", \"receive\", \"receive\", \"receive\", \"reconcile\", \"reconcile\", \"reconcile\", \"recreation\", \"recreation\", \"recreation\", \"recreation\", \"recreation\", \"recreation\", \"recreational\", \"recreational\", \"recreational\", \"recreational\", \"recreational\", \"redbridge\", \"redbridge\", \"redesign\", \"redesign\", \"redesign\", \"redesign\", \"redress\", \"redress\", \"reduction\", \"reduction\", \"reduction\", \"reduction\", \"reduction\", \"reduction\", \"reduction\", \"reduction\", \"reduction\", \"refresh\", \"regard\", \"regard\", \"regard\", \"regard\", \"regard\", \"regard\", \"regard\", \"regard\", \"regard\", \"regard\", \"regard\", \"regard\", \"regard\", \"regeneration\", \"regeneration\", \"regeneration\", \"regeneration\", \"regeneration\", \"regeneration\", \"regeneration\", \"regeneration\", \"regeneration\", \"regeneration\", \"regeneration\", \"regeneration\", \"regenerative\", \"regenerative\", \"regenerative\", \"region\", \"region\", \"region\", \"region\", \"region\", \"region\", \"region\", \"region\", \"regional\", \"regional\", \"regional\", \"regional\", \"regional\", \"regional\", \"regional\", \"regional\", \"regional\", \"regional\", \"regional\", \"regional\", \"relieve\", \"relocatable\", \"remain\", \"remain\", \"remain\", \"remain\", \"remain\", \"remain\", \"remain\", \"remain\", \"remain\", \"remain\", \"remain\", \"remember\", \"remember\", \"remember\", \"remember\", \"remember\", \"remote\", \"remote\", \"remote\", \"renewable\", \"renewable\", \"reply\", \"reply\", \"reply\", \"report\", \"report\", \"report\", \"report\", \"report\", \"report\", \"report\", \"report\", \"report\", \"report\", \"report\", \"report\", \"report\", \"report\", \"reservation\", \"reservation\", \"resident\", \"resident\", \"resident\", \"resident\", \"resident\", \"resident\", \"revenue\", \"revenue\", \"revenue\", \"revenue\", \"revenue\", \"revenue\", \"revenue\", \"review\", \"review\", \"review\", \"review\", \"review\", \"review\", \"review\", \"review\", \"review\", \"review\", \"revise\", \"revise\", \"revise\", \"revise\", \"revise\", \"revise\", \"revise\", \"revised\", \"revised\", \"revised\", \"revised\", \"right\", \"right\", \"right\", \"right\", \"right\", \"right\", \"right\", \"right\", \"right\", \"right\", \"right\", \"right\", \"right\", \"right\", \"risk\", \"risk\", \"risk\", \"risk\", \"risk\", \"risk\", \"risk\", \"risk\", \"risk\", \"risk\", \"risk\", \"road\", \"road\", \"road\", \"road\", \"road\", \"road\", \"road\", \"road\", \"road\", \"road\", \"role\", \"role\", \"role\", \"role\", \"role\", \"role\", \"role\", \"role\", \"role\", \"role\", \"role\", \"role\", \"role\", \"rower\", \"rower\", \"sake\", \"sake\", \"sake\", \"sander\", \"sander\", \"sander\", \"sander\", \"satisfaction\", \"satisfaction\", \"satisfaction\", \"satisfaction\", \"satisfaction\", \"satisfied\", \"satisfied\", \"satisfied\", \"satis\\ufb01ed\", \"satis\\ufb01ed\", \"schedule\", \"schedule\", \"schedule\", \"schedule\", \"schedule\", \"schedule\", \"schedule\", \"schedule\", \"school\", \"school\", \"school\", \"school\", \"school\", \"school\", \"school\", \"school\", \"school\", \"science\", \"science\", \"science\", \"science\", \"scope\", \"scope\", \"scope\", \"scope\", \"scope\", \"scope\", \"scope\", \"scope\", \"screening\", \"screening\", \"seater_stadium\", \"seater_stadium\", \"secondee\", \"sector\", \"sector\", \"sector\", \"sector\", \"sector\", \"sector\", \"sector\", \"sector\", \"sector\", \"sector\", \"security\", \"security\", \"security\", \"security\", \"security\", \"security\", \"security\", \"security\", \"security_guard\", \"security_guard\", \"service\", \"service\", \"service\", \"service\", \"service\", \"service\", \"service\", \"service\", \"service\", \"service\", \"service\", \"service\", \"service\", \"service\", \"service\", \"set\", \"set\", \"set\", \"set\", \"set\", \"set\", \"set\", \"set\", \"set\", \"set\", \"set\", \"set\", \"set\", \"set\", \"set\", \"shall\", \"shall\", \"shall\", \"shall\", \"shareholder\", \"shareholder\", \"shareholder\", \"shoot\", \"shoot\", \"shoot\", \"shoot\", \"shoot\", \"shoot\", \"shooting\", \"shooting\", \"shooting\", \"shooting\", \"shooting\", \"significance\", \"significance\", \"significance\", \"significance\", \"significant\", \"significant\", \"significant\", \"significant\", \"significant\", \"significant\", \"significant\", \"significant\", \"significant\", \"significant\", \"significant\", \"significant\", \"significant\", \"significant\", \"silver\", \"silver\", \"silver\", \"silver\", \"sink\", \"sink\", \"situate\", \"situate\", \"skill\", \"skill\", \"skill\", \"skill\", \"skill\", \"skill\", \"skill\", \"skill\", \"skill\", \"skill\", \"skill\", \"skill\", \"skill\", \"slot\", \"snapshot\", \"snapshot\", \"snapshot\", \"social\", \"social\", \"social\", \"social\", \"social\", \"social\", \"social\", \"social\", \"socially_excluded\", \"society\", \"society\", \"society\", \"society\", \"society\", \"soft\", \"soft\", \"soft\", \"soft\", \"soft\", \"soft\", \"soldier\", \"soldier\", \"soldier\", \"solution\", \"solution\", \"solution\", \"solution\", \"solution\", \"solution\", \"solution\", \"solution\", \"solution\", \"sort\", \"sort\", \"sort\", \"sort\", \"sort\", \"sort\", \"source_national_audit\", \"source_national_audit\", \"source_national_audit\", \"southern\", \"southern\", \"southern\", \"southern\", \"specialist\", \"specialist\", \"specialist\", \"specialist\", \"specialist\", \"specialist\", \"specialist\", \"specialist\", \"specific\", \"specific\", \"specific\", \"specific\", \"specific\", \"specific\", \"specific\", \"specific\", \"specific\", \"specific\", \"specific\", \"specific\", \"specific\", \"spend\", \"spend\", \"spend\", \"spend\", \"spend\", \"spend\", \"spend\", \"spend\", \"spend\", \"spend\", \"sporting\", \"sporting\", \"sporting\", \"sporting\", \"sporting\", \"sporting\", \"sporting\", \"sporting\", \"sporting\", \"sporting\", \"sporting\", \"sporting\", \"sporting\", \"sporting\", \"sporting_giant\", \"sporting_giant\", \"squad\", \"squad\", \"squad\", \"squeeze\", \"squeeze\", \"stadium\", \"stadium\", \"stadium\", \"stadium\", \"stadium\", \"stadium\", \"stadium\", \"stadium\", \"stadium\", \"stadium\", \"stadium\", \"stadium\", \"stadium\", \"stadium\", \"staff\", \"staff\", \"staff\", \"staff\", \"staff\", \"staff\", \"staff\", \"staff\", \"staff\", \"staff\", \"staff\", \"staff\", \"staff\", \"stage\", \"stage\", \"stage\", \"stage\", \"stage\", \"stage\", \"stage\", \"stage\", \"stage\", \"stage\", \"stage\", \"stage\", \"stage\", \"stage\", \"staging\", \"staging\", \"staging\", \"staging\", \"staging\", \"staging\", \"staging\", \"staging\", \"start\", \"start\", \"start\", \"start\", \"start\", \"start\", \"start\", \"start\", \"start\", \"start\", \"start\", \"start\", \"statement\", \"statement\", \"statement\", \"statement\", \"statement\", \"statement\", \"statement\", \"station\", \"station\", \"station\", \"station\", \"station\", \"station\", \"station\", \"stationery\", \"sterling\", \"strategy\", \"strategy\", \"strategy\", \"strategy\", \"strategy\", \"strategy\", \"strategy\", \"strategy\", \"strategy\", \"strategy\", \"strategy\", \"strategy\", \"studio\", \"studio\", \"studio\", \"success\", \"success\", \"success\", \"success\", \"success\", \"success\", \"success\", \"success\", \"success\", \"success\", \"success\", \"success\", \"success\", \"success\", \"successful\", \"successful\", \"successful\", \"successful\", \"successful\", \"successful\", \"successful\", \"successful\", \"successful\", \"successful\", \"successful\", \"successful\", \"successful\", \"successful\", \"suitable\", \"suitable\", \"suitable\", \"suitable\", \"suitable\", \"suitable\", \"suitable\", \"suitable\", \"suitable\", \"supplementary_memorandum_submitte\", \"supplementary_memorandum_submitte\", \"supplementary_memorandum_submitte\", \"supplementary_memorandum_submitte\", \"supplier\", \"supplier\", \"supplier\", \"supplier\", \"supplier\", \"supplier\", \"support\", \"support\", \"support\", \"support\", \"support\", \"support\", \"support\", \"support\", \"support\", \"support\", \"support\", \"support\", \"support\", \"support\", \"support\", \"sure\", \"sure\", \"sure\", \"sure\", \"sure\", \"sure\", \"sure\", \"sure\", \"survey\", \"survey\", \"survey\", \"survey\", \"survey\", \"survey\", \"survey\", \"sustainable\", \"sustainable\", \"sustainable\", \"sustainable\", \"sustainable\", \"sustainable\", \"sustainable\", \"sustainable\", \"sustainable\", \"sustainable\", \"swim\", \"swim\", \"swim\", \"swim\", \"swim\", \"swim\", \"swimming\", \"swimming\", \"swimming\", \"swimming\", \"swimming\", \"swimming\", \"swimming\", \"swimming\", \"sydney\", \"sydney\", \"sydney\", \"sydney\", \"synchronised_swimming\", \"synchronised_swimming\", \"tackle\", \"tackle\", \"tackle\", \"tackle\", \"tackle\", \"talent\", \"talent\", \"talent\", \"talent\", \"talent\", \"talent\", \"talent\", \"talent\", \"talent_identification\", \"talent_pathway\", \"talent_pathway\", \"talk\", \"talk\", \"talk\", \"talk\", \"talk\", \"talk\", \"talk\", \"tall\", \"tall\", \"target\", \"target\", \"target\", \"target\", \"target\", \"target\", \"target\", \"target\", \"target\", \"target\", \"target\", \"target\", \"target\", \"tax\", \"tax\", \"tax\", \"tax\", \"tax\", \"teaching\", \"teaching\", \"team\", \"team\", \"team\", \"team\", \"team\", \"team\", \"team\", \"team\", \"team\", \"team\", \"team\", \"team\", \"team\", \"team\", \"technological\", \"technological\", \"technological\", \"telecom\", \"telegraph\", \"telegraph\", \"term\", \"term\", \"term\", \"term\", \"term\", \"term\", \"term\", \"term\", \"term\", \"term\", \"term\", \"term\", \"term\", \"term\", \"term\", \"terminate\", \"terminate\", \"terrible\", \"terrible\", \"tfl\", \"tfl\", \"tfl\", \"tfl\", \"thames_gateway_development_corporation\", \"thorough\", \"thorough\", \"thorough\", \"thorough\", \"thorough\", \"threat\", \"threat\", \"threat\", \"threat\", \"threat\", \"threat\", \"thrilled\", \"tick\", \"tick\", \"ticket\", \"ticket\", \"ticket\", \"ticket\", \"ticket\", \"ticket\", \"ticket\", \"tier\", \"tier\", \"tier\", \"tier\", \"tier\", \"tier\", \"tier\", \"tier\", \"time\", \"time\", \"time\", \"time\", \"time\", \"time\", \"time\", \"time\", \"time\", \"time\", \"time\", \"time\", \"time\", \"time\", \"time\", \"tiny\", \"tiny\", \"torch\", \"torch\", \"total\", \"total\", \"total\", \"total\", \"total\", \"total\", \"total\", \"total\", \"total\", \"total\", \"total\", \"total\", \"tourism\", \"tourism\", \"tourism\", \"tourism\", \"tourism\", \"tourism\", \"tourism\", \"tout\", \"tout\", \"traffic\", \"traffic\", \"traffic\", \"traffic\", \"traffic\", \"traffic\", \"training\", \"training\", \"training\", \"training\", \"training\", \"training\", \"training\", \"training\", \"training\", \"training\", \"training\", \"training\", \"training\", \"transcript\", \"transcript\", \"transport\", \"transport\", \"transport\", \"transport\", \"transport\", \"transport\", \"transport\", \"transport\", \"transport\", \"transport\", \"transport\", \"transport\", \"transport\", \"transport\", \"tune\", \"turf\", \"ultimate_guarantor\", \"ultimate_guarantor\", \"unallocated\", \"unallocated\", \"unallocated\", \"unallocated\", \"unallocated\", \"unallocated\", \"uncertainty\", \"uncertainty\", \"uncertainty\", \"uncertainty\", \"uncertainty\", \"uncertainty\", \"uncertainty\", \"underwrite\", \"underwrite\", \"underwrite\", \"underwrite\", \"underwrite\", \"unemployment\", \"unemployment\", \"unemployment\", \"unequivocal\", \"unequivocal\", \"unlock\", \"unlock\", \"upgrade\", \"upgrade\", \"upgrade\", \"upgrade\", \"upgrade\", \"upgrade\", \"upgrade\", \"upgrade\", \"urge\", \"urge\", \"urge\", \"urge\", \"urge\", \"urge\", \"urge\", \"urgent\", \"urgent\", \"urgent\", \"urgent\", \"valley\", \"valley\", \"valley\", \"vat\", \"vat\", \"vat\", \"vat\", \"velopark\", \"velopark\", \"velopark\", \"velopark\", \"velopark\", \"velopark\", \"venue\", \"venue\", \"venue\", \"venue\", \"venue\", \"venue\", \"venue\", \"venue\", \"venue\", \"venue\", \"venue\", \"venue\", \"venue\", \"venue\", \"venue\", \"video\", \"video\", \"village\", \"village\", \"village\", \"village\", \"village\", \"village\", \"village\", \"village\", \"village\", \"village\", \"village\", \"visa\", \"visa\", \"visionary\", \"visit\", \"visit\", \"visit\", \"visit\", \"visit\", \"visit\", \"visit\", \"visit\", \"visit\", \"visitbritain\", \"visitbritain\", \"visitbritain\", \"visitor\", \"visitor\", \"visitor\", \"visitor\", \"visitor\", \"volleyball\", \"volleyball\", \"volleyball\", \"volunteer\", \"volunteer\", \"volunteer\", \"volunteer\", \"volunteer\", \"volunteer\", \"volunteer\", \"volunteer\", \"volunteer\", \"vulnerable\", \"vulnerable\", \"wage\", \"wage\", \"walthamstow\", \"warm\", \"warm\", \"warm\", \"warm\", \"warm\", \"weakness\", \"weakness\", \"weakness\", \"wealth\", \"wealth\", \"wealth\", \"weekly\", \"weekly\", \"weekly\", \"weekly\", \"welcome\", \"welcome\", \"welcome\", \"welcome\", \"welcome\", \"welcome\", \"welcome\", \"welcome\", \"welcome\", \"welcome\", \"wembley\", \"wembley\", \"wembley\", \"wembley\", \"westfield\", \"westfield\", \"west\\ufb01eld\", \"west\\ufb01eld\", \"wheelchair\", \"wheelchair\", \"wheelchair\", \"wheelchair\", \"wheelchair\", \"whilst\", \"wholehearte\", \"wholehearte\", \"win\", \"win\", \"win\", \"win\", \"win\", \"win\", \"win\", \"win\", \"win\", \"win\", \"win\", \"win\", \"win\", \"win\", \"witnesses_questions_tuesday_january\", \"witnesses_questions_wednesday_january\", \"woman\", \"woman\", \"woman\", \"woman\", \"woman\", \"woman\", \"work\", \"work\", \"work\", \"work\", \"work\", \"work\", \"work\", \"work\", \"work\", \"work\", \"work\", \"work\", \"work\", \"work\", \"work\", \"workforce\", \"workforce\", \"workforce\", \"workforce\", \"workforce\", \"workforce\", \"worklessness\", \"worklessness\", \"worklessness\", \"world\", \"world\", \"world\", \"world\", \"world\", \"world\", \"world\", \"world\", \"world\", \"world\", \"world\", \"world\", \"world\", \"world\", \"world_championship\", \"world_championship\", \"world_championship\", \"world_championship\", \"world_championship\", \"world_championship\", \"world_championship\", \"world_class\", \"world_class\", \"world_class\", \"world_class\", \"world_class\", \"world_class\", \"world_class\", \"wouldn\", \"wouldn\", \"wrap\", \"wrap\", \"write\", \"write\", \"write\", \"write\", \"write\", \"write\", \"write\", \"write\", \"write\", \"written_evidence_submitte\", \"written_evidence_submitte\", \"written_evidence_submitte\", \"written_evidence_submitte\", \"year\", \"year\", \"year\", \"year\", \"year\", \"year\", \"year\", \"year\", \"year\", \"year\", \"year\", \"year\", \"year\", \"year\", \"year\", \"young\", \"young\", \"young\", \"young\", \"young\", \"young\", \"young\", \"young\", \"young\", \"young\", \"young\", \"\\ufb01gure\", \"\\ufb01gure\", \"\\ufb01gure\", \"\\ufb01gure\", \"\\ufb01gure\", \"\\ufb01gure\", \"\\ufb01ll\", \"\\ufb01nal\", \"\\ufb01nal\", \"\\ufb01nal\", \"\\ufb01nal\", \"\\ufb01nal\"]}, \"R\": 30, \"lambda.step\": 0.01, \"plot.opts\": {\"xlab\": \"PC1\", \"ylab\": \"PC2\"}, \"topic.order\": [1, 2, 3, 4, 5, 6, 7, 8, 9, 10, 11, 12, 13, 14, 15]};\n",
       "\n",
       "function LDAvis_load_lib(url, callback){\n",
       "  var s = document.createElement('script');\n",
       "  s.src = url;\n",
       "  s.async = true;\n",
       "  s.onreadystatechange = s.onload = callback;\n",
       "  s.onerror = function(){console.warn(\"failed to load library \" + url);};\n",
       "  document.getElementsByTagName(\"head\")[0].appendChild(s);\n",
       "}\n",
       "\n",
       "if(typeof(LDAvis) !== \"undefined\"){\n",
       "   // already loaded: just create the visualization\n",
       "   !function(LDAvis){\n",
       "       new LDAvis(\"#\" + \"ldavis_el1968818534188801285899675032\", ldavis_el1968818534188801285899675032_data);\n",
       "   }(LDAvis);\n",
       "}else if(typeof define === \"function\" && define.amd){\n",
       "   // require.js is available: use it to load d3/LDAvis\n",
       "   require.config({paths: {d3: \"https://d3js.org/d3.v5\"}});\n",
       "   require([\"d3\"], function(d3){\n",
       "      window.d3 = d3;\n",
       "      LDAvis_load_lib(\"https://cdn.jsdelivr.net/gh/bmabey/pyLDAvis@3.3.1/pyLDAvis/js/ldavis.v3.0.0.js\", function(){\n",
       "        new LDAvis(\"#\" + \"ldavis_el1968818534188801285899675032\", ldavis_el1968818534188801285899675032_data);\n",
       "      });\n",
       "    });\n",
       "}else{\n",
       "    // require.js not available: dynamically load d3 & LDAvis\n",
       "    LDAvis_load_lib(\"https://d3js.org/d3.v5.js\", function(){\n",
       "         LDAvis_load_lib(\"https://cdn.jsdelivr.net/gh/bmabey/pyLDAvis@3.3.1/pyLDAvis/js/ldavis.v3.0.0.js\", function(){\n",
       "                 new LDAvis(\"#\" + \"ldavis_el1968818534188801285899675032\", ldavis_el1968818534188801285899675032_data);\n",
       "            })\n",
       "         });\n",
       "}\n",
       "</script>"
      ],
      "text/plain": [
       "PreparedData(topic_coordinates=              x         y  topics  cluster       Freq\n",
       "topic                                                \n",
       "0     -0.014229  0.156593       1        1   0.532274\n",
       "1     -0.028825 -0.083205       2        1  12.831450\n",
       "2      0.036385 -0.062944       3        1  13.273867\n",
       "3      0.148699 -0.059666       4        1  10.406519\n",
       "4     -0.271044 -0.077468       5        1   1.159555\n",
       "5      0.005902 -0.003807       6        1   9.969905\n",
       "6      0.126629  0.046886       7        1   0.839417\n",
       "7     -0.024925 -0.128627       8        1   4.395033\n",
       "8     -0.039962  0.237541       9        1   1.704618\n",
       "9      0.150421 -0.033502      10        1   6.783182\n",
       "10     0.119983 -0.039735      11        1   9.558934\n",
       "11    -0.033298  0.078076      12        1   0.333172\n",
       "12    -0.125836 -0.050544      13        1   4.918680\n",
       "13     0.003515 -0.043856      14        1  19.972297\n",
       "14    -0.053417  0.064258      15        1   3.321099, topic_info=          Term         Freq        Total Category  logprob  loglift\n",
       "283     legacy  2741.000000  2741.000000  Default  30.0000  30.0000\n",
       "57         bid  1588.000000  1588.000000  Default  29.0000  29.0000\n",
       "580       work  3117.000000  3117.000000  Default  28.0000  28.0000\n",
       "96   committee  1413.000000  1413.000000  Default  27.0000  27.0000\n",
       "372     people  2779.000000  2779.000000  Default  26.0000  26.0000\n",
       "..         ...          ...          ...      ...      ...      ...\n",
       "408     public    62.597017   924.667411  Topic15  -5.1324   0.7122\n",
       "283     legacy    71.064500  2741.490309  Topic15  -5.0055  -0.2478\n",
       "580       work    70.399065  3117.717263  Topic15  -5.0149  -0.3858\n",
       "190   facility    61.766342  1390.730407  Topic15  -5.1458   0.2906\n",
       "683    include    61.726893  1419.330529  Topic15  -5.1464   0.2697\n",
       "\n",
       "[1049 rows x 6 columns], token_table=      Topic      Freq  Term\n",
       "term                       \n",
       "1         1  0.001983  able\n",
       "1         2  0.162566  able\n",
       "1         3  0.245832  able\n",
       "1         4  0.035685  able\n",
       "1         5  0.005948  able\n",
       "...     ...       ...   ...\n",
       "3316      2  0.235700  ﬁnal\n",
       "3316      3  0.575107  ﬁnal\n",
       "3316      4  0.009428  ﬁnal\n",
       "3316     10  0.113136  ﬁnal\n",
       "3316     14  0.056568  ﬁnal\n",
       "\n",
       "[4545 rows x 3 columns], R=30, lambda_step=0.01, plot_opts={'xlab': 'PC1', 'ylab': 'PC2'}, topic_order=[1, 2, 3, 4, 5, 6, 7, 8, 9, 10, 11, 12, 13, 14, 15])"
      ]
     },
     "execution_count": 227,
     "metadata": {},
     "output_type": "execute_result"
    }
   ],
   "source": [
    "pyLDAvis.enable_notebook()\n",
    "vis = pyLDAvis.gensim_models.prepare(lda_model, corpus, id2word, sort_topics = False )\n",
    "vis"
   ]
  },
  {
   "cell_type": "markdown",
   "metadata": {},
   "source": [
    "## 5.3. prototypical paragraphs\n",
    "The prototypical paragraphs, the paragraphs with a high probabitiy that they belong to a topic, can be used to assist topic interpretation. This section classify the paragraphs into topics and provides the users 4 types of filters to select the prototypical paragraphs: N most prototypical paragraphs overall, N most prototypical paragraphs where the belong() function is greater than the threshold L, N most prototypical paragraphs of each topic and N most prototypical paragraphs of a specific topic."
   ]
  },
  {
   "cell_type": "markdown",
   "metadata": {},
   "source": [
    "### 5.3.1.  Classify the paragraphs based on the trained model"
   ]
  },
  {
   "cell_type": "markdown",
   "metadata": {},
   "source": [
    "##### Extract paragraphs from documents"
   ]
  },
  {
   "cell_type": "code",
   "execution_count": 228,
   "metadata": {},
   "outputs": [],
   "source": [
    "# define the function for spliting texts into paragraphs by delimiter '.\\n\\n' or '. \\n\\n'\n",
    "def para_split(i):\n",
    "    j = parser.from_file(i)\n",
    "    m = j['content']\n",
    "    import re\n",
    "    return re.split('[?.!-]\\n|[?.!-] \\n|  \\n\\n|\\n\\n[0-9]', m)"
   ]
  },
  {
   "cell_type": "code",
   "execution_count": 229,
   "metadata": {},
   "outputs": [],
   "source": [
    "list_paragraphs = []\n",
    "list_para_id = []\n",
    "for i in pdf_files:\n",
    "    para = para_split(i)\n",
    "    para = [w.replace('\\n', '') for w in para]\n",
    "    para = [x.strip() for x in para if x.strip()] # remove empty elements\n",
    "    para_id = [x for x in range(len(para))] \n",
    "    list_paragraphs.append(para)\n",
    "    list_para_id.append(para_id)"
   ]
  },
  {
   "cell_type": "code",
   "execution_count": 230,
   "metadata": {
    "scrolled": true
   },
   "outputs": [
    {
     "data": {
      "text/plain": [
       "21640"
      ]
     },
     "execution_count": 230,
     "metadata": {},
     "output_type": "execute_result"
    }
   ],
   "source": [
    "df_para1 = df.copy()\n",
    "df_para1['paragraphs'] = list_paragraphs\n",
    "df_para1['para_id'] = list_para_id\n",
    "df_para2 = df_para1.apply(pd.Series.explode)\n",
    "df_para3 = df_para2.reset_index()\n",
    "df_para4 = df_para3[['creationDate', 'document_id', 'file_name', 'para_id', 'paragraphs']]\n",
    "len(df_para4) # number of paragraphs extracted"
   ]
  },
  {
   "cell_type": "code",
   "execution_count": 231,
   "metadata": {},
   "outputs": [
    {
     "data": {
      "text/html": [
       "<div>\n",
       "<style scoped>\n",
       "    .dataframe tbody tr th:only-of-type {\n",
       "        vertical-align: middle;\n",
       "    }\n",
       "\n",
       "    .dataframe tbody tr th {\n",
       "        vertical-align: top;\n",
       "    }\n",
       "\n",
       "    .dataframe thead th {\n",
       "        text-align: right;\n",
       "    }\n",
       "</style>\n",
       "<table border=\"1\" class=\"dataframe\">\n",
       "  <thead>\n",
       "    <tr style=\"text-align: right;\">\n",
       "      <th></th>\n",
       "      <th>index</th>\n",
       "      <th>creationDate</th>\n",
       "      <th>document_id</th>\n",
       "      <th>file_name</th>\n",
       "      <th>para_id</th>\n",
       "      <th>paragraphs</th>\n",
       "    </tr>\n",
       "  </thead>\n",
       "  <tbody>\n",
       "    <tr>\n",
       "      <th>0</th>\n",
       "      <td>2</td>\n",
       "      <td>D:20210822083603+00'00'</td>\n",
       "      <td>0</td>\n",
       "      <td>Examination_of_Witnesses_Sept_2003_-_Q1-19.pdf</td>\n",
       "      <td>2</td>\n",
       "      <td>MS BARBARA CASSANI Q1 Chairman: Good morning, ...</td>\n",
       "    </tr>\n",
       "    <tr>\n",
       "      <th>1</th>\n",
       "      <td>3</td>\n",
       "      <td>D:20210822083603+00'00'</td>\n",
       "      <td>0</td>\n",
       "      <td>Examination_of_Witnesses_Sept_2003_-_Q1-19.pdf</td>\n",
       "      <td>3</td>\n",
       "      <td>Ms Cassani: Thank you very much. Thank you ver...</td>\n",
       "    </tr>\n",
       "    <tr>\n",
       "      <th>2</th>\n",
       "      <td>4</td>\n",
       "      <td>D:20210822083603+00'00'</td>\n",
       "      <td>0</td>\n",
       "      <td>Examination_of_Witnesses_Sept_2003_-_Q1-19.pdf</td>\n",
       "      <td>4</td>\n",
       "      <td>8 months I shall be able to meet frequently wi...</td>\n",
       "    </tr>\n",
       "    <tr>\n",
       "      <th>3</th>\n",
       "      <td>5</td>\n",
       "      <td>D:20210822083603+00'00'</td>\n",
       "      <td>0</td>\n",
       "      <td>Examination_of_Witnesses_Sept_2003_-_Q1-19.pdf</td>\n",
       "      <td>5</td>\n",
       "      <td>The first thing I should like to say is that I...</td>\n",
       "    </tr>\n",
       "    <tr>\n",
       "      <th>4</th>\n",
       "      <td>6</td>\n",
       "      <td>D:20210822083603+00'00'</td>\n",
       "      <td>0</td>\n",
       "      <td>Examination_of_Witnesses_Sept_2003_-_Q1-19.pdf</td>\n",
       "      <td>6</td>\n",
       "      <td>Really the backdrop is that I believe in the G...</td>\n",
       "    </tr>\n",
       "    <tr>\n",
       "      <th>...</th>\n",
       "      <td>...</td>\n",
       "      <td>...</td>\n",
       "      <td>...</td>\n",
       "      <td>...</td>\n",
       "      <td>...</td>\n",
       "      <td>...</td>\n",
       "    </tr>\n",
       "    <tr>\n",
       "      <th>17709</th>\n",
       "      <td>21631</td>\n",
       "      <td>D:20210822084546+00'00'</td>\n",
       "      <td>168</td>\n",
       "      <td>Written_evidence_submitted_by_Youth_Sport_Trus...</td>\n",
       "      <td>37</td>\n",
       "      <td>7.3  When the impact of Olympics and Paralympi...</td>\n",
       "    </tr>\n",
       "    <tr>\n",
       "      <th>17710</th>\n",
       "      <td>21633</td>\n",
       "      <td>D:20210822084546+00'00'</td>\n",
       "      <td>168</td>\n",
       "      <td>Written_evidence_submitted_by_Youth_Sport_Trus...</td>\n",
       "      <td>39</td>\n",
       "      <td>11   2007-08 School Sport Survey.     12   As ...</td>\n",
       "    </tr>\n",
       "    <tr>\n",
       "      <th>17711</th>\n",
       "      <td>21634</td>\n",
       "      <td>D:20210822084546+00'00'</td>\n",
       "      <td>168</td>\n",
       "      <td>Written_evidence_submitted_by_Youth_Sport_Trus...</td>\n",
       "      <td>40</td>\n",
       "      <td>13   Gold Young Ambassadors work across School...</td>\n",
       "    </tr>\n",
       "    <tr>\n",
       "      <th>17712</th>\n",
       "      <td>21635</td>\n",
       "      <td>D:20210822084546+00'00'</td>\n",
       "      <td>168</td>\n",
       "      <td>Written_evidence_submitted_by_Youth_Sport_Trus...</td>\n",
       "      <td>41</td>\n",
       "      <td>14   From national data supplied by Department...</td>\n",
       "    </tr>\n",
       "    <tr>\n",
       "      <th>17713</th>\n",
       "      <td>21637</td>\n",
       "      <td>D:20210822084546+00'00'</td>\n",
       "      <td>168</td>\n",
       "      <td>Written_evidence_submitted_by_Youth_Sport_Trus...</td>\n",
       "      <td>43</td>\n",
       "      <td>5   The impact of School Sport Partnerships on...</td>\n",
       "    </tr>\n",
       "  </tbody>\n",
       "</table>\n",
       "<p>17714 rows × 6 columns</p>\n",
       "</div>"
      ],
      "text/plain": [
       "       index             creationDate  document_id  \\\n",
       "0          2  D:20210822083603+00'00'            0   \n",
       "1          3  D:20210822083603+00'00'            0   \n",
       "2          4  D:20210822083603+00'00'            0   \n",
       "3          5  D:20210822083603+00'00'            0   \n",
       "4          6  D:20210822083603+00'00'            0   \n",
       "...      ...                      ...          ...   \n",
       "17709  21631  D:20210822084546+00'00'          168   \n",
       "17710  21633  D:20210822084546+00'00'          168   \n",
       "17711  21634  D:20210822084546+00'00'          168   \n",
       "17712  21635  D:20210822084546+00'00'          168   \n",
       "17713  21637  D:20210822084546+00'00'          168   \n",
       "\n",
       "                                               file_name para_id  \\\n",
       "0         Examination_of_Witnesses_Sept_2003_-_Q1-19.pdf       2   \n",
       "1         Examination_of_Witnesses_Sept_2003_-_Q1-19.pdf       3   \n",
       "2         Examination_of_Witnesses_Sept_2003_-_Q1-19.pdf       4   \n",
       "3         Examination_of_Witnesses_Sept_2003_-_Q1-19.pdf       5   \n",
       "4         Examination_of_Witnesses_Sept_2003_-_Q1-19.pdf       6   \n",
       "...                                                  ...     ...   \n",
       "17709  Written_evidence_submitted_by_Youth_Sport_Trus...      37   \n",
       "17710  Written_evidence_submitted_by_Youth_Sport_Trus...      39   \n",
       "17711  Written_evidence_submitted_by_Youth_Sport_Trus...      40   \n",
       "17712  Written_evidence_submitted_by_Youth_Sport_Trus...      41   \n",
       "17713  Written_evidence_submitted_by_Youth_Sport_Trus...      43   \n",
       "\n",
       "                                              paragraphs  \n",
       "0      MS BARBARA CASSANI Q1 Chairman: Good morning, ...  \n",
       "1      Ms Cassani: Thank you very much. Thank you ver...  \n",
       "2      8 months I shall be able to meet frequently wi...  \n",
       "3      The first thing I should like to say is that I...  \n",
       "4      Really the backdrop is that I believe in the G...  \n",
       "...                                                  ...  \n",
       "17709  7.3  When the impact of Olympics and Paralympi...  \n",
       "17710  11   2007-08 School Sport Survey.     12   As ...  \n",
       "17711  13   Gold Young Ambassadors work across School...  \n",
       "17712  14   From national data supplied by Department...  \n",
       "17713  5   The impact of School Sport Partnerships on...  \n",
       "\n",
       "[17714 rows x 6 columns]"
      ]
     },
     "execution_count": 231,
     "metadata": {},
     "output_type": "execute_result"
    }
   ],
   "source": [
    "# set a filter to filter out the paragraphs with short words\n",
    "n_word_count = 10                                                        # set the threshold of word count\n",
    "para_word_count = df_para4['paragraphs'].str.split().str.len()           # word count of each paragraph\n",
    "df_para = df_para4[(para_word_count>=n_word_count)].reset_index()        # select only the paragraphs with word count above the threshold\n",
    "df_para"
   ]
  },
  {
   "cell_type": "markdown",
   "metadata": {},
   "source": [
    "##### Process the paragraphs"
   ]
  },
  {
   "cell_type": "code",
   "execution_count": 232,
   "metadata": {},
   "outputs": [],
   "source": [
    "# tokenization\n",
    "data2 = df_para.paragraphs.values.tolist()\n",
    "data_words2 = list(sent_to_words(data2))"
   ]
  },
  {
   "cell_type": "code",
   "execution_count": 233,
   "metadata": {},
   "outputs": [],
   "source": [
    "# Form Trigrams\n",
    "data_words_trigrams2 = make_trigrams(data_words2)\n",
    "\n",
    "# Do lemmatization keeping only noun, adj, vb\n",
    "data_lemmatized2 = lemmatization(data_words_trigrams2, allowed_postags=['NOUN', 'ADJ', 'VERB'])\n",
    "\n",
    "# set the length of word threshold as same as before for removing the words less than the threshold\n",
    "data_lemmatized2_2 = []\n",
    "for i in data_lemmatized2:\n",
    "    new_element = [x for x in i if len(x) >= minimum_len]\n",
    "    data_lemmatized2_2.append(new_element)\n",
    "    \n",
    "# Remove Stop Words\n",
    "data_lemmatized2_1 = remove_stop_words(data_lemmatized2_2)"
   ]
  },
  {
   "cell_type": "markdown",
   "metadata": {},
   "source": [
    "##### Classify the paragraphs based on the extracted topics"
   ]
  },
  {
   "cell_type": "code",
   "execution_count": 234,
   "metadata": {},
   "outputs": [],
   "source": [
    "# belong function: classify topics of paragraphs, it might take a long time because there are 148,651 paragraphs in the 11,132,849-word corpus\n",
    "list_topic_para = []\n",
    "dictionary_topic_para = {}\n",
    "for d in data_lemmatized2_1:\n",
    "    bow = id2word.doc2bow(d)\n",
    "    belong = lda_model[bow]\n",
    "    doc_dic = Convert(belong, dictionary_topic_para)\n",
    "    list_topic_para.append(doc_dic)\n",
    "    df_topic_para = pd.DataFrame(list_topic_para)"
   ]
  },
  {
   "cell_type": "code",
   "execution_count": 235,
   "metadata": {},
   "outputs": [
    {
     "data": {
      "text/html": [
       "<div>\n",
       "<style scoped>\n",
       "    .dataframe tbody tr th:only-of-type {\n",
       "        vertical-align: middle;\n",
       "    }\n",
       "\n",
       "    .dataframe tbody tr th {\n",
       "        vertical-align: top;\n",
       "    }\n",
       "\n",
       "    .dataframe thead th {\n",
       "        text-align: right;\n",
       "    }\n",
       "</style>\n",
       "<table border=\"1\" class=\"dataframe\">\n",
       "  <thead>\n",
       "    <tr style=\"text-align: right;\">\n",
       "      <th></th>\n",
       "      <th>index</th>\n",
       "      <th>creationDate</th>\n",
       "      <th>document_id</th>\n",
       "      <th>file_name</th>\n",
       "      <th>para_id</th>\n",
       "      <th>paragraphs</th>\n",
       "      <th>1</th>\n",
       "      <th>2</th>\n",
       "      <th>3</th>\n",
       "      <th>4</th>\n",
       "      <th>...</th>\n",
       "      <th>6</th>\n",
       "      <th>7</th>\n",
       "      <th>8</th>\n",
       "      <th>9</th>\n",
       "      <th>10</th>\n",
       "      <th>11</th>\n",
       "      <th>12</th>\n",
       "      <th>13</th>\n",
       "      <th>14</th>\n",
       "      <th>15</th>\n",
       "    </tr>\n",
       "  </thead>\n",
       "  <tbody>\n",
       "    <tr>\n",
       "      <th>0</th>\n",
       "      <td>2</td>\n",
       "      <td>D:20210822083603+00'00'</td>\n",
       "      <td>0</td>\n",
       "      <td>Examination_of_Witnesses_Sept_2003_-_Q1-19.pdf</td>\n",
       "      <td>2</td>\n",
       "      <td>MS BARBARA CASSANI Q1 Chairman: Good morning, ...</td>\n",
       "      <td>0.052466</td>\n",
       "      <td>0.060493</td>\n",
       "      <td>0.086755</td>\n",
       "      <td>0.044444</td>\n",
       "      <td>...</td>\n",
       "      <td>0.198510</td>\n",
       "      <td>0.068130</td>\n",
       "      <td>0.043441</td>\n",
       "      <td>0.077602</td>\n",
       "      <td>0.047930</td>\n",
       "      <td>0.090144</td>\n",
       "      <td>0.043446</td>\n",
       "      <td>0.048106</td>\n",
       "      <td>0.052635</td>\n",
       "      <td>0.043472</td>\n",
       "    </tr>\n",
       "    <tr>\n",
       "      <th>1</th>\n",
       "      <td>3</td>\n",
       "      <td>D:20210822083603+00'00'</td>\n",
       "      <td>0</td>\n",
       "      <td>Examination_of_Witnesses_Sept_2003_-_Q1-19.pdf</td>\n",
       "      <td>3</td>\n",
       "      <td>Ms Cassani: Thank you very much. Thank you ver...</td>\n",
       "      <td>0.059793</td>\n",
       "      <td>0.063920</td>\n",
       "      <td>0.094343</td>\n",
       "      <td>0.056322</td>\n",
       "      <td>...</td>\n",
       "      <td>0.147986</td>\n",
       "      <td>0.064243</td>\n",
       "      <td>0.053368</td>\n",
       "      <td>0.053634</td>\n",
       "      <td>0.055082</td>\n",
       "      <td>0.064897</td>\n",
       "      <td>0.060908</td>\n",
       "      <td>0.055276</td>\n",
       "      <td>0.059132</td>\n",
       "      <td>0.054798</td>\n",
       "    </tr>\n",
       "    <tr>\n",
       "      <th>2</th>\n",
       "      <td>4</td>\n",
       "      <td>D:20210822083603+00'00'</td>\n",
       "      <td>0</td>\n",
       "      <td>Examination_of_Witnesses_Sept_2003_-_Q1-19.pdf</td>\n",
       "      <td>4</td>\n",
       "      <td>8 months I shall be able to meet frequently wi...</td>\n",
       "      <td>0.058416</td>\n",
       "      <td>0.066560</td>\n",
       "      <td>0.067657</td>\n",
       "      <td>0.074964</td>\n",
       "      <td>...</td>\n",
       "      <td>0.096682</td>\n",
       "      <td>0.072135</td>\n",
       "      <td>0.062945</td>\n",
       "      <td>0.057784</td>\n",
       "      <td>0.076686</td>\n",
       "      <td>0.063779</td>\n",
       "      <td>0.058246</td>\n",
       "      <td>0.061903</td>\n",
       "      <td>0.065554</td>\n",
       "      <td>0.058407</td>\n",
       "    </tr>\n",
       "    <tr>\n",
       "      <th>3</th>\n",
       "      <td>5</td>\n",
       "      <td>D:20210822083603+00'00'</td>\n",
       "      <td>0</td>\n",
       "      <td>Examination_of_Witnesses_Sept_2003_-_Q1-19.pdf</td>\n",
       "      <td>5</td>\n",
       "      <td>The first thing I should like to say is that I...</td>\n",
       "      <td>0.036563</td>\n",
       "      <td>0.042053</td>\n",
       "      <td>0.081075</td>\n",
       "      <td>0.027618</td>\n",
       "      <td>...</td>\n",
       "      <td>0.400027</td>\n",
       "      <td>0.024713</td>\n",
       "      <td>0.025360</td>\n",
       "      <td>0.051575</td>\n",
       "      <td>0.025596</td>\n",
       "      <td>0.037690</td>\n",
       "      <td>0.026853</td>\n",
       "      <td>0.123473</td>\n",
       "      <td>0.040269</td>\n",
       "      <td>0.027735</td>\n",
       "    </tr>\n",
       "    <tr>\n",
       "      <th>4</th>\n",
       "      <td>6</td>\n",
       "      <td>D:20210822083603+00'00'</td>\n",
       "      <td>0</td>\n",
       "      <td>Examination_of_Witnesses_Sept_2003_-_Q1-19.pdf</td>\n",
       "      <td>6</td>\n",
       "      <td>Really the backdrop is that I believe in the G...</td>\n",
       "      <td>0.054045</td>\n",
       "      <td>0.070232</td>\n",
       "      <td>0.073157</td>\n",
       "      <td>0.043558</td>\n",
       "      <td>...</td>\n",
       "      <td>0.125000</td>\n",
       "      <td>0.034828</td>\n",
       "      <td>0.074170</td>\n",
       "      <td>0.084799</td>\n",
       "      <td>0.046659</td>\n",
       "      <td>0.064144</td>\n",
       "      <td>0.054329</td>\n",
       "      <td>0.071765</td>\n",
       "      <td>0.088206</td>\n",
       "      <td>0.057285</td>\n",
       "    </tr>\n",
       "    <tr>\n",
       "      <th>...</th>\n",
       "      <td>...</td>\n",
       "      <td>...</td>\n",
       "      <td>...</td>\n",
       "      <td>...</td>\n",
       "      <td>...</td>\n",
       "      <td>...</td>\n",
       "      <td>...</td>\n",
       "      <td>...</td>\n",
       "      <td>...</td>\n",
       "      <td>...</td>\n",
       "      <td>...</td>\n",
       "      <td>...</td>\n",
       "      <td>...</td>\n",
       "      <td>...</td>\n",
       "      <td>...</td>\n",
       "      <td>...</td>\n",
       "      <td>...</td>\n",
       "      <td>...</td>\n",
       "      <td>...</td>\n",
       "      <td>...</td>\n",
       "      <td>...</td>\n",
       "    </tr>\n",
       "    <tr>\n",
       "      <th>17709</th>\n",
       "      <td>21631</td>\n",
       "      <td>D:20210822084546+00'00'</td>\n",
       "      <td>168</td>\n",
       "      <td>Written_evidence_submitted_by_Youth_Sport_Trus...</td>\n",
       "      <td>37</td>\n",
       "      <td>7.3  When the impact of Olympics and Paralympi...</td>\n",
       "      <td>0.041718</td>\n",
       "      <td>0.054527</td>\n",
       "      <td>0.046149</td>\n",
       "      <td>0.053871</td>\n",
       "      <td>...</td>\n",
       "      <td>0.044309</td>\n",
       "      <td>0.066878</td>\n",
       "      <td>0.067978</td>\n",
       "      <td>0.045310</td>\n",
       "      <td>0.049543</td>\n",
       "      <td>0.048153</td>\n",
       "      <td>0.043755</td>\n",
       "      <td>0.234817</td>\n",
       "      <td>0.064371</td>\n",
       "      <td>0.065416</td>\n",
       "    </tr>\n",
       "    <tr>\n",
       "      <th>17710</th>\n",
       "      <td>21633</td>\n",
       "      <td>D:20210822084546+00'00'</td>\n",
       "      <td>168</td>\n",
       "      <td>Written_evidence_submitted_by_Youth_Sport_Trus...</td>\n",
       "      <td>39</td>\n",
       "      <td>11   2007-08 School Sport Survey.     12   As ...</td>\n",
       "      <td>0.050951</td>\n",
       "      <td>0.063548</td>\n",
       "      <td>0.065188</td>\n",
       "      <td>0.054643</td>\n",
       "      <td>...</td>\n",
       "      <td>0.063866</td>\n",
       "      <td>0.049182</td>\n",
       "      <td>0.064142</td>\n",
       "      <td>0.060112</td>\n",
       "      <td>0.060950</td>\n",
       "      <td>0.055253</td>\n",
       "      <td>0.052571</td>\n",
       "      <td>0.163371</td>\n",
       "      <td>0.067487</td>\n",
       "      <td>0.050939</td>\n",
       "    </tr>\n",
       "    <tr>\n",
       "      <th>17711</th>\n",
       "      <td>21634</td>\n",
       "      <td>D:20210822084546+00'00'</td>\n",
       "      <td>168</td>\n",
       "      <td>Written_evidence_submitted_by_Youth_Sport_Trus...</td>\n",
       "      <td>40</td>\n",
       "      <td>13   Gold Young Ambassadors work across School...</td>\n",
       "      <td>0.059381</td>\n",
       "      <td>0.069187</td>\n",
       "      <td>0.059225</td>\n",
       "      <td>0.056139</td>\n",
       "      <td>...</td>\n",
       "      <td>0.057528</td>\n",
       "      <td>0.055017</td>\n",
       "      <td>0.112016</td>\n",
       "      <td>0.052689</td>\n",
       "      <td>0.056770</td>\n",
       "      <td>0.056151</td>\n",
       "      <td>0.062635</td>\n",
       "      <td>0.101657</td>\n",
       "      <td>0.065263</td>\n",
       "      <td>0.058240</td>\n",
       "    </tr>\n",
       "    <tr>\n",
       "      <th>17712</th>\n",
       "      <td>21635</td>\n",
       "      <td>D:20210822084546+00'00'</td>\n",
       "      <td>168</td>\n",
       "      <td>Written_evidence_submitted_by_Youth_Sport_Trus...</td>\n",
       "      <td>41</td>\n",
       "      <td>14   From national data supplied by Department...</td>\n",
       "      <td>0.056593</td>\n",
       "      <td>0.061943</td>\n",
       "      <td>0.063379</td>\n",
       "      <td>0.066049</td>\n",
       "      <td>...</td>\n",
       "      <td>0.061020</td>\n",
       "      <td>0.073316</td>\n",
       "      <td>0.073771</td>\n",
       "      <td>0.058207</td>\n",
       "      <td>0.071526</td>\n",
       "      <td>0.062140</td>\n",
       "      <td>0.057978</td>\n",
       "      <td>0.072690</td>\n",
       "      <td>0.063120</td>\n",
       "      <td>0.063438</td>\n",
       "    </tr>\n",
       "    <tr>\n",
       "      <th>17713</th>\n",
       "      <td>21637</td>\n",
       "      <td>D:20210822084546+00'00'</td>\n",
       "      <td>168</td>\n",
       "      <td>Written_evidence_submitted_by_Youth_Sport_Trus...</td>\n",
       "      <td>43</td>\n",
       "      <td>5   The impact of School Sport Partnerships on...</td>\n",
       "      <td>0.055299</td>\n",
       "      <td>0.067567</td>\n",
       "      <td>0.058876</td>\n",
       "      <td>0.058598</td>\n",
       "      <td>...</td>\n",
       "      <td>0.058299</td>\n",
       "      <td>0.059638</td>\n",
       "      <td>0.064948</td>\n",
       "      <td>0.059347</td>\n",
       "      <td>0.058672</td>\n",
       "      <td>0.060607</td>\n",
       "      <td>0.055774</td>\n",
       "      <td>0.136877</td>\n",
       "      <td>0.065246</td>\n",
       "      <td>0.071475</td>\n",
       "    </tr>\n",
       "  </tbody>\n",
       "</table>\n",
       "<p>17714 rows × 21 columns</p>\n",
       "</div>"
      ],
      "text/plain": [
       "       index             creationDate  document_id  \\\n",
       "0          2  D:20210822083603+00'00'            0   \n",
       "1          3  D:20210822083603+00'00'            0   \n",
       "2          4  D:20210822083603+00'00'            0   \n",
       "3          5  D:20210822083603+00'00'            0   \n",
       "4          6  D:20210822083603+00'00'            0   \n",
       "...      ...                      ...          ...   \n",
       "17709  21631  D:20210822084546+00'00'          168   \n",
       "17710  21633  D:20210822084546+00'00'          168   \n",
       "17711  21634  D:20210822084546+00'00'          168   \n",
       "17712  21635  D:20210822084546+00'00'          168   \n",
       "17713  21637  D:20210822084546+00'00'          168   \n",
       "\n",
       "                                               file_name para_id  \\\n",
       "0         Examination_of_Witnesses_Sept_2003_-_Q1-19.pdf       2   \n",
       "1         Examination_of_Witnesses_Sept_2003_-_Q1-19.pdf       3   \n",
       "2         Examination_of_Witnesses_Sept_2003_-_Q1-19.pdf       4   \n",
       "3         Examination_of_Witnesses_Sept_2003_-_Q1-19.pdf       5   \n",
       "4         Examination_of_Witnesses_Sept_2003_-_Q1-19.pdf       6   \n",
       "...                                                  ...     ...   \n",
       "17709  Written_evidence_submitted_by_Youth_Sport_Trus...      37   \n",
       "17710  Written_evidence_submitted_by_Youth_Sport_Trus...      39   \n",
       "17711  Written_evidence_submitted_by_Youth_Sport_Trus...      40   \n",
       "17712  Written_evidence_submitted_by_Youth_Sport_Trus...      41   \n",
       "17713  Written_evidence_submitted_by_Youth_Sport_Trus...      43   \n",
       "\n",
       "                                              paragraphs         1         2  \\\n",
       "0      MS BARBARA CASSANI Q1 Chairman: Good morning, ...  0.052466  0.060493   \n",
       "1      Ms Cassani: Thank you very much. Thank you ver...  0.059793  0.063920   \n",
       "2      8 months I shall be able to meet frequently wi...  0.058416  0.066560   \n",
       "3      The first thing I should like to say is that I...  0.036563  0.042053   \n",
       "4      Really the backdrop is that I believe in the G...  0.054045  0.070232   \n",
       "...                                                  ...       ...       ...   \n",
       "17709  7.3  When the impact of Olympics and Paralympi...  0.041718  0.054527   \n",
       "17710  11   2007-08 School Sport Survey.     12   As ...  0.050951  0.063548   \n",
       "17711  13   Gold Young Ambassadors work across School...  0.059381  0.069187   \n",
       "17712  14   From national data supplied by Department...  0.056593  0.061943   \n",
       "17713  5   The impact of School Sport Partnerships on...  0.055299  0.067567   \n",
       "\n",
       "              3         4  ...         6         7         8         9  \\\n",
       "0      0.086755  0.044444  ...  0.198510  0.068130  0.043441  0.077602   \n",
       "1      0.094343  0.056322  ...  0.147986  0.064243  0.053368  0.053634   \n",
       "2      0.067657  0.074964  ...  0.096682  0.072135  0.062945  0.057784   \n",
       "3      0.081075  0.027618  ...  0.400027  0.024713  0.025360  0.051575   \n",
       "4      0.073157  0.043558  ...  0.125000  0.034828  0.074170  0.084799   \n",
       "...         ...       ...  ...       ...       ...       ...       ...   \n",
       "17709  0.046149  0.053871  ...  0.044309  0.066878  0.067978  0.045310   \n",
       "17710  0.065188  0.054643  ...  0.063866  0.049182  0.064142  0.060112   \n",
       "17711  0.059225  0.056139  ...  0.057528  0.055017  0.112016  0.052689   \n",
       "17712  0.063379  0.066049  ...  0.061020  0.073316  0.073771  0.058207   \n",
       "17713  0.058876  0.058598  ...  0.058299  0.059638  0.064948  0.059347   \n",
       "\n",
       "             10        11        12        13        14        15  \n",
       "0      0.047930  0.090144  0.043446  0.048106  0.052635  0.043472  \n",
       "1      0.055082  0.064897  0.060908  0.055276  0.059132  0.054798  \n",
       "2      0.076686  0.063779  0.058246  0.061903  0.065554  0.058407  \n",
       "3      0.025596  0.037690  0.026853  0.123473  0.040269  0.027735  \n",
       "4      0.046659  0.064144  0.054329  0.071765  0.088206  0.057285  \n",
       "...         ...       ...       ...       ...       ...       ...  \n",
       "17709  0.049543  0.048153  0.043755  0.234817  0.064371  0.065416  \n",
       "17710  0.060950  0.055253  0.052571  0.163371  0.067487  0.050939  \n",
       "17711  0.056770  0.056151  0.062635  0.101657  0.065263  0.058240  \n",
       "17712  0.071526  0.062140  0.057978  0.072690  0.063120  0.063438  \n",
       "17713  0.058672  0.060607  0.055774  0.136877  0.065246  0.071475  \n",
       "\n",
       "[17714 rows x 21 columns]"
      ]
     },
     "execution_count": 235,
     "metadata": {},
     "output_type": "execute_result"
    }
   ],
   "source": [
    "# rename the topic IDs to ensure they are as same as the topic IDs in the pyLDAvis\n",
    "df_topic_para = df_topic_para.rename(columns = dict(zip(original_topic_id, new_topic_id)))\n",
    "\n",
    "# topic distribution of paragraphs\n",
    "df_topic_para1_1 = pd.merge(df_para, df_topic_para, how = 'left', left_index=True, right_index=True)\n",
    "df_topic_para1_1"
   ]
  },
  {
   "cell_type": "code",
   "execution_count": 236,
   "metadata": {},
   "outputs": [],
   "source": [
    "# save the result to disk\n",
    "df_topic_para1_1.to_pickle('./df_topic_para_Olympics.pkl')"
   ]
  },
  {
   "cell_type": "code",
   "execution_count": 237,
   "metadata": {},
   "outputs": [],
   "source": [
    "# load the result from disk\n",
    "df_topic_para1 = pd.read_pickle('./df_topic_para_Olympics.pkl') "
   ]
  },
  {
   "cell_type": "code",
   "execution_count": 238,
   "metadata": {},
   "outputs": [],
   "source": [
    "# drop the paragraphs with high frequency but meaningless for interperation based on the extraction of prototypical paragraphs below\n",
    "list_remove_para = [13309, 12966]                                # input the index you want to drop\n",
    "df_topic_para2 = df_topic_para1.copy().drop(list_remove_para)"
   ]
  },
  {
   "cell_type": "markdown",
   "metadata": {},
   "source": [
    "### 5.3.2. N most prototypical paragraphs overall"
   ]
  },
  {
   "cell_type": "code",
   "execution_count": 239,
   "metadata": {},
   "outputs": [],
   "source": [
    "df_topic_para2_n = df_topic_para2.copy()\n",
    "df_topic_para2_n['highest_p'] = df_topic_para2_n.iloc[:, 6:].max(axis = 1)          # get the highest probability among the topic distribution of each paragraph\n",
    "df_topic_para2_n['salient_topic'] = df_topic_para2_n.iloc[:, 6:].idxmax(axis = 1)    # get the corresponding topic id\n",
    "df_topic_para2_n = df_topic_para2_n[['paragraphs', 'salient_topic', 'highest_p']]"
   ]
  },
  {
   "cell_type": "code",
   "execution_count": 240,
   "metadata": {},
   "outputs": [
    {
     "data": {
      "text/html": [
       "<style  type=\"text/css\" >\n",
       "#T_562c1_row0_col0,#T_562c1_row1_col0,#T_562c1_row2_col0,#T_562c1_row3_col0,#T_562c1_row4_col0{\n",
       "            width:  1000px;\n",
       "            length:  50px;\n",
       "        }</style><table id=\"T_562c1_\" ><thead>    <tr>        <th class=\"blank level0\" ></th>        <th class=\"col_heading level0 col0\" >paragraphs</th>        <th class=\"col_heading level0 col1\" >salient_topic</th>        <th class=\"col_heading level0 col2\" >highest_p</th>    </tr></thead><tbody>\n",
       "                <tr>\n",
       "                        <th id=\"T_562c1_level0_row0\" class=\"row_heading level0 row0\" >17552</th>\n",
       "                        <td id=\"T_562c1_row0_col0\" class=\"data row0 col0\" >4. Most clubs seem ill-prepared for enquiries from, and inclusion of, people with disabilities who wish to participate in the sport offered by the club. There is little or no support for specialist clubs who provide opportunities for sport that cannot be integrated ie wheelchair basketball or blind cricket! There is often nothing locally to support the child or their parent in accessing the specialist provision and this often involves their having to undertake extensive travel to specialist facilities or organisations catering for this group. There is poor information regarding availability etc and http://www.parasport.org.uk was established as a portal to provide pathway and provision information. The then Mayor of London published a strategy in 2007, which highlighted all these issues and to date there has been little, if any, action to redress these anomalies in London or in the rest of the country. DCSF have, in my view, shown no leadership regarding the legacy of 2012 and its impact on PE in schools and the inclusion of those with disabilities in core curriculum activities or sporting opportunities within or after school. DCMS held a legacy event in 2008 and again in April 2009 focusing on the legacy of the Games for those with disabilities. One outcome was to seek greater links between DWP, DCSF and themselves to ensure that joint strategies were developed and pathways established that enabled children to enjoy and participate in PE and sport within schools/after school clubs/integrated and specialist provision in the community, with good national talent forums and pathways established for those who wish to participate in sport at a higher level and finally, with governing bodies having clear inclusive programmes for sports men and women with disabilities active at a national and international level</td>\n",
       "                        <td id=\"T_562c1_row0_col1\" class=\"data row0 col1\" >5</td>\n",
       "                        <td id=\"T_562c1_row0_col2\" class=\"data row0 col2\" >0.657481</td>\n",
       "            </tr>\n",
       "            <tr>\n",
       "                        <th id=\"T_562c1_level0_row1\" class=\"row_heading level0 row1\" >4954</th>\n",
       "                        <td id=\"T_562c1_row1_col0\" class=\"data row1 col0\" >Stratford is a huge churn. We have done research into the nature of the flats that have gone up around Stratford—the better end—and they are being rented by people who work and basically it is a place to sleep and they go out and do other things, which is what people do when they are young and that is fine. What we could easily end up with is what we have ended up with elsewhere in the borough, which is a desert, with people not interested in the community and so we have a bunch of social tenants in there—not huge numbers—and no real community. I think we have to have a proper debate and discussion around what will happen with the rest of the housing. Ideally we want people who live there to buy and then continue to have an interest in the community. So any discussion about the Village I would argue needs to start with what happens to the private sector area because this has to work; if it does not work it can damage the rest of the Olympic area and the Olympic Park. We are now arguing, for example, for a Royal Park because we think that that will raise the whole standard of the area and people will get some sense of a better place, a place where it is really good to live. The OPLC understands that it needs to get housing and family housing and not just blocks of flats, so starting with that. Then you get to this question about what would the nature of the allocations be and we are about to have a big discussion with various partners where we talk about who would we move in. Certainly from a Newham point of view—because the Village is in Newham—we took a court case which opposed housing by need and were successful in turning the policy around, and the Government has now introduced a policy which would allow us to support people who are working into social housing because our view would tend to be if you have a low rent that is a great benefit if you are working and on a lower income, but if you are on benefit that is not much of a benefit at all. We are certainly at the moment having a discussion around allocations policy and there are plans to have it. We need to make the community work—start off with the community. I get very frustrated when I hear people talk about \"units\"; talk about the community that you are trying to create and how that will look. If we want to have this as a place that people want to live in in 100 years' time the community has to work. To do that you do not then take, for example, social housing for everybody that is not working together because we have evidence that that does not work, so if it does not work perhaps we should stop trying to do it. The nature of the allocation as to who moves in there is, I think, up for debate at the moment and all the people involved are willing to look at that in a radical way that will enable us to build a community there. But I will come back again, you can do that in the social and affordable rent side, what about the rented properties that you will end up with? People will invest and buy chunks off the plan and they will end up with a lot of people that do not necessarily spend a lot of time there. For me it is a very clear thing, this should be the responsibility of the OPLC, it should not be the responsibility of the ODA and the ODA should be handing over that responsibility to the OPLC tomorrow because the ODA has no locus or interest there. It is not that they are doing badly because these guys have built an Olympic site on time and on budget, they are doing a really good job from the point of view of doing what they were asked to do, but they will not be there after 2014 and we will. The OPLC should be the people who are actually involved in the Village now. I am very clear about that</td>\n",
       "                        <td id=\"T_562c1_row1_col1\" class=\"data row1 col1\" >6</td>\n",
       "                        <td id=\"T_562c1_row1_col2\" class=\"data row1 col2\" >0.613745</td>\n",
       "            </tr>\n",
       "            <tr>\n",
       "                        <th id=\"T_562c1_level0_row2\" class=\"row_heading level0 row2\" >17551</th>\n",
       "                        <td id=\"T_562c1_row2_col0\" class=\"data row2 col0\" >3. After school activities often exclude this group of children ie no possibility of inclusion in team sports such as football, cricket, rugby, basket ball etc., limited access to swimming baths, athletic fields etc. All of these sports are undertaken by people with a disability, but not now normally at school. Specialist schools did provide a massive range of sporting opportunities and sport played a major part of my own adjustment to disability. I learned about teamwork, was able to set individual goals, have competition to extend my abilities, occasionally experienced \"being a winner\" and had that thrill of competition. One example of efforts to redress this issue within a school setting is in Leeds, which has a programme of monthly sporting and physical activities arranged in school time for vision impaired children within the schools. One solution easily achieved would be for groups of schools to come together monthly to provide sporting and recreational activities for disabled children and young people within their schools</td>\n",
       "                        <td id=\"T_562c1_row2_col1\" class=\"data row2 col1\" >5</td>\n",
       "                        <td id=\"T_562c1_row2_col2\" class=\"data row2 col2\" >0.594580</td>\n",
       "            </tr>\n",
       "            <tr>\n",
       "                        <th id=\"T_562c1_level0_row3\" class=\"row_heading level0 row3\" >8304</th>\n",
       "                        <td id=\"T_562c1_row3_col0\" class=\"data row3 col0\" >You think that the assessment of risks is our best estimate of the most likely outcome of the budget as a whole. But actually the assessment of risk-and how we have compiled it-is this: we have not sought to estimate how likely it is that every risk arises. We just said, \"Let us think about every risk that could arise, and let us assume that they all arise and work out the likely cost of them all arising.\" On top of that, we said, \"And there will be some risks that we just cannot think about that are unknown unknowns. There will be some multiple consequentials if everything came together.\" So we end up with an estimate not of the most likely cost of the project, which is what the burden of paragraph 1 of the PAC Report understands it is, but an estimate of how much we would need to set aside in the very unlikely event that all risks arise and some more unknown risks arise as well. The purpose of that is not to get to an estimate of the likely outcome of the budget. Its purpose and why we do it is to see, against any reasonable view of the likely risk that might arise, even on an assumption that they all arise and some more unknown risks arise, whether we have enough money. The conclusion has always been, yes, we had. Against what is therefore, in my view, a conservative and prudent estimate, we had £36 million headroom at the time of the NAO Report. We had more, and indeed the picture over the six-month period since the original figures on which the NAO was recording this, is that the contingency has gone down by £27 million or so-we reckon, because these are provisional figures, but I want to give our best figures-and the assessed risks on that very conservative and prudent basis have gone down by £136 million. So the picture on the budget as a whole is that we are spending contingency significantly slower than risks are disappearing from the programme. That is why, without in any sense being complacent, I am confident that we will bring this in within budget, and I do not think that the budget is close to being used up</td>\n",
       "                        <td id=\"T_562c1_row3_col1\" class=\"data row3 col1\" >11</td>\n",
       "                        <td id=\"T_562c1_row3_col2\" class=\"data row3 col2\" >0.591896</td>\n",
       "            </tr>\n",
       "            <tr>\n",
       "                        <th id=\"T_562c1_level0_row4\" class=\"row_heading level0 row4\" >2847</th>\n",
       "                        <td id=\"T_562c1_row4_col0\" class=\"data row4 col0\" >9 The planning work has, however, identified new operational requirements and risks to delivery, with significant additional costs. In some cases, programme management information shows that planning is also behind schedule, although delivery bodies are seeking to mitigate delays. For example:Preparations for the London 2012 Olympic and Paralympic Games: Progress report December 2011 Summary 7•\t the Home Office is responsible for setting security requirements and funding LOCOG’s delivery of venue security: LOCOG is responsible for working out the operational implications of the requirements, including recruitment. In 2006, LOCOG estimated that 10,000 guards would be a reasonable basis to invite tenders from contractors and this informed the 2010 Spending Review settlement for venue security of £282 million. The guarding contract was let to G4S by LOCOG in December 2010. Detailed planning was undertaken by LOCOG and security partners only once the competition schedule and venues were finalised in early spring 2011. This planning, and the revised security requirements flowing from the implementation of the agreed security standards, have increased the peak requirement of guards to 23,700 and the likely cost to an estimated £553 million, a £271 million increase, although this sum is not yet finalised. The near doubling of the costs has increased the strain on the Public Sector Funding Package; •\t the increased guarding requirement is a significant recruitment challenge and means LOCOG is having to renegotiate its contractual requirements. In addition, the Home Office is in discussions with the Ministry of Defence about the provision of military personnel to act in security roles;•\t in accordance with its responsibilities under the 2006 Olympics and Paralympic Games Act, the Olympic Delivery Authority has produced a transport plan for the Games, with which other delivery bodies must cooperate. The Delivery Authority produced plans for transport operations in competition venues</td>\n",
       "                        <td id=\"T_562c1_row4_col1\" class=\"data row4 col1\" >4</td>\n",
       "                        <td id=\"T_562c1_row4_col2\" class=\"data row4 col2\" >0.583286</td>\n",
       "            </tr>\n",
       "    </tbody></table>"
      ],
      "text/plain": [
       "<pandas.io.formats.style.Styler at 0x1afa5561430>"
      ]
     },
     "execution_count": 240,
     "metadata": {},
     "output_type": "execute_result"
    }
   ],
   "source": [
    "N1 = 5   # Set N to get the N most prototypical paragraphs overall\n",
    "df_topic_para2_n.nlargest(N1,['highest_p']).style.set_properties(subset = ['paragraphs'], **{'width':'1000px', 'length': '50px'})"
   ]
  },
  {
   "cell_type": "markdown",
   "metadata": {},
   "source": [
    "### 5.3.3.  N most prototypical paragraphs where the belong() function is greater than the threshold L\n",
    "I followed the method of extraction of prototypical text suggested by PTBI (Marchetti and Puranam, 2020. p. 14). PTBI attempts to not only extract the prototypical documents to improve interpretability, but also to find the minimum number of prototypical documents for topic interpretation. The algorithm is shown as follows:\n",
    "1. Defines a threshold L  (L < ∈ [0,1]). For instance, we set L to be 0.5.\n",
    "2. For each topic, select the documents with the probability that they belong to the topic is not less than L (0.5). \n",
    "3. For each topic, check whether the number of documents selected is not less than 1/L. For instance, if L = 0.5, for each topic we need at least 2 documents for topic interpretation. This method weakens the limitation that a few documents have a high proportion of a topic is because of randomness.\n",
    "4. Compute the percentage of interpretable topics as described in step iii\n",
    "5. Change L, keep iterating and find the optimal L with which the percentage of interpretable topics is the highest. "
   ]
  },
  {
   "cell_type": "markdown",
   "metadata": {},
   "source": [
    "##### Indenfication of the optimal L and miminum number of paragraphs for topic interpretation"
   ]
  },
  {
   "cell_type": "code",
   "execution_count": 241,
   "metadata": {},
   "outputs": [],
   "source": [
    "List_num_doc = [x for x in range(1, 20, 1)] # generate a list of 1/L (minimum number of documents to interpret a topic)\n",
    "list_L = [1/x for x in List_num_doc]        # generate a list of L"
   ]
  },
  {
   "cell_type": "code",
   "execution_count": 242,
   "metadata": {},
   "outputs": [],
   "source": [
    "# create the function for computing the percentage of potentially interpretable topics against parameter L\n",
    "def perc(i, df):\n",
    "    list_num_topics = []\n",
    "    for j in df:                                  \n",
    "        topic_filter = df[j] >= i         \n",
    "        m = df[j][topic_filter].count()           \n",
    "        list_num_topics.append(m)                                             \n",
    "        count1 = sum(map(lambda x : x >= 1/i, list_num_topics))                                     \n",
    "        perc1 = count1 / k\n",
    "    return(perc1)"
   ]
  },
  {
   "cell_type": "markdown",
   "metadata": {},
   "source": [
    "The following chart shows that when L = 0.25, the percentage of interpretable topics is 86.7%, so we set L = 0.25 - ie, each topic needs at least 4 (1/0.25) paragraphs to be interpreted.\n",
    "It is worth noting that L is inversely proportional to the mininum number of paragaphs of each topic for interpreation (1/L), in other words, the lower the threshold L is, the more paragraphs we need to interpret the topics. Although when L = 0.1 the percentage of interpratable topics reaches the highest point (100%), the mininum number of paragaphs of each topic for interpreation also rises to 10 (1/0.1), which increases the workload of interpretation."
   ]
  },
  {
   "cell_type": "code",
   "execution_count": 243,
   "metadata": {},
   "outputs": [
    {
     "data": {
      "application/vnd.plotly.v1+json": {
       "config": {
        "plotlyServerURL": "https://plotly.com"
       },
       "data": [
        {
         "hovertemplate": "Parameter L=%{x}<br>Percentage of interpretable topics=%{y}<extra></extra>",
         "legendgroup": "",
         "line": {
          "color": "#636efa",
          "dash": "solid"
         },
         "mode": "lines+markers",
         "name": "",
         "orientation": "v",
         "showlegend": false,
         "type": "scatter",
         "x": [
          1,
          0.5,
          0.3333333333333333,
          0.25,
          0.2,
          0.16666666666666666,
          0.14285714285714285,
          0.125,
          0.1111111111111111,
          0.1,
          0.09090909090909091,
          0.08333333333333333,
          0.07692307692307693,
          0.07142857142857142,
          0.06666666666666667,
          0.0625,
          0.058823529411764705,
          0.05555555555555555,
          0.05263157894736842
         ],
         "xaxis": "x",
         "y": [
          0,
          0.26666666666666666,
          0.7333333333333333,
          0.8666666666666667,
          0.8666666666666667,
          0.8666666666666667,
          0.8666666666666667,
          0.8666666666666667,
          0.8666666666666667,
          1,
          1,
          1,
          1,
          1,
          1,
          1,
          1,
          1,
          1
         ],
         "yaxis": "y"
        }
       ],
       "layout": {
        "autosize": false,
        "height": 400,
        "legend": {
         "tracegroupgap": 0
        },
        "template": {
         "data": {
          "bar": [
           {
            "error_x": {
             "color": "#2a3f5f"
            },
            "error_y": {
             "color": "#2a3f5f"
            },
            "marker": {
             "line": {
              "color": "#E5ECF6",
              "width": 0.5
             }
            },
            "type": "bar"
           }
          ],
          "barpolar": [
           {
            "marker": {
             "line": {
              "color": "#E5ECF6",
              "width": 0.5
             }
            },
            "type": "barpolar"
           }
          ],
          "carpet": [
           {
            "aaxis": {
             "endlinecolor": "#2a3f5f",
             "gridcolor": "white",
             "linecolor": "white",
             "minorgridcolor": "white",
             "startlinecolor": "#2a3f5f"
            },
            "baxis": {
             "endlinecolor": "#2a3f5f",
             "gridcolor": "white",
             "linecolor": "white",
             "minorgridcolor": "white",
             "startlinecolor": "#2a3f5f"
            },
            "type": "carpet"
           }
          ],
          "choropleth": [
           {
            "colorbar": {
             "outlinewidth": 0,
             "ticks": ""
            },
            "type": "choropleth"
           }
          ],
          "contour": [
           {
            "colorbar": {
             "outlinewidth": 0,
             "ticks": ""
            },
            "colorscale": [
             [
              0,
              "#0d0887"
             ],
             [
              0.1111111111111111,
              "#46039f"
             ],
             [
              0.2222222222222222,
              "#7201a8"
             ],
             [
              0.3333333333333333,
              "#9c179e"
             ],
             [
              0.4444444444444444,
              "#bd3786"
             ],
             [
              0.5555555555555556,
              "#d8576b"
             ],
             [
              0.6666666666666666,
              "#ed7953"
             ],
             [
              0.7777777777777778,
              "#fb9f3a"
             ],
             [
              0.8888888888888888,
              "#fdca26"
             ],
             [
              1,
              "#f0f921"
             ]
            ],
            "type": "contour"
           }
          ],
          "contourcarpet": [
           {
            "colorbar": {
             "outlinewidth": 0,
             "ticks": ""
            },
            "type": "contourcarpet"
           }
          ],
          "heatmap": [
           {
            "colorbar": {
             "outlinewidth": 0,
             "ticks": ""
            },
            "colorscale": [
             [
              0,
              "#0d0887"
             ],
             [
              0.1111111111111111,
              "#46039f"
             ],
             [
              0.2222222222222222,
              "#7201a8"
             ],
             [
              0.3333333333333333,
              "#9c179e"
             ],
             [
              0.4444444444444444,
              "#bd3786"
             ],
             [
              0.5555555555555556,
              "#d8576b"
             ],
             [
              0.6666666666666666,
              "#ed7953"
             ],
             [
              0.7777777777777778,
              "#fb9f3a"
             ],
             [
              0.8888888888888888,
              "#fdca26"
             ],
             [
              1,
              "#f0f921"
             ]
            ],
            "type": "heatmap"
           }
          ],
          "heatmapgl": [
           {
            "colorbar": {
             "outlinewidth": 0,
             "ticks": ""
            },
            "colorscale": [
             [
              0,
              "#0d0887"
             ],
             [
              0.1111111111111111,
              "#46039f"
             ],
             [
              0.2222222222222222,
              "#7201a8"
             ],
             [
              0.3333333333333333,
              "#9c179e"
             ],
             [
              0.4444444444444444,
              "#bd3786"
             ],
             [
              0.5555555555555556,
              "#d8576b"
             ],
             [
              0.6666666666666666,
              "#ed7953"
             ],
             [
              0.7777777777777778,
              "#fb9f3a"
             ],
             [
              0.8888888888888888,
              "#fdca26"
             ],
             [
              1,
              "#f0f921"
             ]
            ],
            "type": "heatmapgl"
           }
          ],
          "histogram": [
           {
            "marker": {
             "colorbar": {
              "outlinewidth": 0,
              "ticks": ""
             }
            },
            "type": "histogram"
           }
          ],
          "histogram2d": [
           {
            "colorbar": {
             "outlinewidth": 0,
             "ticks": ""
            },
            "colorscale": [
             [
              0,
              "#0d0887"
             ],
             [
              0.1111111111111111,
              "#46039f"
             ],
             [
              0.2222222222222222,
              "#7201a8"
             ],
             [
              0.3333333333333333,
              "#9c179e"
             ],
             [
              0.4444444444444444,
              "#bd3786"
             ],
             [
              0.5555555555555556,
              "#d8576b"
             ],
             [
              0.6666666666666666,
              "#ed7953"
             ],
             [
              0.7777777777777778,
              "#fb9f3a"
             ],
             [
              0.8888888888888888,
              "#fdca26"
             ],
             [
              1,
              "#f0f921"
             ]
            ],
            "type": "histogram2d"
           }
          ],
          "histogram2dcontour": [
           {
            "colorbar": {
             "outlinewidth": 0,
             "ticks": ""
            },
            "colorscale": [
             [
              0,
              "#0d0887"
             ],
             [
              0.1111111111111111,
              "#46039f"
             ],
             [
              0.2222222222222222,
              "#7201a8"
             ],
             [
              0.3333333333333333,
              "#9c179e"
             ],
             [
              0.4444444444444444,
              "#bd3786"
             ],
             [
              0.5555555555555556,
              "#d8576b"
             ],
             [
              0.6666666666666666,
              "#ed7953"
             ],
             [
              0.7777777777777778,
              "#fb9f3a"
             ],
             [
              0.8888888888888888,
              "#fdca26"
             ],
             [
              1,
              "#f0f921"
             ]
            ],
            "type": "histogram2dcontour"
           }
          ],
          "mesh3d": [
           {
            "colorbar": {
             "outlinewidth": 0,
             "ticks": ""
            },
            "type": "mesh3d"
           }
          ],
          "parcoords": [
           {
            "line": {
             "colorbar": {
              "outlinewidth": 0,
              "ticks": ""
             }
            },
            "type": "parcoords"
           }
          ],
          "pie": [
           {
            "automargin": true,
            "type": "pie"
           }
          ],
          "scatter": [
           {
            "marker": {
             "colorbar": {
              "outlinewidth": 0,
              "ticks": ""
             }
            },
            "type": "scatter"
           }
          ],
          "scatter3d": [
           {
            "line": {
             "colorbar": {
              "outlinewidth": 0,
              "ticks": ""
             }
            },
            "marker": {
             "colorbar": {
              "outlinewidth": 0,
              "ticks": ""
             }
            },
            "type": "scatter3d"
           }
          ],
          "scattercarpet": [
           {
            "marker": {
             "colorbar": {
              "outlinewidth": 0,
              "ticks": ""
             }
            },
            "type": "scattercarpet"
           }
          ],
          "scattergeo": [
           {
            "marker": {
             "colorbar": {
              "outlinewidth": 0,
              "ticks": ""
             }
            },
            "type": "scattergeo"
           }
          ],
          "scattergl": [
           {
            "marker": {
             "colorbar": {
              "outlinewidth": 0,
              "ticks": ""
             }
            },
            "type": "scattergl"
           }
          ],
          "scattermapbox": [
           {
            "marker": {
             "colorbar": {
              "outlinewidth": 0,
              "ticks": ""
             }
            },
            "type": "scattermapbox"
           }
          ],
          "scatterpolar": [
           {
            "marker": {
             "colorbar": {
              "outlinewidth": 0,
              "ticks": ""
             }
            },
            "type": "scatterpolar"
           }
          ],
          "scatterpolargl": [
           {
            "marker": {
             "colorbar": {
              "outlinewidth": 0,
              "ticks": ""
             }
            },
            "type": "scatterpolargl"
           }
          ],
          "scatterternary": [
           {
            "marker": {
             "colorbar": {
              "outlinewidth": 0,
              "ticks": ""
             }
            },
            "type": "scatterternary"
           }
          ],
          "surface": [
           {
            "colorbar": {
             "outlinewidth": 0,
             "ticks": ""
            },
            "colorscale": [
             [
              0,
              "#0d0887"
             ],
             [
              0.1111111111111111,
              "#46039f"
             ],
             [
              0.2222222222222222,
              "#7201a8"
             ],
             [
              0.3333333333333333,
              "#9c179e"
             ],
             [
              0.4444444444444444,
              "#bd3786"
             ],
             [
              0.5555555555555556,
              "#d8576b"
             ],
             [
              0.6666666666666666,
              "#ed7953"
             ],
             [
              0.7777777777777778,
              "#fb9f3a"
             ],
             [
              0.8888888888888888,
              "#fdca26"
             ],
             [
              1,
              "#f0f921"
             ]
            ],
            "type": "surface"
           }
          ],
          "table": [
           {
            "cells": {
             "fill": {
              "color": "#EBF0F8"
             },
             "line": {
              "color": "white"
             }
            },
            "header": {
             "fill": {
              "color": "#C8D4E3"
             },
             "line": {
              "color": "white"
             }
            },
            "type": "table"
           }
          ]
         },
         "layout": {
          "annotationdefaults": {
           "arrowcolor": "#2a3f5f",
           "arrowhead": 0,
           "arrowwidth": 1
          },
          "autotypenumbers": "strict",
          "coloraxis": {
           "colorbar": {
            "outlinewidth": 0,
            "ticks": ""
           }
          },
          "colorscale": {
           "diverging": [
            [
             0,
             "#8e0152"
            ],
            [
             0.1,
             "#c51b7d"
            ],
            [
             0.2,
             "#de77ae"
            ],
            [
             0.3,
             "#f1b6da"
            ],
            [
             0.4,
             "#fde0ef"
            ],
            [
             0.5,
             "#f7f7f7"
            ],
            [
             0.6,
             "#e6f5d0"
            ],
            [
             0.7,
             "#b8e186"
            ],
            [
             0.8,
             "#7fbc41"
            ],
            [
             0.9,
             "#4d9221"
            ],
            [
             1,
             "#276419"
            ]
           ],
           "sequential": [
            [
             0,
             "#0d0887"
            ],
            [
             0.1111111111111111,
             "#46039f"
            ],
            [
             0.2222222222222222,
             "#7201a8"
            ],
            [
             0.3333333333333333,
             "#9c179e"
            ],
            [
             0.4444444444444444,
             "#bd3786"
            ],
            [
             0.5555555555555556,
             "#d8576b"
            ],
            [
             0.6666666666666666,
             "#ed7953"
            ],
            [
             0.7777777777777778,
             "#fb9f3a"
            ],
            [
             0.8888888888888888,
             "#fdca26"
            ],
            [
             1,
             "#f0f921"
            ]
           ],
           "sequentialminus": [
            [
             0,
             "#0d0887"
            ],
            [
             0.1111111111111111,
             "#46039f"
            ],
            [
             0.2222222222222222,
             "#7201a8"
            ],
            [
             0.3333333333333333,
             "#9c179e"
            ],
            [
             0.4444444444444444,
             "#bd3786"
            ],
            [
             0.5555555555555556,
             "#d8576b"
            ],
            [
             0.6666666666666666,
             "#ed7953"
            ],
            [
             0.7777777777777778,
             "#fb9f3a"
            ],
            [
             0.8888888888888888,
             "#fdca26"
            ],
            [
             1,
             "#f0f921"
            ]
           ]
          },
          "colorway": [
           "#636efa",
           "#EF553B",
           "#00cc96",
           "#ab63fa",
           "#FFA15A",
           "#19d3f3",
           "#FF6692",
           "#B6E880",
           "#FF97FF",
           "#FECB52"
          ],
          "font": {
           "color": "#2a3f5f"
          },
          "geo": {
           "bgcolor": "white",
           "lakecolor": "white",
           "landcolor": "#E5ECF6",
           "showlakes": true,
           "showland": true,
           "subunitcolor": "white"
          },
          "hoverlabel": {
           "align": "left"
          },
          "hovermode": "closest",
          "mapbox": {
           "style": "light"
          },
          "paper_bgcolor": "white",
          "plot_bgcolor": "#E5ECF6",
          "polar": {
           "angularaxis": {
            "gridcolor": "white",
            "linecolor": "white",
            "ticks": ""
           },
           "bgcolor": "#E5ECF6",
           "radialaxis": {
            "gridcolor": "white",
            "linecolor": "white",
            "ticks": ""
           }
          },
          "scene": {
           "xaxis": {
            "backgroundcolor": "#E5ECF6",
            "gridcolor": "white",
            "gridwidth": 2,
            "linecolor": "white",
            "showbackground": true,
            "ticks": "",
            "zerolinecolor": "white"
           },
           "yaxis": {
            "backgroundcolor": "#E5ECF6",
            "gridcolor": "white",
            "gridwidth": 2,
            "linecolor": "white",
            "showbackground": true,
            "ticks": "",
            "zerolinecolor": "white"
           },
           "zaxis": {
            "backgroundcolor": "#E5ECF6",
            "gridcolor": "white",
            "gridwidth": 2,
            "linecolor": "white",
            "showbackground": true,
            "ticks": "",
            "zerolinecolor": "white"
           }
          },
          "shapedefaults": {
           "line": {
            "color": "#2a3f5f"
           }
          },
          "ternary": {
           "aaxis": {
            "gridcolor": "white",
            "linecolor": "white",
            "ticks": ""
           },
           "baxis": {
            "gridcolor": "white",
            "linecolor": "white",
            "ticks": ""
           },
           "bgcolor": "#E5ECF6",
           "caxis": {
            "gridcolor": "white",
            "linecolor": "white",
            "ticks": ""
           }
          },
          "title": {
           "x": 0.05
          },
          "xaxis": {
           "automargin": true,
           "gridcolor": "white",
           "linecolor": "white",
           "ticks": "",
           "title": {
            "standoff": 15
           },
           "zerolinecolor": "white",
           "zerolinewidth": 2
          },
          "yaxis": {
           "automargin": true,
           "gridcolor": "white",
           "linecolor": "white",
           "ticks": "",
           "title": {
            "standoff": 15
           },
           "zerolinecolor": "white",
           "zerolinewidth": 2
          }
         }
        },
        "title": {
         "text": "Percentage of interpretable topics (paragraph-based )"
        },
        "width": 800,
        "xaxis": {
         "anchor": "y",
         "domain": [
          0,
          1
         ],
         "title": {
          "text": "Parameter L"
         }
        },
        "yaxis": {
         "anchor": "x",
         "domain": [
          0,
          1
         ],
         "title": {
          "text": "Percentage of interpretable topics"
         }
        }
       }
      },
      "text/html": [
       "<div>                            <div id=\"2a53a63a-4f53-4c0b-b712-9d7afb421da6\" class=\"plotly-graph-div\" style=\"height:400px; width:800px;\"></div>            <script type=\"text/javascript\">                require([\"plotly\"], function(Plotly) {                    window.PLOTLYENV=window.PLOTLYENV || {};                                    if (document.getElementById(\"2a53a63a-4f53-4c0b-b712-9d7afb421da6\")) {                    Plotly.newPlot(                        \"2a53a63a-4f53-4c0b-b712-9d7afb421da6\",                        [{\"hovertemplate\": \"Parameter L=%{x}<br>Percentage of interpretable topics=%{y}<extra></extra>\", \"legendgroup\": \"\", \"line\": {\"color\": \"#636efa\", \"dash\": \"solid\"}, \"mode\": \"lines+markers\", \"name\": \"\", \"orientation\": \"v\", \"showlegend\": false, \"type\": \"scatter\", \"x\": [1.0, 0.5, 0.3333333333333333, 0.25, 0.2, 0.16666666666666666, 0.14285714285714285, 0.125, 0.1111111111111111, 0.1, 0.09090909090909091, 0.08333333333333333, 0.07692307692307693, 0.07142857142857142, 0.06666666666666667, 0.0625, 0.058823529411764705, 0.05555555555555555, 0.05263157894736842], \"xaxis\": \"x\", \"y\": [0.0, 0.26666666666666666, 0.7333333333333333, 0.8666666666666667, 0.8666666666666667, 0.8666666666666667, 0.8666666666666667, 0.8666666666666667, 0.8666666666666667, 1.0, 1.0, 1.0, 1.0, 1.0, 1.0, 1.0, 1.0, 1.0, 1.0], \"yaxis\": \"y\"}],                        {\"autosize\": false, \"height\": 400, \"legend\": {\"tracegroupgap\": 0}, \"template\": {\"data\": {\"bar\": [{\"error_x\": {\"color\": \"#2a3f5f\"}, \"error_y\": {\"color\": \"#2a3f5f\"}, \"marker\": {\"line\": {\"color\": \"#E5ECF6\", \"width\": 0.5}}, \"type\": \"bar\"}], \"barpolar\": [{\"marker\": {\"line\": {\"color\": \"#E5ECF6\", \"width\": 0.5}}, \"type\": \"barpolar\"}], \"carpet\": [{\"aaxis\": {\"endlinecolor\": \"#2a3f5f\", \"gridcolor\": \"white\", \"linecolor\": \"white\", \"minorgridcolor\": \"white\", \"startlinecolor\": \"#2a3f5f\"}, \"baxis\": {\"endlinecolor\": \"#2a3f5f\", \"gridcolor\": \"white\", \"linecolor\": \"white\", \"minorgridcolor\": \"white\", \"startlinecolor\": \"#2a3f5f\"}, \"type\": \"carpet\"}], \"choropleth\": [{\"colorbar\": {\"outlinewidth\": 0, \"ticks\": \"\"}, \"type\": \"choropleth\"}], \"contour\": [{\"colorbar\": {\"outlinewidth\": 0, \"ticks\": \"\"}, \"colorscale\": [[0.0, \"#0d0887\"], [0.1111111111111111, \"#46039f\"], [0.2222222222222222, \"#7201a8\"], [0.3333333333333333, \"#9c179e\"], [0.4444444444444444, \"#bd3786\"], [0.5555555555555556, \"#d8576b\"], [0.6666666666666666, \"#ed7953\"], [0.7777777777777778, \"#fb9f3a\"], [0.8888888888888888, \"#fdca26\"], [1.0, \"#f0f921\"]], \"type\": \"contour\"}], \"contourcarpet\": [{\"colorbar\": {\"outlinewidth\": 0, \"ticks\": \"\"}, \"type\": \"contourcarpet\"}], \"heatmap\": [{\"colorbar\": {\"outlinewidth\": 0, \"ticks\": \"\"}, \"colorscale\": [[0.0, \"#0d0887\"], [0.1111111111111111, \"#46039f\"], [0.2222222222222222, \"#7201a8\"], [0.3333333333333333, \"#9c179e\"], [0.4444444444444444, \"#bd3786\"], [0.5555555555555556, \"#d8576b\"], [0.6666666666666666, \"#ed7953\"], [0.7777777777777778, \"#fb9f3a\"], [0.8888888888888888, \"#fdca26\"], [1.0, \"#f0f921\"]], \"type\": \"heatmap\"}], \"heatmapgl\": [{\"colorbar\": {\"outlinewidth\": 0, \"ticks\": \"\"}, \"colorscale\": [[0.0, \"#0d0887\"], [0.1111111111111111, \"#46039f\"], [0.2222222222222222, \"#7201a8\"], [0.3333333333333333, \"#9c179e\"], [0.4444444444444444, \"#bd3786\"], [0.5555555555555556, \"#d8576b\"], [0.6666666666666666, \"#ed7953\"], [0.7777777777777778, \"#fb9f3a\"], [0.8888888888888888, \"#fdca26\"], [1.0, \"#f0f921\"]], \"type\": \"heatmapgl\"}], \"histogram\": [{\"marker\": {\"colorbar\": {\"outlinewidth\": 0, \"ticks\": \"\"}}, \"type\": \"histogram\"}], \"histogram2d\": [{\"colorbar\": {\"outlinewidth\": 0, \"ticks\": \"\"}, \"colorscale\": [[0.0, \"#0d0887\"], [0.1111111111111111, \"#46039f\"], [0.2222222222222222, \"#7201a8\"], [0.3333333333333333, \"#9c179e\"], [0.4444444444444444, \"#bd3786\"], [0.5555555555555556, \"#d8576b\"], [0.6666666666666666, \"#ed7953\"], [0.7777777777777778, \"#fb9f3a\"], [0.8888888888888888, \"#fdca26\"], [1.0, \"#f0f921\"]], \"type\": \"histogram2d\"}], \"histogram2dcontour\": [{\"colorbar\": {\"outlinewidth\": 0, \"ticks\": \"\"}, \"colorscale\": [[0.0, \"#0d0887\"], [0.1111111111111111, \"#46039f\"], [0.2222222222222222, \"#7201a8\"], [0.3333333333333333, \"#9c179e\"], [0.4444444444444444, \"#bd3786\"], [0.5555555555555556, \"#d8576b\"], [0.6666666666666666, \"#ed7953\"], [0.7777777777777778, \"#fb9f3a\"], [0.8888888888888888, \"#fdca26\"], [1.0, \"#f0f921\"]], \"type\": \"histogram2dcontour\"}], \"mesh3d\": [{\"colorbar\": {\"outlinewidth\": 0, \"ticks\": \"\"}, \"type\": \"mesh3d\"}], \"parcoords\": [{\"line\": {\"colorbar\": {\"outlinewidth\": 0, \"ticks\": \"\"}}, \"type\": \"parcoords\"}], \"pie\": [{\"automargin\": true, \"type\": \"pie\"}], \"scatter\": [{\"marker\": {\"colorbar\": {\"outlinewidth\": 0, \"ticks\": \"\"}}, \"type\": \"scatter\"}], \"scatter3d\": [{\"line\": {\"colorbar\": {\"outlinewidth\": 0, \"ticks\": \"\"}}, \"marker\": {\"colorbar\": {\"outlinewidth\": 0, \"ticks\": \"\"}}, \"type\": \"scatter3d\"}], \"scattercarpet\": [{\"marker\": {\"colorbar\": {\"outlinewidth\": 0, \"ticks\": \"\"}}, \"type\": \"scattercarpet\"}], \"scattergeo\": [{\"marker\": {\"colorbar\": {\"outlinewidth\": 0, \"ticks\": \"\"}}, \"type\": \"scattergeo\"}], \"scattergl\": [{\"marker\": {\"colorbar\": {\"outlinewidth\": 0, \"ticks\": \"\"}}, \"type\": \"scattergl\"}], \"scattermapbox\": [{\"marker\": {\"colorbar\": {\"outlinewidth\": 0, \"ticks\": \"\"}}, \"type\": \"scattermapbox\"}], \"scatterpolar\": [{\"marker\": {\"colorbar\": {\"outlinewidth\": 0, \"ticks\": \"\"}}, \"type\": \"scatterpolar\"}], \"scatterpolargl\": [{\"marker\": {\"colorbar\": {\"outlinewidth\": 0, \"ticks\": \"\"}}, \"type\": \"scatterpolargl\"}], \"scatterternary\": [{\"marker\": {\"colorbar\": {\"outlinewidth\": 0, \"ticks\": \"\"}}, \"type\": \"scatterternary\"}], \"surface\": [{\"colorbar\": {\"outlinewidth\": 0, \"ticks\": \"\"}, \"colorscale\": [[0.0, \"#0d0887\"], [0.1111111111111111, \"#46039f\"], [0.2222222222222222, \"#7201a8\"], [0.3333333333333333, \"#9c179e\"], [0.4444444444444444, \"#bd3786\"], [0.5555555555555556, \"#d8576b\"], [0.6666666666666666, \"#ed7953\"], [0.7777777777777778, \"#fb9f3a\"], [0.8888888888888888, \"#fdca26\"], [1.0, \"#f0f921\"]], \"type\": \"surface\"}], \"table\": [{\"cells\": {\"fill\": {\"color\": \"#EBF0F8\"}, \"line\": {\"color\": \"white\"}}, \"header\": {\"fill\": {\"color\": \"#C8D4E3\"}, \"line\": {\"color\": \"white\"}}, \"type\": \"table\"}]}, \"layout\": {\"annotationdefaults\": {\"arrowcolor\": \"#2a3f5f\", \"arrowhead\": 0, \"arrowwidth\": 1}, \"autotypenumbers\": \"strict\", \"coloraxis\": {\"colorbar\": {\"outlinewidth\": 0, \"ticks\": \"\"}}, \"colorscale\": {\"diverging\": [[0, \"#8e0152\"], [0.1, \"#c51b7d\"], [0.2, \"#de77ae\"], [0.3, \"#f1b6da\"], [0.4, \"#fde0ef\"], [0.5, \"#f7f7f7\"], [0.6, \"#e6f5d0\"], [0.7, \"#b8e186\"], [0.8, \"#7fbc41\"], [0.9, \"#4d9221\"], [1, \"#276419\"]], \"sequential\": [[0.0, \"#0d0887\"], [0.1111111111111111, \"#46039f\"], [0.2222222222222222, \"#7201a8\"], [0.3333333333333333, \"#9c179e\"], [0.4444444444444444, \"#bd3786\"], [0.5555555555555556, \"#d8576b\"], [0.6666666666666666, \"#ed7953\"], [0.7777777777777778, \"#fb9f3a\"], [0.8888888888888888, \"#fdca26\"], [1.0, \"#f0f921\"]], \"sequentialminus\": [[0.0, \"#0d0887\"], [0.1111111111111111, \"#46039f\"], [0.2222222222222222, \"#7201a8\"], [0.3333333333333333, \"#9c179e\"], [0.4444444444444444, \"#bd3786\"], [0.5555555555555556, \"#d8576b\"], [0.6666666666666666, \"#ed7953\"], [0.7777777777777778, \"#fb9f3a\"], [0.8888888888888888, \"#fdca26\"], [1.0, \"#f0f921\"]]}, \"colorway\": [\"#636efa\", \"#EF553B\", \"#00cc96\", \"#ab63fa\", \"#FFA15A\", \"#19d3f3\", \"#FF6692\", \"#B6E880\", \"#FF97FF\", \"#FECB52\"], \"font\": {\"color\": \"#2a3f5f\"}, \"geo\": {\"bgcolor\": \"white\", \"lakecolor\": \"white\", \"landcolor\": \"#E5ECF6\", \"showlakes\": true, \"showland\": true, \"subunitcolor\": \"white\"}, \"hoverlabel\": {\"align\": \"left\"}, \"hovermode\": \"closest\", \"mapbox\": {\"style\": \"light\"}, \"paper_bgcolor\": \"white\", \"plot_bgcolor\": \"#E5ECF6\", \"polar\": {\"angularaxis\": {\"gridcolor\": \"white\", \"linecolor\": \"white\", \"ticks\": \"\"}, \"bgcolor\": \"#E5ECF6\", \"radialaxis\": {\"gridcolor\": \"white\", \"linecolor\": \"white\", \"ticks\": \"\"}}, \"scene\": {\"xaxis\": {\"backgroundcolor\": \"#E5ECF6\", \"gridcolor\": \"white\", \"gridwidth\": 2, \"linecolor\": \"white\", \"showbackground\": true, \"ticks\": \"\", \"zerolinecolor\": \"white\"}, \"yaxis\": {\"backgroundcolor\": \"#E5ECF6\", \"gridcolor\": \"white\", \"gridwidth\": 2, \"linecolor\": \"white\", \"showbackground\": true, \"ticks\": \"\", \"zerolinecolor\": \"white\"}, \"zaxis\": {\"backgroundcolor\": \"#E5ECF6\", \"gridcolor\": \"white\", \"gridwidth\": 2, \"linecolor\": \"white\", \"showbackground\": true, \"ticks\": \"\", \"zerolinecolor\": \"white\"}}, \"shapedefaults\": {\"line\": {\"color\": \"#2a3f5f\"}}, \"ternary\": {\"aaxis\": {\"gridcolor\": \"white\", \"linecolor\": \"white\", \"ticks\": \"\"}, \"baxis\": {\"gridcolor\": \"white\", \"linecolor\": \"white\", \"ticks\": \"\"}, \"bgcolor\": \"#E5ECF6\", \"caxis\": {\"gridcolor\": \"white\", \"linecolor\": \"white\", \"ticks\": \"\"}}, \"title\": {\"x\": 0.05}, \"xaxis\": {\"automargin\": true, \"gridcolor\": \"white\", \"linecolor\": \"white\", \"ticks\": \"\", \"title\": {\"standoff\": 15}, \"zerolinecolor\": \"white\", \"zerolinewidth\": 2}, \"yaxis\": {\"automargin\": true, \"gridcolor\": \"white\", \"linecolor\": \"white\", \"ticks\": \"\", \"title\": {\"standoff\": 15}, \"zerolinecolor\": \"white\", \"zerolinewidth\": 2}}}, \"title\": {\"text\": \"Percentage of interpretable topics (paragraph-based )\"}, \"width\": 800, \"xaxis\": {\"anchor\": \"y\", \"domain\": [0.0, 1.0], \"title\": {\"text\": \"Parameter L\"}}, \"yaxis\": {\"anchor\": \"x\", \"domain\": [0.0, 1.0], \"title\": {\"text\": \"Percentage of interpretable topics\"}}},                        {\"responsive\": true}                    ).then(function(){\n",
       "                            \n",
       "var gd = document.getElementById('2a53a63a-4f53-4c0b-b712-9d7afb421da6');\n",
       "var x = new MutationObserver(function (mutations, observer) {{\n",
       "        var display = window.getComputedStyle(gd).display;\n",
       "        if (!display || display === 'none') {{\n",
       "            console.log([gd, 'removed!']);\n",
       "            Plotly.purge(gd);\n",
       "            observer.disconnect();\n",
       "        }}\n",
       "}});\n",
       "\n",
       "// Listen for the removal of the full notebook cells\n",
       "var notebookContainer = gd.closest('#notebook-container');\n",
       "if (notebookContainer) {{\n",
       "    x.observe(notebookContainer, {childList: true});\n",
       "}}\n",
       "\n",
       "// Listen for the clearing of the current output cell\n",
       "var outputEl = gd.closest('.output');\n",
       "if (outputEl) {{\n",
       "    x.observe(outputEl, {childList: true});\n",
       "}}\n",
       "\n",
       "                        })                };                });            </script>        </div>"
      ]
     },
     "metadata": {},
     "output_type": "display_data"
    }
   ],
   "source": [
    "list_perc2 = []\n",
    "for i in list_L:\n",
    "    num = perc(i, df_topic_para.drop(list_remove_para))\n",
    "    list_perc2.append(num)\n",
    "\n",
    "df_L2 = pd.DataFrame({'Parameter L': list_L, 'Percentage of interpretable topics': list_perc2})\n",
    "fig_L2 = px.line(df_L2, x = 'Parameter L', y=\"Percentage of interpretable topics\", title = 'Percentage of interpretable topics (paragraph-based )')\n",
    "fig_L2.update_layout(autosize=False, width=800, height=400)\n",
    "fig_L2.update_traces(mode = \"lines + markers\")\n",
    "fig_L2.show()"
   ]
  },
  {
   "cell_type": "code",
   "execution_count": 244,
   "metadata": {},
   "outputs": [],
   "source": [
    "# define the function for extracting the highest N ranked paragraphs from each topic\n",
    "def top_n_filter(df, top_n):\n",
    "    list_topic_id = [x+1 for x in range(0,k)]\n",
    "    list_n_para = []\n",
    "    list_n_p = []\n",
    "    list_n_index = []\n",
    "    for x in range(1, k + 1): \n",
    "        n_para = [i for i in df.nlargest(top_n, [x])['paragraphs']]\n",
    "        n_p = [i for i in df.nlargest(top_n, [x])[x]]\n",
    "        n_index = [i for i in df_topic_para1.nlargest(top_n, [x]).index]\n",
    "        list_n_para.append(n_para)\n",
    "        list_n_p.append(n_p)\n",
    "        list_n_index.append(n_index)\n",
    "    pd_n_para = pd.DataFrame({'Index':list_n_index, 'topic_id': list_topic_id, 'salient_paragraph': list_n_para, 'probability': list_n_p})\n",
    "    return(pd_n_para.apply(pd.Series.explode).reset_index().drop('index', axis = 1))"
   ]
  },
  {
   "cell_type": "markdown",
   "metadata": {},
   "source": [
    "Below we get the the 4 most prototypical paragraphs of each topic when we set the optimal L to be 0.25. "
   ]
  },
  {
   "cell_type": "code",
   "execution_count": 245,
   "metadata": {},
   "outputs": [
    {
     "data": {
      "text/html": [
       "<style  type=\"text/css\" >\n",
       "#T_3c481_row0_col2,#T_3c481_row1_col2,#T_3c481_row2_col2,#T_3c481_row3_col2,#T_3c481_row4_col2,#T_3c481_row5_col2,#T_3c481_row6_col2,#T_3c481_row7_col2,#T_3c481_row8_col2,#T_3c481_row9_col2,#T_3c481_row10_col2,#T_3c481_row11_col2,#T_3c481_row12_col2,#T_3c481_row13_col2,#T_3c481_row14_col2,#T_3c481_row15_col2,#T_3c481_row16_col2,#T_3c481_row17_col2,#T_3c481_row18_col2,#T_3c481_row19_col2,#T_3c481_row20_col2,#T_3c481_row21_col2,#T_3c481_row22_col2,#T_3c481_row23_col2,#T_3c481_row24_col2,#T_3c481_row25_col2,#T_3c481_row26_col2,#T_3c481_row27_col2,#T_3c481_row28_col2,#T_3c481_row29_col2,#T_3c481_row30_col2,#T_3c481_row31_col2,#T_3c481_row32_col2,#T_3c481_row33_col2,#T_3c481_row34_col2,#T_3c481_row35_col2,#T_3c481_row36_col2,#T_3c481_row37_col2,#T_3c481_row38_col2,#T_3c481_row39_col2,#T_3c481_row40_col2,#T_3c481_row41_col2,#T_3c481_row42_col2,#T_3c481_row43_col2,#T_3c481_row44_col2,#T_3c481_row45_col2,#T_3c481_row46_col2,#T_3c481_row47_col2,#T_3c481_row48_col2,#T_3c481_row49_col2,#T_3c481_row50_col2,#T_3c481_row51_col2,#T_3c481_row52_col2,#T_3c481_row53_col2,#T_3c481_row54_col2,#T_3c481_row55_col2,#T_3c481_row56_col2,#T_3c481_row57_col2,#T_3c481_row58_col2,#T_3c481_row59_col2{\n",
       "            width:  500px;\n",
       "            length:  50px;\n",
       "        }</style><table id=\"T_3c481_\" ><thead>    <tr>        <th class=\"blank level0\" ></th>        <th class=\"col_heading level0 col0\" >Index</th>        <th class=\"col_heading level0 col1\" >topic_id</th>        <th class=\"col_heading level0 col2\" >salient_paragraph</th>        <th class=\"col_heading level0 col3\" >probability</th>        <th class=\"col_heading level0 col4\" >porobability >= L</th>    </tr></thead><tbody>\n",
       "                <tr>\n",
       "                        <th id=\"T_3c481_level0_row0\" class=\"row_heading level0 row0\" >0</th>\n",
       "                        <td id=\"T_3c481_row0_col0\" class=\"data row0 col0\" >2115</td>\n",
       "                        <td id=\"T_3c481_row0_col1\" class=\"data row0 col1\" >1</td>\n",
       "                        <td id=\"T_3c481_row0_col2\" class=\"data row0 col2\" >In July LOCOG issued guidelines for UK sporting facilities to help them in their bid to offer Pre-Games Training facilities to host international teams in 2012. Following the on-line application process, due to end in January 2007, those facilities meeting the criteria will be included in a guide for all National Olympic Committees (NOCs) and National Paralympic Committees (NPCs) which will be issued in 2008. Pre-Games Training Camps will help to engage the whole country and spread the benefits of the Games throughout the UK</td>\n",
       "                        <td id=\"T_3c481_row0_col3\" class=\"data row0 col3\" >0.133998</td>\n",
       "                        <td id=\"T_3c481_row0_col4\" class=\"data row0 col4\" >False</td>\n",
       "            </tr>\n",
       "            <tr>\n",
       "                        <th id=\"T_3c481_level0_row1\" class=\"row_heading level0 row1\" >1</th>\n",
       "                        <td id=\"T_3c481_row1_col0\" class=\"data row1 col0\" >10022</td>\n",
       "                        <td id=\"T_3c481_row1_col1\" class=\"data row1 col1\" >1</td>\n",
       "                        <td id=\"T_3c481_row1_col2\" class=\"data row1 col2\" >Lord Coe: Some of these sports are less specific. If you are a track and field nation then you might decide on the track and field facilities at Bath, Loughborough, Sheffield or wherever, it is not quite as specific as sailing. The other important issue is that we have a whole raft of facilities that can be used at any one stage in that whole build-up process but it is, as Keith said, for the National Olympic Committees to make that decision. I have to say nobody would have told Craig or Simon Clegg from the British Olympic Association that Narromine was better than Noosa and Noosa better than somewhere on the Queensland coast of Australia, that was a judgment those guys made</td>\n",
       "                        <td id=\"T_3c481_row1_col3\" class=\"data row1 col3\" >0.130003</td>\n",
       "                        <td id=\"T_3c481_row1_col4\" class=\"data row1 col4\" >False</td>\n",
       "            </tr>\n",
       "            <tr>\n",
       "                        <th id=\"T_3c481_level0_row2\" class=\"row_heading level0 row2\" >2</th>\n",
       "                        <td id=\"T_3c481_row2_col0\" class=\"data row2 col0\" >12442</td>\n",
       "                        <td id=\"T_3c481_row2_col1\" class=\"data row2 col1\" >1</td>\n",
       "                        <td id=\"T_3c481_row2_col2\" class=\"data row2 col2\" >ODA response   There has been significant work to date on the venue specific business and legacy planning for each of the major sporting venues. This work has informed design development and investment decisions for venues in legacy. The LDA, working with the ODA and wider stakeholders, will now take forward through the Legacy Master-planning Framework and business-planning work (shortly to be commissioned through Grant Thornton) the detailed legacy plans for the parkland and retained venues</td>\n",
       "                        <td id=\"T_3c481_row2_col3\" class=\"data row2 col3\" >0.125486</td>\n",
       "                        <td id=\"T_3c481_row2_col4\" class=\"data row2 col4\" >False</td>\n",
       "            </tr>\n",
       "            <tr>\n",
       "                        <th id=\"T_3c481_level0_row3\" class=\"row_heading level0 row3\" >3</th>\n",
       "                        <td id=\"T_3c481_row3_col0\" class=\"data row3 col0\" >15065</td>\n",
       "                        <td id=\"T_3c481_row3_col1\" class=\"data row3 col1\" >1</td>\n",
       "                        <td id=\"T_3c481_row3_col2\" class=\"data row3 col2\" >4.2 Whilst some members are optimistic about the benefits of the Games and the Olympics legacy, someare concerned that the Games will not benefit their local areas. The Government and LOCOG shouldaddress this by putting in place specific prgarammes to help support grassroots organisations and provideguidance on how they and their communities might better benefit from the Olympics</td>\n",
       "                        <td id=\"T_3c481_row3_col3\" class=\"data row3 col3\" >0.122070</td>\n",
       "                        <td id=\"T_3c481_row3_col4\" class=\"data row3 col4\" >False</td>\n",
       "            </tr>\n",
       "            <tr>\n",
       "                        <th id=\"T_3c481_level0_row4\" class=\"row_heading level0 row4\" >4</th>\n",
       "                        <td id=\"T_3c481_row4_col0\" class=\"data row4 col0\" >12700</td>\n",
       "                        <td id=\"T_3c481_row4_col1\" class=\"data row4 col1\" >2</td>\n",
       "                        <td id=\"T_3c481_row4_col2\" class=\"data row4 col2\" >2. British Cycling told us that the cycling facilities at the Velopark had “the potential to be absolutely world-class” and that they “should be the very best anywhere in the world”.152 There has nonetheless been a certain amount of controversy about the extent to which the Velopark will offer a suitable replacement for off-road facilities at the former Eastway Circuit, lost when land was assembled by the LDA for incorporation into the Olympic Park. The design currently proposed by the ODA for the Velopark offers most of the facilities previously available at Eastway, albeit in a more fragmented layout. British Cycling, despite being supportive of the proposed design for use during the Games and despite anticipating that, after the Games, the Velopark will “provide a boost for cycling”,153 initially lodged objections to the relevant planning applications on the grounds that they did “not provide an adequate or comparable replacement for the road and off-road facilities provided to cycling on the Eastway Circuit”. British Cycling is now satisfied that the ODA has taken on board its concerns and that current plans for the Velopark offer an acceptable replacement for Eastway. The Eastway Users Group, which has campaigned for off-road cycling facilities in the Velopark in legacy mode, remains frustrated by the uncertainty about future provision, and it has pointed out to us that facilities at Eastway closed before the ODA or LDA had provided any suitable temporary alternative, causing  149 Ev 107</td>\n",
       "                        <td id=\"T_3c481_row4_col3\" class=\"data row4 col3\" >0.429325</td>\n",
       "                        <td id=\"T_3c481_row4_col4\" class=\"data row4 col4\" >True</td>\n",
       "            </tr>\n",
       "            <tr>\n",
       "                        <th id=\"T_3c481_level0_row5\" class=\"row_heading level0 row5\" >5</th>\n",
       "                        <td id=\"T_3c481_row5_col0\" class=\"data row5 col0\" >13056</td>\n",
       "                        <td id=\"T_3c481_row5_col1\" class=\"data row5 col1\" >2</td>\n",
       "                        <td id=\"T_3c481_row5_col2\" class=\"data row5 col2\" >2. Unlike many of the swimming facilities built for previous Olympics, which have been little used afterthe games, the design of the Aquatic Centre is based upon the technical swimming and diving requirementsfor the games with certain of the other specific requirements for the Games being added as a temporary“overlay” and being dispensed with after the Games. In summary the Centre in legacy mode will have thefollowing:— a 50 metre by 10 lane competition pool with a depth of 3 metres with a moveable floor andbulkhead and permanent spectator seating for 2,500 with an ability for this to be expanded to 3,500when required;Processed: 24-04-2008 19:36:04 Page Layout: COENEW [O] PPSysB Job: 386236 Unit: PAG1Culture, Media and Sport Committee: Evidence Ev 7— in the same hall as the competition pool a 25 metre by 21 metre diving pool with a moveable floorproviding a range of platforms and spring boards to Olympic and World Championshipstandards;— a separate 50 metre by 8 lane training pool with a depth of 2 metres and two moveable floors andbulkheads; and— ancillary matters including timing, scoreboard with video recording and playback, and areas forchanging, catering, dryland training and provision for sports science and will meet therequirements of the various swimming disciplines</td>\n",
       "                        <td id=\"T_3c481_row5_col3\" class=\"data row5 col3\" >0.381628</td>\n",
       "                        <td id=\"T_3c481_row5_col4\" class=\"data row5 col4\" >True</td>\n",
       "            </tr>\n",
       "            <tr>\n",
       "                        <th id=\"T_3c481_level0_row6\" class=\"row_heading level0 row6\" >6</th>\n",
       "                        <td id=\"T_3c481_row6_col0\" class=\"data row6 col0\" >1519</td>\n",
       "                        <td id=\"T_3c481_row6_col1\" class=\"data row6 col1\" >2</td>\n",
       "                        <td id=\"T_3c481_row6_col2\" class=\"data row6 col2\" >Legacy Mode   12.  Unlike many of the swimming facilities built for previous Olympics, which have been little used after the games, the design of the Aquatic Centre is based upon the technical swimming and diving requirements for the games with certain of the other specific requirements for the Games being added as a temporary \"overlay\" and being dispensed with after the Games. In summary the Centre in legacy mode will have the following: —  a 50 metre by 10 lane competition pool with a depth of 3 metres with a moveable floor and bulkhead and permanent spectator seating for 2,500 with an ability for this to be expanded to 3,500 when required; —  in the same hall as the competition pool a 25 metre by 21 metre diving pool with a moveable floor providing a range of platforms and spring boards to Olympic and World Championship standards; —  a separate 50 metre by 8 lane training pool with a depth of 2 metres and two moveable floors and bulkheads; and —  ancillary matters including timing, scoreboard with video recording and playback, and areas for changing, catering, dryland training and provision for sports science and will meet the requirements of the various swimming disciplines</td>\n",
       "                        <td id=\"T_3c481_row6_col3\" class=\"data row6 col3\" >0.377969</td>\n",
       "                        <td id=\"T_3c481_row6_col4\" class=\"data row6 col4\" >True</td>\n",
       "            </tr>\n",
       "            <tr>\n",
       "                        <th id=\"T_3c481_level0_row7\" class=\"row_heading level0 row7\" >7</th>\n",
       "                        <td id=\"T_3c481_row7_col0\" class=\"data row7 col0\" >13309</td>\n",
       "                        <td id=\"T_3c481_row7_col1\" class=\"data row7 col1\" >2</td>\n",
       "                        <td id=\"T_3c481_row7_col2\" class=\"data row7 col2\" >A fuller explanation of what Mission 2012 involves is contained within a three page document attachedas Annex A.1Driving Standards of Performance—Other InitiativesIn addition to Mission 2012, UK Sport is also seeking to facilitate the development of a network of “EliteTraining Centres” across the UK. The concept reflects the conclusion that the UK’s athletes need to havea clearer sense of location for their world class ambitions than is often currently the case. Such Centres willoVer an environment in which athletes can experience a seamless integration of world-class coaching andtraining in appropriate facilities together with scientific and medical support, all backed-up with lifestyleand educational support systems that ensure their wider development. A full explanation of what the EliteTraining Centre concept involves is contained within a two page document attached as Annex B.2UK Sport also continues to operate dedicated programmes to support its World Class PerformanceProgramme investment. Three examples are:Elite CoachA major initiative designed to ensure that a new generation of world-class British coaches will be availableto pick up the baton and ensure long term success for our athletes post-London. The scheme providesdedicated programme support to up to a total of 50 coaches over a three year programme, helping them todevelop their technical skills and understanding through both residential and individual learnings. Thereare currently 34 coaches on the programme across 18 sports, with the first year graduating at the UK SportWorld Class Coaching Conference on 12–15 November 2007</td>\n",
       "                        <td id=\"T_3c481_row7_col3\" class=\"data row7 col3\" >0.292883</td>\n",
       "                        <td id=\"T_3c481_row7_col4\" class=\"data row7 col4\" >True</td>\n",
       "            </tr>\n",
       "            <tr>\n",
       "                        <th id=\"T_3c481_level0_row8\" class=\"row_heading level0 row8\" >8</th>\n",
       "                        <td id=\"T_3c481_row8_col0\" class=\"data row8 col0\" >728</td>\n",
       "                        <td id=\"T_3c481_row8_col1\" class=\"data row8 col1\" >3</td>\n",
       "                        <td id=\"T_3c481_row8_col2\" class=\"data row8 col2\" >Mr Johnson: As I said at the very beginning, I do think it is my duty and, indeed, I think it is absolutely possible and necessary for us to deliver the Olympic Games within the £9.3 billion. It is half what the Chinese spent, but we will produce a Games that will be every bit as good. The cost pressures at the moment, for your guidance, are really on the Village, the media centre and the stadium. Those are the things where it is obvious that there are the biggest difficulties, and I am determined to make sure that we extract value. I will tell you why: because the LDA, the body for which I am responsible, are putting in a huge amount of money, the tax payer is putting a huge amount of money into that site in East London. It is absolutely vital that we get value from it for generations to come, and that means that we cannot afford to waste money and we cannot afford to lose money that is going to be of legacy value, if you see what I mean. I do not want to see money unnecessarily squandered on this or that when it might be making that site more valuable to Londoners for generations to come, and that is why, obviously we are looking at some changes, some economies that we might be able to make. I do not propose to go into the detail, but there are on-going discussions about whether there are savings to be made about venues, about whether there is more we could do to bear down on some of the expenditure. I will just give you an example of some of the ways we save money in our own small way. I do not know whether you saw the party in London House. I am afraid that it was on television, so I cannot deny that it took place. There was a celebration at London House in Beijing which actually cost considerably less, about a million pounds less, four million pounds less than was originally thought, and yet was widely thought to have been the best event in Beijing. Keeping London House and that operation going for the whole period of the Olympic Games we managed to cut the budget by more than a third on the proposals of the previous mayor, and I do not think it is any particular secret that me and my team flew, not exactly steerage, but not club class either, in our bid to save the tax payer many, many thousands of pounds. You can take it from me, Chairman, that I do regard it as my duty on behalf of London tax payers to bear down on these costs. We can deliver a fantastic Games without wasting money</td>\n",
       "                        <td id=\"T_3c481_row8_col3\" class=\"data row8 col3\" >0.305503</td>\n",
       "                        <td id=\"T_3c481_row8_col4\" class=\"data row8 col4\" >True</td>\n",
       "            </tr>\n",
       "            <tr>\n",
       "                        <th id=\"T_3c481_level0_row9\" class=\"row_heading level0 row9\" >9</th>\n",
       "                        <td id=\"T_3c481_row9_col0\" class=\"data row9 col0\" >700</td>\n",
       "                        <td id=\"T_3c481_row9_col1\" class=\"data row9 col1\" >3</td>\n",
       "                        <td id=\"T_3c481_row9_col2\" class=\"data row9 col2\" >The budget is about 600 million for policing of the Olympics and, of course, it is vital that we get that right. One of the most important lessons from Beijing was looking at how the Chinese did it, and there is clearly a balance to be struck between having very intrusive, endless airport-style screening everywhere and having an approach that lets people circulate more freely. I think I am right in thinking that the Chinese had searches on the underground system as well, which I think some people found a little bit oppressive. It is an open question, I think, whether we go down that route or whether we use a more intelligence-based approach and exactly where we strike the balance, but it is, of course, vital that we have a 100%, as far as we can make it, secure Games. I would just say that if you think about what happened in the G8 in 2005, during the G8, when 12,000 police were moved to Scotland, the tragedy was, of course, that the terrorists struck in London. So I make an elementary point that the security threat does not merely arise in London. The security threat to the Olympic Games, in my view, could arise anywhere across the country throughout the Olympic period</td>\n",
       "                        <td id=\"T_3c481_row9_col3\" class=\"data row9 col3\" >0.301467</td>\n",
       "                        <td id=\"T_3c481_row9_col4\" class=\"data row9 col4\" >True</td>\n",
       "            </tr>\n",
       "            <tr>\n",
       "                        <th id=\"T_3c481_level0_row10\" class=\"row_heading level0 row10\" >10</th>\n",
       "                        <td id=\"T_3c481_row10_col0\" class=\"data row10 col0\" >9969</td>\n",
       "                        <td id=\"T_3c481_row10_col1\" class=\"data row10 col1\" >3</td>\n",
       "                        <td id=\"T_3c481_row10_col2\" class=\"data row10 col2\" >Lord Moynihan: I think, for the record, I was not joint author, I was joint chairman with Kate Hoey MP, and it was a unanimous report which involved many people from the world of sport who are highly respected with life-time commitments and involvement in sport, ranging from some of the senior governing bodies such as Di Ellis from the world of rowing, Sir Steve Redgrave and Duncan Goodhew and many others who contributed. It was also a report which attracted over 30,000 hits on the website, it was an on-line report, so it was very much an opportunity to reflect the views of sportsmen and women and people who enjoy sport the length and breadth of this country from all sorts of different backgrounds. Do I stand by the conclusions of that report? Yes, I do. Will I be campaigning publicly now to implement it? No, I will not. There will be no more PQs, much to the pleasure I am sure of DCMS officials, flowing from my pen as a result of moving to the BOA job, which I genuinely see as aside from party politics. I will not be playing any active role in party politics moving forward while obviously retaining the Conservative Whip, as Sebastian Coe is doing, but working with all parties to deliver a highly successful Games. Do I think it will impair the discussions moving forward with those bodies about whom there were some constructive criticisms? No, I do not. I think it is very important to work within the existing structure. I think the BOA relationship with UK Sport is a good one. It is one which is important because UK Sport has focused on elite sport and that is obviously of direct relevance to the Olympic governing bodies, both Summer and Winter. We have not mentioned the fact that the Winter Olympic bodies are very important to us, they were 100% behind the bid and we must make sure they benefit from some of the legacy and some of the financial opportunities which exist. Finally, you mention it does not look, if I may paraphrase you, as though all the recommendations will be implemented immediately. I anticipate you are correct there, Chairman. The good news is that on the night we went to press one of our key recommendations was swiftly announced by Government and we managed to change the relevant paragraphs warmly to welcome the Government's decision to move in the direction of bringing together the services for elite performance sport into UK Sport. I think that was a very important step in the right direction. There were a number of other recommendations which have also been taken on board. So I think incrementally over the years I am confident that the report will be carefully looked at by Government and I very much hope it has opened a debate. That was what it was intended to do, it was to begin the debate, that if we raised the bar in Singapore, as we did, then we should raise the bar and deliver a fit-for-purpose sports policy in this country to match the status of an Olympic host nation. If it has contributed in a small way to that debate, then I will rest very happy with the events of the last two months and the publication of that report with my colleagues</td>\n",
       "                        <td id=\"T_3c481_row10_col3\" class=\"data row10 col3\" >0.295591</td>\n",
       "                        <td id=\"T_3c481_row10_col4\" class=\"data row10 col4\" >True</td>\n",
       "            </tr>\n",
       "            <tr>\n",
       "                        <th id=\"T_3c481_level0_row11\" class=\"row_heading level0 row11\" >11</th>\n",
       "                        <td id=\"T_3c481_row11_col0\" class=\"data row11 col0\" >6111</td>\n",
       "                        <td id=\"T_3c481_row11_col1\" class=\"data row11 col1\" >3</td>\n",
       "                        <td id=\"T_3c481_row11_col2\" class=\"data row11 col2\" >Q400 Philip Davies: The final thing I want to mention on security is e-Borders, because the e-Borders programme, if it is done properly, like it is in Australia, is a fantastic method of making sure that only legitimate people come into the country and that the people who are on a terrorist watch list, for example, do not get into the country. It prevents them from boarding the plane in the first place. It does not just deal with the problem when they get here, it prevents people from getting on the plane and getting here in the first place. That project, which should have been in place years ago, still is not in place, and I just wondered what you were doing to agitate the Home Office to get an effective e-Borders programme in place in time for the Olympics</td>\n",
       "                        <td id=\"T_3c481_row11_col3\" class=\"data row11 col3\" >0.274984</td>\n",
       "                        <td id=\"T_3c481_row11_col4\" class=\"data row11 col4\" >True</td>\n",
       "            </tr>\n",
       "            <tr>\n",
       "                        <th id=\"T_3c481_level0_row12\" class=\"row_heading level0 row12\" >12</th>\n",
       "                        <td id=\"T_3c481_row12_col0\" class=\"data row12 col0\" >2847</td>\n",
       "                        <td id=\"T_3c481_row12_col1\" class=\"data row12 col1\" >4</td>\n",
       "                        <td id=\"T_3c481_row12_col2\" class=\"data row12 col2\" >9 The planning work has, however, identified new operational requirements and risks to delivery, with significant additional costs. In some cases, programme management information shows that planning is also behind schedule, although delivery bodies are seeking to mitigate delays. For example:Preparations for the London 2012 Olympic and Paralympic Games: Progress report December 2011 Summary 7•\t the Home Office is responsible for setting security requirements and funding LOCOG’s delivery of venue security: LOCOG is responsible for working out the operational implications of the requirements, including recruitment. In 2006, LOCOG estimated that 10,000 guards would be a reasonable basis to invite tenders from contractors and this informed the 2010 Spending Review settlement for venue security of £282 million. The guarding contract was let to G4S by LOCOG in December 2010. Detailed planning was undertaken by LOCOG and security partners only once the competition schedule and venues were finalised in early spring 2011. This planning, and the revised security requirements flowing from the implementation of the agreed security standards, have increased the peak requirement of guards to 23,700 and the likely cost to an estimated £553 million, a £271 million increase, although this sum is not yet finalised. The near doubling of the costs has increased the strain on the Public Sector Funding Package; •\t the increased guarding requirement is a significant recruitment challenge and means LOCOG is having to renegotiate its contractual requirements. In addition, the Home Office is in discussions with the Ministry of Defence about the provision of military personnel to act in security roles;•\t in accordance with its responsibilities under the 2006 Olympics and Paralympic Games Act, the Olympic Delivery Authority has produced a transport plan for the Games, with which other delivery bodies must cooperate. The Delivery Authority produced plans for transport operations in competition venues</td>\n",
       "                        <td id=\"T_3c481_row12_col3\" class=\"data row12 col3\" >0.583286</td>\n",
       "                        <td id=\"T_3c481_row12_col4\" class=\"data row12 col4\" >True</td>\n",
       "            </tr>\n",
       "            <tr>\n",
       "                        <th id=\"T_3c481_level0_row13\" class=\"row_heading level0 row13\" >13</th>\n",
       "                        <td id=\"T_3c481_row13_col0\" class=\"data row13 col0\" >3329</td>\n",
       "                        <td id=\"T_3c481_row13_col1\" class=\"data row13 col1\" >4</td>\n",
       "                        <td id=\"T_3c481_row13_col2\" class=\"data row13 col2\" >6 PREPARATIONS FOR THE LONDON 2012 OLyMPIC AND PARALyMPIC GAMES: PROGRESS REPORT JuNE 2008\t \t \t \t \t \t10 The start and completion dates for the construction of the main venue and infrastructure projects delivered by the Olympic Delivery Authority at the end of March 2008 compared with the milestones in the November 2007 Programme Baseline ReportProjectEnabling Works (site preparation) Power Lines under Grounding  (switchover only)   Structures, Bridges and Highways utilities Main Stadium    Aquatics Centre    VeloparkHandball/Indoor Sports ArenaBasketballInternational Broadcast Centre/ Main Press CentreOlympic Village Eton Manor (training facilities  and Paralympic events)  Broxbourne  (white water canoeing) Eton Dorney (rowing) Weymouth and Portland (sailing)construction start date November 2007  March 2008 Change in  programme  Forecast start date  baseline  (months)October 2006 October 2006 0 July 2008 July 2008 0   April 2008 April 2008 0 January 2008 January 2008 0 July 2008 May 2008 –21    September 2008 September 2008 0 March 2009 March 2009 0August 2009 June 2009 –2July 2009 November 2009 4May 2009 March 2009 –2 June 2008 May 2008 –1 March 2010 January 2010 –2   August 2008 May 2009 9  March 2009 January 2009 –2 May 2008 January 2008 –4construction end date November 2007  March 2008 Change in  programme  Forecast end date  baseline   (months)September 2009 September 2009 0 September 2008 November 2008 2   December 2011 December 2011 0 December 2011 August 2011 –4 Construction  Construction end date end dateFebruary 2011 April 2011 2Completion date  Completion date for construction  for construction and initial overlay  and initial overlay for test events for test eventsJune 2011 June 2011 0Construction  Construction end date end dateApril 2011 August 2011 4Completion date  Completion date for construction  for construction and initial overlay  and initial overlay for test events for test eventsJuly 2011 August 2011 1April 2011 February 2011 –2April 2011 March 2011 –1April 2011 April 2011 0June 2011 July 2011 1 December 2011 December 2011 0 February 2012 April 2011 –10   June 2010 October 2010 4  April 2010 July 2009 –9 February 2009 January 2009 –1Source: National Audit Office examination of actual and forecast progress against the November 2007 Programme BaselineNOTE</td>\n",
       "                        <td id=\"T_3c481_row13_col3\" class=\"data row13 col3\" >0.541452</td>\n",
       "                        <td id=\"T_3c481_row13_col4\" class=\"data row13 col4\" >True</td>\n",
       "            </tr>\n",
       "            <tr>\n",
       "                        <th id=\"T_3c481_level0_row14\" class=\"row_heading level0 row14\" >14</th>\n",
       "                        <td id=\"T_3c481_row14_col0\" class=\"data row14 col0\" >3508</td>\n",
       "                        <td id=\"T_3c481_row14_col1\" class=\"data row14 col1\" >4</td>\n",
       "                        <td id=\"T_3c481_row14_col2\" class=\"data row14 col2\" >3PREPARATIONS FOR THE LONDON 2012 OLyMPIC AND PARALyMPIC GAMES: PROGRESS REPORT JuNE 2008n Performance reports and data on progress, including the Olympic Delivery Authority’s monthly reports on the progress of the construction programme, the status of procurement activity, and the quarterly update to funders on progress by the 31 March 2008, were reviewed to establish whether the Olympic Programme is on track in terms of both time and budget;n LOCOG’s “2008/09 Business Plan – Summary of Priorities, Milestones, Budget and Resources”, and the draft arrangements for their quarterly financial and programme management reporting to the Government Olympic Executive, to consider LOCOG’s progress on the preparations for staging the Games; n The Government Olympic Executive’s documentation on the emerging arrangements for programme wide risk management, to assess their maturity and effectiveness; andn The Government Olympic Executive’s financial management procedures for managing contingency and cash flow</td>\n",
       "                        <td id=\"T_3c481_row14_col3\" class=\"data row14 col3\" >0.502510</td>\n",
       "                        <td id=\"T_3c481_row14_col4\" class=\"data row14 col4\" >True</td>\n",
       "            </tr>\n",
       "            <tr>\n",
       "                        <th id=\"T_3c481_level0_row15\" class=\"row_heading level0 row15\" >15</th>\n",
       "                        <td id=\"T_3c481_row15_col0\" class=\"data row15 col0\" >3335</td>\n",
       "                        <td id=\"T_3c481_row15_col1\" class=\"data row15 col1\" >4</td>\n",
       "                        <td id=\"T_3c481_row15_col2\" class=\"data row15 col2\" >Construction of the Main Stadium and its readiness for test events is critical to the Authority’s delivery programme. At the time of the November 2007 Programme Baseline Report, which was before contract signature, construction of the Main Stadium was scheduled to be completed in February 2011, to be followed by LOCOG overlay works for test events which were to be completed by June 2011. To date good progress has been made on site preparation, which has allowed construction to start in May 2008, two months earlier than planned.1 As a result of contract negotiations the Authority has agreed a longer construction period than anticipated (35 months rather than 32). The Authority has, however, built early access dates for LOCOG overlay works into the contract so overlay can be carried out in parallel with the construction work. The forecast date for readiness for test events remains at June 2011</td>\n",
       "                        <td id=\"T_3c481_row15_col3\" class=\"data row15 col3\" >0.473572</td>\n",
       "                        <td id=\"T_3c481_row15_col4\" class=\"data row15 col4\" >True</td>\n",
       "            </tr>\n",
       "            <tr>\n",
       "                        <th id=\"T_3c481_level0_row16\" class=\"row_heading level0 row16\" >16</th>\n",
       "                        <td id=\"T_3c481_row16_col0\" class=\"data row16 col0\" >17552</td>\n",
       "                        <td id=\"T_3c481_row16_col1\" class=\"data row16 col1\" >5</td>\n",
       "                        <td id=\"T_3c481_row16_col2\" class=\"data row16 col2\" >4. Most clubs seem ill-prepared for enquiries from, and inclusion of, people with disabilities who wish to participate in the sport offered by the club. There is little or no support for specialist clubs who provide opportunities for sport that cannot be integrated ie wheelchair basketball or blind cricket! There is often nothing locally to support the child or their parent in accessing the specialist provision and this often involves their having to undertake extensive travel to specialist facilities or organisations catering for this group. There is poor information regarding availability etc and http://www.parasport.org.uk was established as a portal to provide pathway and provision information. The then Mayor of London published a strategy in 2007, which highlighted all these issues and to date there has been little, if any, action to redress these anomalies in London or in the rest of the country. DCSF have, in my view, shown no leadership regarding the legacy of 2012 and its impact on PE in schools and the inclusion of those with disabilities in core curriculum activities or sporting opportunities within or after school. DCMS held a legacy event in 2008 and again in April 2009 focusing on the legacy of the Games for those with disabilities. One outcome was to seek greater links between DWP, DCSF and themselves to ensure that joint strategies were developed and pathways established that enabled children to enjoy and participate in PE and sport within schools/after school clubs/integrated and specialist provision in the community, with good national talent forums and pathways established for those who wish to participate in sport at a higher level and finally, with governing bodies having clear inclusive programmes for sports men and women with disabilities active at a national and international level</td>\n",
       "                        <td id=\"T_3c481_row16_col3\" class=\"data row16 col3\" >0.657481</td>\n",
       "                        <td id=\"T_3c481_row16_col4\" class=\"data row16 col4\" >True</td>\n",
       "            </tr>\n",
       "            <tr>\n",
       "                        <th id=\"T_3c481_level0_row17\" class=\"row_heading level0 row17\" >17</th>\n",
       "                        <td id=\"T_3c481_row17_col0\" class=\"data row17 col0\" >17551</td>\n",
       "                        <td id=\"T_3c481_row17_col1\" class=\"data row17 col1\" >5</td>\n",
       "                        <td id=\"T_3c481_row17_col2\" class=\"data row17 col2\" >3. After school activities often exclude this group of children ie no possibility of inclusion in team sports such as football, cricket, rugby, basket ball etc., limited access to swimming baths, athletic fields etc. All of these sports are undertaken by people with a disability, but not now normally at school. Specialist schools did provide a massive range of sporting opportunities and sport played a major part of my own adjustment to disability. I learned about teamwork, was able to set individual goals, have competition to extend my abilities, occasionally experienced \"being a winner\" and had that thrill of competition. One example of efforts to redress this issue within a school setting is in Leeds, which has a programme of monthly sporting and physical activities arranged in school time for vision impaired children within the schools. One solution easily achieved would be for groups of schools to come together monthly to provide sporting and recreational activities for disabled children and young people within their schools</td>\n",
       "                        <td id=\"T_3c481_row17_col3\" class=\"data row17 col3\" >0.594580</td>\n",
       "                        <td id=\"T_3c481_row17_col4\" class=\"data row17 col4\" >True</td>\n",
       "            </tr>\n",
       "            <tr>\n",
       "                        <th id=\"T_3c481_level0_row18\" class=\"row_heading level0 row18\" >18</th>\n",
       "                        <td id=\"T_3c481_row18_col0\" class=\"data row18 col0\" >17553</td>\n",
       "                        <td id=\"T_3c481_row18_col1\" class=\"data row18 col1\" >5</td>\n",
       "                        <td id=\"T_3c481_row18_col2\" class=\"data row18 col2\" >5. Integration of disabled people into mainstream sporting provision is a concept rather than a reality. Grants to organisations has largely been based on physical access, rather than actual provision of activities, coaching etc. For some it has been a tick box action, rather than an attempt to include and integrate their provision. In order to create a lasting legacy from 2012, this offer of inclusion has to be both genuine and meaningful, ie accessible facilities with no manmade barriers re attitudes, lack of coaching or energy to find solutions regarding sporting opportunities. These are all major threats to establishing a broad base of participation pyramid with hundreds of disabled people participating in sport at the base level, filtering through at representative level for club and nationally, leading on to the tip of the pyramid—international competition at Paralympic level. This pathway does not currently exist for those with a disability and therefore, a different solution needs to be found that provides a separate provision (where appropriate) and uses the mainstream provision (where appropriate)</td>\n",
       "                        <td id=\"T_3c481_row18_col3\" class=\"data row18 col3\" >0.579501</td>\n",
       "                        <td id=\"T_3c481_row18_col4\" class=\"data row18 col4\" >True</td>\n",
       "            </tr>\n",
       "            <tr>\n",
       "                        <th id=\"T_3c481_level0_row19\" class=\"row_heading level0 row19\" >19</th>\n",
       "                        <td id=\"T_3c481_row19_col0\" class=\"data row19 col0\" >17557</td>\n",
       "                        <td id=\"T_3c481_row19_col1\" class=\"data row19 col1\" >5</td>\n",
       "                        <td id=\"T_3c481_row19_col2\" class=\"data row19 col2\" >8. Empower the disability sports bodies and those sporting bodies with grass roots and participation programmes to (a) offer the widest range of activities to people with disabilities, (b) offer their expertise to schools and other sporting bodies and (c) make a reality the opportunity for people with disabilities to undertake a sport of their choice within 10 miles of where they live or go to school! As a result of the lack of provision, coaching, infrastructure and sheer lack of imagination, children and young people with disabilities will increasingly fail to develop the levels of special awareness, physical strength, sporting skill and ability, determination and mentoring, which are needed to become top athletes at Paralympic and other levels. For example, we have already seen the reduction of vision impaired athletes competing at the top level from 25% of participants in Barcelona, to 10% in China. In Beijing, we had one VI athlete, two VI swimmers, two VI cyclists, one VI rower, four VI judo players and the rest were our blind football team. In Sydney we had 10 VI athletes, 10 VI swimmers and five VI judo players</td>\n",
       "                        <td id=\"T_3c481_row19_col3\" class=\"data row19 col3\" >0.575765</td>\n",
       "                        <td id=\"T_3c481_row19_col4\" class=\"data row19 col4\" >True</td>\n",
       "            </tr>\n",
       "            <tr>\n",
       "                        <th id=\"T_3c481_level0_row20\" class=\"row_heading level0 row20\" >20</th>\n",
       "                        <td id=\"T_3c481_row20_col0\" class=\"data row20 col0\" >4954</td>\n",
       "                        <td id=\"T_3c481_row20_col1\" class=\"data row20 col1\" >6</td>\n",
       "                        <td id=\"T_3c481_row20_col2\" class=\"data row20 col2\" >Stratford is a huge churn. We have done research into the nature of the flats that have gone up around Stratford—the better end—and they are being rented by people who work and basically it is a place to sleep and they go out and do other things, which is what people do when they are young and that is fine. What we could easily end up with is what we have ended up with elsewhere in the borough, which is a desert, with people not interested in the community and so we have a bunch of social tenants in there—not huge numbers—and no real community. I think we have to have a proper debate and discussion around what will happen with the rest of the housing. Ideally we want people who live there to buy and then continue to have an interest in the community. So any discussion about the Village I would argue needs to start with what happens to the private sector area because this has to work; if it does not work it can damage the rest of the Olympic area and the Olympic Park. We are now arguing, for example, for a Royal Park because we think that that will raise the whole standard of the area and people will get some sense of a better place, a place where it is really good to live. The OPLC understands that it needs to get housing and family housing and not just blocks of flats, so starting with that. Then you get to this question about what would the nature of the allocations be and we are about to have a big discussion with various partners where we talk about who would we move in. Certainly from a Newham point of view—because the Village is in Newham—we took a court case which opposed housing by need and were successful in turning the policy around, and the Government has now introduced a policy which would allow us to support people who are working into social housing because our view would tend to be if you have a low rent that is a great benefit if you are working and on a lower income, but if you are on benefit that is not much of a benefit at all. We are certainly at the moment having a discussion around allocations policy and there are plans to have it. We need to make the community work—start off with the community. I get very frustrated when I hear people talk about \"units\"; talk about the community that you are trying to create and how that will look. If we want to have this as a place that people want to live in in 100 years' time the community has to work. To do that you do not then take, for example, social housing for everybody that is not working together because we have evidence that that does not work, so if it does not work perhaps we should stop trying to do it. The nature of the allocation as to who moves in there is, I think, up for debate at the moment and all the people involved are willing to look at that in a radical way that will enable us to build a community there. But I will come back again, you can do that in the social and affordable rent side, what about the rented properties that you will end up with? People will invest and buy chunks off the plan and they will end up with a lot of people that do not necessarily spend a lot of time there. For me it is a very clear thing, this should be the responsibility of the OPLC, it should not be the responsibility of the ODA and the ODA should be handing over that responsibility to the OPLC tomorrow because the ODA has no locus or interest there. It is not that they are doing badly because these guys have built an Olympic site on time and on budget, they are doing a really good job from the point of view of doing what they were asked to do, but they will not be there after 2014 and we will. The OPLC should be the people who are actually involved in the Village now. I am very clear about that</td>\n",
       "                        <td id=\"T_3c481_row20_col3\" class=\"data row20 col3\" >0.613745</td>\n",
       "                        <td id=\"T_3c481_row20_col4\" class=\"data row20 col4\" >True</td>\n",
       "            </tr>\n",
       "            <tr>\n",
       "                        <th id=\"T_3c481_level0_row21\" class=\"row_heading level0 row21\" >21</th>\n",
       "                        <td id=\"T_3c481_row21_col0\" class=\"data row21 col0\" >4943</td>\n",
       "                        <td id=\"T_3c481_row21_col1\" class=\"data row21 col1\" >6</td>\n",
       "                        <td id=\"T_3c481_row21_col2\" class=\"data row21 col2\" >00,000 square feet, you have the Broadcast Centre which, again, is very well connected in terms of power and Internet connectivity, again, good for the latest approaches to production, whether it be broadcast production or any kind of creative media industries that rely on high power and digital connections, which has seen the industry move from having its heart in Soho over the years—where you cannot get the power to run the air conditioning and the servers and the Internet connectivity not being so good—to Shoreditch and benefiting from cheaper warehouse-type accommodation and the bandwidth afforded by the City of London being adjacent to that. Now prices are rising there and more of those warehouses are being turned into lofts and prices are rising and bandwidth is being constrained and not so much investment is going in there or, if it is, it is to maintain that for the City and not spare bandwidth that they can use sending films and recordings and stuff backwards and forward between here and the West Coast of America so, again, they need somewhere new. I think that there is an issue about how attractive the Broadcast Centre is as a building and so there will be a big issue for the Legacy Company (OPLC) to make that an attractive place which is going to be appealing to media professionals. Often it has been somewhat, I would say, disparagingly termed a \"big tin shed\", and undoubtedly that is what it is, but actually big large spaces are what some of these companies need. The fact that there is good transport access, Internet power and all that stuff has the potential to be a really good offer. I do not want to take up the Committee's time but the OPLC now, it is great that that has been formed and it is up and running because what has been lacking is someone—other than the boroughs—who really has the power and the control to market that building because it is never really the ODA's job because they are gone after 2014 so filling it is not really their responsibility and never has been. The tenants that you would want in there—or even the tenants you do not want in there—no potential tenant was going to sign in 2006-07 for a building that they could not occupy until 2014 and beyond, and unfortunately that was often portrayed as no-one is interested. I would not be surprised if no-one was interested—it was six or seven years out and no one even knew what the building was going to look like inside or out. I would think that we should be getting worried by about 2012 if still two to three years out from occupation no-one has expressed an interest, that is when I think we should be worried. Here at 2010 now I think is when we should be generating interest for people to occupy it</td>\n",
       "                        <td id=\"T_3c481_row21_col3\" class=\"data row21 col3\" >0.573691</td>\n",
       "                        <td id=\"T_3c481_row21_col4\" class=\"data row21 col4\" >True</td>\n",
       "            </tr>\n",
       "            <tr>\n",
       "                        <th id=\"T_3c481_level0_row22\" class=\"row_heading level0 row22\" >22</th>\n",
       "                        <td id=\"T_3c481_row22_col0\" class=\"data row22 col0\" >4937</td>\n",
       "                        <td id=\"T_3c481_row22_col1\" class=\"data row22 col1\" >6</td>\n",
       "                        <td id=\"T_3c481_row22_col2\" class=\"data row22 col2\" >Sir Robin Wales: It is a huge problem. We were just doing some numbers for this in fact, looking at the number of people. I think it is something like 20% of the people in the Park—the jobs in the Park—have an East London postcode. If I tell you that I have twice the number of international and national insurance registrations that anybody else has got. I will take you to the houses in multiple occupation, of which there are many. People have come over to work—we get that—they have come and they are living in houses in multiple occupation (HMOs), they are making their money and they have no intention of spending it but they are building up some money. I cannot blame anyone who does that, but the net effect is that we are sucking people in from elsewhere who will end up doing the jobs. That is a real problem if we are going to get our people to do the jobs. If we are being fair we would say that some of our people might not have had the building skills to build the things that are going on but with the apprentice system—which stuttered but it is moving on a bit now—we can train people to build over the next 20 years; and over the next 20 years down the Lee and along the Thames there is going to be a huge amount of building—Canary Wharf—so apprentices are quite important. The truth is that we do not have the evidence because we are not given the evidence by the ODA. They will tell you 20% are five borough postcodes and we say, \"Give us the addresses and we will tell you how many of them have been living in the borough for two years or more,\" but they will not give us that. They will make claims about what is going on there but the simple fact is that it has not transformed the local area or really helped to transform the local area in that sense. I will come back again and say that for me the Olympics is about inspiration; it is about the fact that we are sitting here talking about the East End, which you would not have done otherwise. It is the fact that we are talking about the SRF and the convergence and we have got people to sign up to that. That would not have happened without the Olympics. The Olympics, I would argue, is more a state of mind and more about inspiration. The actual development that is taking place, that is why we value Westfield more highly because those will be more local jobs and we have an opportunity of getting people into those jobs, hence the Retail Academy and the large sums of money we are putting into that to make sure that our residents are able to access that. I think the ODA overclaims. I am quite happy to be told that that is not true if somebody will give us the information and we can check it, but that is not made available to us. But that is yesterday's news, and it is what we are doing with the permanent jobs and the opportunities and there will be issues around some of the LOCOG jobs of course because if we get that right potentially those will be jobs that are not necessarily so highly skilled. Albeit only for a short</td>\n",
       "                        <td id=\"T_3c481_row22_col3\" class=\"data row22 col3\" >0.547287</td>\n",
       "                        <td id=\"T_3c481_row22_col4\" class=\"data row22 col4\" >True</td>\n",
       "            </tr>\n",
       "            <tr>\n",
       "                        <th id=\"T_3c481_level0_row23\" class=\"row_heading level0 row23\" >23</th>\n",
       "                        <td id=\"T_3c481_row23_col0\" class=\"data row23 col0\" >5</td>\n",
       "                        <td id=\"T_3c481_row23_col1\" class=\"data row23 col1\" >6</td>\n",
       "                        <td id=\"T_3c481_row23_col2\" class=\"data row23 col2\" >Work had been done before I arrived, but it was a different stage of work from what we need to do today—and I shall go into that in a moment. The bid itself was in the Arup report and the DCMS report and was at a very high level. We are now starting from the bottom up as opposed to the top down and that is why, when I go on to tell you a bit more about what we are doing, you will see it is very detail oriented. We are in a competitive process and that is something I have to keep repeating, not just to you, but to myself and to everyone we work with. There are nine of us going for the Games. This is not simply a case of saying that if we do it well, if we tick all the boxes, we will win. That is not the case. I do believe though that when you live in a world class city, going up against other world class cities creates a worthy competition. We really are going for the world championships of the Olympics in this bid. Never before have there been so many world class cities going for the bid, which is why I am approaching it in the way that I am. I also have begun to understand the IOC and have been very encouraged by the early pronouncements and my early brushes with the organisation. They are trying to change the nature of the Games, they are trying to change the nature of bidding. There have been some issues in the past which we know about and they want to transform the organisation, both from the way they work but also in what they ask us to do to prepare a bid. They insist upon the legacy issues for each venue being thought through. They are eager to make the Games more contained; they do not want them to grow ever bigger and bigger. Those are all issues which I believe work in favour of a bid like London, because we too, because we live in a cosmopolitan democratic country, will have lots of people with competing interests and we must be efficient and we must do the right thing for the people in sport and for the country. The early feedback I received from the IOC members when I went to the meeting in Prague was very positive. It was a bit open, in the sense that they are very open to understanding what we are doing, but very positive that we have a chance to win and that was important to me. What have we accomplished in the first six weeks? The first priority deadline that we all need to keep in mind is 15 January. We need to submit our applicant questionnaire by 15 January. It is a deceptively simple document which actually requires quite a lot of work underneath it. We have to answer some very simple questions about the venues and how we will be approaching the Games and where they will be, etcetera. In order to complete that questionnaire and to move through into the next stage—and we will hear on that sometime early next spring—we are undertaking a number of pieces of work. We are building the team. I have spent more of my time on interviewing people and hiring people than on anything else up to now. I have hired a combination of people with sporting experience and people with Olympic experience and people who come from business. My chief operating officer, whom I hired about a week ago, starts next week and he is a guy called Mike Power. He spent 32 years at Proctor and Gamble, worked all over the world, Japan, Germany, the US and Britain and he will bring a tremendous amount of organisational skill, structure, ability to work with complex projects and deliver. He has a background of that. Mike will be a tremendous asset. Roger Jackson and Dick Palmer are both Olympic experts; they are working right now on the technical bid. They are people who understand the ins and outs of what the International Olympic Committee want and ultimately they are the group we need to satisfy. David Magliano has joined me as the director of marketing. He has a track record in building brands and in creating exciting communications around ideas and that is precisely what we need. I am still in the middle of the search for the chief executive. I have interviewed about ten or so people. I have a group of executive search people who have probably interviewed 20 people, but it is important we find the right person. I am confident that I will do so very shortly. I should love to sit here today and have him or her beside me, but I am still in the middle of that process</td>\n",
       "                        <td id=\"T_3c481_row23_col3\" class=\"data row23 col3\" >0.513910</td>\n",
       "                        <td id=\"T_3c481_row23_col4\" class=\"data row23 col4\" >True</td>\n",
       "            </tr>\n",
       "            <tr>\n",
       "                        <th id=\"T_3c481_level0_row24\" class=\"row_heading level0 row24\" >24</th>\n",
       "                        <td id=\"T_3c481_row24_col0\" class=\"data row24 col0\" >12387</td>\n",
       "                        <td id=\"T_3c481_row24_col1\" class=\"data row24 col1\" >7</td>\n",
       "                        <td id=\"T_3c481_row24_col2\" class=\"data row24 col2\" >The information shows the impact at stations if nothing was done to manage the demand from Games spectators and regular customers, taking into account seasonal demand patterns. Importantly, it also shows how the impact is alleviated when an anticipated reduction of 20 per cent in the total number of journeys is achieved as a result of changed travel patterns at these locations. This reduction is based on work being undertaken by TfL and London 2012 in consultation with businesses, who already expect and have planned that some staff will not travel at these times and locations as they will be working at another location, working from home, taking holiday - perhaps to attend the Games as a spectator</td>\n",
       "                        <td id=\"T_3c481_row24_col3\" class=\"data row24 col3\" >0.401472</td>\n",
       "                        <td id=\"T_3c481_row24_col4\" class=\"data row24 col4\" >True</td>\n",
       "            </tr>\n",
       "            <tr>\n",
       "                        <th id=\"T_3c481_level0_row25\" class=\"row_heading level0 row25\" >25</th>\n",
       "                        <td id=\"T_3c481_row25_col0\" class=\"data row25 col0\" >12333</td>\n",
       "                        <td id=\"T_3c481_row25_col1\" class=\"data row25 col1\" >7</td>\n",
       "                        <td id=\"T_3c481_row25_col2\" class=\"data row25 col2\" >Safety of all road users is of paramount importance to TfL. TfL are undertaking extensive road safety audits on the ORN which will include assessment of pedestrian safety where ORN measures are in place. During the detailed design of the ORN, TfL reduced the number of closed pedestrian facilities after detailed analysis demonstrated that the journey time savings at these crossings would be negligible or minimal</td>\n",
       "                        <td id=\"T_3c481_row25_col3\" class=\"data row25 col3\" >0.383914</td>\n",
       "                        <td id=\"T_3c481_row25_col4\" class=\"data row25 col4\" >True</td>\n",
       "            </tr>\n",
       "            <tr>\n",
       "                        <th id=\"T_3c481_level0_row26\" class=\"row_heading level0 row26\" >26</th>\n",
       "                        <td id=\"T_3c481_row26_col0\" class=\"data row26 col0\" >12389</td>\n",
       "                        <td id=\"T_3c481_row26_col1\" class=\"data row26 col1\" >7</td>\n",
       "                        <td id=\"T_3c481_row26_col2\" class=\"data row26 col2\" >For many station 'hotspots', this reduction in journeys significantly addresses the impact of the Games, other than on particularly busy days and times. For a few stations, a significant challenge remains and TfL is continuing to work with local employers to ensure they understand the impacts, can plan ahead and that we can further mitigate the impacts at these stations. The 'hotspot' information was released eight months ahead of the Games to ensure that businesses and individuals have time to prepare</td>\n",
       "                        <td id=\"T_3c481_row26_col3\" class=\"data row26 col3\" >0.370304</td>\n",
       "                        <td id=\"T_3c481_row26_col4\" class=\"data row26 col4\" >True</td>\n",
       "            </tr>\n",
       "            <tr>\n",
       "                        <th id=\"T_3c481_level0_row27\" class=\"row_heading level0 row27\" >27</th>\n",
       "                        <td id=\"T_3c481_row27_col0\" class=\"data row27 col0\" >12373</td>\n",
       "                        <td id=\"T_3c481_row27_col1\" class=\"data row27 col1\" >7</td>\n",
       "                        <td id=\"T_3c481_row27_col2\" class=\"data row27 col2\" >London 2012 Olympic and Paralympic Games Written evidence submitted by The Newspaper Society LONDON OLYMPIC AND PARALYMPIC GAMES 2012 Accreditation of Journalists from Local and Regional Newspapers Executive Summary Local and regional newspapers will be unable to send their reporters to cover the 2012 Olympics unless further press accreditations are made available. Local and regional newspapers have so far received four of the UK’s 500 passes, with a further small number (under 20) being offered on a \"pool\" basis. Local newspapers in many cases have supported and closely followed the careers of their local athletes over the years: our readership are entitled to, and expect, local reporting of their own \"local heroes\" taking part in the Games</td>\n",
       "                        <td id=\"T_3c481_row27_col3\" class=\"data row27 col3\" >0.368258</td>\n",
       "                        <td id=\"T_3c481_row27_col4\" class=\"data row27 col4\" >True</td>\n",
       "            </tr>\n",
       "            <tr>\n",
       "                        <th id=\"T_3c481_level0_row28\" class=\"row_heading level0 row28\" >28</th>\n",
       "                        <td id=\"T_3c481_row28_col0\" class=\"data row28 col0\" >3639</td>\n",
       "                        <td id=\"T_3c481_row28_col1\" class=\"data row28 col1\" >8</td>\n",
       "                        <td id=\"T_3c481_row28_col2\" class=\"data row28 col2\" >4 UK Sport’s ‘ultimate goals’ for medal success at the London 2012 Games will require a step change in performance amongst elite athletes. The achievements of athletes at recent elite international events in a number of sports, including sailing, cycling, rowing, boxing, disability equestrian and disability shooting, suggest that performance levels in some sports are already improving significantly. Following increased spending on elite sport, host nations can typically expect to win an extra six or seven gold medals at an Olympic Games and to win medals across a wider range of sports. This ‘host nation effect’ would not in itself be enough to deliver UK Sport’s Olympic goal, which is likely to require an improvement of eight or nine gold medals over the Great Britain team’s performance at the Athens Games in 2004 if the relative performance of other nations remained the same. Changes in the performance of other nations since 2004, especially in the context of a general trend of increased spending on elite sport, sometimes referred to as a ‘global sporting arms race’, may also have implications for UK Sport in delivering its medal aspirations</td>\n",
       "                        <td id=\"T_3c481_row28_col3\" class=\"data row28 col3\" >0.512605</td>\n",
       "                        <td id=\"T_3c481_row28_col4\" class=\"data row28 col4\" >True</td>\n",
       "            </tr>\n",
       "            <tr>\n",
       "                        <th id=\"T_3c481_level0_row29\" class=\"row_heading level0 row29\" >29</th>\n",
       "                        <td id=\"T_3c481_row29_col0\" class=\"data row29 col0\" >3817</td>\n",
       "                        <td id=\"T_3c481_row29_col1\" class=\"data row29 col1\" >8</td>\n",
       "                        <td id=\"T_3c481_row29_col2\" class=\"data row29 col2\" >.17 As set out in paragraph 3.9, the Department measures UK Sport’s performance by setting a medal target at 75 per cent of the aggregate of the targets set by UK Sport for individual sports. This adjustment primarily reflects the proportion of medals relative to the targets that the Great Britain team has won at recent Olympic Games:n at the Sydney 2000 Games the Great Britain team won 28 Olympic medals against a target of  38 medals (74 per cent) and 131 Paralympic medals against a target of 145 medals (90 per cent); and n at the Athens 2004 Games, the Great Britain team won 30 Olympic medals against a target of  39 medals (77 per cent) and 94 Paralympic medals against a target of 110 medals (85 per cent)</td>\n",
       "                        <td id=\"T_3c481_row29_col3\" class=\"data row29 col3\" >0.459578</td>\n",
       "                        <td id=\"T_3c481_row29_col4\" class=\"data row29 col4\" >True</td>\n",
       "            </tr>\n",
       "            <tr>\n",
       "                        <th id=\"T_3c481_level0_row30\" class=\"row_heading level0 row30\" >30</th>\n",
       "                        <td id=\"T_3c481_row30_col0\" class=\"data row30 col0\" >3798</td>\n",
       "                        <td id=\"T_3c481_row30_col1\" class=\"data row30 col1\" >8</td>\n",
       "                        <td id=\"T_3c481_row30_col2\" class=\"data row30 col2\" >UK Sport will set targets for the  London 2012 Games following a review of performance at the  Beijing 2008 Games and in the  light of available funding 3.4 In its funding submission for 2012, UK Sport referred to an ‘ultimate goal of finishing fourth in the 2012 Olympics’, though the published funding agreement between the Department and UK Sport at that time, set before the London games were secured, said that the target was fifth. When questioned by the Committee of Public Accounts in March 2006, both the Department and UK Sport maintained there was no target. They attributed the confusion to their inappropriate use of the term “target”, and agreed that various published documents had confused long term aims and specific, measurable, agreed and resourced targets. The Committee recommended that “performance expectations need to be unambiguous and clearly explicable”. They also recommended that, in the knowledge of the resources available to it in the run up to London 2012, UK Sport should decide its medal table targets for 2012, which should be reflected in the targets it agreed with individual sports and reviewed in the light of performance at the Beijing 2008 Games</td>\n",
       "                        <td id=\"T_3c481_row30_col3\" class=\"data row30 col3\" >0.453543</td>\n",
       "                        <td id=\"T_3c481_row30_col4\" class=\"data row30 col4\" >True</td>\n",
       "            </tr>\n",
       "            <tr>\n",
       "                        <th id=\"T_3c481_level0_row31\" class=\"row_heading level0 row31\" >31</th>\n",
       "                        <td id=\"T_3c481_row31_col0\" class=\"data row31 col0\" >3673</td>\n",
       "                        <td id=\"T_3c481_row31_col1\" class=\"data row31 col1\" >8</td>\n",
       "                        <td id=\"T_3c481_row31_col2\" class=\"data row31 col2\" >0 PREPARING FOR SPORTING SUCCESS AT THE LONDON 2012 OLymPIC AND PARALymPIC GAmES AND BEyONDPART ONEUK Sport’s role is to develop elite athletes to represent Great Britain and Northern Ireland at the Olympic and Paralympic Games1.1 UK Sport is the government body with responsibility for leading the development of elite sport in the United Kingdom and is sponsored by the Department for Culture, Media and Sport. The Department itself is responsible for wider Government policy in the culture, media and sport sector (including the National Lottery), and delivers much of its policy objectives through non-departmental public bodies such as UK Sport. UK Sport receives funding from the Exchequer via the Department and receives a share of income from the National Lottery. UK Sport’s objectives and performance targets are set out in a three year funding agreement with the Department. The overall aim of UK Sport’s work is to help the UK’s elite athletes to win medals at the Olympic and Paralympic Games. To achieve this, it provides funding and support through its World Class Performance programme to the national governing bodies whose role it is to oversee the development of each Olympic and Paralympic sport from grassroots to podium level</td>\n",
       "                        <td id=\"T_3c481_row31_col3\" class=\"data row31 col3\" >0.440021</td>\n",
       "                        <td id=\"T_3c481_row31_col4\" class=\"data row31 col4\" >True</td>\n",
       "            </tr>\n",
       "            <tr>\n",
       "                        <th id=\"T_3c481_level0_row32\" class=\"row_heading level0 row32\" >32</th>\n",
       "                        <td id=\"T_3c481_row32_col0\" class=\"data row32 col0\" >15893</td>\n",
       "                        <td id=\"T_3c481_row32_col1\" class=\"data row32 col1\" >9</td>\n",
       "                        <td id=\"T_3c481_row32_col2\" class=\"data row32 col2\" >. The Lee Valley is East London's precious 'green lung'. Much is past and present Common Land, and the Regional Park contains several Nature Reserves and SSSIs. The Lee Valley is a pleasant and tranquil place, once accurately described by the late Dame Joan Littlewood as 'a playground for Londoners'. We are very concerned that this welcome green haven in our overcrowded city could be destroyed simply for the sake of three weeks of organised sport and athletics activities. We therefore write to request that your Department should please drop any thoughts you may have of ruining our Valley for this, or any other, purpose and instead consider more suitable (possibly brownfield or derelict) sites elsewhere</td>\n",
       "                        <td id=\"T_3c481_row32_col3\" class=\"data row32 col3\" >0.404473</td>\n",
       "                        <td id=\"T_3c481_row32_col4\" class=\"data row32 col4\" >True</td>\n",
       "            </tr>\n",
       "            <tr>\n",
       "                        <th id=\"T_3c481_level0_row33\" class=\"row_heading level0 row33\" >33</th>\n",
       "                        <td id=\"T_3c481_row33_col0\" class=\"data row33 col0\" >15839</td>\n",
       "                        <td id=\"T_3c481_row33_col1\" class=\"data row33 col1\" >9</td>\n",
       "                        <td id=\"T_3c481_row33_col2\" class=\"data row33 col2\" >It is a very costly exercise to put on a major international oneoff event, since the scale of the organisation is vastly bigger and the costs in terms of financial https://publications.parliament.uk/pa/cm200203/cmselect/cmcumeds/268/268ap01.htmhttps://publications.parliament.uk/pa/cm200203/cmselect/cmcumeds/268/268ap01.htmcommitment and cashflow, facilities needed and the higher quality of delivery that is required, than any other national event that a sport will have run before. Prior to the essential support of the Lottery, many national sports federations could not even consider staging major sports events, and even so, they will virtually always run at a loss. Additionally, the extra time and effort put in to organising the event can take a major toll on the resources of sport, at a time when it should be gaining extra benefit from having the event on home soil.</td>\n",
       "                        <td id=\"T_3c481_row33_col3\" class=\"data row33 col3\" >0.351111</td>\n",
       "                        <td id=\"T_3c481_row33_col4\" class=\"data row33 col4\" >True</td>\n",
       "            </tr>\n",
       "            <tr>\n",
       "                        <th id=\"T_3c481_level0_row34\" class=\"row_heading level0 row34\" >34</th>\n",
       "                        <td id=\"T_3c481_row34_col0\" class=\"data row34 col0\" >15845</td>\n",
       "                        <td id=\"T_3c481_row34_col1\" class=\"data row34 col1\" >9</td>\n",
       "                        <td id=\"T_3c481_row34_col2\" class=\"data row34 col2\" >If the UK wishes to bid of an Olympic Games, it is only viable if this has the wholehearted support of the Government, both vocally and in financial terms. The experience of Australia over three successive campaigns, where the first bid came from a city, followed by one supported by the state, and finally the successful bid which was undertaken by the national government for Sydney. Unless the Government (and all parties) agree to give full backing for the bid, it will not be successful—and even if it was, then the event could never be staged without the</td>\n",
       "                        <td id=\"T_3c481_row34_col3\" class=\"data row34 col3\" >0.314524</td>\n",
       "                        <td id=\"T_3c481_row34_col4\" class=\"data row34 col4\" >True</td>\n",
       "            </tr>\n",
       "            <tr>\n",
       "                        <th id=\"T_3c481_level0_row35\" class=\"row_heading level0 row35\" >35</th>\n",
       "                        <td id=\"T_3c481_row35_col0\" class=\"data row35 col0\" >15835</td>\n",
       "                        <td id=\"T_3c481_row35_col1\" class=\"data row35 col1\" >9</td>\n",
       "                        <td id=\"T_3c481_row35_col2\" class=\"data row35 col2\" >4. Most relevantly, last summer I was contracted by KPMG as their sports expert to provide input regarding all the sporting aspects of the Commonwealth Games in Manchester, working on behalf of the DCMS, Manchester City Council and Sport England to assess the Lessons Learned from the Games. My report was supplied to KPMG for incorporation into their document, which I understand the Committee has recently considered. Hence, from my above experience, and the fact that I am a member of London Sport, I wish to comment on the potential bid for the 2012 Olympics, based on the commercial aspects of organising such as major sporting event</td>\n",
       "                        <td id=\"T_3c481_row35_col3\" class=\"data row35 col3\" >0.301568</td>\n",
       "                        <td id=\"T_3c481_row35_col4\" class=\"data row35 col4\" >True</td>\n",
       "            </tr>\n",
       "            <tr>\n",
       "                        <th id=\"T_3c481_level0_row36\" class=\"row_heading level0 row36\" >36</th>\n",
       "                        <td id=\"T_3c481_row36_col0\" class=\"data row36 col0\" >7679</td>\n",
       "                        <td id=\"T_3c481_row36_col1\" class=\"data row36 col1\" >10</td>\n",
       "                        <td id=\"T_3c481_row36_col2\" class=\"data row36 col2\" >6. At the time of our hearing, a number of significant areas of uncertainty remained before the budget could be finalised.18  Tax – The Department explained that tax had been excluded from the cost estimates at the time of the bid on the basis that the tax treatment could not be resolved until the delivery structures for the Games were in place.19  Contingency provision – The cost estimates at the time of the bid had included a contingency provision in respect of individual projects, but the Department now considered that an overall programme contingency margin was required to reflect the interdependencies between projects and the risks associated with the knock-on effect that problems on one project could have on the rest of the programme.20  Security – It had not been possible at the time of the bid to provide a reliable estimate of the costs of policing and wider security, and the Department had notified Parliament of a contingent liability in this respect. The Olympic Security Co-ordinator was now working up plans and budgets in association with the Home Office and the Metropolitan Police.21  Private sector funding – At the time of the bid, £738 million of private funding had been expected to help meet costs associated with the Olympic Park. In the light of further work and advice, the Department now considered there was insufficient time to negotiate contracts with the private sector within the overall timescale for the Games, so there was now little prospect of securing significant private sector funding to deliver the Olympic Park. However, most of the funding for the Olympic Village was still expected to come from the private sector.22</td>\n",
       "                        <td id=\"T_3c481_row36_col3\" class=\"data row36 col3\" >0.500911</td>\n",
       "                        <td id=\"T_3c481_row36_col4\" class=\"data row36 col4\" >True</td>\n",
       "            </tr>\n",
       "            <tr>\n",
       "                        <th id=\"T_3c481_level0_row37\" class=\"row_heading level0 row37\" >37</th>\n",
       "                        <td id=\"T_3c481_row37_col0\" class=\"data row37 col0\" >2811</td>\n",
       "                        <td id=\"T_3c481_row37_col1\" class=\"data row37 col1\" >10</td>\n",
       "                        <td id=\"T_3c481_row37_col2\" class=\"data row37 col2\" >3 More information on the public funding at the time of the bid is provided in paragraphs 44 to 51 of the Comptroller and Auditor General’s first report on the preparations for the London 2012 Games.38Cost estimates4 At the time of the bid the net costs that were expected to be covered by the public sector funding package for the Games totalled £2.254 billion (£2.992 billion gross costs less £738 million expected private sector funding). Figure 14 sets out the relevant costs extracted from the London 2012 Candidate File, which was submitted to the International Olympic Committee in November 2004. The cost estimates in the Candidate File were expressed in US dollars at 2004 prices. The table also sets out the equivalent cash outturn estimates at the time of the bid, taking into account assumptions about price inflation</td>\n",
       "                        <td id=\"T_3c481_row37_col3\" class=\"data row37 col3\" >0.438993</td>\n",
       "                        <td id=\"T_3c481_row37_col4\" class=\"data row37 col4\" >True</td>\n",
       "            </tr>\n",
       "            <tr>\n",
       "                        <th id=\"T_3c481_level0_row38\" class=\"row_heading level0 row38\" >38</th>\n",
       "                        <td id=\"T_3c481_row38_col0\" class=\"data row38 col0\" >2524</td>\n",
       "                        <td id=\"T_3c481_row38_col1\" class=\"data row38 col1\" >10</td>\n",
       "                        <td id=\"T_3c481_row38_col2\" class=\"data row38 col2\" >n The expected funding from the National Lottery has increased by £675 million. This means that the total National Lottery contribution of £2.175 billion now includes over £1 billion which will be taken directly from the proceeds raised for the other non-Olympic good causes. The designated Olympic lottery games, expected to contribute some £750 million towards the total £2.175 billion lottery contribution, will also divert sales from mainstream lottery games. This is to be offset, as stated in the Secretary of State’s budget announcement, by providing the other good causes with a share in the expected profits from the sale of land in the Olympic Park after 2012. As the ownership of the land rests with the London Development Agency, profits arising from land sales are not included in the Olympic Delivery Authority’s budget. The profits will be shared with the Government, which in June 2007 expected to recoup for the lottery an estimated £675 million</td>\n",
       "                        <td id=\"T_3c481_row38_col3\" class=\"data row38 col3\" >0.427877</td>\n",
       "                        <td id=\"T_3c481_row38_col4\" class=\"data row38 col4\" >True</td>\n",
       "            </tr>\n",
       "            <tr>\n",
       "                        <th id=\"T_3c481_level0_row39\" class=\"row_heading level0 row39\" >39</th>\n",
       "                        <td id=\"T_3c481_row39_col0\" class=\"data row39 col0\" >2652</td>\n",
       "                        <td id=\"T_3c481_row39_col1\" class=\"data row39 col1\" >10</td>\n",
       "                        <td id=\"T_3c481_row39_col2\" class=\"data row39 col2\" >7 The Secretary of State announced a funding package of £9.325 billion to cover the costs and provisions set out in Figure 5, an increase of £5.906 billion on the public funding of £3.419 billion17 previously committed. (Figure 8) The contributions from the National Lottery and the Greater London Authority have increased, but the bulk of the additional funding is to come from the Exchequer, in line with the Government’s commitment to underwrite the cost of the Games. The costs to be covered by this increase in funding include £1.173 billion of tax18 which will ultimately flow back to the Exchequer. The Department has confirmed to us that the tax liabilities associated with the Games will be met entirely from Exchequer funding19, which means that ultimately the net increase in public sector funding is £4.733 billion. The funding increase of £5.906 billion includes contingency of £2.747 billion which the Department has made clear to us may not be used in full</td>\n",
       "                        <td id=\"T_3c481_row39_col3\" class=\"data row39 col3\" >0.426202</td>\n",
       "                        <td id=\"T_3c481_row39_col4\" class=\"data row39 col4\" >True</td>\n",
       "            </tr>\n",
       "            <tr>\n",
       "                        <th id=\"T_3c481_level0_row40\" class=\"row_heading level0 row40\" >40</th>\n",
       "                        <td id=\"T_3c481_row40_col0\" class=\"data row40 col0\" >8304</td>\n",
       "                        <td id=\"T_3c481_row40_col1\" class=\"data row40 col1\" >11</td>\n",
       "                        <td id=\"T_3c481_row40_col2\" class=\"data row40 col2\" >You think that the assessment of risks is our best estimate of the most likely outcome of the budget as a whole. But actually the assessment of risk-and how we have compiled it-is this: we have not sought to estimate how likely it is that every risk arises. We just said, \"Let us think about every risk that could arise, and let us assume that they all arise and work out the likely cost of them all arising.\" On top of that, we said, \"And there will be some risks that we just cannot think about that are unknown unknowns. There will be some multiple consequentials if everything came together.\" So we end up with an estimate not of the most likely cost of the project, which is what the burden of paragraph 1 of the PAC Report understands it is, but an estimate of how much we would need to set aside in the very unlikely event that all risks arise and some more unknown risks arise as well. The purpose of that is not to get to an estimate of the likely outcome of the budget. Its purpose and why we do it is to see, against any reasonable view of the likely risk that might arise, even on an assumption that they all arise and some more unknown risks arise, whether we have enough money. The conclusion has always been, yes, we had. Against what is therefore, in my view, a conservative and prudent estimate, we had £36 million headroom at the time of the NAO Report. We had more, and indeed the picture over the six-month period since the original figures on which the NAO was recording this, is that the contingency has gone down by £27 million or so-we reckon, because these are provisional figures, but I want to give our best figures-and the assessed risks on that very conservative and prudent basis have gone down by £136 million. So the picture on the budget as a whole is that we are spending contingency significantly slower than risks are disappearing from the programme. That is why, without in any sense being complacent, I am confident that we will bring this in within budget, and I do not think that the budget is close to being used up</td>\n",
       "                        <td id=\"T_3c481_row40_col3\" class=\"data row40 col3\" >0.591896</td>\n",
       "                        <td id=\"T_3c481_row40_col4\" class=\"data row40 col4\" >True</td>\n",
       "            </tr>\n",
       "            <tr>\n",
       "                        <th id=\"T_3c481_level0_row41\" class=\"row_heading level0 row41\" >41</th>\n",
       "                        <td id=\"T_3c481_row41_col0\" class=\"data row41 col0\" >8388</td>\n",
       "                        <td id=\"T_3c481_row41_col1\" class=\"data row41 col1\" >11</td>\n",
       "                        <td id=\"T_3c481_row41_col2\" class=\"data row41 col2\" >Jonathan Stephens: There are two aspects to risk: likelihood and impact. What we are saying is that we made no estimate of likelihood, we just wrote in a 100% likelihood of all the risks we could think of and some unknown risks that we could not think of. We then looked at impact, and on impact we said, \"If this risk were to materialise-we are assuming a 100% likelihood that it materialises-what is the likely cost?\" That is where you get the low, the most likely outcome and the high outcome. When you add those together, you do not get to an outcome of, \"What is the most likely expenditure on the programme?\"; you get to an outcome of, \"If all conceivable risks arise, plus some unknown risks that we cannot identify, what is the likely expenditure?\" That is a conservative and prudent view of, \"Do we have enough contingency left, if all those risks arise?\" In practice, they won’t all arise. It is conceivable that some will arise, but it is pretty unlikely that all of them will arise. It is perfectly conceivable that some individual risk will arise at a higher estimate than the most likely estimate, but the prospect of all those risks arising is unlikely. The prospect of them all arising at the very highest possible cost is so unlikely as to not provide a good basis for planning. I am sorry. I am going on at some length, but there is a real point</td>\n",
       "                        <td id=\"T_3c481_row41_col3\" class=\"data row41 col3\" >0.523839</td>\n",
       "                        <td id=\"T_3c481_row41_col4\" class=\"data row41 col4\" >True</td>\n",
       "            </tr>\n",
       "            <tr>\n",
       "                        <th id=\"T_3c481_level0_row42\" class=\"row_heading level0 row42\" >42</th>\n",
       "                        <td id=\"T_3c481_row42_col0\" class=\"data row42 col0\" >12966</td>\n",
       "                        <td id=\"T_3c481_row42_col1\" class=\"data row42 col1\" >11</td>\n",
       "                        <td id=\"T_3c481_row42_col2\" class=\"data row42 col2\" >Jonathan Stephens: No, what I am saying is that we have tried to identify all possible risks that we can think of. We have then said, what impact do they have? What is the range? The high, medium and low, the medium being the most likely. If that risk materialises, what is the most likely outcome? You might then also say, having identified all your risks, how likely is it that each one materialises? That would then lead you to something that could be, as the Committee’s Report refers to it, characterised as \"the most likely expenditure\". But I am just trying to be clear. I suspect we haven’t explained it clearly enough, but there is a real important point at the bottom of it: that is not what we did. We said we will just assume all the risk materialised. We will not try to estimate which one is more likely to materialise and which one isn’t, and what sort of percentage figure to put against it. We will just assume they will all materialise, and put in the most likely cost if it does materialise to get to a conservative and prudent</td>\n",
       "                        <td id=\"T_3c481_row42_col3\" class=\"data row42 col3\" >0.443681</td>\n",
       "                        <td id=\"T_3c481_row42_col4\" class=\"data row42 col4\" >True</td>\n",
       "            </tr>\n",
       "            <tr>\n",
       "                        <th id=\"T_3c481_level0_row43\" class=\"row_heading level0 row43\" >43</th>\n",
       "                        <td id=\"T_3c481_row43_col0\" class=\"data row43 col0\" >8320</td>\n",
       "                        <td id=\"T_3c481_row43_col1\" class=\"data row43 col1\" >11</td>\n",
       "                        <td id=\"T_3c481_row43_col2\" class=\"data row43 col2\" >54. There was controversy, at the time of the oral evidence given by the Mayor’s Office, about an apparent discrepancy between figures for receipts from land sales implied in the Revised Memorandum of Understanding (which imply that £1.8 billion or more may be raised) and a forecast of £800 million cited by the Mayor of London in a press conference in April 2007. Mr Coleman stressed that the figure £800 million figure quoted by the Mayor in 2007 was based upon “extremely prudent assumptions in terms of the density and quantum of development” on the Olympic Park site after the Games85 as well as a cautious estimate of increases in land values—6%—equivalent to the lowest annual increase in any of the last ten years in the area. He said that estimates for returns on land sales ranged between £800 million figure and £3 billion, with the higher figure being calculated on the assumption that increases in land values would match the 19% annual average experienced over the past 20 years.86 The Minister for the Olympics pointed out  81 In order to cover costs of land acquisition and “disturbance compensation payments”: see Revised Memorandum of Understanding, paragraph 10</td>\n",
       "                        <td id=\"T_3c481_row43_col3\" class=\"data row43 col3\" >0.400617</td>\n",
       "                        <td id=\"T_3c481_row43_col4\" class=\"data row43 col4\" >True</td>\n",
       "            </tr>\n",
       "            <tr>\n",
       "                        <th id=\"T_3c481_level0_row44\" class=\"row_heading level0 row44\" >44</th>\n",
       "                        <td id=\"T_3c481_row44_col0\" class=\"data row44 col0\" >5249</td>\n",
       "                        <td id=\"T_3c481_row44_col1\" class=\"data row44 col1\" >12</td>\n",
       "                        <td id=\"T_3c481_row44_col2\" class=\"data row44 col2\" >Mr Altman: We found that very few—actually none—of the other Olympic cities set up a legacy company two and a half/three years before Games. We have been going through facility by facility to understand for each venue exactly what has been programmed and how it has been designed. There was a lot of thought given to legacy in each of those specific venues. We are now evaluating those to make sure, as we look to take possession of those assets in the future as the Legacy Company, that we have sufficient flexibility for other uses that may be needed to accommodate other uses. We are doing that assessment now. There has been a lot of thought around many of these facilities with legacy in mind, it is not something that was done as an afterthought, so we feel comfortable we will have a lot of room to manoeuvre. A lot will come out in the next year as we get into the specifics and go through the process of procuring operators for each of the venues and working with them to ensure that the buildings work and can be maximised, so there is still work ahead</td>\n",
       "                        <td id=\"T_3c481_row44_col3\" class=\"data row44 col3\" >0.124029</td>\n",
       "                        <td id=\"T_3c481_row44_col4\" class=\"data row44 col4\" >False</td>\n",
       "            </tr>\n",
       "            <tr>\n",
       "                        <th id=\"T_3c481_level0_row45\" class=\"row_heading level0 row45\" >45</th>\n",
       "                        <td id=\"T_3c481_row45_col0\" class=\"data row45 col0\" >2143</td>\n",
       "                        <td id=\"T_3c481_row45_col1\" class=\"data row45 col1\" >12</td>\n",
       "                        <td id=\"T_3c481_row45_col2\" class=\"data row45 col2\" >17.  In addition to acting as interim legacy client for the Olympic Park, the LDA is working with partners to ensure a wider sporting legacy from the 2012 Games.[1] Already Londoners are starting to see the legacy benefits for sport of hosting the 2012 Games. We are also linking our work on venue legacy with work to widen participation in sport: for example by developing clubs so that they have the capacity to make best use of Olympic facilities after 2012</td>\n",
       "                        <td id=\"T_3c481_row45_col3\" class=\"data row45 col3\" >0.116097</td>\n",
       "                        <td id=\"T_3c481_row45_col4\" class=\"data row45 col4\" >False</td>\n",
       "            </tr>\n",
       "            <tr>\n",
       "                        <th id=\"T_3c481_level0_row46\" class=\"row_heading level0 row46\" >46</th>\n",
       "                        <td id=\"T_3c481_row46_col0\" class=\"data row46 col0\" >9657</td>\n",
       "                        <td id=\"T_3c481_row46_col1\" class=\"data row46 col1\" >12</td>\n",
       "                        <td id=\"T_3c481_row46_col2\" class=\"data row46 col2\" >Tessa Jowell: I do not think I have to underline to the Committee how seriously we have taken the legacy issue, and I think that I am right in saying that each of the venues already has a 25-year business plan in place, and we are clear about its legacy use; and I have already made the point about the way in which legacy will be designed into the structure of the Games</td>\n",
       "                        <td id=\"T_3c481_row46_col3\" class=\"data row46 col3\" >0.111014</td>\n",
       "                        <td id=\"T_3c481_row46_col4\" class=\"data row46 col4\" >False</td>\n",
       "            </tr>\n",
       "            <tr>\n",
       "                        <th id=\"T_3c481_level0_row47\" class=\"row_heading level0 row47\" >47</th>\n",
       "                        <td id=\"T_3c481_row47_col0\" class=\"data row47 col0\" >14050</td>\n",
       "                        <td id=\"T_3c481_row47_col1\" class=\"data row47 col1\" >12</td>\n",
       "                        <td id=\"T_3c481_row47_col2\" class=\"data row47 col2\" >. The Olympic Board has identified the LDA as the interim legacy body for the 2012 Games. Inperforming this central legacy role, the LDA has responsibility for:— acting as the legacy client and establishing a robust post Games legacy structure for the futuremanagement of the parklands and venues;— delivering the legacy master plan for the Games through a legacy master planning frameworkprocess;— establishing and delivering a development strategy for the land and legacy;— leading the legacy and business planning process for the Olympic parkland and venues; and— securing the socio-economic and sporting benefits arising from the Games</td>\n",
       "                        <td id=\"T_3c481_row47_col3\" class=\"data row47 col3\" >0.110382</td>\n",
       "                        <td id=\"T_3c481_row47_col4\" class=\"data row47 col4\" >False</td>\n",
       "            </tr>\n",
       "            <tr>\n",
       "                        <th id=\"T_3c481_level0_row48\" class=\"row_heading level0 row48\" >48</th>\n",
       "                        <td id=\"T_3c481_row48_col0\" class=\"data row48 col0\" >16911</td>\n",
       "                        <td id=\"T_3c481_row48_col1\" class=\"data row48 col1\" >13</td>\n",
       "                        <td id=\"T_3c481_row48_col2\" class=\"data row48 col2\" >— Strategic planning and partnerships: Local Authorities are uniquely placed at the juncture of local communities and sport, working closely with County Sport and Physical Activity Partnerships, National Governing Bodies and local sports clubs. It is here that we can help realise the benefits of sport for all. Councils also lead Local Strategic Partnerships and can bring together partners from the public, private and third sectors to take coordinated action in pursuit of shared goals, often including sport.  — Unlocking the wider benefits of sport: Local government, in partnership with other agencies and the private and third sectors, already use sport as a powerful tool to achieve wider outcomes. The passion and enthusiasm of the Olympic and Paralympic Games can inspire people to change the habits of a lifetime, and legacy needs to focus strongly on how sport and physical activity can help to create healthier, stronger and safer communities. Sport can be used to develop positive activities for young people, improve the well-being of children or boost the local economy through hosting major events</td>\n",
       "                        <td id=\"T_3c481_row48_col3\" class=\"data row48 col3\" >0.416419</td>\n",
       "                        <td id=\"T_3c481_row48_col4\" class=\"data row48 col4\" >True</td>\n",
       "            </tr>\n",
       "            <tr>\n",
       "                        <th id=\"T_3c481_level0_row49\" class=\"row_heading level0 row49\" >49</th>\n",
       "                        <td id=\"T_3c481_row49_col0\" class=\"data row49 col0\" >17674</td>\n",
       "                        <td id=\"T_3c481_row49_col1\" class=\"data row49 col1\" >13</td>\n",
       "                        <td id=\"T_3c481_row49_col2\" class=\"data row49 col2\" >— Inflexibility of sporting activities Team sport is usually played at regular set times during the week, yet many women, particularly those who have caring responsibilities and/or work full time, do not feel they can make a commitment that involves regular, inflexible training and match times. Women can find it difficult to access a sport at a level that suits them. There is a lack of introductory sessions for team sport, and new participants are often deterred by expectations that they will play in a competitive league. Sport needs to be flexible so women can fit it into their busy lives. At a practical level, payment options should be flexible and women should be able to access facilities at times that suit them. Where possible cre«che and child care facilities should be available at gyms and sport clubs. Policy makers could also consider promoting physical activity that does not require travelling to a club or sports centre, such as walking or jogging, which women often find more flexible and easier to fit into their lives</td>\n",
       "                        <td id=\"T_3c481_row49_col3\" class=\"data row49 col3\" >0.414557</td>\n",
       "                        <td id=\"T_3c481_row49_col4\" class=\"data row49 col4\" >True</td>\n",
       "            </tr>\n",
       "            <tr>\n",
       "                        <th id=\"T_3c481_level0_row50\" class=\"row_heading level0 row50\" >50</th>\n",
       "                        <td id=\"T_3c481_row50_col0\" class=\"data row50 col0\" >17695</td>\n",
       "                        <td id=\"T_3c481_row50_col1\" class=\"data row50 col1\" >13</td>\n",
       "                        <td id=\"T_3c481_row50_col2\" class=\"data row50 col2\" >3.7  National Talent Orientation Camp (NTOC) is an annual camp held to prepare talented young sports people aged 14-16 for the personal, sporting, academic and vocational challenges beyond compulsory education. The camp offers the opportunity to experience a multi-sport camp and train alongside other like minded young people. They get to meet hugely successful and respected role models from their sport and from other sports as well as find out from Paralympians and Olympians what it really takes to be the best in their sport. The camp is a blend of training sessions, workshops and key note speeches. The athletes will undergo several scenarios that may happen in the life of a real high performance athlete. Parents and teacher mentors are https://publications.parliament.uk/pa/cm200910/cmselect/cmcumeds/416/416we20.htm#note13encouraged to attend the final day workshop. There is also a university road show to help the young performers find out about the sport support at those universities</td>\n",
       "                        <td id=\"T_3c481_row50_col3\" class=\"data row50 col3\" >0.411895</td>\n",
       "                        <td id=\"T_3c481_row50_col4\" class=\"data row50 col4\" >True</td>\n",
       "            </tr>\n",
       "            <tr>\n",
       "                        <th id=\"T_3c481_level0_row51\" class=\"row_heading level0 row51\" >51</th>\n",
       "                        <td id=\"T_3c481_row51_col0\" class=\"data row51 col0\" >16907</td>\n",
       "                        <td id=\"T_3c481_row51_col1\" class=\"data row51 col1\" >13</td>\n",
       "                        <td id=\"T_3c481_row51_col2\" class=\"data row51 col2\" >— Local political leadership: Locally elected councillors know the needs of their communities and their aspirations for a sporting legacy. They can make sure that sport is given a high priority locally, is reflected in strategic planning and is championed in partnerships. Councillors are uniquely placed to reach those on the margins of society who are not reached through traditional forms of community engagement. This is particularly important in reaching out to young people, who are at the heart of national sporting legacy ambitions. Councillors who understand the potential of the 2012 Games to benefit their communities are also passionate advocates and champions of sporting legacy, helping to enthuse less engaged peers within their own council and beyond.</td>\n",
       "                        <td id=\"T_3c481_row51_col3\" class=\"data row51 col3\" >0.388920</td>\n",
       "                        <td id=\"T_3c481_row51_col4\" class=\"data row51 col4\" >True</td>\n",
       "            </tr>\n",
       "            <tr>\n",
       "                        <th id=\"T_3c481_level0_row52\" class=\"row_heading level0 row52\" >52</th>\n",
       "                        <td id=\"T_3c481_row52_col0\" class=\"data row52 col0\" >10424</td>\n",
       "                        <td id=\"T_3c481_row52_col1\" class=\"data row52 col1\" >14</td>\n",
       "                        <td id=\"T_3c481_row52_col2\" class=\"data row52 col2\" >38. The London Borough of Newham suggested to us that “opportunities for a wider cultural legacy for the Park are currently being overlooked in the legacy planning processes”, and it claimed that cultural planning for the Olympics “currently only identifies a narrow spread of stakeholders, largely excluding representation from local authorities and key local and regional cultural partners”.291 Heritage Link also relayed to us anxiety felt among smaller voluntary sector organisations that they were somewhat marginalised in discussions on maximising the benefits of the Olympics.292 We put this latter point to witnesses representing the Nations and Regions Group, who sought to reassure us that within the various regional groups culture was “very much embedded” and that (at least in the case of the East of England and the South West) the Regional Cultural Consortium was “one of the key partners” or was the source of cultural initiatives for the regional group. 293</td>\n",
       "                        <td id=\"T_3c481_row52_col3\" class=\"data row52 col3\" >0.374719</td>\n",
       "                        <td id=\"T_3c481_row52_col4\" class=\"data row52 col4\" >True</td>\n",
       "            </tr>\n",
       "            <tr>\n",
       "                        <th id=\"T_3c481_level0_row53\" class=\"row_heading level0 row53\" >53</th>\n",
       "                        <td id=\"T_3c481_row53_col0\" class=\"data row53 col0\" >2322</td>\n",
       "                        <td id=\"T_3c481_row53_col1\" class=\"data row53 col1\" >14</td>\n",
       "                        <td id=\"T_3c481_row53_col2\" class=\"data row53 col2\" >There is no guarantee that Camelot's estimates will be delivered and the simple transfer of income from existing games to achieve the 2006-07 target may be problematic for other Lottery Distributors—something which OLD would wish to avoid in the wider interests of the reputation of the National Lottery. However, In the year 2006-07 OLD has offered grants totalling £77 million to the ODA and has paid £15 million to date. Therefore we can be confident that our income will be sufficient to meet our commitments this year. (Our estimate of running costs for 2006-07 is £749,000.)   Nevertheless, any shortfall in income would cause problems in future years as the ODA's needs grow. In future years, OLD will not have unspent income to cushion it from variations in the performance of the Games allocated to the OLDF. There are three strategies to mitigate impacts of a shortfall. The first is to ensure that there is close liaison between ODA, OLD, the National Lottery Commission and the operator of the National Lottery so that there is a clear understanding of the projected income and expenditure of OLD. This should ensure that ample warning is given of any cashflow problems. The second is to revise the shares of income from specific games going to the NLDF and the OLDF. This would be a temporary measure which could assist in overcoming temporary cashflow difficulties. It simply brings forward the point at which the £750 million target is reached. Whilst such transfers would not increase the overall financial impact of the OLD on other Lottery Distributors, they could concentrate those impacts and reduce income within the year, possibly creating planning difficulties for other Distributors. This is not therefore an ideal solution from the point of view of OLD, and we are also mindful that the National Lottery Commission will, rightly, scrutinise such proposals carefully for this reason. The third strategy is to ensure that alternate sources of funding are identified and secured in good time</td>\n",
       "                        <td id=\"T_3c481_row53_col3\" class=\"data row53 col3\" >0.367545</td>\n",
       "                        <td id=\"T_3c481_row53_col4\" class=\"data row53 col4\" >True</td>\n",
       "            </tr>\n",
       "            <tr>\n",
       "                        <th id=\"T_3c481_level0_row54\" class=\"row_heading level0 row54\" >54</th>\n",
       "                        <td id=\"T_3c481_row54_col0\" class=\"data row54 col0\" >10389</td>\n",
       "                        <td id=\"T_3c481_row54_col1\" class=\"data row54 col1\" >14</td>\n",
       "                        <td id=\"T_3c481_row54_col2\" class=\"data row54 col2\" >19. There was much more optimism about scope for increasing tourist traffic after the Games. Mr Castle, the East of England representative on the Nations and Regions Group, described the Games as a “shop window” for the UK. Both he and the Tourism Management Institute saw scope for the Games to generate business tourism.254 The DCMS memorandum stated that “experience from recent host cities indicates that tourism will increase significantly across the UK, most notably after the Games”;255 and the Tourism Alliance told us that DCMS expected that up to 80% of the legacy benefit to be derived from hosting the Games would be gained through “increased tourism as a result of [the] high degree of international media exposure”.256 The Tourism Alliance itself agreed that the main way that lasting benefits would be reaped would be through media exposure; but it saw Government investment in a tourism strategy as being a necessary part of drawing on that exposure; and it spoke of a “lack of realisation within DCMS that additional funds need to be committed … to marketing and media support”. The Government has pledged that the interests of tourism “will be taken into account in all Olympic policy decisions”; underlying this pledge, however, was a statement by the Secretary of State that, in order to increase the number of visitors as a result of the Games, the tourism industry needed “to improve the consistency of its quality, raise the level of skill and, through imaginative marketing, showcase Britain’s heritage and its dynamic, 21st century cities”.257</td>\n",
       "                        <td id=\"T_3c481_row54_col3\" class=\"data row54 col3\" >0.359720</td>\n",
       "                        <td id=\"T_3c481_row54_col4\" class=\"data row54 col4\" >True</td>\n",
       "            </tr>\n",
       "            <tr>\n",
       "                        <th id=\"T_3c481_level0_row55\" class=\"row_heading level0 row55\" >55</th>\n",
       "                        <td id=\"T_3c481_row55_col0\" class=\"data row55 col0\" >10327</td>\n",
       "                        <td id=\"T_3c481_row55_col1\" class=\"data row55 col1\" >14</td>\n",
       "                        <td id=\"T_3c481_row55_col2\" class=\"data row55 col2\" >3. The potential for a further call on the National Lottery Distribution Fund, above the £410 million foreseen in 2003 when the funding package was drawn up, has never been ruled out by Secretary of State. Indeed, she reiterated to the Committee both in July 2006177 and in November178 that she would be prepared to draw further on Lottery revenues. Any such transfer would be under an order subject to affirmative resolution in Parliament. The Explanatory Notes provided by the Government to the Horserace Betting and Olympic Lottery Act 2004 state that such an order (under section 25 of the Act) “would be made only in exceptional circumstances”. We note the warning from the Lottery Forum that any such requirement for additional Lottery funding “would reduce NLDF distributors’ ability to deliver a full and balanced portfolio of activity”.179 We received evidence in our recent inquiry into heritage about the damaging impact on the Heritage Lottery Fund of the reduction in Lottery income;180 this impact is likely to be equally matched in the arts and voluntary sectors. A further transfer of Lottery revenues from the National Lottery Distribution Fund to the Olympic Lottery Distribution Fund, above the £410 million already identified, would penalise good causes yet further. We believe that any further diversion of money from the Lottery would reduce the money available for each of the good causes, and it is not our preferred option for funding any overspend</td>\n",
       "                        <td id=\"T_3c481_row55_col3\" class=\"data row55 col3\" >0.338347</td>\n",
       "                        <td id=\"T_3c481_row55_col4\" class=\"data row55 col4\" >True</td>\n",
       "            </tr>\n",
       "            <tr>\n",
       "                        <th id=\"T_3c481_level0_row56\" class=\"row_heading level0 row56\" >56</th>\n",
       "                        <td id=\"T_3c481_row56_col0\" class=\"data row56 col0\" >4538</td>\n",
       "                        <td id=\"T_3c481_row56_col1\" class=\"data row56 col1\" >15</td>\n",
       "                        <td id=\"T_3c481_row56_col2\" class=\"data row56 col2\" >.2.8Sub-objectiveMaximise the economic, social, health and environmental benefits the Games bring to the UK and all sections of the UK populationMaximise the employment and skills benefits for the UK arising from Games-related businessMaximise the wider economic benefits of the Games across the UK, including those for tourism and business promotionMaximise cultural benefits from hosting the Games and the Cultural OlympiadMaximise social benefits, including in health, education and volunteering, of hosting the GamesEnsure that the Games contribute to Sustainable Communities priorities, including the wider Thames GatewayAgree and promote sustainable development and procurement policies, including commitments to sustainable energy and waste management goalsPromote positive images of the UK to an international audienceEnsure the UK’s diverse communities are engaged with, and benefit from, the changes and opportunities arising from hosting the Games in the UKMaximise the economic, social, health and environmental benefits the Games bring to London and all LondonersMaximise the employment and skills benefits for Londoners arising from Games-related businessMaximise the wider economic benefits of the Games to London, including those for tourism and business promotionMaximise cultural benefits to Londoners from hosting the Games and the Cultural OlympiadMaximise social benefits to Londoners, including in health, education and volunteering, of hosting the GamesEnsure that the Games contribute to Sustainable Communities priorities, including the London Thames GatewayAgree and promote sustainable development and procurement policies, including commitments to sustainable energy and waste management goalsPromote London’s image as a leading world city to an international audienceEnsure London’s diverse communities are engaged with, and benefit from, the changes and opportunities arising from hosting the Games in LondonAPPENDIX FIVE</td>\n",
       "                        <td id=\"T_3c481_row56_col3\" class=\"data row56 col3\" >0.455466</td>\n",
       "                        <td id=\"T_3c481_row56_col4\" class=\"data row56 col4\" >True</td>\n",
       "            </tr>\n",
       "            <tr>\n",
       "                        <th id=\"T_3c481_level0_row57\" class=\"row_heading level0 row57\" >57</th>\n",
       "                        <td id=\"T_3c481_row57_col0\" class=\"data row57 col0\" >16483</td>\n",
       "                        <td id=\"T_3c481_row57_col1\" class=\"data row57 col1\" >15</td>\n",
       "                        <td id=\"T_3c481_row57_col2\" class=\"data row57 col2\" >4.1  The aim is that in the next 20 years, residents in the host boroughs will equal the London average in a range of the life indicators which you would expect to find in a successful community: — employment rates will increase to the London average; — average incomes in the bottom two fifths of earners in the host borough area will be increased to the London average; — young people in the host borough area will have improved GCSE results to at least the London average; — host borough 11 year olds will have at least the same educational attainment as the London average; — the number of families in receipt of benefits in the host boroughs area will fall to no more than the London average; — the rate of violent crime will continue to fall and reflect the London average; and — residents in the host boroughs area, particularly men, will have increased life expectancy to the London average</td>\n",
       "                        <td id=\"T_3c481_row57_col3\" class=\"data row57 col3\" >0.441920</td>\n",
       "                        <td id=\"T_3c481_row57_col4\" class=\"data row57 col4\" >True</td>\n",
       "            </tr>\n",
       "            <tr>\n",
       "                        <th id=\"T_3c481_level0_row58\" class=\"row_heading level0 row58\" >58</th>\n",
       "                        <td id=\"T_3c481_row58_col0\" class=\"data row58 col0\" >16781</td>\n",
       "                        <td id=\"T_3c481_row58_col1\" class=\"data row58 col1\" >15</td>\n",
       "                        <td id=\"T_3c481_row58_col2\" class=\"data row58 col2\" >Social and economic regeneration   3.7  Hackney has worked closely with the other four host boroughs since 2003 (Greenwich, Newham, Tower Hamlets and Waltham Forest). Strong local partnerships are forming within and between the boroughs as a direct result of hosting the Olympics. This has resulted in a Multi Area Agreement to tackle worklessness, improve housing and invest in the public realm across the five host boroughs. Hackney has seen a significant rise in its employment rate, which is now only 0.5% below the London average. Whilst this is not directly attributable to the Games, there is no doubt that the successful worklessness programmes led by the local authority and its partners have benefited from the intensified economic interest in the area</td>\n",
       "                        <td id=\"T_3c481_row58_col3\" class=\"data row58 col3\" >0.376331</td>\n",
       "                        <td id=\"T_3c481_row58_col4\" class=\"data row58 col4\" >True</td>\n",
       "            </tr>\n",
       "            <tr>\n",
       "                        <th id=\"T_3c481_level0_row59\" class=\"row_heading level0 row59\" >59</th>\n",
       "                        <td id=\"T_3c481_row59_col0\" class=\"data row59 col0\" >16204</td>\n",
       "                        <td id=\"T_3c481_row59_col1\" class=\"data row59 col1\" >15</td>\n",
       "                        <td id=\"T_3c481_row59_col2\" class=\"data row59 col2\" >18. We see transport infrastructure as crucial both to a successful bid and to negate detrimental impacts for Hackney. While we are not the only inner London borough to not have a tube station, we are the only one on the north bank of the Thames and we are surrounded by boroughs with tube stations. This makes us appear to have poor public transport links and has a detrimental effect on the borough and its regeneration potential. In terms of attracting and growing local business, transport links is one of the key factors that deter business from moving into the borough.</td>\n",
       "                        <td id=\"T_3c481_row59_col3\" class=\"data row59 col3\" >0.361846</td>\n",
       "                        <td id=\"T_3c481_row59_col4\" class=\"data row59 col4\" >True</td>\n",
       "            </tr>\n",
       "    </tbody></table>"
      ],
      "text/plain": [
       "<pandas.io.formats.style.Styler at 0x1afa4b4a0d0>"
      ]
     },
     "execution_count": 245,
     "metadata": {},
     "output_type": "execute_result"
    }
   ],
   "source": [
    "L = 0.25                                                # set the optimal L based on the analysis above                                             \n",
    "top_n_above_L = top_n_filter(df_topic_para2, int(1/L))\n",
    "top_n_above_L['porobability >= L'] = top_n_above_L['probability'] >= L\n",
    "top_n_above_L.style.set_properties(subset = ['salient_paragraph'], **{'width':'500px', 'length': '50px'})"
   ]
  },
  {
   "cell_type": "markdown",
   "metadata": {},
   "source": [
    "### 5.3.4. N most prototypical paragraphs of each topic"
   ]
  },
  {
   "cell_type": "code",
   "execution_count": 246,
   "metadata": {},
   "outputs": [
    {
     "data": {
      "text/html": [
       "<style  type=\"text/css\" >\n",
       "#T_0ff5e_row0_col2,#T_0ff5e_row1_col2,#T_0ff5e_row2_col2,#T_0ff5e_row3_col2,#T_0ff5e_row4_col2,#T_0ff5e_row5_col2,#T_0ff5e_row6_col2,#T_0ff5e_row7_col2,#T_0ff5e_row8_col2,#T_0ff5e_row9_col2,#T_0ff5e_row10_col2,#T_0ff5e_row11_col2,#T_0ff5e_row12_col2,#T_0ff5e_row13_col2,#T_0ff5e_row14_col2,#T_0ff5e_row15_col2,#T_0ff5e_row16_col2,#T_0ff5e_row17_col2,#T_0ff5e_row18_col2,#T_0ff5e_row19_col2,#T_0ff5e_row20_col2,#T_0ff5e_row21_col2,#T_0ff5e_row22_col2,#T_0ff5e_row23_col2,#T_0ff5e_row24_col2,#T_0ff5e_row25_col2,#T_0ff5e_row26_col2,#T_0ff5e_row27_col2,#T_0ff5e_row28_col2,#T_0ff5e_row29_col2{\n",
       "            width:  500px;\n",
       "            length:  50px;\n",
       "        }</style><table id=\"T_0ff5e_\" ><thead>    <tr>        <th class=\"blank level0\" ></th>        <th class=\"col_heading level0 col0\" >Index</th>        <th class=\"col_heading level0 col1\" >topic_id</th>        <th class=\"col_heading level0 col2\" >salient_paragraph</th>        <th class=\"col_heading level0 col3\" >probability</th>    </tr></thead><tbody>\n",
       "                <tr>\n",
       "                        <th id=\"T_0ff5e_level0_row0\" class=\"row_heading level0 row0\" >0</th>\n",
       "                        <td id=\"T_0ff5e_row0_col0\" class=\"data row0 col0\" >2115</td>\n",
       "                        <td id=\"T_0ff5e_row0_col1\" class=\"data row0 col1\" >1</td>\n",
       "                        <td id=\"T_0ff5e_row0_col2\" class=\"data row0 col2\" >In July LOCOG issued guidelines for UK sporting facilities to help them in their bid to offer Pre-Games Training facilities to host international teams in 2012. Following the on-line application process, due to end in January 2007, those facilities meeting the criteria will be included in a guide for all National Olympic Committees (NOCs) and National Paralympic Committees (NPCs) which will be issued in 2008. Pre-Games Training Camps will help to engage the whole country and spread the benefits of the Games throughout the UK</td>\n",
       "                        <td id=\"T_0ff5e_row0_col3\" class=\"data row0 col3\" >0.133998</td>\n",
       "            </tr>\n",
       "            <tr>\n",
       "                        <th id=\"T_0ff5e_level0_row1\" class=\"row_heading level0 row1\" >1</th>\n",
       "                        <td id=\"T_0ff5e_row1_col0\" class=\"data row1 col0\" >10022</td>\n",
       "                        <td id=\"T_0ff5e_row1_col1\" class=\"data row1 col1\" >1</td>\n",
       "                        <td id=\"T_0ff5e_row1_col2\" class=\"data row1 col2\" >Lord Coe: Some of these sports are less specific. If you are a track and field nation then you might decide on the track and field facilities at Bath, Loughborough, Sheffield or wherever, it is not quite as specific as sailing. The other important issue is that we have a whole raft of facilities that can be used at any one stage in that whole build-up process but it is, as Keith said, for the National Olympic Committees to make that decision. I have to say nobody would have told Craig or Simon Clegg from the British Olympic Association that Narromine was better than Noosa and Noosa better than somewhere on the Queensland coast of Australia, that was a judgment those guys made</td>\n",
       "                        <td id=\"T_0ff5e_row1_col3\" class=\"data row1 col3\" >0.130003</td>\n",
       "            </tr>\n",
       "            <tr>\n",
       "                        <th id=\"T_0ff5e_level0_row2\" class=\"row_heading level0 row2\" >2</th>\n",
       "                        <td id=\"T_0ff5e_row2_col0\" class=\"data row2 col0\" >12700</td>\n",
       "                        <td id=\"T_0ff5e_row2_col1\" class=\"data row2 col1\" >2</td>\n",
       "                        <td id=\"T_0ff5e_row2_col2\" class=\"data row2 col2\" >2. British Cycling told us that the cycling facilities at the Velopark had “the potential to be absolutely world-class” and that they “should be the very best anywhere in the world”.152 There has nonetheless been a certain amount of controversy about the extent to which the Velopark will offer a suitable replacement for off-road facilities at the former Eastway Circuit, lost when land was assembled by the LDA for incorporation into the Olympic Park. The design currently proposed by the ODA for the Velopark offers most of the facilities previously available at Eastway, albeit in a more fragmented layout. British Cycling, despite being supportive of the proposed design for use during the Games and despite anticipating that, after the Games, the Velopark will “provide a boost for cycling”,153 initially lodged objections to the relevant planning applications on the grounds that they did “not provide an adequate or comparable replacement for the road and off-road facilities provided to cycling on the Eastway Circuit”. British Cycling is now satisfied that the ODA has taken on board its concerns and that current plans for the Velopark offer an acceptable replacement for Eastway. The Eastway Users Group, which has campaigned for off-road cycling facilities in the Velopark in legacy mode, remains frustrated by the uncertainty about future provision, and it has pointed out to us that facilities at Eastway closed before the ODA or LDA had provided any suitable temporary alternative, causing  149 Ev 107</td>\n",
       "                        <td id=\"T_0ff5e_row2_col3\" class=\"data row2 col3\" >0.429325</td>\n",
       "            </tr>\n",
       "            <tr>\n",
       "                        <th id=\"T_0ff5e_level0_row3\" class=\"row_heading level0 row3\" >3</th>\n",
       "                        <td id=\"T_0ff5e_row3_col0\" class=\"data row3 col0\" >13056</td>\n",
       "                        <td id=\"T_0ff5e_row3_col1\" class=\"data row3 col1\" >2</td>\n",
       "                        <td id=\"T_0ff5e_row3_col2\" class=\"data row3 col2\" >2. Unlike many of the swimming facilities built for previous Olympics, which have been little used afterthe games, the design of the Aquatic Centre is based upon the technical swimming and diving requirementsfor the games with certain of the other specific requirements for the Games being added as a temporary“overlay” and being dispensed with after the Games. In summary the Centre in legacy mode will have thefollowing:— a 50 metre by 10 lane competition pool with a depth of 3 metres with a moveable floor andbulkhead and permanent spectator seating for 2,500 with an ability for this to be expanded to 3,500when required;Processed: 24-04-2008 19:36:04 Page Layout: COENEW [O] PPSysB Job: 386236 Unit: PAG1Culture, Media and Sport Committee: Evidence Ev 7— in the same hall as the competition pool a 25 metre by 21 metre diving pool with a moveable floorproviding a range of platforms and spring boards to Olympic and World Championshipstandards;— a separate 50 metre by 8 lane training pool with a depth of 2 metres and two moveable floors andbulkheads; and— ancillary matters including timing, scoreboard with video recording and playback, and areas forchanging, catering, dryland training and provision for sports science and will meet therequirements of the various swimming disciplines</td>\n",
       "                        <td id=\"T_0ff5e_row3_col3\" class=\"data row3 col3\" >0.381628</td>\n",
       "            </tr>\n",
       "            <tr>\n",
       "                        <th id=\"T_0ff5e_level0_row4\" class=\"row_heading level0 row4\" >4</th>\n",
       "                        <td id=\"T_0ff5e_row4_col0\" class=\"data row4 col0\" >728</td>\n",
       "                        <td id=\"T_0ff5e_row4_col1\" class=\"data row4 col1\" >3</td>\n",
       "                        <td id=\"T_0ff5e_row4_col2\" class=\"data row4 col2\" >Mr Johnson: As I said at the very beginning, I do think it is my duty and, indeed, I think it is absolutely possible and necessary for us to deliver the Olympic Games within the £9.3 billion. It is half what the Chinese spent, but we will produce a Games that will be every bit as good. The cost pressures at the moment, for your guidance, are really on the Village, the media centre and the stadium. Those are the things where it is obvious that there are the biggest difficulties, and I am determined to make sure that we extract value. I will tell you why: because the LDA, the body for which I am responsible, are putting in a huge amount of money, the tax payer is putting a huge amount of money into that site in East London. It is absolutely vital that we get value from it for generations to come, and that means that we cannot afford to waste money and we cannot afford to lose money that is going to be of legacy value, if you see what I mean. I do not want to see money unnecessarily squandered on this or that when it might be making that site more valuable to Londoners for generations to come, and that is why, obviously we are looking at some changes, some economies that we might be able to make. I do not propose to go into the detail, but there are on-going discussions about whether there are savings to be made about venues, about whether there is more we could do to bear down on some of the expenditure. I will just give you an example of some of the ways we save money in our own small way. I do not know whether you saw the party in London House. I am afraid that it was on television, so I cannot deny that it took place. There was a celebration at London House in Beijing which actually cost considerably less, about a million pounds less, four million pounds less than was originally thought, and yet was widely thought to have been the best event in Beijing. Keeping London House and that operation going for the whole period of the Olympic Games we managed to cut the budget by more than a third on the proposals of the previous mayor, and I do not think it is any particular secret that me and my team flew, not exactly steerage, but not club class either, in our bid to save the tax payer many, many thousands of pounds. You can take it from me, Chairman, that I do regard it as my duty on behalf of London tax payers to bear down on these costs. We can deliver a fantastic Games without wasting money</td>\n",
       "                        <td id=\"T_0ff5e_row4_col3\" class=\"data row4 col3\" >0.305503</td>\n",
       "            </tr>\n",
       "            <tr>\n",
       "                        <th id=\"T_0ff5e_level0_row5\" class=\"row_heading level0 row5\" >5</th>\n",
       "                        <td id=\"T_0ff5e_row5_col0\" class=\"data row5 col0\" >700</td>\n",
       "                        <td id=\"T_0ff5e_row5_col1\" class=\"data row5 col1\" >3</td>\n",
       "                        <td id=\"T_0ff5e_row5_col2\" class=\"data row5 col2\" >The budget is about 600 million for policing of the Olympics and, of course, it is vital that we get that right. One of the most important lessons from Beijing was looking at how the Chinese did it, and there is clearly a balance to be struck between having very intrusive, endless airport-style screening everywhere and having an approach that lets people circulate more freely. I think I am right in thinking that the Chinese had searches on the underground system as well, which I think some people found a little bit oppressive. It is an open question, I think, whether we go down that route or whether we use a more intelligence-based approach and exactly where we strike the balance, but it is, of course, vital that we have a 100%, as far as we can make it, secure Games. I would just say that if you think about what happened in the G8 in 2005, during the G8, when 12,000 police were moved to Scotland, the tragedy was, of course, that the terrorists struck in London. So I make an elementary point that the security threat does not merely arise in London. The security threat to the Olympic Games, in my view, could arise anywhere across the country throughout the Olympic period</td>\n",
       "                        <td id=\"T_0ff5e_row5_col3\" class=\"data row5 col3\" >0.301467</td>\n",
       "            </tr>\n",
       "            <tr>\n",
       "                        <th id=\"T_0ff5e_level0_row6\" class=\"row_heading level0 row6\" >6</th>\n",
       "                        <td id=\"T_0ff5e_row6_col0\" class=\"data row6 col0\" >2847</td>\n",
       "                        <td id=\"T_0ff5e_row6_col1\" class=\"data row6 col1\" >4</td>\n",
       "                        <td id=\"T_0ff5e_row6_col2\" class=\"data row6 col2\" >9 The planning work has, however, identified new operational requirements and risks to delivery, with significant additional costs. In some cases, programme management information shows that planning is also behind schedule, although delivery bodies are seeking to mitigate delays. For example:Preparations for the London 2012 Olympic and Paralympic Games: Progress report December 2011 Summary 7•\t the Home Office is responsible for setting security requirements and funding LOCOG’s delivery of venue security: LOCOG is responsible for working out the operational implications of the requirements, including recruitment. In 2006, LOCOG estimated that 10,000 guards would be a reasonable basis to invite tenders from contractors and this informed the 2010 Spending Review settlement for venue security of £282 million. The guarding contract was let to G4S by LOCOG in December 2010. Detailed planning was undertaken by LOCOG and security partners only once the competition schedule and venues were finalised in early spring 2011. This planning, and the revised security requirements flowing from the implementation of the agreed security standards, have increased the peak requirement of guards to 23,700 and the likely cost to an estimated £553 million, a £271 million increase, although this sum is not yet finalised. The near doubling of the costs has increased the strain on the Public Sector Funding Package; •\t the increased guarding requirement is a significant recruitment challenge and means LOCOG is having to renegotiate its contractual requirements. In addition, the Home Office is in discussions with the Ministry of Defence about the provision of military personnel to act in security roles;•\t in accordance with its responsibilities under the 2006 Olympics and Paralympic Games Act, the Olympic Delivery Authority has produced a transport plan for the Games, with which other delivery bodies must cooperate. The Delivery Authority produced plans for transport operations in competition venues</td>\n",
       "                        <td id=\"T_0ff5e_row6_col3\" class=\"data row6 col3\" >0.583286</td>\n",
       "            </tr>\n",
       "            <tr>\n",
       "                        <th id=\"T_0ff5e_level0_row7\" class=\"row_heading level0 row7\" >7</th>\n",
       "                        <td id=\"T_0ff5e_row7_col0\" class=\"data row7 col0\" >3329</td>\n",
       "                        <td id=\"T_0ff5e_row7_col1\" class=\"data row7 col1\" >4</td>\n",
       "                        <td id=\"T_0ff5e_row7_col2\" class=\"data row7 col2\" >6 PREPARATIONS FOR THE LONDON 2012 OLyMPIC AND PARALyMPIC GAMES: PROGRESS REPORT JuNE 2008\t \t \t \t \t \t10 The start and completion dates for the construction of the main venue and infrastructure projects delivered by the Olympic Delivery Authority at the end of March 2008 compared with the milestones in the November 2007 Programme Baseline ReportProjectEnabling Works (site preparation) Power Lines under Grounding  (switchover only)   Structures, Bridges and Highways utilities Main Stadium    Aquatics Centre    VeloparkHandball/Indoor Sports ArenaBasketballInternational Broadcast Centre/ Main Press CentreOlympic Village Eton Manor (training facilities  and Paralympic events)  Broxbourne  (white water canoeing) Eton Dorney (rowing) Weymouth and Portland (sailing)construction start date November 2007  March 2008 Change in  programme  Forecast start date  baseline  (months)October 2006 October 2006 0 July 2008 July 2008 0   April 2008 April 2008 0 January 2008 January 2008 0 July 2008 May 2008 –21    September 2008 September 2008 0 March 2009 March 2009 0August 2009 June 2009 –2July 2009 November 2009 4May 2009 March 2009 –2 June 2008 May 2008 –1 March 2010 January 2010 –2   August 2008 May 2009 9  March 2009 January 2009 –2 May 2008 January 2008 –4construction end date November 2007  March 2008 Change in  programme  Forecast end date  baseline   (months)September 2009 September 2009 0 September 2008 November 2008 2   December 2011 December 2011 0 December 2011 August 2011 –4 Construction  Construction end date end dateFebruary 2011 April 2011 2Completion date  Completion date for construction  for construction and initial overlay  and initial overlay for test events for test eventsJune 2011 June 2011 0Construction  Construction end date end dateApril 2011 August 2011 4Completion date  Completion date for construction  for construction and initial overlay  and initial overlay for test events for test eventsJuly 2011 August 2011 1April 2011 February 2011 –2April 2011 March 2011 –1April 2011 April 2011 0June 2011 July 2011 1 December 2011 December 2011 0 February 2012 April 2011 –10   June 2010 October 2010 4  April 2010 July 2009 –9 February 2009 January 2009 –1Source: National Audit Office examination of actual and forecast progress against the November 2007 Programme BaselineNOTE</td>\n",
       "                        <td id=\"T_0ff5e_row7_col3\" class=\"data row7 col3\" >0.541452</td>\n",
       "            </tr>\n",
       "            <tr>\n",
       "                        <th id=\"T_0ff5e_level0_row8\" class=\"row_heading level0 row8\" >8</th>\n",
       "                        <td id=\"T_0ff5e_row8_col0\" class=\"data row8 col0\" >17552</td>\n",
       "                        <td id=\"T_0ff5e_row8_col1\" class=\"data row8 col1\" >5</td>\n",
       "                        <td id=\"T_0ff5e_row8_col2\" class=\"data row8 col2\" >4. Most clubs seem ill-prepared for enquiries from, and inclusion of, people with disabilities who wish to participate in the sport offered by the club. There is little or no support for specialist clubs who provide opportunities for sport that cannot be integrated ie wheelchair basketball or blind cricket! There is often nothing locally to support the child or their parent in accessing the specialist provision and this often involves their having to undertake extensive travel to specialist facilities or organisations catering for this group. There is poor information regarding availability etc and http://www.parasport.org.uk was established as a portal to provide pathway and provision information. The then Mayor of London published a strategy in 2007, which highlighted all these issues and to date there has been little, if any, action to redress these anomalies in London or in the rest of the country. DCSF have, in my view, shown no leadership regarding the legacy of 2012 and its impact on PE in schools and the inclusion of those with disabilities in core curriculum activities or sporting opportunities within or after school. DCMS held a legacy event in 2008 and again in April 2009 focusing on the legacy of the Games for those with disabilities. One outcome was to seek greater links between DWP, DCSF and themselves to ensure that joint strategies were developed and pathways established that enabled children to enjoy and participate in PE and sport within schools/after school clubs/integrated and specialist provision in the community, with good national talent forums and pathways established for those who wish to participate in sport at a higher level and finally, with governing bodies having clear inclusive programmes for sports men and women with disabilities active at a national and international level</td>\n",
       "                        <td id=\"T_0ff5e_row8_col3\" class=\"data row8 col3\" >0.657481</td>\n",
       "            </tr>\n",
       "            <tr>\n",
       "                        <th id=\"T_0ff5e_level0_row9\" class=\"row_heading level0 row9\" >9</th>\n",
       "                        <td id=\"T_0ff5e_row9_col0\" class=\"data row9 col0\" >17551</td>\n",
       "                        <td id=\"T_0ff5e_row9_col1\" class=\"data row9 col1\" >5</td>\n",
       "                        <td id=\"T_0ff5e_row9_col2\" class=\"data row9 col2\" >3. After school activities often exclude this group of children ie no possibility of inclusion in team sports such as football, cricket, rugby, basket ball etc., limited access to swimming baths, athletic fields etc. All of these sports are undertaken by people with a disability, but not now normally at school. Specialist schools did provide a massive range of sporting opportunities and sport played a major part of my own adjustment to disability. I learned about teamwork, was able to set individual goals, have competition to extend my abilities, occasionally experienced \"being a winner\" and had that thrill of competition. One example of efforts to redress this issue within a school setting is in Leeds, which has a programme of monthly sporting and physical activities arranged in school time for vision impaired children within the schools. One solution easily achieved would be for groups of schools to come together monthly to provide sporting and recreational activities for disabled children and young people within their schools</td>\n",
       "                        <td id=\"T_0ff5e_row9_col3\" class=\"data row9 col3\" >0.594580</td>\n",
       "            </tr>\n",
       "            <tr>\n",
       "                        <th id=\"T_0ff5e_level0_row10\" class=\"row_heading level0 row10\" >10</th>\n",
       "                        <td id=\"T_0ff5e_row10_col0\" class=\"data row10 col0\" >4954</td>\n",
       "                        <td id=\"T_0ff5e_row10_col1\" class=\"data row10 col1\" >6</td>\n",
       "                        <td id=\"T_0ff5e_row10_col2\" class=\"data row10 col2\" >Stratford is a huge churn. We have done research into the nature of the flats that have gone up around Stratford—the better end—and they are being rented by people who work and basically it is a place to sleep and they go out and do other things, which is what people do when they are young and that is fine. What we could easily end up with is what we have ended up with elsewhere in the borough, which is a desert, with people not interested in the community and so we have a bunch of social tenants in there—not huge numbers—and no real community. I think we have to have a proper debate and discussion around what will happen with the rest of the housing. Ideally we want people who live there to buy and then continue to have an interest in the community. So any discussion about the Village I would argue needs to start with what happens to the private sector area because this has to work; if it does not work it can damage the rest of the Olympic area and the Olympic Park. We are now arguing, for example, for a Royal Park because we think that that will raise the whole standard of the area and people will get some sense of a better place, a place where it is really good to live. The OPLC understands that it needs to get housing and family housing and not just blocks of flats, so starting with that. Then you get to this question about what would the nature of the allocations be and we are about to have a big discussion with various partners where we talk about who would we move in. Certainly from a Newham point of view—because the Village is in Newham—we took a court case which opposed housing by need and were successful in turning the policy around, and the Government has now introduced a policy which would allow us to support people who are working into social housing because our view would tend to be if you have a low rent that is a great benefit if you are working and on a lower income, but if you are on benefit that is not much of a benefit at all. We are certainly at the moment having a discussion around allocations policy and there are plans to have it. We need to make the community work—start off with the community. I get very frustrated when I hear people talk about \"units\"; talk about the community that you are trying to create and how that will look. If we want to have this as a place that people want to live in in 100 years' time the community has to work. To do that you do not then take, for example, social housing for everybody that is not working together because we have evidence that that does not work, so if it does not work perhaps we should stop trying to do it. The nature of the allocation as to who moves in there is, I think, up for debate at the moment and all the people involved are willing to look at that in a radical way that will enable us to build a community there. But I will come back again, you can do that in the social and affordable rent side, what about the rented properties that you will end up with? People will invest and buy chunks off the plan and they will end up with a lot of people that do not necessarily spend a lot of time there. For me it is a very clear thing, this should be the responsibility of the OPLC, it should not be the responsibility of the ODA and the ODA should be handing over that responsibility to the OPLC tomorrow because the ODA has no locus or interest there. It is not that they are doing badly because these guys have built an Olympic site on time and on budget, they are doing a really good job from the point of view of doing what they were asked to do, but they will not be there after 2014 and we will. The OPLC should be the people who are actually involved in the Village now. I am very clear about that</td>\n",
       "                        <td id=\"T_0ff5e_row10_col3\" class=\"data row10 col3\" >0.613745</td>\n",
       "            </tr>\n",
       "            <tr>\n",
       "                        <th id=\"T_0ff5e_level0_row11\" class=\"row_heading level0 row11\" >11</th>\n",
       "                        <td id=\"T_0ff5e_row11_col0\" class=\"data row11 col0\" >4943</td>\n",
       "                        <td id=\"T_0ff5e_row11_col1\" class=\"data row11 col1\" >6</td>\n",
       "                        <td id=\"T_0ff5e_row11_col2\" class=\"data row11 col2\" >00,000 square feet, you have the Broadcast Centre which, again, is very well connected in terms of power and Internet connectivity, again, good for the latest approaches to production, whether it be broadcast production or any kind of creative media industries that rely on high power and digital connections, which has seen the industry move from having its heart in Soho over the years—where you cannot get the power to run the air conditioning and the servers and the Internet connectivity not being so good—to Shoreditch and benefiting from cheaper warehouse-type accommodation and the bandwidth afforded by the City of London being adjacent to that. Now prices are rising there and more of those warehouses are being turned into lofts and prices are rising and bandwidth is being constrained and not so much investment is going in there or, if it is, it is to maintain that for the City and not spare bandwidth that they can use sending films and recordings and stuff backwards and forward between here and the West Coast of America so, again, they need somewhere new. I think that there is an issue about how attractive the Broadcast Centre is as a building and so there will be a big issue for the Legacy Company (OPLC) to make that an attractive place which is going to be appealing to media professionals. Often it has been somewhat, I would say, disparagingly termed a \"big tin shed\", and undoubtedly that is what it is, but actually big large spaces are what some of these companies need. The fact that there is good transport access, Internet power and all that stuff has the potential to be a really good offer. I do not want to take up the Committee's time but the OPLC now, it is great that that has been formed and it is up and running because what has been lacking is someone—other than the boroughs—who really has the power and the control to market that building because it is never really the ODA's job because they are gone after 2014 so filling it is not really their responsibility and never has been. The tenants that you would want in there—or even the tenants you do not want in there—no potential tenant was going to sign in 2006-07 for a building that they could not occupy until 2014 and beyond, and unfortunately that was often portrayed as no-one is interested. I would not be surprised if no-one was interested—it was six or seven years out and no one even knew what the building was going to look like inside or out. I would think that we should be getting worried by about 2012 if still two to three years out from occupation no-one has expressed an interest, that is when I think we should be worried. Here at 2010 now I think is when we should be generating interest for people to occupy it</td>\n",
       "                        <td id=\"T_0ff5e_row11_col3\" class=\"data row11 col3\" >0.573691</td>\n",
       "            </tr>\n",
       "            <tr>\n",
       "                        <th id=\"T_0ff5e_level0_row12\" class=\"row_heading level0 row12\" >12</th>\n",
       "                        <td id=\"T_0ff5e_row12_col0\" class=\"data row12 col0\" >12387</td>\n",
       "                        <td id=\"T_0ff5e_row12_col1\" class=\"data row12 col1\" >7</td>\n",
       "                        <td id=\"T_0ff5e_row12_col2\" class=\"data row12 col2\" >The information shows the impact at stations if nothing was done to manage the demand from Games spectators and regular customers, taking into account seasonal demand patterns. Importantly, it also shows how the impact is alleviated when an anticipated reduction of 20 per cent in the total number of journeys is achieved as a result of changed travel patterns at these locations. This reduction is based on work being undertaken by TfL and London 2012 in consultation with businesses, who already expect and have planned that some staff will not travel at these times and locations as they will be working at another location, working from home, taking holiday - perhaps to attend the Games as a spectator</td>\n",
       "                        <td id=\"T_0ff5e_row12_col3\" class=\"data row12 col3\" >0.401472</td>\n",
       "            </tr>\n",
       "            <tr>\n",
       "                        <th id=\"T_0ff5e_level0_row13\" class=\"row_heading level0 row13\" >13</th>\n",
       "                        <td id=\"T_0ff5e_row13_col0\" class=\"data row13 col0\" >12333</td>\n",
       "                        <td id=\"T_0ff5e_row13_col1\" class=\"data row13 col1\" >7</td>\n",
       "                        <td id=\"T_0ff5e_row13_col2\" class=\"data row13 col2\" >Safety of all road users is of paramount importance to TfL. TfL are undertaking extensive road safety audits on the ORN which will include assessment of pedestrian safety where ORN measures are in place. During the detailed design of the ORN, TfL reduced the number of closed pedestrian facilities after detailed analysis demonstrated that the journey time savings at these crossings would be negligible or minimal</td>\n",
       "                        <td id=\"T_0ff5e_row13_col3\" class=\"data row13 col3\" >0.383914</td>\n",
       "            </tr>\n",
       "            <tr>\n",
       "                        <th id=\"T_0ff5e_level0_row14\" class=\"row_heading level0 row14\" >14</th>\n",
       "                        <td id=\"T_0ff5e_row14_col0\" class=\"data row14 col0\" >3639</td>\n",
       "                        <td id=\"T_0ff5e_row14_col1\" class=\"data row14 col1\" >8</td>\n",
       "                        <td id=\"T_0ff5e_row14_col2\" class=\"data row14 col2\" >4 UK Sport’s ‘ultimate goals’ for medal success at the London 2012 Games will require a step change in performance amongst elite athletes. The achievements of athletes at recent elite international events in a number of sports, including sailing, cycling, rowing, boxing, disability equestrian and disability shooting, suggest that performance levels in some sports are already improving significantly. Following increased spending on elite sport, host nations can typically expect to win an extra six or seven gold medals at an Olympic Games and to win medals across a wider range of sports. This ‘host nation effect’ would not in itself be enough to deliver UK Sport’s Olympic goal, which is likely to require an improvement of eight or nine gold medals over the Great Britain team’s performance at the Athens Games in 2004 if the relative performance of other nations remained the same. Changes in the performance of other nations since 2004, especially in the context of a general trend of increased spending on elite sport, sometimes referred to as a ‘global sporting arms race’, may also have implications for UK Sport in delivering its medal aspirations</td>\n",
       "                        <td id=\"T_0ff5e_row14_col3\" class=\"data row14 col3\" >0.512605</td>\n",
       "            </tr>\n",
       "            <tr>\n",
       "                        <th id=\"T_0ff5e_level0_row15\" class=\"row_heading level0 row15\" >15</th>\n",
       "                        <td id=\"T_0ff5e_row15_col0\" class=\"data row15 col0\" >3817</td>\n",
       "                        <td id=\"T_0ff5e_row15_col1\" class=\"data row15 col1\" >8</td>\n",
       "                        <td id=\"T_0ff5e_row15_col2\" class=\"data row15 col2\" >.17 As set out in paragraph 3.9, the Department measures UK Sport’s performance by setting a medal target at 75 per cent of the aggregate of the targets set by UK Sport for individual sports. This adjustment primarily reflects the proportion of medals relative to the targets that the Great Britain team has won at recent Olympic Games:n at the Sydney 2000 Games the Great Britain team won 28 Olympic medals against a target of  38 medals (74 per cent) and 131 Paralympic medals against a target of 145 medals (90 per cent); and n at the Athens 2004 Games, the Great Britain team won 30 Olympic medals against a target of  39 medals (77 per cent) and 94 Paralympic medals against a target of 110 medals (85 per cent)</td>\n",
       "                        <td id=\"T_0ff5e_row15_col3\" class=\"data row15 col3\" >0.459578</td>\n",
       "            </tr>\n",
       "            <tr>\n",
       "                        <th id=\"T_0ff5e_level0_row16\" class=\"row_heading level0 row16\" >16</th>\n",
       "                        <td id=\"T_0ff5e_row16_col0\" class=\"data row16 col0\" >15893</td>\n",
       "                        <td id=\"T_0ff5e_row16_col1\" class=\"data row16 col1\" >9</td>\n",
       "                        <td id=\"T_0ff5e_row16_col2\" class=\"data row16 col2\" >. The Lee Valley is East London's precious 'green lung'. Much is past and present Common Land, and the Regional Park contains several Nature Reserves and SSSIs. The Lee Valley is a pleasant and tranquil place, once accurately described by the late Dame Joan Littlewood as 'a playground for Londoners'. We are very concerned that this welcome green haven in our overcrowded city could be destroyed simply for the sake of three weeks of organised sport and athletics activities. We therefore write to request that your Department should please drop any thoughts you may have of ruining our Valley for this, or any other, purpose and instead consider more suitable (possibly brownfield or derelict) sites elsewhere</td>\n",
       "                        <td id=\"T_0ff5e_row16_col3\" class=\"data row16 col3\" >0.404473</td>\n",
       "            </tr>\n",
       "            <tr>\n",
       "                        <th id=\"T_0ff5e_level0_row17\" class=\"row_heading level0 row17\" >17</th>\n",
       "                        <td id=\"T_0ff5e_row17_col0\" class=\"data row17 col0\" >15839</td>\n",
       "                        <td id=\"T_0ff5e_row17_col1\" class=\"data row17 col1\" >9</td>\n",
       "                        <td id=\"T_0ff5e_row17_col2\" class=\"data row17 col2\" >It is a very costly exercise to put on a major international oneoff event, since the scale of the organisation is vastly bigger and the costs in terms of financial https://publications.parliament.uk/pa/cm200203/cmselect/cmcumeds/268/268ap01.htmhttps://publications.parliament.uk/pa/cm200203/cmselect/cmcumeds/268/268ap01.htmcommitment and cashflow, facilities needed and the higher quality of delivery that is required, than any other national event that a sport will have run before. Prior to the essential support of the Lottery, many national sports federations could not even consider staging major sports events, and even so, they will virtually always run at a loss. Additionally, the extra time and effort put in to organising the event can take a major toll on the resources of sport, at a time when it should be gaining extra benefit from having the event on home soil.</td>\n",
       "                        <td id=\"T_0ff5e_row17_col3\" class=\"data row17 col3\" >0.351111</td>\n",
       "            </tr>\n",
       "            <tr>\n",
       "                        <th id=\"T_0ff5e_level0_row18\" class=\"row_heading level0 row18\" >18</th>\n",
       "                        <td id=\"T_0ff5e_row18_col0\" class=\"data row18 col0\" >7679</td>\n",
       "                        <td id=\"T_0ff5e_row18_col1\" class=\"data row18 col1\" >10</td>\n",
       "                        <td id=\"T_0ff5e_row18_col2\" class=\"data row18 col2\" >6. At the time of our hearing, a number of significant areas of uncertainty remained before the budget could be finalised.18  Tax – The Department explained that tax had been excluded from the cost estimates at the time of the bid on the basis that the tax treatment could not be resolved until the delivery structures for the Games were in place.19  Contingency provision – The cost estimates at the time of the bid had included a contingency provision in respect of individual projects, but the Department now considered that an overall programme contingency margin was required to reflect the interdependencies between projects and the risks associated with the knock-on effect that problems on one project could have on the rest of the programme.20  Security – It had not been possible at the time of the bid to provide a reliable estimate of the costs of policing and wider security, and the Department had notified Parliament of a contingent liability in this respect. The Olympic Security Co-ordinator was now working up plans and budgets in association with the Home Office and the Metropolitan Police.21  Private sector funding – At the time of the bid, £738 million of private funding had been expected to help meet costs associated with the Olympic Park. In the light of further work and advice, the Department now considered there was insufficient time to negotiate contracts with the private sector within the overall timescale for the Games, so there was now little prospect of securing significant private sector funding to deliver the Olympic Park. However, most of the funding for the Olympic Village was still expected to come from the private sector.22</td>\n",
       "                        <td id=\"T_0ff5e_row18_col3\" class=\"data row18 col3\" >0.500911</td>\n",
       "            </tr>\n",
       "            <tr>\n",
       "                        <th id=\"T_0ff5e_level0_row19\" class=\"row_heading level0 row19\" >19</th>\n",
       "                        <td id=\"T_0ff5e_row19_col0\" class=\"data row19 col0\" >2811</td>\n",
       "                        <td id=\"T_0ff5e_row19_col1\" class=\"data row19 col1\" >10</td>\n",
       "                        <td id=\"T_0ff5e_row19_col2\" class=\"data row19 col2\" >3 More information on the public funding at the time of the bid is provided in paragraphs 44 to 51 of the Comptroller and Auditor General’s first report on the preparations for the London 2012 Games.38Cost estimates4 At the time of the bid the net costs that were expected to be covered by the public sector funding package for the Games totalled £2.254 billion (£2.992 billion gross costs less £738 million expected private sector funding). Figure 14 sets out the relevant costs extracted from the London 2012 Candidate File, which was submitted to the International Olympic Committee in November 2004. The cost estimates in the Candidate File were expressed in US dollars at 2004 prices. The table also sets out the equivalent cash outturn estimates at the time of the bid, taking into account assumptions about price inflation</td>\n",
       "                        <td id=\"T_0ff5e_row19_col3\" class=\"data row19 col3\" >0.438993</td>\n",
       "            </tr>\n",
       "            <tr>\n",
       "                        <th id=\"T_0ff5e_level0_row20\" class=\"row_heading level0 row20\" >20</th>\n",
       "                        <td id=\"T_0ff5e_row20_col0\" class=\"data row20 col0\" >8304</td>\n",
       "                        <td id=\"T_0ff5e_row20_col1\" class=\"data row20 col1\" >11</td>\n",
       "                        <td id=\"T_0ff5e_row20_col2\" class=\"data row20 col2\" >You think that the assessment of risks is our best estimate of the most likely outcome of the budget as a whole. But actually the assessment of risk-and how we have compiled it-is this: we have not sought to estimate how likely it is that every risk arises. We just said, \"Let us think about every risk that could arise, and let us assume that they all arise and work out the likely cost of them all arising.\" On top of that, we said, \"And there will be some risks that we just cannot think about that are unknown unknowns. There will be some multiple consequentials if everything came together.\" So we end up with an estimate not of the most likely cost of the project, which is what the burden of paragraph 1 of the PAC Report understands it is, but an estimate of how much we would need to set aside in the very unlikely event that all risks arise and some more unknown risks arise as well. The purpose of that is not to get to an estimate of the likely outcome of the budget. Its purpose and why we do it is to see, against any reasonable view of the likely risk that might arise, even on an assumption that they all arise and some more unknown risks arise, whether we have enough money. The conclusion has always been, yes, we had. Against what is therefore, in my view, a conservative and prudent estimate, we had £36 million headroom at the time of the NAO Report. We had more, and indeed the picture over the six-month period since the original figures on which the NAO was recording this, is that the contingency has gone down by £27 million or so-we reckon, because these are provisional figures, but I want to give our best figures-and the assessed risks on that very conservative and prudent basis have gone down by £136 million. So the picture on the budget as a whole is that we are spending contingency significantly slower than risks are disappearing from the programme. That is why, without in any sense being complacent, I am confident that we will bring this in within budget, and I do not think that the budget is close to being used up</td>\n",
       "                        <td id=\"T_0ff5e_row20_col3\" class=\"data row20 col3\" >0.591896</td>\n",
       "            </tr>\n",
       "            <tr>\n",
       "                        <th id=\"T_0ff5e_level0_row21\" class=\"row_heading level0 row21\" >21</th>\n",
       "                        <td id=\"T_0ff5e_row21_col0\" class=\"data row21 col0\" >8388</td>\n",
       "                        <td id=\"T_0ff5e_row21_col1\" class=\"data row21 col1\" >11</td>\n",
       "                        <td id=\"T_0ff5e_row21_col2\" class=\"data row21 col2\" >Jonathan Stephens: There are two aspects to risk: likelihood and impact. What we are saying is that we made no estimate of likelihood, we just wrote in a 100% likelihood of all the risks we could think of and some unknown risks that we could not think of. We then looked at impact, and on impact we said, \"If this risk were to materialise-we are assuming a 100% likelihood that it materialises-what is the likely cost?\" That is where you get the low, the most likely outcome and the high outcome. When you add those together, you do not get to an outcome of, \"What is the most likely expenditure on the programme?\"; you get to an outcome of, \"If all conceivable risks arise, plus some unknown risks that we cannot identify, what is the likely expenditure?\" That is a conservative and prudent view of, \"Do we have enough contingency left, if all those risks arise?\" In practice, they won’t all arise. It is conceivable that some will arise, but it is pretty unlikely that all of them will arise. It is perfectly conceivable that some individual risk will arise at a higher estimate than the most likely estimate, but the prospect of all those risks arising is unlikely. The prospect of them all arising at the very highest possible cost is so unlikely as to not provide a good basis for planning. I am sorry. I am going on at some length, but there is a real point</td>\n",
       "                        <td id=\"T_0ff5e_row21_col3\" class=\"data row21 col3\" >0.523839</td>\n",
       "            </tr>\n",
       "            <tr>\n",
       "                        <th id=\"T_0ff5e_level0_row22\" class=\"row_heading level0 row22\" >22</th>\n",
       "                        <td id=\"T_0ff5e_row22_col0\" class=\"data row22 col0\" >5249</td>\n",
       "                        <td id=\"T_0ff5e_row22_col1\" class=\"data row22 col1\" >12</td>\n",
       "                        <td id=\"T_0ff5e_row22_col2\" class=\"data row22 col2\" >Mr Altman: We found that very few—actually none—of the other Olympic cities set up a legacy company two and a half/three years before Games. We have been going through facility by facility to understand for each venue exactly what has been programmed and how it has been designed. There was a lot of thought given to legacy in each of those specific venues. We are now evaluating those to make sure, as we look to take possession of those assets in the future as the Legacy Company, that we have sufficient flexibility for other uses that may be needed to accommodate other uses. We are doing that assessment now. There has been a lot of thought around many of these facilities with legacy in mind, it is not something that was done as an afterthought, so we feel comfortable we will have a lot of room to manoeuvre. A lot will come out in the next year as we get into the specifics and go through the process of procuring operators for each of the venues and working with them to ensure that the buildings work and can be maximised, so there is still work ahead</td>\n",
       "                        <td id=\"T_0ff5e_row22_col3\" class=\"data row22 col3\" >0.124029</td>\n",
       "            </tr>\n",
       "            <tr>\n",
       "                        <th id=\"T_0ff5e_level0_row23\" class=\"row_heading level0 row23\" >23</th>\n",
       "                        <td id=\"T_0ff5e_row23_col0\" class=\"data row23 col0\" >2143</td>\n",
       "                        <td id=\"T_0ff5e_row23_col1\" class=\"data row23 col1\" >12</td>\n",
       "                        <td id=\"T_0ff5e_row23_col2\" class=\"data row23 col2\" >17.  In addition to acting as interim legacy client for the Olympic Park, the LDA is working with partners to ensure a wider sporting legacy from the 2012 Games.[1] Already Londoners are starting to see the legacy benefits for sport of hosting the 2012 Games. We are also linking our work on venue legacy with work to widen participation in sport: for example by developing clubs so that they have the capacity to make best use of Olympic facilities after 2012</td>\n",
       "                        <td id=\"T_0ff5e_row23_col3\" class=\"data row23 col3\" >0.116097</td>\n",
       "            </tr>\n",
       "            <tr>\n",
       "                        <th id=\"T_0ff5e_level0_row24\" class=\"row_heading level0 row24\" >24</th>\n",
       "                        <td id=\"T_0ff5e_row24_col0\" class=\"data row24 col0\" >16911</td>\n",
       "                        <td id=\"T_0ff5e_row24_col1\" class=\"data row24 col1\" >13</td>\n",
       "                        <td id=\"T_0ff5e_row24_col2\" class=\"data row24 col2\" >— Strategic planning and partnerships: Local Authorities are uniquely placed at the juncture of local communities and sport, working closely with County Sport and Physical Activity Partnerships, National Governing Bodies and local sports clubs. It is here that we can help realise the benefits of sport for all. Councils also lead Local Strategic Partnerships and can bring together partners from the public, private and third sectors to take coordinated action in pursuit of shared goals, often including sport.  — Unlocking the wider benefits of sport: Local government, in partnership with other agencies and the private and third sectors, already use sport as a powerful tool to achieve wider outcomes. The passion and enthusiasm of the Olympic and Paralympic Games can inspire people to change the habits of a lifetime, and legacy needs to focus strongly on how sport and physical activity can help to create healthier, stronger and safer communities. Sport can be used to develop positive activities for young people, improve the well-being of children or boost the local economy through hosting major events</td>\n",
       "                        <td id=\"T_0ff5e_row24_col3\" class=\"data row24 col3\" >0.416419</td>\n",
       "            </tr>\n",
       "            <tr>\n",
       "                        <th id=\"T_0ff5e_level0_row25\" class=\"row_heading level0 row25\" >25</th>\n",
       "                        <td id=\"T_0ff5e_row25_col0\" class=\"data row25 col0\" >17674</td>\n",
       "                        <td id=\"T_0ff5e_row25_col1\" class=\"data row25 col1\" >13</td>\n",
       "                        <td id=\"T_0ff5e_row25_col2\" class=\"data row25 col2\" >— Inflexibility of sporting activities Team sport is usually played at regular set times during the week, yet many women, particularly those who have caring responsibilities and/or work full time, do not feel they can make a commitment that involves regular, inflexible training and match times. Women can find it difficult to access a sport at a level that suits them. There is a lack of introductory sessions for team sport, and new participants are often deterred by expectations that they will play in a competitive league. Sport needs to be flexible so women can fit it into their busy lives. At a practical level, payment options should be flexible and women should be able to access facilities at times that suit them. Where possible cre«che and child care facilities should be available at gyms and sport clubs. Policy makers could also consider promoting physical activity that does not require travelling to a club or sports centre, such as walking or jogging, which women often find more flexible and easier to fit into their lives</td>\n",
       "                        <td id=\"T_0ff5e_row25_col3\" class=\"data row25 col3\" >0.414557</td>\n",
       "            </tr>\n",
       "            <tr>\n",
       "                        <th id=\"T_0ff5e_level0_row26\" class=\"row_heading level0 row26\" >26</th>\n",
       "                        <td id=\"T_0ff5e_row26_col0\" class=\"data row26 col0\" >10424</td>\n",
       "                        <td id=\"T_0ff5e_row26_col1\" class=\"data row26 col1\" >14</td>\n",
       "                        <td id=\"T_0ff5e_row26_col2\" class=\"data row26 col2\" >38. The London Borough of Newham suggested to us that “opportunities for a wider cultural legacy for the Park are currently being overlooked in the legacy planning processes”, and it claimed that cultural planning for the Olympics “currently only identifies a narrow spread of stakeholders, largely excluding representation from local authorities and key local and regional cultural partners”.291 Heritage Link also relayed to us anxiety felt among smaller voluntary sector organisations that they were somewhat marginalised in discussions on maximising the benefits of the Olympics.292 We put this latter point to witnesses representing the Nations and Regions Group, who sought to reassure us that within the various regional groups culture was “very much embedded” and that (at least in the case of the East of England and the South West) the Regional Cultural Consortium was “one of the key partners” or was the source of cultural initiatives for the regional group. 293</td>\n",
       "                        <td id=\"T_0ff5e_row26_col3\" class=\"data row26 col3\" >0.374719</td>\n",
       "            </tr>\n",
       "            <tr>\n",
       "                        <th id=\"T_0ff5e_level0_row27\" class=\"row_heading level0 row27\" >27</th>\n",
       "                        <td id=\"T_0ff5e_row27_col0\" class=\"data row27 col0\" >2322</td>\n",
       "                        <td id=\"T_0ff5e_row27_col1\" class=\"data row27 col1\" >14</td>\n",
       "                        <td id=\"T_0ff5e_row27_col2\" class=\"data row27 col2\" >There is no guarantee that Camelot's estimates will be delivered and the simple transfer of income from existing games to achieve the 2006-07 target may be problematic for other Lottery Distributors—something which OLD would wish to avoid in the wider interests of the reputation of the National Lottery. However, In the year 2006-07 OLD has offered grants totalling £77 million to the ODA and has paid £15 million to date. Therefore we can be confident that our income will be sufficient to meet our commitments this year. (Our estimate of running costs for 2006-07 is £749,000.)   Nevertheless, any shortfall in income would cause problems in future years as the ODA's needs grow. In future years, OLD will not have unspent income to cushion it from variations in the performance of the Games allocated to the OLDF. There are three strategies to mitigate impacts of a shortfall. The first is to ensure that there is close liaison between ODA, OLD, the National Lottery Commission and the operator of the National Lottery so that there is a clear understanding of the projected income and expenditure of OLD. This should ensure that ample warning is given of any cashflow problems. The second is to revise the shares of income from specific games going to the NLDF and the OLDF. This would be a temporary measure which could assist in overcoming temporary cashflow difficulties. It simply brings forward the point at which the £750 million target is reached. Whilst such transfers would not increase the overall financial impact of the OLD on other Lottery Distributors, they could concentrate those impacts and reduce income within the year, possibly creating planning difficulties for other Distributors. This is not therefore an ideal solution from the point of view of OLD, and we are also mindful that the National Lottery Commission will, rightly, scrutinise such proposals carefully for this reason. The third strategy is to ensure that alternate sources of funding are identified and secured in good time</td>\n",
       "                        <td id=\"T_0ff5e_row27_col3\" class=\"data row27 col3\" >0.367545</td>\n",
       "            </tr>\n",
       "            <tr>\n",
       "                        <th id=\"T_0ff5e_level0_row28\" class=\"row_heading level0 row28\" >28</th>\n",
       "                        <td id=\"T_0ff5e_row28_col0\" class=\"data row28 col0\" >4538</td>\n",
       "                        <td id=\"T_0ff5e_row28_col1\" class=\"data row28 col1\" >15</td>\n",
       "                        <td id=\"T_0ff5e_row28_col2\" class=\"data row28 col2\" >.2.8Sub-objectiveMaximise the economic, social, health and environmental benefits the Games bring to the UK and all sections of the UK populationMaximise the employment and skills benefits for the UK arising from Games-related businessMaximise the wider economic benefits of the Games across the UK, including those for tourism and business promotionMaximise cultural benefits from hosting the Games and the Cultural OlympiadMaximise social benefits, including in health, education and volunteering, of hosting the GamesEnsure that the Games contribute to Sustainable Communities priorities, including the wider Thames GatewayAgree and promote sustainable development and procurement policies, including commitments to sustainable energy and waste management goalsPromote positive images of the UK to an international audienceEnsure the UK’s diverse communities are engaged with, and benefit from, the changes and opportunities arising from hosting the Games in the UKMaximise the economic, social, health and environmental benefits the Games bring to London and all LondonersMaximise the employment and skills benefits for Londoners arising from Games-related businessMaximise the wider economic benefits of the Games to London, including those for tourism and business promotionMaximise cultural benefits to Londoners from hosting the Games and the Cultural OlympiadMaximise social benefits to Londoners, including in health, education and volunteering, of hosting the GamesEnsure that the Games contribute to Sustainable Communities priorities, including the London Thames GatewayAgree and promote sustainable development and procurement policies, including commitments to sustainable energy and waste management goalsPromote London’s image as a leading world city to an international audienceEnsure London’s diverse communities are engaged with, and benefit from, the changes and opportunities arising from hosting the Games in LondonAPPENDIX FIVE</td>\n",
       "                        <td id=\"T_0ff5e_row28_col3\" class=\"data row28 col3\" >0.455466</td>\n",
       "            </tr>\n",
       "            <tr>\n",
       "                        <th id=\"T_0ff5e_level0_row29\" class=\"row_heading level0 row29\" >29</th>\n",
       "                        <td id=\"T_0ff5e_row29_col0\" class=\"data row29 col0\" >16483</td>\n",
       "                        <td id=\"T_0ff5e_row29_col1\" class=\"data row29 col1\" >15</td>\n",
       "                        <td id=\"T_0ff5e_row29_col2\" class=\"data row29 col2\" >4.1  The aim is that in the next 20 years, residents in the host boroughs will equal the London average in a range of the life indicators which you would expect to find in a successful community: — employment rates will increase to the London average; — average incomes in the bottom two fifths of earners in the host borough area will be increased to the London average; — young people in the host borough area will have improved GCSE results to at least the London average; — host borough 11 year olds will have at least the same educational attainment as the London average; — the number of families in receipt of benefits in the host boroughs area will fall to no more than the London average; — the rate of violent crime will continue to fall and reflect the London average; and — residents in the host boroughs area, particularly men, will have increased life expectancy to the London average</td>\n",
       "                        <td id=\"T_0ff5e_row29_col3\" class=\"data row29 col3\" >0.441920</td>\n",
       "            </tr>\n",
       "    </tbody></table>"
      ],
      "text/plain": [
       "<pandas.io.formats.style.Styler at 0x1affc854460>"
      ]
     },
     "execution_count": 246,
     "metadata": {},
     "output_type": "execute_result"
    }
   ],
   "source": [
    "# 2 most prototypical paragraphs of each topic\n",
    "N2 = 2\n",
    "top_n_filter(df_topic_para2, N2).style.set_properties(subset = ['salient_paragraph'], **{'width':'500px', 'length': '50px'})"
   ]
  },
  {
   "cell_type": "markdown",
   "metadata": {},
   "source": [
    "### 5.3.5.  N most prototypical paragraphs of a specific topic"
   ]
  },
  {
   "cell_type": "code",
   "execution_count": 247,
   "metadata": {},
   "outputs": [
    {
     "data": {
      "text/html": [
       "<style  type=\"text/css\" >\n",
       "#T_d947a_row0_col2,#T_d947a_row1_col2{\n",
       "            width:  500px;\n",
       "            length:  50px;\n",
       "        }</style><table id=\"T_d947a_\" ><thead>    <tr>        <th class=\"blank level0\" ></th>        <th class=\"col_heading level0 col0\" >Index</th>        <th class=\"col_heading level0 col1\" >topic_id</th>        <th class=\"col_heading level0 col2\" >salient_paragraph</th>        <th class=\"col_heading level0 col3\" >probability</th>    </tr></thead><tbody>\n",
       "                <tr>\n",
       "                        <th id=\"T_d947a_level0_row0\" class=\"row_heading level0 row0\" >28</th>\n",
       "                        <td id=\"T_d947a_row0_col0\" class=\"data row0 col0\" >4538</td>\n",
       "                        <td id=\"T_d947a_row0_col1\" class=\"data row0 col1\" >15</td>\n",
       "                        <td id=\"T_d947a_row0_col2\" class=\"data row0 col2\" >.2.8Sub-objectiveMaximise the economic, social, health and environmental benefits the Games bring to the UK and all sections of the UK populationMaximise the employment and skills benefits for the UK arising from Games-related businessMaximise the wider economic benefits of the Games across the UK, including those for tourism and business promotionMaximise cultural benefits from hosting the Games and the Cultural OlympiadMaximise social benefits, including in health, education and volunteering, of hosting the GamesEnsure that the Games contribute to Sustainable Communities priorities, including the wider Thames GatewayAgree and promote sustainable development and procurement policies, including commitments to sustainable energy and waste management goalsPromote positive images of the UK to an international audienceEnsure the UK’s diverse communities are engaged with, and benefit from, the changes and opportunities arising from hosting the Games in the UKMaximise the economic, social, health and environmental benefits the Games bring to London and all LondonersMaximise the employment and skills benefits for Londoners arising from Games-related businessMaximise the wider economic benefits of the Games to London, including those for tourism and business promotionMaximise cultural benefits to Londoners from hosting the Games and the Cultural OlympiadMaximise social benefits to Londoners, including in health, education and volunteering, of hosting the GamesEnsure that the Games contribute to Sustainable Communities priorities, including the London Thames GatewayAgree and promote sustainable development and procurement policies, including commitments to sustainable energy and waste management goalsPromote London’s image as a leading world city to an international audienceEnsure London’s diverse communities are engaged with, and benefit from, the changes and opportunities arising from hosting the Games in LondonAPPENDIX FIVE</td>\n",
       "                        <td id=\"T_d947a_row0_col3\" class=\"data row0 col3\" >0.455466</td>\n",
       "            </tr>\n",
       "            <tr>\n",
       "                        <th id=\"T_d947a_level0_row1\" class=\"row_heading level0 row1\" >29</th>\n",
       "                        <td id=\"T_d947a_row1_col0\" class=\"data row1 col0\" >16483</td>\n",
       "                        <td id=\"T_d947a_row1_col1\" class=\"data row1 col1\" >15</td>\n",
       "                        <td id=\"T_d947a_row1_col2\" class=\"data row1 col2\" >4.1  The aim is that in the next 20 years, residents in the host boroughs will equal the London average in a range of the life indicators which you would expect to find in a successful community: — employment rates will increase to the London average; — average incomes in the bottom two fifths of earners in the host borough area will be increased to the London average; — young people in the host borough area will have improved GCSE results to at least the London average; — host borough 11 year olds will have at least the same educational attainment as the London average; — the number of families in receipt of benefits in the host boroughs area will fall to no more than the London average; — the rate of violent crime will continue to fall and reflect the London average; and — residents in the host boroughs area, particularly men, will have increased life expectancy to the London average</td>\n",
       "                        <td id=\"T_d947a_row1_col3\" class=\"data row1 col3\" >0.441920</td>\n",
       "            </tr>\n",
       "    </tbody></table>"
      ],
      "text/plain": [
       "<pandas.io.formats.style.Styler at 0x1afa556bb50>"
      ]
     },
     "execution_count": 247,
     "metadata": {},
     "output_type": "execute_result"
    }
   ],
   "source": [
    "topic_id_chosen = 15                                    # choose the topic ID\n",
    "num_para = 2                                            # set N to extract the N most prototypical paragraphs of a specific topic\n",
    "df_n_topic_k = top_n_filter(df_topic_para2, num_para)\n",
    "topic_id_filter = df_n_topic_k['topic_id'] == topic_id_chosen\n",
    "df_n_topic_k[topic_id_filter].style.set_properties(subset = ['salient_paragraph'], **{'width':'500px', 'length': '50px'})"
   ]
  }
 ],
 "metadata": {
  "kernelspec": {
   "display_name": "Python 3",
   "language": "python",
   "name": "python3"
  },
  "language_info": {
   "codemirror_mode": {
    "name": "ipython",
    "version": 3
   },
   "file_extension": ".py",
   "mimetype": "text/x-python",
   "name": "python",
   "nbconvert_exporter": "python",
   "pygments_lexer": "ipython3",
   "version": "3.8.3"
  }
 },
 "nbformat": 4,
 "nbformat_minor": 4
}
