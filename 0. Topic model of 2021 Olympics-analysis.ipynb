{
 "cells": [
  {
   "cell_type": "markdown",
   "metadata": {},
   "source": [
    "# 1. Prerequisites"
   ]
  },
  {
   "cell_type": "code",
   "execution_count": 104,
   "metadata": {},
   "outputs": [],
   "source": [
    "# pip install PyMuPDF                    # (install PyMuPDF for extracting info from PDF files)\n",
    "# pip install tika                       # (install tika for extracting paragraphs from PDF files)\n",
    "# pip install spacy==2.2.0               # (install spacy for lemmatization)\n",
    "# conda install gensim                   # (intall gesim for topic modelling)\n",
    "# pip install pyLDAvis                   # (install pyLDAvis for topic modelling visulisation)\n",
    "# conda install -c conda-forge pyldavis  # (if you use aconda to install pyLADvis)"
   ]
  },
  {
   "cell_type": "code",
   "execution_count": 105,
   "metadata": {},
   "outputs": [],
   "source": [
    "import pandas as pd\n",
    "import numpy as np\n",
    "import re\n",
    "\n",
    "# glob for extracting the directories of metadata\n",
    "import glob\n",
    "\n",
    "# PyMuPDF\n",
    "import fitz\n",
    "\n",
    "# tika\n",
    "import tika               \n",
    "from tika import parser   \n",
    "\n",
    "# Gensim\n",
    "import gensim\n",
    "import gensim.corpora as corpora\n",
    "from gensim.utils import simple_preprocess\n",
    "from gensim.models import CoherenceModel\n",
    "\n",
    "# spacy for lemmatization\n",
    "import spacy\n",
    "\n",
    "# Visualisation\n",
    "import plotly.express as px\n",
    "import pyLDAvis\n",
    "import pyLDAvis.gensim_models\n",
    "import matplotlib.pyplot as plt\n",
    "%matplotlib inline\n",
    "\n",
    "# Enable logging for gensim - optional\n",
    "import logging\n",
    "logging.basicConfig(format='%(asctime)s : %(levelname)s : %(message)s', level=logging.ERROR)\n",
    "\n",
    "import warnings\n",
    "warnings.filterwarnings(\"ignore\",category=DeprecationWarning)\n",
    "import os"
   ]
  },
  {
   "cell_type": "markdown",
   "metadata": {},
   "source": [
    "# 2. Import pdf files, data wrangling and overview"
   ]
  },
  {
   "cell_type": "code",
   "execution_count": 106,
   "metadata": {},
   "outputs": [
    {
     "data": {
      "text/plain": [
       "['D:\\\\LEON\\\\Business Analytics\\\\Study\\\\9. Business Project\\\\Data set\\\\Olympics\\\\Examination_of_Witnesses_Sept_2003_-_Q1-19.pdf']"
      ]
     },
     "execution_count": 106,
     "metadata": {},
     "output_type": "execute_result"
    }
   ],
   "source": [
    "# Extract the directories of the PDF files, make sure the folder name does not contain number\n",
    "pdf_dir = \"D:\\LEON\\Business Analytics\\Study\\9. Business Project\\Data set\\Olympics\"\n",
    "pdf_files = glob.glob(\"%s/*.pdf\" % pdf_dir)\n",
    "pdf_files[:1]"
   ]
  },
  {
   "cell_type": "code",
   "execution_count": 107,
   "metadata": {},
   "outputs": [],
   "source": [
    "# Use PyMuPDF to extract all info of the PDF files (text, title, date, etc)\n",
    "list_metadata = []\n",
    "for i in pdf_files:\n",
    "    with fitz.open(i) as doc:\n",
    "        info = doc.metadata\n",
    "        info['file_name'] = os.path.basename(i)\n",
    "        text = ''\n",
    "        for page in doc:\n",
    "            text+= page.getText()\n",
    "        info['Content'] = text       \n",
    "    list_metadata.append(info)"
   ]
  },
  {
   "cell_type": "code",
   "execution_count": 108,
   "metadata": {},
   "outputs": [
    {
     "data": {
      "text/html": [
       "<div>\n",
       "<style scoped>\n",
       "    .dataframe tbody tr th:only-of-type {\n",
       "        vertical-align: middle;\n",
       "    }\n",
       "\n",
       "    .dataframe tbody tr th {\n",
       "        vertical-align: top;\n",
       "    }\n",
       "\n",
       "    .dataframe thead th {\n",
       "        text-align: right;\n",
       "    }\n",
       "</style>\n",
       "<table border=\"1\" class=\"dataframe\">\n",
       "  <thead>\n",
       "    <tr style=\"text-align: right;\">\n",
       "      <th></th>\n",
       "      <th>format</th>\n",
       "      <th>title</th>\n",
       "      <th>author</th>\n",
       "      <th>subject</th>\n",
       "      <th>keywords</th>\n",
       "      <th>creator</th>\n",
       "      <th>producer</th>\n",
       "      <th>creationDate</th>\n",
       "      <th>modDate</th>\n",
       "      <th>trapped</th>\n",
       "      <th>encryption</th>\n",
       "      <th>file_name</th>\n",
       "      <th>Content</th>\n",
       "      <th>document_id</th>\n",
       "      <th>Word_count</th>\n",
       "    </tr>\n",
       "  </thead>\n",
       "  <tbody>\n",
       "    <tr>\n",
       "      <th>0</th>\n",
       "      <td>PDF 1.7</td>\n",
       "      <td></td>\n",
       "      <td>B Lewis</td>\n",
       "      <td></td>\n",
       "      <td></td>\n",
       "      <td>Microsoft Word</td>\n",
       "      <td></td>\n",
       "      <td>D:20210822083603+00'00'</td>\n",
       "      <td>D:20210822083603+00'00'</td>\n",
       "      <td></td>\n",
       "      <td>None</td>\n",
       "      <td>Examination_of_Witnesses_Sept_2003_-_Q1-19.pdf</td>\n",
       "      <td>Examination of Witnesses (1-19) \\n16 SEPTEMBER...</td>\n",
       "      <td>0</td>\n",
       "      <td>6115</td>\n",
       "    </tr>\n",
       "    <tr>\n",
       "      <th>1</th>\n",
       "      <td>PDF 1.7</td>\n",
       "      <td></td>\n",
       "      <td>B Lewis</td>\n",
       "      <td></td>\n",
       "      <td></td>\n",
       "      <td>Microsoft Word</td>\n",
       "      <td></td>\n",
       "      <td>D:20210822083606+00'00'</td>\n",
       "      <td>D:20210822083606+00'00'</td>\n",
       "      <td></td>\n",
       "      <td>None</td>\n",
       "      <td>Examination_of_Witnesses_Sept_2003_-_Q20-39.pdf</td>\n",
       "      <td>Examination of Witnesses (20-39) \\n16 SEPTEMBE...</td>\n",
       "      <td>1</td>\n",
       "      <td>4002</td>\n",
       "    </tr>\n",
       "    <tr>\n",
       "      <th>2</th>\n",
       "      <td>PDF 1.7</td>\n",
       "      <td></td>\n",
       "      <td>B Lewis</td>\n",
       "      <td></td>\n",
       "      <td></td>\n",
       "      <td>Microsoft Word</td>\n",
       "      <td></td>\n",
       "      <td>D:20210822083609+00'00'</td>\n",
       "      <td>D:20210822083609+00'00'</td>\n",
       "      <td></td>\n",
       "      <td>None</td>\n",
       "      <td>Examination_of_Witnesses_Sept_2003_-_Q40-44.pdf</td>\n",
       "      <td>Examination of Witnesses (40-44) \\n16 SEPTEMBE...</td>\n",
       "      <td>2</td>\n",
       "      <td>1007</td>\n",
       "    </tr>\n",
       "  </tbody>\n",
       "</table>\n",
       "</div>"
      ],
      "text/plain": [
       "    format title   author subject keywords         creator producer  \\\n",
       "0  PDF 1.7        B Lewis                   Microsoft Word            \n",
       "1  PDF 1.7        B Lewis                   Microsoft Word            \n",
       "2  PDF 1.7        B Lewis                   Microsoft Word            \n",
       "\n",
       "              creationDate                  modDate trapped encryption  \\\n",
       "0  D:20210822083603+00'00'  D:20210822083603+00'00'               None   \n",
       "1  D:20210822083606+00'00'  D:20210822083606+00'00'               None   \n",
       "2  D:20210822083609+00'00'  D:20210822083609+00'00'               None   \n",
       "\n",
       "                                         file_name  \\\n",
       "0   Examination_of_Witnesses_Sept_2003_-_Q1-19.pdf   \n",
       "1  Examination_of_Witnesses_Sept_2003_-_Q20-39.pdf   \n",
       "2  Examination_of_Witnesses_Sept_2003_-_Q40-44.pdf   \n",
       "\n",
       "                                             Content  document_id  Word_count  \n",
       "0  Examination of Witnesses (1-19) \\n16 SEPTEMBER...            0        6115  \n",
       "1  Examination of Witnesses (20-39) \\n16 SEPTEMBE...            1        4002  \n",
       "2  Examination of Witnesses (40-44) \\n16 SEPTEMBE...            2        1007  "
      ]
     },
     "execution_count": 108,
     "metadata": {},
     "output_type": "execute_result"
    }
   ],
   "source": [
    "df = pd.DataFrame(list_metadata)\n",
    "df['document_id'] = df.index\n",
    "df = df.drop_duplicates(subset = 'Content')             # drop duplicate rows\n",
    "df = df.dropna(subset=['Content'])                      # drop rows whose text content is NaN\n",
    "df['Word_count'] = df ['Content'].str.count(' ') + 1\n",
    "df.head(3)"
   ]
  },
  {
   "cell_type": "code",
   "execution_count": 109,
   "metadata": {
    "scrolled": true
   },
   "outputs": [
    {
     "data": {
      "text/html": [
       "<div>\n",
       "<style scoped>\n",
       "    .dataframe tbody tr th:only-of-type {\n",
       "        vertical-align: middle;\n",
       "    }\n",
       "\n",
       "    .dataframe tbody tr th {\n",
       "        vertical-align: top;\n",
       "    }\n",
       "\n",
       "    .dataframe thead th {\n",
       "        text-align: right;\n",
       "    }\n",
       "</style>\n",
       "<table border=\"1\" class=\"dataframe\">\n",
       "  <thead>\n",
       "    <tr style=\"text-align: right;\">\n",
       "      <th></th>\n",
       "      <th>file_name</th>\n",
       "      <th>Content</th>\n",
       "    </tr>\n",
       "  </thead>\n",
       "  <tbody>\n",
       "  </tbody>\n",
       "</table>\n",
       "</div>"
      ],
      "text/plain": [
       "Empty DataFrame\n",
       "Columns: [file_name, Content]\n",
       "Index: []"
      ]
     },
     "execution_count": 109,
     "metadata": {},
     "output_type": "execute_result"
    }
   ],
   "source": [
    "# check if there are documents with few words\n",
    "min_word_count= 10                                               # set the threshold of the minimum word count of each document \n",
    "min_word_count_filter = df['Word_count'] <= min_word_count\n",
    "df_few_words = df[min_word_count_filter][['file_name', 'Content']]\n",
    "df_few_words"
   ]
  },
  {
   "cell_type": "code",
   "execution_count": 110,
   "metadata": {},
   "outputs": [
    {
     "name": "stdout",
     "output_type": "stream",
     "text": [
      "<class 'pandas.core.frame.DataFrame'>\n",
      "Int64Index: 169 entries, 0 to 168\n",
      "Data columns (total 15 columns):\n",
      " #   Column        Non-Null Count  Dtype \n",
      "---  ------        --------------  ----- \n",
      " 0   format        169 non-null    object\n",
      " 1   title         169 non-null    object\n",
      " 2   author        169 non-null    object\n",
      " 3   subject       169 non-null    object\n",
      " 4   keywords      169 non-null    object\n",
      " 5   creator       169 non-null    object\n",
      " 6   producer      169 non-null    object\n",
      " 7   creationDate  169 non-null    object\n",
      " 8   modDate       169 non-null    object\n",
      " 9   trapped       169 non-null    object\n",
      " 10  encryption    3 non-null      object\n",
      " 11  file_name     169 non-null    object\n",
      " 12  Content       169 non-null    object\n",
      " 13  document_id   169 non-null    int64 \n",
      " 14  Word_count    169 non-null    int64 \n",
      "dtypes: int64(2), object(13)\n",
      "memory usage: 21.1+ KB\n"
     ]
    }
   ],
   "source": [
    "df.info()"
   ]
  },
  {
   "cell_type": "code",
   "execution_count": 111,
   "metadata": {},
   "outputs": [
    {
     "data": {
      "text/plain": [
       "1054090"
      ]
     },
     "execution_count": 111,
     "metadata": {},
     "output_type": "execute_result"
    }
   ],
   "source": [
    "# Word count\n",
    "df['Word_count'].sum( )"
   ]
  },
  {
   "cell_type": "markdown",
   "metadata": {},
   "source": [
    "# 3. Natural language processing"
   ]
  },
  {
   "cell_type": "markdown",
   "metadata": {},
   "source": [
    "### 3.1. Tokenisation"
   ]
  },
  {
   "cell_type": "code",
   "execution_count": 112,
   "metadata": {
    "scrolled": false
   },
   "outputs": [],
   "source": [
    "data = df.Content.values.tolist()"
   ]
  },
  {
   "cell_type": "code",
   "execution_count": 113,
   "metadata": {},
   "outputs": [],
   "source": [
    "def sent_to_words(sentences):\n",
    "    for sentence in sentences:\n",
    "        yield(gensim.utils.simple_preprocess(str(sentence).encode('utf-8'), deacc=True))  # deacc=True removes punctuations\n",
    "\n",
    "data_words= list(sent_to_words(data))"
   ]
  },
  {
   "cell_type": "markdown",
   "metadata": {},
   "source": [
    "### 3.2. Processing words: \n",
    "Remove Stopwords, Make Bigrams and Trigrams,Lemmatisation, remove short words and meaningless words"
   ]
  },
  {
   "cell_type": "code",
   "execution_count": 114,
   "metadata": {},
   "outputs": [],
   "source": [
    "# Build the bigram and trigram models\n",
    "bigram = gensim.models.Phrases(data_words, min_count=5, threshold=100) # higher threshold fewer phrases.\n",
    "trigram = gensim.models.Phrases(bigram[data_words], threshold=100)  \n",
    "bigram_mod = gensim.models.phrases.Phraser(bigram)\n",
    "trigram_mod = gensim.models.phrases.Phraser(trigram)"
   ]
  },
  {
   "cell_type": "code",
   "execution_count": 115,
   "metadata": {},
   "outputs": [
    {
     "data": {
      "text/plain": [
       "['does',\n",
       " 'whereby',\n",
       " 'not',\n",
       " 'didn',\n",
       " 'ourselves',\n",
       " 'off',\n",
       " 'top',\n",
       " 'thick',\n",
       " 'next',\n",
       " 'below',\n",
       " 'do',\n",
       " 're',\n",
       " 'everyone',\n",
       " 'un',\n",
       " 'if',\n",
       " 'nobody',\n",
       " 'own',\n",
       " 'namely',\n",
       " 'thru',\n",
       " 'then',\n",
       " 'often',\n",
       " 'too',\n",
       " 'de',\n",
       " 'we',\n",
       " 'no',\n",
       " 'yourselves',\n",
       " 'call',\n",
       " 'well',\n",
       " 'otherwise',\n",
       " 'anything',\n",
       " 'make',\n",
       " 'ten',\n",
       " 'none',\n",
       " 'name',\n",
       " 'but',\n",
       " 'system',\n",
       " 'such',\n",
       " 'each',\n",
       " 'other',\n",
       " 'the',\n",
       " 'hence',\n",
       " 'yet',\n",
       " 'toward',\n",
       " 'now',\n",
       " 'or',\n",
       " 'her',\n",
       " 'describe',\n",
       " 'be',\n",
       " 'four',\n",
       " 'further',\n",
       " 'seem',\n",
       " 'much',\n",
       " 'least',\n",
       " 'what',\n",
       " 'whatever',\n",
       " 'with',\n",
       " 'towards',\n",
       " 'becomes',\n",
       " 'keep',\n",
       " 'in',\n",
       " 'nine',\n",
       " 'some',\n",
       " 'when',\n",
       " 'seeming',\n",
       " 'anyhow',\n",
       " 'have',\n",
       " 'all',\n",
       " 'anyone',\n",
       " 'ever',\n",
       " 'most',\n",
       " 'over',\n",
       " 'after',\n",
       " 'am',\n",
       " 'everywhere',\n",
       " 'beside',\n",
       " 'where',\n",
       " 'whenever',\n",
       " 'along',\n",
       " 'get',\n",
       " 'about',\n",
       " 'once',\n",
       " 'never',\n",
       " 'done',\n",
       " 'interest',\n",
       " 'thus',\n",
       " 'a',\n",
       " 'ie',\n",
       " 'part',\n",
       " 'because',\n",
       " 'con',\n",
       " 'ours',\n",
       " 'show',\n",
       " 'their',\n",
       " 'my',\n",
       " 'there',\n",
       " 'full',\n",
       " 'elsewhere',\n",
       " 'that',\n",
       " 'mill',\n",
       " 'an',\n",
       " 'than',\n",
       " 'just',\n",
       " 'former',\n",
       " 'from',\n",
       " 'himself',\n",
       " 'being',\n",
       " 'couldnt',\n",
       " 'whereas',\n",
       " 'first',\n",
       " 'yours',\n",
       " 'therein',\n",
       " 'its',\n",
       " 'during',\n",
       " 'say',\n",
       " 'anyway',\n",
       " 'latterly',\n",
       " 'itself',\n",
       " 'to',\n",
       " 'hereupon',\n",
       " 'who',\n",
       " 'beyond',\n",
       " 'sometimes',\n",
       " 'else',\n",
       " 'out',\n",
       " 'two',\n",
       " 'give',\n",
       " 'whole',\n",
       " 'upon',\n",
       " 'another',\n",
       " 'was',\n",
       " 'less',\n",
       " 'very',\n",
       " 'your',\n",
       " 'why',\n",
       " 'by',\n",
       " 'whether',\n",
       " 'behind',\n",
       " 'seemed',\n",
       " 'inc',\n",
       " 'others',\n",
       " 'so',\n",
       " 'becoming',\n",
       " 'due',\n",
       " 'per',\n",
       " 'co',\n",
       " 'been',\n",
       " 'me',\n",
       " 'don',\n",
       " 'up',\n",
       " 'using',\n",
       " 'side',\n",
       " 'here',\n",
       " 'onto',\n",
       " 'eight',\n",
       " 'alone',\n",
       " 'as',\n",
       " 'i',\n",
       " 'which',\n",
       " 'nor',\n",
       " 'even',\n",
       " 'sincere',\n",
       " 'whither',\n",
       " 'of',\n",
       " 'those',\n",
       " 'whence',\n",
       " 'detail',\n",
       " 'any',\n",
       " 'these',\n",
       " 'hereafter',\n",
       " 'fifteen',\n",
       " 'anywhere',\n",
       " 'forty',\n",
       " 'eg',\n",
       " 'mine',\n",
       " 'everything',\n",
       " 'may',\n",
       " 'more',\n",
       " 'she',\n",
       " 'will',\n",
       " 'among',\n",
       " 'it',\n",
       " 'few',\n",
       " 'hasnt',\n",
       " 'one',\n",
       " 'five',\n",
       " 'computer',\n",
       " 'until',\n",
       " 'would',\n",
       " 'at',\n",
       " 'whereupon',\n",
       " 'between',\n",
       " 'cant',\n",
       " 'already',\n",
       " 'except',\n",
       " 'can',\n",
       " 'had',\n",
       " 'found',\n",
       " 'regarding',\n",
       " 'kg',\n",
       " 'myself',\n",
       " 'he',\n",
       " 'could',\n",
       " 'see',\n",
       " 'somewhere',\n",
       " 'thereafter',\n",
       " 'many',\n",
       " 'doesn',\n",
       " 'around',\n",
       " 'neither',\n",
       " 'fill',\n",
       " 'almost',\n",
       " 'they',\n",
       " 'via',\n",
       " 'unless',\n",
       " 'bottom',\n",
       " 'somehow',\n",
       " 'please',\n",
       " 'cry',\n",
       " 'and',\n",
       " 'on',\n",
       " 'thereby',\n",
       " 'latter',\n",
       " 'indeed',\n",
       " 'find',\n",
       " 'his',\n",
       " 'since',\n",
       " 'how',\n",
       " 'formerly',\n",
       " 'move',\n",
       " 'under',\n",
       " 'same',\n",
       " 'our',\n",
       " 'whom',\n",
       " 'eleven',\n",
       " 'wherever',\n",
       " 'did',\n",
       " 'herself',\n",
       " 'amount',\n",
       " 'put',\n",
       " 'bill',\n",
       " 'within',\n",
       " 'three',\n",
       " 'twenty',\n",
       " 'though',\n",
       " 'something',\n",
       " 'quite',\n",
       " 'always',\n",
       " 'are',\n",
       " 'before',\n",
       " 'enough',\n",
       " 'into',\n",
       " 'cannot',\n",
       " 'nevertheless',\n",
       " 'used',\n",
       " 'someone',\n",
       " 'take',\n",
       " 'moreover',\n",
       " 'six',\n",
       " 'third',\n",
       " 'became',\n",
       " 'yourself',\n",
       " 'therefore',\n",
       " 'although',\n",
       " 'throughout',\n",
       " 'last',\n",
       " 'amongst',\n",
       " 'both',\n",
       " 'doing',\n",
       " 'rather',\n",
       " 'either',\n",
       " 'again',\n",
       " 'thence',\n",
       " 'against',\n",
       " 'thereupon',\n",
       " 'this',\n",
       " 'km',\n",
       " 'herein',\n",
       " 'were',\n",
       " 'thin',\n",
       " 'ltd',\n",
       " 'down',\n",
       " 'however',\n",
       " 'serious',\n",
       " 'you',\n",
       " 'might',\n",
       " 'only',\n",
       " 'must',\n",
       " 'whoever',\n",
       " 'besides',\n",
       " 'themselves',\n",
       " 'above',\n",
       " 'sometime',\n",
       " 'still',\n",
       " 'while',\n",
       " 'whose',\n",
       " 'fifty',\n",
       " 'should',\n",
       " 'become',\n",
       " 'afterwards',\n",
       " 'go',\n",
       " 'etc',\n",
       " 'together',\n",
       " 'really',\n",
       " 'empty',\n",
       " 'seems',\n",
       " 'made',\n",
       " 'wherein',\n",
       " 'mostly',\n",
       " 'perhaps',\n",
       " 'hereby',\n",
       " 'nowhere',\n",
       " 'hers',\n",
       " 'front',\n",
       " 'for',\n",
       " 'amoungst',\n",
       " 'every',\n",
       " 'various',\n",
       " 'nothing',\n",
       " 'without',\n",
       " 'meanwhile',\n",
       " 'beforehand',\n",
       " 'whereafter',\n",
       " 'hundred',\n",
       " 'several',\n",
       " 'us',\n",
       " 'across',\n",
       " 'noone',\n",
       " 'sixty',\n",
       " 'is',\n",
       " 'back',\n",
       " 'fire',\n",
       " 'also',\n",
       " 'twelve',\n",
       " 'through',\n",
       " 'him',\n",
       " 'them',\n",
       " 'has',\n",
       " 'go',\n",
       " 'would',\n",
       " 'make',\n",
       " 'think',\n",
       " 'take',\n",
       " 'say',\n",
       " 'need',\n",
       " 'want',\n",
       " 'thing',\n",
       " 'have',\n",
       " 'lot',\n",
       " 'people',\n",
       " 'year',\n",
       " 'work',\n",
       " 'time',\n",
       " 'know',\n",
       " 'use',\n",
       " 'try',\n",
       " 'happen',\n",
       " 'ask',\n",
       " 'new',\n",
       " 'way',\n",
       " 'jonathan',\n",
       " 'stephen']"
      ]
     },
     "execution_count": 115,
     "metadata": {},
     "output_type": "execute_result"
    }
   ],
   "source": [
    "# import the stop_words from gensim\n",
    "from gensim.parsing.preprocessing import remove_stopwords, STOPWORDS\n",
    "stop_words = [i for i in STOPWORDS]\n",
    "\n",
    "# add more stop words after analysing the overall term frequncy of each topic in pyLDAvis in the \"Word frequency of each topic\" section\n",
    "new_stop_words = ['go', 'would', 'make', 'think', 'take', 'say', 'need', 'want', 'thing', 'have', 'lot', 'people', 'year',\n",
    "                   'work','time', 'know', 'use', 'try', 'happen', 'ask', 'new', 'way', 'jonathan', 'stephen']            \n",
    "stop_words.extend(new_stop_words)\n",
    "stop_words"
   ]
  },
  {
   "cell_type": "code",
   "execution_count": 116,
   "metadata": {},
   "outputs": [],
   "source": [
    "# Define functions for stopwords, bigrams, trigrams and lemmatization\n",
    "def remove_stop_words(texts):\n",
    "    return [[word for word in doc if word not in stop_words] for doc in texts]\n",
    "\n",
    "def make_bigrams(texts):\n",
    "    return [bigram_mod[doc] for doc in texts]\n",
    "\n",
    "def make_trigrams(texts):\n",
    "    return [trigram_mod[bigram_mod[doc]] for doc in texts]\n",
    "\n",
    "def lemmatization(texts, allowed_postags=['NOUN', 'ADJ', 'VERB', 'ADV']):\n",
    "    \"\"\"https://spacy.io/api/annotation\"\"\"\n",
    "    texts_out = []\n",
    "    for sent in texts:\n",
    "        doc = nlp(\" \".join(sent)) \n",
    "        texts_out.append([token.lemma_ for token in doc if token.pos_ in allowed_postags])\n",
    "    return texts_out"
   ]
  },
  {
   "cell_type": "code",
   "execution_count": 117,
   "metadata": {},
   "outputs": [
    {
     "data": {
      "text/plain": [
       "[['examination',\n",
       "  'witness',\n",
       "  'morning',\n",
       "  'like',\n",
       "  'welcome',\n",
       "  'today',\n",
       "  'occasional',\n",
       "  'series',\n",
       "  'checking',\n",
       "  'session',\n",
       "  'follow',\n",
       "  'regard',\n",
       "  'olympic',\n",
       "  'bid',\n",
       "  'committee',\n",
       "  'report',\n",
       "  'bring',\n",
       "  'good',\n",
       "  'express',\n",
       "  'number',\n",
       "  'concern',\n",
       "  'issue',\n",
       "  'ought',\n",
       "  'consider',\n",
       "  'interested',\n",
       "  'hear',\n",
       "  'understand',\n",
       "  'course',\n",
       "  'acceptable',\n",
       "  'appearance',\n",
       "  'like',\n",
       "  'open',\n",
       "  'statement',\n",
       "  'happy',\n",
       "  'listen',\n",
       "  'thank',\n",
       "  'thank',\n",
       "  'opportunity',\n",
       "  'come',\n",
       "  'today',\n",
       "  'talk',\n",
       "  'little_bit',\n",
       "  'plan',\n",
       "  'hope',\n",
       "  'come',\n",
       "  'month',\n",
       "  'month',\n",
       "  'shall',\n",
       "  'able',\n",
       "  'meet',\n",
       "  'update',\n",
       "  'progress',\n",
       "  'like',\n",
       "  'role',\n",
       "  'week',\n",
       "  'explain',\n",
       "  'sitting',\n",
       "  'role',\n",
       "  'offer',\n",
       "  'accept',\n",
       "  'like',\n",
       "  'little_bit',\n",
       "  'idea',\n",
       "  'job',\n",
       "  'philosophy',\n",
       "  'bid',\n",
       "  'update',\n",
       "  'initial',\n",
       "  'thought',\n",
       "  'reaction',\n",
       "  'date',\n",
       "  'sense',\n",
       "  'progress',\n",
       "  'week',\n",
       "  'talk',\n",
       "  'little_bit',\n",
       "  'future',\n",
       "  'motivation',\n",
       "  'role',\n",
       "  'come',\n",
       "  'number',\n",
       "  'area',\n",
       "  'lucky',\n",
       "  'able',\n",
       "  'start',\n",
       "  'airline',\n",
       "  'hope',\n",
       "  'customer',\n",
       "  'great',\n",
       "  'fortune',\n",
       "  'tremendous',\n",
       "  'enormous',\n",
       "  'number',\n",
       "  'customer',\n",
       "  'area',\n",
       "  'business',\n",
       "  'tremendous',\n",
       "  'opportunity',\n",
       "  'feel',\n",
       "  'motivation',\n",
       "  'second',\n",
       "  'emotional',\n",
       "  'issue',\n",
       "  'believe',\n",
       "  'endeavour',\n",
       "  'believe',\n",
       "  'child',\n",
       "  'lucky',\n",
       "  'attend',\n",
       "  'olympic',\n",
       "  'believe',\n",
       "  'world',\n",
       "  'positive',\n",
       "  'country',\n",
       "  'compete',\n",
       "  'individual',\n",
       "  'team',\n",
       "  'pursuit',\n",
       "  'inspirational',\n",
       "  'love',\n",
       "  'bring',\n",
       "  'right',\n",
       "  'star',\n",
       "  'align',\n",
       "  'position',\n",
       "  'mayor',\n",
       "  'supportive',\n",
       "  'government',\n",
       "  'supportive',\n",
       "  'good',\n",
       "  'country',\n",
       "  'olympic',\n",
       "  'bid',\n",
       "  'important',\n",
       "  'consider',\n",
       "  'role',\n",
       "  'feel',\n",
       "  'role',\n",
       "  'bid',\n",
       "  'concern',\n",
       "  'business',\n",
       "  'background',\n",
       "  'useful',\n",
       "  'tough',\n",
       "  'business',\n",
       "  'reputation',\n",
       "  'tough',\n",
       "  'fair',\n",
       "  'believe',\n",
       "  'commitment',\n",
       "  'believe',\n",
       "  'strong',\n",
       "  'financial',\n",
       "  'management',\n",
       "  'believe',\n",
       "  'hire',\n",
       "  'capable',\n",
       "  'diverse',\n",
       "  'background',\n",
       "  'leave',\n",
       "  'believe',\n",
       "  'good',\n",
       "  'principle',\n",
       "  'management',\n",
       "  'world',\n",
       "  'world',\n",
       "  'good',\n",
       "  'learn',\n",
       "  'privilege',\n",
       "  'position',\n",
       "  'public',\n",
       "  'monie',\n",
       "  'win',\n",
       "  'game',\n",
       "  'good',\n",
       "  'fulfil',\n",
       "  'obligation',\n",
       "  'backdrop',\n",
       "  'believe',\n",
       "  'game',\n",
       "  'believe',\n",
       "  'believe',\n",
       "  'win',\n",
       "  'motivate',\n",
       "  'bring',\n",
       "  'business',\n",
       "  'philosophy',\n",
       "  'bid',\n",
       "  'learn',\n",
       "  'support',\n",
       "  'support',\n",
       "  'organisation',\n",
       "  'ioc',\n",
       "  'build',\n",
       "  'team',\n",
       "  'draw',\n",
       "  'experience',\n",
       "  'expertise',\n",
       "  'dcms',\n",
       "  'gla',\n",
       "  'boa',\n",
       "  'agree',\n",
       "  'create',\n",
       "  'separate',\n",
       "  'team',\n",
       "  'team',\n",
       "  'focus',\n",
       "  'win',\n",
       "  'bid',\n",
       "  'rely',\n",
       "  'support',\n",
       "  'organisation',\n",
       "  'help',\n",
       "  'issue',\n",
       "  'arise',\n",
       "  'arise',\n",
       "  'arrive',\n",
       "  'different',\n",
       "  'stage',\n",
       "  'today',\n",
       "  'shall',\n",
       "  'moment',\n",
       "  'bid',\n",
       "  'arup',\n",
       "  'report',\n",
       "  'report',\n",
       "  'high',\n",
       "  'level',\n",
       "  'start',\n",
       "  'oppose',\n",
       "  'tell',\n",
       "  'orient',\n",
       "  'competitive',\n",
       "  'process',\n",
       "  'repeat',\n",
       "  'game',\n",
       "  'case',\n",
       "  'tick',\n",
       "  'box',\n",
       "  'win',\n",
       "  'case',\n",
       "  'believe',\n",
       "  'live',\n",
       "  'city',\n",
       "  'city',\n",
       "  'create',\n",
       "  'worthy',\n",
       "  'competition',\n",
       "  'world_championship',\n",
       "  'bid',\n",
       "  'world_class',\n",
       "  'city',\n",
       "  'bid',\n",
       "  'approach',\n",
       "  'begin',\n",
       "  'understand',\n",
       "  'ioc',\n",
       "  'encourage',\n",
       "  'early',\n",
       "  'pronouncement',\n",
       "  'early',\n",
       "  'brush',\n",
       "  'organisation',\n",
       "  'change',\n",
       "  'nature',\n",
       "  'game',\n",
       "  'change',\n",
       "  'nature',\n",
       "  'bidding',\n",
       "  'issue',\n",
       "  'past',\n",
       "  'transform',\n",
       "  'organisation',\n",
       "  'prepare',\n",
       "  'bid',\n",
       "  'insist',\n",
       "  'legacy',\n",
       "  'issue',\n",
       "  'venue',\n",
       "  'eager',\n",
       "  'game',\n",
       "  'contain',\n",
       "  'grow',\n",
       "  'big',\n",
       "  'big',\n",
       "  'issue',\n",
       "  'believe',\n",
       "  'favour',\n",
       "  'bid',\n",
       "  'live',\n",
       "  'cosmopolitan',\n",
       "  'democratic',\n",
       "  'country',\n",
       "  'compete',\n",
       "  'efficient',\n",
       "  'right',\n",
       "  'sport',\n",
       "  'country',\n",
       "  'early',\n",
       "  'feedback',\n",
       "  'receive',\n",
       "  'member',\n",
       "  'meeting',\n",
       "  'positive',\n",
       "  'open',\n",
       "  'sense',\n",
       "  'open',\n",
       "  'understand',\n",
       "  'positive',\n",
       "  'chance',\n",
       "  'win',\n",
       "  'important',\n",
       "  'accomplish',\n",
       "  'week',\n",
       "  'priority',\n",
       "  'deadline',\n",
       "  'mind',\n",
       "  'submit',\n",
       "  'applicant',\n",
       "  'questionnaire',\n",
       "  'simple',\n",
       "  'document',\n",
       "  'require',\n",
       "  'answer',\n",
       "  'simple',\n",
       "  'question',\n",
       "  'venue',\n",
       "  'approach',\n",
       "  'game',\n",
       "  'etcetera',\n",
       "  'order',\n",
       "  'complete',\n",
       "  'questionnaire',\n",
       "  'stage',\n",
       "  'hear',\n",
       "  'spring',\n",
       "  'undertake',\n",
       "  'number',\n",
       "  'piece',\n",
       "  'build',\n",
       "  'team',\n",
       "  'spend',\n",
       "  'interview',\n",
       "  'hire',\n",
       "  'hire',\n",
       "  'combination',\n",
       "  'sporting',\n",
       "  'experience',\n",
       "  'olympic',\n",
       "  'experience',\n",
       "  'come',\n",
       "  'business',\n",
       "  'chief_operate',\n",
       "  'officer',\n",
       "  'hire',\n",
       "  'week',\n",
       "  'start',\n",
       "  'week',\n",
       "  'guy',\n",
       "  'spend',\n",
       "  'proctor',\n",
       "  'gamble',\n",
       "  'bring',\n",
       "  'tremendous',\n",
       "  'organisational',\n",
       "  'skill',\n",
       "  'structure',\n",
       "  'ability',\n",
       "  'complex',\n",
       "  'project',\n",
       "  'deliver',\n",
       "  'background',\n",
       "  'tremendous',\n",
       "  'asset',\n",
       "  'olympic',\n",
       "  'expert',\n",
       "  'technical',\n",
       "  'bid',\n",
       "  'understand',\n",
       "  'group',\n",
       "  'satisfy',\n",
       "  'join',\n",
       "  'director',\n",
       "  'marketing',\n",
       "  'build',\n",
       "  'brand',\n",
       "  'create',\n",
       "  'exciting',\n",
       "  'communication',\n",
       "  'idea',\n",
       "  'middle',\n",
       "  'search',\n",
       "  'interview',\n",
       "  'group',\n",
       "  'executive',\n",
       "  'search',\n",
       "  'interview',\n",
       "  'important',\n",
       "  'right',\n",
       "  'person',\n",
       "  'confident',\n",
       "  'love',\n",
       "  'sit',\n",
       "  'today',\n",
       "  'middle',\n",
       "  'process',\n",
       "  'chairman',\n",
       "  'member',\n",
       "  'question',\n",
       "  'suggest',\n",
       "  'draw',\n",
       "  'remark',\n",
       "  'close',\n",
       "  'sure',\n",
       "  'able',\n",
       "  'response',\n",
       "  'question',\n",
       "  'thank',\n",
       "  'speculation',\n",
       "  'today',\n",
       "  'vice',\n",
       "  'chairman',\n",
       "  'today',\n",
       "  'announce',\n",
       "  'bring',\n",
       "  'board',\n",
       "  'vice',\n",
       "  'chairman',\n",
       "  'believe',\n",
       "  'bid',\n",
       "  'strong',\n",
       "  'leadership',\n",
       "  'figure',\n",
       "  'addition',\n",
       "  'complement',\n",
       "  'bid',\n",
       "  'vice',\n",
       "  'chairman',\n",
       "  'role',\n",
       "  'iaaf',\n",
       "  'relationship',\n",
       "  'world',\n",
       "  'tremendous',\n",
       "  'assistance',\n",
       "  'bid',\n",
       "  'second',\n",
       "  'person',\n",
       "  'invite',\n",
       "  'vice',\n",
       "  'chairman',\n",
       "  'world',\n",
       "  'wide',\n",
       "  'reputation',\n",
       "  'different',\n",
       "  'strong',\n",
       "  'sport',\n",
       "  'administrator',\n",
       "  'terrific',\n",
       "  'athlete',\n",
       "  'agree',\n",
       "  'technical',\n",
       "  'bid',\n",
       "  'make_sure',\n",
       "  'board',\n",
       "  'learning',\n",
       "  'person',\n",
       "  'chairman',\n",
       "  'chairman',\n",
       "  'group',\n",
       "  'wise',\n",
       "  'counsel',\n",
       "  'look',\n",
       "  'provide',\n",
       "  'role',\n",
       "  'board',\n",
       "  'subject',\n",
       "  'interview',\n",
       "  'right',\n",
       "  'person',\n",
       "  'enthusiasm',\n",
       "  'drive',\n",
       "  'run',\n",
       "  'day',\n",
       "  'week',\n",
       "  'chairman',\n",
       "  'day',\n",
       "  'week',\n",
       "  'mention',\n",
       "  'bit',\n",
       "  'laugh',\n",
       "  'breakfast',\n",
       "  'table',\n",
       "  'morning',\n",
       "  'news',\n",
       "  'child',\n",
       "  'day',\n",
       "  'week',\n",
       "  'hour',\n",
       "  'day',\n",
       "  'night',\n",
       "  'week',\n",
       "  'order',\n",
       "  'like',\n",
       "  'stick',\n",
       "  'day',\n",
       "  'week',\n",
       "  'personal',\n",
       "  'professional',\n",
       "  'reason',\n",
       "  'believe',\n",
       "  'bid',\n",
       "  'represent',\n",
       "  'leadership',\n",
       "  'bid',\n",
       "  'room',\n",
       "  'chairman',\n",
       "  'unable',\n",
       "  'meet',\n",
       "  'run',\n",
       "  'bid',\n",
       "  'hire',\n",
       "  'act',\n",
       "  'role',\n",
       "  'chairman',\n",
       "  'appreciate',\n",
       "  'confidence',\n",
       "  'assure',\n",
       "  'good',\n",
       "  'bid',\n",
       "  'hire',\n",
       "  'british',\n",
       "  'tight',\n",
       "  'deadline',\n",
       "  'mention',\n",
       "  'submission',\n",
       "  'response',\n",
       "  'bid',\n",
       "  'spend',\n",
       "  'schmooze',\n",
       "  'ioc',\n",
       "  'city',\n",
       "  'interesting',\n",
       "  'question',\n",
       "  'success',\n",
       "  'bid',\n",
       "  'lie',\n",
       "  'hand',\n",
       "  'member',\n",
       "  'vote',\n",
       "  'opportunity',\n",
       "  'meet',\n",
       "  'half',\n",
       "  'prague',\n",
       "  'trip',\n",
       "  'international',\n",
       "  'sporting',\n",
       "  'event',\n",
       "  'attend',\n",
       "  'view',\n",
       "  'strong',\n",
       "  'ioc',\n",
       "  'member',\n",
       "  'good',\n",
       "  'job',\n",
       "  'bid',\n",
       "  'eye',\n",
       "  'member',\n",
       "  'manner',\n",
       "  'intend',\n",
       "  'ioc',\n",
       "  'issue',\n",
       "  'change',\n",
       "  'rule',\n",
       "  'interact',\n",
       "  'bid',\n",
       "  'interact',\n",
       "  'ioc',\n",
       "  'example',\n",
       "  'lunch',\n",
       "  'rule',\n",
       "  'change',\n",
       "  'important',\n",
       "  'entertain',\n",
       "  'come',\n",
       "  'sit',\n",
       "  'lobby',\n",
       "  'catch',\n",
       "  'ioc',\n",
       "  'member',\n",
       "  'great',\n",
       "  'believer',\n",
       "  'order',\n",
       "  'sell',\n",
       "  'product',\n",
       "  'notch',\n",
       "  'shape',\n",
       "  'believe',\n",
       "  'attend',\n",
       "  'world',\n",
       "  'row',\n",
       "  'championship',\n",
       "  'sit',\n",
       "  'leadership',\n",
       "  'class',\n",
       "  'rowing',\n",
       "  'championship',\n",
       "  'hold',\n",
       "  'number',\n",
       "  'sport',\n",
       "  'send',\n",
       "  'signal',\n",
       "  'game',\n",
       "  'sport',\n",
       "  'wonderful',\n",
       "  'attribute',\n",
       "  'bring',\n",
       "  'philosophy',\n",
       "  'fact',\n",
       "  'member',\n",
       "  'ring',\n",
       "  'response',\n",
       "  'number',\n",
       "  'article',\n",
       "  'paper',\n",
       "  'forget',\n",
       "  'judgment',\n",
       "  'feel',\n",
       "  'comfortable',\n",
       "  'approach',\n",
       "  'damage',\n",
       "  'product',\n",
       "  'damaged',\n",
       "  'reputation',\n",
       "  'picketts_lock',\n",
       "  'disaster',\n",
       "  'good',\n",
       "  'comeback',\n",
       "  'indoor',\n",
       "  'championship',\n",
       "  'residual',\n",
       "  'question',\n",
       "  'mark',\n",
       "  'question',\n",
       "  'privacy',\n",
       "  'lounge',\n",
       "  'area',\n",
       "  'member',\n",
       "  'governing',\n",
       "  'board',\n",
       "  'meet',\n",
       "  'half',\n",
       "  'half',\n",
       "  'half',\n",
       "  'half',\n",
       "  'understand',\n",
       "  'build',\n",
       "  'specificity',\n",
       "  'stadium',\n",
       "  'shall',\n",
       "  'build',\n",
       "  'plan',\n",
       "  'stride',\n",
       "  'ground',\n",
       "  'good',\n",
       "  'morning',\n",
       "  'press',\n",
       "  'newspaper',\n",
       "  'report',\n",
       "  'true',\n",
       "  'offer',\n",
       "  'post',\n",
       "  'turn',\n",
       "  'offer',\n",
       "  'position',\n",
       "  'fascinating',\n",
       "  'watch',\n",
       "  'process',\n",
       "  'unwind',\n",
       "  'press',\n",
       "  'interview',\n",
       "  'invite',\n",
       "  'additional',\n",
       "  'chat',\n",
       "  'stakeholder',\n",
       "  'offer',\n",
       "  'thought',\n",
       "  'vote',\n",
       "  'ioc',\n",
       "  'bid',\n",
       "  'cope',\n",
       "  'vote',\n",
       "  'ioc',\n",
       "  'committee',\n",
       "  'target',\n",
       "  'vote',\n",
       "  'identify',\n",
       "  'right',\n",
       "  'approach',\n",
       "  'sell',\n",
       "  'bid',\n",
       "  'strategy',\n",
       "  'sell',\n",
       "  'bid',\n",
       "  'priority',\n",
       "  'couple',\n",
       "  'month',\n",
       "  'identify',\n",
       "  'grouping',\n",
       "  'stage',\n",
       "  'begin',\n",
       "  'feel',\n",
       "  'careful',\n",
       "  'refer',\n",
       "  'ioc',\n",
       "  'member',\n",
       "  'religion',\n",
       "  'nationality',\n",
       "  'sport',\n",
       "  'person',\n",
       "  'leader',\n",
       "  'federation',\n",
       "  'understand',\n",
       "  'person',\n",
       "  'step',\n",
       "  'help',\n",
       "  'present',\n",
       "  'bid',\n",
       "  'positive',\n",
       "  'begin',\n",
       "  'course',\n",
       "  'recruit',\n",
       "  'member',\n",
       "  'speak',\n",
       "  'meaningful',\n",
       "  'ioc',\n",
       "  'member',\n",
       "  'stage',\n",
       "  'choose',\n",
       "  'derek_wyatt',\n",
       "  'look',\n",
       "  'assembly',\n",
       "  'bid',\n",
       "  'experience',\n",
       "  'international',\n",
       "  'sporting',\n",
       "  'event',\n",
       "  'bidding',\n",
       "  'experience',\n",
       "  'major',\n",
       "  'world_championship',\n",
       "  'rugby',\n",
       "  'etcetera',\n",
       "  'team',\n",
       "  'responsible',\n",
       "  'game',\n",
       "  'game',\n",
       "  'bid',\n",
       "  'number',\n",
       "  'summer',\n",
       "  'game',\n",
       "  'bid',\n",
       "  'combination',\n",
       "  'stage',\n",
       "  'event',\n",
       "  'bidding',\n",
       "  'manchester',\n",
       "  'feel',\n",
       "  'beneficial',\n",
       "  'intention',\n",
       "  'team',\n",
       "  'fact',\n",
       "  'interview',\n",
       "  'interesting',\n",
       "  'bid',\n",
       "  'team',\n",
       "  'long',\n",
       "  'game',\n",
       "  'near',\n",
       "  'challenge',\n",
       "  'right',\n",
       "  'combination',\n",
       "  'touch',\n",
       "  'responsible',\n",
       "  'useful',\n",
       "  'helpful',\n",
       "  'clear',\n",
       "  'role',\n",
       "  'film',\n",
       "  'inquiry',\n",
       "  'sport',\n",
       "  'channel',\n",
       "  'logo',\n",
       "  'right',\n",
       "  'hand',\n",
       "  'semi',\n",
       "  'final',\n",
       "  'final',\n",
       "  'wonder',\n",
       "  'legal',\n",
       "  'discussion',\n",
       "  'idea',\n",
       "  'television',\n",
       "  'broadcaster',\n",
       "  'broadcaster',\n",
       "  'fifth',\n",
       "  'avenue',\n",
       "  'shop',\n",
       "  'window',\n",
       "  'olympic',\n",
       "  'bid',\n",
       "  'olympic',\n",
       "  'bid',\n",
       "  'good',\n",
       "  'luggage',\n",
       "  'rack',\n",
       "  'shirt',\n",
       "  'badge',\n",
       "  'bid',\n",
       "  'conversation',\n",
       "  'handle',\n",
       "  'liaison',\n",
       "  'right',\n",
       "  'good',\n",
       "  'reason',\n",
       "  'bid',\n",
       "  'game',\n",
       "  'start',\n",
       "  'history',\n",
       "  'legacy',\n",
       "  'fail',\n",
       "  'bid',\n",
       "  'different',\n",
       "  'issue',\n",
       "  'participate',\n",
       "  'national',\n",
       "  'competition',\n",
       "  'win',\n",
       "  'brand',\n",
       "  'material',\n",
       "  'create',\n",
       "  'domestic',\n",
       "  'competition',\n",
       "  'process',\n",
       "  'tomorrow',\n",
       "  'fact',\n",
       "  'launch',\n",
       "  'logo',\n",
       "  'design',\n",
       "  'competition',\n",
       "  'large',\n",
       "  'cinema',\n",
       "  'leicest',\n",
       "  'square',\n",
       "  'design',\n",
       "  'come',\n",
       "  'competition',\n",
       "  'win',\n",
       "  'design',\n",
       "  'logo',\n",
       "  'choose',\n",
       "  'plan',\n",
       "  'brand',\n",
       "  'material',\n",
       "  'begin',\n",
       "  'discussion',\n",
       "  'retailer',\n",
       "  'organisation',\n",
       "  'discussion',\n",
       "  'bbc',\n",
       "  'high',\n",
       "  'level',\n",
       "  'help',\n",
       "  'stage',\n",
       "  'game',\n",
       "  'begin',\n",
       "  'discussion',\n",
       "  'question',\n",
       "  'legal',\n",
       "  'screen',\n",
       "  'understanding',\n",
       "  'example',\n",
       "  'push',\n",
       "  'little_bit',\n",
       "  'send',\n",
       "  'team',\n",
       "  'world',\n",
       "  'shirt',\n",
       "  'judge',\n",
       "  'risk',\n",
       "  'worth',\n",
       "  'difficult',\n",
       "  'understanding',\n",
       "  'precise',\n",
       "  'rule',\n",
       "  'write',\n",
       "  'ioc',\n",
       "  'stay',\n",
       "  'touch',\n",
       "  'promote',\n",
       "  'bid',\n",
       "  'harm',\n",
       "  'reputation',\n",
       "  'receive',\n",
       "  'sort',\n",
       "  'reprimand',\n",
       "  'respect',\n",
       "  'foreign',\n",
       "  'office',\n",
       "  'designate',\n",
       "  'ambassador',\n",
       "  'appoint',\n",
       "  'office',\n",
       "  'ambassador',\n",
       "  'sign',\n",
       "  'stakeholder',\n",
       "  'process',\n",
       "  'begin',\n",
       "  'discussion',\n",
       "  'wonderful',\n",
       "  'suggestion',\n",
       "  'plan',\n",
       "  'implement',\n",
       "  'meet',\n",
       "  'permanent_secretary',\n",
       "  'week',\n",
       "  'promote',\n",
       "  'meet',\n",
       "  'consul',\n",
       "  'general',\n",
       "  'ground',\n",
       "  'help',\n",
       "  'bid',\n",
       "  'replicate',\n",
       "  'city',\n",
       "  'bid',\n",
       "  'role',\n",
       "  'bring',\n",
       "  'information',\n",
       "  'receive',\n",
       "  'communication',\n",
       "  'ioc',\n",
       "  'ambassador',\n",
       "  'approach',\n",
       "  'member',\n",
       "  'begin',\n",
       "  'avenue',\n",
       "  'create',\n",
       "  'right',\n",
       "  'environment',\n",
       "  'receive',\n",
       "  'guidance',\n",
       "  'guidance',\n",
       "  'respond',\n",
       "  'terrific',\n",
       "  'group',\n",
       "  'world',\n",
       "  'push',\n",
       "  'come',\n",
       "  'shove',\n",
       "  'sense',\n",
       "  'disappointment',\n",
       "  'wonderful',\n",
       "  'event',\n",
       "  'look',\n",
       "  'place',\n",
       "  'rock',\n",
       "  'roll',\n",
       "  'moment',\n",
       "  'finish',\n",
       "  'stadium',\n",
       "  'issue',\n",
       "  'member',\n",
       "  'look',\n",
       "  'presentation',\n",
       "  'stadium',\n",
       "  'build',\n",
       "  'presentation',\n",
       "  'build',\n",
       "  'sensitive',\n",
       "  'issue',\n",
       "  'ious',\n",
       "  'build',\n",
       "  'count',\n",
       "  'interesting',\n",
       "  'raise',\n",
       "  'interesting',\n",
       "  'tell',\n",
       "  'game',\n",
       "  'come',\n",
       "  'fruition',\n",
       "  'speak',\n",
       "  'old',\n",
       "  'olympic',\n",
       "  'hand',\n",
       "  'tell',\n",
       "  'nine_month',\n",
       "  'shall',\n",
       "  'conversation',\n",
       "  'member',\n",
       "  'learn',\n",
       "  ...]]"
      ]
     },
     "execution_count": 117,
     "metadata": {},
     "output_type": "execute_result"
    }
   ],
   "source": [
    "# Form Trigrams\n",
    "data_words_trigrams = make_trigrams(data_words)\n",
    "\n",
    "# Initialize spacy 'en' model, keeping only tagger component (for efficiency)\n",
    "# python3 -m spacy download en\n",
    "nlp = spacy.load('en_core_web_sm', disable=['parser', 'ner'])\n",
    "\n",
    "#increase the maximum length of text that the parser or NER can process\n",
    "nlp.max_length = 13000000 #\n",
    "\n",
    "# Do lemmatization keeping only noun, adj, verb\n",
    "data_lemmatized1 = lemmatization(data_words_trigrams, allowed_postags=['NOUN', 'ADJ', 'VERB'])\n",
    "\n",
    "# Set a threshold for removing the words with length less than the threshold\n",
    "minimum_len = 3 \n",
    "data_lemmatized2 = []\n",
    "for i in data_lemmatized1:\n",
    "    new_element = [x for x in i if len(x) >= minimum_len]\n",
    "    data_lemmatized2.append(new_element)\n",
    "\n",
    "# remove stop words\n",
    "data_lemmatized = remove_stop_words(data_lemmatized2)\n",
    "data_lemmatized[:1]"
   ]
  },
  {
   "cell_type": "markdown",
   "metadata": {},
   "source": [
    "###  3.3. Dictionary and Corpus"
   ]
  },
  {
   "cell_type": "code",
   "execution_count": 118,
   "metadata": {},
   "outputs": [
    {
     "name": "stdout",
     "output_type": "stream",
     "text": [
      "After removal of high and low frequency words - Number of unique tokens: 3409, 340269\n"
     ]
    }
   ],
   "source": [
    "# Create Dictionary, set the parameters to filter out tokens in the dictionary by their frequency\n",
    "no_below = 5             # remove the tokens less frequent than no_below documents (absolute number)\n",
    "no_above = 0.85          # remove the tokens more frequent than no_above documents (fraction of the total corpus size)\n",
    "id2word = corpora.Dictionary(data_lemmatized)\n",
    "id2word.filter_extremes(no_below = no_below, no_above = no_above)\n",
    "\n",
    "# print the number of reserved unique tokens and word count afer removal of high and low frequency words\n",
    "print('After removal of high and low frequency words - Number of unique tokens: %d, %d' % (len(id2word),id2word.num_pos))"
   ]
  },
  {
   "cell_type": "code",
   "execution_count": 119,
   "metadata": {},
   "outputs": [
    {
     "name": "stdout",
     "output_type": "stream",
     "text": [
      "[[(0, 2), (1, 4), (2, 3), (3, 1), (4, 1), (5, 1), (6, 1), (7, 2), (8, 1), (9, 1), (10, 1), (11, 1), (12, 3), (13, 1), (14, 1), (15, 2), (16, 3), (17, 1), (18, 2), (19, 3), (20, 1), (21, 1), (22, 2), (23, 1), (24, 1), (25, 1), (26, 1), (27, 1), (28, 5), (29, 1), (30, 4), (31, 2), (32, 1), (33, 1), (34, 2), (35, 1), (36, 1), (37, 1), (38, 1), (39, 1), (40, 2), (41, 4), (42, 3), (43, 1), (44, 1), (45, 1), (46, 2), (47, 1), (48, 3), (49, 1), (50, 1), (51, 1), (52, 1), (53, 11), (54, 17), (55, 1), (56, 1), (57, 61), (58, 4), (59, 3), (60, 1), (61, 1), (62, 5), (63, 1), (64, 3), (65, 1), (66, 1), (67, 11), (68, 1), (69, 2), (70, 2), (71, 8), (72, 5), (73, 1), (74, 2), (75, 1), (76, 1), (77, 2), (78, 1), (79, 10), (80, 2), (81, 3), (82, 1), (83, 4), (84, 1), (85, 1), (86, 2), (87, 4), (88, 16), (89, 1), (90, 1), (91, 2), (92, 3), (93, 16), (94, 1), (95, 1), (96, 3), (97, 2), (98, 1), (99, 2), (100, 5), (101, 1), (102, 1), (103, 1), (104, 1), (105, 4), (106, 1), (107, 3), (108, 1), (109, 1), (110, 2), (111, 1), (112, 1), (113, 2), (114, 1), (115, 1), (116, 14), (117, 2), (118, 2), (119, 1), (120, 7), (121, 1), (122, 1), (123, 1), (124, 3), (125, 1), (126, 2), (127, 2), (128, 1), (129, 1), (130, 1), (131, 5), (132, 1), (133, 2), (134, 1), (135, 2), (136, 1), (137, 2), (138, 1), (139, 1), (140, 4), (141, 1), (142, 2), (143, 1), (144, 3), (145, 1), (146, 1), (147, 1), (148, 1), (149, 1), (150, 6), (151, 1), (152, 1), (153, 1), (154, 1), (155, 1), (156, 2), (157, 1), (158, 4), (159, 1), (160, 2), (161, 1), (162, 1), (163, 1), (164, 1), (165, 1), (166, 1), (167, 1), (168, 1), (169, 1), (170, 1), (171, 1), (172, 3), (173, 7), (174, 1), (175, 3), (176, 2), (177, 3), (178, 1), (179, 2), (180, 1), (181, 1), (182, 5), (183, 1), (184, 1), (185, 1), (186, 1), (187, 1), (188, 1), (189, 1), (190, 1), (191, 5), (192, 1), (193, 2), (194, 4), (195, 1), (196, 1), (197, 1), (198, 8), (199, 1), (200, 1), (201, 2), (202, 1), (203, 3), (204, 1), (205, 1), (206, 2), (207, 1), (208, 1), (209, 1), (210, 1), (211, 1), (212, 1), (213, 1), (214, 1), (215, 1), (216, 1), (217, 3), (218, 1), (219, 1), (220, 1), (221, 15), (222, 2), (223, 4), (224, 2), (225, 6), (226, 1), (227, 1), (228, 2), (229, 1), (230, 5), (231, 4), (232, 1), (233, 4), (234, 1), (235, 2), (236, 7), (237, 2), (238, 2), (239, 6), (240, 2), (241, 1), (242, 3), (243, 1), (244, 1), (245, 1), (246, 3), (247, 2), (248, 1), (249, 5), (250, 1), (251, 1), (252, 2), (253, 3), (254, 1), (255, 1), (256, 1), (257, 1), (258, 1), (259, 1), (260, 1), (261, 5), (262, 2), (263, 1), (264, 6), (265, 4), (266, 15), (267, 1), (268, 18), (269, 2), (270, 2), (271, 1), (272, 1), (273, 1), (274, 1), (275, 1), (276, 3), (277, 1), (278, 1), (279, 3), (280, 4), (281, 1), (282, 2), (283, 3), (284, 2), (285, 1), (286, 1), (287, 2), (288, 1), (289, 1), (290, 5), (291, 1), (292, 1), (293, 1), (294, 4), (295, 6), (296, 1), (297, 1), (298, 2), (299, 2), (300, 3), (301, 1), (302, 9), (303, 1), (304, 2), (305, 2), (306, 1), (307, 1), (308, 2), (309, 1), (310, 1), (311, 3), (312, 1), (313, 1), (314, 2), (315, 1), (316, 2), (317, 1), (318, 2), (319, 1), (320, 2), (321, 1), (322, 6), (323, 2), (324, 15), (325, 2), (326, 2), (327, 1), (328, 2), (329, 2), (330, 1), (331, 2), (332, 2), (333, 1), (334, 3), (335, 3), (336, 1), (337, 2), (338, 4), (339, 2), (340, 1), (341, 1), (342, 1), (343, 1), (344, 2), (345, 1), (346, 1), (347, 1), (348, 8), (349, 1), (350, 1), (351, 4), (352, 2), (353, 1), (354, 1), (355, 5), (356, 3), (357, 1), (358, 5), (359, 1), (360, 1), (361, 3), (362, 6), (363, 1), (364, 1), (365, 1), (366, 1), (367, 1), (368, 2), (369, 1), (370, 1), (371, 1), (372, 2), (373, 1), (374, 7), (375, 1), (376, 1), (377, 3), (378, 1), (379, 1), (380, 2), (381, 6), (382, 1), (383, 1), (384, 4), (385, 4), (386, 2), (387, 1), (388, 1), (389, 1), (390, 1), (391, 1), (392, 2), (393, 2), (394, 1), (395, 1), (396, 2), (397, 1), (398, 8), (399, 2), (400, 1), (401, 1), (402, 2), (403, 1), (404, 2), (405, 2), (406, 1), (407, 1), (408, 1), (409, 3), (410, 7), (411, 1), (412, 1), (413, 1), (414, 1), (415, 1), (416, 1), (417, 2), (418, 4), (419, 1), (420, 1), (421, 2), (422, 1), (423, 1), (424, 1), (425, 1), (426, 1), (427, 1), (428, 1), (429, 1), (430, 5), (431, 1), (432, 4), (433, 2), (434, 1), (435, 1), (436, 1), (437, 1), (438, 3), (439, 2), (440, 1), (441, 2), (442, 2), (443, 12), (444, 1), (445, 1), (446, 3), (447, 10), (448, 1), (449, 1), (450, 1), (451, 1), (452, 1), (453, 1), (454, 3), (455, 6), (456, 1), (457, 1), (458, 1), (459, 1), (460, 1), (461, 1), (462, 2), (463, 2), (464, 3), (465, 1), (466, 2), (467, 3), (468, 1), (469, 1), (470, 1), (471, 1), (472, 1), (473, 8), (474, 1), (475, 1), (476, 1), (477, 1), (478, 2), (479, 4), (480, 1), (481, 1), (482, 1), (483, 1), (484, 4), (485, 2), (486, 1), (487, 1), (488, 3), (489, 4), (490, 1), (491, 1), (492, 7), (493, 9), (494, 2), (495, 1), (496, 2), (497, 11), (498, 1), (499, 1), (500, 1), (501, 1), (502, 1), (503, 1), (504, 1), (505, 1), (506, 1), (507, 4), (508, 1), (509, 1), (510, 1), (511, 1), (512, 1), (513, 1), (514, 1), (515, 1), (516, 2), (517, 1), (518, 4), (519, 3), (520, 2), (521, 1), (522, 4), (523, 1), (524, 1), (525, 9), (526, 2), (527, 1), (528, 4), (529, 1), (530, 1), (531, 4), (532, 2), (533, 1), (534, 1), (535, 2), (536, 6), (537, 1), (538, 2), (539, 2), (540, 2), (541, 2), (542, 1), (543, 3), (544, 1), (545, 1), (546, 15), (547, 5), (548, 1), (549, 1), (550, 1), (551, 1), (552, 1), (553, 7), (554, 2), (555, 1), (556, 2), (557, 2), (558, 2), (559, 2), (560, 1), (561, 7), (562, 4), (563, 1), (564, 1), (565, 4), (566, 1), (567, 1), (568, 12), (569, 2), (570, 1), (571, 1), (572, 8), (573, 2), (574, 1), (575, 1), (576, 2), (577, 5), (578, 10), (579, 2), (580, 1), (581, 1), (582, 1), (583, 2)]]\n"
     ]
    }
   ],
   "source": [
    "# Create Corpus\n",
    "texts = data_lemmatized\n",
    "\n",
    "# Term Document Frequency\n",
    "corpus = [id2word.doc2bow(text) for text in texts]\n",
    "\n",
    "# View\n",
    "print(corpus[:1])"
   ]
  },
  {
   "cell_type": "markdown",
   "metadata": {},
   "source": [
    "#  4. LDA Model"
   ]
  },
  {
   "cell_type": "markdown",
   "metadata": {},
   "source": [
    "### 4.1. Building LDA Model, Perparameter/Hyperparameter tuning"
   ]
  },
  {
   "cell_type": "code",
   "execution_count": 120,
   "metadata": {},
   "outputs": [],
   "source": [
    "# set training parameters and hyperameters\n",
    "k = 20\n",
    "passes = 20\n",
    "iterations = 100\n",
    "alpha = 50.0/k   \n",
    "eta = 0.01\n",
    "random_state = 12345\n",
    "minimum_probability = 0"
   ]
  },
  {
   "cell_type": "markdown",
   "metadata": {},
   "source": [
    "Plotting the coherence score against k to identify the opitmal k where the coherence socre reaches the highest point. Because running it is quite time-consuming, I stopped the chunk below and just set k to be 12 based on the analysis of the reuslt. If users want to fit the model to the other corpus, they can remove the hashs to  reactivate the chunk."
   ]
  },
  {
   "cell_type": "code",
   "execution_count": 121,
   "metadata": {},
   "outputs": [],
   "source": [
    "#start=3; limit=63; step=3\n",
    "#coherence_values = []\n",
    "#model_list = []\n",
    "#for i in range(start,limit,step):\n",
    "    #model = gensim.models.LdaModel(corpus = corpus,id2word = id2word,alpha = alpha,eta = eta,\n",
    "    #                              iterations = iterations,num_topics = i,passes = passes,random_state = 12345,minimum_probability = minimum_probability)\n",
    "    #model_list.append(model)\n",
    "    #coherencemodel = CoherenceModel(model=model, texts=texts, dictionary=id2word, coherence='c_v')\n",
    "    #coherence_values.append(coherencemodel.get_coherence())"
   ]
  },
  {
   "cell_type": "code",
   "execution_count": 122,
   "metadata": {},
   "outputs": [],
   "source": [
    "#list_num_topics = [i for i in range(start, limit, step)]\n",
    "#df_coherence1 = pd.DataFrame({'Number_of_Topics': list_num_topics, 'Coherence_Score': coherence_values})\n",
    "#df_coherence1.to_pickle('./df_coherence1.pkl') #save the result to disk\n",
    "#df_coherence = pd.read_pickle('./df_coherence1.pkl') #load the result from disk"
   ]
  },
  {
   "cell_type": "code",
   "execution_count": 123,
   "metadata": {},
   "outputs": [],
   "source": [
    "#fig1 = px.line(df_coherence, x = 'Number_of_Topics', y = \"Coherence_Score\", title = 'Coherence scores against number of topics')\n",
    "#fig1.update_layout(autosize=False, width=1000, height=400)\n",
    "#fig1.update_traces(mode = \"lines + markers\")\n",
    "#fig1.show()"
   ]
  },
  {
   "cell_type": "code",
   "execution_count": 124,
   "metadata": {},
   "outputs": [],
   "source": [
    "# num of topics =  to get the highest coherence socre\n",
    "k = 12\n",
    "lda_model = gensim.models.LdaModel(\n",
    "    corpus = corpus,\n",
    "    id2word = id2word,\n",
    "    alpha = alpha,\n",
    "    eta = eta,\n",
    "    iterations = iterations,\n",
    "    num_topics = k,\n",
    "    passes = passes,\n",
    "    random_state = 12345,\n",
    "    minimum_probability = minimum_probability)"
   ]
  },
  {
   "cell_type": "code",
   "execution_count": 125,
   "metadata": {},
   "outputs": [
    {
     "data": {
      "text/plain": [
       "0.4208466929396401"
      ]
     },
     "execution_count": 125,
     "metadata": {},
     "output_type": "execute_result"
    }
   ],
   "source": [
    "# print the coherence of the LDA model\n",
    "coherencemodel2 = CoherenceModel(model=lda_model, texts=texts, dictionary=id2word, coherence='c_v')\n",
    "coherence_score = coherencemodel2.get_coherence()\n",
    "coherence_score"
   ]
  },
  {
   "cell_type": "markdown",
   "metadata": {},
   "source": [
    "### 4.2. Topic distribution of documents"
   ]
  },
  {
   "cell_type": "code",
   "execution_count": 126,
   "metadata": {},
   "outputs": [],
   "source": [
    "# create the function for converting a list of tuples into a dictionary\n",
    "def Convert(tup, di):\n",
    "    di = dict(tup)\n",
    "    return di"
   ]
  },
  {
   "cell_type": "code",
   "execution_count": 127,
   "metadata": {},
   "outputs": [
    {
     "data": {
      "text/html": [
       "<div>\n",
       "<style scoped>\n",
       "    .dataframe tbody tr th:only-of-type {\n",
       "        vertical-align: middle;\n",
       "    }\n",
       "\n",
       "    .dataframe tbody tr th {\n",
       "        vertical-align: top;\n",
       "    }\n",
       "\n",
       "    .dataframe thead th {\n",
       "        text-align: right;\n",
       "    }\n",
       "</style>\n",
       "<table border=\"1\" class=\"dataframe\">\n",
       "  <thead>\n",
       "    <tr style=\"text-align: right;\">\n",
       "      <th></th>\n",
       "      <th>author</th>\n",
       "      <th>creationDate</th>\n",
       "      <th>file_name</th>\n",
       "      <th>Content</th>\n",
       "      <th>document_id</th>\n",
       "      <th>Word_count</th>\n",
       "      <th>1</th>\n",
       "      <th>2</th>\n",
       "      <th>3</th>\n",
       "      <th>4</th>\n",
       "      <th>5</th>\n",
       "      <th>6</th>\n",
       "      <th>7</th>\n",
       "      <th>8</th>\n",
       "      <th>9</th>\n",
       "      <th>10</th>\n",
       "      <th>11</th>\n",
       "      <th>12</th>\n",
       "    </tr>\n",
       "  </thead>\n",
       "  <tbody>\n",
       "    <tr>\n",
       "      <th>0</th>\n",
       "      <td>B Lewis</td>\n",
       "      <td>D:20210822083603+00'00'</td>\n",
       "      <td>Examination_of_Witnesses_Sept_2003_-_Q1-19.pdf</td>\n",
       "      <td>Examination of Witnesses (1-19) \\n16 SEPTEMBER...</td>\n",
       "      <td>0</td>\n",
       "      <td>6115</td>\n",
       "      <td>0.010725</td>\n",
       "      <td>0.012664</td>\n",
       "      <td>0.008528</td>\n",
       "      <td>0.007332</td>\n",
       "      <td>0.180764</td>\n",
       "      <td>0.725537</td>\n",
       "      <td>0.008626</td>\n",
       "      <td>0.007885</td>\n",
       "      <td>0.006884</td>\n",
       "      <td>0.006341</td>\n",
       "      <td>0.009331</td>\n",
       "      <td>0.015384</td>\n",
       "    </tr>\n",
       "    <tr>\n",
       "      <th>1</th>\n",
       "      <td>B Lewis</td>\n",
       "      <td>D:20210822083606+00'00'</td>\n",
       "      <td>Examination_of_Witnesses_Sept_2003_-_Q20-39.pdf</td>\n",
       "      <td>Examination of Witnesses (20-39) \\n16 SEPTEMBE...</td>\n",
       "      <td>1</td>\n",
       "      <td>4002</td>\n",
       "      <td>0.032201</td>\n",
       "      <td>0.017489</td>\n",
       "      <td>0.006726</td>\n",
       "      <td>0.011709</td>\n",
       "      <td>0.320539</td>\n",
       "      <td>0.453667</td>\n",
       "      <td>0.010538</td>\n",
       "      <td>0.007622</td>\n",
       "      <td>0.008823</td>\n",
       "      <td>0.010536</td>\n",
       "      <td>0.067056</td>\n",
       "      <td>0.053094</td>\n",
       "    </tr>\n",
       "    <tr>\n",
       "      <th>2</th>\n",
       "      <td>B Lewis</td>\n",
       "      <td>D:20210822083609+00'00'</td>\n",
       "      <td>Examination_of_Witnesses_Sept_2003_-_Q40-44.pdf</td>\n",
       "      <td>Examination of Witnesses (40-44) \\n16 SEPTEMBE...</td>\n",
       "      <td>2</td>\n",
       "      <td>1007</td>\n",
       "      <td>0.027157</td>\n",
       "      <td>0.031576</td>\n",
       "      <td>0.018927</td>\n",
       "      <td>0.022364</td>\n",
       "      <td>0.248048</td>\n",
       "      <td>0.428007</td>\n",
       "      <td>0.032854</td>\n",
       "      <td>0.022809</td>\n",
       "      <td>0.026884</td>\n",
       "      <td>0.026380</td>\n",
       "      <td>0.086787</td>\n",
       "      <td>0.028207</td>\n",
       "    </tr>\n",
       "    <tr>\n",
       "      <th>3</th>\n",
       "      <td>Bronwen Lewis</td>\n",
       "      <td>D:20210822084116+00'00'</td>\n",
       "      <td>Further_supplementary_memorandum_submitted_by_...</td>\n",
       "      <td>Further supplementary memorandum submitted by ...</td>\n",
       "      <td>3</td>\n",
       "      <td>431</td>\n",
       "      <td>0.028281</td>\n",
       "      <td>0.020322</td>\n",
       "      <td>0.504126</td>\n",
       "      <td>0.034461</td>\n",
       "      <td>0.026796</td>\n",
       "      <td>0.026107</td>\n",
       "      <td>0.026675</td>\n",
       "      <td>0.106673</td>\n",
       "      <td>0.039447</td>\n",
       "      <td>0.125504</td>\n",
       "      <td>0.029139</td>\n",
       "      <td>0.032469</td>\n",
       "    </tr>\n",
       "    <tr>\n",
       "      <th>4</th>\n",
       "      <td>Bronwen Lewis</td>\n",
       "      <td>D:20210822083921+00'00'</td>\n",
       "      <td>Further_Supplementary_Memorandum_submitted_by_...</td>\n",
       "      <td>Further supplementary memorandum submitted by ...</td>\n",
       "      <td>4</td>\n",
       "      <td>288</td>\n",
       "      <td>0.119681</td>\n",
       "      <td>0.064246</td>\n",
       "      <td>0.058652</td>\n",
       "      <td>0.042788</td>\n",
       "      <td>0.099493</td>\n",
       "      <td>0.065156</td>\n",
       "      <td>0.056939</td>\n",
       "      <td>0.065553</td>\n",
       "      <td>0.087256</td>\n",
       "      <td>0.160921</td>\n",
       "      <td>0.131773</td>\n",
       "      <td>0.047540</td>\n",
       "    </tr>\n",
       "    <tr>\n",
       "      <th>...</th>\n",
       "      <td>...</td>\n",
       "      <td>...</td>\n",
       "      <td>...</td>\n",
       "      <td>...</td>\n",
       "      <td>...</td>\n",
       "      <td>...</td>\n",
       "      <td>...</td>\n",
       "      <td>...</td>\n",
       "      <td>...</td>\n",
       "      <td>...</td>\n",
       "      <td>...</td>\n",
       "      <td>...</td>\n",
       "      <td>...</td>\n",
       "      <td>...</td>\n",
       "      <td>...</td>\n",
       "      <td>...</td>\n",
       "      <td>...</td>\n",
       "      <td>...</td>\n",
       "    </tr>\n",
       "    <tr>\n",
       "      <th>164</th>\n",
       "      <td>Bronwen Lewis</td>\n",
       "      <td>D:20210822084528+00'00'</td>\n",
       "      <td>Written_evidence_submitted_by_UK_Sport_-_Jan_2...</td>\n",
       "      <td>Written evidence submitted by UK Sport  \\n \\n ...</td>\n",
       "      <td>164</td>\n",
       "      <td>3089</td>\n",
       "      <td>0.072124</td>\n",
       "      <td>0.253418</td>\n",
       "      <td>0.008633</td>\n",
       "      <td>0.483050</td>\n",
       "      <td>0.012194</td>\n",
       "      <td>0.016957</td>\n",
       "      <td>0.027191</td>\n",
       "      <td>0.006808</td>\n",
       "      <td>0.014276</td>\n",
       "      <td>0.010390</td>\n",
       "      <td>0.058512</td>\n",
       "      <td>0.036446</td>\n",
       "    </tr>\n",
       "    <tr>\n",
       "      <th>165</th>\n",
       "      <td>Bronwen Lewis</td>\n",
       "      <td>D:20210822084531+00'00'</td>\n",
       "      <td>Written_evidence_submitted_by_Vision_2020_UK_-...</td>\n",
       "      <td>Written evidence submitted by Vision 2020 UK  ...</td>\n",
       "      <td>165</td>\n",
       "      <td>2284</td>\n",
       "      <td>0.843995</td>\n",
       "      <td>0.018983</td>\n",
       "      <td>0.008188</td>\n",
       "      <td>0.013050</td>\n",
       "      <td>0.010891</td>\n",
       "      <td>0.017523</td>\n",
       "      <td>0.009616</td>\n",
       "      <td>0.018343</td>\n",
       "      <td>0.008116</td>\n",
       "      <td>0.007716</td>\n",
       "      <td>0.021596</td>\n",
       "      <td>0.021984</td>\n",
       "    </tr>\n",
       "    <tr>\n",
       "      <th>166</th>\n",
       "      <td>Bronwen Lewis</td>\n",
       "      <td>D:20210822084535+00'00'</td>\n",
       "      <td>Written_evidence_submitted_by_VisitBritain_-_J...</td>\n",
       "      <td>Written evidence submitted by VisitBritain  \\n...</td>\n",
       "      <td>166</td>\n",
       "      <td>2372</td>\n",
       "      <td>0.005055</td>\n",
       "      <td>0.893003</td>\n",
       "      <td>0.011858</td>\n",
       "      <td>0.008562</td>\n",
       "      <td>0.012724</td>\n",
       "      <td>0.006802</td>\n",
       "      <td>0.007480</td>\n",
       "      <td>0.009944</td>\n",
       "      <td>0.016306</td>\n",
       "      <td>0.008309</td>\n",
       "      <td>0.006184</td>\n",
       "      <td>0.013773</td>\n",
       "    </tr>\n",
       "    <tr>\n",
       "      <th>167</th>\n",
       "      <td>Bronwen Lewis</td>\n",
       "      <td>D:20210822084543+00'00'</td>\n",
       "      <td>Written_evidence_submitted_by_Womens_Sport_and...</td>\n",
       "      <td>Written evidence submitted by the Women's Spor...</td>\n",
       "      <td>167</td>\n",
       "      <td>1966</td>\n",
       "      <td>0.021705</td>\n",
       "      <td>0.833179</td>\n",
       "      <td>0.016557</td>\n",
       "      <td>0.017655</td>\n",
       "      <td>0.013123</td>\n",
       "      <td>0.012271</td>\n",
       "      <td>0.012026</td>\n",
       "      <td>0.012222</td>\n",
       "      <td>0.008117</td>\n",
       "      <td>0.013012</td>\n",
       "      <td>0.020493</td>\n",
       "      <td>0.019641</td>\n",
       "    </tr>\n",
       "    <tr>\n",
       "      <th>168</th>\n",
       "      <td>Bronwen Lewis</td>\n",
       "      <td>D:20210822084546+00'00'</td>\n",
       "      <td>Written_evidence_submitted_by_Youth_Sport_Trus...</td>\n",
       "      <td>Written evidence submitted by Youth Sport Trus...</td>\n",
       "      <td>168</td>\n",
       "      <td>2682</td>\n",
       "      <td>0.180420</td>\n",
       "      <td>0.617661</td>\n",
       "      <td>0.007919</td>\n",
       "      <td>0.051930</td>\n",
       "      <td>0.008311</td>\n",
       "      <td>0.009263</td>\n",
       "      <td>0.009341</td>\n",
       "      <td>0.007197</td>\n",
       "      <td>0.009480</td>\n",
       "      <td>0.015083</td>\n",
       "      <td>0.011467</td>\n",
       "      <td>0.071928</td>\n",
       "    </tr>\n",
       "  </tbody>\n",
       "</table>\n",
       "<p>169 rows × 18 columns</p>\n",
       "</div>"
      ],
      "text/plain": [
       "            author             creationDate  \\\n",
       "0          B Lewis  D:20210822083603+00'00'   \n",
       "1          B Lewis  D:20210822083606+00'00'   \n",
       "2          B Lewis  D:20210822083609+00'00'   \n",
       "3    Bronwen Lewis  D:20210822084116+00'00'   \n",
       "4    Bronwen Lewis  D:20210822083921+00'00'   \n",
       "..             ...                      ...   \n",
       "164  Bronwen Lewis  D:20210822084528+00'00'   \n",
       "165  Bronwen Lewis  D:20210822084531+00'00'   \n",
       "166  Bronwen Lewis  D:20210822084535+00'00'   \n",
       "167  Bronwen Lewis  D:20210822084543+00'00'   \n",
       "168  Bronwen Lewis  D:20210822084546+00'00'   \n",
       "\n",
       "                                             file_name  \\\n",
       "0       Examination_of_Witnesses_Sept_2003_-_Q1-19.pdf   \n",
       "1      Examination_of_Witnesses_Sept_2003_-_Q20-39.pdf   \n",
       "2      Examination_of_Witnesses_Sept_2003_-_Q40-44.pdf   \n",
       "3    Further_supplementary_memorandum_submitted_by_...   \n",
       "4    Further_Supplementary_Memorandum_submitted_by_...   \n",
       "..                                                 ...   \n",
       "164  Written_evidence_submitted_by_UK_Sport_-_Jan_2...   \n",
       "165  Written_evidence_submitted_by_Vision_2020_UK_-...   \n",
       "166  Written_evidence_submitted_by_VisitBritain_-_J...   \n",
       "167  Written_evidence_submitted_by_Womens_Sport_and...   \n",
       "168  Written_evidence_submitted_by_Youth_Sport_Trus...   \n",
       "\n",
       "                                               Content  document_id  \\\n",
       "0    Examination of Witnesses (1-19) \\n16 SEPTEMBER...            0   \n",
       "1    Examination of Witnesses (20-39) \\n16 SEPTEMBE...            1   \n",
       "2    Examination of Witnesses (40-44) \\n16 SEPTEMBE...            2   \n",
       "3    Further supplementary memorandum submitted by ...            3   \n",
       "4    Further supplementary memorandum submitted by ...            4   \n",
       "..                                                 ...          ...   \n",
       "164  Written evidence submitted by UK Sport  \\n \\n ...          164   \n",
       "165  Written evidence submitted by Vision 2020 UK  ...          165   \n",
       "166  Written evidence submitted by VisitBritain  \\n...          166   \n",
       "167  Written evidence submitted by the Women's Spor...          167   \n",
       "168  Written evidence submitted by Youth Sport Trus...          168   \n",
       "\n",
       "     Word_count         1         2         3         4         5         6  \\\n",
       "0          6115  0.010725  0.012664  0.008528  0.007332  0.180764  0.725537   \n",
       "1          4002  0.032201  0.017489  0.006726  0.011709  0.320539  0.453667   \n",
       "2          1007  0.027157  0.031576  0.018927  0.022364  0.248048  0.428007   \n",
       "3           431  0.028281  0.020322  0.504126  0.034461  0.026796  0.026107   \n",
       "4           288  0.119681  0.064246  0.058652  0.042788  0.099493  0.065156   \n",
       "..          ...       ...       ...       ...       ...       ...       ...   \n",
       "164        3089  0.072124  0.253418  0.008633  0.483050  0.012194  0.016957   \n",
       "165        2284  0.843995  0.018983  0.008188  0.013050  0.010891  0.017523   \n",
       "166        2372  0.005055  0.893003  0.011858  0.008562  0.012724  0.006802   \n",
       "167        1966  0.021705  0.833179  0.016557  0.017655  0.013123  0.012271   \n",
       "168        2682  0.180420  0.617661  0.007919  0.051930  0.008311  0.009263   \n",
       "\n",
       "            7         8         9        10        11        12  \n",
       "0    0.008626  0.007885  0.006884  0.006341  0.009331  0.015384  \n",
       "1    0.010538  0.007622  0.008823  0.010536  0.067056  0.053094  \n",
       "2    0.032854  0.022809  0.026884  0.026380  0.086787  0.028207  \n",
       "3    0.026675  0.106673  0.039447  0.125504  0.029139  0.032469  \n",
       "4    0.056939  0.065553  0.087256  0.160921  0.131773  0.047540  \n",
       "..        ...       ...       ...       ...       ...       ...  \n",
       "164  0.027191  0.006808  0.014276  0.010390  0.058512  0.036446  \n",
       "165  0.009616  0.018343  0.008116  0.007716  0.021596  0.021984  \n",
       "166  0.007480  0.009944  0.016306  0.008309  0.006184  0.013773  \n",
       "167  0.012026  0.012222  0.008117  0.013012  0.020493  0.019641  \n",
       "168  0.009341  0.007197  0.009480  0.015083  0.011467  0.071928  \n",
       "\n",
       "[169 rows x 18 columns]"
      ]
     },
     "execution_count": 127,
     "metadata": {},
     "output_type": "execute_result"
    }
   ],
   "source": [
    "# topic distribution of documents\n",
    "list_topic = []\n",
    "dictionary_topic = {}\n",
    "for d in texts:\n",
    "    bow = id2word.doc2bow(d)\n",
    "    belong = lda_model[bow]                        # generate a list of tuples of topic distribution of a document\n",
    "    belong_dic = Convert(belong, dictionary_topic) # convert the list of tuples into a dictionary\n",
    "    list_topic.append(belong_dic)           \n",
    "                      \n",
    "df_topic_distribution = pd.DataFrame(list_topic)   # convert the list of dictionaries into a dataframe\n",
    "\n",
    "# rename the topic IDs to ensure they are as same as the topic IDs in the pyLDAvis\n",
    "original_topic_id = [*df_topic_distribution]; new_topic_id = [x + 1 for x in original_topic_id]\n",
    "df_topic_distribution = df_topic_distribution.rename(columns = dict(zip(original_topic_id, new_topic_id))) #rename the topic IDs to ensure they are as same as the topic IDs in the pyLDAvis\n",
    "df_topic = pd.merge(df, df_topic_distribution, how = 'left', left_index=True, right_index=True) # merge with info of documents\n",
    "df_topic.drop(['title','format','creator', 'producer', 'keywords', 'trapped', 'encryption','subject', 'modDate'], axis = 1)"
   ]
  },
  {
   "cell_type": "markdown",
   "metadata": {},
   "source": [
    "# 5. Topic interpretation tools"
   ]
  },
  {
   "cell_type": "markdown",
   "metadata": {},
   "source": [
    "I first identify the salient topics defined by PTBI proposed by Marchetti and Puranam (2020), then combine both the topic visualisation of pyLDAvis and the prototypical texts defined by PTBI to facilitate the topic interpretation."
   ]
  },
  {
   "cell_type": "markdown",
   "metadata": {},
   "source": [
    "##  5.1. Salient topics for interpretation\n",
    "PTBI assumes that the topics with little salience are not worthy of interpretation. To extract the most salient topics for interpretation, for each topic, we need to compute the fraction of documents with the probability that the documents belong to the topic is more than > 1/K (Marchetti and Puranam, 2020, p. 14), and I defined the fraction as the “salience” of the topic. "
   ]
  },
  {
   "cell_type": "markdown",
   "metadata": {},
   "source": [
    "The scree plot below shows that when the topics are sorted by salience in descending order, the salience tends to level off on topic 8, as a result, we can select the topics ahead of topic 8 as the salient topics for interpretation."
   ]
  },
  {
   "cell_type": "code",
   "execution_count": 128,
   "metadata": {},
   "outputs": [],
   "source": [
    "# compute salience: the fraction of documents with the probability that the document belongs to the topic is more than > 1/K for each document\n",
    "list_percent_above = []\n",
    "for i in df_topic_distribution:\n",
    "    num_above = df_topic_distribution[i][df_topic_distribution[i] > 1/k].count()\n",
    "    percent_above =  num_above/len(df_topic_distribution)\n",
    "    list_percent_above.append(percent_above)\n",
    "    \n",
    "df_salient_topic = pd.DataFrame({'topic_ID':  [str(i) for i in new_topic_id], 'salience': list_percent_above}).sort_values(\n",
    "    by = 'salience', ascending = False)"
   ]
  },
  {
   "cell_type": "code",
   "execution_count": 129,
   "metadata": {},
   "outputs": [
    {
     "data": {
      "application/vnd.plotly.v1+json": {
       "config": {
        "plotlyServerURL": "https://plotly.com"
       },
       "data": [
        {
         "hovertemplate": "topic_ID=%{x}<br>salience=%{y}<extra></extra>",
         "legendgroup": "",
         "line": {
          "color": "#636efa",
          "dash": "solid"
         },
         "mode": "lines+markers",
         "name": "",
         "orientation": "v",
         "showlegend": false,
         "type": "scatter",
         "x": [
          "12",
          "5",
          "6",
          "2",
          "9",
          "7",
          "1",
          "3",
          "10",
          "11",
          "8",
          "4"
         ],
         "xaxis": "x",
         "y": [
          0.40236686390532544,
          0.30177514792899407,
          0.28402366863905326,
          0.2781065088757396,
          0.26627218934911245,
          0.20710059171597633,
          0.20118343195266272,
          0.20118343195266272,
          0.15976331360946747,
          0.15384615384615385,
          0.10059171597633136,
          0.09467455621301775
         ],
         "yaxis": "y"
        }
       ],
       "layout": {
        "autosize": false,
        "height": 400,
        "legend": {
         "tracegroupgap": 0
        },
        "template": {
         "data": {
          "bar": [
           {
            "error_x": {
             "color": "#2a3f5f"
            },
            "error_y": {
             "color": "#2a3f5f"
            },
            "marker": {
             "line": {
              "color": "#E5ECF6",
              "width": 0.5
             }
            },
            "type": "bar"
           }
          ],
          "barpolar": [
           {
            "marker": {
             "line": {
              "color": "#E5ECF6",
              "width": 0.5
             }
            },
            "type": "barpolar"
           }
          ],
          "carpet": [
           {
            "aaxis": {
             "endlinecolor": "#2a3f5f",
             "gridcolor": "white",
             "linecolor": "white",
             "minorgridcolor": "white",
             "startlinecolor": "#2a3f5f"
            },
            "baxis": {
             "endlinecolor": "#2a3f5f",
             "gridcolor": "white",
             "linecolor": "white",
             "minorgridcolor": "white",
             "startlinecolor": "#2a3f5f"
            },
            "type": "carpet"
           }
          ],
          "choropleth": [
           {
            "colorbar": {
             "outlinewidth": 0,
             "ticks": ""
            },
            "type": "choropleth"
           }
          ],
          "contour": [
           {
            "colorbar": {
             "outlinewidth": 0,
             "ticks": ""
            },
            "colorscale": [
             [
              0,
              "#0d0887"
             ],
             [
              0.1111111111111111,
              "#46039f"
             ],
             [
              0.2222222222222222,
              "#7201a8"
             ],
             [
              0.3333333333333333,
              "#9c179e"
             ],
             [
              0.4444444444444444,
              "#bd3786"
             ],
             [
              0.5555555555555556,
              "#d8576b"
             ],
             [
              0.6666666666666666,
              "#ed7953"
             ],
             [
              0.7777777777777778,
              "#fb9f3a"
             ],
             [
              0.8888888888888888,
              "#fdca26"
             ],
             [
              1,
              "#f0f921"
             ]
            ],
            "type": "contour"
           }
          ],
          "contourcarpet": [
           {
            "colorbar": {
             "outlinewidth": 0,
             "ticks": ""
            },
            "type": "contourcarpet"
           }
          ],
          "heatmap": [
           {
            "colorbar": {
             "outlinewidth": 0,
             "ticks": ""
            },
            "colorscale": [
             [
              0,
              "#0d0887"
             ],
             [
              0.1111111111111111,
              "#46039f"
             ],
             [
              0.2222222222222222,
              "#7201a8"
             ],
             [
              0.3333333333333333,
              "#9c179e"
             ],
             [
              0.4444444444444444,
              "#bd3786"
             ],
             [
              0.5555555555555556,
              "#d8576b"
             ],
             [
              0.6666666666666666,
              "#ed7953"
             ],
             [
              0.7777777777777778,
              "#fb9f3a"
             ],
             [
              0.8888888888888888,
              "#fdca26"
             ],
             [
              1,
              "#f0f921"
             ]
            ],
            "type": "heatmap"
           }
          ],
          "heatmapgl": [
           {
            "colorbar": {
             "outlinewidth": 0,
             "ticks": ""
            },
            "colorscale": [
             [
              0,
              "#0d0887"
             ],
             [
              0.1111111111111111,
              "#46039f"
             ],
             [
              0.2222222222222222,
              "#7201a8"
             ],
             [
              0.3333333333333333,
              "#9c179e"
             ],
             [
              0.4444444444444444,
              "#bd3786"
             ],
             [
              0.5555555555555556,
              "#d8576b"
             ],
             [
              0.6666666666666666,
              "#ed7953"
             ],
             [
              0.7777777777777778,
              "#fb9f3a"
             ],
             [
              0.8888888888888888,
              "#fdca26"
             ],
             [
              1,
              "#f0f921"
             ]
            ],
            "type": "heatmapgl"
           }
          ],
          "histogram": [
           {
            "marker": {
             "colorbar": {
              "outlinewidth": 0,
              "ticks": ""
             }
            },
            "type": "histogram"
           }
          ],
          "histogram2d": [
           {
            "colorbar": {
             "outlinewidth": 0,
             "ticks": ""
            },
            "colorscale": [
             [
              0,
              "#0d0887"
             ],
             [
              0.1111111111111111,
              "#46039f"
             ],
             [
              0.2222222222222222,
              "#7201a8"
             ],
             [
              0.3333333333333333,
              "#9c179e"
             ],
             [
              0.4444444444444444,
              "#bd3786"
             ],
             [
              0.5555555555555556,
              "#d8576b"
             ],
             [
              0.6666666666666666,
              "#ed7953"
             ],
             [
              0.7777777777777778,
              "#fb9f3a"
             ],
             [
              0.8888888888888888,
              "#fdca26"
             ],
             [
              1,
              "#f0f921"
             ]
            ],
            "type": "histogram2d"
           }
          ],
          "histogram2dcontour": [
           {
            "colorbar": {
             "outlinewidth": 0,
             "ticks": ""
            },
            "colorscale": [
             [
              0,
              "#0d0887"
             ],
             [
              0.1111111111111111,
              "#46039f"
             ],
             [
              0.2222222222222222,
              "#7201a8"
             ],
             [
              0.3333333333333333,
              "#9c179e"
             ],
             [
              0.4444444444444444,
              "#bd3786"
             ],
             [
              0.5555555555555556,
              "#d8576b"
             ],
             [
              0.6666666666666666,
              "#ed7953"
             ],
             [
              0.7777777777777778,
              "#fb9f3a"
             ],
             [
              0.8888888888888888,
              "#fdca26"
             ],
             [
              1,
              "#f0f921"
             ]
            ],
            "type": "histogram2dcontour"
           }
          ],
          "mesh3d": [
           {
            "colorbar": {
             "outlinewidth": 0,
             "ticks": ""
            },
            "type": "mesh3d"
           }
          ],
          "parcoords": [
           {
            "line": {
             "colorbar": {
              "outlinewidth": 0,
              "ticks": ""
             }
            },
            "type": "parcoords"
           }
          ],
          "pie": [
           {
            "automargin": true,
            "type": "pie"
           }
          ],
          "scatter": [
           {
            "marker": {
             "colorbar": {
              "outlinewidth": 0,
              "ticks": ""
             }
            },
            "type": "scatter"
           }
          ],
          "scatter3d": [
           {
            "line": {
             "colorbar": {
              "outlinewidth": 0,
              "ticks": ""
             }
            },
            "marker": {
             "colorbar": {
              "outlinewidth": 0,
              "ticks": ""
             }
            },
            "type": "scatter3d"
           }
          ],
          "scattercarpet": [
           {
            "marker": {
             "colorbar": {
              "outlinewidth": 0,
              "ticks": ""
             }
            },
            "type": "scattercarpet"
           }
          ],
          "scattergeo": [
           {
            "marker": {
             "colorbar": {
              "outlinewidth": 0,
              "ticks": ""
             }
            },
            "type": "scattergeo"
           }
          ],
          "scattergl": [
           {
            "marker": {
             "colorbar": {
              "outlinewidth": 0,
              "ticks": ""
             }
            },
            "type": "scattergl"
           }
          ],
          "scattermapbox": [
           {
            "marker": {
             "colorbar": {
              "outlinewidth": 0,
              "ticks": ""
             }
            },
            "type": "scattermapbox"
           }
          ],
          "scatterpolar": [
           {
            "marker": {
             "colorbar": {
              "outlinewidth": 0,
              "ticks": ""
             }
            },
            "type": "scatterpolar"
           }
          ],
          "scatterpolargl": [
           {
            "marker": {
             "colorbar": {
              "outlinewidth": 0,
              "ticks": ""
             }
            },
            "type": "scatterpolargl"
           }
          ],
          "scatterternary": [
           {
            "marker": {
             "colorbar": {
              "outlinewidth": 0,
              "ticks": ""
             }
            },
            "type": "scatterternary"
           }
          ],
          "surface": [
           {
            "colorbar": {
             "outlinewidth": 0,
             "ticks": ""
            },
            "colorscale": [
             [
              0,
              "#0d0887"
             ],
             [
              0.1111111111111111,
              "#46039f"
             ],
             [
              0.2222222222222222,
              "#7201a8"
             ],
             [
              0.3333333333333333,
              "#9c179e"
             ],
             [
              0.4444444444444444,
              "#bd3786"
             ],
             [
              0.5555555555555556,
              "#d8576b"
             ],
             [
              0.6666666666666666,
              "#ed7953"
             ],
             [
              0.7777777777777778,
              "#fb9f3a"
             ],
             [
              0.8888888888888888,
              "#fdca26"
             ],
             [
              1,
              "#f0f921"
             ]
            ],
            "type": "surface"
           }
          ],
          "table": [
           {
            "cells": {
             "fill": {
              "color": "#EBF0F8"
             },
             "line": {
              "color": "white"
             }
            },
            "header": {
             "fill": {
              "color": "#C8D4E3"
             },
             "line": {
              "color": "white"
             }
            },
            "type": "table"
           }
          ]
         },
         "layout": {
          "annotationdefaults": {
           "arrowcolor": "#2a3f5f",
           "arrowhead": 0,
           "arrowwidth": 1
          },
          "autotypenumbers": "strict",
          "coloraxis": {
           "colorbar": {
            "outlinewidth": 0,
            "ticks": ""
           }
          },
          "colorscale": {
           "diverging": [
            [
             0,
             "#8e0152"
            ],
            [
             0.1,
             "#c51b7d"
            ],
            [
             0.2,
             "#de77ae"
            ],
            [
             0.3,
             "#f1b6da"
            ],
            [
             0.4,
             "#fde0ef"
            ],
            [
             0.5,
             "#f7f7f7"
            ],
            [
             0.6,
             "#e6f5d0"
            ],
            [
             0.7,
             "#b8e186"
            ],
            [
             0.8,
             "#7fbc41"
            ],
            [
             0.9,
             "#4d9221"
            ],
            [
             1,
             "#276419"
            ]
           ],
           "sequential": [
            [
             0,
             "#0d0887"
            ],
            [
             0.1111111111111111,
             "#46039f"
            ],
            [
             0.2222222222222222,
             "#7201a8"
            ],
            [
             0.3333333333333333,
             "#9c179e"
            ],
            [
             0.4444444444444444,
             "#bd3786"
            ],
            [
             0.5555555555555556,
             "#d8576b"
            ],
            [
             0.6666666666666666,
             "#ed7953"
            ],
            [
             0.7777777777777778,
             "#fb9f3a"
            ],
            [
             0.8888888888888888,
             "#fdca26"
            ],
            [
             1,
             "#f0f921"
            ]
           ],
           "sequentialminus": [
            [
             0,
             "#0d0887"
            ],
            [
             0.1111111111111111,
             "#46039f"
            ],
            [
             0.2222222222222222,
             "#7201a8"
            ],
            [
             0.3333333333333333,
             "#9c179e"
            ],
            [
             0.4444444444444444,
             "#bd3786"
            ],
            [
             0.5555555555555556,
             "#d8576b"
            ],
            [
             0.6666666666666666,
             "#ed7953"
            ],
            [
             0.7777777777777778,
             "#fb9f3a"
            ],
            [
             0.8888888888888888,
             "#fdca26"
            ],
            [
             1,
             "#f0f921"
            ]
           ]
          },
          "colorway": [
           "#636efa",
           "#EF553B",
           "#00cc96",
           "#ab63fa",
           "#FFA15A",
           "#19d3f3",
           "#FF6692",
           "#B6E880",
           "#FF97FF",
           "#FECB52"
          ],
          "font": {
           "color": "#2a3f5f"
          },
          "geo": {
           "bgcolor": "white",
           "lakecolor": "white",
           "landcolor": "#E5ECF6",
           "showlakes": true,
           "showland": true,
           "subunitcolor": "white"
          },
          "hoverlabel": {
           "align": "left"
          },
          "hovermode": "closest",
          "mapbox": {
           "style": "light"
          },
          "paper_bgcolor": "white",
          "plot_bgcolor": "#E5ECF6",
          "polar": {
           "angularaxis": {
            "gridcolor": "white",
            "linecolor": "white",
            "ticks": ""
           },
           "bgcolor": "#E5ECF6",
           "radialaxis": {
            "gridcolor": "white",
            "linecolor": "white",
            "ticks": ""
           }
          },
          "scene": {
           "xaxis": {
            "backgroundcolor": "#E5ECF6",
            "gridcolor": "white",
            "gridwidth": 2,
            "linecolor": "white",
            "showbackground": true,
            "ticks": "",
            "zerolinecolor": "white"
           },
           "yaxis": {
            "backgroundcolor": "#E5ECF6",
            "gridcolor": "white",
            "gridwidth": 2,
            "linecolor": "white",
            "showbackground": true,
            "ticks": "",
            "zerolinecolor": "white"
           },
           "zaxis": {
            "backgroundcolor": "#E5ECF6",
            "gridcolor": "white",
            "gridwidth": 2,
            "linecolor": "white",
            "showbackground": true,
            "ticks": "",
            "zerolinecolor": "white"
           }
          },
          "shapedefaults": {
           "line": {
            "color": "#2a3f5f"
           }
          },
          "ternary": {
           "aaxis": {
            "gridcolor": "white",
            "linecolor": "white",
            "ticks": ""
           },
           "baxis": {
            "gridcolor": "white",
            "linecolor": "white",
            "ticks": ""
           },
           "bgcolor": "#E5ECF6",
           "caxis": {
            "gridcolor": "white",
            "linecolor": "white",
            "ticks": ""
           }
          },
          "title": {
           "x": 0.05
          },
          "xaxis": {
           "automargin": true,
           "gridcolor": "white",
           "linecolor": "white",
           "ticks": "",
           "title": {
            "standoff": 15
           },
           "zerolinecolor": "white",
           "zerolinewidth": 2
          },
          "yaxis": {
           "automargin": true,
           "gridcolor": "white",
           "linecolor": "white",
           "ticks": "",
           "title": {
            "standoff": 15
           },
           "zerolinecolor": "white",
           "zerolinewidth": 2
          }
         }
        },
        "title": {
         "text": "Scree plot of salience of topics"
        },
        "width": 800,
        "xaxis": {
         "anchor": "y",
         "domain": [
          0,
          1
         ],
         "title": {
          "text": "topic_ID"
         }
        },
        "yaxis": {
         "anchor": "x",
         "domain": [
          0,
          1
         ],
         "title": {
          "text": "salience"
         }
        }
       }
      },
      "text/html": [
       "<div>                            <div id=\"f5862412-350e-416c-a47e-39a5cf50cf41\" class=\"plotly-graph-div\" style=\"height:400px; width:800px;\"></div>            <script type=\"text/javascript\">                require([\"plotly\"], function(Plotly) {                    window.PLOTLYENV=window.PLOTLYENV || {};                                    if (document.getElementById(\"f5862412-350e-416c-a47e-39a5cf50cf41\")) {                    Plotly.newPlot(                        \"f5862412-350e-416c-a47e-39a5cf50cf41\",                        [{\"hovertemplate\": \"topic_ID=%{x}<br>salience=%{y}<extra></extra>\", \"legendgroup\": \"\", \"line\": {\"color\": \"#636efa\", \"dash\": \"solid\"}, \"mode\": \"lines+markers\", \"name\": \"\", \"orientation\": \"v\", \"showlegend\": false, \"type\": \"scatter\", \"x\": [\"12\", \"5\", \"6\", \"2\", \"9\", \"7\", \"1\", \"3\", \"10\", \"11\", \"8\", \"4\"], \"xaxis\": \"x\", \"y\": [0.40236686390532544, 0.30177514792899407, 0.28402366863905326, 0.2781065088757396, 0.26627218934911245, 0.20710059171597633, 0.20118343195266272, 0.20118343195266272, 0.15976331360946747, 0.15384615384615385, 0.10059171597633136, 0.09467455621301775], \"yaxis\": \"y\"}],                        {\"autosize\": false, \"height\": 400, \"legend\": {\"tracegroupgap\": 0}, \"template\": {\"data\": {\"bar\": [{\"error_x\": {\"color\": \"#2a3f5f\"}, \"error_y\": {\"color\": \"#2a3f5f\"}, \"marker\": {\"line\": {\"color\": \"#E5ECF6\", \"width\": 0.5}}, \"type\": \"bar\"}], \"barpolar\": [{\"marker\": {\"line\": {\"color\": \"#E5ECF6\", \"width\": 0.5}}, \"type\": \"barpolar\"}], \"carpet\": [{\"aaxis\": {\"endlinecolor\": \"#2a3f5f\", \"gridcolor\": \"white\", \"linecolor\": \"white\", \"minorgridcolor\": \"white\", \"startlinecolor\": \"#2a3f5f\"}, \"baxis\": {\"endlinecolor\": \"#2a3f5f\", \"gridcolor\": \"white\", \"linecolor\": \"white\", \"minorgridcolor\": \"white\", \"startlinecolor\": \"#2a3f5f\"}, \"type\": \"carpet\"}], \"choropleth\": [{\"colorbar\": {\"outlinewidth\": 0, \"ticks\": \"\"}, \"type\": \"choropleth\"}], \"contour\": [{\"colorbar\": {\"outlinewidth\": 0, \"ticks\": \"\"}, \"colorscale\": [[0.0, \"#0d0887\"], [0.1111111111111111, \"#46039f\"], [0.2222222222222222, \"#7201a8\"], [0.3333333333333333, \"#9c179e\"], [0.4444444444444444, \"#bd3786\"], [0.5555555555555556, \"#d8576b\"], [0.6666666666666666, \"#ed7953\"], [0.7777777777777778, \"#fb9f3a\"], [0.8888888888888888, \"#fdca26\"], [1.0, \"#f0f921\"]], \"type\": \"contour\"}], \"contourcarpet\": [{\"colorbar\": {\"outlinewidth\": 0, \"ticks\": \"\"}, \"type\": \"contourcarpet\"}], \"heatmap\": [{\"colorbar\": {\"outlinewidth\": 0, \"ticks\": \"\"}, \"colorscale\": [[0.0, \"#0d0887\"], [0.1111111111111111, \"#46039f\"], [0.2222222222222222, \"#7201a8\"], [0.3333333333333333, \"#9c179e\"], [0.4444444444444444, \"#bd3786\"], [0.5555555555555556, \"#d8576b\"], [0.6666666666666666, \"#ed7953\"], [0.7777777777777778, \"#fb9f3a\"], [0.8888888888888888, \"#fdca26\"], [1.0, \"#f0f921\"]], \"type\": \"heatmap\"}], \"heatmapgl\": [{\"colorbar\": {\"outlinewidth\": 0, \"ticks\": \"\"}, \"colorscale\": [[0.0, \"#0d0887\"], [0.1111111111111111, \"#46039f\"], [0.2222222222222222, \"#7201a8\"], [0.3333333333333333, \"#9c179e\"], [0.4444444444444444, \"#bd3786\"], [0.5555555555555556, \"#d8576b\"], [0.6666666666666666, \"#ed7953\"], [0.7777777777777778, \"#fb9f3a\"], [0.8888888888888888, \"#fdca26\"], [1.0, \"#f0f921\"]], \"type\": \"heatmapgl\"}], \"histogram\": [{\"marker\": {\"colorbar\": {\"outlinewidth\": 0, \"ticks\": \"\"}}, \"type\": \"histogram\"}], \"histogram2d\": [{\"colorbar\": {\"outlinewidth\": 0, \"ticks\": \"\"}, \"colorscale\": [[0.0, \"#0d0887\"], [0.1111111111111111, \"#46039f\"], [0.2222222222222222, \"#7201a8\"], [0.3333333333333333, \"#9c179e\"], [0.4444444444444444, \"#bd3786\"], [0.5555555555555556, \"#d8576b\"], [0.6666666666666666, \"#ed7953\"], [0.7777777777777778, \"#fb9f3a\"], [0.8888888888888888, \"#fdca26\"], [1.0, \"#f0f921\"]], \"type\": \"histogram2d\"}], \"histogram2dcontour\": [{\"colorbar\": {\"outlinewidth\": 0, \"ticks\": \"\"}, \"colorscale\": [[0.0, \"#0d0887\"], [0.1111111111111111, \"#46039f\"], [0.2222222222222222, \"#7201a8\"], [0.3333333333333333, \"#9c179e\"], [0.4444444444444444, \"#bd3786\"], [0.5555555555555556, \"#d8576b\"], [0.6666666666666666, \"#ed7953\"], [0.7777777777777778, \"#fb9f3a\"], [0.8888888888888888, \"#fdca26\"], [1.0, \"#f0f921\"]], \"type\": \"histogram2dcontour\"}], \"mesh3d\": [{\"colorbar\": {\"outlinewidth\": 0, \"ticks\": \"\"}, \"type\": \"mesh3d\"}], \"parcoords\": [{\"line\": {\"colorbar\": {\"outlinewidth\": 0, \"ticks\": \"\"}}, \"type\": \"parcoords\"}], \"pie\": [{\"automargin\": true, \"type\": \"pie\"}], \"scatter\": [{\"marker\": {\"colorbar\": {\"outlinewidth\": 0, \"ticks\": \"\"}}, \"type\": \"scatter\"}], \"scatter3d\": [{\"line\": {\"colorbar\": {\"outlinewidth\": 0, \"ticks\": \"\"}}, \"marker\": {\"colorbar\": {\"outlinewidth\": 0, \"ticks\": \"\"}}, \"type\": \"scatter3d\"}], \"scattercarpet\": [{\"marker\": {\"colorbar\": {\"outlinewidth\": 0, \"ticks\": \"\"}}, \"type\": \"scattercarpet\"}], \"scattergeo\": [{\"marker\": {\"colorbar\": {\"outlinewidth\": 0, \"ticks\": \"\"}}, \"type\": \"scattergeo\"}], \"scattergl\": [{\"marker\": {\"colorbar\": {\"outlinewidth\": 0, \"ticks\": \"\"}}, \"type\": \"scattergl\"}], \"scattermapbox\": [{\"marker\": {\"colorbar\": {\"outlinewidth\": 0, \"ticks\": \"\"}}, \"type\": \"scattermapbox\"}], \"scatterpolar\": [{\"marker\": {\"colorbar\": {\"outlinewidth\": 0, \"ticks\": \"\"}}, \"type\": \"scatterpolar\"}], \"scatterpolargl\": [{\"marker\": {\"colorbar\": {\"outlinewidth\": 0, \"ticks\": \"\"}}, \"type\": \"scatterpolargl\"}], \"scatterternary\": [{\"marker\": {\"colorbar\": {\"outlinewidth\": 0, \"ticks\": \"\"}}, \"type\": \"scatterternary\"}], \"surface\": [{\"colorbar\": {\"outlinewidth\": 0, \"ticks\": \"\"}, \"colorscale\": [[0.0, \"#0d0887\"], [0.1111111111111111, \"#46039f\"], [0.2222222222222222, \"#7201a8\"], [0.3333333333333333, \"#9c179e\"], [0.4444444444444444, \"#bd3786\"], [0.5555555555555556, \"#d8576b\"], [0.6666666666666666, \"#ed7953\"], [0.7777777777777778, \"#fb9f3a\"], [0.8888888888888888, \"#fdca26\"], [1.0, \"#f0f921\"]], \"type\": \"surface\"}], \"table\": [{\"cells\": {\"fill\": {\"color\": \"#EBF0F8\"}, \"line\": {\"color\": \"white\"}}, \"header\": {\"fill\": {\"color\": \"#C8D4E3\"}, \"line\": {\"color\": \"white\"}}, \"type\": \"table\"}]}, \"layout\": {\"annotationdefaults\": {\"arrowcolor\": \"#2a3f5f\", \"arrowhead\": 0, \"arrowwidth\": 1}, \"autotypenumbers\": \"strict\", \"coloraxis\": {\"colorbar\": {\"outlinewidth\": 0, \"ticks\": \"\"}}, \"colorscale\": {\"diverging\": [[0, \"#8e0152\"], [0.1, \"#c51b7d\"], [0.2, \"#de77ae\"], [0.3, \"#f1b6da\"], [0.4, \"#fde0ef\"], [0.5, \"#f7f7f7\"], [0.6, \"#e6f5d0\"], [0.7, \"#b8e186\"], [0.8, \"#7fbc41\"], [0.9, \"#4d9221\"], [1, \"#276419\"]], \"sequential\": [[0.0, \"#0d0887\"], [0.1111111111111111, \"#46039f\"], [0.2222222222222222, \"#7201a8\"], [0.3333333333333333, \"#9c179e\"], [0.4444444444444444, \"#bd3786\"], [0.5555555555555556, \"#d8576b\"], [0.6666666666666666, \"#ed7953\"], [0.7777777777777778, \"#fb9f3a\"], [0.8888888888888888, \"#fdca26\"], [1.0, \"#f0f921\"]], \"sequentialminus\": [[0.0, \"#0d0887\"], [0.1111111111111111, \"#46039f\"], [0.2222222222222222, \"#7201a8\"], [0.3333333333333333, \"#9c179e\"], [0.4444444444444444, \"#bd3786\"], [0.5555555555555556, \"#d8576b\"], [0.6666666666666666, \"#ed7953\"], [0.7777777777777778, \"#fb9f3a\"], [0.8888888888888888, \"#fdca26\"], [1.0, \"#f0f921\"]]}, \"colorway\": [\"#636efa\", \"#EF553B\", \"#00cc96\", \"#ab63fa\", \"#FFA15A\", \"#19d3f3\", \"#FF6692\", \"#B6E880\", \"#FF97FF\", \"#FECB52\"], \"font\": {\"color\": \"#2a3f5f\"}, \"geo\": {\"bgcolor\": \"white\", \"lakecolor\": \"white\", \"landcolor\": \"#E5ECF6\", \"showlakes\": true, \"showland\": true, \"subunitcolor\": \"white\"}, \"hoverlabel\": {\"align\": \"left\"}, \"hovermode\": \"closest\", \"mapbox\": {\"style\": \"light\"}, \"paper_bgcolor\": \"white\", \"plot_bgcolor\": \"#E5ECF6\", \"polar\": {\"angularaxis\": {\"gridcolor\": \"white\", \"linecolor\": \"white\", \"ticks\": \"\"}, \"bgcolor\": \"#E5ECF6\", \"radialaxis\": {\"gridcolor\": \"white\", \"linecolor\": \"white\", \"ticks\": \"\"}}, \"scene\": {\"xaxis\": {\"backgroundcolor\": \"#E5ECF6\", \"gridcolor\": \"white\", \"gridwidth\": 2, \"linecolor\": \"white\", \"showbackground\": true, \"ticks\": \"\", \"zerolinecolor\": \"white\"}, \"yaxis\": {\"backgroundcolor\": \"#E5ECF6\", \"gridcolor\": \"white\", \"gridwidth\": 2, \"linecolor\": \"white\", \"showbackground\": true, \"ticks\": \"\", \"zerolinecolor\": \"white\"}, \"zaxis\": {\"backgroundcolor\": \"#E5ECF6\", \"gridcolor\": \"white\", \"gridwidth\": 2, \"linecolor\": \"white\", \"showbackground\": true, \"ticks\": \"\", \"zerolinecolor\": \"white\"}}, \"shapedefaults\": {\"line\": {\"color\": \"#2a3f5f\"}}, \"ternary\": {\"aaxis\": {\"gridcolor\": \"white\", \"linecolor\": \"white\", \"ticks\": \"\"}, \"baxis\": {\"gridcolor\": \"white\", \"linecolor\": \"white\", \"ticks\": \"\"}, \"bgcolor\": \"#E5ECF6\", \"caxis\": {\"gridcolor\": \"white\", \"linecolor\": \"white\", \"ticks\": \"\"}}, \"title\": {\"x\": 0.05}, \"xaxis\": {\"automargin\": true, \"gridcolor\": \"white\", \"linecolor\": \"white\", \"ticks\": \"\", \"title\": {\"standoff\": 15}, \"zerolinecolor\": \"white\", \"zerolinewidth\": 2}, \"yaxis\": {\"automargin\": true, \"gridcolor\": \"white\", \"linecolor\": \"white\", \"ticks\": \"\", \"title\": {\"standoff\": 15}, \"zerolinecolor\": \"white\", \"zerolinewidth\": 2}}}, \"title\": {\"text\": \"Scree plot of salience of topics\"}, \"width\": 800, \"xaxis\": {\"anchor\": \"y\", \"domain\": [0.0, 1.0], \"title\": {\"text\": \"topic_ID\"}}, \"yaxis\": {\"anchor\": \"x\", \"domain\": [0.0, 1.0], \"title\": {\"text\": \"salience\"}}},                        {\"responsive\": true}                    ).then(function(){\n",
       "                            \n",
       "var gd = document.getElementById('f5862412-350e-416c-a47e-39a5cf50cf41');\n",
       "var x = new MutationObserver(function (mutations, observer) {{\n",
       "        var display = window.getComputedStyle(gd).display;\n",
       "        if (!display || display === 'none') {{\n",
       "            console.log([gd, 'removed!']);\n",
       "            Plotly.purge(gd);\n",
       "            observer.disconnect();\n",
       "        }}\n",
       "}});\n",
       "\n",
       "// Listen for the removal of the full notebook cells\n",
       "var notebookContainer = gd.closest('#notebook-container');\n",
       "if (notebookContainer) {{\n",
       "    x.observe(notebookContainer, {childList: true});\n",
       "}}\n",
       "\n",
       "// Listen for the clearing of the current output cell\n",
       "var outputEl = gd.closest('.output');\n",
       "if (outputEl) {{\n",
       "    x.observe(outputEl, {childList: true});\n",
       "}}\n",
       "\n",
       "                        })                };                });            </script>        </div>"
      ]
     },
     "metadata": {},
     "output_type": "display_data"
    }
   ],
   "source": [
    "fig_L1 = px.line(df_salient_topic, x = 'topic_ID', y = 'salience', title=\"Scree plot of salience of topics\")\n",
    "fig_L1.update_layout(autosize=False, width=800, height=400)\n",
    "fig_L1.update_traces(mode = \"lines + markers\")\n",
    "fig_L1.show()"
   ]
  },
  {
   "cell_type": "markdown",
   "metadata": {},
   "source": [
    "## 5.2. Topic visualisation"
   ]
  },
  {
   "cell_type": "markdown",
   "metadata": {},
   "source": [
    "Check the words of each topic, if there're common words with high overall frequency such as \"think\" \"want\" or \"make\", return to the \"import the stop_words from gensim\" section, add these words to the list of stop words to remove them."
   ]
  },
  {
   "cell_type": "code",
   "execution_count": 130,
   "metadata": {},
   "outputs": [
    {
     "data": {
      "text/html": [
       "\n",
       "<link rel=\"stylesheet\" type=\"text/css\" href=\"https://cdn.jsdelivr.net/gh/bmabey/pyLDAvis@3.3.1/pyLDAvis/js/ldavis.v1.0.0.css\">\n",
       "\n",
       "\n",
       "<div id=\"ldavis_el4286019870566627849838980961\"></div>\n",
       "<script type=\"text/javascript\">\n",
       "\n",
       "var ldavis_el4286019870566627849838980961_data = {\"mdsDat\": {\"x\": [-0.2052968806395408, -0.14465356388869668, 0.07717995732218777, -0.11348154922154934, 0.0765596462341973, 0.11126641829029481, -0.05627315763638006, 0.15197596900814792, 0.13466823969183456, 0.04889391674742383, -0.043449369607593366, -0.03738962630032611], \"y\": [-0.004590779294570307, -0.10627953809423742, 0.1579110487924673, 0.13953783917407517, -0.11484534520654824, -0.09066728284290394, 0.02965720068512687, 0.010355129348846397, 0.015167838840648918, 0.03028592981958309, -0.048863426240428616, -0.017668614982059416], \"topics\": [1, 2, 3, 4, 5, 6, 7, 8, 9, 10, 11, 12], \"cluster\": [1, 1, 1, 1, 1, 1, 1, 1, 1, 1, 1, 1], \"Freq\": [3.2617513372689784, 3.4453771130769217, 14.259294039320746, 4.024944660143115, 11.232911117701121, 6.553363692695316, 3.5282062337537763, 6.876992538762133, 3.1628468878086657, 11.586715325406198, 9.570316637940856, 22.497280416122173]}, \"tinfo\": {\"Term\": [\"cost\", \"bid\", \"athlete\", \"performance\", \"funding\", \"benefit\", \"report\", \"facility\", \"programme\", \"park\", \"delivery\", \"transport\", \"chair\", \"borough\", \"community\", \"swimming\", \"government\", \"provide\", \"opportunity\", \"medal\", \"local\", \"support\", \"legacy\", \"risk\", \"area\", \"tourism\", \"participation\", \"event\", \"regeneration\", \"school\", \"dcsf\", \"teaching\", \"prestige\", \"pair\", \"focal\", \"fitness\", \"mentor\", \"curriculum\", \"combat\", \"casual\", \"amateur_swimming_association\", \"swimming\", \"redress\", \"swim\", \"synchronised_swimming\", \"depth\", \"hot\", \"swimmer\", \"preparatory\", \"bath\", \"ancillary\", \"disability\", \"dry\", \"abuse\", \"retire\", \"aquatic\", \"diver\", \"quadrennial\", \"associated\", \"delegation\", \"diving\", \"child\", \"club\", \"swimming_pool\", \"disabled\", \"specialist\", \"discipline\", \"centre\", \"training\", \"academy\", \"coach\", \"competition\", \"provision\", \"facility\", \"health\", \"school\", \"pool\", \"pathway\", \"activity\", \"provide\", \"young\", \"participation\", \"development\", \"programme\", \"talent\", \"british\", \"athlete\", \"support\", \"opportunity\", \"ensure\", \"event\", \"performance\", \"staff\", \"link\", \"develop\", \"community\", \"legacy\", \"level\", \"music\", \"technological\", \"characteristic\", \"visa\", \"similarity\", \"significance\", \"accredited\", \"creative_industrie\", \"maximize\", \"pupil\", \"compelling\", \"pinnacle\", \"medal_winning_performance\", \"journalist\", \"written_evidence_submitte\", \"motivation\", \"girl\", \"mini\", \"testimony\", \"cool\", \"studio\", \"enjoyment\", \"beneficial\", \"convention\", \"performer\", \"hospitality\", \"premier\", \"role_model\", \"remote\", \"respected\", \"influence\", \"media\", \"woman\", \"college\", \"visitor\", \"tourism\", \"visitbritain\", \"destination\", \"production\", \"generation\", \"coverage\", \"visit\", \"crucial\", \"industry\", \"offer\", \"young\", \"benefit\", \"sector\", \"international\", \"create\", \"event\", \"skill\", \"school\", \"medium\", \"opportunity\", \"grow\", \"positive\", \"legacy\", \"participation\", \"age\", \"creative\", \"physical\", \"key\", \"ensure\", \"major\", \"improve\", \"increase\", \"world\", \"impact\", \"athletic\", \"include\", \"business\", \"host\", \"support\", \"help\", \"stadium\", \"country\", \"joint_venture_agreement\", \"candidate_file\", \"self_finance\", \"ultimate_guarantor\", \"financially_expose\", \"expected\", \"auditor_general\", \"commerce\", \"reconcile\", \"governance_arrangement\", \"clm\", \"compliance\", \"terminate\", \"certify\", \"ch_hill_laing_rourke\", \"readiness\", \"contentious\", \"applicable\", \"landscaping\", \"highway\", \"supplier\", \"risk_assessment\", \"cost_overrun\", \"forecast\", \"dependency\", \"controller\", \"stationery_office_limite\", \"notify\", \"anticipated_final_cost\", \"comptroller\", \"authority\", \"gross\", \"source_national_audit\", \"policing\", \"delivery\", \"executive\", \"contractor\", \"procurement\", \"specification\", \"preparation\", \"construction\", \"finalise\", \"designate\", \"arrangement\", \"baseline\", \"risk\", \"main\", \"department\", \"cost\", \"report\", \"budget\", \"contingency\", \"estimate\", \"progress\", \"uncertainty\", \"delay\", \"project\", \"management\", \"tax\", \"security\", \"programme\", \"include\", \"plan\", \"review\", \"infrastructure\", \"government\", \"package\", \"venue\", \"funding\", \"deliver\", \"fund\", \"expect\", \"village\", \"legacy\", \"provide\", \"site\", \"interchange\", \"medal_target\", \"institute\", \"fundraising\", \"aggregate\", \"bronze\", \"mission\", \"medicine\", \"countdown\", \"medal_table\", \"close_proximity\", \"injury\", \"scientist\", \"intervene\", \"talent_identification\", \"silver\", \"rower\", \"boxing\", \"volleyball\", \"sporting_giants_campaign\", \"engender\", \"performance\", \"confirmation\", \"clothing\", \"science\", \"enforce\", \"medal\", \"panel\", \"culminate\", \"quantitative\", \"duplication\", \"podium\", \"elite\", \"governing_bodie\", \"world_class\", \"success\", \"cycle\", \"athlete\", \"target\", \"boa\", \"funding\", \"prepare\", \"measure\", \"win\", \"paralympic\", \"service\", \"national\", \"goal\", \"support\", \"receive\", \"provide\", \"team\", \"fund\", \"lead\", \"programme\", \"department\", \"deliver\", \"achieve\", \"british\", \"report\", \"include\", \"increase\", \"level\", \"event\", \"number\", \"indian\", \"seb\", \"admit\", \"float\", \"drag\", \"breakfast\", \"marry\", \"interfere\", \"badge\", \"liverpool\", \"activate\", \"nomination\", \"reputational_damage\", \"pricing\", \"border\", \"torch\", \"complaint\", \"hotspot\", \"drum\", \"white\", \"beg\", \"tout\", \"cheap\", \"democratic\", \"extraordinary\", \"preparation_camp\", \"westfield\", \"deputy_prime_minister\", \"apprentice\", \"tech\", \"chunk\", \"ticket\", \"sander\", \"comfort\", \"years_ago\", \"kind\", \"ambassador\", \"come\", \"shall\", \"moment\", \"sell\", \"festival\", \"job\", \"sure\", \"sort\", \"morning\", \"constituency\", \"make_sure\", \"look\", \"big\", \"able\", \"talk\", \"oplc\", \"good\", \"day\", \"country\", \"important\", \"start\", \"course\", \"point\", \"like\", \"company\", \"right\", \"end\", \"different\", \"process\", \"chairman\", \"question\", \"business\", \"place\", \"term\", \"park\", \"committee\", \"build\", \"area\", \"legacy\", \"local\", \"opportunity\", \"event\", \"government\", \"david_higgin\", \"influx\", \"miss_kirkbride\", \"deliverability\", \"underwriting\", \"bryant\", \"fifa\", \"opposed\", \"regenerative\", \"precious\", \"wembley\", \"tick\", \"centrepiece\", \"historical\", \"campus\", \"flight\", \"stead\", \"picketts_lock\", \"mount\", \"brownfield\", \"satisfactory\", \"breach\", \"publicly_funde\", \"iaaf\", \"mitigation\", \"poll\", \"west\", \"directly_attributable\", \"insist\", \"accounting\", \"merit\", \"ioc\", \"vice\", \"bidding\", \"airport\", \"bid\", \"stadium\", \"thorough\", \"village\", \"city\", \"stadia\", \"option\", \"wonderful\", \"question\", \"decision\", \"athletic\", \"issue\", \"look\", \"football\", \"come\", \"person\", \"argument\", \"chairman\", \"like\", \"country\", \"manchester\", \"point\", \"good\", \"process\", \"regeneration\", \"view\", \"answer\", \"stage\", \"tell\", \"member\", \"committee\", \"cost\", \"government\", \"end\", \"facility\", \"money\", \"build\", \"transport\", \"project\", \"term\", \"legacy\", \"convergence\", \"holding\", \"neighbour\", \"fringe\", \"attainment\", \"neighbouring\", \"five_host_boroughs\", \"childhood\", \"parkland\", \"landowner\", \"derelict\", \"deprivation\", \"worklessness\", \"open_space\", \"verify\", \"hackney_marshe\", \"thame\", \"connectivity\", \"resident\", \"sixth\", \"neighbourhood\", \"transformation\", \"prosperous\", \"formation\", \"green\", \"equate\", \"old\", \"host_borough\", \"waterway\", \"poverty\", \"hackney\", \"borough\", \"regeneration\", \"company\", \"social\", \"park\", \"housing\", \"employment\", \"area\", \"grant\", \"local\", \"mayor\", \"strategic\", \"community\", \"job\", \"benefit\", \"create\", \"economic\", \"development\", \"land\", \"framework\", \"legacy\", \"host\", \"oda\", \"ensure\", \"significant\", \"plan\", \"venue\", \"opportunity\", \"site\", \"develop\", \"secure\", \"provide\", \"support\", \"include\", \"orn\", \"finely_balance\", \"security_guard\", \"crossing\", \"heat\", \"screening\", \"wage\", \"soldier\", \"dame_helen_ghosh\", \"congestion\", \"apology\", \"description\", \"left\", \"jonathan_stephen\", \"aren\", \"finely_balanced\", \"haven\", \"transcript\", \"closed\", \"renegotiate\", \"defence\", \"nao\", \"military\", \"hearing\", \"telegraph\", \"throughput\", \"sheer\", \"magnitude\", \"materialise\", \"kitchen\", \"am_sorry\", \"traffic\", \"rumour\", \"chair\", \"headroom\", \"purchase\", \"conservative\", \"guard\", \"risk\", \"security\", \"arise\", \"peak\", \"word\", \"spend\", \"likely\", \"pay\", \"estimate\", \"money\", \"number\", \"answer\", \"cost\", \"budget\", \"report\", \"agree\", \"question\", \"government\", \"figure\", \"come\", \"contract\", \"company\", \"management\", \"point\", \"contingency\", \"programme\", \"committee\", \"clear\", \"department\", \"issue\", \"funding\", \"legacy\", \"venue\", \"concordat\", \"appendix_memorandum_submitte\", \"greek\", \"witnesses_questions_tuesday_january\", \"south_wale\", \"appendix\", \"credibility\", \"wholehearte\", \"crossrail\", \"sydney\", \"arup\", \"discrepancy\", \"tune\", \"extension\", \"unequivocal\", \"indirect\", \"athen\", \"appraisal\", \"modest\", \"gentleman\", \"fraction\", \"feasibility\", \"witnesses_questions_wednesday_january\", \"compulsory_purchase\", \"backing\", \"competence\", \"channel_tunnel_rail_link\", \"concentration\", \"charismatic\", \"southern\", \"methodology\", \"rail\", \"discount\", \"benefit\", \"bid\", \"transport\", \"manchester\", \"flow\", \"line\", \"revenue\", \"cost\", \"infrastructure\", \"bidding\", \"assume\", \"government\", \"public\", \"figure\", \"city\", \"economic\", \"major\", \"project\", \"significant\", \"case\", \"stage\", \"report\", \"committee\", \"experience\", \"regeneration\", \"facility\", \"event\", \"support\", \"base\", \"require\", \"include\", \"bracket\", \"embargoed_copie\", \"formal_minutes_witnesse\", \"blend\", \"development_corporation\", \"warn\", \"eastway\", \"adjourn\", \"react\", \"maker\", \"freedom\", \"beneficiary\", \"preserve\", \"manageable\", \"relocatable\", \"sink\", \"disclose\", \"query\", \"greenwich_leisure_limite\", \"eighth\", \"recoup\", \"dispose\", \"reply\", \"deploy\", \"occupier\", \"intrinsic\", \"archery\", \"appetite\", \"pro\\ufb01t\", \"land_value\", \"observe\", \"affordable_house\", \"comparable\", \"compensation\", \"cite\", \"land_sale\", \"cabinet_office\", \"rent\", \"\\ufb01gure\", \"velopark\", \"paragraph\", \"sale\", \"note\", \"page\", \"receipt\", \"venue\", \"failure\", \"oda\", \"ban\", \"\\ufb01nal\", \"lottery\", \"contingency\", \"house\", \"report\", \"sum\", \"previous\", \"appear\", \"cost\", \"announce\", \"contract\", \"contribution\", \"table\", \"land\", \"project\", \"funding\", \"programme\", \"government\", \"legacy\", \"publish\", \"site\", \"stadium\", \"provide\", \"design\", \"package\", \"committee\", \"department\", \"increase\", \"fund\", \"level\", \"park\", \"budget\", \"include\", \"set\", \"place\", \"deliver\", \"community\", \"event\", \"participation\", \"facility\", \"clegg\", \"excuse\", \"politic\", \"softball\", \"stone\", \"beat\", \"independence\", \"hopeful\", \"organised\", \"dame_tanni_grey_thompson\", \"practise\", \"runner\", \"aspirational\", \"paralympian\", \"glad\", \"qualify\", \"baseball\", \"rehabilitation\", \"excited\", \"thrilled\", \"salary\", \"pipeline\", \"emergence\", \"sporting_giant\", \"aspire\", \"shooting\", \"ipc\", \"adam_price\", \"anti_dope\", \"silver_medal\", \"alliance\", \"rosemary_mckenna\", \"youngster\", \"coach\", \"athlete\", \"talent\", \"man\", \"medal\", \"cycling\", \"shoot\", \"handball\", \"governing_bodie\", \"british\", \"chairman\", \"tier\", \"paralympic\", \"compete\", \"performance\", \"gold_medal\", \"make_sure\", \"look\", \"team\", \"term\", \"elite\", \"swimming\", \"boa\", \"pathway\", \"country\", \"success\", \"good\", \"level\", \"come\", \"money\", \"funding\", \"support\", \"facility\", \"evidence\", \"investment\", \"right\", \"opportunity\", \"programme\", \"important\", \"legacy\", \"deliver\", \"place\", \"venue\", \"pledge\", \"powerline\", \"stimulus\", \"locality\", \"inactive\", \"detrimental\", \"social_cohesion\", \"mental\", \"memorable\", \"devolved_administration\", \"secondee\", \"vocational\", \"realisation\", \"grade\", \"socially_excluded\", \"pioneer\", \"functionality\", \"friendship\", \"imbalance\", \"unite\", \"bombing\", \"inadequate\", \"forge\", \"charitable\", \"stance\", \"gallery\", \"museum\", \"diverse_communitie\", \"steady\", \"union\", \"recreation\", \"bene\\ufb01ts\", \"library\", \"cultural\", \"nldf\", \"ccpr\", \"forum\", \"heritage\", \"camelot\", \"regional\", \"sector\", \"stimulate\", \"tourism\", \"region\", \"voluntary\", \"distributor\", \"commence\", \"community\", \"strategy\", \"art\", \"county\", \"participation\", \"legacy\", \"local\", \"ensure\", \"lottery\", \"culture\", \"bene\\ufb01t\", \"partner\", \"sustainable\", \"launch\", \"opportunity\", \"evidence\", \"national\", \"education\", \"develop\", \"support\", \"development\", \"deliver\", \"increase\", \"facility\", \"business\", \"plan\", \"nation\", \"event\", \"provide\", \"programme\", \"committee\", \"funding\", \"include\", \"government\", \"venue\", \"key\", \"place\", \"cost\", \"project\"], \"Freq\": [3054.0, 1476.0, 1420.0, 923.0, 2144.0, 897.0, 1605.0, 1351.0, 2512.0, 915.0, 1437.0, 705.0, 781.0, 603.0, 1308.0, 388.0, 2223.0, 1545.0, 1382.0, 470.0, 1199.0, 1487.0, 2688.0, 959.0, 1154.0, 430.0, 925.0, 1284.0, 531.0, 687.0, 9.132949577369441, 8.988901914602007, 8.491987635481811, 5.061090234714102, 4.691756635040782, 24.780528116700015, 7.761126884047606, 13.26487435044472, 8.371152336211756, 4.7570706609764155, 15.533732939242132, 215.41587012891839, 3.5119883778888266, 70.260185688035, 9.350804512053768, 9.893230923474533, 6.42526230331549, 25.896699637094425, 3.420027704105665, 5.964938837745679, 4.797951316402754, 116.76533391419765, 9.00887139166996, 4.71356129770189, 4.760125677557393, 17.464628076973064, 9.099068323323463, 2.4325427668121935, 9.485659194506127, 3.7711793833285205, 26.128505745563807, 101.00435313586074, 148.57186507618317, 14.92565674700791, 46.182564818151135, 26.824500322776277, 35.190392303231434, 111.15616000417566, 103.40128780425313, 16.902964851492698, 102.05717694259876, 88.40853300276437, 92.23116638011048, 201.2056041244468, 64.1960880270545, 117.25618755316769, 54.92052730034412, 34.53053694631861, 95.55720712092513, 155.39692558922917, 87.23772105107929, 106.26640236715161, 115.98056833454136, 153.67617654826964, 40.49183598950434, 64.05464996174379, 105.03138890832047, 102.58307609946432, 97.57534913387866, 80.93531386840921, 84.7112826098461, 69.73789457307893, 43.22805831208906, 46.81735910169638, 63.86480204077362, 65.31274642142236, 68.71721856087757, 56.06145412784258, 39.530944686245306, 5.0649333592116585, 5.7632581160021426, 17.68551415314925, 3.875618301192896, 4.519737094693411, 7.433826873813057, 8.491538806960094, 5.158805290172882, 15.238209817005403, 8.109567261834789, 6.345065393218208, 3.3697361426009693, 18.678386631261834, 20.807447702272132, 11.013134728825742, 12.75693669210539, 3.2785449447220576, 2.723827295174778, 2.7164894405328806, 5.902835738567057, 3.6258781389357866, 7.82661824523444, 3.157631522517876, 6.5712053528427745, 24.588667677395545, 5.50959964868253, 10.119802789291553, 2.989378875807668, 4.048686453831548, 25.235807575092622, 7.262528278299407, 78.70004754897435, 20.016994174250616, 81.2841599551312, 129.01514167581794, 22.653871556498423, 23.937895498172665, 12.565802162459045, 28.268767618058185, 21.352272539917532, 66.4793332493823, 29.613690660115772, 66.31750541801115, 64.76577586828756, 106.65074208745612, 137.30337209576066, 67.38878995989653, 70.63360493464604, 84.31311504746778, 148.8992147188019, 74.62450345399076, 96.19401475200306, 54.90044955499713, 140.92901514260387, 32.55223622801738, 40.541205904712946, 156.78223953838065, 84.62158568648522, 30.98720239130974, 27.789343723562716, 37.32263677267106, 65.56148899958549, 73.68807046932662, 63.042091825428685, 47.02612034782623, 70.56930709204157, 55.08230710843462, 56.740138036298355, 48.83952820397018, 69.55032044763782, 58.10440012035104, 53.757175280217346, 62.094761996187145, 49.89946869835432, 51.382224650458696, 51.04613674643386, 13.931633294262985, 36.615474102354305, 19.826238019112076, 12.92852217653735, 7.962341261767524, 17.292455458721207, 14.930828112854263, 13.64367670031393, 7.238133750477697, 9.8196702255512, 26.104898403770996, 9.449123677015303, 5.22649784520236, 6.896274382292748, 4.285806520489721, 13.58207885455936, 9.978093972467002, 4.9869570937515615, 8.2471861523348, 20.596227157253335, 75.32057848611497, 13.920538612895152, 6.488793546941967, 145.65355787276206, 11.46911144043802, 4.923028041054113, 4.923045071235777, 4.92998278165668, 18.21469956212571, 50.81053538778325, 573.8759822997008, 30.379183524378735, 15.895997271129197, 30.760590187629358, 963.3004910660517, 155.20683942613124, 155.60818104165423, 192.86190008209368, 41.08762808385354, 323.5203534378629, 376.9100372193965, 76.16306992746269, 37.209656497963536, 202.13002056190015, 53.79069636109387, 485.3303893875197, 263.145668027567, 465.58144525782114, 1235.295766393598, 703.8298051413134, 651.0063716868666, 439.1351386250172, 340.2046154813281, 297.61950617225165, 73.94299231040014, 73.53349677242609, 594.6480226259698, 308.53981904459414, 74.33552193154665, 321.4271705962966, 755.6626758300033, 452.1560376480871, 445.427211081047, 194.12264250273586, 260.6350825025477, 538.751475538745, 189.3828383303147, 413.59791722770257, 480.6829209321358, 309.4794634951207, 247.5885803686289, 211.44601577428182, 201.72261234581458, 285.2022853170275, 244.2258328296701, 202.02645649263525, 4.523384941086544, 8.271294960718416, 31.409742279951434, 17.514471529042886, 13.985420333633803, 12.449217517650201, 45.633973895316586, 33.41749731757228, 4.296339209522526, 43.68912808985782, 4.187594397878778, 8.153816504635005, 3.9880690971964547, 4.5689157699625955, 10.992455928587383, 12.431600030258101, 5.0903085019571614, 7.30364648414389, 20.896870928249665, 3.508419216609634, 3.8732046031529963, 443.49356055258966, 9.272870161262974, 6.514169723553907, 34.54937589552048, 3.580375913775494, 207.91741837422376, 9.83012405797664, 2.98850416225403, 2.5773155982260025, 5.5664548389742645, 27.815893849818742, 184.3137467620004, 143.84760302954462, 66.91510050862428, 189.71837395020867, 50.43905215632994, 370.8116440169333, 185.6777175964225, 67.88402748654909, 407.5546292837078, 78.10097439063783, 71.40426848706876, 114.35252753793448, 104.12998483224904, 117.56803534714508, 151.23735824850246, 38.069387607489254, 161.80980108763796, 63.387562907889816, 146.85969996785113, 101.96185551401241, 104.72952505228382, 83.16573789867479, 158.1967940027647, 94.36334322781171, 96.50074207545403, 70.99566467981431, 63.59622129398418, 88.15466784648427, 83.18868416808532, 76.96461452759351, 69.26074560344667, 69.7390589349488, 68.15032146813476, 10.724441591858808, 8.754808177767716, 5.860918078716879, 5.824684531094957, 5.819305591796308, 4.87806208996815, 4.857394812986685, 4.807721257788241, 6.639843164497224, 6.623523082975289, 7.3959448412986495, 12.927871804916826, 7.366596335978999, 20.06511320672008, 29.982613665665628, 18.18284794192615, 5.426549872422586, 14.229892029637098, 6.140640641105508, 9.594060409203047, 4.277315317680145, 6.80912610458565, 22.934335110457482, 5.814875877079773, 29.719619224805964, 4.616416307394756, 13.113914760480178, 3.8692102571237976, 6.844806317557839, 4.4810346068483575, 7.514323524877102, 265.20253062634856, 93.11065527959022, 10.695892966453684, 13.880953023226896, 114.59548648417545, 19.595492571331942, 497.42425061586056, 37.34552650401291, 146.14514792791263, 80.514794389576, 48.98614042491051, 176.27862907052054, 125.6177750060305, 98.96420484428432, 60.82406750811655, 36.95451685161717, 126.19671796310406, 322.55324819391495, 150.0845585319782, 165.52229758272756, 144.0099100088337, 50.452792136140296, 275.1057162723427, 143.35560418872447, 253.97028881452306, 202.5061204144031, 169.4458482893486, 151.65436437699552, 186.01916571718576, 110.41948152645456, 145.27954420957158, 158.67438590859015, 164.45451662219276, 111.62514963417944, 178.2290724542065, 173.43219058176635, 173.89024839611156, 181.03642010278332, 221.68639025957216, 175.49196843721236, 176.43134740883468, 191.88256494239698, 156.57112698599286, 172.17891848155858, 197.03382399215994, 163.83238419975956, 167.15905843912205, 163.8887605461405, 151.9604166574061, 80.1881989673277, 5.771987389969827, 5.767825292108714, 8.47025369543513, 6.465815483016637, 9.070578127591897, 12.481719174334739, 5.850935522418815, 8.836687839158278, 4.907838171620465, 17.39364796867564, 9.345560124173463, 16.183430886769955, 6.06402772632335, 8.240506602346082, 3.7636130238332646, 3.7732491723442396, 13.769981202820885, 8.713747052975775, 6.480692354238909, 4.203366780353171, 6.299999654391167, 8.745458977993348, 9.904766266518395, 3.2935783218683836, 5.225709978236046, 6.339409629270509, 4.404366099299902, 9.425823753633052, 6.875050831227511, 14.2111068685492, 130.13217299087896, 8.133022167658591, 70.8832745280906, 15.08239710322598, 483.38422622240506, 309.6722918924667, 12.099813911525526, 175.44259203698294, 160.28719695909322, 22.79419027592774, 60.117710104983566, 27.12087471138697, 166.27186601393643, 138.22518148453617, 101.21619007948252, 160.84964133880328, 190.32684941759283, 70.22336404746036, 205.40725821236003, 34.042302866950514, 30.073350919865003, 128.25634395679103, 76.92303024176661, 150.80514648859844, 49.00243022333123, 108.84874272143253, 133.2087843883035, 108.37778652178622, 87.22809155687511, 81.70377438989809, 67.34409492273531, 98.26072491057627, 63.2022747362432, 76.3344247791623, 121.99624633341296, 178.844099888733, 151.3117622857014, 83.9938331714895, 106.16936770914013, 92.59392057390494, 86.32783085278301, 83.00414466163673, 85.91764624381953, 81.00298249161645, 82.09388452629385, 34.27933318750765, 5.47344428121554, 11.75052527882725, 10.763841814514429, 6.2500241863144135, 5.003975308137186, 20.502109695500444, 3.485151869294509, 31.51674109965394, 7.023011060852661, 7.43815397157589, 20.729380804344743, 11.538628702592518, 16.68528465995641, 2.998437430805372, 5.001375783283003, 7.6712315551923504, 5.813764508975368, 69.2980279789538, 2.5780528552122353, 16.061734527867557, 45.34363097232268, 2.8759903966750233, 2.822445400265807, 16.2685529033595, 3.252530967558475, 109.09897584535416, 23.34976037370154, 6.7824592867391384, 6.833754584247146, 34.38404436384587, 191.508577220904, 144.3657061421187, 135.39177234973596, 62.92331373810329, 194.0508730933685, 47.103405622912454, 59.84352746217001, 199.6329249759912, 69.87916648459858, 174.00160736956676, 111.76684269770907, 50.16957031228416, 158.26147483678625, 79.56774763141308, 117.64897655488626, 82.02168891700602, 67.63964942676243, 115.49744772074185, 71.27486772522168, 42.49837819201741, 156.445280256501, 81.61194731899668, 74.89748720099641, 85.53321384687155, 53.32565172041926, 85.67300175349077, 78.65904991272573, 74.87839560862471, 66.356253765893, 63.90049592953337, 55.553185649248135, 64.64295635536801, 64.33279939336789, 63.05918359404921, 24.00735894445148, 14.607975284836812, 30.864192513137745, 7.2258995433996995, 9.208516792284518, 14.251268372455568, 14.941004222347713, 23.20657997548704, 87.05876739825635, 16.602590828961965, 6.464661763476684, 13.652522694176279, 9.097078193135589, 254.21322457715675, 5.395406371453613, 5.234714386020775, 25.36352335445293, 11.026960219387822, 4.2095187598708295, 11.781536205606152, 24.70589577573556, 29.524896134241896, 54.66483811270566, 41.7422997345279, 8.132563033947793, 5.124608827474985, 4.342736657597418, 4.345975503052613, 41.000793187080355, 7.73079804744355, 17.416131778831968, 40.987783256283485, 10.399183328084876, 387.9083217055568, 20.63091617657462, 33.690910535996125, 29.87672711201059, 44.11822006000139, 272.57091879373826, 239.55982239273362, 72.12910936293484, 27.89288499066272, 53.64220845799338, 129.48225986917143, 90.5529764465083, 101.71695997457954, 145.00363544310312, 183.6994690841031, 180.01800827793625, 92.76417374119102, 340.15499755106725, 209.93353954793636, 204.60104984152713, 118.78656442381785, 124.15382662298396, 204.2766718757239, 103.0975846413584, 162.4913528350543, 112.51202381837321, 99.96815947319702, 113.91775093214798, 113.15944082056657, 126.6481529395521, 189.00633068974685, 138.1286692988656, 107.37988754213552, 113.03320457190445, 97.10770042912961, 108.68951919603542, 108.26026834420509, 98.28479790712821, 10.524532052497666, 23.772445161600128, 18.385756288916692, 7.530291714399783, 9.906683922430005, 19.44703956148061, 5.672802234586136, 6.435306121167093, 69.88004337799569, 13.116279740451285, 97.90689963218489, 4.531932666256714, 4.405353391305339, 28.846538567023536, 8.705638765896271, 7.249837979535017, 11.03275470071751, 12.043571159950018, 5.14782478679852, 8.739638721595648, 4.40276932625034, 10.432055366014842, 4.60538979006531, 6.809055323939875, 10.972194524719818, 3.318332671142658, 7.7148579337528185, 5.409121545114774, 2.7436125412283645, 4.610669105675247, 13.242965069264141, 20.797910315183792, 8.594483485605702, 251.9348023776755, 366.54699609123855, 183.4740744067815, 54.12022517353702, 23.320199566052274, 61.427710268971325, 85.19703083293213, 347.05534548609, 125.74622529053805, 40.67152359554935, 32.54967484545217, 203.4452253095143, 111.1033298635411, 80.24273267641765, 74.50177487073285, 60.333371262184436, 79.67967562035597, 127.58565995570771, 50.59306988331996, 57.82741202525575, 73.37697901951131, 102.47152169069682, 90.16473967128545, 55.07761557459359, 54.83590399954612, 65.55444619670705, 62.63753622909, 62.48112388886774, 49.0378413210925, 50.14202851226376, 46.2627652790185, 5.847137833831115, 5.836413962990416, 5.8350014157259, 4.549583405016661, 31.075582373353946, 18.21883304905586, 20.59963890420953, 6.305640231920513, 7.680316085987188, 55.37702044654742, 14.433049720568214, 12.518225714324517, 11.570102058039616, 5.713752118369934, 10.407606469061761, 10.422639522906818, 11.249057480242708, 6.389442144106172, 8.620441748222804, 23.34929244314469, 12.446673015145787, 6.906587969312898, 11.515262847862028, 20.70939043237137, 3.7732487339354095, 5.149836096047098, 5.94773313140663, 4.410008069323944, 17.418932337595056, 12.991973701096923, 18.10668149604089, 14.756622784078534, 17.549307578017444, 19.332087397052284, 27.275235969778382, 33.9127459568686, 19.427553659791542, 25.527884193854003, 121.08059795889193, 42.68472817774229, 135.53144629719165, 109.74405863279515, 109.81816906080996, 66.60493828229396, 59.89453563436855, 414.272112392486, 34.164330807551906, 213.7845553310724, 25.584095742002443, 49.68153379147443, 257.88945069557946, 245.1638129117566, 62.85483365225392, 344.5905636606952, 58.350975002718044, 99.44915933607902, 60.51827473048914, 500.44096710435986, 90.24745151641562, 171.28064573595498, 121.73871861209041, 58.103285753732806, 126.07305070193965, 261.071486779878, 303.0221833355685, 331.59749334249824, 305.35337823311846, 319.47566755549326, 89.63319554721689, 166.515320149069, 168.05685047248866, 219.3911972018956, 129.0186101860011, 113.46855464255725, 189.40524908860147, 159.69667617138802, 171.20954317198587, 158.4003870298275, 159.13891791518094, 149.99589686512027, 180.6676212704775, 176.74242553226628, 144.2456127757592, 157.61510056891927, 154.3811119884092, 146.68054556217407, 140.01667290000003, 135.3219903422984, 136.87693072625513, 6.1348457417519695, 9.853646039063362, 9.267808865034748, 12.60975271100707, 9.46976593900501, 12.76869662206394, 6.782239908796408, 13.298998490608657, 5.803092208794531, 13.119567643487647, 13.523499044311288, 7.06839450298243, 15.331450232850717, 13.62734587311558, 9.788219655685177, 27.240114785280728, 9.56228366210673, 5.801112440456193, 13.377305013882149, 4.2330125583778875, 6.194564440071062, 9.903204083189376, 3.8650279708626236, 11.810800160848542, 18.320755499523404, 51.03993221377114, 26.251671231852303, 18.57245781140156, 9.001564097972407, 5.189453307579802, 17.66819280001746, 44.709690669500496, 30.83429750779632, 233.01233260278602, 586.3661474251578, 93.28920302343928, 46.121745987530716, 199.41577949550103, 64.878914890933, 51.19399010832764, 34.120326484856044, 142.73582112909233, 171.846514206004, 235.624805572156, 51.3997410912966, 158.97745066166163, 83.7008373152717, 246.7703889063722, 37.164093927682394, 112.24682282411521, 270.6814218700486, 209.98376390737974, 210.92281763229258, 142.42083869249646, 114.54686678359151, 78.71654149148144, 51.22679819087391, 210.10365074162326, 152.36709820816287, 211.22833168663067, 195.5886621473682, 229.34594311382497, 184.09410129565103, 272.9954889729271, 208.795578550174, 194.7671212599812, 140.9623213602166, 133.9276722026561, 126.62318795305539, 175.84293064564395, 213.49762410722894, 132.55895267645366, 189.53418378577877, 148.14958262072795, 142.7524253038097, 140.87351732020707, 22.133265398206444, 13.51214844359372, 12.530153922943574, 18.2726645933454, 8.693689578935322, 16.30842916851277, 8.67900390369937, 8.633515217301568, 7.706983353450774, 14.365000478112412, 7.70368353778829, 6.744435895147048, 6.753190621936943, 6.708551096890295, 5.790258379474695, 5.766088459129858, 5.7545626780441985, 5.783237969689156, 5.760378546116099, 6.700405231463228, 5.738590840212499, 4.7832696182665915, 4.760371665581482, 7.6128628162509, 4.748401785783219, 12.289616676400778, 46.80222899728191, 11.214522640020146, 10.1160850313558, 12.599900741074332, 94.24939477336004, 158.65559940153486, 28.537505456715298, 266.01154361414154, 24.562302849826555, 11.671315681120749, 49.958890757858576, 63.06130744287563, 82.18313135952671, 222.78981283279614, 225.0991910294697, 25.34797836355798, 267.60030574455607, 231.02720720731554, 58.90420687013976, 62.33221902766109, 31.872678676974495, 648.2148843179823, 322.9084486374902, 84.94291893178817, 29.210582682245747, 442.9597433827369, 1072.4467213699952, 536.639410204027, 461.10976170102765, 463.3557412577431, 120.29036991337952, 98.60519606049387, 250.1261123858395, 156.1601458721285, 104.28742083762178, 531.9699089422588, 318.0445659775701, 350.1124676096178, 145.10259894600162, 355.05447919738805, 468.7425815833977, 377.37011910572227, 450.13728705431237, 372.3982575953515, 408.1608982884189, 294.7925469754837, 434.7707415729553, 224.88105947550935, 375.4918451716504, 413.3674710380206, 510.22926939080185, 352.86446824554866, 442.9442344012118, 348.5386304405036, 404.9517395987469, 335.0356934964624, 255.39885787146707, 272.62927145468444, 284.9055388076831, 267.5354308312519], \"Total\": [3054.0, 1476.0, 1420.0, 923.0, 2144.0, 897.0, 1605.0, 1351.0, 2512.0, 915.0, 1437.0, 705.0, 781.0, 603.0, 1308.0, 388.0, 2223.0, 1545.0, 1382.0, 470.0, 1199.0, 1487.0, 2688.0, 959.0, 1154.0, 430.0, 925.0, 1284.0, 531.0, 687.0, 9.936100804021565, 10.993834706411512, 10.845201845069809, 6.527053410719011, 6.485407742858048, 36.14944669813471, 11.721139955786692, 21.252140161054644, 14.685525966906152, 8.42740792476891, 27.785112860776962, 388.9227764802241, 6.375812902875321, 128.2253973948734, 17.104739223861028, 18.09932257384358, 11.799662267991843, 47.81916263158231, 6.322000048958997, 11.514062394385965, 9.401071500386006, 230.0196887097654, 17.98311176294552, 9.476439808503383, 9.668493316508547, 35.537902347060346, 19.15033206805936, 5.236696341644972, 20.89933478983427, 8.35516570903507, 58.14081872597424, 242.00310410802228, 434.00194316987404, 34.738012203828944, 130.0963869917617, 73.42388903747438, 109.47099061941276, 464.1674378671704, 465.3896261100068, 44.435493714296065, 478.43757652350337, 395.3788969855793, 445.20241566950773, 1351.0457727991402, 281.46985921663537, 687.0517526941368, 229.935155085761, 120.0515725492181, 620.0053560706806, 1545.6371489433297, 602.6266325510853, 925.466184152702, 1122.922839087683, 2512.3668611858266, 187.687938366806, 494.2316264730846, 1420.0952073663705, 1487.0513599904218, 1382.2945045055708, 1014.3023981234418, 1284.9868141391914, 923.2313294160865, 226.93684003100574, 307.8067357771549, 972.7073984559581, 1308.6009261947297, 2688.957566266738, 1035.6576840052262, 44.890461383325935, 6.181539284147604, 7.172546412774903, 22.409181479092542, 5.1237289624837, 6.177328629796687, 11.16046667700908, 13.15343054912795, 8.128439482104318, 24.76563062821194, 13.337960063638665, 11.083608917020108, 6.082212473325049, 33.73295796216653, 37.763479307612734, 20.06980243399241, 23.269335654249197, 6.079198918011368, 5.081429319619877, 5.076031083437296, 11.075639749616185, 7.034899857929315, 15.250719894494857, 6.175836755540129, 13.045641817304723, 49.272125393782645, 11.047501327307739, 20.33546667605658, 6.043677064550629, 8.28257432647017, 54.781367829751126, 15.256634117298635, 192.32183051091047, 45.80993222375877, 236.61188902168044, 430.58615186446536, 61.37171307404256, 69.19078304904232, 31.151264325612054, 87.31636449717351, 60.98547085296079, 267.5023290631664, 96.18248318339485, 288.36474267673213, 288.20071747475623, 602.6266325510853, 897.6106901640281, 349.44180151284894, 376.97203577643967, 520.7451120653931, 1284.9868141391914, 449.3492279615033, 687.0517526941368, 282.4757123657965, 1382.2945045055708, 121.68654516228463, 183.28116773718693, 2688.957566266738, 925.466184152702, 119.70673394978641, 94.57695964354131, 188.14056563899453, 738.1595474276342, 1014.3023981234418, 693.2717435244572, 335.20623494382545, 1145.9542939425469, 572.1688971400722, 648.4576748139948, 431.5188534784344, 1414.1488406708402, 833.4151000054964, 715.7539396919481, 1487.0513599904218, 568.7309936107431, 936.6374990813607, 1011.1406024336723, 14.05582515185067, 36.95087818069479, 20.013665743890645, 13.058483014970752, 8.081887196286221, 18.005658131764235, 16.094107576547053, 14.998259750067186, 8.055187270946588, 11.081581723296187, 29.869160365353533, 10.969840303860703, 6.08383587902661, 8.1117695968702, 5.054618176913232, 16.027266371285133, 12.000630372773445, 6.004972557788086, 10.014947561805903, 25.20648231125235, 92.56116803899361, 17.132426741467338, 7.994083242620063, 180.05746963878622, 14.229866596727009, 6.119525876092159, 6.119572843254429, 6.129594822857504, 22.91657112922886, 64.26193433424466, 733.337443423863, 38.75317114515469, 20.15178949995573, 39.753321477367585, 1437.8351163929708, 215.79239506534762, 218.0510573918789, 277.45252393424056, 54.877790142242915, 504.49372155907673, 604.6753090638032, 109.71427024292782, 51.224539046817306, 348.6858547616, 77.79433875840374, 959.2161462122904, 485.949969848916, 960.022938479977, 3054.854738804986, 1605.5921685706444, 1465.4067252082373, 956.9712608425468, 714.1540657414469, 661.2970055374536, 116.94998395645851, 116.24794109707501, 1650.454484541768, 723.9073695174329, 117.92678781276136, 815.5215311574215, 2512.3668611858266, 1414.1488406708402, 1527.1259933825534, 470.40431811071426, 721.5454599526927, 2223.748466078315, 471.01493874519196, 1647.2635883832395, 2144.562717772137, 1466.9244487240069, 972.4905123046326, 658.2457638215601, 574.6640977298041, 2688.957566266738, 1545.6371489433297, 881.0354153581977, 5.177152486836927, 10.357150733493826, 43.67991910938042, 25.541357940944227, 20.461270071210276, 19.577513687226144, 73.77767540141498, 54.637917199802814, 7.062617981782772, 72.8838736204804, 7.057235047071668, 14.39346171500258, 7.099555949492999, 8.251165309268039, 19.858557759200288, 22.52811934911744, 9.272258361672817, 13.432741719003193, 41.944769638865495, 7.280540045758038, 8.047087280458877, 923.2313294160865, 19.45867785531852, 14.202060820194808, 76.24551108027984, 8.049444532145632, 470.33687848415565, 23.01694877967067, 7.041648978145968, 6.086737120233613, 13.194987207514014, 67.94034702381657, 491.9636396204679, 385.9134559151872, 184.63482131342118, 642.2437847136157, 146.43033682187755, 1420.0952073663705, 705.1124570401302, 224.8107726271271, 2144.562717772137, 281.23925711303644, 253.62209765864782, 531.3652582790029, 490.81756124638343, 583.7324075649401, 854.1731590536097, 133.48421421714232, 1487.0513599904218, 340.7525039058896, 1545.6371489433297, 840.832484674024, 972.4905123046326, 630.098231350539, 2512.3668611858266, 960.022938479977, 1466.9244487240069, 681.6736593672408, 494.2316264730846, 1605.5921685706444, 1414.1488406708402, 1145.9542939425469, 1035.6576840052262, 1284.9868141391914, 1036.0079900585583, 10.849800750986786, 8.903305221467704, 5.97734579243655, 5.94730217939369, 5.953595074828735, 4.995466556976244, 4.974880532489033, 4.946133134706971, 6.86773724474693, 6.931467410115722, 7.877125123716613, 13.77580512893406, 7.857169557469653, 21.61081678420128, 32.376095429197434, 19.636616820406243, 5.949720028243615, 15.713010252814696, 6.912806057441981, 10.834030135393562, 4.9432614348182, 7.91875123767001, 27.47257043889234, 6.983771548533213, 36.41291277066744, 5.928783767513089, 16.852262180859974, 5.002939280384371, 8.864675155981347, 5.889127682231727, 9.938661649020611, 412.6586241836953, 149.1412708349598, 14.723874180681461, 19.75573543638104, 218.07911900147786, 29.574000186860367, 1449.3875636292291, 64.48416360042303, 351.5329948836945, 174.03494725529404, 94.44185111521145, 477.7011400740323, 314.82358549134733, 231.97833184642687, 125.94808383941722, 66.50331590344713, 335.39985833833293, 1172.269885759358, 430.9022740938031, 501.5342514565558, 422.46494581296133, 103.45999607344902, 1087.74202116136, 448.16292514449344, 1011.1406024336723, 763.7750425899525, 590.1445524975055, 510.4772918753881, 732.5386321810834, 343.8703556998267, 537.5591214554141, 625.6525012958654, 667.2184275994925, 358.13235366070654, 773.5956150017507, 747.5891138263148, 763.376437786893, 833.4151000054964, 1208.8781055772083, 846.8199584002421, 915.0883661599673, 1351.7335641155917, 803.6149942717776, 1154.5529497134248, 2688.957566266738, 1199.0913304157211, 1382.2945045055708, 1284.9868141391914, 2223.748466078315, 81.74446570871274, 5.91411867901584, 5.948408591221065, 8.880318819283103, 6.900708005639817, 9.865538403264933, 13.747370199715562, 6.8976562886102135, 10.777708406575725, 5.9869209265582235, 21.479212327176107, 11.74994824495819, 20.491101049801898, 7.861246166706847, 10.740994148300498, 4.957750203662106, 5.014328947362116, 18.63921005156009, 11.847609796197752, 8.83653785962377, 5.910418187767399, 8.962051226109667, 12.824658028407855, 14.654620026089557, 4.927575222986138, 7.9672467072238415, 9.840338204221425, 6.902030527947005, 14.812153502636072, 10.82479141814396, 22.48516116300509, 232.971100681124, 13.038652720912017, 151.10580141264535, 26.302241774458693, 1476.1433617815212, 936.6374990813607, 20.823192772152304, 574.6640977298041, 544.458652660681, 46.180718771142914, 171.446846419391, 59.98555649188844, 763.376437786893, 633.7437972680632, 431.5188534784344, 865.6309321847898, 1172.269885759358, 269.43748306576583, 1449.3875636292291, 92.4848523783523, 77.44778625967709, 747.5891138263148, 343.8703556998267, 1011.1406024336723, 177.7053882267061, 732.5386321810834, 1087.74202116136, 773.5956150017507, 531.8752225332065, 493.55859128260107, 357.06436634895823, 763.9427047490833, 326.3301245021498, 481.46938597210954, 1351.7335641155917, 3054.854738804986, 2223.748466078315, 667.2184275994925, 1351.0457727991402, 1042.7573675136025, 803.6149942717776, 705.8904580124757, 1650.454484541768, 846.8199584002421, 2688.957566266738, 39.67075125615057, 6.4427821701896795, 13.966849427881824, 12.90076932517684, 8.526563460678908, 7.418326969604154, 30.936983450422147, 5.305424634041569, 48.119827642617764, 11.531342556974638, 12.600574936187162, 35.24681446389767, 19.737012921498316, 29.468665748165236, 5.334893426434077, 9.405292721038888, 14.489271842465028, 11.399360108924116, 137.6779019897567, 5.195446735546391, 33.58978402486966, 96.82230065650586, 6.219263605298101, 6.195654494912542, 36.12140510253336, 7.2523957859208625, 253.55771467866003, 56.220328759852485, 16.59530799055331, 17.370289357297295, 95.22172385650549, 603.1874303690823, 531.8752225332065, 537.5591214554141, 221.69086993470404, 915.0883661599673, 176.69500048527306, 240.2426531601542, 1154.5529497134248, 296.25073580771823, 1199.0913304157211, 679.520749654336, 216.3163982607473, 1308.6009261947297, 477.7011400740323, 897.6106901640281, 520.7451120653931, 410.64137596724703, 1122.922839087683, 483.61623528380323, 189.4363031240875, 2688.957566266738, 715.7539396919481, 712.3965707405736, 1014.3023981234418, 344.274570107754, 1527.1259933825534, 1647.2635883832395, 1382.2945045055708, 881.0354153581977, 972.7073984559581, 453.95446535768923, 1545.6371489433297, 1487.0513599904218, 1414.1488406708402, 24.17313433364209, 14.758446809235044, 31.461255035948565, 7.395495592977995, 9.461277199830153, 14.70683310403471, 15.730823965994205, 25.070994142111058, 97.69679947213139, 18.762247862357714, 7.343877684939297, 15.639867400504508, 10.48029410363954, 295.18673231551173, 6.31333511385673, 6.317711329541828, 31.05006300039124, 13.543511681068262, 5.182248236985908, 14.539131866043414, 31.049966665856576, 37.17252449049528, 71.1524940007385, 56.570040230616506, 11.359769847764296, 7.248376502002173, 6.174303636589431, 6.1877491338716375, 58.952403774503836, 11.320751646989716, 25.650835284596955, 63.646686787058954, 15.434445796716798, 781.0713969126655, 32.84700764067948, 61.05079541892005, 54.00034415213429, 88.04016280618066, 959.2161462122904, 815.5215311574215, 176.85149220015205, 53.02301077404997, 146.34088210003657, 561.9818780836472, 335.3956953376945, 405.18189606806504, 714.1540657414469, 1042.7573675136025, 1036.0079900585583, 357.06436634895823, 3054.854738804986, 1465.4067252082373, 1605.5921685706444, 672.8148702619842, 763.376437786893, 2223.748466078315, 559.1890136510463, 1449.3875636292291, 677.0800719618487, 537.5591214554141, 723.9073695174329, 732.5386321810834, 956.9712608425468, 2512.3668611858266, 1351.7335641155917, 782.3727773069024, 960.022938479977, 865.6309321847898, 2144.562717772137, 2688.957566266738, 1647.2635883832395, 10.676285027429543, 24.38060922587572, 19.02855019700085, 8.48613641430175, 11.574135254604418, 24.04099814628047, 7.354800542650311, 8.398565458433794, 93.34060579931678, 17.663813200968022, 133.4228808442286, 6.286071734942278, 6.2827576511706535, 42.398371606777616, 13.433785872830068, 11.360542513424368, 17.607131623292986, 19.602867109199806, 8.405757122810574, 14.374207636580085, 7.332314820399047, 18.594288158968297, 8.259271861703782, 12.280942073344292, 20.38992637018052, 6.181295464386135, 14.47859585165242, 10.232447177249366, 5.190797930804396, 9.199153634264619, 26.743693400195873, 44.004192681866854, 17.812339712845912, 897.6106901640281, 1476.1433617815212, 705.8904580124757, 177.7053882267061, 62.81194247812935, 252.0759476827811, 403.2195535776682, 3054.854738804986, 721.5454599526927, 151.10580141264535, 110.68947369973604, 2223.748466078315, 922.9665557209054, 559.1890136510463, 544.458652660681, 410.64137596724703, 693.2717435244572, 1650.454484541768, 344.274570107754, 450.80567125911995, 763.9427047490833, 1605.5921685706444, 1351.7335641155917, 472.9337220213457, 531.8752225332065, 1351.0457727991402, 1284.9868141391914, 1487.0513599904218, 575.4184166164837, 658.9203853552277, 1414.1488406708402, 5.964345347469721, 5.963058851970237, 5.963086976243667, 4.819670501121151, 33.27208424856763, 19.598848781204925, 22.554496219949517, 6.931796629039435, 8.833811494229451, 63.84225690177618, 16.653128126631486, 14.718470400388478, 13.861522179478452, 6.92276380454673, 12.773660416374241, 12.793343728705793, 13.840691366343396, 7.896910001374909, 10.815027701880464, 29.59048720056583, 15.825088991807947, 8.858886032685929, 14.828948493731254, 26.82455129337012, 4.984414560945956, 6.905704476510288, 7.993234632633363, 5.9508018306188655, 23.690957135765498, 17.716062559580276, 25.49585625892776, 20.66051052545426, 24.858068636535563, 27.579522529836677, 40.45371067121894, 52.51362518692779, 28.55375888285113, 40.28172418747214, 270.94414642457537, 76.05693473703151, 321.0266596441877, 255.89345148735316, 256.27246901382654, 136.18810887715657, 121.87795731577536, 1647.2635883832395, 61.31824550941965, 712.3965707405736, 42.13058513057781, 104.29223130028818, 1025.2838222951927, 956.9712608425468, 145.87805293845105, 1605.5921685706444, 132.68212547881814, 282.1531522010164, 142.3760134708923, 3054.854738804986, 257.6536558595172, 677.0800719618487, 413.7755795146476, 136.18815684504168, 483.61623528380323, 1650.454484541768, 2144.562717772137, 2512.3668611858266, 2223.748466078315, 2688.957566266738, 291.4320582661813, 881.0354153581977, 936.6374990813607, 1545.6371489433297, 582.8057055360299, 471.01493874519196, 1351.7335641155917, 960.022938479977, 1145.9542939425469, 972.4905123046326, 1035.6576840052262, 915.0883661599673, 1465.4067252082373, 1414.1488406708402, 870.5466451915221, 1208.8781055772083, 1466.9244487240069, 1308.6009261947297, 1284.9868141391914, 925.466184152702, 1351.0457727991402, 6.255227141691186, 10.330966403300549, 10.293275935969463, 14.364904172456527, 11.277849589434624, 15.379114185730705, 8.255391102148526, 16.352978192201384, 7.1940129855134884, 16.39228002591697, 17.292028482654832, 9.224455406454712, 20.462861586577606, 18.397144152729084, 13.262115130539826, 37.33260561886663, 13.21713615467704, 8.145062132846203, 19.243453327798296, 6.16631540175665, 9.17993601332192, 15.188930352551958, 6.039547926849834, 18.476077301360533, 28.674446942183994, 79.92589170570707, 41.24805263801405, 29.301403252118213, 14.273295381737533, 8.260286499083739, 28.214604731946103, 72.38327296439088, 51.252882961560765, 478.43757652350337, 1420.0952073663705, 187.687938366806, 86.0838676896652, 470.33687848415565, 130.8591358904626, 98.7487481617319, 64.03597782407897, 385.9134559151872, 494.2316264730846, 747.5891138263148, 108.1306616056435, 490.81756124638343, 212.95757814093264, 923.2313294160865, 72.85761516449887, 335.39985833833293, 1172.269885759358, 840.832484674024, 846.8199584002421, 491.9636396204679, 388.9227764802241, 224.8107726271271, 120.0515725492181, 1011.1406024336723, 642.2437847136157, 1087.74202116136, 1035.6576840052262, 1449.3875636292291, 1042.7573675136025, 2144.562717772137, 1487.0513599904218, 1351.0457727991402, 747.8514554933051, 689.4121505357257, 625.6525012958654, 1382.2945045055708, 2512.3668611858266, 763.7750425899525, 2688.957566266738, 1466.9244487240069, 1208.8781055772083, 1647.2635883832395, 22.339393321786044, 13.645097323595815, 12.670165899144822, 18.481495814027028, 8.81235732595325, 16.531864358514362, 8.799985445416937, 8.756813085720735, 7.8348909910130216, 14.611636116860506, 7.837073944922819, 6.8629958597683105, 6.8729385089706305, 6.828838274753938, 5.907446376168551, 5.883416024620032, 5.879986012902974, 5.909383719685427, 5.888676467001533, 6.854949954495799, 5.877132740470395, 4.899575491326661, 4.878970951758768, 7.806948463960363, 4.875229437544899, 12.671574584273156, 48.47713306331867, 11.7195738094162, 10.737707079047093, 13.637368004822607, 108.83404795764196, 193.09382733263791, 32.064747340960814, 347.3467499272782, 28.190456673693706, 12.681058854798565, 61.82430412184609, 80.13893662277437, 108.13585596658187, 329.650469123456, 349.44180151284894, 30.195231580879867, 430.58615186446536, 365.23164656997585, 78.4765454895034, 84.66055531150914, 39.60108233366621, 1308.6009261947297, 586.7181699432158, 124.28822986077799, 36.63955483501668, 925.466184152702, 2688.957566266738, 1199.0913304157211, 1014.3023981234418, 1025.2838222951927, 199.20834138109373, 157.184779781176, 504.8818025476729, 290.0469321940567, 174.81486439877628, 1382.2945045055708, 747.8514554933051, 854.1731590536097, 273.82215260902024, 972.7073984559581, 1487.0513599904218, 1122.922839087683, 1466.9244487240069, 1145.9542939425469, 1351.0457727991402, 833.4151000054964, 1527.1259933825534, 553.1853260521772, 1284.9868141391914, 1545.6371489433297, 2512.3668611858266, 1351.7335641155917, 2144.562717772137, 1414.1488406708402, 2223.748466078315, 1647.2635883832395, 738.1595474276342, 1208.8781055772083, 3054.854738804986, 1650.454484541768], \"Category\": [\"Default\", \"Default\", \"Default\", \"Default\", \"Default\", \"Default\", \"Default\", \"Default\", \"Default\", \"Default\", \"Default\", \"Default\", \"Default\", \"Default\", \"Default\", \"Default\", \"Default\", \"Default\", \"Default\", \"Default\", \"Default\", \"Default\", \"Default\", \"Default\", \"Default\", \"Default\", \"Default\", \"Default\", \"Default\", \"Default\", \"Topic1\", \"Topic1\", \"Topic1\", \"Topic1\", \"Topic1\", \"Topic1\", \"Topic1\", \"Topic1\", \"Topic1\", \"Topic1\", \"Topic1\", \"Topic1\", \"Topic1\", \"Topic1\", \"Topic1\", \"Topic1\", \"Topic1\", \"Topic1\", \"Topic1\", \"Topic1\", \"Topic1\", \"Topic1\", \"Topic1\", \"Topic1\", \"Topic1\", \"Topic1\", \"Topic1\", \"Topic1\", \"Topic1\", \"Topic1\", \"Topic1\", \"Topic1\", \"Topic1\", \"Topic1\", \"Topic1\", \"Topic1\", \"Topic1\", \"Topic1\", \"Topic1\", \"Topic1\", \"Topic1\", \"Topic1\", \"Topic1\", \"Topic1\", \"Topic1\", \"Topic1\", \"Topic1\", \"Topic1\", \"Topic1\", \"Topic1\", \"Topic1\", \"Topic1\", \"Topic1\", \"Topic1\", \"Topic1\", \"Topic1\", \"Topic1\", \"Topic1\", \"Topic1\", \"Topic1\", \"Topic1\", \"Topic1\", \"Topic1\", \"Topic1\", \"Topic1\", \"Topic1\", \"Topic1\", \"Topic1\", \"Topic2\", \"Topic2\", \"Topic2\", \"Topic2\", \"Topic2\", \"Topic2\", \"Topic2\", \"Topic2\", \"Topic2\", \"Topic2\", \"Topic2\", \"Topic2\", \"Topic2\", \"Topic2\", \"Topic2\", \"Topic2\", \"Topic2\", \"Topic2\", \"Topic2\", \"Topic2\", \"Topic2\", \"Topic2\", \"Topic2\", \"Topic2\", \"Topic2\", \"Topic2\", \"Topic2\", \"Topic2\", \"Topic2\", \"Topic2\", \"Topic2\", \"Topic2\", \"Topic2\", \"Topic2\", \"Topic2\", \"Topic2\", \"Topic2\", \"Topic2\", \"Topic2\", \"Topic2\", \"Topic2\", \"Topic2\", \"Topic2\", \"Topic2\", \"Topic2\", \"Topic2\", \"Topic2\", \"Topic2\", \"Topic2\", \"Topic2\", \"Topic2\", \"Topic2\", \"Topic2\", \"Topic2\", \"Topic2\", \"Topic2\", \"Topic2\", \"Topic2\", \"Topic2\", \"Topic2\", \"Topic2\", \"Topic2\", \"Topic2\", \"Topic2\", \"Topic2\", \"Topic2\", \"Topic2\", \"Topic2\", \"Topic2\", \"Topic2\", \"Topic2\", \"Topic2\", \"Topic2\", \"Topic2\", \"Topic2\", \"Topic2\", \"Topic2\", \"Topic3\", \"Topic3\", \"Topic3\", \"Topic3\", \"Topic3\", \"Topic3\", \"Topic3\", \"Topic3\", \"Topic3\", \"Topic3\", \"Topic3\", \"Topic3\", \"Topic3\", \"Topic3\", \"Topic3\", \"Topic3\", \"Topic3\", \"Topic3\", \"Topic3\", \"Topic3\", \"Topic3\", \"Topic3\", \"Topic3\", \"Topic3\", \"Topic3\", \"Topic3\", \"Topic3\", \"Topic3\", \"Topic3\", \"Topic3\", \"Topic3\", \"Topic3\", \"Topic3\", \"Topic3\", \"Topic3\", \"Topic3\", \"Topic3\", \"Topic3\", \"Topic3\", \"Topic3\", \"Topic3\", \"Topic3\", \"Topic3\", \"Topic3\", \"Topic3\", \"Topic3\", \"Topic3\", \"Topic3\", \"Topic3\", \"Topic3\", \"Topic3\", \"Topic3\", \"Topic3\", \"Topic3\", \"Topic3\", \"Topic3\", \"Topic3\", \"Topic3\", \"Topic3\", \"Topic3\", \"Topic3\", \"Topic3\", \"Topic3\", \"Topic3\", \"Topic3\", \"Topic3\", \"Topic3\", \"Topic3\", \"Topic3\", \"Topic3\", \"Topic3\", \"Topic3\", \"Topic3\", \"Topic3\", \"Topic3\", \"Topic3\", \"Topic4\", \"Topic4\", \"Topic4\", \"Topic4\", \"Topic4\", \"Topic4\", \"Topic4\", \"Topic4\", \"Topic4\", \"Topic4\", \"Topic4\", \"Topic4\", \"Topic4\", \"Topic4\", \"Topic4\", \"Topic4\", \"Topic4\", \"Topic4\", \"Topic4\", \"Topic4\", \"Topic4\", \"Topic4\", \"Topic4\", \"Topic4\", \"Topic4\", \"Topic4\", \"Topic4\", \"Topic4\", \"Topic4\", \"Topic4\", \"Topic4\", \"Topic4\", \"Topic4\", \"Topic4\", \"Topic4\", \"Topic4\", \"Topic4\", \"Topic4\", \"Topic4\", \"Topic4\", \"Topic4\", \"Topic4\", \"Topic4\", \"Topic4\", \"Topic4\", \"Topic4\", \"Topic4\", \"Topic4\", \"Topic4\", \"Topic4\", \"Topic4\", \"Topic4\", \"Topic4\", \"Topic4\", \"Topic4\", \"Topic4\", \"Topic4\", \"Topic4\", \"Topic4\", \"Topic4\", \"Topic4\", \"Topic4\", \"Topic4\", \"Topic4\", \"Topic4\", \"Topic5\", \"Topic5\", \"Topic5\", \"Topic5\", \"Topic5\", \"Topic5\", \"Topic5\", \"Topic5\", \"Topic5\", \"Topic5\", \"Topic5\", \"Topic5\", \"Topic5\", \"Topic5\", \"Topic5\", \"Topic5\", \"Topic5\", \"Topic5\", \"Topic5\", \"Topic5\", \"Topic5\", \"Topic5\", \"Topic5\", \"Topic5\", \"Topic5\", \"Topic5\", \"Topic5\", \"Topic5\", \"Topic5\", \"Topic5\", \"Topic5\", \"Topic5\", \"Topic5\", \"Topic5\", \"Topic5\", \"Topic5\", \"Topic5\", \"Topic5\", \"Topic5\", \"Topic5\", \"Topic5\", \"Topic5\", \"Topic5\", \"Topic5\", \"Topic5\", \"Topic5\", \"Topic5\", \"Topic5\", \"Topic5\", \"Topic5\", \"Topic5\", \"Topic5\", \"Topic5\", \"Topic5\", \"Topic5\", \"Topic5\", \"Topic5\", \"Topic5\", \"Topic5\", \"Topic5\", \"Topic5\", \"Topic5\", \"Topic5\", \"Topic5\", \"Topic5\", \"Topic5\", \"Topic5\", \"Topic5\", \"Topic5\", \"Topic5\", \"Topic5\", \"Topic5\", \"Topic5\", \"Topic5\", \"Topic5\", \"Topic5\", \"Topic5\", \"Topic5\", \"Topic5\", \"Topic5\", \"Topic6\", \"Topic6\", \"Topic6\", \"Topic6\", \"Topic6\", \"Topic6\", \"Topic6\", \"Topic6\", \"Topic6\", \"Topic6\", \"Topic6\", \"Topic6\", \"Topic6\", \"Topic6\", \"Topic6\", \"Topic6\", \"Topic6\", \"Topic6\", \"Topic6\", \"Topic6\", \"Topic6\", \"Topic6\", \"Topic6\", \"Topic6\", \"Topic6\", \"Topic6\", \"Topic6\", \"Topic6\", \"Topic6\", \"Topic6\", \"Topic6\", \"Topic6\", \"Topic6\", \"Topic6\", \"Topic6\", \"Topic6\", \"Topic6\", \"Topic6\", \"Topic6\", \"Topic6\", \"Topic6\", \"Topic6\", \"Topic6\", \"Topic6\", \"Topic6\", \"Topic6\", \"Topic6\", \"Topic6\", \"Topic6\", \"Topic6\", \"Topic6\", \"Topic6\", \"Topic6\", \"Topic6\", \"Topic6\", \"Topic6\", \"Topic6\", \"Topic6\", \"Topic6\", \"Topic6\", \"Topic6\", \"Topic6\", \"Topic6\", \"Topic6\", \"Topic6\", \"Topic6\", \"Topic6\", \"Topic6\", \"Topic6\", \"Topic6\", \"Topic6\", \"Topic6\", \"Topic6\", \"Topic6\", \"Topic6\", \"Topic6\", \"Topic7\", \"Topic7\", \"Topic7\", \"Topic7\", \"Topic7\", \"Topic7\", \"Topic7\", \"Topic7\", \"Topic7\", \"Topic7\", \"Topic7\", \"Topic7\", \"Topic7\", \"Topic7\", \"Topic7\", \"Topic7\", \"Topic7\", \"Topic7\", \"Topic7\", \"Topic7\", \"Topic7\", \"Topic7\", \"Topic7\", \"Topic7\", \"Topic7\", \"Topic7\", \"Topic7\", \"Topic7\", \"Topic7\", \"Topic7\", \"Topic7\", \"Topic7\", \"Topic7\", \"Topic7\", \"Topic7\", \"Topic7\", \"Topic7\", \"Topic7\", \"Topic7\", \"Topic7\", \"Topic7\", \"Topic7\", \"Topic7\", \"Topic7\", \"Topic7\", \"Topic7\", \"Topic7\", \"Topic7\", \"Topic7\", \"Topic7\", \"Topic7\", \"Topic7\", \"Topic7\", \"Topic7\", \"Topic7\", \"Topic7\", \"Topic7\", \"Topic7\", \"Topic7\", \"Topic7\", \"Topic7\", \"Topic7\", \"Topic7\", \"Topic7\", \"Topic7\", \"Topic8\", \"Topic8\", \"Topic8\", \"Topic8\", \"Topic8\", \"Topic8\", \"Topic8\", \"Topic8\", \"Topic8\", \"Topic8\", \"Topic8\", \"Topic8\", \"Topic8\", \"Topic8\", \"Topic8\", \"Topic8\", \"Topic8\", \"Topic8\", \"Topic8\", \"Topic8\", \"Topic8\", \"Topic8\", \"Topic8\", \"Topic8\", \"Topic8\", \"Topic8\", \"Topic8\", \"Topic8\", \"Topic8\", \"Topic8\", \"Topic8\", \"Topic8\", \"Topic8\", \"Topic8\", \"Topic8\", \"Topic8\", \"Topic8\", \"Topic8\", \"Topic8\", \"Topic8\", \"Topic8\", \"Topic8\", \"Topic8\", \"Topic8\", \"Topic8\", \"Topic8\", \"Topic8\", \"Topic8\", \"Topic8\", \"Topic8\", \"Topic8\", \"Topic8\", \"Topic8\", \"Topic8\", \"Topic8\", \"Topic8\", \"Topic8\", \"Topic8\", \"Topic8\", \"Topic8\", \"Topic8\", \"Topic8\", \"Topic8\", \"Topic8\", \"Topic8\", \"Topic8\", \"Topic8\", \"Topic8\", \"Topic8\", \"Topic8\", \"Topic8\", \"Topic9\", \"Topic9\", \"Topic9\", \"Topic9\", \"Topic9\", \"Topic9\", \"Topic9\", \"Topic9\", \"Topic9\", \"Topic9\", \"Topic9\", \"Topic9\", \"Topic9\", \"Topic9\", \"Topic9\", \"Topic9\", \"Topic9\", \"Topic9\", \"Topic9\", \"Topic9\", \"Topic9\", \"Topic9\", \"Topic9\", \"Topic9\", \"Topic9\", \"Topic9\", \"Topic9\", \"Topic9\", \"Topic9\", \"Topic9\", \"Topic9\", \"Topic9\", \"Topic9\", \"Topic9\", \"Topic9\", \"Topic9\", \"Topic9\", \"Topic9\", \"Topic9\", \"Topic9\", \"Topic9\", \"Topic9\", \"Topic9\", \"Topic9\", \"Topic9\", \"Topic9\", \"Topic9\", \"Topic9\", \"Topic9\", \"Topic9\", \"Topic9\", \"Topic9\", \"Topic9\", \"Topic9\", \"Topic9\", \"Topic9\", \"Topic9\", \"Topic9\", \"Topic9\", \"Topic9\", \"Topic9\", \"Topic9\", \"Topic9\", \"Topic9\", \"Topic10\", \"Topic10\", \"Topic10\", \"Topic10\", \"Topic10\", \"Topic10\", \"Topic10\", \"Topic10\", \"Topic10\", \"Topic10\", \"Topic10\", \"Topic10\", \"Topic10\", \"Topic10\", \"Topic10\", \"Topic10\", \"Topic10\", \"Topic10\", \"Topic10\", \"Topic10\", \"Topic10\", \"Topic10\", \"Topic10\", \"Topic10\", \"Topic10\", \"Topic10\", \"Topic10\", \"Topic10\", \"Topic10\", \"Topic10\", \"Topic10\", \"Topic10\", \"Topic10\", \"Topic10\", \"Topic10\", \"Topic10\", \"Topic10\", \"Topic10\", \"Topic10\", \"Topic10\", \"Topic10\", \"Topic10\", \"Topic10\", \"Topic10\", \"Topic10\", \"Topic10\", \"Topic10\", \"Topic10\", \"Topic10\", \"Topic10\", \"Topic10\", \"Topic10\", \"Topic10\", \"Topic10\", \"Topic10\", \"Topic10\", \"Topic10\", \"Topic10\", \"Topic10\", \"Topic10\", \"Topic10\", \"Topic10\", \"Topic10\", \"Topic10\", \"Topic10\", \"Topic10\", \"Topic10\", \"Topic10\", \"Topic10\", \"Topic10\", \"Topic10\", \"Topic10\", \"Topic10\", \"Topic10\", \"Topic10\", \"Topic10\", \"Topic10\", \"Topic10\", \"Topic10\", \"Topic10\", \"Topic10\", \"Topic10\", \"Topic10\", \"Topic10\", \"Topic10\", \"Topic10\", \"Topic10\", \"Topic10\", \"Topic10\", \"Topic11\", \"Topic11\", \"Topic11\", \"Topic11\", \"Topic11\", \"Topic11\", \"Topic11\", \"Topic11\", \"Topic11\", \"Topic11\", \"Topic11\", \"Topic11\", \"Topic11\", \"Topic11\", \"Topic11\", \"Topic11\", \"Topic11\", \"Topic11\", \"Topic11\", \"Topic11\", \"Topic11\", \"Topic11\", \"Topic11\", \"Topic11\", \"Topic11\", \"Topic11\", \"Topic11\", \"Topic11\", \"Topic11\", \"Topic11\", \"Topic11\", \"Topic11\", \"Topic11\", \"Topic11\", \"Topic11\", \"Topic11\", \"Topic11\", \"Topic11\", \"Topic11\", \"Topic11\", \"Topic11\", \"Topic11\", \"Topic11\", \"Topic11\", \"Topic11\", \"Topic11\", \"Topic11\", \"Topic11\", \"Topic11\", \"Topic11\", \"Topic11\", \"Topic11\", \"Topic11\", \"Topic11\", \"Topic11\", \"Topic11\", \"Topic11\", \"Topic11\", \"Topic11\", \"Topic11\", \"Topic11\", \"Topic11\", \"Topic11\", \"Topic11\", \"Topic11\", \"Topic11\", \"Topic11\", \"Topic11\", \"Topic11\", \"Topic11\", \"Topic11\", \"Topic11\", \"Topic11\", \"Topic11\", \"Topic11\", \"Topic11\", \"Topic12\", \"Topic12\", \"Topic12\", \"Topic12\", \"Topic12\", \"Topic12\", \"Topic12\", \"Topic12\", \"Topic12\", \"Topic12\", \"Topic12\", \"Topic12\", \"Topic12\", \"Topic12\", \"Topic12\", \"Topic12\", \"Topic12\", \"Topic12\", \"Topic12\", \"Topic12\", \"Topic12\", \"Topic12\", \"Topic12\", \"Topic12\", \"Topic12\", \"Topic12\", \"Topic12\", \"Topic12\", \"Topic12\", \"Topic12\", \"Topic12\", \"Topic12\", \"Topic12\", \"Topic12\", \"Topic12\", \"Topic12\", \"Topic12\", \"Topic12\", \"Topic12\", \"Topic12\", \"Topic12\", \"Topic12\", \"Topic12\", \"Topic12\", \"Topic12\", \"Topic12\", \"Topic12\", \"Topic12\", \"Topic12\", \"Topic12\", \"Topic12\", \"Topic12\", \"Topic12\", \"Topic12\", \"Topic12\", \"Topic12\", \"Topic12\", \"Topic12\", \"Topic12\", \"Topic12\", \"Topic12\", \"Topic12\", \"Topic12\", \"Topic12\", \"Topic12\", \"Topic12\", \"Topic12\", \"Topic12\", \"Topic12\", \"Topic12\", \"Topic12\", \"Topic12\", \"Topic12\", \"Topic12\", \"Topic12\", \"Topic12\", \"Topic12\", \"Topic12\", \"Topic12\", \"Topic12\", \"Topic12\", \"Topic12\", \"Topic12\", \"Topic12\", \"Topic12\", \"Topic12\"], \"logprob\": [30.0, 29.0, 28.0, 27.0, 26.0, 25.0, 24.0, 23.0, 22.0, 21.0, 20.0, 19.0, 18.0, 17.0, 16.0, 15.0, 14.0, 13.0, 12.0, 11.0, 10.0, 9.0, 8.0, 7.0, 6.0, 5.0, 4.0, 3.0, 2.0, 1.0, -7.0086, -7.0245, -7.0814, -7.5989, -7.6747, -6.0104, -7.1714, -6.6354, -7.0957, -7.6609, -6.4775, -3.8479, -7.9643, -4.9683, -6.985, -6.9286, -7.3602, -5.9664, -7.9908, -7.4346, -7.6523, -4.4603, -7.0223, -7.67, -7.6602, -6.3603, -7.0123, -8.3315, -6.9707, -7.8931, -5.9575, -4.6053, -4.2194, -6.5174, -5.3879, -5.9312, -5.6597, -4.5095, -4.5819, -6.393, -4.595, -4.7385, -4.6962, -3.9162, -5.0585, -4.4561, -5.2146, -5.6786, -4.6608, -4.1745, -4.7518, -4.5545, -4.4671, -4.1856, -5.5194, -5.0607, -4.5662, -4.5898, -4.6399, -4.8268, -4.7812, -4.9757, -5.454, -5.3742, -5.0637, -5.0413, -4.9905, -5.194, -5.5982, -7.6529, -7.5238, -6.4025, -7.9205, -7.7668, -7.2692, -7.1362, -7.6345, -6.5514, -7.1822, -7.4276, -8.0604, -6.3479, -6.2399, -6.8762, -6.7292, -8.0879, -8.2732, -8.2759, -7.4998, -7.9872, -7.2177, -8.1254, -7.3926, -6.073, -7.5688, -6.9608, -8.1802, -7.8769, -6.047, -7.2925, -4.9096, -6.2787, -4.8773, -4.4153, -6.1549, -6.0998, -6.7443, -5.9335, -6.2141, -5.0784, -5.887, -5.0808, -5.1045, -4.6057, -4.3531, -5.0648, -5.0177, -4.8407, -4.272, -4.9628, -4.7089, -5.2697, -4.327, -5.7924, -5.5729, -4.2204, -4.8371, -5.8417, -5.9506, -5.6557, -5.0923, -4.9754, -5.1315, -5.4246, -5.0187, -5.2664, -5.2368, -5.3867, -5.0332, -5.213, -5.2908, -5.1466, -5.3652, -5.336, -5.3425, -8.0615, -7.0952, -7.7086, -8.1362, -8.6209, -7.8454, -7.9922, -8.0824, -8.7163, -8.4112, -7.4335, -8.4497, -9.0419, -8.7646, -9.2403, -8.0869, -8.3952, -9.0888, -8.5858, -7.6705, -6.3739, -8.0623, -8.8256, -5.7144, -8.256, -9.1017, -9.1017, -9.1003, -7.7934, -6.7675, -4.3432, -7.2819, -7.9296, -7.2694, -3.8253, -5.6509, -5.6483, -5.4337, -6.9799, -4.9164, -4.7636, -6.3628, -7.0791, -5.3867, -6.7105, -4.5108, -5.1229, -4.5523, -3.5766, -4.1391, -4.2171, -4.6108, -4.8661, -4.9998, -6.3923, -6.3979, -4.3077, -4.9638, -6.387, -4.9229, -4.068, -4.5816, -4.5966, -5.4271, -5.1325, -4.4064, -5.4519, -4.6707, -4.5204, -4.9607, -5.1839, -5.3417, -5.3887, -5.0424, -5.1975, -5.3872, -7.9215, -7.3179, -5.9836, -6.5677, -6.7927, -6.9091, -5.6101, -5.9217, -7.973, -5.6536, -7.9986, -7.3322, -8.0474, -7.9115, -7.0335, -6.9105, -7.8034, -7.4424, -6.3911, -8.1756, -8.0767, -3.336, -7.2036, -7.5568, -5.8883, -8.1553, -4.0936, -7.1453, -8.336, -8.484, -7.714, -6.1051, -4.2141, -4.462, -5.2273, -4.1852, -5.51, -3.515, -4.2067, -5.2129, -3.4206, -5.0727, -5.1624, -4.6914, -4.7851, -4.6637, -4.4119, -5.7913, -4.3443, -5.2815, -4.4413, -4.8061, -4.7794, -5.0099, -4.3669, -4.8836, -4.8612, -5.1681, -5.2782, -4.9516, -5.0096, -5.0874, -5.1929, -5.186, -5.209, -8.0845, -8.2875, -8.6888, -8.695, -8.6959, -8.8723, -8.8766, -8.8868, -8.564, -8.5664, -8.4561, -7.8977, -8.4601, -7.4581, -7.0565, -7.5566, -8.7658, -7.8017, -8.6421, -8.1959, -9.0037, -8.5388, -7.3244, -8.6966, -7.0653, -8.9275, -7.8834, -9.104, -8.5336, -8.9572, -8.4403, -4.8766, -5.9233, -8.0872, -7.8266, -5.7157, -7.4818, -4.2476, -6.8369, -5.4725, -6.0686, -6.5655, -5.285, -5.6238, -5.8623, -6.3491, -6.8474, -5.6192, -4.6808, -5.4459, -5.348, -5.4872, -6.536, -4.8399, -5.4917, -4.9199, -5.1463, -5.3245, -5.4355, -5.2312, -5.7528, -5.4784, -5.3902, -5.3544, -5.7419, -5.274, -5.3013, -5.2986, -5.2584, -5.0558, -5.2895, -5.2841, -5.2002, -5.4036, -5.3085, -5.1737, -5.3582, -5.3381, -5.3579, -5.4334, -5.5338, -8.1652, -8.1659, -7.7816, -8.0517, -7.7132, -7.3939, -8.1516, -7.7393, -8.3274, -7.0621, -7.6833, -7.1342, -8.1158, -7.8091, -8.5928, -8.5903, -7.2957, -7.7533, -8.0494, -8.4823, -8.0777, -7.7497, -7.6252, -8.7262, -8.2646, -8.0714, -8.4356, -7.6747, -7.9903, -7.2642, -5.0496, -7.8223, -5.6572, -7.2047, -3.7374, -4.1827, -7.425, -4.7509, -4.8412, -6.7917, -5.8219, -6.6179, -4.8046, -4.9893, -5.3009, -4.8377, -4.6695, -5.6665, -4.5932, -6.3906, -6.5146, -5.0642, -5.5754, -4.9022, -6.0263, -5.2282, -5.0263, -5.2326, -5.4497, -5.5151, -5.7084, -5.3306, -5.7719, -5.5831, -5.1142, -4.7317, -4.8989, -5.4875, -5.2532, -5.39, -5.46, -5.4993, -5.4648, -5.5237, -5.5103, -5.7645, -7.5991, -6.8351, -6.9228, -7.4664, -7.6888, -6.2785, -8.0505, -5.8485, -7.3498, -7.2924, -6.2675, -6.8533, -6.4845, -8.2009, -7.6893, -7.2615, -7.5388, -5.0606, -8.352, -6.5226, -5.4847, -8.2426, -8.2614, -6.5098, -8.1196, -4.6068, -6.1484, -7.3847, -7.3771, -5.7614, -4.0441, -4.3267, -4.3908, -5.1571, -4.0309, -5.4467, -5.2073, -4.0025, -5.0522, -4.1399, -4.5826, -5.3836, -4.2348, -4.9224, -4.5313, -4.892, -5.0848, -4.5498, -5.0325, -5.5495, -4.2463, -4.897, -4.9829, -4.8501, -5.3226, -4.8485, -4.9339, -4.9831, -5.104, -5.1417, -5.2817, -5.1301, -5.1349, -5.1549, -6.788, -7.2848, -6.5368, -7.9887, -7.7463, -7.3096, -7.2623, -6.822, -5.4998, -7.1568, -8.1001, -7.3525, -7.7584, -4.4282, -8.2809, -8.3111, -6.7331, -7.5661, -8.5291, -7.4999, -6.7594, -6.5812, -5.9652, -6.2349, -7.8705, -8.3323, -8.4979, -8.4972, -6.2528, -7.9212, -7.109, -6.2531, -7.6247, -4.0056, -6.9396, -6.4492, -6.5693, -6.1795, -4.3585, -4.4876, -5.6879, -6.638, -5.9841, -5.1029, -5.4605, -5.3442, -4.9896, -4.7531, -4.7733, -5.4363, -4.137, -4.6196, -4.6453, -5.1891, -5.1449, -4.6469, -5.3307, -4.8758, -5.2433, -5.3616, -5.2309, -5.2376, -5.125, -4.7246, -5.0382, -5.29, -5.2387, -5.3906, -5.2779, -5.2819, -5.3785, -6.836, -6.0212, -6.2781, -7.1708, -6.8965, -6.222, -7.454, -7.3279, -4.9429, -6.6158, -4.6057, -7.6785, -7.7069, -5.8277, -7.0257, -7.2087, -6.7888, -6.7012, -7.5511, -7.0218, -7.7075, -6.8448, -7.6625, -7.2714, -6.7943, -7.9902, -7.1465, -7.5016, -8.1804, -7.6613, -6.6062, -6.1548, -7.0386, -3.6605, -3.2856, -3.9776, -5.1985, -6.0404, -5.0718, -4.7447, -3.3402, -4.3554, -5.4842, -5.7069, -3.8743, -4.4792, -4.8046, -4.8789, -5.0898, -4.8117, -4.3409, -5.2659, -5.1322, -4.8941, -4.5601, -4.6881, -5.181, -5.1853, -5.0068, -5.0523, -5.0548, -5.2971, -5.2748, -5.3554, -8.7221, -8.724, -8.7242, -8.973, -7.0517, -7.5856, -7.4628, -8.6466, -8.4494, -6.4739, -7.8186, -7.9609, -8.0397, -8.7452, -8.1455, -8.1441, -8.0678, -8.6334, -8.3339, -7.3375, -7.9666, -8.5556, -8.0444, -7.4575, -9.1601, -8.8491, -8.7051, -9.0042, -7.6305, -7.9237, -7.5918, -7.7964, -7.6231, -7.5263, -7.1821, -6.9643, -7.5214, -7.2483, -5.6916, -6.7342, -5.5789, -5.7899, -5.7893, -6.2893, -6.3955, -4.4616, -6.9569, -5.1231, -7.2461, -6.5824, -4.9355, -4.9862, -6.3473, -4.6457, -6.4216, -5.8884, -6.3851, -4.2726, -5.9855, -5.3448, -5.6862, -6.4259, -5.6512, -4.9233, -4.7743, -4.6842, -4.7666, -4.7214, -5.9924, -5.373, -5.3638, -5.0972, -5.6281, -5.7566, -5.2442, -5.4148, -5.3452, -5.423, -5.4183, -5.4775, -5.2914, -5.3134, -5.5166, -5.4279, -5.4487, -5.4998, -5.5463, -5.5804, -5.569, -8.4829, -8.009, -8.0703, -7.7624, -8.0488, -7.7499, -8.3826, -7.7092, -8.5385, -7.7228, -7.6925, -8.3413, -7.567, -7.6848, -8.0157, -6.9922, -8.0391, -8.5388, -7.7033, -8.854, -8.4732, -8.004, -8.9449, -7.8279, -7.3889, -6.3643, -7.0292, -7.3752, -8.0995, -8.6503, -7.4251, -6.4967, -6.8683, -4.8458, -3.9229, -5.7612, -6.4656, -5.0015, -6.1244, -6.3613, -6.767, -5.3359, -5.1503, -4.8346, -6.3573, -5.2281, -5.8696, -4.7884, -6.6815, -5.5762, -4.6959, -4.9499, -4.9454, -5.3381, -5.5559, -5.931, -6.3606, -4.9493, -5.2706, -4.9439, -5.0209, -4.8617, -5.0814, -4.6874, -4.9555, -5.0251, -5.3484, -5.3996, -5.4557, -5.1273, -4.9333, -5.4099, -5.0523, -5.2987, -5.3358, -5.349, -8.0545, -8.548, -8.6235, -8.2462, -8.989, -8.3599, -8.9907, -8.996, -9.1095, -8.4868, -9.1099, -9.2429, -9.2416, -9.2482, -9.3954, -9.3996, -9.4016, -9.3967, -9.4006, -9.2494, -9.4044, -9.5865, -9.5913, -9.1218, -9.5938, -8.6429, -7.3057, -8.7344, -8.8375, -8.6179, -6.6057, -6.0849, -7.8004, -5.5681, -7.9504, -8.6945, -7.2404, -7.0075, -6.7427, -5.7454, -5.7351, -7.9189, -5.5621, -5.7091, -7.0757, -7.0191, -7.6899, -4.6774, -5.3742, -6.7096, -7.7771, -5.0581, -4.1739, -4.8663, -5.018, -5.0131, -6.3617, -6.5605, -5.6297, -6.1007, -6.5045, -4.875, -5.3894, -5.2934, -6.1742, -5.2793, -5.0016, -5.2184, -5.0421, -5.2317, -5.14, -5.4653, -5.0768, -5.736, -5.2234, -5.1273, -4.9168, -5.2855, -5.0582, -5.2979, -5.1478, -5.3374, -5.6088, -5.5435, -5.4995, -5.5624], \"loglift\": [30.0, 29.0, 28.0, 27.0, 26.0, 25.0, 24.0, 23.0, 22.0, 21.0, 20.0, 19.0, 18.0, 17.0, 16.0, 15.0, 14.0, 13.0, 12.0, 11.0, 10.0, 9.0, 8.0, 7.0, 6.0, 5.0, 4.0, 3.0, 2.0, 1.0, 3.3386, 3.2216, 3.1783, 3.1685, 3.0992, 3.0453, 3.0106, 2.9516, 2.8608, 2.851, 2.8414, 2.8321, 2.8266, 2.8213, 2.819, 2.8189, 2.8151, 2.8096, 2.8085, 2.7652, 2.7503, 2.7449, 2.7317, 2.7245, 2.7143, 2.7125, 2.6788, 2.6562, 2.633, 2.6274, 2.6231, 2.5491, 2.3509, 2.5782, 2.3872, 2.416, 2.288, 1.9936, 1.9186, 2.4564, 1.8779, 1.925, 1.8487, 1.5186, 1.9448, 1.6549, 1.991, 2.1768, 1.5529, 1.1257, 1.4902, 1.2586, 1.1526, 0.6288, 1.8892, 1.3796, 0.8187, 0.749, 0.772, 0.8946, 0.7037, 0.8398, 1.7647, 1.5397, 0.6996, 0.4254, -0.244, 0.5066, 3.241, 3.1689, 3.1494, 3.1314, 3.089, 3.0557, 2.9618, 2.9305, 2.9135, 2.8825, 2.8706, 2.8103, 2.7776, 2.777, 2.7721, 2.768, 2.7671, 2.7507, 2.7446, 2.7429, 2.7388, 2.7053, 2.701, 2.6973, 2.6824, 2.6731, 2.6724, 2.6703, 2.6642, 2.6524, 2.5931, 2.6259, 2.4746, 2.5402, 2.2997, 2.1629, 2.3715, 2.3067, 2.4603, 2.2404, 2.3187, 1.9759, 2.1901, 1.8984, 1.8753, 1.6364, 1.4906, 1.7223, 1.6935, 1.5474, 1.2129, 1.5728, 1.4021, 1.7301, 1.0849, 2.0495, 1.8594, 0.5261, 0.976, 2.0167, 2.1434, 1.7505, 0.947, 0.746, 0.9705, 1.4041, 0.5807, 1.0275, 0.932, 1.1894, 0.3559, 0.7048, 0.7793, 0.1922, 0.9347, 0.4651, 0.382, 1.9389, 1.9386, 1.9384, 1.9378, 1.9329, 1.9073, 1.8727, 1.8531, 1.8408, 1.8269, 1.8131, 1.7985, 1.7959, 1.7854, 1.7828, 1.7822, 1.7632, 1.762, 1.7536, 1.7458, 1.7416, 1.7402, 1.7391, 1.7357, 1.7321, 1.7302, 1.7302, 1.73, 1.7181, 1.7129, 1.7026, 1.7043, 1.7105, 1.6913, 1.5472, 1.6182, 1.6104, 1.5841, 1.6584, 1.5035, 1.4751, 1.5828, 1.6281, 1.4025, 1.5788, 1.2665, 1.3344, 1.2241, 1.0423, 1.123, 1.1364, 1.1688, 1.2062, 1.1494, 1.4893, 1.4898, 0.9269, 1.0949, 1.4863, 1.0167, 0.7464, 0.8075, 0.7157, 1.0627, 0.9295, 0.5301, 1.0366, 0.5658, 0.4523, 0.3917, 0.5797, 0.8122, 0.9009, -0.2959, 0.1027, 0.4751, 3.0777, 2.9878, 2.8829, 2.8354, 2.8321, 2.7599, 2.7323, 2.721, 2.7156, 2.7009, 2.6907, 2.6444, 2.6359, 2.6216, 2.6212, 2.6181, 2.613, 2.6033, 2.5159, 2.4826, 2.4814, 2.4795, 2.4715, 2.4333, 2.4211, 2.4025, 2.3964, 2.3619, 2.3556, 2.3533, 2.3496, 2.3196, 2.2309, 2.2258, 2.1977, 1.9932, 2.1469, 1.8699, 1.8783, 2.0152, 1.5521, 1.9315, 1.9452, 1.6765, 1.6622, 1.6102, 1.4814, 1.9581, 0.9945, 1.5308, 0.8589, 1.1029, 0.9842, 1.1876, 0.4475, 0.8929, 0.4913, 0.9507, 1.1622, 0.3105, 0.3795, 0.512, 0.5077, 0.2989, 0.4912, 2.1747, 2.1695, 2.1667, 2.1655, 2.1635, 2.1625, 2.1624, 2.1579, 2.1526, 2.1409, 2.1233, 2.1228, 2.1219, 2.1121, 2.1095, 2.1094, 2.0943, 2.0872, 2.0679, 2.0648, 2.0416, 2.0354, 2.0058, 2.0032, 1.9832, 1.9361, 1.9355, 1.9293, 1.9277, 1.9131, 1.9067, 1.7442, 1.7152, 1.8667, 1.8334, 1.5429, 1.7747, 1.1169, 1.6401, 1.3086, 1.4155, 1.5299, 1.1894, 1.2676, 1.3344, 1.4584, 1.5988, 1.2088, 0.8959, 1.1316, 1.0778, 1.1101, 1.4682, 0.8116, 1.0465, 0.8047, 0.8588, 0.9385, 0.9726, 0.8157, 1.0503, 0.8779, 0.8144, 0.7858, 1.0206, 0.7183, 0.7253, 0.707, 0.6595, 0.4901, 0.6124, 0.5402, 0.2341, 0.5507, 0.2834, -0.4272, 0.1958, 0.0738, 0.127, -0.497, 2.706, 2.7009, 2.6944, 2.6779, 2.6601, 2.6412, 2.6286, 2.5606, 2.5266, 2.5264, 2.5142, 2.4962, 2.4892, 2.4656, 2.4602, 2.4496, 2.4408, 2.4224, 2.418, 2.4151, 2.3844, 2.3727, 2.3424, 2.3335, 2.3223, 2.3034, 2.2855, 2.276, 2.2732, 2.2713, 2.2664, 2.1428, 2.2532, 1.9682, 2.1691, 1.6088, 1.6184, 2.1823, 1.5387, 1.5024, 2.0191, 1.6772, 1.9314, 1.2011, 1.2024, 1.2751, 1.0422, 0.9072, 1.3805, 0.7713, 1.7258, 1.7792, 0.9624, 1.2277, 0.8223, 1.4369, 0.8186, 0.6253, 0.7598, 0.9173, 0.9267, 1.0571, 0.6743, 1.0836, 0.8835, 0.32, -0.1128, 0.0376, 0.6528, 0.1816, 0.3038, 0.4942, 0.5846, -0.2302, 0.3782, -0.7639, 3.1983, 3.1813, 3.1716, 3.1633, 3.0338, 2.9507, 2.933, 2.9242, 2.9212, 2.8485, 2.8173, 2.8136, 2.8076, 2.7756, 2.7682, 2.7128, 2.7084, 2.6711, 2.6579, 2.6436, 2.6066, 2.5858, 2.5731, 2.5581, 2.5467, 2.5425, 2.501, 2.4657, 2.4496, 2.4115, 2.3258, 2.1971, 2.0403, 1.9655, 2.085, 1.7935, 2.0223, 1.9545, 1.5894, 1.8999, 1.4141, 1.5394, 1.883, 1.2319, 1.552, 1.3123, 1.4961, 1.5409, 1.0699, 1.4296, 1.8498, 0.5002, 1.173, 1.0919, 0.8713, 1.4794, 0.4638, 0.3026, 0.4287, 0.7583, 0.6216, 1.2437, 0.1701, 0.2039, 0.2342, 2.6701, 2.6667, 2.6578, 2.6538, 2.6499, 2.6455, 2.6255, 2.5997, 2.5617, 2.5547, 2.5495, 2.5411, 2.5354, 2.5276, 2.5199, 2.4889, 2.4747, 2.4714, 2.4691, 2.4667, 2.4484, 2.4467, 2.4134, 2.373, 2.3428, 2.3303, 2.3251, 2.3237, 2.3138, 2.2956, 2.2898, 2.2369, 2.2821, 1.9771, 2.2119, 2.0825, 2.0851, 1.9861, 1.4188, 1.452, 1.7801, 2.0346, 1.6734, 1.2091, 1.3676, 1.2948, 1.0826, 0.9407, 0.9269, 1.3291, 0.4819, 0.7339, 0.6168, 0.9428, 0.8608, 0.2895, 0.9862, 0.4887, 0.8823, 0.9948, 0.8278, 0.8093, 0.6546, 0.0898, 0.396, 0.691, 0.5377, 0.4894, -0.3052, -0.5354, -0.142, 3.4394, 3.4284, 3.4193, 3.3342, 3.2981, 3.2416, 3.194, 3.1874, 3.1642, 3.156, 3.1442, 3.1265, 3.0987, 3.0686, 3.0199, 3.0045, 2.9863, 2.9666, 2.9634, 2.9561, 2.9436, 2.8757, 2.8696, 2.8639, 2.834, 2.8316, 2.8242, 2.8162, 2.8161, 2.763, 2.7509, 2.7043, 2.7249, 2.1831, 2.0606, 2.1063, 2.2648, 2.4629, 2.0418, 1.8992, 1.2787, 1.7066, 2.1412, 2.2297, 1.0621, 1.3366, 1.5123, 1.4647, 1.5359, 1.2903, 0.8937, 1.5361, 1.4001, 1.1108, 0.702, 0.7462, 1.3035, 1.1816, 0.4279, 0.4326, 0.284, 0.9912, 0.878, 0.0338, 2.1355, 2.1338, 2.1336, 2.0976, 2.087, 2.0823, 2.0647, 2.0606, 2.0154, 2.0131, 2.0122, 1.9934, 1.9746, 1.9634, 1.9505, 1.9504, 1.948, 1.9435, 1.9285, 1.9184, 1.9152, 1.9064, 1.9024, 1.8966, 1.8769, 1.8619, 1.8597, 1.8557, 1.8478, 1.8452, 1.8131, 1.8188, 1.8071, 1.8, 1.7611, 1.718, 1.7702, 1.6992, 1.3499, 1.5777, 1.293, 1.3087, 1.3079, 1.4401, 1.4449, 0.775, 1.5704, 0.9516, 1.6565, 1.4137, 0.7751, 0.7935, 1.3134, 0.6164, 1.3338, 1.1125, 1.2998, 0.3463, 1.1063, 0.7808, 0.9319, 1.3035, 0.8109, 0.3113, 0.1984, 0.1303, 0.1698, 0.0251, 0.9762, 0.4893, 0.4373, 0.203, 0.6474, 0.7319, 0.1901, 0.3616, 0.2542, 0.3406, 0.2823, 0.3469, 0.0621, 0.0757, 0.3577, 0.118, -0.0962, -0.0331, -0.0614, 0.2327, -0.1342, 2.3271, 2.2992, 2.2416, 2.2162, 2.1718, 2.1605, 2.1499, 2.1398, 2.1316, 2.1238, 2.1007, 2.0803, 2.0578, 2.0464, 2.0428, 2.0313, 2.0228, 2.0071, 1.9829, 1.9703, 1.9532, 1.9188, 1.9001, 1.899, 1.8985, 1.898, 1.8946, 1.8905, 1.8855, 1.8817, 1.8784, 1.8647, 1.8384, 1.6271, 1.462, 1.6474, 1.7225, 1.4884, 1.6449, 1.6895, 1.717, 1.3519, 1.2901, 1.1919, 1.6028, 1.2192, 1.4127, 1.0271, 1.6733, 1.2519, 0.8807, 0.9591, 0.9565, 1.1069, 1.1241, 1.2971, 1.4948, 0.7753, 0.9078, 0.7076, 0.6797, 0.5028, 0.6123, 0.2853, 0.3833, 0.4097, 0.6778, 0.708, 0.7489, 0.2846, -0.1189, 0.5953, -0.3058, 0.0538, 0.2102, -0.1125, 1.4825, 1.482, 1.4807, 1.4804, 1.4782, 1.4782, 1.4779, 1.4776, 1.4753, 1.4748, 1.4746, 1.4743, 1.4742, 1.474, 1.4717, 1.4716, 1.4702, 1.4702, 1.4697, 1.469, 1.4679, 1.4678, 1.4672, 1.4666, 1.4654, 1.4612, 1.4566, 1.4477, 1.4321, 1.4127, 1.3479, 1.2953, 1.3752, 1.225, 1.354, 1.4088, 1.2787, 1.2521, 1.2173, 1.1, 1.052, 1.3168, 1.0161, 1.0338, 1.2049, 1.1856, 1.2747, 0.7893, 0.8946, 1.1112, 1.2652, 0.755, 0.5726, 0.6878, 0.7035, 0.6975, 0.9873, 1.0255, 0.7894, 0.8726, 0.9752, 0.5369, 0.6368, 0.5999, 0.8567, 0.484, 0.3373, 0.4013, 0.3104, 0.3677, 0.2948, 0.4525, 0.2355, 0.5917, 0.2615, 0.1729, -0.1023, 0.1487, -0.0855, 0.0912, -0.2114, -0.1009, 0.4304, 0.0024, -0.8806, -0.3278]}, \"token.table\": {\"Topic\": [1, 2, 3, 4, 5, 6, 7, 8, 9, 10, 11, 12, 1, 2, 6, 10, 1, 5, 10, 11, 12, 3, 6, 10, 2, 6, 10, 12, 1, 2, 3, 4, 5, 6, 7, 8, 9, 10, 11, 12, 5, 1, 2, 3, 4, 5, 6, 7, 8, 9, 10, 11, 12, 5, 11, 6, 10, 5, 3, 5, 10, 1, 2, 4, 5, 7, 10, 11, 12, 2, 3, 4, 2, 3, 4, 5, 6, 7, 8, 9, 10, 11, 12, 5, 6, 12, 10, 11, 12, 5, 6, 8, 10, 1, 10, 11, 2, 5, 6, 10, 11, 12, 1, 6, 12, 3, 4, 5, 6, 8, 10, 11, 12, 1, 5, 6, 8, 9, 10, 11, 12, 2, 4, 11, 12, 3, 5, 10, 8, 10, 5, 6, 8, 9, 10, 11, 12, 3, 6, 9, 12, 9, 5, 10, 3, 12, 3, 9, 10, 12, 5, 6, 12, 1, 5, 8, 10, 12, 4, 10, 1, 2, 3, 4, 5, 6, 7, 8, 9, 10, 11, 12, 6, 8, 5, 6, 8, 9, 10, 11, 12, 1, 3, 5, 6, 7, 8, 10, 11, 12, 1, 3, 4, 5, 6, 7, 8, 10, 11, 12, 2, 3, 5, 6, 7, 10, 12, 3, 6, 9, 2, 6, 10, 11, 1, 4, 6, 10, 11, 12, 1, 3, 9, 10, 11, 12, 3, 4, 5, 6, 8, 9, 10, 11, 12, 5, 6, 9, 11, 1, 2, 3, 4, 5, 6, 7, 8, 9, 10, 11, 12, 1, 2, 3, 4, 5, 6, 8, 9, 10, 11, 12, 7, 12, 3, 8, 1, 2, 3, 4, 5, 6, 7, 8, 9, 10, 11, 12, 5, 6, 9, 12, 5, 5, 10, 11, 12, 1, 2, 3, 4, 5, 6, 7, 8, 9, 10, 11, 12, 5, 11, 12, 3, 5, 8, 10, 11, 1, 6, 10, 4, 11, 12, 5, 10, 2, 3, 6, 11, 5, 10, 12, 1, 2, 3, 4, 5, 6, 7, 8, 9, 10, 11, 12, 5, 6, 10, 11, 12, 5, 6, 8, 10, 11, 12, 1, 2, 3, 4, 5, 6, 7, 8, 9, 10, 11, 12, 2, 3, 4, 5, 6, 9, 11, 12, 1, 2, 3, 4, 5, 6, 7, 8, 9, 10, 11, 12, 10, 4, 6, 7, 9, 10, 11, 12, 12, 3, 5, 1, 2, 3, 5, 6, 7, 8, 9, 10, 11, 12, 4, 11, 10, 6, 11, 5, 1, 2, 4, 5, 6, 7, 8, 9, 10, 11, 12, 2, 4, 11, 5, 6, 6, 11, 3, 4, 5, 6, 7, 8, 9, 10, 11, 12, 1, 2, 3, 4, 5, 6, 7, 8, 9, 10, 11, 12, 1, 2, 3, 4, 5, 6, 7, 8, 9, 10, 11, 12, 3, 6, 10, 3, 7, 10, 11, 12, 6, 12, 3, 1, 3, 4, 5, 6, 7, 8, 9, 10, 11, 12, 1, 12, 10, 12, 1, 2, 3, 4, 5, 6, 7, 8, 9, 10, 11, 12, 6, 12, 3, 4, 3, 12, 3, 4, 5, 6, 7, 8, 10, 11, 12, 2, 3, 5, 6, 7, 8, 9, 10, 11, 12, 3, 7, 9, 10, 12, 2, 12, 6, 9, 12, 5, 6, 11, 12, 1, 2, 5, 6, 7, 8, 10, 11, 12, 7, 12, 5, 6, 11, 8, 9, 10, 12, 1, 2, 3, 5, 6, 7, 8, 9, 10, 11, 12, 1, 2, 3, 4, 5, 6, 7, 8, 9, 10, 11, 12, 11, 3, 5, 4, 12, 8, 10, 4, 11, 12, 1, 2, 5, 6, 8, 10, 11, 12, 1, 2, 3, 4, 5, 7, 10, 11, 12, 1, 2, 5, 8, 10, 11, 12, 1, 10, 12, 1, 2, 3, 4, 5, 6, 7, 8, 9, 10, 11, 12, 5, 6, 10, 1, 7, 11, 12, 3, 5, 1, 2, 3, 4, 5, 6, 7, 8, 9, 10, 11, 12, 1, 2, 3, 4, 5, 6, 7, 8, 9, 10, 11, 12, 2, 3, 4, 5, 6, 7, 8, 10, 11, 12, 6, 8, 10, 12, 2, 6, 11, 3, 5, 10, 11, 1, 2, 3, 4, 5, 6, 9, 10, 11, 12, 5, 9, 12, 1, 2, 3, 4, 5, 6, 8, 10, 11, 12, 5, 3, 5, 12, 3, 4, 8, 10, 9, 12, 6, 9, 10, 12, 9, 2, 3, 4, 11, 8, 10, 5, 7, 12, 5, 6, 8, 10, 11, 5, 6, 8, 11, 12, 1, 3, 5, 6, 7, 8, 9, 10, 11, 12, 3, 5, 3, 4, 5, 6, 8, 9, 10, 11, 12, 1, 3, 4, 5, 6, 7, 8, 9, 10, 11, 12, 3, 5, 6, 8, 10, 11, 12, 1, 2, 3, 5, 6, 7, 8, 10, 11, 12, 3, 4, 2, 8, 12, 5, 7, 12, 2, 5, 10, 1, 2, 3, 4, 5, 6, 7, 8, 9, 10, 11, 12, 3, 5, 10, 4, 12, 1, 2, 3, 4, 5, 6, 7, 8, 9, 10, 11, 12, 1, 8, 12, 1, 2, 3, 4, 5, 6, 8, 9, 10, 11, 12, 2, 5, 6, 10, 11, 12, 1, 2, 3, 4, 5, 6, 7, 8, 9, 10, 11, 12, 2, 3, 5, 7, 8, 10, 11, 12, 2, 10, 12, 3, 9, 12, 8, 5, 6, 9, 11, 1, 2, 3, 5, 6, 8, 10, 11, 12, 4, 12, 1, 2, 3, 5, 6, 7, 8, 10, 12, 1, 2, 3, 4, 5, 6, 7, 8, 9, 10, 11, 12, 1, 2, 10, 12, 1, 4, 5, 10, 11, 12, 4, 10, 11, 12, 8, 10, 2, 10, 11, 6, 12, 1, 2, 3, 4, 5, 6, 7, 8, 9, 10, 11, 12, 1, 1, 2, 3, 4, 5, 6, 7, 8, 9, 10, 11, 12, 5, 8, 10, 3, 5, 6, 8, 9, 10, 12, 1, 3, 10, 1, 2, 3, 4, 5, 6, 7, 8, 9, 10, 11, 12, 6, 1, 2, 3, 4, 5, 6, 7, 8, 9, 10, 11, 12, 5, 11, 1, 2, 3, 4, 5, 6, 7, 8, 9, 10, 11, 12, 3, 7, 2, 8, 10, 6, 7, 12, 1, 8, 10, 11, 12, 3, 5, 7, 8, 12, 5, 8, 10, 1, 2, 3, 4, 5, 6, 7, 8, 9, 10, 11, 12, 1, 3, 6, 7, 10, 11, 2, 10, 12, 12, 1, 2, 3, 4, 5, 6, 7, 8, 9, 10, 11, 12, 1, 2, 3, 4, 5, 6, 7, 8, 9, 10, 11, 12, 5, 10, 12, 1, 2, 3, 4, 5, 6, 8, 9, 10, 11, 12, 3, 6, 12, 1, 2, 4, 5, 10, 11, 12, 1, 2, 5, 7, 10, 11, 12, 1, 2, 4, 5, 10, 11, 12, 8, 10, 12, 1, 8, 9, 12, 9, 10, 12, 6, 10, 3, 10, 12, 1, 10, 11, 12, 1, 4, 5, 10, 11, 12, 5, 5, 12, 1, 10, 11, 4, 11, 12, 10, 12, 1, 2, 3, 5, 6, 7, 8, 9, 10, 12, 1, 2, 3, 5, 6, 7, 8, 9, 10, 11, 12, 3, 4, 10, 11, 1, 2, 3, 4, 5, 6, 7, 8, 10, 11, 12, 10, 5, 11, 12, 2, 3, 5, 6, 7, 8, 9, 10, 11, 12, 1, 2, 3, 4, 5, 6, 7, 8, 9, 10, 11, 12, 4, 10, 4, 12, 2, 6, 12, 1, 2, 3, 4, 5, 6, 7, 8, 9, 10, 11, 12, 7, 10, 1, 2, 3, 4, 5, 6, 7, 8, 9, 10, 11, 12, 1, 2, 3, 4, 5, 6, 7, 8, 9, 10, 11, 12, 1, 2, 3, 4, 5, 6, 7, 8, 9, 10, 11, 12, 5, 6, 11, 12, 11, 1, 3, 5, 6, 7, 8, 10, 11, 12, 1, 3, 4, 5, 6, 7, 8, 9, 10, 11, 12, 3, 12, 1, 2, 3, 4, 5, 6, 7, 8, 9, 10, 11, 12, 1, 5, 9, 10, 12, 5, 6, 7, 1, 2, 3, 4, 5, 6, 7, 8, 9, 10, 11, 12, 3, 4, 5, 6, 8, 10, 11, 12, 2, 3, 4, 9, 12, 2, 5, 7, 11, 12, 6, 11, 2, 3, 4, 5, 6, 7, 8, 9, 10, 11, 12, 3, 4, 5, 7, 8, 10, 11, 12, 3, 8, 5, 8, 1, 3, 4, 12, 1, 7, 10, 12, 6, 10, 5, 1, 2, 3, 5, 7, 9, 12, 1, 10, 1, 2, 3, 4, 5, 6, 7, 8, 9, 10, 11, 12, 2, 3, 5, 6, 7, 10, 11, 12, 12, 10, 6, 7, 12, 1, 3, 4, 8, 12, 9, 10, 11, 1, 3, 4, 5, 6, 7, 9, 10, 11, 12, 10, 12, 12, 7, 12, 12, 1, 2, 3, 4, 5, 6, 7, 8, 9, 10, 11, 12, 1, 2, 3, 4, 5, 6, 7, 8, 9, 10, 11, 12, 4, 10, 11, 12, 12, 1, 2, 3, 4, 5, 8, 10, 11, 12, 6, 9, 12, 2, 11, 12, 5, 11, 1, 2, 3, 4, 5, 7, 8, 10, 11, 12, 1, 4, 6, 10, 11, 1, 2, 3, 4, 5, 6, 7, 8, 9, 10, 11, 12, 3, 4, 1, 3, 4, 5, 6, 8, 10, 11, 12, 1, 2, 3, 4, 5, 6, 7, 8, 9, 10, 11, 12, 12, 1, 3, 4, 5, 6, 7, 8, 10, 11, 12, 9, 4, 6, 7, 8, 12, 10, 12, 3, 5, 10, 12, 2, 4, 5, 6, 7, 10, 11, 12, 3, 8, 10, 2, 5, 7, 8, 10, 11, 12, 7, 11, 12, 3, 4, 5, 10, 11, 12, 6, 8, 12, 3, 5, 8, 1, 2, 3, 5, 6, 7, 9, 10, 11, 12, 5, 6, 8, 10, 8, 1, 2, 3, 4, 5, 6, 7, 8, 9, 10, 11, 12, 3, 5, 7, 10, 12, 3, 8, 6, 12, 7, 12, 5, 11, 1, 2, 5, 6, 12, 1, 2, 3, 4, 5, 6, 7, 8, 9, 10, 11, 12, 5, 7, 8, 10, 12, 1, 11, 5, 10, 3, 5, 6, 8, 10, 11, 12, 3, 5, 6, 7, 8, 9, 10, 11, 12, 6, 12, 12, 1, 2, 3, 4, 5, 6, 7, 8, 9, 10, 11, 12, 1, 2, 3, 4, 5, 6, 7, 8, 9, 10, 11, 12, 1, 2, 3, 4, 5, 6, 7, 8, 9, 10, 11, 12, 12, 12, 1, 2, 3, 4, 5, 6, 7, 8, 9, 10, 11, 12, 1, 2, 3, 4, 5, 6, 7, 8, 9, 10, 11, 12, 4, 11, 5, 9, 10, 12, 1, 2, 3, 4, 5, 6, 7, 8, 9, 10, 11, 12, 2, 3, 4, 5, 6, 7, 9, 11, 12, 6, 1, 2, 3, 4, 5, 6, 7, 8, 9, 10, 11, 12, 4, 11, 12, 6, 10, 11, 3, 4, 10, 11, 12, 4, 5, 1, 2, 3, 4, 5, 6, 7, 8, 9, 10, 11, 12, 4, 6, 11, 10, 12, 1, 2, 3, 4, 5, 6, 7, 8, 9, 10, 11, 12, 5, 6, 7, 9, 10, 11, 12, 10, 11, 12, 1, 2, 3, 4, 5, 6, 7, 8, 9, 10, 11, 12, 2, 3, 5, 6, 7, 8, 10, 11, 12, 3, 6, 8, 10, 2, 3, 6, 7, 11, 12, 1, 2, 3, 4, 5, 6, 7, 8, 9, 10, 11, 12, 2, 3, 5, 6, 8, 10, 11, 12, 5, 6, 8, 10, 1, 3, 5, 6, 7, 8, 9, 10, 11, 12, 3, 5, 10, 11, 5, 10, 11, 7, 10, 3, 10, 1, 2, 3, 4, 5, 6, 7, 8, 10, 11, 12, 1, 2, 3, 4, 5, 6, 7, 8, 9, 10, 11, 12, 5, 8, 1, 2, 3, 4, 5, 6, 7, 8, 9, 10, 11, 12, 1, 2, 3, 4, 5, 6, 7, 8, 9, 10, 11, 12, 5, 10, 12, 1, 2, 4, 5, 6, 8, 9, 10, 11, 12, 2, 3, 4, 5, 6, 7, 8, 9, 10, 11, 12, 2, 3, 4, 5, 6, 7, 8, 9, 10, 11, 12, 1, 2, 3, 4, 5, 6, 7, 8, 9, 10, 11, 12, 5, 1, 2, 3, 5, 6, 7, 8, 9, 10, 11, 12, 12, 1, 2, 3, 4, 5, 6, 7, 8, 9, 10, 11, 12, 1, 3, 4, 5, 6, 7, 8, 9, 10, 11, 12, 8, 12, 1, 2, 3, 4, 5, 6, 7, 8, 9, 10, 11, 12, 1, 2, 3, 4, 5, 6, 7, 8, 9, 10, 11, 12, 3, 4, 5, 6, 8, 10, 11, 12, 2, 5, 8, 10, 1, 2, 4, 5, 6, 8, 10, 11, 12, 6, 10, 1, 2, 3, 4, 5, 6, 7, 8, 9, 10, 11, 12, 1, 2, 4, 5, 6, 7, 9, 10, 11, 12, 5, 3, 4, 8, 2, 12, 1, 3, 5, 6, 7, 8, 9, 10, 11, 12, 1, 2, 3, 4, 5, 6, 7, 8, 9, 10, 11, 12, 1, 2, 4, 5, 6, 10, 11, 12, 4, 11, 4, 11, 2, 12, 2, 6, 8, 9, 12, 1, 4, 11, 1, 2, 3, 5, 6, 7, 8, 9, 10, 11, 12, 1, 2, 3, 4, 5, 6, 7, 8, 9, 10, 11, 12, 12, 12, 1, 10, 12, 6, 10, 8, 9, 10, 12, 5, 8, 10, 2, 5, 12, 6, 4, 10, 11, 12, 5, 6, 6, 9, 11, 5, 6, 8, 9, 10, 11, 12, 3, 4, 5, 6, 7, 8, 9, 10, 11, 12, 1, 5, 6, 8, 9, 11, 12, 2, 6, 12, 6, 10, 11, 12, 5, 12, 2, 5, 12, 8, 10, 12, 1, 2, 3, 4, 5, 6, 7, 8, 10, 11, 12, 1, 2, 3, 4, 5, 6, 7, 8, 9, 10, 11, 12, 7, 12, 5, 7, 8, 12, 7, 12, 10, 12, 5, 10, 2, 3, 4, 5, 6, 7, 8, 9, 10, 11, 12, 3, 8, 1, 2, 3, 4, 5, 6, 7, 8, 9, 10, 11, 12, 6, 8, 10, 12, 3, 10, 2, 3, 5, 6, 7, 8, 9, 10, 11, 12, 1, 2, 3, 4, 5, 6, 7, 8, 9, 10, 12, 3, 5, 6, 7, 10, 11, 12, 5, 7, 8, 12, 1, 2, 5, 6, 7, 8, 12, 1, 2, 3, 4, 5, 6, 7, 8, 9, 10, 11, 12, 5, 6, 2, 3, 4, 5, 6, 7, 10, 12, 10, 11, 8, 1, 2, 3, 4, 5, 6, 7, 8, 10, 11, 12, 3, 4, 6, 8, 9, 10, 11, 12, 1, 12, 4, 10, 11, 12, 3, 4, 8, 10, 12, 2, 10, 11, 12, 1, 2, 3, 4, 5, 6, 8, 10, 11, 12, 1, 2, 3, 4, 5, 6, 7, 8, 9, 10, 11, 12, 7, 8, 10, 12, 1, 2, 3, 4, 5, 6, 7, 8, 9, 10, 11, 12, 1, 2, 3, 4, 5, 6, 7, 8, 10, 11, 12, 1, 2, 4, 10, 11, 12, 3, 4, 5, 6, 7, 8, 9, 10, 11, 12, 3, 4, 5, 8, 10, 12, 1, 2, 3, 4, 5, 6, 7, 8, 9, 10, 11, 12, 2, 5, 10, 12, 1, 2, 4, 5, 6, 8, 9, 10, 11, 12, 1, 2, 3, 4, 5, 6, 7, 10, 11, 12, 6, 9, 10, 12, 2, 12, 12, 6, 10, 11, 1, 2, 3, 4, 5, 6, 7, 8, 9, 10, 11, 12, 1, 2, 3, 4, 5, 6, 7, 8, 9, 10, 11, 12, 12, 1, 4, 11, 12, 1, 2, 3, 4, 5, 6, 7, 8, 9, 10, 11, 12, 3, 5, 6, 10, 11, 12, 6, 11, 12, 1, 2, 4, 5, 6, 8, 10, 11, 12, 1, 2, 3, 4, 5, 6, 7, 8, 10, 11, 12, 5, 7, 11, 12, 12, 10, 11, 12, 6, 11, 2, 5, 6, 12, 2, 3, 4, 5, 6, 7, 8, 9, 10, 11, 12, 5, 12, 1, 6, 12, 1, 3, 4, 5, 6, 7, 8, 9, 10, 11, 12, 7, 10, 12, 1, 5, 1, 2, 3, 4, 5, 6, 7, 8, 9, 10, 11, 12, 3, 5, 1, 2, 3, 4, 5, 6, 7, 8, 9, 10, 11, 12, 3, 5, 6, 7, 8, 10, 11, 12, 2, 3, 4, 5, 12, 1, 2, 3, 4, 5, 6, 7, 8, 9, 10, 11, 12, 1, 2, 3, 4, 5, 6, 7, 8, 10, 11, 12, 1, 2, 3, 4, 5, 6, 7, 8, 9, 10, 11, 12, 7, 12, 1, 2, 3, 4, 5, 6, 7, 8, 9, 10, 11, 12, 1, 2, 3, 4, 5, 6, 7, 8, 9, 10, 11, 12, 6, 8, 10, 12, 1, 2, 3, 4, 5, 6, 7, 8, 9, 10, 11, 12, 3, 6, 1, 2, 3, 4, 5, 6, 7, 8, 9, 10, 11, 12, 1, 2, 12, 3, 5, 6, 8, 10, 12, 1, 12, 1, 4, 9, 11, 12, 3, 4, 12, 10, 12, 1, 2, 3, 4, 5, 6, 8, 9, 10, 11, 12, 3, 5, 6, 8, 9, 12, 10, 12, 2, 3, 6, 12, 3, 5, 6, 7, 8, 10, 11, 1, 2, 3, 4, 5, 6, 7, 8, 9, 10, 11, 12, 3, 5, 3, 5, 9, 10, 1, 2, 7, 10, 11, 12, 1, 11, 12, 1, 2, 3, 5, 6, 7, 8, 9, 10, 11, 12, 6, 10, 12, 1, 2, 3, 5, 6, 7, 8, 10, 11, 12, 1, 2, 3, 4, 5, 6, 7, 8, 9, 10, 11, 12, 11, 12, 10, 12, 2, 12, 6, 8, 10, 3, 5, 6, 8, 10, 5, 8, 10, 12, 3, 4, 5, 6, 7, 8, 9, 10, 11, 12, 5, 1, 2, 3, 4, 5, 6, 7, 8, 9, 10, 11, 12, 1, 2, 5, 6, 7, 10, 12, 2, 11, 1, 11, 2, 3, 5, 6, 8, 9, 10, 11, 12, 1, 3, 4, 5, 6, 7, 8, 9, 10, 11, 12, 1, 2, 3, 4, 5, 6, 7, 8, 9, 10, 11, 12, 2, 3, 4, 5, 6, 8, 9, 10, 11, 12, 3, 9, 11, 2, 4, 11, 12, 5, 6, 10, 11, 12, 4, 6, 11, 5, 8, 10, 5, 11, 3, 10, 11, 3, 5, 6, 8, 10, 11, 12, 5, 11, 12, 6, 12, 1, 2, 5, 6, 7, 8, 10, 11, 12, 1, 2, 4, 6, 10, 11, 12, 4, 10, 8, 5, 12, 1, 2, 3, 4, 5, 6, 7, 8, 10, 11, 12, 2, 3, 4, 5, 6, 7, 8, 9, 10, 11, 12, 3, 5, 6, 8, 9, 10, 11, 12, 8, 3, 3, 4, 5, 6, 8, 10, 11, 12, 1, 2, 3, 4, 5, 6, 7, 8, 9, 10, 11, 12, 1, 2, 3, 4, 5, 6, 7, 8, 9, 10, 11, 12, 3, 5, 6, 10, 12, 6, 8, 10, 4, 5, 8, 10, 11, 12, 4, 5, 6, 10, 11, 12, 2, 3, 12, 1, 2, 3, 4, 5, 6, 7, 8, 9, 10, 11, 12, 2, 4, 6, 11, 4, 11, 2, 12, 6, 10, 1, 2, 3, 4, 5, 6, 7, 8, 9, 10, 11, 12, 7, 10, 11, 1, 2, 3, 4, 5, 6, 7, 8, 9, 10, 11, 12, 1, 2, 3, 5, 6, 7, 9, 10, 11, 12, 12, 12, 5, 11, 8, 10, 5, 6, 8, 9, 10, 11, 12, 3, 4, 9, 12, 5, 6, 9, 12, 1, 3, 4, 6, 10, 11, 12, 3, 4, 6, 9, 10, 2, 3, 4, 5, 6, 7, 8, 9, 10, 11, 12, 2, 4, 10, 11, 4, 11, 5, 6, 10, 11, 12, 2, 3, 4, 5, 6, 7, 8, 9, 10, 11, 12, 1, 2, 3, 4, 5, 6, 7, 8, 10, 11, 12, 1, 2, 3, 4, 5, 6, 7, 8, 9, 10, 11, 12, 12, 1, 2, 3, 4, 5, 6, 7, 8, 9, 10, 11, 12, 3, 4, 6, 11, 5, 12, 3, 12, 12, 6, 11, 1, 2, 3, 4, 5, 6, 7, 11, 12, 1, 2, 3, 4, 5, 6, 7, 8, 9, 10, 11, 12, 2, 3, 5, 10, 1, 2, 3, 4, 5, 6, 7, 8, 9, 10, 11, 12, 3, 5, 6, 7, 8, 9, 10, 11, 12, 3, 5, 8, 10, 11, 12, 1, 2, 3, 4, 5, 6, 7, 8, 9, 10, 11, 12, 3, 5, 6, 8, 9, 10, 11, 12, 2, 3, 4, 5, 6, 7, 9, 10, 11, 12, 1, 2, 4, 5, 10, 11, 12, 1, 4, 5, 11, 12, 1, 2, 4, 5, 6, 10, 11, 12, 1, 5, 6, 9, 10, 11, 12, 6, 9, 1, 4, 10, 11, 3, 4, 5, 6, 8, 9, 10, 11, 12, 1, 2, 4, 5, 6, 7, 10, 11, 12, 1, 2, 4, 11, 5, 6, 8, 9, 10, 11, 12, 1, 2, 3, 4, 5, 6, 7, 8, 10, 11, 12, 1, 3, 5, 6, 7, 9, 10, 12, 1, 2, 1, 2, 3, 4, 5, 6, 7, 8, 9, 10, 11, 12, 5, 6, 2, 12, 6, 8, 3, 5, 6, 8, 9, 10, 11, 12, 1, 2, 3, 4, 5, 6, 7, 8, 9, 10, 11, 12, 3, 2, 5, 10, 5, 7, 12, 2, 3, 5, 6, 9, 5, 11, 3, 5, 8, 6, 10, 12, 1, 3, 5, 6, 8, 9, 10, 12, 3, 4, 5, 7, 10, 11, 12, 5, 10, 2, 3, 5, 6, 8, 9, 10, 12, 5, 10, 4, 5, 6, 8, 10, 12, 1, 2, 3, 4, 5, 6, 7, 8, 10, 11, 12, 5, 8, 11, 3, 5, 7, 8, 10, 11, 12, 1, 2, 3, 5, 6, 7, 8, 9, 10, 11, 12, 5, 9, 3, 3, 4, 6, 10, 6, 6, 9, 5, 12, 12, 1, 3, 7, 10, 11, 12, 1, 2, 3, 4, 5, 6, 7, 8, 9, 10, 11, 12, 7, 8, 12, 4, 6, 7, 11, 12, 1, 2, 3, 4, 5, 6, 7, 8, 9, 10, 11, 12, 3, 5, 6, 7, 8, 9, 10, 11, 12, 2, 5, 6, 2, 3, 5, 6, 7, 8, 9, 10, 11, 12, 2, 10, 12, 2, 5, 6, 7, 8, 10, 12, 12, 4, 10, 11, 12, 1, 2, 3, 5, 6, 7, 10, 12, 8, 12, 10, 12, 3, 7, 8, 12, 6, 12, 5, 6, 5, 6, 8, 5, 10, 6, 9, 10, 1, 2, 3, 4, 5, 6, 7, 8, 9, 10, 11, 12, 6, 9, 6, 9, 1, 2, 4, 5, 6, 10, 11, 12, 5, 6, 8, 11, 12, 2, 5, 6, 8, 9, 10, 11, 12, 6, 7, 12, 1, 2, 3, 4, 5, 6, 7, 8, 9, 10, 11, 12, 1, 2, 4, 5, 10, 11, 12, 1, 2, 7, 12, 5, 6, 8, 10, 11, 1, 2, 3, 4, 5, 6, 7, 8, 10, 11, 12, 5, 11, 12, 3, 6, 8, 10, 11, 12, 3, 5, 6, 10, 11, 12], \"Freq\": [0.013957172375905732, 0.011963290607919199, 0.03788375359174413, 0.011963290607919199, 0.3309843734857645, 0.051840925967649866, 0.003987763535973066, 0.041871517127717195, 0.0179449359118788, 0.1455533690630169, 0.1734677138148284, 0.15751665967093612, 0.527624308394109, 0.1055248616788218, 0.2110497233576436, 0.1055248616788218, 0.38257704773809353, 0.11252266109943927, 0.2025407899789907, 0.2025407899789907, 0.09001812887955142, 0.1847610658481329, 0.6466637304684651, 0.1847610658481329, 0.6272139152048386, 0.17920397577281105, 0.08960198788640553, 0.08960198788640553, 0.07188190320494992, 0.03227350756140608, 0.1070893659992111, 0.104155410766356, 0.03227350756140608, 0.01907070901355814, 0.07041492558852236, 0.0044009328492826474, 0.0044009328492826474, 0.06454701512281216, 0.15696660495774775, 0.3330039189290537, 0.8886490807317828, 0.15483737206466328, 0.0419351216008463, 0.16612759711104497, 0.0419351216008463, 0.05645112523190848, 0.00645155716936097, 0.03387067513914509, 0.02580622867744388, 0.00645155716936097, 0.05161245735488776, 0.05483823593956824, 0.35967431219187407, 0.341280583525538, 0.6484331086985221, 0.14426274363138286, 0.8655764617882972, 1.0037900112106808, 0.14520454353264534, 0.09680302902176355, 0.7260227176632266, 0.041768744622983016, 0.2589662166624947, 0.016707497849193207, 0.033414995698386414, 0.033414995698386414, 0.10024498709515925, 0.09189123817056265, 0.44274869300362, 0.09774564301431464, 0.14661846452147198, 0.6842195011002025, 0.0014862929524887207, 0.24226575125566147, 0.08323240533936835, 0.02823956609728569, 0.04756137447963906, 0.035671030859729294, 0.17686886134615776, 0.016349222477375927, 0.09512274895927812, 0.06093801105203755, 0.2095673063009096, 0.0760391459081689, 0.5702935943112668, 0.3421761565867601, 0.17721318613188755, 0.6379674700747952, 0.21265582335826505, 0.11695525571447832, 0.07797017047631888, 0.6627464490487105, 0.07797017047631888, 0.5758479398723806, 0.07198099248404757, 0.35990496242023784, 0.10144045381229456, 0.6762696920819637, 0.03381348460409819, 0.03381348460409819, 0.03381348460409819, 0.10144045381229456, 0.5318542678666682, 0.10637085357333366, 0.31911256072000094, 0.34542494537134094, 0.03493061245328167, 0.04657414993770889, 0.031049433291805928, 0.015524716645902964, 0.3493061245328167, 0.05045532909918463, 0.12807891232869945, 0.002800615503095882, 0.19884370071980761, 0.1876412387074241, 0.260457241787917, 0.01400307751547941, 0.05041107905572588, 0.19604308521671174, 0.08961969609906822, 0.1401218111522424, 0.0700609055761212, 0.6305481501850907, 0.21018271672836358, 0.7854578199546599, 0.08727309110607333, 0.08727309110607333, 0.8170070713874634, 0.1361678452312439, 0.09130751510090393, 0.0351182750388092, 0.1404731001552368, 0.0702365500776184, 0.4284429554734723, 0.11237848012418945, 0.12642579013971314, 0.041595610711143295, 0.08319122142228659, 0.7903166035117226, 0.041595610711143295, 0.9843888549974473, 0.1680445809596054, 0.6721783238384216, 0.8326432722020191, 0.1665286544404038, 0.1530388378030718, 0.6121553512122871, 0.10202589186871452, 0.10202589186871452, 0.789651044942896, 0.11280729213469942, 0.11280729213469942, 0.4783625053043183, 0.1406948545012701, 0.11255588360101607, 0.22511176720203213, 0.05627794180050803, 0.25021159667135934, 0.750634790014078, 0.043306805471685514, 0.03984226103395067, 0.13684950529052622, 0.015590449969806786, 0.1489754108225982, 0.062361799879227145, 0.17322722188674206, 0.017322722188674207, 0.02078726662640905, 0.03724385270564955, 0.0918104275999733, 0.21393561903012645, 0.15839488669073892, 0.7919744334536946, 0.18076694862599385, 0.3873577470557011, 0.06455962450928351, 0.09038347431299693, 0.10329539921485363, 0.14203117392042375, 0.03873577470557011, 0.005654461760878149, 0.22052400867424782, 0.028272308804390744, 0.04523569408702519, 0.028272308804390744, 0.40712124678322675, 0.050890155847903344, 0.005654461760878149, 0.1979061616307352, 0.020075377031815556, 0.5793180229181061, 0.011471644018180318, 0.05735822009090159, 0.022943288036360636, 0.04875448707726635, 0.07456568611817206, 0.06309404209999175, 0.04015075406363111, 0.07743359712271715, 0.08850395578343741, 0.008045814162130674, 0.05632069913491471, 0.032183256648522694, 0.1206872124319601, 0.016091628324261347, 0.6838942037811072, 0.03747483166577333, 0.22484898999464, 0.7345067006491574, 0.1466070611535494, 0.048869020384516466, 0.048869020384516466, 0.733035305767747, 0.10462276765263757, 0.03487425588421252, 0.10462276765263757, 0.03487425588421252, 0.6277366059158255, 0.06974851176842504, 0.43063571594526184, 0.047848412882806876, 0.09569682576561375, 0.1913936515312275, 0.047848412882806876, 0.09569682576561375, 0.18971993720889901, 0.009034282724233286, 0.03613713089693314, 0.05420569634539971, 0.15358280631196586, 0.2981313298996984, 0.09034282724233286, 0.05420569634539971, 0.11744567541503272, 0.11359033616549682, 0.11359033616549682, 0.6247468489102325, 0.11359033616549682, 0.07393870457089081, 0.023942056718193216, 0.02253370044065244, 0.26125008948381423, 0.021125344163111664, 0.04154651018745294, 0.0049292469713927214, 0.0049292469713927214, 0.002112534416311166, 0.061967676211794206, 0.4126483893194478, 0.0690094575994981, 0.002317395849426023, 0.11355239662187512, 0.004634791698852046, 0.0301261460425383, 0.08342625057933682, 0.23405698079202833, 0.025491354343686254, 0.025491354343686254, 0.18770906380350785, 0.19002645965293388, 0.10196541737474502, 0.7036832632126172, 0.23456108773753906, 0.9320181270478503, 0.062134541803190016, 0.004090886162846624, 0.006818143604744373, 0.7827228858246541, 0.0013636287209488746, 0.024545316977079745, 0.005454514883795498, 0.004090886162846624, 0.005454514883795498, 0.006818143604744373, 0.05863603500080161, 0.036817975465619615, 0.06272692116364824, 0.09808765189681719, 0.049043825948408594, 0.5394820854324945, 0.2942629556904516, 1.0192585637073166, 0.04747145081895449, 0.6171288606464084, 0.07120717622843173, 0.2610929795042497, 0.08863115695859192, 0.015640792404457395, 0.17378658227174887, 0.0764660961995695, 0.07820396202228698, 0.04692237721337219, 0.02606798734076233, 0.03128158480891479, 0.08515542531315694, 0.06430103544054708, 0.11643701012207174, 0.1963788379670762, 0.15131871054322735, 0.7565935527161368, 0.15131871054322735, 0.6941379136559168, 0.11568965227598614, 0.012854405808442904, 0.051417623233771616, 0.11568965227598614, 0.5211019182009544, 0.17370063940031813, 0.2605509591004772, 0.065023250879289, 0.845302261430757, 0.065023250879289, 0.8091823693211382, 0.20229559233028455, 0.5245654011970811, 0.06557067514963513, 0.1967120254489054, 0.1967120254489054, 0.06794184265055193, 0.8832439544571751, 0.13588368530110387, 0.014482893466458603, 0.15262741576190988, 0.1336882473826948, 0.021167305835593342, 0.13034604119812743, 0.01671103092283685, 0.13146010992631654, 0.011140687281891232, 0.28074531950365905, 0.03007985566110633, 0.0022281374563782467, 0.07464260478867125, 0.012723878245618247, 0.03817163473685474, 0.07634326947370948, 0.24811562578955582, 0.6298319731581032, 0.005178829452053509, 0.025894147260267543, 0.010357658904107017, 0.1242919068492842, 0.010357658904107017, 0.8234338828765079, 0.006774409761888741, 0.021000670261855096, 0.12193937571399732, 0.0027097639047554962, 0.06096968785699866, 0.3272039914992262, 0.006096968785699867, 0.013548819523777482, 0.24862083826131678, 0.04674342735703231, 0.023710434166610592, 0.12058449376161957, 0.013235759191920934, 0.019853638787881402, 0.006617879595960467, 0.052943036767683735, 0.4698694513131932, 0.2713330634343792, 0.09926819393940702, 0.06617879595960467, 0.00928284727299731, 0.032489965455490585, 0.00928284727299731, 0.004641423636498655, 0.34810677273739915, 0.11603559091246639, 0.0023207118182493277, 0.09979060818472109, 0.0069621354547479836, 0.12763915000371304, 0.11371487909421706, 0.12995986182196234, 1.0374153168431122, 0.3024766082397009, 0.2046165291033271, 0.004448185415289719, 0.017792741661158875, 0.03558548332231775, 0.35140664780788783, 0.08006733747521494, 1.0209059868060375, 0.061773971613524416, 0.9266095742028663, 0.009947156883439497, 0.0016578594805732496, 0.0033157189611464992, 0.11936588260127397, 0.0033157189611464992, 0.3183090202700639, 0.07626153610636949, 0.0016578594805732496, 0.06963009818407648, 0.06797223870350323, 0.33157189611464993, 0.5211147617092313, 0.44666979575076976, 1.0059779658039762, 0.6694895898965462, 0.3347447949482731, 1.0009075114350279, 0.12949393881713755, 0.030350141910266616, 0.12949393881713755, 0.05058356985044436, 0.02225677073419552, 0.0020233427940177743, 0.006070028382053323, 0.020233427940177743, 0.14770402396329754, 0.3480149605710572, 0.11533053925901314, 0.05107900911097183, 0.612948109331662, 0.306474054665831, 0.22633298603726612, 0.6789989581117983, 0.9122664807651563, 0.10136294230723959, 0.44424526570088696, 0.002047213205994871, 0.07915891063180167, 0.03070819808992306, 0.006824044019982902, 0.14330492441964096, 0.02524896287393674, 0.12351519676169054, 0.04230907292389399, 0.10236066029974354, 0.043553194315041885, 0.01866565470644652, 0.08212888070836469, 0.011199392823867912, 0.1953671859274736, 0.10701642031696006, 0.028620670549884666, 0.023643162628165595, 0.008710638863008376, 0.10701642031696006, 0.07217386486492655, 0.30238360624443367, 0.0011998822675439945, 0.06959317151755169, 0.07799234739035965, 0.010798940407895951, 0.21717869042546303, 0.014398587210527935, 0.07079305378509568, 0.04679540843421579, 0.013198704942983941, 0.09599058140351957, 0.029997056688599866, 0.3539652689254784, 0.24515161134193345, 0.07004331752626669, 0.6654115164995337, 0.10172389076385008, 0.018495252866154558, 0.11097151719692736, 0.018495252866154558, 0.7583053675123369, 0.7448100138166267, 0.18620250345415668, 1.0013293816473048, 0.006654752127720286, 0.11978553829896514, 0.022182507092400952, 0.139749794682126, 0.0865117776603637, 0.011091253546200476, 0.11313078617124485, 0.1286585411359255, 0.139749794682126, 0.093166529788084, 0.139749794682126, 0.5933022400997761, 0.4746417920798209, 0.0788577682234789, 0.9462932186817469, 0.23913784325337484, 0.05816866457514523, 0.03231592476396957, 0.025852739811175657, 0.09263898432337944, 0.02369834482691102, 0.03877910971676349, 0.006463184952793914, 0.015080764889852468, 0.12710930407161364, 0.1464988589299954, 0.19389554858381744, 0.780826757972319, 0.19520668949307976, 0.8629436421247518, 0.12327766316067883, 0.7913555208323828, 0.1978388802080957, 0.0627343418203277, 0.0025605853804215387, 0.1792409766295077, 0.008962048831475385, 0.02048468304337231, 0.4967535638017785, 0.15235483013508153, 0.0038408780706323076, 0.07297668334201385, 0.0013376331751030915, 0.026752663502061833, 0.23141053929283484, 0.1712170464131957, 0.026752663502061833, 0.005350532700412366, 0.01738923127634019, 0.0642063924049484, 0.3156814293243296, 0.1404514833858246, 0.06906747106183446, 0.06906747106183446, 0.5525397684946757, 0.2072024131855034, 0.06906747106183446, 0.8365229940253157, 0.1394204990042193, 0.3852972176264369, 0.5779458264396554, 1.0247281683657619, 0.8371986906416075, 0.03639994307137424, 0.03639994307137424, 0.07279988614274847, 0.4173500185969387, 0.04132178401949888, 0.09917228164679733, 0.012396535205849666, 0.02066089200974944, 0.02066089200974944, 0.09504010324484743, 0.07851138963704787, 0.2107410984994443, 0.5654589796169922, 0.1884863265389974, 0.8049373529873961, 0.10061716912342451, 0.20123433824684903, 0.07415883364525, 0.07415883364525, 0.6674295028072499, 0.19775688972066666, 0.0018366867623705904, 0.06428403668297067, 0.04959054258400594, 0.19101542328654142, 0.2938698819792945, 0.03673373524741181, 0.029386988197929446, 0.13775150717779427, 0.018366867623705905, 0.029386988197929446, 0.14693494098964724, 0.014059793897564274, 0.012781630815967523, 0.18022099450514206, 0.028119587795128548, 0.12909447124127196, 0.09969672036454667, 0.012781630815967523, 0.1367634497308525, 0.03834489244790257, 0.10864386193572394, 0.11120018809891745, 0.12781630815967523, 0.9591977819654072, 0.8704630355180144, 0.10043804255977089, 0.5667942152018532, 0.42509566140138993, 0.7718657650268167, 0.19296644125670417, 0.4928862147982255, 0.2112369491992395, 0.28164926559898595, 0.3433164352024098, 0.029953782937123002, 0.09446962310938793, 0.004608274298018924, 0.004608274298018924, 0.14746477753660556, 0.18202683477174747, 0.19354752051679477, 0.21319395675642383, 0.041802736618906634, 0.002090136830945332, 0.0919660205615946, 0.006270410492835996, 0.002090136830945332, 0.027171778802289312, 0.4870018816102623, 0.12958848351861058, 0.06548798163128663, 0.43658654420857756, 0.10914663605214439, 0.10914663605214439, 0.06548798163128663, 0.08731730884171551, 0.13097596326257327, 0.5447540672379054, 0.06809425840473818, 0.3404712920236909, 0.004139679510548686, 0.006899465850914477, 0.018628557797469088, 0.0006899465850914477, 0.3429034527904495, 0.1414390499437468, 0.006899465850914477, 0.11177134678481453, 0.008279359021097372, 0.07037455167932767, 0.15799776798594153, 0.12902001141210073, 0.7470859819240109, 0.13583381489527468, 0.13583381489527468, 0.025251835077999028, 0.15151101046799414, 0.025251835077999028, 0.8080587224959689, 0.9334416281153742, 0.06667440200824101, 0.0007397907594713587, 0.007397907594713586, 0.07175970366872178, 0.03698953797356793, 0.14203982581850086, 0.09025447265550575, 0.008877489113656304, 0.10209112480704749, 0.06658116835242228, 0.1398204535400868, 0.07175970366872178, 0.2611461380933896, 0.04967136939831839, 0.012226798621124527, 0.038208745691014144, 0.003056699655281132, 0.0855875903478717, 0.0038208745691014146, 0.1207396363836047, 0.013755148448765093, 0.0038208745691014146, 0.1123337123315816, 0.061898168019442916, 0.4951853441555433, 0.013021823499242007, 0.13021823499242008, 0.007441041999566861, 0.2697377724842987, 0.007441041999566861, 0.25113516748538156, 0.18602604998917152, 0.037205209997834304, 0.007441041999566861, 0.08929250399480233, 0.04022838679149165, 0.20114193395745822, 0.7241109622468497, 0.04022838679149165, 0.5997918693585861, 0.07497398366982326, 0.29989593467929304, 0.10877635741352937, 0.10877635741352937, 0.688916930285686, 0.07251757160901957, 0.04226193816894327, 0.051653479984264, 0.009391541815320727, 0.15026466904513164, 0.0892196472455469, 0.06104502179958472, 0.004695770907660364, 0.09391541815320727, 0.39444475624347053, 0.09861118906086763, 0.16177838541476516, 0.48533515624429546, 0.3235567708295303, 0.22257131240671563, 0.04805516972417724, 0.07587658377501669, 0.05058438918334446, 0.04805516972417724, 0.022762975132505008, 0.015175316755003339, 0.18969145943754173, 0.20486677619254506, 0.11634409512169226, 0.8403756775553729, 0.8204312688884412, 0.09115902987649346, 0.09115902987649346, 0.7936269041441306, 0.07780655922981673, 0.09336787107578007, 0.03112262369192669, 0.5699888459854766, 0.40713488998962616, 0.09772833249736988, 0.4886416624868494, 0.09772833249736988, 0.19545666499473976, 1.0303209376425195, 0.05139095304600442, 0.20556381218401767, 0.4625185774140398, 0.2569547652300221, 0.9060748010960203, 0.10659703542306122, 0.2631726668281509, 0.5263453336563018, 0.1754484445521006, 0.11111040298366058, 0.018518400497276762, 0.5555520149183029, 0.25925760696187466, 0.07407360198910705, 0.5563632353869161, 0.07518422099823191, 0.030073688399292763, 0.28570003979328124, 0.04511053259893915, 0.006615120445703422, 0.6234751020075475, 0.1041881470198289, 0.02480670167138783, 0.011576460779980988, 0.004961340334277566, 0.02480670167138783, 0.10584192713125475, 0.019845361337110266, 0.07442010501416349, 0.8332895597457617, 0.16665791194915233, 0.45873895900854006, 0.005224817300780639, 0.02403415958359094, 0.011494598061717405, 0.13271035943982823, 0.0010449634601561277, 0.2560160477382513, 0.07837225951170958, 0.03239386726483996, 0.0014769301909927526, 0.2894783174345795, 0.0014769301909927526, 0.16984697196416657, 0.02658474343786955, 0.005907720763971011, 0.16689311158218106, 0.008861581145956516, 0.25255506265976074, 0.032492464201840564, 0.04430790572978258, 0.7154287709765083, 0.05961906424804236, 0.004586081865234027, 0.02293040932617014, 0.04586081865234028, 0.0825494735742125, 0.06420514611327638, 0.04108507326590114, 0.004833538031282487, 0.277928436798743, 0.03625153523461866, 0.009667076062564974, 0.014500614093847463, 0.05558568735974861, 0.2948458199082317, 0.04591861129718363, 0.21750921140771193, 0.8170567624420159, 0.16341135248840316, 0.4857641350880598, 0.3238427567253732, 0.1619213783626866, 0.1008299533873798, 0.8570546037927282, 0.02520748834684495, 0.5910129293314953, 0.1970043097771651, 0.3940086195543302, 0.0016367390358979642, 0.0006546956143591857, 0.4042745418667972, 0.00229143465025715, 0.036008258789755214, 0.058595257485147115, 0.001964086843077557, 0.11129825444106156, 0.11358968909131871, 0.16367390358979642, 0.01276656448000412, 0.09329412504618395, 0.7505551065582222, 0.1250925177597037, 0.1250925177597037, 0.5663622201168957, 0.28318111005844787, 0.023735571435105463, 0.05043808929959911, 0.002966946429388183, 0.02274658929197607, 0.2512014643548661, 0.14933630361253852, 0.004944910715646972, 0.005933892858776366, 0.012856767860682126, 0.02076862500571728, 0.20768625005717278, 0.24823451792547796, 0.10917163207936063, 0.05458581603968032, 0.7914943325753645, 0.011753705983584968, 0.003917901994528323, 0.052891676926132364, 0.005876852991792484, 0.29776055158415254, 0.08227594188509478, 0.10774230484952889, 0.013712656980849131, 0.07052223590150981, 0.19589509972641614, 0.1586750307783971, 0.34434431195312265, 0.3607416601413666, 0.032794696376487874, 0.032794696376487874, 0.1311787855059515, 0.08198674094121969, 0.015362602191828912, 0.16130732301420359, 0.02880487910967921, 0.011521951643871684, 0.14210407027441743, 0.053769107671401195, 0.15746667246624635, 0.024964228561721983, 0.015362602191828912, 0.03840650547957228, 0.05184878239742258, 0.2976504174666852, 0.2960551925704891, 0.05286699867330163, 0.2643349933665081, 0.0422935989386413, 0.02114679946932065, 0.010573399734660325, 0.02114679946932065, 0.2960551925704891, 0.6082063511963718, 0.07602579389954647, 0.3041031755981859, 0.13596561785748287, 0.8157937071448973, 0.13596561785748287, 0.9465220974029763, 0.04285380371968058, 0.17141521487872233, 0.7499415650944101, 0.032140352789760435, 0.03119071062326166, 0.31190710623261664, 0.051984517705436106, 0.11436593895195943, 0.020793807082174442, 0.03119071062326166, 0.010396903541087221, 0.13515974603413386, 0.31190710623261664, 0.42603657315362026, 0.568048764204827, 0.0028789674877031774, 0.02303173990162542, 0.01151586995081271, 0.08349005714339215, 0.0028789674877031774, 0.10076386206961122, 0.005757934975406355, 0.0028789674877031774, 0.7658053517290452, 0.07529805175830658, 0.03513909082054306, 0.010039740234440877, 0.010039740234440877, 0.1355364931649518, 0.010039740234440877, 0.045178831054983944, 0.020079480468881753, 0.03513909082054306, 0.010039740234440877, 0.005019870117220438, 0.6023844140664526, 0.6117030991458919, 0.14116225364905197, 0.047054084549683996, 0.14116225364905197, 0.034145929788320824, 0.3414592978832082, 0.04097511574598499, 0.12975453319561914, 0.2868258102218949, 0.16390046298393995, 0.1451942951534099, 0.23689595525030036, 0.49671732552482334, 0.11462707512111307, 0.8905102364670328, 0.10235749844448652, 0.061004326330379464, 0.12200865266075893, 0.793056242294933, 0.9786595252218181, 0.012233244065272727, 0.004462662767910073, 0.02008198245559533, 0.011156656919775182, 0.022313313839550365, 0.31908038790557025, 0.12049189473357197, 0.004462662767910073, 0.10264124366193168, 0.015619319687685256, 0.06917127290260613, 0.16958118518058277, 0.14280520857312234, 0.9057879119299308, 0.0015779247139156086, 0.02366887070873413, 0.1435911489663204, 0.05207151555921508, 0.13254567596891112, 0.21775361052035397, 0.009467548283493651, 0.04102604256180582, 0.028402644850480954, 0.18935096566987303, 0.06627283798445556, 0.0915196334071053, 0.1610307686899433, 0.8051538434497164, 0.03220615373798866, 0.6365704140790324, 0.008602302892959896, 0.043011514464799484, 0.017204605785919792, 0.034409211571839585, 0.21505757232399741, 0.034409211571839585, 0.47874574117357105, 0.11968643529339276, 0.47874574117357105, 0.010907173858829252, 0.03340321994266458, 0.21064479514863993, 0.06612474151915235, 0.04567379053384749, 0.04908228236473164, 0.028631331379426788, 0.029994728111780444, 0.01227057059118291, 0.10498154839123156, 0.10089135819417058, 0.30676426477957275, 0.9008685569518584, 0.006259410343640706, 0.004868430267276105, 0.6697569067695556, 0.006954900381823006, 0.007650390420005307, 0.01112784061091681, 0.03477450190911503, 0.024342151336380524, 0.004868430267276105, 0.05077077278730795, 0.01043235057273451, 0.16830858924011677, 0.8591346320972036, 0.14318910534953394, 0.0031249253322529545, 0.0010416417774176516, 0.4854050682766256, 0.09791432707725925, 0.015624626661264773, 0.02083283554835303, 0.002083283554835303, 0.11770552084819462, 0.004166567109670606, 0.16666268438682424, 0.008333134219341213, 0.07708149152890621, 0.7730220044740331, 0.1405494553589151, 0.037279281545602484, 0.18639640772801241, 0.7828649124576522, 0.05674271648147223, 0.5957985230554583, 0.36882765712956944, 0.5525068664421509, 0.055250686644215084, 0.055250686644215084, 0.27625343322107543, 0.11050137328843017, 0.1998824978589728, 0.7995299914358912, 0.5555302067921472, 0.07936145811316388, 0.3174458324526555, 0.06393916101665556, 0.8951482542331779, 0.06393916101665556, 0.0411801047450732, 0.0102950261862683, 0.2487964661681506, 0.012010863883979683, 0.0411801047450732, 0.053190968629052884, 0.00514751309313415, 0.003431675395422767, 0.0102950261862683, 0.22134306300476847, 0.13898285351462206, 0.21447971221392292, 0.01952189358084877, 0.7223100624914045, 0.01952189358084877, 0.01952189358084877, 0.05856568074254631, 0.1366532550659414, 0.3468670094828792, 0.05781116824714653, 0.5925644745332519, 0.9678279263015828, 0.0657957368285585, 0.04420651068168773, 0.1757979843388047, 0.05243097778525754, 0.04626262745758019, 0.04009427712990283, 0.0657957368285585, 0.005140291939731132, 0.004112233551784906, 0.028785634862494337, 0.10691807234640754, 0.36496072772091037, 0.10330184404677709, 0.027606527288362843, 0.11844090739845993, 0.04363612377837998, 0.028497060426697127, 0.03562132553337141, 0.1024113109084428, 0.019591729043354274, 0.016029596490017135, 0.09884917835510566, 0.07035211792840854, 0.33573099315202554, 0.06011045130381636, 0.9317119952091536, 0.9581404770849219, 0.03909169293669445, 0.0781833858733889, 0.09493696856054366, 0.016753582687154763, 0.3127335434935556, 0.16753582687154764, 0.15915903552797026, 0.027922637811924604, 0.08376791343577382, 0.019545846468347224, 0.0027922637811924607, 0.1448848995887371, 0.5795395983549484, 0.1448848995887371, 0.5086521099836303, 0.008694907862968039, 0.04782199324632422, 0.017389815725936078, 0.07390671683522834, 0.2825845055464613, 0.05651690110929226, 0.35358399309669475, 0.08455269400138353, 0.061492868364642565, 0.007686608545580321, 0.16141877945718675, 0.19216521363950803, 0.13835895382044577, 0.31971940513154873, 0.009134840146615678, 0.03653936058646271, 0.027404520439847035, 0.11875292190600382, 0.3379890854247801, 0.14615744234585085, 0.07225072603177281, 0.7947579863495009, 0.07225072603177281, 0.16842256819503945, 0.1122817121300263, 0.5052677045851184, 0.16842256819503945, 0.7954093129746812, 0.15908186259493623, 0.15908186259493623, 0.2257620193578243, 0.7901670677523851, 0.11811876219338423, 0.14174251463206106, 0.7323363255989822, 0.4699657409602315, 0.05221841566224795, 0.4699657409602315, 0.938600684537005, 0.44719012510886047, 0.17199620196494633, 0.017199620196494635, 0.017199620196494635, 0.3095931635369034, 0.03439924039298927, 1.0077944375772985, 0.8679543372319408, 0.14465905620532346, 0.5004695582521285, 0.2224309147787238, 0.27803864347340473, 0.454718136943948, 0.30314542462929867, 0.30314542462929867, 0.931078211422228, 0.08867411537354553, 0.002435214906545999, 0.11201988570111597, 0.07062123228983398, 0.09497338135529397, 0.02922257887855199, 0.16559461364512795, 0.038963438504735985, 0.14611289439275996, 0.034093008691643986, 0.3019666484117039, 0.08034412040947222, 0.10590815872157702, 0.032868049258420455, 0.05478008209736742, 0.014608021892631313, 0.02191203283894697, 0.029216043785262626, 0.007304010946315657, 0.025564038312104798, 0.09495214230210354, 0.5295407936078851, 0.10138393395370097, 0.033794644651233656, 0.7772768269783742, 0.06758928930246731, 0.05284943419814126, 0.008130682184329425, 0.056914775290305974, 0.37401138047915355, 0.0060980116382470684, 0.008130682184329425, 0.0020326705460823563, 0.018294034914741207, 0.044718752013811834, 0.2886392175436946, 0.13618892658751786, 1.0061949997386925, 0.16557530664742812, 0.6623012265897125, 0.16557530664742812, 0.058274414704649086, 0.05411195651145987, 0.1623358695343796, 0.004162458193189221, 0.24974749159135323, 0.0208122909659461, 0.012487374579567662, 0.04994949831827065, 0.012487374579567662, 0.37462123738702985, 0.01798511477444261, 0.005995038258147537, 0.17835238817988922, 0.004496278693610653, 0.245796568584049, 0.12589580342109827, 0.013488836080831958, 0.05245658475879095, 0.029975191290737682, 0.1049131695175819, 0.12889332255017202, 0.08992557387221305, 0.49692869912028254, 0.49692869912028254, 0.49707426558096235, 0.49707426558096235, 0.56859373705106, 0.28429686852553, 0.142148434262765, 0.0798578413595964, 0.07295654642728559, 0.0502808630782644, 0.034506474661554, 0.027605179729243198, 0.019717985520888, 0.08478733773981839, 0.0226756833490212, 0.0059153956562664, 0.0522526616303532, 0.0946463305002624, 0.45449956625646837, 0.4136564093515036, 0.5515418791353381, 0.0014002580787127257, 0.0014002580787127257, 0.47608774676232674, 0.011202064629701806, 0.023804387338116337, 0.021003871180690886, 0.004200774236138178, 0.20303742141334524, 0.05741058122722176, 0.12462296900543259, 0.005601032314850903, 0.07001290393563629, 0.06614853869682798, 0.11595449724502786, 0.0334633783995718, 0.054475267162093624, 0.1276277687797622, 0.05992279387830299, 0.01712079825094371, 0.02645941547873119, 0.04902774044588426, 0.10895053432418725, 0.049805958548199886, 0.2918317883683587, 0.012034475474896724, 0.004011491824965575, 0.006685819708275958, 0.00802298364993115, 0.10964744321572571, 0.052149393724552476, 0.0026743278833103834, 0.04011491824965575, 0.04145208219131094, 0.10697311533241532, 0.188540115773382, 0.42521813344635095, 0.10393144961725154, 0.05196572480862577, 0.675554422512135, 0.1558971744258773, 0.9679636550560448, 0.004634083604740443, 0.7182829587347688, 0.01390225081422133, 0.009268167209480887, 0.07414533767584709, 0.060243086861625765, 0.05560900325688532, 0.02317041802370222, 0.037072668837923546, 0.0030383788395213556, 0.320548967569503, 0.03190297781497423, 0.0881129863461193, 0.027345409555692198, 0.01974946245688881, 0.11849677474133286, 0.009115136518564066, 0.11849677474133286, 0.13976542661798236, 0.12457353242037557, 0.9441476604517928, 0.055538097673634865, 0.027487995451957323, 0.04017476258362993, 0.08246398635587197, 0.016915689508896815, 0.09937967586476879, 0.07823506397864777, 0.02325907307473312, 0.019030150697508914, 0.1162953653736656, 0.07612060279003566, 0.06766275803558726, 0.3573439408754452, 0.023585811485272806, 0.04717162297054561, 0.6839885330729114, 0.04717162297054561, 0.18868649188218245, 0.8238835544122307, 0.10985114058829744, 0.05492557029414872, 0.14877364190523443, 0.022205021179885737, 0.0473707118504229, 0.017764016943908587, 0.05181171608640005, 0.07845774150226294, 0.03182719702450289, 0.005181171608640005, 0.04885104659574862, 0.10140293005481153, 0.14433263766925727, 0.301988288046446, 0.048925078907209485, 0.048925078907209485, 0.09785015781441897, 0.08154179817868248, 0.09785015781441897, 0.5544842276150409, 0.048925078907209485, 0.03261671927147299, 0.1075599121031891, 0.05377995605159455, 0.1075599121031891, 0.5377995605159456, 0.16133986815478366, 0.06353115625275582, 0.5188377760641725, 0.15882789063188954, 0.01058852604212597, 0.2541246250110233, 0.87289422090694, 0.07274118507557834, 0.012518128627556063, 0.30401169524064725, 0.05186081859987512, 0.14842923944102188, 0.033977777703366456, 0.001788304089650866, 0.1841953212340392, 0.1430643271720693, 0.11266315764800457, 0.005364912268952598, 0.001788304089650866, 0.6927084310155994, 0.027343753855878925, 0.036458338474505234, 0.05468750771175785, 0.10026043080488939, 0.009114584618626308, 0.05468750771175785, 0.027343753855878925, 0.9898678125173722, 1.0163671146352478, 0.15828516813105512, 0.7914258406552757, 0.6915735172591171, 0.027662940690364686, 0.027662940690364686, 0.24896646621328217, 0.12929508807509216, 0.6787992123942338, 0.03232377201877304, 0.1616188600938652, 0.8068175756506144, 0.2017043939126536, 1.0088607941915073, 0.03184107864036182, 0.01592053932018091, 0.2865697077632564, 0.1432848538816282, 0.12736431456144728, 0.366172404364161, 0.01592053932018091, 0.7709615491032419, 0.15419230982064835, 0.011134308285041925, 0.0037114360950139752, 0.018557180475069875, 0.0074228721900279505, 0.1336116994205031, 0.25980052665097825, 0.0074228721900279505, 0.03711436095013975, 0.029691488760111802, 0.1373231355155171, 0.19670611303574068, 0.15959175208560092, 0.027768911837040215, 0.8108522256415743, 0.01666134710222413, 0.011107564734816087, 0.005553782367408043, 0.07775295314371261, 0.011107564734816087, 0.03332269420444826, 1.0248062653862704, 1.006190254125655, 0.16140344830737952, 0.4842103449221385, 0.4842103449221385, 0.04852460602043278, 0.06469947469391038, 0.03234973734695519, 0.04852460602043278, 0.8087434336738797, 0.5455303131381787, 0.13638257828454467, 0.27276515656908934, 0.0475093730799037, 0.1742010346263136, 0.021115276924401648, 0.042230553848803296, 0.021115276924401648, 0.22171040770621728, 0.010557638462200824, 0.0950187461598074, 0.021115276924401648, 0.3484020692526272, 0.8406828971435922, 0.12009755673479888, 1.0153343029684654, 0.8526623275507033, 0.15502951410012786, 1.0204105905751593, 0.004113150667681784, 0.0030848630007613382, 0.25501534139627063, 0.10797020502664684, 0.013367739669965798, 0.02365061633917026, 0.018509178004568028, 0.0514143833460223, 0.011311164336124906, 0.16246945137343047, 0.08123472568671523, 0.26838308106623643, 0.0051292507833145895, 0.006994432886338077, 0.22428814788857435, 0.1902485745083957, 0.012123683669652666, 0.018651821030234873, 0.01585404787569964, 0.050826212307390026, 0.0009325910515117436, 0.14128754430402915, 0.127298678531353, 0.2065689179098512, 0.7047393502576851, 0.0783043722508539, 0.19576093062713473, 0.0783043722508539, 0.9470014890567227, 0.011452606916912703, 0.3206729936735557, 0.011452606916912703, 0.03435782075073811, 0.11452606916912701, 0.04581042766765081, 0.04581042766765081, 0.14888388991986512, 0.2634099590889921, 0.27827620840961226, 0.6261214689216276, 0.13913810420480613, 0.5586751677470465, 0.17190005161447586, 0.3008250903253327, 0.226208260935063, 0.75402753645021, 0.09738979306461328, 0.022474567630295372, 0.0074915225434317905, 0.284677856650408, 0.044949135260590745, 0.06742370289088612, 0.022474567630295372, 0.022474567630295372, 0.19477958612922655, 0.2397287213898173, 0.06862700609553216, 0.31568422803944796, 0.06862700609553216, 0.027450802438212865, 0.507839845106938, 0.01930604830139662, 0.011951363234197907, 0.04412811040319227, 0.02022538393479646, 0.2528172991849557, 0.12227163924217858, 0.023902726468395814, 0.06619216560478841, 0.022983390834995975, 0.09285289897338374, 0.19397981864736602, 0.12870698867597746, 0.9023982541208501, 0.090239825412085, 0.010365018215066038, 0.0025912545537665095, 0.37314065574237737, 0.0025912545537665095, 0.0077737636612995285, 0.0829201457205283, 0.04664258196779717, 0.37054940118861085, 0.10624143670442689, 0.009893205250321335, 0.010792587545805093, 0.2423835286328727, 0.015739190170965763, 0.0683530544567656, 0.06790336330902372, 0.027431160012254614, 0.09173699413934329, 0.09128730299160141, 0.13715580006127306, 0.05486232002450923, 0.18212491483546095, 1.025064545148015, 0.010126557126754792, 0.04050622850701917, 0.016877595211257986, 0.04050622850701917, 0.013502076169006389, 0.2362863329576118, 0.016877595211257986, 0.17552699019708307, 0.013502076169006389, 0.43206643740820444, 0.9459470014082858, 0.027684415851526922, 0.055368831703053845, 0.44295065362443076, 0.11073766340610769, 0.33221299021832307, 0.8321753996464683, 0.18492786658810406, 0.7741301966652322, 0.025804339888841073, 0.15482603933304645, 0.025804339888841073, 0.2711885685963905, 0.008217835412011834, 0.05752484788408284, 0.06574268329609467, 0.04108917706005917, 0.049307012472071005, 0.1397032020042012, 0.3615847581285207, 0.034075357250354744, 0.4997719063385362, 0.4543380966713966, 0.17853068933742655, 0.09451624729628465, 0.3570613786748531, 0.1365234683168556, 0.04200722102057095, 0.06301083153085643, 0.11551985780657012, 0.5316155645868841, 0.10632311291737682, 0.31896933875213046, 0.07808110643263867, 0.23424331929791603, 0.0936973277191664, 0.03123244257305547, 0.530951523741943, 0.015616221286527735, 0.1288242152664746, 0.8051513454154664, 0.03220605381661865, 0.1826650410787886, 0.1826650410787886, 0.6393276437757601, 0.2273778093971402, 0.03908056099013347, 0.14566390914504293, 0.010658334815490946, 0.007105556543660631, 0.035527782718303154, 0.035527782718303154, 0.053291674077454734, 0.035527782718303154, 0.405016722988656, 0.07070880599860602, 0.017677201499651504, 0.7424424629853632, 0.15909481349686352, 0.9512457789696265, 0.014066404134597674, 0.08791502584123546, 0.059782217572040115, 0.0738486217066378, 0.18286325374976975, 0.06154051808886482, 0.0369243108533189, 0.031649409302844767, 0.012308103617772966, 0.06154051808886482, 0.08088182377393663, 0.29715278734337586, 0.02495665757850383, 0.012478328789251914, 0.062391643946259574, 0.11230495910326724, 0.7861347137228706, 0.8331190263159193, 0.15868933834588939, 0.7632377708016055, 0.2544125902672018, 0.7760622457693299, 0.15521244915386598, 0.12230188143672725, 0.7949622293387272, 0.04059090173228793, 0.5073862716535991, 0.26384086125987155, 0.020295450866143965, 0.18265905779529568, 0.001397128181271888, 0.07544492178868195, 0.13133004903955747, 0.05588512725087552, 0.03353107635052531, 0.10338748541411971, 0.11456451086429481, 0.025148307262893983, 0.039119589075612866, 0.05448799906960363, 0.06007651179469119, 0.3059710716985435, 0.17787160304087554, 0.40910468699401376, 0.053361480912262664, 0.08893580152043777, 0.24902024425722577, 0.508489129919913, 0.42374094159992753, 0.8909814080654697, 0.06364152914753356, 0.041130244605962235, 0.21936130456513192, 0.10968065228256596, 0.03427520383830186, 0.4318675683626035, 0.013710081535320745, 0.1508108968885282, 0.08489204538217933, 0.10752992415076049, 0.1018704544586152, 0.2659950755308286, 0.06225416661359818, 0.011318939384290579, 0.19808143922508512, 0.022637878768581157, 0.14714621199577751, 0.6823786616232317, 0.34118933081161584, 1.0189046780923172, 0.033926655284495684, 0.08790087960073882, 0.1557541901697302, 0.03701089667399529, 0.058600586400492545, 0.05088998292674352, 0.015421206947498038, 0.09406936237973804, 0.04472150014774431, 0.0817323968217396, 0.035468775979245484, 0.30533989756046115, 0.02487643473603329, 0.023567148697294697, 0.06546430193692972, 0.007855716232431566, 0.26578506586393463, 0.10081502498287176, 0.011783574348647349, 0.06808287401440691, 0.02749500681351048, 0.03273215096846486, 0.17413504315223305, 0.19770219184952773, 0.07458095164664688, 0.14021218909569613, 0.04474857098798813, 0.14916190329329376, 0.008949714197597625, 0.02983238065865875, 0.05668152325145163, 0.005966476131731751, 0.041765332922122256, 0.0596647613173175, 0.119329522634635, 0.26550818786206287, 1.0212931304424213, 1.020496573397249, 0.03959979203704956, 0.04949974004631195, 0.3196268928704714, 0.058692548912055595, 0.0035356957175937103, 0.014142782870374841, 0.044549766041680754, 0.03818551375001207, 0.032528400601862135, 0.12516362840281736, 0.028285565740749682, 0.24679156108804098, 0.04537702792761388, 0.06195709582424203, 0.14834797591719923, 0.06719290673896672, 0.02530641942116928, 0.020943243658898717, 0.024433784268715168, 0.0663202715865126, 0.027051689726077507, 0.14922061106965334, 0.03839594670798098, 0.3246202767129301, 0.1211329648258267, 0.8479307537807869, 1.0138435029785735, 0.6161677571056432, 0.17604793060161236, 0.17604793060161236, 0.006935660654749587, 0.22887680160673635, 0.17339151636873967, 0.01040349098212438, 0.1525845344044909, 0.027742642618998347, 0.0034678303273747934, 0.006935660654749587, 0.01040349098212438, 0.017339151636873967, 0.01040349098212438, 0.3502508630648541, 0.4563595432245266, 0.05476314518694319, 0.10952629037388638, 0.07301752691592425, 0.1460350538318485, 0.018254381728981063, 0.07301752691592425, 0.036508763457962126, 0.036508763457962126, 1.0145214064250823, 0.005543656251765836, 0.01247322656647313, 0.36172357042772074, 0.004157742188824376, 0.03741967969941939, 0.055436562517658355, 0.062366132832365646, 0.020788710944121883, 0.17462517193062382, 0.03880559376236085, 0.027718281258829178, 0.20095753912651154, 0.5558079187900605, 0.34737994924378784, 0.06947598984875757, 0.607609150040087, 0.20253638334669563, 0.13502425556446376, 0.06868144587190271, 0.7097082740096613, 0.09157526116253693, 0.04578763058126847, 0.09157526116253693, 0.9657818680660184, 1.010890702661246, 0.11937224974079218, 0.188342882924361, 0.021221733287251944, 0.06897063318356882, 0.03448531659178441, 0.05570704987903635, 0.02917988326997142, 0.007958149982719478, 0.05570704987903635, 0.06631791652266232, 0.15120484967167008, 0.20425918288979994, 0.6059750123275073, 0.12119500246550145, 0.36358500739650434, 0.7240390921748056, 0.28961563686992225, 0.03916380060754506, 0.0290102226722556, 0.03191124493948116, 0.02755971153864282, 0.08558015688315403, 0.04931737854283452, 0.05947095647812398, 0.02465868927141726, 0.05656993421089842, 0.05947095647812398, 0.1943684919041125, 0.3423206275326161, 0.167402737446739, 0.5580091248224633, 0.004292377883249718, 0.012877133649749154, 0.004292377883249718, 0.0944323134314938, 0.15452560379698985, 0.04848713750323348, 0.6303327875420353, 0.31516639377101763, 0.016173174362733335, 0.020794081323514287, 0.05891656374995715, 0.009241813921561905, 0.16404219710772383, 0.18599150517143334, 0.024259761544100002, 0.1120569937989381, 0.04620906960780953, 0.06238224397054286, 0.09703904617640001, 0.20331990627436192, 0.027213667520210042, 0.012560154240096941, 0.3684311910428436, 0.03349374464025851, 0.16746872320129255, 0.12978826048100173, 0.06908084832053318, 0.0293070265602262, 0.16118864608124409, 0.9960283262456976, 0.10501827015336686, 0.8604722780308124, 0.03387686133979576, 0.5632473743129672, 0.05928919729610181, 0.05928919729610181, 0.029644598648050906, 0.29644598648050907, 0.029644598648050906, 0.03793217888676702, 0.08941156451880797, 0.21404586657532818, 0.035222737537712226, 0.05960770967920531, 0.07857379912258881, 0.035222737537712226, 0.006773603372636967, 0.025739692816020475, 0.035222737537712226, 0.035222737537712226, 0.34545377200448535, 0.009170983490567232, 0.013756475235850846, 0.5273315507076157, 0.059611392688687, 0.09629532665095593, 0.03209844221698531, 0.09629532665095593, 0.16507770283021014, 0.08833335728780063, 0.17666671457560126, 0.706666858302405, 0.08833335728780063, 0.010338776151850696, 0.17989470504220212, 0.08477796444517571, 0.05582939121999376, 0.1468106213562799, 0.07030367783258473, 0.02481306276444167, 0.26053715902663754, 0.04342285983777292, 0.12199755859183821, 0.01904267695175099, 0.05712803085525296, 0.6474510163595336, 0.26659747732451383, 0.16933785314376734, 0.7337973636229919, 0.05644595104792245, 0.6070411979710123, 0.34688068455486415, 0.7988059798245648, 0.0998507474780706, 0.011440674721102264, 0.03432202416330679, 0.04004236152385793, 0.04576269888440906, 0.13156775929267603, 0.02288134944220453, 0.005720337360551132, 0.017161012081653396, 0.02288134944220453, 0.07436438568716472, 0.5949150854973178, 0.039676353235297196, 0.04761162388235664, 0.10950673492942027, 0.1317254927411867, 0.06506921930588741, 0.02221875781176643, 0.07300448995294685, 0.04285046149412097, 0.00793527064705944, 0.09046208537647761, 0.10315851841177272, 0.2666250937411972, 0.09541716960526188, 0.8587545264473568, 0.025660501625467215, 0.05838693848113555, 0.10598902845301676, 0.005206478590674507, 0.07326259159734842, 0.0304950888882364, 0.05801504715323023, 0.04016426341377477, 0.014503761788307557, 0.1186333336017977, 0.07065935230201117, 0.39866750351450514, 0.054071920543697145, 0.047312930475735, 0.1255241012621541, 0.06662433066991255, 0.06855547068933031, 0.018345830184468677, 0.02800153028155745, 0.010621270106797654, 0.010621270106797654, 0.15352563154371154, 0.18925172190294, 0.22787452229129512, 0.062373795705700716, 0.031186897852850358, 0.9044200377326603, 0.0029080727181755844, 0.03489687261810701, 0.008724218154526753, 0.31988799899931425, 0.22392159929952, 0.08142603610891636, 0.014540363590877922, 0.03780494533628259, 0.15994399949965712, 0.11632290872702337, 0.008944658627712671, 0.07453882189760559, 0.0626126103939887, 0.05366795176627603, 0.07752037477350983, 0.01490776437952112, 0.27132131170728435, 0.08348348052531827, 0.12820677366388164, 0.03279708163494646, 0.18783783118196612, 0.00793411675483157, 0.10314351781281042, 0.019835291887078926, 0.1309129264547209, 0.027769408641910496, 0.02380235026449471, 0.07140705079348414, 0.2419905610223629, 0.08330822592573149, 0.08727528430314728, 0.19835291887078926, 0.1526932147255768, 0.10721012948817095, 0.07147341965878062, 0.00974637540801554, 0.06172704425076509, 0.032487918026718465, 0.06497583605343693, 0.006497583605343694, 0.012995167210687388, 0.058478252448093244, 0.06497583605343693, 0.3508695146885595, 1.0098871690263251, 0.02251705046573824, 0.02335101529780262, 0.039196347107025825, 0.1367702324585582, 0.005003788992386276, 0.145109880779202, 0.03335859328257517, 0.01084154281683693, 0.10090974467978989, 0.036694452610832685, 0.4478391148185717, 0.9739471404873201, 0.0025591376494813723, 0.0034121835326418296, 0.03497488120957875, 0.01279568824740686, 0.27553382026082773, 0.1620787178004869, 0.0008530458831604574, 0.080186313017083, 0.014501780013727775, 0.043505340041183324, 0.23117543433648394, 0.139899524838315, 0.0019506793694674856, 0.11704076216804912, 0.008778057162603685, 0.013654755586272398, 0.02535883180307731, 0.02145747306414234, 0.0009753396847337428, 0.0009753396847337428, 0.2516376386613056, 0.10533668595124421, 0.4515822740317229, 0.6464386182212956, 0.3232193091106478, 0.018520425061036922, 0.008231300027127521, 0.5412079767836344, 0.008231300027127521, 0.05761910018989264, 0.07202387523736581, 0.041156500135637604, 0.01440477504747316, 0.01440477504747316, 0.05761910018989264, 0.02675172508816444, 0.13787427545438596, 0.06490961216914576, 0.09087345703680405, 0.06923691964708881, 0.04615794643139254, 0.07500666295101287, 0.05769743303924067, 0.028848716519620336, 0.031733588171582366, 0.11539486607848135, 0.1370314034681966, 0.0605823046912027, 0.2235775530270576, 0.005963031737427003, 0.0029815158687135014, 0.37567099945790117, 0.06857486498041053, 0.053667285636843025, 0.056648801505556526, 0.33392977729591217, 0.09839002366754554, 0.07831803326897882, 0.03132721330759153, 0.015663606653795764, 0.861498365958767, 0.05808289211661752, 0.16263209792652905, 0.046466313693294015, 0.03484973526997051, 0.023233156846647007, 0.05808289211661752, 0.06969947053994102, 0.5343626074728811, 0.011616578423323504, 0.14445097770679688, 0.8667058662407812, 0.027627844172013732, 0.013813922086006866, 0.42685019245761213, 0.027627844172013732, 0.015195314294607552, 0.01933949092040961, 0.034534805215017166, 0.15747871178047826, 0.022102275337610985, 0.11879972993965905, 0.01933949092040961, 0.11879972993965905, 0.0675274966040484, 0.005627291383670701, 0.005627291383670701, 0.10691853628974331, 0.27573727779986434, 0.005627291383670701, 0.3038737347182178, 0.039391039685694906, 0.0619002052203777, 0.12942770182442612, 1.0050492604489538, 0.22051687747501714, 0.08481418364423736, 0.6954763058827463, 0.6151242204617587, 0.3690745322770552, 0.0014716254073311049, 0.15746391858442824, 0.10301377851317735, 0.02060275570263547, 0.16482204562108377, 0.027960882739290996, 0.030904133553953203, 0.15599229317709712, 0.03531900977594652, 0.3002115830955454, 0.035485866898369314, 0.12222909709438319, 0.05914311149728219, 0.2799440610871357, 0.035485866898369314, 0.039428740998188126, 0.023657244598912875, 0.07097173379673863, 0.04337161509800694, 0.055200237397463374, 0.027600118698731687, 0.21291520139021589, 0.034018170234845824, 0.002126135639677864, 0.4422362130529957, 0.004252271279355728, 0.017009085117422912, 0.04890111971259087, 0.42310099229589493, 0.027639763315812232, 0.6037000753982426, 0.3978932315124781, 0.7724132057023102, 0.19310330142557755, 0.49324156516353135, 0.49324156516353135, 0.45881679708521655, 0.32772628363229755, 0.06554525672645951, 0.13109051345291903, 0.06554525672645951, 0.073209232800229, 0.6039761706018892, 0.3111392394009732, 0.0070802547349984825, 0.19470700521245826, 0.08850318418748103, 0.15930573153746586, 0.07434267471748407, 0.04248152840999089, 0.05664203787998786, 0.0070802547349984825, 0.09558343892247952, 0.06726241998248558, 0.20178725994745675, 0.012461851521225416, 0.006230925760612708, 0.05815530709905194, 0.014538826774762984, 0.0540013565919768, 0.15785011926885525, 0.09554086166272818, 0.03323160405660111, 0.012461851521225416, 0.05607833184551437, 0.09346388640919062, 0.405010174439826, 1.0210735553534014, 1.0277711665075753, 0.6825274700393305, 0.1706318675098326, 0.1706318675098326, 0.6226328509948262, 0.3557902005684721, 0.1869599656703879, 0.48609591074300856, 0.14956797253631032, 0.1869599656703879, 0.014054321131591267, 0.7729876622375197, 0.21081481697386903, 0.4934860728297014, 0.16449535760990047, 0.32899071521980094, 1.008673144755906, 0.6234948410846483, 0.013554235675753224, 0.35241012756958384, 0.013554235675753224, 0.20293957063003382, 0.6088187118901015, 0.11896608305352, 0.5948304152675999, 0.23793216610704, 0.41532374521004617, 0.18205972392769146, 0.04835961416829304, 0.002844683186370179, 0.011378732745480716, 0.2446427540278354, 0.09102986196384573, 0.06904770202840191, 0.0316468634296842, 0.12275147027271449, 0.08918661512001913, 0.012466946199572566, 0.17645523851702707, 0.017261925507100477, 0.12562845785723123, 0.17645523851702707, 0.18029122196304942, 0.015879558775582354, 0.4843265426552618, 0.1508558083680324, 0.06351823510232942, 0.023819338163373532, 0.15879558775582356, 0.09527735265349413, 0.5480871092865965, 0.14947830253270816, 0.2989566050654163, 0.7596468954344163, 0.08440521060382404, 0.16881042120764808, 0.08440521060382404, 0.02062828259034718, 0.9695292817463174, 0.8910578944251519, 0.0222764473606288, 0.0891057894425152, 0.8070476894210068, 0.08070476894210067, 0.10760635858946757, 0.0216925493769662, 0.0433850987539324, 0.00542313734424155, 0.0867701975078648, 0.12292444646947513, 0.06326993568281808, 0.00542313734424155, 0.0018077124480805166, 0.039769673857771366, 0.20246379418501786, 0.40673530081811626, 0.06087758605949871, 0.01990228775022073, 0.06556047729484477, 0.17677914413431356, 0.028097347412076326, 0.026926624603239812, 0.024585178985566787, 0.017560842132547706, 0.011707228088365136, 0.06673120010368128, 0.09014565628041155, 0.40975298309277974, 0.859177301363654, 0.14319621689394232, 0.029770956528318446, 0.47633530445309513, 0.2977095652831845, 0.14885478264159224, 0.6740064195723638, 0.26960256782894554, 0.1064189925947347, 0.8868249382894559, 0.9436835000442483, 0.07259103846494218, 0.003902096873098169, 0.27704887798997, 0.04292306560407986, 0.003902096873098169, 0.003902096873098169, 0.007804193746196338, 0.027314678111687186, 0.0507272593502762, 0.42923065604079863, 0.003902096873098169, 0.14827968117773044, 0.8157146017800068, 0.16314292035600136, 0.02413108802238767, 0.037644497314924766, 0.05308839364925287, 0.06563655942089446, 0.13513409292537096, 0.06756704646268548, 0.013513409292537094, 0.1737438337611912, 0.007721948167164054, 0.11872495307014733, 0.1274121447582069, 0.1737438337611912, 0.039222059845502734, 0.039222059845502734, 0.7059970772190493, 0.19611029922751366, 0.20062536688565835, 0.8025014675426334, 0.0014037125402785804, 0.05474478907086464, 0.09825987781950063, 0.007018562701392903, 0.10527844052089354, 0.06316706431253612, 0.0014037125402785804, 0.30039448361961624, 0.03509281350696451, 0.33548729712658076, 0.15267137564934757, 0.22553725948199074, 0.017349019960153134, 0.0520470598804594, 0.10756392375294943, 0.0520470598804594, 0.09715451177685755, 0.10756392375294943, 0.003469803992030627, 0.1283827477051332, 0.05551686387249003, 0.003943875268269099, 0.035494877414421894, 0.03155100214615279, 0.4298824042413318, 0.011831625804807297, 0.035494877414421894, 0.4456579053144082, 0.1357373976203536, 0.5768839398865029, 0.20360609643053043, 0.0678686988101768, 0.00966557160209124, 0.057993429612547436, 0.483278580104562, 0.00966557160209124, 0.20297700364391602, 0.1739802888376423, 0.0483278580104562, 0.07089661405769196, 0.10200431206259762, 0.02821395865561211, 0.014468696746467748, 0.12081361783300569, 0.02749052381828872, 0.054257612799254056, 0.017362436095761297, 0.009404652885204036, 0.04340609023940324, 0.1273245313689162, 0.3848673334560421, 0.1449767802508882, 0.8698606815053292, 0.029163557711461584, 0.0699925385075078, 0.040828980796046216, 0.11665423084584634, 0.349962692537539, 0.023330846169169268, 0.12831965393043096, 0.2449738847762773, 0.13900447525097465, 0.834026851505848, 0.9928377374959964, 0.006369224738374869, 0.01486152438954136, 0.40126115851761673, 0.019107674215124607, 0.03609227351745759, 0.006369224738374869, 0.004246149825583246, 0.13375371950587225, 0.23990746514545339, 0.016984599302332985, 0.11676912020353926, 0.24965468924066225, 0.014685569955333074, 0.02202835493299961, 0.16888405448633034, 0.007342784977666537, 0.491966593503658, 0.007342784977666537, 0.03671392488833269, 0.7660424521406217, 0.15320849042812434, 0.43446245180996057, 0.08689249036199212, 0.08689249036199212, 0.43446245180996057, 0.4236408283060872, 0.009345018271457804, 0.13083025580040927, 0.4236408283060872, 0.012460024361943739, 0.10871252534613175, 0.054356262673065876, 0.7609876774229223, 0.054356262673065876, 0.07945925956879639, 0.03667350441636756, 0.06315992427263302, 0.2118913588501237, 0.052972839712530924, 0.004074833824040841, 0.008149667648081681, 0.10187084560102101, 0.3239492890112468, 0.11613276398516395, 0.00327837191569712, 0.0021855812771314135, 0.1628258051462903, 0.004371162554262827, 0.1923311523875644, 0.007649534469959947, 0.2120013838817471, 0.04371162554262827, 0.0010927906385657068, 0.163918595784856, 0.03059813787983979, 0.17703208344764448, 0.6650065382125124, 0.020781454319141014, 0.06234436295742304, 0.24937745182969215, 0.11453686997439767, 0.09184560328135663, 0.005402682545962155, 0.005402682545962155, 0.02161073018384862, 0.004322146036769723, 0.008644292073539447, 0.03673824131254265, 0.0021610730183848617, 0.14587242874097817, 0.08428184771700961, 0.4786776735722469, 0.03169058563660396, 0.035651908841179455, 0.10497506492125062, 0.045555216852618194, 0.051497201659481434, 0.013864631216014233, 0.08318778729608539, 0.00792264640915099, 0.09111043370523639, 0.035651908841179455, 0.49516540057193686, 0.29154137056931, 0.03331901377934972, 0.18325457578642346, 0.03331901377934972, 0.4248174256867089, 0.02498926033451229, 0.06663673836864707, 0.007404082040960786, 0.172761914289085, 0.05923265632768629, 0.007404082040960786, 0.2517387893926667, 0.032084355510830075, 0.21718640653484972, 0.027148300816856215, 0.1554857228601765, 0.09429868140281188, 0.09429868140281188, 0.13201815396393662, 0.5280726158557465, 0.07543894512224951, 0.05657920884168713, 0.07582065054515937, 0.007582065054515936, 0.03466086882064428, 0.47983640273579425, 0.003249456451935401, 0.007582065054515936, 0.0010831521506451337, 0.0010831521506451337, 0.0010831521506451337, 0.05415760753225669, 0.26753858120934804, 0.06607228118935315, 0.5365776631023759, 0.07665395187176798, 0.07665395187176798, 0.3832697593588399, 0.06487548874981397, 0.010812581458302328, 0.021625162916604657, 0.16218872187453492, 0.3676277695822791, 0.04325032583320931, 0.021625162916604657, 0.14056355895793027, 0.10812581458302327, 0.054062907291511635, 0.0584669231892652, 0.19666146890934658, 0.1169338463785304, 0.01063034967077549, 0.02126069934155098, 0.01063034967077549, 0.12224902121391813, 0.06909727286004069, 0.03189104901232647, 0.3614318888063667, 0.7511047925997383, 0.05365034232855274, 0.05365034232855274, 0.16095102698565822, 0.5413399232073531, 0.4511166026727943, 1.0198156946393226, 0.19751226257324678, 0.13167484171549784, 0.6583742085774892, 0.032261317183322216, 0.02316197131110313, 0.06783148741108774, 0.04549672936109543, 0.1836413439666034, 0.04963279566664956, 0.02977967739998974, 0.0727947669777527, 0.021507544788881477, 0.13069969525551053, 0.11829149633884813, 0.22582922028325553, 0.022264043796864908, 0.0072030729931033535, 0.2913970438119084, 0.02357369343197461, 0.09494959854545329, 0.02357369343197461, 0.056314934309717124, 0.04059913868840072, 0.02422851824952946, 0.08774652555234994, 0.04387326277617497, 0.2848487956363599, 0.9848074064994837, 0.05887517764072937, 0.4121262434851056, 0.515157804356382, 0.014718794410182343, 0.004095347150590142, 0.008190694301180284, 0.013651157168633807, 0.010920925734907046, 0.25391152333658884, 0.1487976131381085, 0.005460462867453523, 0.15425807600556202, 0.049144165807081704, 0.08600229016239298, 0.12695576166829442, 0.13924180312006484, 0.7798090536321339, 0.1509307845739614, 0.0503102615246538, 0.0251551307623269, 0.8743572071695699, 0.09715080079661888, 0.6275693704158224, 0.25102774816632895, 0.12551387408316447, 0.23919787289371278, 0.004349052234431142, 0.021745261172155708, 0.21745261172155708, 0.004349052234431142, 0.043490522344311416, 0.11307535809520969, 0.2783393430035931, 0.0739338879853294, 0.016368293791655678, 0.2237000151526276, 0.010912195861103787, 0.0709292730971746, 0.12549025240269354, 0.060017077236070825, 0.03819268551386325, 0.016368293791655678, 0.11457805654158976, 0.13094635033324542, 0.19641952549986816, 0.23027825948792222, 0.40298695410386387, 0.057569564871980554, 0.28784782435990275, 1.0260095379305554, 0.05783011524663362, 0.8096216134528706, 0.11566023049326724, 0.8351538397341775, 0.1670307679468355, 0.5431092354946285, 0.18103641183154284, 0.27155461774731426, 0.09051820591577142, 0.005946555669174363, 0.6422280122708312, 0.015857481784464965, 0.02576840789975557, 0.005946555669174363, 0.013875296561406845, 0.003964370446116241, 0.013875296561406845, 0.11496674293737101, 0.06541211236091798, 0.08919833503761544, 0.8433432886180836, 0.16866865772361672, 0.47453337183918415, 0.1581777906130614, 0.3163555812261228, 0.032001222348495596, 0.26667685290412996, 0.27734392702029514, 0.014222765488220263, 0.035556913720550656, 0.06044675332493612, 0.035556913720550656, 0.0035556913720550657, 0.03911260509260572, 0.04266829646466079, 0.18845164271891848, 0.07214214911263271, 0.8657057893515925, 0.07214214911263271, 0.7376533986443758, 0.18441334966109396, 0.010632523424238368, 0.01772087237373061, 0.05316261712119184, 0.03544174474746122, 0.10632523424238367, 0.11695775766662204, 0.0035441744747461224, 0.05316261712119184, 0.05316261712119184, 0.35087327299986615, 0.05316261712119184, 0.1417669789898449, 0.04627312377804508, 0.9254624755609017, 0.014219315346009434, 0.006463325157277015, 0.1292665031455403, 0.015511980377464837, 0.23009437559906176, 0.13960782339718353, 0.03490195584929588, 0.052999266289671526, 0.021975305534741852, 0.08143789698169039, 0.12797383811408491, 0.14477848352300515, 0.6956145046485258, 0.10812660694018536, 0.003604220231339512, 0.02162532138803707, 0.02162532138803707, 0.01802110115669756, 0.028833761850716098, 0.10091816647750633, 0.4173185352644456, 0.1605071289478637, 0.09630427736871822, 0.22470998052700916, 0.12840570315829095, 0.06129678048981774, 0.01870745898065866, 0.3009114678591053, 0.06288890465838443, 0.04099719734059238, 0.00557243458998343, 0.011940931264250209, 0.07522786696477632, 0.0023881862528500417, 0.13214630599103563, 0.08478061197617648, 0.20299583149225353, 0.03931667583897361, 0.016633978239565757, 0.45062959230823596, 0.06351155327834199, 0.04687757503877622, 0.006048719359842094, 0.033267956479131514, 0.010585258879723664, 0.054438474238578845, 0.06956027263818408, 0.21019299775451275, 0.00848251201782578, 0.007270724586707812, 0.3605067607575957, 0.001817681146676953, 0.06786009614260624, 0.052106859538072654, 0.01817681146676953, 0.03514183550242109, 0.07755439559154999, 0.1581382597608949, 0.051500965822513664, 0.1623795157698078, 0.4823722212778283, 0.4823722212778283, 0.10028226877567306, 0.02976118944310297, 0.15786370052428533, 0.09510640974208993, 0.016174559479947268, 0.03170213658069664, 0.0420538546478629, 0.03623101323508188, 0.021997400892728284, 0.14168914104433805, 0.05887539650700805, 0.2672037226087289, 0.2066475759383467, 0.0022461693036776816, 0.32120221042590846, 0.008984677214710727, 0.01347701582206609, 0.008984677214710727, 0.017969354429421453, 0.008984677214710727, 0.01123084651838841, 0.19990906802731367, 0.04716955537723132, 0.15273951265008237, 0.042210198358357216, 0.12663059507507166, 0.7175733720920727, 0.08442039671671443, 0.0032503886315325666, 0.010834628771775223, 0.14301709978743293, 0.022752720420727967, 0.11593052785799488, 0.06067392112194124, 0.0292534976837931, 0.09859512182315452, 0.12026437936670496, 0.1072628248405747, 0.03575427494685823, 0.25136338750518517, 0.3118991548265547, 0.7017730983597482, 0.006862662988754956, 0.003431331494377478, 0.1852919006963838, 0.03774464643815226, 0.08921461885381442, 0.013725325977509912, 0.01715665747188739, 0.14754725425823154, 0.05146997241566217, 0.308819834493973, 0.01715665747188739, 0.1269592652919667, 0.2018926985975562, 0.6056780957926686, 0.16151415887804496, 0.14741822671176597, 0.131038423743792, 0.08189901483986999, 0.5569133009111159, 0.065519211871896, 0.032759605935948, 0.38192017820375507, 0.5728802673056326, 0.1339311820622874, 0.08035870923737244, 0.02678623641245748, 0.723228383136352, 0.02678623641245748, 0.3285832722020429, 0.49287490830306435, 0.16429163610102146, 0.7597908547717217, 0.12663180912862027, 0.005239878783259819, 0.0026199393916299094, 0.007859818174889729, 0.003929909087444864, 0.22793472707180212, 0.2174549695052825, 0.16243624228105438, 0.052398787832598194, 0.06287854539911783, 0.1571963634977946, 0.09955769688193657, 0.09090042916861217, 0.1590757510450713, 0.09090042916861217, 0.11362553646076522, 0.4772272531352139, 0.06817532187645912, 0.9056113553278644, 0.11320141941598305, 0.06239367193594698, 0.8735114071032577, 0.06239367193594698, 1.018487214873744, 0.29537744800503246, 0.08204929111250901, 0.0082049291112509, 0.0164098582225018, 0.0656394328900072, 0.49229574667505405, 0.041024645556254506, 0.014673406483260706, 0.02054276907656499, 0.1349953396459985, 0.1848849216890849, 0.011738725186608566, 0.06749766982299925, 0.035216175559825695, 0.04108553815312998, 0.0029346812966521414, 0.16434215261251992, 0.09097512019621638, 0.22597045984221487, 0.8690052465009184, 0.12414360664298835, 0.06319079788541236, 0.06319079788541236, 0.06319079788541236, 0.7582895746249483, 0.07350640861133445, 0.009188301076416806, 0.009188301076416806, 0.009188301076416806, 0.036753204305667225, 0.8637003011831799, 0.6273709816980525, 0.15684274542451312, 0.31368549084902625, 0.0018801402239367658, 0.0037602804478735316, 0.0770857491814074, 0.022561682687241187, 0.16357219948249863, 0.2707401922468943, 0.011280841343620594, 0.10340771231652211, 0.020681542463304423, 0.007520560895747063, 0.3177436978453134, 0.8350569212383678, 0.09278410235981865, 0.09278410235981865, 0.027379883681804856, 0.03285586041816583, 0.0027379883681804855, 0.21630108108625837, 0.019165918577263397, 0.0027379883681804855, 0.005475976736360971, 0.04654580225906826, 0.016427930209082914, 0.6324753130496922, 0.051569773418503474, 0.04246922516817933, 0.018201096500648283, 0.018201096500648283, 0.027301644750972427, 0.006067032166882761, 0.08797196641980004, 0.0030335160834413805, 0.0030335160834413805, 0.036402193001296566, 0.024268128667531044, 0.6764740866074279, 0.736642631098428, 0.24554754369947598, 0.7828609555943139, 0.15657219111886278, 0.49638654877782784, 0.49638654877782784, 0.06877989753539071, 0.8253587704246885, 0.06877989753539071, 0.04965030768524084, 0.17377607689834293, 0.09930061537048168, 0.04965030768524084, 0.6454539999081309, 0.06743566480271593, 0.13487132960543186, 0.809227977632591, 0.06743566480271593, 0.4384675098575786, 0.054808438732197325, 0.008096701176347332, 0.04235197538397066, 0.0012456463348226665, 0.1276787493193233, 0.06352796307595598, 0.21487399275690997, 0.009342347511169998, 0.03923785954691399, 0.8909060634112498, 0.03794085075471198, 0.016693974332073272, 0.28683283170562257, 0.06677589732829309, 0.02124687642263871, 0.025799778513204145, 0.04097611881508894, 0.05615245911697373, 0.07588170150942396, 0.08650513972074331, 0.07891696956980092, 0.20639822810563316, 0.007263329739542374, 0.007263329739542374, 0.07989662713496612, 0.021789989218627123, 0.5011697520284238, 0.09442328661405086, 0.2832698598421526, 0.4829416365412445, 0.4829416365412445, 0.5171436578916293, 0.5171436578916293, 0.0074401153748168605, 0.18352284591214924, 0.10912169216398063, 0.027280423040995157, 0.04712073070717345, 0.21080326895314438, 0.2256834997027781, 0.004960076916544574, 0.18352284591214924, 0.021258308257379562, 0.41241118019316353, 0.08078157137804234, 0.025509969908855477, 0.02976163156033139, 0.03188746238606935, 0.014880815780165695, 0.004251661651475913, 0.09566238715820803, 0.0340132932118073, 0.24659637578560295, 0.0031966626775367405, 0.027171632759062293, 0.023974970081525555, 0.011188319371378591, 0.25413468286417085, 0.1134815250525543, 0.0031966626775367405, 0.1134815250525543, 0.01917997606522044, 0.1022932056811757, 0.202988080023583, 0.12626817576270125, 0.0010425178975028257, 0.5056211802888705, 0.03336057272009042, 0.017722804257548037, 0.010425178975028256, 0.2846073860182714, 0.02189287584755934, 0.06463610964517519, 0.042743233797615854, 0.018765322155050862, 0.8171638619130581, 0.1167376945590083, 0.05836884727950415, 0.4917516848420409, 0.09835033696840818, 0.19670067393681637, 0.19670067393681637, 0.17959950507343567, 0.027630693088220873, 0.013815346544110436, 0.6216905944849697, 0.16578415852932524, 0.5392429551648025, 0.1078485910329605, 0.3235457730988815, 0.06479014622039225, 0.6479014622039225, 0.1943704386611768, 0.21681496759153085, 0.758852386570358, 0.1089332211628491, 0.1089332211628491, 0.6535993269770947, 0.2696434769977306, 0.09378903547747151, 0.01172362943468394, 0.02344725886936788, 0.42986641260507774, 0.0390787647822798, 0.12895992378152332, 0.623569850782042, 0.24808692988102746, 0.12739599101998708, 0.6767710630490869, 0.3383855315245434, 0.17029284845167453, 0.13972746539624575, 0.08878516030386449, 0.024743405330585187, 0.005821977724843574, 0.1324499932401913, 0.0873296658726536, 0.17029284845167453, 0.17902581503893988, 0.14427078845885058, 0.01311552622353187, 0.45904341782361546, 0.03934657867059561, 0.03934657867059561, 0.27542605069416926, 0.03934657867059561, 0.5634155190066009, 0.4225616392549507, 0.9519384561560846, 1.010860548540911, 1.0207891435275702, 0.014308534291986101, 0.19173435951261378, 0.028617068583972203, 0.008585120575191662, 0.045787309734355526, 0.011446827433588882, 0.020031948008780543, 0.0028617068583972204, 0.031478775442369426, 0.005723413716794441, 0.6438840431393746, 0.01101432055759226, 0.23350359582095592, 0.048463010453405946, 0.03084009756125833, 0.03084009756125833, 0.12336039024503331, 0.08370883623770117, 0.002202864111518452, 0.1101432055759226, 0.05727446689947975, 0.26874942160525117, 0.3936131515061579, 0.08215601604645663, 0.0515007861783758, 0.294290206733576, 0.009809673557785866, 0.14837131256151123, 0.0012262091947232332, 0.01961934711557173, 0.9853389499108818, 0.9993171793680617, 0.05171375141567278, 0.0057459723795191976, 0.465423762741055, 0.05171375141567278, 0.07469764093374957, 0.22983889518076792, 0.017237917138557594, 0.09193555807230716, 0.0017131137264959034, 0.02055736471795084, 0.1010737098632583, 0.2021474197265166, 0.05824586670086072, 0.03768850198290988, 0.05653275297436481, 0.044540956888893486, 0.05481963924786891, 0.1010737098632583, 0.06852454905983614, 0.2518277177948978, 0.003446110574970964, 0.036758512799690286, 0.17575163932351917, 0.07696313617435153, 0.14358794062379016, 0.0379072163246806, 0.036758512799690286, 0.07236832207439024, 0.010338331724912893, 0.16541330759860629, 0.06317869387446767, 0.17690034284850947, 0.015507683501898437, 0.5737842895702422, 0.35667672054366406, 0.015507683501898437, 0.015507683501898437, 0.16196158447309228, 0.6478463378923691, 0.16196158447309228, 0.11139381718524742, 0.02025342130640862, 0.01012671065320431, 0.31392803024933363, 0.5164622433134198, 0.02025342130640862, 0.07506954094541021, 0.01251159015756837, 0.037534770472705106, 0.22520862283623067, 0.6380910980359868, 0.01251159015756837, 0.8094113652756344, 0.16188227305512687, 0.16188227305512687, 0.12490030845595564, 0.05518850838751528, 0.11618633344740059, 0.11037701677503056, 0.06099782505988531, 0.026141925025665133, 0.15394689181780577, 0.06099782505988531, 0.14813757514543574, 0.08133043341318041, 0.008713975008555044, 0.04937919171514525, 0.04438896938102274, 0.5326676325722729, 0.08877793876204548, 0.3107227856671592, 0.36318352884403843, 0.6053058814067307, 0.7806814195848919, 0.19517035489622298, 0.15633129558712522, 0.7816564779356261, 0.00794519706923932, 0.010215253374736269, 0.2292756868551918, 0.004540112610993898, 0.06696666101215999, 0.07377682992865084, 0.0749118580813993, 0.009080225221987795, 0.028375703818711857, 0.18954970150899522, 0.045401126109938975, 0.2610564751321491, 0.5774286895243279, 0.3849524596828853, 0.19247622984144264, 0.05786145470406255, 0.16690804241556506, 0.044508811310817346, 0.022254405655408673, 0.10459570658042076, 0.011127202827704337, 0.040057930179735614, 0.02447984622094954, 0.004450881131081734, 0.08234130092501209, 0.028930727352031275, 0.41393194519060134, 0.027064714039722142, 0.12630199885203666, 0.06315099942601833, 0.054129428079444285, 0.004510785673287024, 0.2841794974170825, 0.03608628538629619, 0.031575499713009166, 0.027064714039722142, 0.34733049684310086, 1.0227289642492796, 1.0156672812477525, 0.1392282173267002, 0.9049834126235514, 0.9173948136890007, 0.07977346205991309, 0.42676399649920527, 0.15949765525727874, 0.09483644366649006, 0.008621494878771825, 0.10345793854526189, 0.18105139245420832, 0.030175232075701386, 0.7939741530167904, 0.1984935382541976, 0.8639954329220236, 0.08639954329220237, 0.10870565268909547, 0.21741130537819095, 0.5435282634454773, 0.21741130537819095, 0.3677277294072455, 0.0953368187352118, 0.12257590980241517, 0.05447818213440674, 0.08171727320161011, 0.13619545533601685, 0.14981500086961855, 0.7471146322351581, 0.036444616206593075, 0.07288923241318615, 0.05466692430988962, 0.07288923241318615, 0.012455917660316616, 0.06939725553604971, 0.014235334468933275, 0.13345626064624944, 0.06939725553604971, 0.005338250425849978, 0.22954476831154905, 0.037367752980949846, 0.12989742702901613, 0.15480926234964937, 0.14235334468933275, 0.16237212862164674, 0.10824808574776448, 0.05412404287388224, 0.649488514486587, 0.5494097930730532, 0.5494097930730532, 0.23819464687227007, 0.49804335255111015, 0.021654058806570006, 0.15157841164599004, 0.10827029403285003, 0.05445009413996343, 0.09608840142346488, 0.0010676489047051652, 0.13986200651637665, 0.33097116045860125, 0.012811786856461983, 0.029894169331744627, 0.025623573712923967, 0.17936501599046775, 0.04484125399761694, 0.08434426347170805, 0.1894800332732448, 0.03084558681192357, 0.33930145493115926, 0.14100839685450775, 0.09253676043577072, 0.004406512401703367, 0.03084558681192357, 0.06169117362384714, 0.07931722323066061, 0.013219537205110102, 0.01762604960681347, 0.03926996070975439, 0.019634980354877193, 0.1780238218842199, 0.011780988212926316, 0.10602889391633685, 0.12828187165186433, 0.01047198952260117, 0.02879797118715322, 0.09555690439373568, 0.08377591618080936, 0.03403396594845381, 0.26179973806502926, 1.025592757028874, 0.0016945000945412046, 0.016945000945412046, 0.14064350784691998, 0.013556000756329636, 0.2863705159774636, 0.06269650349802457, 0.008472500472706023, 0.0728635040652718, 0.010167000567247227, 0.0762525042543542, 0.13386550746875517, 0.1745335097377441, 0.8170504916060395, 0.1634100983212079, 0.7977139198464985, 0.19942847996162463, 0.09312975224955979, 0.9312975224955978, 0.16558905953766836, 0.8279452976883418, 1.0260323427081126, 0.0886693861334013, 0.7980244752006117, 0.013868574107746593, 0.036982864287324245, 0.14793145714929698, 0.07858858661056403, 0.023114290179577654, 0.004622858035915531, 0.23114290179577654, 0.004622858035915531, 0.4576629455556376, 0.0255659373928231, 0.06476704139515185, 0.07840220800465751, 0.09374177044035137, 0.039201104002328756, 0.01022637495712924, 0.02215714574044669, 0.01533956243569386, 0.017043958261882066, 0.046018687307081585, 0.035792312349952345, 0.5505198518587908, 0.5417294292375232, 0.09028823820625387, 0.2708647146187616, 0.09028823820625387, 0.05138235789189474, 0.04826827559541627, 0.035811946409502395, 0.29583781816545457, 0.0404830698542201, 0.042040111002459336, 0.004671123444717704, 0.014013370334153112, 0.02335561722358852, 0.08408022200491867, 0.23667025453236368, 0.12300625071089953, 0.15827301472761315, 0.06029448180099549, 0.015073620450248872, 0.022610430675373307, 0.05275767157587105, 0.05275767157587105, 0.4371349930572173, 0.04522086135074661, 0.15827301472761315, 0.8102749953242212, 0.03241099981296885, 0.03241099981296885, 0.07562566623026064, 0.01080366660432295, 0.03241099981296885, 0.06926458814486638, 0.041693247232832194, 0.06455728603793372, 0.10894042018901315, 0.03160617128940505, 0.05110785144669752, 0.04303819069195581, 0.023536510534663335, 0.041693247232832194, 0.06926458814486638, 0.1405465914784182, 0.3153892411644887, 0.009529146284633914, 0.4002241439546244, 0.13976081217463074, 0.0667040239924374, 0.0031763820948779715, 0.034940203043657685, 0.27316886015950553, 0.07305678818219334, 0.010343153700356471, 0.1861767666064165, 0.006895435800237647, 0.01723858950059412, 0.010343153700356471, 0.1310132802045153, 0.0034477179001188235, 0.08274522960285177, 0.010343153700356471, 0.5378439924185365, 0.5459136912201037, 0.007798767017430052, 0.015597534034860104, 0.038993835087150264, 0.023396301052290156, 0.29635314666234197, 0.07018890315687047, 0.5437150834345272, 0.08364847437454265, 0.06273635578090699, 0.2718575417172636, 0.020912118593635662, 0.5528089713484092, 0.002571204517899578, 0.01285602258949789, 0.020569636143196623, 0.007713613553698734, 0.07970734005488692, 0.2956885195584515, 0.030854454214794935, 0.43180363666135874, 0.0575738182215145, 0.02878690911075725, 0.0575738182215145, 0.02878690911075725, 0.345442909329087, 0.02878690911075725, 0.16983875258800815, 0.7359679278813686, 0.5261699627343657, 0.058463329192707296, 0.058463329192707296, 0.2923166459635365, 0.014685564782814783, 0.014685564782814783, 0.12482730065392565, 0.13217008304533304, 0.09545617108829609, 0.058742259131259134, 0.4258813787016287, 0.12482730065392565, 0.007342782391407392, 0.21311971535339905, 0.03196795730300986, 0.05327992883834976, 0.010655985767669952, 0.005327992883834976, 0.01598397865150493, 0.06393591460601972, 0.49550333819665277, 0.10655985767669952, 0.2014244966076067, 0.2014244966076067, 0.5539173656709184, 0.050356124151901674, 0.34085668273114755, 0.11598595454045993, 0.09941653246325137, 0.0118353014837204, 0.09231535157301912, 0.2390730899711521, 0.09941653246325137, 0.031200696825510646, 0.048219258730334634, 0.06807424761929595, 0.2637877095247718, 0.0992749444448066, 0.008509280952411994, 0.009927494444480659, 0.06098318015895263, 0.05531032619067796, 0.16167633809582788, 0.1942952484134072, 0.03391935008312965, 0.6275079765378986, 0.016959675041564825, 0.016959675041564825, 0.02543951256234724, 0.0678387001662593, 0.05087902512469448, 0.16111691289486585, 0.8186406509051183, 0.18192014464558184, 0.06065417420185877, 0.015460867933807137, 0.07849363720240547, 0.12130834840371754, 0.10109029033643128, 0.06778995940207745, 0.005946487666848899, 0.0011892975333697797, 0.0035678926001093394, 0.0999009928030615, 0.24975248200765376, 0.1950447954726439, 0.6792177408665337, 0.16980443521663344, 0.8088600217784541, 0.1617720043556908, 0.2640898574710496, 0.704239619922799, 0.00612876302195884, 0.2451505208783536, 0.19305603519170347, 0.16854098310386811, 0.01225752604391768, 0.12563964195015623, 0.15934783857092985, 0.08580268230742376, 0.011808885585185495, 0.010627997026666947, 0.05550176225037183, 0.015351551260741145, 0.20665549774074618, 0.09565197324000252, 0.014170662702222595, 0.05432087369185328, 0.036607545314075035, 0.07321509062815007, 0.24916748584741397, 0.17831417233630098, 0.8218499149914577, 0.5903850691018603, 0.1967950230339534, 0.3935900460679068, 0.20704974222428674, 0.5521326459314313, 0.27606632296571565, 0.09604675046156615, 0.24011687615391536, 0.04802337523078307, 0.5762805027693968, 0.04802337523078307, 0.3243427994990725, 0.648685598998145, 0.1379619284020051, 0.1379619284020051, 0.6898096420100256, 0.7659608206241953, 0.08510675784713283, 0.08510675784713283, 0.00242331055597871, 0.016963173891850966, 0.642177297334358, 0.007269931667936129, 0.11631890668697806, 0.00242331055597871, 0.13570539113480773, 0.07269931667936129, 0.027744212006591714, 0.036992282675455616, 0.036992282675455616, 0.009248070668863904, 0.23120176672159762, 0.47165160411205914, 0.17571334270841418, 0.9166548476565739, 0.050925269314254104, 0.29959161352826097, 0.0023224156087462092, 0.006967246826238628, 0.0046448312174924185, 0.0023224156087462092, 0.03483623413119314, 0.0255465716962083, 0.622407383143984, 0.8839777623901794, 0.12628253748431134, 0.09427042164934747, 0.1571173694155791, 0.031423473883115824, 0.6441812146038743, 0.031423473883115824, 0.031423473883115824, 0.2213199311315403, 0.07305706464536282, 0.02578484634542217, 0.03652853232268141, 0.04942095549539249, 0.008594948781807391, 0.002148737195451848, 0.06231337866810358, 0.11818054574985162, 0.12247802014075532, 0.27718709821328835, 0.14767218776764457, 0.8121970327220451, 0.07383609388382228, 0.051640995577438085, 0.09295379203938856, 0.4647689601969428, 0.051640995577438085, 0.09295379203938856, 0.030984597346462854, 0.20656398230975234, 0.0028333008008512455, 0.005666601601702491, 0.2620803240787402, 0.09208227602766549, 0.11758198323532669, 0.032582959209789326, 0.08783232482638861, 0.25924702327788895, 0.02974965840893808, 0.0028333008008512455, 0.1062487800319217, 0.31833155296501753, 0.6366631059300351, 0.9955214541456534, 0.6327491248528161, 0.034202655397449516, 0.042753319246811895, 0.2821719070289585, 0.8694760008822738, 0.37219589826219707, 0.6699526168719547, 0.07332793246074816, 0.9532631219897261, 1.0211598985356662, 0.026296089987258138, 0.03944413498088721, 0.03944413498088721, 0.56536593472605, 0.07888826996177442, 0.23666480988532324, 0.02246149326733729, 0.0072848086272445265, 0.2513258976399362, 0.006070673856037105, 0.03581697575061892, 0.02064029111052616, 0.04795832346269313, 0.059492603789163635, 0.009106010784055658, 0.2513258976399362, 0.08559650137012319, 0.20336757417724305, 0.562335507047841, 0.187445169015947, 0.187445169015947, 0.07669504061536603, 0.6135603249229282, 0.15339008123073206, 0.07669504061536603, 0.07669504061536603, 0.002026101900893508, 0.01013050950446754, 0.07293966843216629, 0.024313222810722096, 0.13777492926075854, 0.16614035587326764, 0.03039152851340262, 0.07496577033305979, 0.03241763041429613, 0.07293966843216629, 0.16208815207148064, 0.21476680149471183, 0.3515096920061578, 0.11310955435841712, 0.3045257232726615, 0.010440881940776964, 0.07482632057556825, 0.024362057861812916, 0.059164997664402794, 0.027842351842071903, 0.033062792812460384, 0.8032421896709504, 0.08924913218566115, 0.13387369827849174, 0.2467268237668882, 0.014953140834356862, 0.14953140834356862, 0.07476570417178431, 0.0037382852085892154, 0.02242971125153529, 0.0037382852085892154, 0.029906281668713723, 0.011214855625767645, 0.43737936940493816, 0.3747654880066881, 0.0651766066098588, 0.5702953078362645, 0.34233275569926275, 0.02535798190364909, 0.042263303172748484, 0.012678990951824546, 0.07184761539367243, 0.03381064253819879, 0.46489633490023335, 1.0199627310042285, 0.5006583700615121, 0.047681749529667826, 0.4291357457670104, 0.023840874764833913, 0.050970643203643806, 0.012742660800910952, 0.050970643203643806, 0.025485321601821903, 0.025485321601821903, 0.025485321601821903, 0.050970643203643806, 0.7518169872537461, 0.953541914423933, 0.06356946096159553, 0.9184212910128577, 0.05102340505626987, 0.18077398754561927, 0.42180597093977834, 0.18077398754561927, 0.24103198339415904, 0.7914629149827398, 0.13966992617342466, 0.30486757037608975, 0.6097351407521795, 0.7714097882220705, 0.059339214478620804, 0.11867842895724161, 0.9230175544122885, 0.09230175544122884, 0.11906795332479138, 0.7144077199487482, 0.11906795332479138, 0.03011111424902174, 0.0319930588895856, 0.011291667843383152, 0.2145416890242799, 0.03952083745184103, 0.14302779268285326, 0.005645833921691576, 0.03387500353014945, 0.045166671373532606, 0.09033334274706521, 0.20701391046202444, 0.1449097373234171, 0.11783925583787369, 0.9427140467029895, 0.4843041937567183, 0.6053802421958979, 0.031197706386533266, 0.4107698007560213, 0.010399235462177756, 0.11959120781504419, 0.005199617731088878, 0.04159694184871102, 0.26518050428553275, 0.1143915900839553, 0.2333895160561385, 0.4501083523939814, 0.016670679718295608, 0.16670679718295608, 0.13336543774636486, 0.006833360477603341, 0.2186675352833069, 0.09566704668644677, 0.3690014657905804, 0.04100016286562004, 0.08883368620884342, 0.1161671281192568, 0.07516696525363674, 0.05066622816620652, 0.6079947379944782, 0.35466359716344564, 0.05592754195474227, 0.09612546273471327, 0.001747735686085696, 0.04893659921039948, 0.14331432625902704, 0.12059376233991301, 0.003495471372171392, 0.07340489881559922, 0.017477356860856958, 0.03670244940779961, 0.2062328109581121, 0.19574639684159792, 0.09207363962587627, 0.027080482242904783, 0.3628784620549241, 0.027080482242904783, 0.04874486803722861, 0.2112277614946573, 0.22747605084040018, 0.18536427597096095, 0.5560928279128828, 0.21184488682395536, 0.05296122170598884, 0.7086549647864991, 0.10123642354092845, 0.05061821177046422, 0.10123642354092845, 0.05061821177046422, 0.1443679971987048, 0.1775560425317404, 0.0016594022666517794, 0.004978206799955339, 0.0813107110659372, 0.0033188045333035587, 0.0066376090666071174, 0.0066376090666071174, 0.05476027479950872, 0.19580946746491, 0.323583441997097, 0.19511097565965055, 0.6048440245449167, 0.19511097565965055, 0.0036907975802251813, 0.07381595160450363, 0.07381595160450363, 0.44658650720724696, 0.1365595104683317, 0.2620466281959879, 0.009588441895741057, 0.08629597706166951, 0.1342381865403748, 0.47942209478705283, 0.17259195412333903, 0.12464974464463374], \"Term\": [\"able\", \"able\", \"able\", \"able\", \"able\", \"able\", \"able\", \"able\", \"able\", \"able\", \"able\", \"able\", \"abuse\", \"abuse\", \"abuse\", \"abuse\", \"academy\", \"academy\", \"academy\", \"academy\", \"academy\", \"accounting\", \"accounting\", \"accounting\", \"accredited\", \"accredited\", \"accredited\", \"accredited\", \"achieve\", \"achieve\", \"achieve\", \"achieve\", \"achieve\", \"achieve\", \"achieve\", \"achieve\", \"achieve\", \"achieve\", \"achieve\", \"achieve\", \"activate\", \"activity\", \"activity\", \"activity\", \"activity\", \"activity\", \"activity\", \"activity\", \"activity\", \"activity\", \"activity\", \"activity\", \"activity\", \"adam_price\", \"adam_price\", \"adjourn\", \"adjourn\", \"admit\", \"affordable_house\", \"affordable_house\", \"affordable_house\", \"age\", \"age\", \"age\", \"age\", \"age\", \"age\", \"age\", \"age\", \"aggregate\", \"aggregate\", \"aggregate\", \"agree\", \"agree\", \"agree\", \"agree\", \"agree\", \"agree\", \"agree\", \"agree\", \"agree\", \"agree\", \"agree\", \"airport\", \"airport\", \"airport\", \"alliance\", \"alliance\", \"alliance\", \"am_sorry\", \"am_sorry\", \"am_sorry\", \"am_sorry\", \"amateur_swimming_association\", \"amateur_swimming_association\", \"amateur_swimming_association\", \"ambassador\", \"ambassador\", \"ambassador\", \"ambassador\", \"ambassador\", \"ambassador\", \"ancillary\", \"ancillary\", \"ancillary\", \"announce\", \"announce\", \"announce\", \"announce\", \"announce\", \"announce\", \"announce\", \"announce\", \"answer\", \"answer\", \"answer\", \"answer\", \"answer\", \"answer\", \"answer\", \"answer\", \"anti_dope\", \"anti_dope\", \"anti_dope\", \"anti_dope\", \"anticipated_final_cost\", \"anticipated_final_cost\", \"anticipated_final_cost\", \"apology\", \"apology\", \"appear\", \"appear\", \"appear\", \"appear\", \"appear\", \"appear\", \"appear\", \"appendix\", \"appendix\", \"appendix\", \"appendix\", \"appendix_memorandum_submitte\", \"appetite\", \"appetite\", \"applicable\", \"applicable\", \"appraisal\", \"appraisal\", \"appraisal\", \"appraisal\", \"apprentice\", \"apprentice\", \"apprentice\", \"aquatic\", \"aquatic\", \"aquatic\", \"aquatic\", \"aquatic\", \"archery\", \"archery\", \"area\", \"area\", \"area\", \"area\", \"area\", \"area\", \"area\", \"area\", \"area\", \"area\", \"area\", \"area\", \"aren\", \"aren\", \"argument\", \"argument\", \"argument\", \"argument\", \"argument\", \"argument\", \"argument\", \"arise\", \"arise\", \"arise\", \"arise\", \"arise\", \"arise\", \"arise\", \"arise\", \"arise\", \"arrangement\", \"arrangement\", \"arrangement\", \"arrangement\", \"arrangement\", \"arrangement\", \"arrangement\", \"arrangement\", \"arrangement\", \"arrangement\", \"art\", \"art\", \"art\", \"art\", \"art\", \"art\", \"art\", \"arup\", \"arup\", \"arup\", \"aspirational\", \"aspirational\", \"aspirational\", \"aspirational\", \"aspire\", \"aspire\", \"aspire\", \"aspire\", \"aspire\", \"aspire\", \"associated\", \"associated\", \"associated\", \"associated\", \"associated\", \"associated\", \"assume\", \"assume\", \"assume\", \"assume\", \"assume\", \"assume\", \"assume\", \"assume\", \"assume\", \"athen\", \"athen\", \"athen\", \"athen\", \"athlete\", \"athlete\", \"athlete\", \"athlete\", \"athlete\", \"athlete\", \"athlete\", \"athlete\", \"athlete\", \"athlete\", \"athlete\", \"athlete\", \"athletic\", \"athletic\", \"athletic\", \"athletic\", \"athletic\", \"athletic\", \"athletic\", \"athletic\", \"athletic\", \"athletic\", \"athletic\", \"attainment\", \"attainment\", \"auditor_general\", \"auditor_general\", \"authority\", \"authority\", \"authority\", \"authority\", \"authority\", \"authority\", \"authority\", \"authority\", \"authority\", \"authority\", \"authority\", \"authority\", \"backing\", \"backing\", \"backing\", \"backing\", \"badge\", \"ban\", \"ban\", \"ban\", \"ban\", \"base\", \"base\", \"base\", \"base\", \"base\", \"base\", \"base\", \"base\", \"base\", \"base\", \"base\", \"base\", \"baseball\", \"baseball\", \"baseball\", \"baseline\", \"baseline\", \"baseline\", \"baseline\", \"baseline\", \"bath\", \"bath\", \"bath\", \"beat\", \"beat\", \"beat\", \"beg\", \"beg\", \"beneficial\", \"beneficial\", \"beneficial\", \"beneficial\", \"beneficiary\", \"beneficiary\", \"beneficiary\", \"benefit\", \"benefit\", \"benefit\", \"benefit\", \"benefit\", \"benefit\", \"benefit\", \"benefit\", \"benefit\", \"benefit\", \"benefit\", \"benefit\", \"bene\\ufb01t\", \"bene\\ufb01t\", \"bene\\ufb01t\", \"bene\\ufb01t\", \"bene\\ufb01t\", \"bene\\ufb01ts\", \"bene\\ufb01ts\", \"bene\\ufb01ts\", \"bene\\ufb01ts\", \"bene\\ufb01ts\", \"bene\\ufb01ts\", \"bid\", \"bid\", \"bid\", \"bid\", \"bid\", \"bid\", \"bid\", \"bid\", \"bid\", \"bid\", \"bid\", \"bid\", \"bidding\", \"bidding\", \"bidding\", \"bidding\", \"bidding\", \"bidding\", \"bidding\", \"bidding\", \"big\", \"big\", \"big\", \"big\", \"big\", \"big\", \"big\", \"big\", \"big\", \"big\", \"big\", \"big\", \"blend\", \"boa\", \"boa\", \"boa\", \"boa\", \"boa\", \"boa\", \"boa\", \"bombing\", \"border\", \"border\", \"borough\", \"borough\", \"borough\", \"borough\", \"borough\", \"borough\", \"borough\", \"borough\", \"borough\", \"borough\", \"borough\", \"boxing\", \"boxing\", \"bracket\", \"breach\", \"breach\", \"breakfast\", \"british\", \"british\", \"british\", \"british\", \"british\", \"british\", \"british\", \"british\", \"british\", \"british\", \"british\", \"bronze\", \"bronze\", \"bronze\", \"brownfield\", \"brownfield\", \"bryant\", \"bryant\", \"budget\", \"budget\", \"budget\", \"budget\", \"budget\", \"budget\", \"budget\", \"budget\", \"budget\", \"budget\", \"build\", \"build\", \"build\", \"build\", \"build\", \"build\", \"build\", \"build\", \"build\", \"build\", \"build\", \"build\", \"business\", \"business\", \"business\", \"business\", \"business\", \"business\", \"business\", \"business\", \"business\", \"business\", \"business\", \"business\", \"cabinet_office\", \"cabinet_office\", \"cabinet_office\", \"camelot\", \"camelot\", \"camelot\", \"camelot\", \"camelot\", \"campus\", \"campus\", \"candidate_file\", \"case\", \"case\", \"case\", \"case\", \"case\", \"case\", \"case\", \"case\", \"case\", \"case\", \"case\", \"casual\", \"casual\", \"ccpr\", \"ccpr\", \"centre\", \"centre\", \"centre\", \"centre\", \"centre\", \"centre\", \"centre\", \"centre\", \"centre\", \"centre\", \"centre\", \"centre\", \"centrepiece\", \"centrepiece\", \"certify\", \"certify\", \"ch_hill_laing_rourke\", \"ch_hill_laing_rourke\", \"chair\", \"chair\", \"chair\", \"chair\", \"chair\", \"chair\", \"chair\", \"chair\", \"chair\", \"chairman\", \"chairman\", \"chairman\", \"chairman\", \"chairman\", \"chairman\", \"chairman\", \"chairman\", \"chairman\", \"chairman\", \"channel_tunnel_rail_link\", \"channel_tunnel_rail_link\", \"channel_tunnel_rail_link\", \"channel_tunnel_rail_link\", \"channel_tunnel_rail_link\", \"characteristic\", \"characteristic\", \"charismatic\", \"charismatic\", \"charitable\", \"cheap\", \"cheap\", \"cheap\", \"cheap\", \"child\", \"child\", \"child\", \"child\", \"child\", \"child\", \"child\", \"child\", \"child\", \"childhood\", \"childhood\", \"chunk\", \"chunk\", \"chunk\", \"cite\", \"cite\", \"cite\", \"cite\", \"city\", \"city\", \"city\", \"city\", \"city\", \"city\", \"city\", \"city\", \"city\", \"city\", \"city\", \"clear\", \"clear\", \"clear\", \"clear\", \"clear\", \"clear\", \"clear\", \"clear\", \"clear\", \"clear\", \"clear\", \"clear\", \"clegg\", \"clm\", \"clm\", \"close_proximity\", \"close_proximity\", \"closed\", \"closed\", \"clothing\", \"clothing\", \"clothing\", \"club\", \"club\", \"club\", \"club\", \"club\", \"club\", \"club\", \"club\", \"coach\", \"coach\", \"coach\", \"coach\", \"coach\", \"coach\", \"coach\", \"coach\", \"coach\", \"college\", \"college\", \"college\", \"college\", \"college\", \"college\", \"college\", \"combat\", \"combat\", \"combat\", \"come\", \"come\", \"come\", \"come\", \"come\", \"come\", \"come\", \"come\", \"come\", \"come\", \"come\", \"come\", \"comfort\", \"comfort\", \"comfort\", \"commence\", \"commence\", \"commence\", \"commence\", \"commerce\", \"commerce\", \"committee\", \"committee\", \"committee\", \"committee\", \"committee\", \"committee\", \"committee\", \"committee\", \"committee\", \"committee\", \"committee\", \"committee\", \"community\", \"community\", \"community\", \"community\", \"community\", \"community\", \"community\", \"community\", \"community\", \"community\", \"community\", \"community\", \"company\", \"company\", \"company\", \"company\", \"company\", \"company\", \"company\", \"company\", \"company\", \"company\", \"comparable\", \"comparable\", \"comparable\", \"comparable\", \"compelling\", \"compelling\", \"compelling\", \"compensation\", \"compensation\", \"compensation\", \"compensation\", \"compete\", \"compete\", \"compete\", \"compete\", \"compete\", \"compete\", \"compete\", \"compete\", \"compete\", \"compete\", \"competence\", \"competence\", \"competence\", \"competition\", \"competition\", \"competition\", \"competition\", \"competition\", \"competition\", \"competition\", \"competition\", \"competition\", \"competition\", \"complaint\", \"compliance\", \"compliance\", \"compliance\", \"comptroller\", \"comptroller\", \"comptroller\", \"comptroller\", \"compulsory_purchase\", \"compulsory_purchase\", \"concentration\", \"concentration\", \"concentration\", \"concentration\", \"concordat\", \"confirmation\", \"confirmation\", \"confirmation\", \"confirmation\", \"congestion\", \"congestion\", \"connectivity\", \"connectivity\", \"connectivity\", \"conservative\", \"conservative\", \"conservative\", \"conservative\", \"conservative\", \"constituency\", \"constituency\", \"constituency\", \"constituency\", \"constituency\", \"construction\", \"construction\", \"construction\", \"construction\", \"construction\", \"construction\", \"construction\", \"construction\", \"construction\", \"construction\", \"contentious\", \"contentious\", \"contingency\", \"contingency\", \"contingency\", \"contingency\", \"contingency\", \"contingency\", \"contingency\", \"contingency\", \"contingency\", \"contract\", \"contract\", \"contract\", \"contract\", \"contract\", \"contract\", \"contract\", \"contract\", \"contract\", \"contract\", \"contract\", \"contractor\", \"contractor\", \"contractor\", \"contractor\", \"contractor\", \"contractor\", \"contractor\", \"contribution\", \"contribution\", \"contribution\", \"contribution\", \"contribution\", \"contribution\", \"contribution\", \"contribution\", \"contribution\", \"contribution\", \"controller\", \"controller\", \"convention\", \"convention\", \"convention\", \"convergence\", \"convergence\", \"convergence\", \"cool\", \"cool\", \"cool\", \"cost\", \"cost\", \"cost\", \"cost\", \"cost\", \"cost\", \"cost\", \"cost\", \"cost\", \"cost\", \"cost\", \"cost\", \"cost_overrun\", \"cost_overrun\", \"cost_overrun\", \"countdown\", \"countdown\", \"country\", \"country\", \"country\", \"country\", \"country\", \"country\", \"country\", \"country\", \"country\", \"country\", \"country\", \"country\", \"county\", \"county\", \"county\", \"course\", \"course\", \"course\", \"course\", \"course\", \"course\", \"course\", \"course\", \"course\", \"course\", \"course\", \"coverage\", \"coverage\", \"coverage\", \"coverage\", \"coverage\", \"coverage\", \"create\", \"create\", \"create\", \"create\", \"create\", \"create\", \"create\", \"create\", \"create\", \"create\", \"create\", \"create\", \"creative\", \"creative\", \"creative\", \"creative\", \"creative\", \"creative\", \"creative\", \"creative\", \"creative_industrie\", \"creative_industrie\", \"creative_industrie\", \"credibility\", \"credibility\", \"credibility\", \"crossing\", \"crossrail\", \"crossrail\", \"crossrail\", \"crossrail\", \"crucial\", \"crucial\", \"crucial\", \"crucial\", \"crucial\", \"crucial\", \"crucial\", \"crucial\", \"crucial\", \"culminate\", \"culminate\", \"cultural\", \"cultural\", \"cultural\", \"cultural\", \"cultural\", \"cultural\", \"cultural\", \"cultural\", \"cultural\", \"culture\", \"culture\", \"culture\", \"culture\", \"culture\", \"culture\", \"culture\", \"culture\", \"culture\", \"culture\", \"culture\", \"culture\", \"curriculum\", \"curriculum\", \"curriculum\", \"curriculum\", \"cycle\", \"cycle\", \"cycle\", \"cycle\", \"cycle\", \"cycle\", \"cycling\", \"cycling\", \"cycling\", \"cycling\", \"dame_helen_ghosh\", \"dame_helen_ghosh\", \"dame_tanni_grey_thompson\", \"dame_tanni_grey_thompson\", \"dame_tanni_grey_thompson\", \"david_higgin\", \"david_higgin\", \"day\", \"day\", \"day\", \"day\", \"day\", \"day\", \"day\", \"day\", \"day\", \"day\", \"day\", \"day\", \"dcsf\", \"decision\", \"decision\", \"decision\", \"decision\", \"decision\", \"decision\", \"decision\", \"decision\", \"decision\", \"decision\", \"decision\", \"decision\", \"defence\", \"defence\", \"defence\", \"delay\", \"delay\", \"delay\", \"delay\", \"delay\", \"delay\", \"delay\", \"delegation\", \"delegation\", \"delegation\", \"deliver\", \"deliver\", \"deliver\", \"deliver\", \"deliver\", \"deliver\", \"deliver\", \"deliver\", \"deliver\", \"deliver\", \"deliver\", \"deliver\", \"deliverability\", \"delivery\", \"delivery\", \"delivery\", \"delivery\", \"delivery\", \"delivery\", \"delivery\", \"delivery\", \"delivery\", \"delivery\", \"delivery\", \"delivery\", \"democratic\", \"democratic\", \"department\", \"department\", \"department\", \"department\", \"department\", \"department\", \"department\", \"department\", \"department\", \"department\", \"department\", \"department\", \"dependency\", \"dependency\", \"deploy\", \"deploy\", \"deploy\", \"deprivation\", \"deprivation\", \"deprivation\", \"depth\", \"depth\", \"depth\", \"depth\", \"depth\", \"deputy_prime_minister\", \"deputy_prime_minister\", \"derelict\", \"derelict\", \"derelict\", \"description\", \"description\", \"description\", \"design\", \"design\", \"design\", \"design\", \"design\", \"design\", \"design\", \"design\", \"design\", \"design\", \"design\", \"design\", \"designate\", \"designate\", \"designate\", \"designate\", \"designate\", \"designate\", \"destination\", \"destination\", \"destination\", \"detrimental\", \"develop\", \"develop\", \"develop\", \"develop\", \"develop\", \"develop\", \"develop\", \"develop\", \"develop\", \"develop\", \"develop\", \"develop\", \"development\", \"development\", \"development\", \"development\", \"development\", \"development\", \"development\", \"development\", \"development\", \"development\", \"development\", \"development\", \"development_corporation\", \"development_corporation\", \"devolved_administration\", \"different\", \"different\", \"different\", \"different\", \"different\", \"different\", \"different\", \"different\", \"different\", \"different\", \"different\", \"directly_attributable\", \"directly_attributable\", \"directly_attributable\", \"disability\", \"disability\", \"disability\", \"disability\", \"disability\", \"disability\", \"disability\", \"disabled\", \"disabled\", \"disabled\", \"disabled\", \"disabled\", \"disabled\", \"disabled\", \"discipline\", \"discipline\", \"discipline\", \"discipline\", \"discipline\", \"discipline\", \"discipline\", \"disclose\", \"disclose\", \"disclose\", \"discount\", \"discount\", \"discount\", \"discount\", \"discrepancy\", \"discrepancy\", \"discrepancy\", \"dispose\", \"dispose\", \"distributor\", \"distributor\", \"distributor\", \"diver\", \"diver\", \"diver\", \"diverse_communitie\", \"diving\", \"diving\", \"diving\", \"diving\", \"diving\", \"diving\", \"drag\", \"drum\", \"drum\", \"dry\", \"dry\", \"dry\", \"duplication\", \"duplication\", \"duplication\", \"eastway\", \"eastway\", \"economic\", \"economic\", \"economic\", \"economic\", \"economic\", \"economic\", \"economic\", \"economic\", \"economic\", \"economic\", \"education\", \"education\", \"education\", \"education\", \"education\", \"education\", \"education\", \"education\", \"education\", \"education\", \"education\", \"eighth\", \"eighth\", \"eighth\", \"eighth\", \"elite\", \"elite\", \"elite\", \"elite\", \"elite\", \"elite\", \"elite\", \"elite\", \"elite\", \"elite\", \"elite\", \"embargoed_copie\", \"emergence\", \"emergence\", \"emergence\", \"employment\", \"employment\", \"employment\", \"employment\", \"employment\", \"employment\", \"employment\", \"employment\", \"employment\", \"employment\", \"end\", \"end\", \"end\", \"end\", \"end\", \"end\", \"end\", \"end\", \"end\", \"end\", \"end\", \"end\", \"enforce\", \"enforce\", \"engender\", \"engender\", \"enjoyment\", \"enjoyment\", \"enjoyment\", \"ensure\", \"ensure\", \"ensure\", \"ensure\", \"ensure\", \"ensure\", \"ensure\", \"ensure\", \"ensure\", \"ensure\", \"ensure\", \"ensure\", \"equate\", \"equate\", \"estimate\", \"estimate\", \"estimate\", \"estimate\", \"estimate\", \"estimate\", \"estimate\", \"estimate\", \"estimate\", \"estimate\", \"estimate\", \"estimate\", \"event\", \"event\", \"event\", \"event\", \"event\", \"event\", \"event\", \"event\", \"event\", \"event\", \"event\", \"event\", \"evidence\", \"evidence\", \"evidence\", \"evidence\", \"evidence\", \"evidence\", \"evidence\", \"evidence\", \"evidence\", \"evidence\", \"evidence\", \"evidence\", \"excited\", \"excited\", \"excited\", \"excited\", \"excuse\", \"executive\", \"executive\", \"executive\", \"executive\", \"executive\", \"executive\", \"executive\", \"executive\", \"executive\", \"expect\", \"expect\", \"expect\", \"expect\", \"expect\", \"expect\", \"expect\", \"expect\", \"expect\", \"expect\", \"expect\", \"expected\", \"expected\", \"experience\", \"experience\", \"experience\", \"experience\", \"experience\", \"experience\", \"experience\", \"experience\", \"experience\", \"experience\", \"experience\", \"experience\", \"extension\", \"extension\", \"extension\", \"extension\", \"extension\", \"extraordinary\", \"extraordinary\", \"extraordinary\", \"facility\", \"facility\", \"facility\", \"facility\", \"facility\", \"facility\", \"facility\", \"facility\", \"facility\", \"facility\", \"facility\", \"facility\", \"failure\", \"failure\", \"failure\", \"failure\", \"failure\", \"failure\", \"failure\", \"failure\", \"feasibility\", \"feasibility\", \"feasibility\", \"feasibility\", \"feasibility\", \"festival\", \"festival\", \"festival\", \"festival\", \"festival\", \"fifa\", \"fifa\", \"figure\", \"figure\", \"figure\", \"figure\", \"figure\", \"figure\", \"figure\", \"figure\", \"figure\", \"figure\", \"figure\", \"finalise\", \"finalise\", \"finalise\", \"finalise\", \"finalise\", \"finalise\", \"finalise\", \"finalise\", \"financially_expose\", \"finely_balance\", \"finely_balanced\", \"finely_balanced\", \"fitness\", \"fitness\", \"fitness\", \"fitness\", \"five_host_boroughs\", \"five_host_boroughs\", \"five_host_boroughs\", \"five_host_boroughs\", \"flight\", \"flight\", \"float\", \"flow\", \"flow\", \"flow\", \"flow\", \"flow\", \"flow\", \"flow\", \"focal\", \"focal\", \"football\", \"football\", \"football\", \"football\", \"football\", \"football\", \"football\", \"football\", \"football\", \"football\", \"football\", \"football\", \"forecast\", \"forecast\", \"forecast\", \"forecast\", \"forecast\", \"forecast\", \"forecast\", \"forecast\", \"forge\", \"formal_minutes_witnesse\", \"formation\", \"formation\", \"formation\", \"forum\", \"forum\", \"forum\", \"forum\", \"forum\", \"fraction\", \"fraction\", \"fraction\", \"framework\", \"framework\", \"framework\", \"framework\", \"framework\", \"framework\", \"framework\", \"framework\", \"framework\", \"framework\", \"freedom\", \"freedom\", \"friendship\", \"fringe\", \"fringe\", \"functionality\", \"fund\", \"fund\", \"fund\", \"fund\", \"fund\", \"fund\", \"fund\", \"fund\", \"fund\", \"fund\", \"fund\", \"fund\", \"funding\", \"funding\", \"funding\", \"funding\", \"funding\", \"funding\", \"funding\", \"funding\", \"funding\", \"funding\", \"funding\", \"funding\", \"fundraising\", \"fundraising\", \"fundraising\", \"fundraising\", \"gallery\", \"generation\", \"generation\", \"generation\", \"generation\", \"generation\", \"generation\", \"generation\", \"generation\", \"generation\", \"gentleman\", \"gentleman\", \"gentleman\", \"girl\", \"girl\", \"girl\", \"glad\", \"glad\", \"goal\", \"goal\", \"goal\", \"goal\", \"goal\", \"goal\", \"goal\", \"goal\", \"goal\", \"goal\", \"gold_medal\", \"gold_medal\", \"gold_medal\", \"gold_medal\", \"gold_medal\", \"good\", \"good\", \"good\", \"good\", \"good\", \"good\", \"good\", \"good\", \"good\", \"good\", \"good\", \"good\", \"governance_arrangement\", \"governance_arrangement\", \"governing_bodie\", \"governing_bodie\", \"governing_bodie\", \"governing_bodie\", \"governing_bodie\", \"governing_bodie\", \"governing_bodie\", \"governing_bodie\", \"governing_bodie\", \"government\", \"government\", \"government\", \"government\", \"government\", \"government\", \"government\", \"government\", \"government\", \"government\", \"government\", \"government\", \"grade\", \"grant\", \"grant\", \"grant\", \"grant\", \"grant\", \"grant\", \"grant\", \"grant\", \"grant\", \"grant\", \"greek\", \"green\", \"green\", \"green\", \"green\", \"green\", \"greenwich_leisure_limite\", \"greenwich_leisure_limite\", \"gross\", \"gross\", \"gross\", \"gross\", \"grow\", \"grow\", \"grow\", \"grow\", \"grow\", \"grow\", \"grow\", \"grow\", \"guard\", \"guard\", \"guard\", \"hackney\", \"hackney\", \"hackney\", \"hackney\", \"hackney\", \"hackney\", \"hackney\", \"hackney_marshe\", \"hackney_marshe\", \"hackney_marshe\", \"handball\", \"handball\", \"handball\", \"handball\", \"handball\", \"handball\", \"haven\", \"haven\", \"haven\", \"headroom\", \"headroom\", \"headroom\", \"health\", \"health\", \"health\", \"health\", \"health\", \"health\", \"health\", \"health\", \"health\", \"health\", \"hearing\", \"hearing\", \"hearing\", \"hearing\", \"heat\", \"help\", \"help\", \"help\", \"help\", \"help\", \"help\", \"help\", \"help\", \"help\", \"help\", \"help\", \"help\", \"heritage\", \"heritage\", \"heritage\", \"heritage\", \"heritage\", \"highway\", \"highway\", \"historical\", \"historical\", \"holding\", \"holding\", \"hopeful\", \"hopeful\", \"hospitality\", \"hospitality\", \"hospitality\", \"hospitality\", \"hospitality\", \"host\", \"host\", \"host\", \"host\", \"host\", \"host\", \"host\", \"host\", \"host\", \"host\", \"host\", \"host\", \"host_borough\", \"host_borough\", \"host_borough\", \"host_borough\", \"host_borough\", \"hot\", \"hot\", \"hotspot\", \"hotspot\", \"house\", \"house\", \"house\", \"house\", \"house\", \"house\", \"house\", \"housing\", \"housing\", \"housing\", \"housing\", \"housing\", \"housing\", \"housing\", \"housing\", \"housing\", \"iaaf\", \"iaaf\", \"imbalance\", \"impact\", \"impact\", \"impact\", \"impact\", \"impact\", \"impact\", \"impact\", \"impact\", \"impact\", \"impact\", \"impact\", \"impact\", \"important\", \"important\", \"important\", \"important\", \"important\", \"important\", \"important\", \"important\", \"important\", \"important\", \"important\", \"important\", \"improve\", \"improve\", \"improve\", \"improve\", \"improve\", \"improve\", \"improve\", \"improve\", \"improve\", \"improve\", \"improve\", \"improve\", \"inactive\", \"inadequate\", \"include\", \"include\", \"include\", \"include\", \"include\", \"include\", \"include\", \"include\", \"include\", \"include\", \"include\", \"include\", \"increase\", \"increase\", \"increase\", \"increase\", \"increase\", \"increase\", \"increase\", \"increase\", \"increase\", \"increase\", \"increase\", \"increase\", \"independence\", \"independence\", \"indian\", \"indirect\", \"indirect\", \"indirect\", \"industry\", \"industry\", \"industry\", \"industry\", \"industry\", \"industry\", \"industry\", \"industry\", \"industry\", \"industry\", \"industry\", \"industry\", \"influence\", \"influence\", \"influence\", \"influence\", \"influence\", \"influence\", \"influence\", \"influence\", \"influence\", \"influx\", \"infrastructure\", \"infrastructure\", \"infrastructure\", \"infrastructure\", \"infrastructure\", \"infrastructure\", \"infrastructure\", \"infrastructure\", \"infrastructure\", \"infrastructure\", \"infrastructure\", \"infrastructure\", \"injury\", \"injury\", \"injury\", \"insist\", \"insist\", \"insist\", \"institute\", \"institute\", \"institute\", \"institute\", \"institute\", \"interchange\", \"interfere\", \"international\", \"international\", \"international\", \"international\", \"international\", \"international\", \"international\", \"international\", \"international\", \"international\", \"international\", \"international\", \"intervene\", \"intervene\", \"intervene\", \"intrinsic\", \"intrinsic\", \"investment\", \"investment\", \"investment\", \"investment\", \"investment\", \"investment\", \"investment\", \"investment\", \"investment\", \"investment\", \"investment\", \"investment\", \"ioc\", \"ioc\", \"ioc\", \"ioc\", \"ioc\", \"ioc\", \"ioc\", \"ipc\", \"ipc\", \"ipc\", \"issue\", \"issue\", \"issue\", \"issue\", \"issue\", \"issue\", \"issue\", \"issue\", \"issue\", \"issue\", \"issue\", \"issue\", \"job\", \"job\", \"job\", \"job\", \"job\", \"job\", \"job\", \"job\", \"job\", \"joint_venture_agreement\", \"jonathan_stephen\", \"jonathan_stephen\", \"jonathan_stephen\", \"journalist\", \"journalist\", \"journalist\", \"journalist\", \"journalist\", \"journalist\", \"key\", \"key\", \"key\", \"key\", \"key\", \"key\", \"key\", \"key\", \"key\", \"key\", \"key\", \"key\", \"kind\", \"kind\", \"kind\", \"kind\", \"kind\", \"kind\", \"kind\", \"kind\", \"kitchen\", \"kitchen\", \"kitchen\", \"kitchen\", \"land\", \"land\", \"land\", \"land\", \"land\", \"land\", \"land\", \"land\", \"land\", \"land\", \"land_sale\", \"land_sale\", \"land_sale\", \"land_sale\", \"land_value\", \"land_value\", \"land_value\", \"landowner\", \"landowner\", \"landscaping\", \"landscaping\", \"launch\", \"launch\", \"launch\", \"launch\", \"launch\", \"launch\", \"launch\", \"launch\", \"launch\", \"launch\", \"launch\", \"lead\", \"lead\", \"lead\", \"lead\", \"lead\", \"lead\", \"lead\", \"lead\", \"lead\", \"lead\", \"lead\", \"lead\", \"left\", \"left\", \"legacy\", \"legacy\", \"legacy\", \"legacy\", \"legacy\", \"legacy\", \"legacy\", \"legacy\", \"legacy\", \"legacy\", \"legacy\", \"legacy\", \"level\", \"level\", \"level\", \"level\", \"level\", \"level\", \"level\", \"level\", \"level\", \"level\", \"level\", \"level\", \"library\", \"library\", \"library\", \"like\", \"like\", \"like\", \"like\", \"like\", \"like\", \"like\", \"like\", \"like\", \"like\", \"likely\", \"likely\", \"likely\", \"likely\", \"likely\", \"likely\", \"likely\", \"likely\", \"likely\", \"likely\", \"likely\", \"line\", \"line\", \"line\", \"line\", \"line\", \"line\", \"line\", \"line\", \"line\", \"line\", \"line\", \"link\", \"link\", \"link\", \"link\", \"link\", \"link\", \"link\", \"link\", \"link\", \"link\", \"link\", \"link\", \"liverpool\", \"local\", \"local\", \"local\", \"local\", \"local\", \"local\", \"local\", \"local\", \"local\", \"local\", \"local\", \"locality\", \"look\", \"look\", \"look\", \"look\", \"look\", \"look\", \"look\", \"look\", \"look\", \"look\", \"look\", \"look\", \"lottery\", \"lottery\", \"lottery\", \"lottery\", \"lottery\", \"lottery\", \"lottery\", \"lottery\", \"lottery\", \"lottery\", \"lottery\", \"magnitude\", \"magnitude\", \"main\", \"main\", \"main\", \"main\", \"main\", \"main\", \"main\", \"main\", \"main\", \"main\", \"main\", \"main\", \"major\", \"major\", \"major\", \"major\", \"major\", \"major\", \"major\", \"major\", \"major\", \"major\", \"major\", \"major\", \"make_sure\", \"make_sure\", \"make_sure\", \"make_sure\", \"make_sure\", \"make_sure\", \"make_sure\", \"make_sure\", \"maker\", \"maker\", \"maker\", \"maker\", \"man\", \"man\", \"man\", \"man\", \"man\", \"man\", \"man\", \"man\", \"man\", \"manageable\", \"manageable\", \"management\", \"management\", \"management\", \"management\", \"management\", \"management\", \"management\", \"management\", \"management\", \"management\", \"management\", \"management\", \"manchester\", \"manchester\", \"manchester\", \"manchester\", \"manchester\", \"manchester\", \"manchester\", \"manchester\", \"manchester\", \"manchester\", \"marry\", \"materialise\", \"materialise\", \"materialise\", \"maximize\", \"maximize\", \"mayor\", \"mayor\", \"mayor\", \"mayor\", \"mayor\", \"mayor\", \"mayor\", \"mayor\", \"mayor\", \"mayor\", \"measure\", \"measure\", \"measure\", \"measure\", \"measure\", \"measure\", \"measure\", \"measure\", \"measure\", \"measure\", \"measure\", \"measure\", \"medal\", \"medal\", \"medal\", \"medal\", \"medal\", \"medal\", \"medal\", \"medal\", \"medal_table\", \"medal_table\", \"medal_target\", \"medal_target\", \"medal_winning_performance\", \"medal_winning_performance\", \"media\", \"media\", \"media\", \"media\", \"media\", \"medicine\", \"medicine\", \"medicine\", \"medium\", \"medium\", \"medium\", \"medium\", \"medium\", \"medium\", \"medium\", \"medium\", \"medium\", \"medium\", \"medium\", \"member\", \"member\", \"member\", \"member\", \"member\", \"member\", \"member\", \"member\", \"member\", \"member\", \"member\", \"member\", \"memorable\", \"mental\", \"mentor\", \"mentor\", \"mentor\", \"merit\", \"merit\", \"methodology\", \"methodology\", \"methodology\", \"methodology\", \"military\", \"military\", \"military\", \"mini\", \"mini\", \"mini\", \"miss_kirkbride\", \"mission\", \"mission\", \"mission\", \"mission\", \"mitigation\", \"mitigation\", \"modest\", \"modest\", \"modest\", \"moment\", \"moment\", \"moment\", \"moment\", \"moment\", \"moment\", \"moment\", \"money\", \"money\", \"money\", \"money\", \"money\", \"money\", \"money\", \"money\", \"money\", \"money\", \"morning\", \"morning\", \"morning\", \"morning\", \"morning\", \"morning\", \"morning\", \"motivation\", \"motivation\", \"motivation\", \"mount\", \"mount\", \"mount\", \"mount\", \"museum\", \"museum\", \"music\", \"music\", \"music\", \"nao\", \"nao\", \"nao\", \"nation\", \"nation\", \"nation\", \"nation\", \"nation\", \"nation\", \"nation\", \"nation\", \"nation\", \"nation\", \"nation\", \"national\", \"national\", \"national\", \"national\", \"national\", \"national\", \"national\", \"national\", \"national\", \"national\", \"national\", \"national\", \"neighbour\", \"neighbour\", \"neighbourhood\", \"neighbourhood\", \"neighbourhood\", \"neighbourhood\", \"neighbouring\", \"neighbouring\", \"nldf\", \"nldf\", \"nomination\", \"nomination\", \"note\", \"note\", \"note\", \"note\", \"note\", \"note\", \"note\", \"note\", \"note\", \"note\", \"note\", \"notify\", \"notify\", \"number\", \"number\", \"number\", \"number\", \"number\", \"number\", \"number\", \"number\", \"number\", \"number\", \"number\", \"number\", \"observe\", \"observe\", \"observe\", \"observe\", \"occupier\", \"occupier\", \"oda\", \"oda\", \"oda\", \"oda\", \"oda\", \"oda\", \"oda\", \"oda\", \"oda\", \"oda\", \"offer\", \"offer\", \"offer\", \"offer\", \"offer\", \"offer\", \"offer\", \"offer\", \"offer\", \"offer\", \"offer\", \"old\", \"old\", \"old\", \"old\", \"old\", \"old\", \"old\", \"open_space\", \"open_space\", \"open_space\", \"open_space\", \"oplc\", \"oplc\", \"oplc\", \"oplc\", \"oplc\", \"oplc\", \"oplc\", \"opportunity\", \"opportunity\", \"opportunity\", \"opportunity\", \"opportunity\", \"opportunity\", \"opportunity\", \"opportunity\", \"opportunity\", \"opportunity\", \"opportunity\", \"opportunity\", \"opposed\", \"opposed\", \"option\", \"option\", \"option\", \"option\", \"option\", \"option\", \"option\", \"option\", \"organised\", \"organised\", \"orn\", \"package\", \"package\", \"package\", \"package\", \"package\", \"package\", \"package\", \"package\", \"package\", \"package\", \"package\", \"page\", \"page\", \"page\", \"page\", \"page\", \"page\", \"page\", \"page\", \"pair\", \"pair\", \"panel\", \"panel\", \"panel\", \"panel\", \"paragraph\", \"paragraph\", \"paragraph\", \"paragraph\", \"paragraph\", \"paralympian\", \"paralympian\", \"paralympian\", \"paralympian\", \"paralympic\", \"paralympic\", \"paralympic\", \"paralympic\", \"paralympic\", \"paralympic\", \"paralympic\", \"paralympic\", \"paralympic\", \"paralympic\", \"park\", \"park\", \"park\", \"park\", \"park\", \"park\", \"park\", \"park\", \"park\", \"park\", \"park\", \"park\", \"parkland\", \"parkland\", \"parkland\", \"parkland\", \"participation\", \"participation\", \"participation\", \"participation\", \"participation\", \"participation\", \"participation\", \"participation\", \"participation\", \"participation\", \"participation\", \"participation\", \"partner\", \"partner\", \"partner\", \"partner\", \"partner\", \"partner\", \"partner\", \"partner\", \"partner\", \"partner\", \"partner\", \"pathway\", \"pathway\", \"pathway\", \"pathway\", \"pathway\", \"pathway\", \"pay\", \"pay\", \"pay\", \"pay\", \"pay\", \"pay\", \"pay\", \"pay\", \"pay\", \"pay\", \"peak\", \"peak\", \"peak\", \"peak\", \"peak\", \"peak\", \"performance\", \"performance\", \"performance\", \"performance\", \"performance\", \"performance\", \"performance\", \"performance\", \"performance\", \"performance\", \"performance\", \"performance\", \"performer\", \"performer\", \"performer\", \"performer\", \"person\", \"person\", \"person\", \"person\", \"person\", \"person\", \"person\", \"person\", \"person\", \"person\", \"physical\", \"physical\", \"physical\", \"physical\", \"physical\", \"physical\", \"physical\", \"physical\", \"physical\", \"physical\", \"picketts_lock\", \"picketts_lock\", \"picketts_lock\", \"picketts_lock\", \"pinnacle\", \"pinnacle\", \"pioneer\", \"pipeline\", \"pipeline\", \"pipeline\", \"place\", \"place\", \"place\", \"place\", \"place\", \"place\", \"place\", \"place\", \"place\", \"place\", \"place\", \"place\", \"plan\", \"plan\", \"plan\", \"plan\", \"plan\", \"plan\", \"plan\", \"plan\", \"plan\", \"plan\", \"plan\", \"plan\", \"pledge\", \"podium\", \"podium\", \"podium\", \"podium\", \"point\", \"point\", \"point\", \"point\", \"point\", \"point\", \"point\", \"point\", \"point\", \"point\", \"point\", \"point\", \"policing\", \"policing\", \"policing\", \"policing\", \"politic\", \"politic\", \"poll\", \"poll\", \"poll\", \"pool\", \"pool\", \"pool\", \"pool\", \"pool\", \"pool\", \"pool\", \"pool\", \"pool\", \"positive\", \"positive\", \"positive\", \"positive\", \"positive\", \"positive\", \"positive\", \"positive\", \"positive\", \"positive\", \"positive\", \"poverty\", \"poverty\", \"poverty\", \"poverty\", \"powerline\", \"practise\", \"practise\", \"practise\", \"precious\", \"precious\", \"premier\", \"premier\", \"premier\", \"premier\", \"preparation\", \"preparation\", \"preparation\", \"preparation\", \"preparation\", \"preparation\", \"preparation\", \"preparation\", \"preparation\", \"preparation\", \"preparation\", \"preparation_camp\", \"preparation_camp\", \"preparatory\", \"preparatory\", \"preparatory\", \"prepare\", \"prepare\", \"prepare\", \"prepare\", \"prepare\", \"prepare\", \"prepare\", \"prepare\", \"prepare\", \"prepare\", \"prepare\", \"preserve\", \"preserve\", \"preserve\", \"prestige\", \"prestige\", \"previous\", \"previous\", \"previous\", \"previous\", \"previous\", \"previous\", \"previous\", \"previous\", \"previous\", \"previous\", \"previous\", \"previous\", \"pricing\", \"pricing\", \"process\", \"process\", \"process\", \"process\", \"process\", \"process\", \"process\", \"process\", \"process\", \"process\", \"process\", \"process\", \"procurement\", \"procurement\", \"procurement\", \"procurement\", \"procurement\", \"procurement\", \"procurement\", \"procurement\", \"production\", \"production\", \"production\", \"production\", \"production\", \"programme\", \"programme\", \"programme\", \"programme\", \"programme\", \"programme\", \"programme\", \"programme\", \"programme\", \"programme\", \"programme\", \"programme\", \"progress\", \"progress\", \"progress\", \"progress\", \"progress\", \"progress\", \"progress\", \"progress\", \"progress\", \"progress\", \"progress\", \"project\", \"project\", \"project\", \"project\", \"project\", \"project\", \"project\", \"project\", \"project\", \"project\", \"project\", \"project\", \"prosperous\", \"prosperous\", \"provide\", \"provide\", \"provide\", \"provide\", \"provide\", \"provide\", \"provide\", \"provide\", \"provide\", \"provide\", \"provide\", \"provide\", \"provision\", \"provision\", \"provision\", \"provision\", \"provision\", \"provision\", \"provision\", \"provision\", \"provision\", \"provision\", \"provision\", \"provision\", \"pro\\ufb01t\", \"pro\\ufb01t\", \"pro\\ufb01t\", \"pro\\ufb01t\", \"public\", \"public\", \"public\", \"public\", \"public\", \"public\", \"public\", \"public\", \"public\", \"public\", \"public\", \"public\", \"publicly_funde\", \"publicly_funde\", \"publish\", \"publish\", \"publish\", \"publish\", \"publish\", \"publish\", \"publish\", \"publish\", \"publish\", \"publish\", \"publish\", \"publish\", \"pupil\", \"pupil\", \"pupil\", \"purchase\", \"purchase\", \"purchase\", \"purchase\", \"purchase\", \"purchase\", \"quadrennial\", \"quadrennial\", \"qualify\", \"qualify\", \"qualify\", \"qualify\", \"qualify\", \"quantitative\", \"quantitative\", \"quantitative\", \"query\", \"query\", \"question\", \"question\", \"question\", \"question\", \"question\", \"question\", \"question\", \"question\", \"question\", \"question\", \"question\", \"rail\", \"rail\", \"rail\", \"rail\", \"rail\", \"rail\", \"react\", \"react\", \"readiness\", \"readiness\", \"readiness\", \"realisation\", \"receipt\", \"receipt\", \"receipt\", \"receipt\", \"receipt\", \"receipt\", \"receipt\", \"receive\", \"receive\", \"receive\", \"receive\", \"receive\", \"receive\", \"receive\", \"receive\", \"receive\", \"receive\", \"receive\", \"receive\", \"reconcile\", \"reconcile\", \"recoup\", \"recoup\", \"recoup\", \"recoup\", \"recreation\", \"recreation\", \"recreation\", \"recreation\", \"recreation\", \"recreation\", \"redress\", \"redress\", \"redress\", \"regeneration\", \"regeneration\", \"regeneration\", \"regeneration\", \"regeneration\", \"regeneration\", \"regeneration\", \"regeneration\", \"regeneration\", \"regeneration\", \"regeneration\", \"regenerative\", \"regenerative\", \"regenerative\", \"region\", \"region\", \"region\", \"region\", \"region\", \"region\", \"region\", \"region\", \"region\", \"region\", \"regional\", \"regional\", \"regional\", \"regional\", \"regional\", \"regional\", \"regional\", \"regional\", \"regional\", \"regional\", \"regional\", \"regional\", \"rehabilitation\", \"rehabilitation\", \"relocatable\", \"relocatable\", \"remote\", \"remote\", \"renegotiate\", \"renegotiate\", \"renegotiate\", \"rent\", \"rent\", \"rent\", \"rent\", \"rent\", \"reply\", \"reply\", \"reply\", \"reply\", \"report\", \"report\", \"report\", \"report\", \"report\", \"report\", \"report\", \"report\", \"report\", \"report\", \"reputational_damage\", \"require\", \"require\", \"require\", \"require\", \"require\", \"require\", \"require\", \"require\", \"require\", \"require\", \"require\", \"require\", \"resident\", \"resident\", \"resident\", \"resident\", \"resident\", \"resident\", \"resident\", \"respected\", \"respected\", \"retire\", \"retire\", \"revenue\", \"revenue\", \"revenue\", \"revenue\", \"revenue\", \"revenue\", \"revenue\", \"revenue\", \"revenue\", \"review\", \"review\", \"review\", \"review\", \"review\", \"review\", \"review\", \"review\", \"review\", \"review\", \"review\", \"right\", \"right\", \"right\", \"right\", \"right\", \"right\", \"right\", \"right\", \"right\", \"right\", \"right\", \"right\", \"risk\", \"risk\", \"risk\", \"risk\", \"risk\", \"risk\", \"risk\", \"risk\", \"risk\", \"risk\", \"risk_assessment\", \"risk_assessment\", \"risk_assessment\", \"role_model\", \"role_model\", \"role_model\", \"role_model\", \"rosemary_mckenna\", \"rosemary_mckenna\", \"rosemary_mckenna\", \"rosemary_mckenna\", \"rosemary_mckenna\", \"rower\", \"rower\", \"rower\", \"rumour\", \"rumour\", \"rumour\", \"runner\", \"runner\", \"salary\", \"salary\", \"salary\", \"sale\", \"sale\", \"sale\", \"sale\", \"sale\", \"sale\", \"sale\", \"sander\", \"sander\", \"sander\", \"satisfactory\", \"satisfactory\", \"school\", \"school\", \"school\", \"school\", \"school\", \"school\", \"school\", \"school\", \"school\", \"science\", \"science\", \"science\", \"science\", \"science\", \"science\", \"science\", \"scientist\", \"scientist\", \"screening\", \"seb\", \"secondee\", \"sector\", \"sector\", \"sector\", \"sector\", \"sector\", \"sector\", \"sector\", \"sector\", \"sector\", \"sector\", \"sector\", \"secure\", \"secure\", \"secure\", \"secure\", \"secure\", \"secure\", \"secure\", \"secure\", \"secure\", \"secure\", \"secure\", \"security\", \"security\", \"security\", \"security\", \"security\", \"security\", \"security\", \"security\", \"security_guard\", \"self_finance\", \"sell\", \"sell\", \"sell\", \"sell\", \"sell\", \"sell\", \"sell\", \"sell\", \"service\", \"service\", \"service\", \"service\", \"service\", \"service\", \"service\", \"service\", \"service\", \"service\", \"service\", \"service\", \"set\", \"set\", \"set\", \"set\", \"set\", \"set\", \"set\", \"set\", \"set\", \"set\", \"set\", \"set\", \"shall\", \"shall\", \"shall\", \"shall\", \"shall\", \"sheer\", \"sheer\", \"sheer\", \"shoot\", \"shoot\", \"shoot\", \"shoot\", \"shoot\", \"shoot\", \"shooting\", \"shooting\", \"shooting\", \"shooting\", \"shooting\", \"shooting\", \"significance\", \"significance\", \"significance\", \"significant\", \"significant\", \"significant\", \"significant\", \"significant\", \"significant\", \"significant\", \"significant\", \"significant\", \"significant\", \"significant\", \"significant\", \"silver\", \"silver\", \"silver\", \"silver\", \"silver_medal\", \"silver_medal\", \"similarity\", \"similarity\", \"sink\", \"sink\", \"site\", \"site\", \"site\", \"site\", \"site\", \"site\", \"site\", \"site\", \"site\", \"site\", \"site\", \"site\", \"sixth\", \"sixth\", \"sixth\", \"skill\", \"skill\", \"skill\", \"skill\", \"skill\", \"skill\", \"skill\", \"skill\", \"skill\", \"skill\", \"skill\", \"skill\", \"social\", \"social\", \"social\", \"social\", \"social\", \"social\", \"social\", \"social\", \"social\", \"social\", \"social_cohesion\", \"socially_excluded\", \"softball\", \"softball\", \"soldier\", \"soldier\", \"sort\", \"sort\", \"sort\", \"sort\", \"sort\", \"sort\", \"sort\", \"source_national_audit\", \"source_national_audit\", \"south_wale\", \"south_wale\", \"southern\", \"southern\", \"southern\", \"southern\", \"specialist\", \"specialist\", \"specialist\", \"specialist\", \"specialist\", \"specialist\", \"specialist\", \"specification\", \"specification\", \"specification\", \"specification\", \"specification\", \"spend\", \"spend\", \"spend\", \"spend\", \"spend\", \"spend\", \"spend\", \"spend\", \"spend\", \"spend\", \"spend\", \"sporting_giant\", \"sporting_giant\", \"sporting_giant\", \"sporting_giant\", \"sporting_giants_campaign\", \"sporting_giants_campaign\", \"stadia\", \"stadia\", \"stadia\", \"stadia\", \"stadia\", \"stadium\", \"stadium\", \"stadium\", \"stadium\", \"stadium\", \"stadium\", \"stadium\", \"stadium\", \"stadium\", \"stadium\", \"stadium\", \"staff\", \"staff\", \"staff\", \"staff\", \"staff\", \"staff\", \"staff\", \"staff\", \"staff\", \"staff\", \"staff\", \"stage\", \"stage\", \"stage\", \"stage\", \"stage\", \"stage\", \"stage\", \"stage\", \"stage\", \"stage\", \"stage\", \"stage\", \"stance\", \"start\", \"start\", \"start\", \"start\", \"start\", \"start\", \"start\", \"start\", \"start\", \"start\", \"start\", \"start\", \"stationery_office_limite\", \"stationery_office_limite\", \"stead\", \"stead\", \"steady\", \"steady\", \"stimulate\", \"stimulate\", \"stimulus\", \"stone\", \"stone\", \"strategic\", \"strategic\", \"strategic\", \"strategic\", \"strategic\", \"strategic\", \"strategic\", \"strategic\", \"strategic\", \"strategy\", \"strategy\", \"strategy\", \"strategy\", \"strategy\", \"strategy\", \"strategy\", \"strategy\", \"strategy\", \"strategy\", \"strategy\", \"strategy\", \"studio\", \"studio\", \"studio\", \"studio\", \"success\", \"success\", \"success\", \"success\", \"success\", \"success\", \"success\", \"success\", \"success\", \"success\", \"success\", \"success\", \"sum\", \"sum\", \"sum\", \"sum\", \"sum\", \"sum\", \"sum\", \"sum\", \"sum\", \"supplier\", \"supplier\", \"supplier\", \"supplier\", \"supplier\", \"supplier\", \"support\", \"support\", \"support\", \"support\", \"support\", \"support\", \"support\", \"support\", \"support\", \"support\", \"support\", \"support\", \"sure\", \"sure\", \"sure\", \"sure\", \"sure\", \"sure\", \"sure\", \"sure\", \"sustainable\", \"sustainable\", \"sustainable\", \"sustainable\", \"sustainable\", \"sustainable\", \"sustainable\", \"sustainable\", \"sustainable\", \"sustainable\", \"swim\", \"swim\", \"swim\", \"swim\", \"swim\", \"swim\", \"swim\", \"swimmer\", \"swimmer\", \"swimmer\", \"swimmer\", \"swimmer\", \"swimming\", \"swimming\", \"swimming\", \"swimming\", \"swimming\", \"swimming\", \"swimming\", \"swimming\", \"swimming_pool\", \"swimming_pool\", \"swimming_pool\", \"swimming_pool\", \"swimming_pool\", \"swimming_pool\", \"swimming_pool\", \"sydney\", \"sydney\", \"synchronised_swimming\", \"synchronised_swimming\", \"synchronised_swimming\", \"synchronised_swimming\", \"table\", \"table\", \"table\", \"table\", \"table\", \"table\", \"table\", \"table\", \"table\", \"talent\", \"talent\", \"talent\", \"talent\", \"talent\", \"talent\", \"talent\", \"talent\", \"talent\", \"talent_identification\", \"talent_identification\", \"talent_identification\", \"talent_identification\", \"talk\", \"talk\", \"talk\", \"talk\", \"talk\", \"talk\", \"talk\", \"target\", \"target\", \"target\", \"target\", \"target\", \"target\", \"target\", \"target\", \"target\", \"target\", \"target\", \"tax\", \"tax\", \"tax\", \"tax\", \"tax\", \"tax\", \"tax\", \"tax\", \"teaching\", \"teaching\", \"team\", \"team\", \"team\", \"team\", \"team\", \"team\", \"team\", \"team\", \"team\", \"team\", \"team\", \"team\", \"tech\", \"tech\", \"technological\", \"technological\", \"telegraph\", \"telegraph\", \"tell\", \"tell\", \"tell\", \"tell\", \"tell\", \"tell\", \"tell\", \"tell\", \"term\", \"term\", \"term\", \"term\", \"term\", \"term\", \"term\", \"term\", \"term\", \"term\", \"term\", \"term\", \"terminate\", \"testimony\", \"testimony\", \"testimony\", \"thame\", \"thame\", \"thame\", \"thorough\", \"thorough\", \"thorough\", \"thorough\", \"thorough\", \"thrilled\", \"thrilled\", \"throughput\", \"throughput\", \"throughput\", \"tick\", \"tick\", \"tick\", \"ticket\", \"ticket\", \"ticket\", \"ticket\", \"ticket\", \"ticket\", \"ticket\", \"ticket\", \"tier\", \"tier\", \"tier\", \"tier\", \"tier\", \"tier\", \"tier\", \"torch\", \"torch\", \"tourism\", \"tourism\", \"tourism\", \"tourism\", \"tourism\", \"tourism\", \"tourism\", \"tourism\", \"tout\", \"tout\", \"traffic\", \"traffic\", \"traffic\", \"traffic\", \"traffic\", \"traffic\", \"training\", \"training\", \"training\", \"training\", \"training\", \"training\", \"training\", \"training\", \"training\", \"training\", \"training\", \"transcript\", \"transcript\", \"transcript\", \"transformation\", \"transformation\", \"transformation\", \"transformation\", \"transformation\", \"transformation\", \"transformation\", \"transport\", \"transport\", \"transport\", \"transport\", \"transport\", \"transport\", \"transport\", \"transport\", \"transport\", \"transport\", \"transport\", \"tune\", \"tune\", \"ultimate_guarantor\", \"uncertainty\", \"uncertainty\", \"uncertainty\", \"uncertainty\", \"underwriting\", \"unequivocal\", \"unequivocal\", \"union\", \"union\", \"unite\", \"velopark\", \"velopark\", \"velopark\", \"velopark\", \"velopark\", \"velopark\", \"venue\", \"venue\", \"venue\", \"venue\", \"venue\", \"venue\", \"venue\", \"venue\", \"venue\", \"venue\", \"venue\", \"venue\", \"verify\", \"verify\", \"verify\", \"vice\", \"vice\", \"vice\", \"vice\", \"vice\", \"view\", \"view\", \"view\", \"view\", \"view\", \"view\", \"view\", \"view\", \"view\", \"view\", \"view\", \"view\", \"village\", \"village\", \"village\", \"village\", \"village\", \"village\", \"village\", \"village\", \"village\", \"visa\", \"visa\", \"visa\", \"visit\", \"visit\", \"visit\", \"visit\", \"visit\", \"visit\", \"visit\", \"visit\", \"visit\", \"visit\", \"visitbritain\", \"visitbritain\", \"visitbritain\", \"visitor\", \"visitor\", \"visitor\", \"visitor\", \"visitor\", \"visitor\", \"visitor\", \"vocational\", \"volleyball\", \"volleyball\", \"volleyball\", \"volleyball\", \"voluntary\", \"voluntary\", \"voluntary\", \"voluntary\", \"voluntary\", \"voluntary\", \"voluntary\", \"voluntary\", \"wage\", \"wage\", \"warn\", \"warn\", \"waterway\", \"waterway\", \"waterway\", \"waterway\", \"wembley\", \"wembley\", \"west\", \"west\", \"westfield\", \"westfield\", \"westfield\", \"white\", \"white\", \"wholehearte\", \"wholehearte\", \"wholehearte\", \"win\", \"win\", \"win\", \"win\", \"win\", \"win\", \"win\", \"win\", \"win\", \"win\", \"win\", \"win\", \"witnesses_questions_tuesday_january\", \"witnesses_questions_tuesday_january\", \"witnesses_questions_wednesday_january\", \"witnesses_questions_wednesday_january\", \"woman\", \"woman\", \"woman\", \"woman\", \"woman\", \"woman\", \"woman\", \"woman\", \"wonderful\", \"wonderful\", \"wonderful\", \"wonderful\", \"wonderful\", \"word\", \"word\", \"word\", \"word\", \"word\", \"word\", \"word\", \"word\", \"worklessness\", \"worklessness\", \"worklessness\", \"world\", \"world\", \"world\", \"world\", \"world\", \"world\", \"world\", \"world\", \"world\", \"world\", \"world\", \"world\", \"world_class\", \"world_class\", \"world_class\", \"world_class\", \"world_class\", \"world_class\", \"world_class\", \"written_evidence_submitte\", \"written_evidence_submitte\", \"written_evidence_submitte\", \"written_evidence_submitte\", \"years_ago\", \"years_ago\", \"years_ago\", \"years_ago\", \"years_ago\", \"young\", \"young\", \"young\", \"young\", \"young\", \"young\", \"young\", \"young\", \"young\", \"young\", \"young\", \"youngster\", \"youngster\", \"youngster\", \"\\ufb01gure\", \"\\ufb01gure\", \"\\ufb01gure\", \"\\ufb01gure\", \"\\ufb01gure\", \"\\ufb01gure\", \"\\ufb01nal\", \"\\ufb01nal\", \"\\ufb01nal\", \"\\ufb01nal\", \"\\ufb01nal\", \"\\ufb01nal\"]}, \"R\": 30, \"lambda.step\": 0.01, \"plot.opts\": {\"xlab\": \"PC1\", \"ylab\": \"PC2\"}, \"topic.order\": [1, 2, 3, 4, 5, 6, 7, 8, 9, 10, 11, 12]};\n",
       "\n",
       "function LDAvis_load_lib(url, callback){\n",
       "  var s = document.createElement('script');\n",
       "  s.src = url;\n",
       "  s.async = true;\n",
       "  s.onreadystatechange = s.onload = callback;\n",
       "  s.onerror = function(){console.warn(\"failed to load library \" + url);};\n",
       "  document.getElementsByTagName(\"head\")[0].appendChild(s);\n",
       "}\n",
       "\n",
       "if(typeof(LDAvis) !== \"undefined\"){\n",
       "   // already loaded: just create the visualization\n",
       "   !function(LDAvis){\n",
       "       new LDAvis(\"#\" + \"ldavis_el4286019870566627849838980961\", ldavis_el4286019870566627849838980961_data);\n",
       "   }(LDAvis);\n",
       "}else if(typeof define === \"function\" && define.amd){\n",
       "   // require.js is available: use it to load d3/LDAvis\n",
       "   require.config({paths: {d3: \"https://d3js.org/d3.v5\"}});\n",
       "   require([\"d3\"], function(d3){\n",
       "      window.d3 = d3;\n",
       "      LDAvis_load_lib(\"https://cdn.jsdelivr.net/gh/bmabey/pyLDAvis@3.3.1/pyLDAvis/js/ldavis.v3.0.0.js\", function(){\n",
       "        new LDAvis(\"#\" + \"ldavis_el4286019870566627849838980961\", ldavis_el4286019870566627849838980961_data);\n",
       "      });\n",
       "    });\n",
       "}else{\n",
       "    // require.js not available: dynamically load d3 & LDAvis\n",
       "    LDAvis_load_lib(\"https://d3js.org/d3.v5.js\", function(){\n",
       "         LDAvis_load_lib(\"https://cdn.jsdelivr.net/gh/bmabey/pyLDAvis@3.3.1/pyLDAvis/js/ldavis.v3.0.0.js\", function(){\n",
       "                 new LDAvis(\"#\" + \"ldavis_el4286019870566627849838980961\", ldavis_el4286019870566627849838980961_data);\n",
       "            })\n",
       "         });\n",
       "}\n",
       "</script>"
      ],
      "text/plain": [
       "PreparedData(topic_coordinates=              x         y  topics  cluster       Freq\n",
       "topic                                                \n",
       "0     -0.205297 -0.004591       1        1   3.261751\n",
       "1     -0.144654 -0.106280       2        1   3.445377\n",
       "2      0.077180  0.157911       3        1  14.259294\n",
       "3     -0.113482  0.139538       4        1   4.024945\n",
       "4      0.076560 -0.114845       5        1  11.232911\n",
       "5      0.111266 -0.090667       6        1   6.553364\n",
       "6     -0.056273  0.029657       7        1   3.528206\n",
       "7      0.151976  0.010355       8        1   6.876993\n",
       "8      0.134668  0.015168       9        1   3.162847\n",
       "9      0.048894  0.030286      10        1  11.586715\n",
       "10    -0.043449 -0.048863      11        1   9.570317\n",
       "11    -0.037390 -0.017669      12        1  22.497280, topic_info=             Term         Freq        Total Category  logprob  loglift\n",
       "624          cost  3054.000000  3054.000000  Default  30.0000  30.0000\n",
       "57            bid  1476.000000  1476.000000  Default  29.0000  29.0000\n",
       "41        athlete  1420.000000  1420.000000  Default  28.0000  28.0000\n",
       "1052  performance   923.000000   923.000000  Default  27.0000  27.0000\n",
       "823       funding  2144.000000  2144.000000  Default  26.0000  26.0000\n",
       "...           ...          ...          ...      ...      ...      ...\n",
       "561         venue   335.035693  1647.263588  Topic12  -5.3374  -0.1009\n",
       "688           key   255.398858   738.159547  Topic12  -5.6088   0.4304\n",
       "380         place   272.629271  1208.878106  Topic12  -5.5435   0.0024\n",
       "624          cost   284.905539  3054.854739  Topic12  -5.4995  -0.8806\n",
       "403       project   267.535431  1650.454485  Topic12  -5.5624  -0.3278\n",
       "\n",
       "[923 rows x 6 columns], token_table=      Topic      Freq  Term\n",
       "term                       \n",
       "1         1  0.013957  able\n",
       "1         2  0.011963  able\n",
       "1         3  0.037884  able\n",
       "1         4  0.011963  able\n",
       "1         5  0.330984  able\n",
       "...     ...       ...   ...\n",
       "3312      5  0.086296  ﬁnal\n",
       "3312      6  0.134238  ﬁnal\n",
       "3312     10  0.479422  ﬁnal\n",
       "3312     11  0.172592  ﬁnal\n",
       "3312     12  0.124650  ﬁnal\n",
       "\n",
       "[3793 rows x 3 columns], R=30, lambda_step=0.01, plot_opts={'xlab': 'PC1', 'ylab': 'PC2'}, topic_order=[1, 2, 3, 4, 5, 6, 7, 8, 9, 10, 11, 12])"
      ]
     },
     "execution_count": 130,
     "metadata": {},
     "output_type": "execute_result"
    }
   ],
   "source": [
    "pyLDAvis.enable_notebook()\n",
    "vis = pyLDAvis.gensim_models.prepare(lda_model, corpus, id2word, sort_topics = False )\n",
    "vis"
   ]
  },
  {
   "cell_type": "markdown",
   "metadata": {},
   "source": [
    "## 5.3. prototypical paragraphs\n",
    "The prototypical paragraphs, the paragraphs with a high probabitiy that they belong to a topic, can be used to assist topic interpretation. This section classify the paragraphs into topics and provides the users 4 types of filters to select the prototypical paragraphs: N most prototypical paragraphs overall, N most prototypical paragraphs where the belong() function is greater than the threshold L, N most prototypical paragraphs of each topic and N most prototypical paragraphs of a specific topic."
   ]
  },
  {
   "cell_type": "markdown",
   "metadata": {},
   "source": [
    "### 5.3.1.  Classify the paragraphs based on the trained model"
   ]
  },
  {
   "cell_type": "markdown",
   "metadata": {},
   "source": [
    "##### Extract paragraphs from documents"
   ]
  },
  {
   "cell_type": "code",
   "execution_count": 131,
   "metadata": {},
   "outputs": [],
   "source": [
    "# define the function for spliting texts into paragraphs by delimiter '.\\n\\n' or '. \\n\\n'\n",
    "def para_split(i):\n",
    "    j = parser.from_file(i)\n",
    "    m = j['content']\n",
    "    import re\n",
    "    return re.split('[?.!-]\\n|[?.!-] \\n|  \\n\\n|\\n\\n[0-9]', m)"
   ]
  },
  {
   "cell_type": "code",
   "execution_count": 132,
   "metadata": {},
   "outputs": [],
   "source": [
    "list_paragraphs = []\n",
    "list_para_id = []\n",
    "for i in pdf_files:\n",
    "    para = para_split(i)\n",
    "    para = [w.replace('\\n', '') for w in para]\n",
    "    para = [x.strip() for x in para if x.strip()] # remove empty elements\n",
    "    para_id = [x for x in range(len(para))] \n",
    "    list_paragraphs.append(para)\n",
    "    list_para_id.append(para_id)"
   ]
  },
  {
   "cell_type": "code",
   "execution_count": 133,
   "metadata": {
    "scrolled": true
   },
   "outputs": [
    {
     "data": {
      "text/plain": [
       "21640"
      ]
     },
     "execution_count": 133,
     "metadata": {},
     "output_type": "execute_result"
    }
   ],
   "source": [
    "df_para1 = df.copy()\n",
    "df_para1['paragraphs'] = list_paragraphs\n",
    "df_para1['para_id'] = list_para_id\n",
    "df_para2 = df_para1.apply(pd.Series.explode)\n",
    "df_para3 = df_para2.reset_index()\n",
    "df_para4 = df_para3[['creationDate', 'document_id', 'file_name', 'para_id', 'paragraphs']]\n",
    "len(df_para4) # number of paragraphs extracted"
   ]
  },
  {
   "cell_type": "code",
   "execution_count": 134,
   "metadata": {},
   "outputs": [
    {
     "data": {
      "text/html": [
       "<div>\n",
       "<style scoped>\n",
       "    .dataframe tbody tr th:only-of-type {\n",
       "        vertical-align: middle;\n",
       "    }\n",
       "\n",
       "    .dataframe tbody tr th {\n",
       "        vertical-align: top;\n",
       "    }\n",
       "\n",
       "    .dataframe thead th {\n",
       "        text-align: right;\n",
       "    }\n",
       "</style>\n",
       "<table border=\"1\" class=\"dataframe\">\n",
       "  <thead>\n",
       "    <tr style=\"text-align: right;\">\n",
       "      <th></th>\n",
       "      <th>index</th>\n",
       "      <th>creationDate</th>\n",
       "      <th>document_id</th>\n",
       "      <th>file_name</th>\n",
       "      <th>para_id</th>\n",
       "      <th>paragraphs</th>\n",
       "    </tr>\n",
       "  </thead>\n",
       "  <tbody>\n",
       "    <tr>\n",
       "      <th>0</th>\n",
       "      <td>2</td>\n",
       "      <td>D:20210822083603+00'00'</td>\n",
       "      <td>0</td>\n",
       "      <td>Examination_of_Witnesses_Sept_2003_-_Q1-19.pdf</td>\n",
       "      <td>2</td>\n",
       "      <td>MS BARBARA CASSANI Q1 Chairman: Good morning, ...</td>\n",
       "    </tr>\n",
       "    <tr>\n",
       "      <th>1</th>\n",
       "      <td>3</td>\n",
       "      <td>D:20210822083603+00'00'</td>\n",
       "      <td>0</td>\n",
       "      <td>Examination_of_Witnesses_Sept_2003_-_Q1-19.pdf</td>\n",
       "      <td>3</td>\n",
       "      <td>Ms Cassani: Thank you very much. Thank you ver...</td>\n",
       "    </tr>\n",
       "    <tr>\n",
       "      <th>2</th>\n",
       "      <td>4</td>\n",
       "      <td>D:20210822083603+00'00'</td>\n",
       "      <td>0</td>\n",
       "      <td>Examination_of_Witnesses_Sept_2003_-_Q1-19.pdf</td>\n",
       "      <td>4</td>\n",
       "      <td>8 months I shall be able to meet frequently wi...</td>\n",
       "    </tr>\n",
       "    <tr>\n",
       "      <th>3</th>\n",
       "      <td>5</td>\n",
       "      <td>D:20210822083603+00'00'</td>\n",
       "      <td>0</td>\n",
       "      <td>Examination_of_Witnesses_Sept_2003_-_Q1-19.pdf</td>\n",
       "      <td>5</td>\n",
       "      <td>The first thing I should like to say is that I...</td>\n",
       "    </tr>\n",
       "    <tr>\n",
       "      <th>4</th>\n",
       "      <td>6</td>\n",
       "      <td>D:20210822083603+00'00'</td>\n",
       "      <td>0</td>\n",
       "      <td>Examination_of_Witnesses_Sept_2003_-_Q1-19.pdf</td>\n",
       "      <td>6</td>\n",
       "      <td>Really the backdrop is that I believe in the G...</td>\n",
       "    </tr>\n",
       "    <tr>\n",
       "      <th>...</th>\n",
       "      <td>...</td>\n",
       "      <td>...</td>\n",
       "      <td>...</td>\n",
       "      <td>...</td>\n",
       "      <td>...</td>\n",
       "      <td>...</td>\n",
       "    </tr>\n",
       "    <tr>\n",
       "      <th>17709</th>\n",
       "      <td>21631</td>\n",
       "      <td>D:20210822084546+00'00'</td>\n",
       "      <td>168</td>\n",
       "      <td>Written_evidence_submitted_by_Youth_Sport_Trus...</td>\n",
       "      <td>37</td>\n",
       "      <td>7.3  When the impact of Olympics and Paralympi...</td>\n",
       "    </tr>\n",
       "    <tr>\n",
       "      <th>17710</th>\n",
       "      <td>21633</td>\n",
       "      <td>D:20210822084546+00'00'</td>\n",
       "      <td>168</td>\n",
       "      <td>Written_evidence_submitted_by_Youth_Sport_Trus...</td>\n",
       "      <td>39</td>\n",
       "      <td>11   2007-08 School Sport Survey.     12   As ...</td>\n",
       "    </tr>\n",
       "    <tr>\n",
       "      <th>17711</th>\n",
       "      <td>21634</td>\n",
       "      <td>D:20210822084546+00'00'</td>\n",
       "      <td>168</td>\n",
       "      <td>Written_evidence_submitted_by_Youth_Sport_Trus...</td>\n",
       "      <td>40</td>\n",
       "      <td>13   Gold Young Ambassadors work across School...</td>\n",
       "    </tr>\n",
       "    <tr>\n",
       "      <th>17712</th>\n",
       "      <td>21635</td>\n",
       "      <td>D:20210822084546+00'00'</td>\n",
       "      <td>168</td>\n",
       "      <td>Written_evidence_submitted_by_Youth_Sport_Trus...</td>\n",
       "      <td>41</td>\n",
       "      <td>14   From national data supplied by Department...</td>\n",
       "    </tr>\n",
       "    <tr>\n",
       "      <th>17713</th>\n",
       "      <td>21637</td>\n",
       "      <td>D:20210822084546+00'00'</td>\n",
       "      <td>168</td>\n",
       "      <td>Written_evidence_submitted_by_Youth_Sport_Trus...</td>\n",
       "      <td>43</td>\n",
       "      <td>5   The impact of School Sport Partnerships on...</td>\n",
       "    </tr>\n",
       "  </tbody>\n",
       "</table>\n",
       "<p>17714 rows × 6 columns</p>\n",
       "</div>"
      ],
      "text/plain": [
       "       index             creationDate  document_id  \\\n",
       "0          2  D:20210822083603+00'00'            0   \n",
       "1          3  D:20210822083603+00'00'            0   \n",
       "2          4  D:20210822083603+00'00'            0   \n",
       "3          5  D:20210822083603+00'00'            0   \n",
       "4          6  D:20210822083603+00'00'            0   \n",
       "...      ...                      ...          ...   \n",
       "17709  21631  D:20210822084546+00'00'          168   \n",
       "17710  21633  D:20210822084546+00'00'          168   \n",
       "17711  21634  D:20210822084546+00'00'          168   \n",
       "17712  21635  D:20210822084546+00'00'          168   \n",
       "17713  21637  D:20210822084546+00'00'          168   \n",
       "\n",
       "                                               file_name para_id  \\\n",
       "0         Examination_of_Witnesses_Sept_2003_-_Q1-19.pdf       2   \n",
       "1         Examination_of_Witnesses_Sept_2003_-_Q1-19.pdf       3   \n",
       "2         Examination_of_Witnesses_Sept_2003_-_Q1-19.pdf       4   \n",
       "3         Examination_of_Witnesses_Sept_2003_-_Q1-19.pdf       5   \n",
       "4         Examination_of_Witnesses_Sept_2003_-_Q1-19.pdf       6   \n",
       "...                                                  ...     ...   \n",
       "17709  Written_evidence_submitted_by_Youth_Sport_Trus...      37   \n",
       "17710  Written_evidence_submitted_by_Youth_Sport_Trus...      39   \n",
       "17711  Written_evidence_submitted_by_Youth_Sport_Trus...      40   \n",
       "17712  Written_evidence_submitted_by_Youth_Sport_Trus...      41   \n",
       "17713  Written_evidence_submitted_by_Youth_Sport_Trus...      43   \n",
       "\n",
       "                                              paragraphs  \n",
       "0      MS BARBARA CASSANI Q1 Chairman: Good morning, ...  \n",
       "1      Ms Cassani: Thank you very much. Thank you ver...  \n",
       "2      8 months I shall be able to meet frequently wi...  \n",
       "3      The first thing I should like to say is that I...  \n",
       "4      Really the backdrop is that I believe in the G...  \n",
       "...                                                  ...  \n",
       "17709  7.3  When the impact of Olympics and Paralympi...  \n",
       "17710  11   2007-08 School Sport Survey.     12   As ...  \n",
       "17711  13   Gold Young Ambassadors work across School...  \n",
       "17712  14   From national data supplied by Department...  \n",
       "17713  5   The impact of School Sport Partnerships on...  \n",
       "\n",
       "[17714 rows x 6 columns]"
      ]
     },
     "execution_count": 134,
     "metadata": {},
     "output_type": "execute_result"
    }
   ],
   "source": [
    "# set a filter to filter out the paragraphs with short words\n",
    "n_word_count = 10                                                        # set the threshold of word count\n",
    "para_word_count = df_para4['paragraphs'].str.split().str.len()           # word count of each paragraph\n",
    "df_para = df_para4[(para_word_count>=n_word_count)].reset_index()        # select the paragraphs with word count not less than the threshold\n",
    "df_para"
   ]
  },
  {
   "cell_type": "markdown",
   "metadata": {},
   "source": [
    "##### Process the paragraphs"
   ]
  },
  {
   "cell_type": "code",
   "execution_count": 135,
   "metadata": {},
   "outputs": [],
   "source": [
    "# tokenization\n",
    "data2 = df_para.paragraphs.values.tolist()\n",
    "data_words2 = list(sent_to_words(data2))"
   ]
  },
  {
   "cell_type": "code",
   "execution_count": 136,
   "metadata": {},
   "outputs": [],
   "source": [
    "# Form Trigrams\n",
    "data_words_trigrams2 = make_trigrams(data_words2)\n",
    "\n",
    "# Do lemmatization keeping only noun, adj, vb\n",
    "data_lemmatized2 = lemmatization(data_words_trigrams2, allowed_postags=['NOUN', 'ADJ', 'VERB'])\n",
    "\n",
    "# set the length of word threshold as same as before for removing the words less than the threshold\n",
    "data_lemmatized2_2 = []\n",
    "for i in data_lemmatized2:\n",
    "    new_element = [x for x in i if len(x) >= minimum_len]\n",
    "    data_lemmatized2_2.append(new_element)\n",
    "    \n",
    "# Remove Stop Words\n",
    "data_lemmatized2_1 = remove_stop_words(data_lemmatized2_2)"
   ]
  },
  {
   "cell_type": "markdown",
   "metadata": {},
   "source": [
    "##### Classify the paragraphs based on the extracted topics"
   ]
  },
  {
   "cell_type": "code",
   "execution_count": 137,
   "metadata": {},
   "outputs": [],
   "source": [
    "# belong function: classify topics of paragraphs, it might take a long time because there are 148,651 paragraphs in the 11,132,849-word corpus\n",
    "list_topic_para = []\n",
    "dictionary_topic_para = {}\n",
    "for d in data_lemmatized2_1:\n",
    "    bow = id2word.doc2bow(d)\n",
    "    belong = lda_model[bow]\n",
    "    doc_dic = Convert(belong, dictionary_topic_para)\n",
    "    list_topic_para.append(doc_dic)\n",
    "    df_topic_para = pd.DataFrame(list_topic_para)"
   ]
  },
  {
   "cell_type": "code",
   "execution_count": 138,
   "metadata": {},
   "outputs": [
    {
     "data": {
      "text/html": [
       "<div>\n",
       "<style scoped>\n",
       "    .dataframe tbody tr th:only-of-type {\n",
       "        vertical-align: middle;\n",
       "    }\n",
       "\n",
       "    .dataframe tbody tr th {\n",
       "        vertical-align: top;\n",
       "    }\n",
       "\n",
       "    .dataframe thead th {\n",
       "        text-align: right;\n",
       "    }\n",
       "</style>\n",
       "<table border=\"1\" class=\"dataframe\">\n",
       "  <thead>\n",
       "    <tr style=\"text-align: right;\">\n",
       "      <th></th>\n",
       "      <th>index</th>\n",
       "      <th>creationDate</th>\n",
       "      <th>document_id</th>\n",
       "      <th>file_name</th>\n",
       "      <th>para_id</th>\n",
       "      <th>paragraphs</th>\n",
       "      <th>1</th>\n",
       "      <th>2</th>\n",
       "      <th>3</th>\n",
       "      <th>4</th>\n",
       "      <th>5</th>\n",
       "      <th>6</th>\n",
       "      <th>7</th>\n",
       "      <th>8</th>\n",
       "      <th>9</th>\n",
       "      <th>10</th>\n",
       "      <th>11</th>\n",
       "      <th>12</th>\n",
       "    </tr>\n",
       "  </thead>\n",
       "  <tbody>\n",
       "    <tr>\n",
       "      <th>0</th>\n",
       "      <td>2</td>\n",
       "      <td>D:20210822083603+00'00'</td>\n",
       "      <td>0</td>\n",
       "      <td>Examination_of_Witnesses_Sept_2003_-_Q1-19.pdf</td>\n",
       "      <td>2</td>\n",
       "      <td>MS BARBARA CASSANI Q1 Chairman: Good morning, ...</td>\n",
       "      <td>0.049290</td>\n",
       "      <td>0.057799</td>\n",
       "      <td>0.052240</td>\n",
       "      <td>0.051225</td>\n",
       "      <td>0.120243</td>\n",
       "      <td>0.235192</td>\n",
       "      <td>0.046411</td>\n",
       "      <td>0.101134</td>\n",
       "      <td>0.070472</td>\n",
       "      <td>0.065950</td>\n",
       "      <td>0.087475</td>\n",
       "      <td>0.062570</td>\n",
       "    </tr>\n",
       "    <tr>\n",
       "      <th>1</th>\n",
       "      <td>3</td>\n",
       "      <td>D:20210822083603+00'00'</td>\n",
       "      <td>0</td>\n",
       "      <td>Examination_of_Witnesses_Sept_2003_-_Q1-19.pdf</td>\n",
       "      <td>3</td>\n",
       "      <td>Ms Cassani: Thank you very much. Thank you ver...</td>\n",
       "      <td>0.066549</td>\n",
       "      <td>0.067266</td>\n",
       "      <td>0.067827</td>\n",
       "      <td>0.063631</td>\n",
       "      <td>0.136346</td>\n",
       "      <td>0.118108</td>\n",
       "      <td>0.067207</td>\n",
       "      <td>0.091102</td>\n",
       "      <td>0.075200</td>\n",
       "      <td>0.069947</td>\n",
       "      <td>0.103458</td>\n",
       "      <td>0.073359</td>\n",
       "    </tr>\n",
       "    <tr>\n",
       "      <th>2</th>\n",
       "      <td>4</td>\n",
       "      <td>D:20210822083603+00'00'</td>\n",
       "      <td>0</td>\n",
       "      <td>Examination_of_Witnesses_Sept_2003_-_Q1-19.pdf</td>\n",
       "      <td>4</td>\n",
       "      <td>8 months I shall be able to meet frequently wi...</td>\n",
       "      <td>0.079225</td>\n",
       "      <td>0.071757</td>\n",
       "      <td>0.095059</td>\n",
       "      <td>0.077315</td>\n",
       "      <td>0.112131</td>\n",
       "      <td>0.091406</td>\n",
       "      <td>0.072867</td>\n",
       "      <td>0.082869</td>\n",
       "      <td>0.075167</td>\n",
       "      <td>0.080996</td>\n",
       "      <td>0.080382</td>\n",
       "      <td>0.080826</td>\n",
       "    </tr>\n",
       "    <tr>\n",
       "      <th>3</th>\n",
       "      <td>5</td>\n",
       "      <td>D:20210822083603+00'00'</td>\n",
       "      <td>0</td>\n",
       "      <td>Examination_of_Witnesses_Sept_2003_-_Q1-19.pdf</td>\n",
       "      <td>5</td>\n",
       "      <td>The first thing I should like to say is that I...</td>\n",
       "      <td>0.041947</td>\n",
       "      <td>0.096321</td>\n",
       "      <td>0.029758</td>\n",
       "      <td>0.026998</td>\n",
       "      <td>0.077918</td>\n",
       "      <td>0.475506</td>\n",
       "      <td>0.041892</td>\n",
       "      <td>0.046509</td>\n",
       "      <td>0.029957</td>\n",
       "      <td>0.034317</td>\n",
       "      <td>0.053890</td>\n",
       "      <td>0.044986</td>\n",
       "    </tr>\n",
       "    <tr>\n",
       "      <th>4</th>\n",
       "      <td>6</td>\n",
       "      <td>D:20210822083603+00'00'</td>\n",
       "      <td>0</td>\n",
       "      <td>Examination_of_Witnesses_Sept_2003_-_Q1-19.pdf</td>\n",
       "      <td>6</td>\n",
       "      <td>Really the backdrop is that I believe in the G...</td>\n",
       "      <td>0.065745</td>\n",
       "      <td>0.076654</td>\n",
       "      <td>0.052975</td>\n",
       "      <td>0.096067</td>\n",
       "      <td>0.063671</td>\n",
       "      <td>0.196147</td>\n",
       "      <td>0.058440</td>\n",
       "      <td>0.064122</td>\n",
       "      <td>0.090837</td>\n",
       "      <td>0.062271</td>\n",
       "      <td>0.075833</td>\n",
       "      <td>0.097238</td>\n",
       "    </tr>\n",
       "    <tr>\n",
       "      <th>...</th>\n",
       "      <td>...</td>\n",
       "      <td>...</td>\n",
       "      <td>...</td>\n",
       "      <td>...</td>\n",
       "      <td>...</td>\n",
       "      <td>...</td>\n",
       "      <td>...</td>\n",
       "      <td>...</td>\n",
       "      <td>...</td>\n",
       "      <td>...</td>\n",
       "      <td>...</td>\n",
       "      <td>...</td>\n",
       "      <td>...</td>\n",
       "      <td>...</td>\n",
       "      <td>...</td>\n",
       "      <td>...</td>\n",
       "      <td>...</td>\n",
       "      <td>...</td>\n",
       "    </tr>\n",
       "    <tr>\n",
       "      <th>17709</th>\n",
       "      <td>21631</td>\n",
       "      <td>D:20210822084546+00'00'</td>\n",
       "      <td>168</td>\n",
       "      <td>Written_evidence_submitted_by_Youth_Sport_Trus...</td>\n",
       "      <td>37</td>\n",
       "      <td>7.3  When the impact of Olympics and Paralympi...</td>\n",
       "      <td>0.090832</td>\n",
       "      <td>0.245551</td>\n",
       "      <td>0.062688</td>\n",
       "      <td>0.090365</td>\n",
       "      <td>0.052118</td>\n",
       "      <td>0.051488</td>\n",
       "      <td>0.066706</td>\n",
       "      <td>0.056014</td>\n",
       "      <td>0.055876</td>\n",
       "      <td>0.057229</td>\n",
       "      <td>0.061379</td>\n",
       "      <td>0.109755</td>\n",
       "    </tr>\n",
       "    <tr>\n",
       "      <th>17710</th>\n",
       "      <td>21633</td>\n",
       "      <td>D:20210822084546+00'00'</td>\n",
       "      <td>168</td>\n",
       "      <td>Written_evidence_submitted_by_Youth_Sport_Trus...</td>\n",
       "      <td>39</td>\n",
       "      <td>11   2007-08 School Sport Survey.     12   As ...</td>\n",
       "      <td>0.081229</td>\n",
       "      <td>0.163673</td>\n",
       "      <td>0.069663</td>\n",
       "      <td>0.078291</td>\n",
       "      <td>0.077352</td>\n",
       "      <td>0.073786</td>\n",
       "      <td>0.065894</td>\n",
       "      <td>0.063376</td>\n",
       "      <td>0.071884</td>\n",
       "      <td>0.077780</td>\n",
       "      <td>0.086246</td>\n",
       "      <td>0.090827</td>\n",
       "    </tr>\n",
       "    <tr>\n",
       "      <th>17711</th>\n",
       "      <td>21634</td>\n",
       "      <td>D:20210822084546+00'00'</td>\n",
       "      <td>168</td>\n",
       "      <td>Written_evidence_submitted_by_Youth_Sport_Trus...</td>\n",
       "      <td>40</td>\n",
       "      <td>13   Gold Young Ambassadors work across School...</td>\n",
       "      <td>0.119819</td>\n",
       "      <td>0.085556</td>\n",
       "      <td>0.067685</td>\n",
       "      <td>0.137824</td>\n",
       "      <td>0.071079</td>\n",
       "      <td>0.068831</td>\n",
       "      <td>0.074449</td>\n",
       "      <td>0.072185</td>\n",
       "      <td>0.066447</td>\n",
       "      <td>0.071587</td>\n",
       "      <td>0.087186</td>\n",
       "      <td>0.077353</td>\n",
       "    </tr>\n",
       "    <tr>\n",
       "      <th>17712</th>\n",
       "      <td>21635</td>\n",
       "      <td>D:20210822084546+00'00'</td>\n",
       "      <td>168</td>\n",
       "      <td>Written_evidence_submitted_by_Youth_Sport_Trus...</td>\n",
       "      <td>41</td>\n",
       "      <td>14   From national data supplied by Department...</td>\n",
       "      <td>0.111826</td>\n",
       "      <td>0.093539</td>\n",
       "      <td>0.086258</td>\n",
       "      <td>0.094410</td>\n",
       "      <td>0.080932</td>\n",
       "      <td>0.071638</td>\n",
       "      <td>0.075615</td>\n",
       "      <td>0.083544</td>\n",
       "      <td>0.069175</td>\n",
       "      <td>0.080237</td>\n",
       "      <td>0.073071</td>\n",
       "      <td>0.079757</td>\n",
       "    </tr>\n",
       "    <tr>\n",
       "      <th>17713</th>\n",
       "      <td>21637</td>\n",
       "      <td>D:20210822084546+00'00'</td>\n",
       "      <td>168</td>\n",
       "      <td>Written_evidence_submitted_by_Youth_Sport_Trus...</td>\n",
       "      <td>43</td>\n",
       "      <td>5   The impact of School Sport Partnerships on...</td>\n",
       "      <td>0.110494</td>\n",
       "      <td>0.156281</td>\n",
       "      <td>0.070524</td>\n",
       "      <td>0.075978</td>\n",
       "      <td>0.069929</td>\n",
       "      <td>0.067979</td>\n",
       "      <td>0.075248</td>\n",
       "      <td>0.073682</td>\n",
       "      <td>0.076749</td>\n",
       "      <td>0.070405</td>\n",
       "      <td>0.073719</td>\n",
       "      <td>0.079011</td>\n",
       "    </tr>\n",
       "  </tbody>\n",
       "</table>\n",
       "<p>17714 rows × 18 columns</p>\n",
       "</div>"
      ],
      "text/plain": [
       "       index             creationDate  document_id  \\\n",
       "0          2  D:20210822083603+00'00'            0   \n",
       "1          3  D:20210822083603+00'00'            0   \n",
       "2          4  D:20210822083603+00'00'            0   \n",
       "3          5  D:20210822083603+00'00'            0   \n",
       "4          6  D:20210822083603+00'00'            0   \n",
       "...      ...                      ...          ...   \n",
       "17709  21631  D:20210822084546+00'00'          168   \n",
       "17710  21633  D:20210822084546+00'00'          168   \n",
       "17711  21634  D:20210822084546+00'00'          168   \n",
       "17712  21635  D:20210822084546+00'00'          168   \n",
       "17713  21637  D:20210822084546+00'00'          168   \n",
       "\n",
       "                                               file_name para_id  \\\n",
       "0         Examination_of_Witnesses_Sept_2003_-_Q1-19.pdf       2   \n",
       "1         Examination_of_Witnesses_Sept_2003_-_Q1-19.pdf       3   \n",
       "2         Examination_of_Witnesses_Sept_2003_-_Q1-19.pdf       4   \n",
       "3         Examination_of_Witnesses_Sept_2003_-_Q1-19.pdf       5   \n",
       "4         Examination_of_Witnesses_Sept_2003_-_Q1-19.pdf       6   \n",
       "...                                                  ...     ...   \n",
       "17709  Written_evidence_submitted_by_Youth_Sport_Trus...      37   \n",
       "17710  Written_evidence_submitted_by_Youth_Sport_Trus...      39   \n",
       "17711  Written_evidence_submitted_by_Youth_Sport_Trus...      40   \n",
       "17712  Written_evidence_submitted_by_Youth_Sport_Trus...      41   \n",
       "17713  Written_evidence_submitted_by_Youth_Sport_Trus...      43   \n",
       "\n",
       "                                              paragraphs         1         2  \\\n",
       "0      MS BARBARA CASSANI Q1 Chairman: Good morning, ...  0.049290  0.057799   \n",
       "1      Ms Cassani: Thank you very much. Thank you ver...  0.066549  0.067266   \n",
       "2      8 months I shall be able to meet frequently wi...  0.079225  0.071757   \n",
       "3      The first thing I should like to say is that I...  0.041947  0.096321   \n",
       "4      Really the backdrop is that I believe in the G...  0.065745  0.076654   \n",
       "...                                                  ...       ...       ...   \n",
       "17709  7.3  When the impact of Olympics and Paralympi...  0.090832  0.245551   \n",
       "17710  11   2007-08 School Sport Survey.     12   As ...  0.081229  0.163673   \n",
       "17711  13   Gold Young Ambassadors work across School...  0.119819  0.085556   \n",
       "17712  14   From national data supplied by Department...  0.111826  0.093539   \n",
       "17713  5   The impact of School Sport Partnerships on...  0.110494  0.156281   \n",
       "\n",
       "              3         4         5         6         7         8         9  \\\n",
       "0      0.052240  0.051225  0.120243  0.235192  0.046411  0.101134  0.070472   \n",
       "1      0.067827  0.063631  0.136346  0.118108  0.067207  0.091102  0.075200   \n",
       "2      0.095059  0.077315  0.112131  0.091406  0.072867  0.082869  0.075167   \n",
       "3      0.029758  0.026998  0.077918  0.475506  0.041892  0.046509  0.029957   \n",
       "4      0.052975  0.096067  0.063671  0.196147  0.058440  0.064122  0.090837   \n",
       "...         ...       ...       ...       ...       ...       ...       ...   \n",
       "17709  0.062688  0.090365  0.052118  0.051488  0.066706  0.056014  0.055876   \n",
       "17710  0.069663  0.078291  0.077352  0.073786  0.065894  0.063376  0.071884   \n",
       "17711  0.067685  0.137824  0.071079  0.068831  0.074449  0.072185  0.066447   \n",
       "17712  0.086258  0.094410  0.080932  0.071638  0.075615  0.083544  0.069175   \n",
       "17713  0.070524  0.075978  0.069929  0.067979  0.075248  0.073682  0.076749   \n",
       "\n",
       "             10        11        12  \n",
       "0      0.065950  0.087475  0.062570  \n",
       "1      0.069947  0.103458  0.073359  \n",
       "2      0.080996  0.080382  0.080826  \n",
       "3      0.034317  0.053890  0.044986  \n",
       "4      0.062271  0.075833  0.097238  \n",
       "...         ...       ...       ...  \n",
       "17709  0.057229  0.061379  0.109755  \n",
       "17710  0.077780  0.086246  0.090827  \n",
       "17711  0.071587  0.087186  0.077353  \n",
       "17712  0.080237  0.073071  0.079757  \n",
       "17713  0.070405  0.073719  0.079011  \n",
       "\n",
       "[17714 rows x 18 columns]"
      ]
     },
     "execution_count": 138,
     "metadata": {},
     "output_type": "execute_result"
    }
   ],
   "source": [
    "# rename the topic IDs to ensure they are as same as the topic IDs in the pyLDAvis\n",
    "df_topic_para = df_topic_para.rename(columns = dict(zip(original_topic_id, new_topic_id)))\n",
    "\n",
    "# topic distribution of paragraphs\n",
    "df_topic_para1_1 = pd.merge(df_para, df_topic_para, how = 'left', left_index=True, right_index=True)\n",
    "df_topic_para1_1"
   ]
  },
  {
   "cell_type": "code",
   "execution_count": 139,
   "metadata": {},
   "outputs": [],
   "source": [
    "# save the result to disk\n",
    "df_topic_para1_1.to_pickle('./df_topic_para_Olympics.pkl')"
   ]
  },
  {
   "cell_type": "code",
   "execution_count": 140,
   "metadata": {},
   "outputs": [],
   "source": [
    "# load the result from disk\n",
    "df_topic_para1 = pd.read_pickle('./df_topic_para_Olympics.pkl') "
   ]
  },
  {
   "cell_type": "code",
   "execution_count": 141,
   "metadata": {},
   "outputs": [],
   "source": [
    "# drop the paragraphs with high frequency but meaningless for interperation based on the extraction of prototypical paragraphs below\n",
    "list_remove_para = [1519, 12966]                                # input the index you want to drop\n",
    "df_topic_para2 = df_topic_para1.copy().drop(list_remove_para)"
   ]
  },
  {
   "cell_type": "markdown",
   "metadata": {},
   "source": [
    "### 5.3.2. N most prototypical paragraphs overall"
   ]
  },
  {
   "cell_type": "code",
   "execution_count": 142,
   "metadata": {},
   "outputs": [],
   "source": [
    "df_topic_para2_n = df_topic_para2.copy()\n",
    "df_topic_para2_n['highest_p'] = df_topic_para2_n.iloc[:, 6:].max(axis = 1)          # get the highest probability among the topic distribution of each paragraph\n",
    "df_topic_para2_n['salient_topic'] = df_topic_para2_n.iloc[:, 6:].idxmax(axis = 1)    # get the corresponding topic id\n",
    "df_topic_para2_n = df_topic_para2_n[['paragraphs', 'salient_topic', 'highest_p']]"
   ]
  },
  {
   "cell_type": "code",
   "execution_count": 143,
   "metadata": {},
   "outputs": [
    {
     "data": {
      "text/html": [
       "<style  type=\"text/css\" >\n",
       "#T_8a947_row0_col0,#T_8a947_row1_col0,#T_8a947_row2_col0,#T_8a947_row3_col0,#T_8a947_row4_col0{\n",
       "            width:  1000px;\n",
       "            length:  50px;\n",
       "        }</style><table id=\"T_8a947_\" ><thead>    <tr>        <th class=\"blank level0\" ></th>        <th class=\"col_heading level0 col0\" >paragraphs</th>        <th class=\"col_heading level0 col1\" >salient_topic</th>        <th class=\"col_heading level0 col2\" >highest_p</th>    </tr></thead><tbody>\n",
       "                <tr>\n",
       "                        <th id=\"T_8a947_level0_row0\" class=\"row_heading level0 row0\" >8304</th>\n",
       "                        <td id=\"T_8a947_row0_col0\" class=\"data row0 col0\" >You think that the assessment of risks is our best estimate of the most likely outcome of the budget as a whole. But actually the assessment of risk-and how we have compiled it-is this: we have not sought to estimate how likely it is that every risk arises. We just said, \"Let us think about every risk that could arise, and let us assume that they all arise and work out the likely cost of them all arising.\" On top of that, we said, \"And there will be some risks that we just cannot think about that are unknown unknowns. There will be some multiple consequentials if everything came together.\" So we end up with an estimate not of the most likely cost of the project, which is what the burden of paragraph 1 of the PAC Report understands it is, but an estimate of how much we would need to set aside in the very unlikely event that all risks arise and some more unknown risks arise as well. The purpose of that is not to get to an estimate of the likely outcome of the budget. Its purpose and why we do it is to see, against any reasonable view of the likely risk that might arise, even on an assumption that they all arise and some more unknown risks arise, whether we have enough money. The conclusion has always been, yes, we had. Against what is therefore, in my view, a conservative and prudent estimate, we had £36 million headroom at the time of the NAO Report. We had more, and indeed the picture over the six-month period since the original figures on which the NAO was recording this, is that the contingency has gone down by £27 million or so-we reckon, because these are provisional figures, but I want to give our best figures-and the assessed risks on that very conservative and prudent basis have gone down by £136 million. So the picture on the budget as a whole is that we are spending contingency significantly slower than risks are disappearing from the programme. That is why, without in any sense being complacent, I am confident that we will bring this in within budget, and I do not think that the budget is close to being used up</td>\n",
       "                        <td id=\"T_8a947_row0_col1\" class=\"data row0 col1\" >8</td>\n",
       "                        <td id=\"T_8a947_row0_col2\" class=\"data row0 col2\" >0.656630</td>\n",
       "            </tr>\n",
       "            <tr>\n",
       "                        <th id=\"T_8a947_level0_row1\" class=\"row_heading level0 row1\" >17552</th>\n",
       "                        <td id=\"T_8a947_row1_col0\" class=\"data row1 col0\" >4. Most clubs seem ill-prepared for enquiries from, and inclusion of, people with disabilities who wish to participate in the sport offered by the club. There is little or no support for specialist clubs who provide opportunities for sport that cannot be integrated ie wheelchair basketball or blind cricket! There is often nothing locally to support the child or their parent in accessing the specialist provision and this often involves their having to undertake extensive travel to specialist facilities or organisations catering for this group. There is poor information regarding availability etc and http://www.parasport.org.uk was established as a portal to provide pathway and provision information. The then Mayor of London published a strategy in 2007, which highlighted all these issues and to date there has been little, if any, action to redress these anomalies in London or in the rest of the country. DCSF have, in my view, shown no leadership regarding the legacy of 2012 and its impact on PE in schools and the inclusion of those with disabilities in core curriculum activities or sporting opportunities within or after school. DCMS held a legacy event in 2008 and again in April 2009 focusing on the legacy of the Games for those with disabilities. One outcome was to seek greater links between DWP, DCSF and themselves to ensure that joint strategies were developed and pathways established that enabled children to enjoy and participate in PE and sport within schools/after school clubs/integrated and specialist provision in the community, with good national talent forums and pathways established for those who wish to participate in sport at a higher level and finally, with governing bodies having clear inclusive programmes for sports men and women with disabilities active at a national and international level</td>\n",
       "                        <td id=\"T_8a947_row1_col1\" class=\"data row1 col1\" >1</td>\n",
       "                        <td id=\"T_8a947_row1_col2\" class=\"data row1 col2\" >0.626673</td>\n",
       "            </tr>\n",
       "            <tr>\n",
       "                        <th id=\"T_8a947_level0_row2\" class=\"row_heading level0 row2\" >8388</th>\n",
       "                        <td id=\"T_8a947_row2_col0\" class=\"data row2 col0\" >Jonathan Stephens: There are two aspects to risk: likelihood and impact. What we are saying is that we made no estimate of likelihood, we just wrote in a 100% likelihood of all the risks we could think of and some unknown risks that we could not think of. We then looked at impact, and on impact we said, \"If this risk were to materialise-we are assuming a 100% likelihood that it materialises-what is the likely cost?\" That is where you get the low, the most likely outcome and the high outcome. When you add those together, you do not get to an outcome of, \"What is the most likely expenditure on the programme?\"; you get to an outcome of, \"If all conceivable risks arise, plus some unknown risks that we cannot identify, what is the likely expenditure?\" That is a conservative and prudent view of, \"Do we have enough contingency left, if all those risks arise?\" In practice, they won’t all arise. It is conceivable that some will arise, but it is pretty unlikely that all of them will arise. It is perfectly conceivable that some individual risk will arise at a higher estimate than the most likely estimate, but the prospect of all those risks arising is unlikely. The prospect of them all arising at the very highest possible cost is so unlikely as to not provide a good basis for planning. I am sorry. I am going on at some length, but there is a real point</td>\n",
       "                        <td id=\"T_8a947_row2_col1\" class=\"data row2 col1\" >8</td>\n",
       "                        <td id=\"T_8a947_row2_col2\" class=\"data row2 col2\" >0.578037</td>\n",
       "            </tr>\n",
       "            <tr>\n",
       "                        <th id=\"T_8a947_level0_row3\" class=\"row_heading level0 row3\" >3329</th>\n",
       "                        <td id=\"T_8a947_row3_col0\" class=\"data row3 col0\" >6 PREPARATIONS FOR THE LONDON 2012 OLyMPIC AND PARALyMPIC GAMES: PROGRESS REPORT JuNE 2008\t \t \t \t \t \t10 The start and completion dates for the construction of the main venue and infrastructure projects delivered by the Olympic Delivery Authority at the end of March 2008 compared with the milestones in the November 2007 Programme Baseline ReportProjectEnabling Works (site preparation) Power Lines under Grounding  (switchover only)   Structures, Bridges and Highways utilities Main Stadium    Aquatics Centre    VeloparkHandball/Indoor Sports ArenaBasketballInternational Broadcast Centre/ Main Press CentreOlympic Village Eton Manor (training facilities  and Paralympic events)  Broxbourne  (white water canoeing) Eton Dorney (rowing) Weymouth and Portland (sailing)construction start date November 2007  March 2008 Change in  programme  Forecast start date  baseline  (months)October 2006 October 2006 0 July 2008 July 2008 0   April 2008 April 2008 0 January 2008 January 2008 0 July 2008 May 2008 –21    September 2008 September 2008 0 March 2009 March 2009 0August 2009 June 2009 –2July 2009 November 2009 4May 2009 March 2009 –2 June 2008 May 2008 –1 March 2010 January 2010 –2   August 2008 May 2009 9  March 2009 January 2009 –2 May 2008 January 2008 –4construction end date November 2007  March 2008 Change in  programme  Forecast end date  baseline   (months)September 2009 September 2009 0 September 2008 November 2008 2   December 2011 December 2011 0 December 2011 August 2011 –4 Construction  Construction end date end dateFebruary 2011 April 2011 2Completion date  Completion date for construction  for construction and initial overlay  and initial overlay for test events for test eventsJune 2011 June 2011 0Construction  Construction end date end dateApril 2011 August 2011 4Completion date  Completion date for construction  for construction and initial overlay  and initial overlay for test events for test eventsJuly 2011 August 2011 1April 2011 February 2011 –2April 2011 March 2011 –1April 2011 April 2011 0June 2011 July 2011 1 December 2011 December 2011 0 February 2012 April 2011 –10   June 2010 October 2010 4  April 2010 July 2009 –9 February 2009 January 2009 –1Source: National Audit Office examination of actual and forecast progress against the November 2007 Programme BaselineNOTE</td>\n",
       "                        <td id=\"T_8a947_row3_col1\" class=\"data row3 col1\" >3</td>\n",
       "                        <td id=\"T_8a947_row3_col2\" class=\"data row3 col2\" >0.570649</td>\n",
       "            </tr>\n",
       "            <tr>\n",
       "                        <th id=\"T_8a947_level0_row4\" class=\"row_heading level0 row4\" >454</th>\n",
       "                        <td id=\"T_8a947_row4_col0\" class=\"data row4 col0\" >The Committee suspended from 4.09 pm to 4.23 pm for a division in the House Alan Keen   202. I did not get to the end of the question at the beginning but the point I am making is that because we have to have a village and all the events have to be in that area it adds costs to hosting the Olympics, I reckon at least half a billion and probably a billion. If we could spread them round the country—and I went to Japan for the World Cup and the atmosphere was brilliant. We went to different places—more people could get to see it. If we could do that with the Olympics, the point I am really asking you is that it is difficult for the Government. The Minister and the Secretary of State are going to see the President of the IOC on Friday. It will not do our bid any good if they go there telling them how they should organise the Olympic Games in the future. I am really asking you as the main channellers of funding in sport in this country, will you make these representations that the Olympics, just for the sake of having 18,000 athletes in one village, which is very nice, although it is not so nice for those whose event comes on the last day and they want a party—we could save somewhere between half a billion and a billion pounds by using facilities we have got around the country now. The athletics could be at Wembley as they were supposed to be. The football could be at the main stadium and spread around the country as it is going to be in fact. What I am saying is that instead of having the athletes all together in one village for the three weeks of the Olympics, we could put a party on for them and they could stay for a week after the Olympics when they could all get drunk if that is what they do. I think somebody needs to go to the IOC and put this point to them. We have been taking evidence from people in the last couple of days and there are tremendous difficulties. There would hardly be a difficulty if we could use stadia around the country and we did not have to have the village. It is the village that causes all the problems that we are facing now</td>\n",
       "                        <td id=\"T_8a947_row4_col1\" class=\"data row4 col1\" >6</td>\n",
       "                        <td id=\"T_8a947_row4_col2\" class=\"data row4 col2\" >0.568952</td>\n",
       "            </tr>\n",
       "    </tbody></table>"
      ],
      "text/plain": [
       "<pandas.io.formats.style.Styler at 0x1cea62a1430>"
      ]
     },
     "execution_count": 143,
     "metadata": {},
     "output_type": "execute_result"
    }
   ],
   "source": [
    "N1 = 5   # Set N to get the N most prototypical paragraphs overall\n",
    "df_topic_para2_n.nlargest(N1,['highest_p']).style.set_properties(subset = ['paragraphs'], **{'width':'1000px', 'length': '50px'})"
   ]
  },
  {
   "cell_type": "markdown",
   "metadata": {},
   "source": [
    "### 5.3.3.  N most prototypical paragraphs where the belong() function is greater than the threshold L\n",
    "I followed the method of extraction of prototypical text suggested by PTBI (Marchetti and Puranam, 2020. p. 14). PTBI attempts to not only extract the prototypical documents to improve interpretability, but also to find the minimum number of prototypical documents for topic interpretation. The algorithm is shown as follows:\n",
    "1. Defines a threshold L  (L < ∈ [0,1]). For instance, we set L to be 0.5.\n",
    "2. For each topic, select the documents with the probability that they belong to the topic is not less than L (0.5). \n",
    "3. For each topic, check whether the number of documents selected is not less than 1/L. For instance, if L = 0.5, for each topic we need at least 2 documents for topic interpretation. This method weakens the limitation that a few documents have a high proportion of a topic is because of randomness.\n",
    "4. Compute the percentage of interpretable topics as described in step iii\n",
    "5. Change L, keep iterating and find the optimal L with which the percentage of interpretable topics is the highest. "
   ]
  },
  {
   "cell_type": "markdown",
   "metadata": {},
   "source": [
    "##### Indenfication of the optimal L and miminum number of paragraphs for topic interpretation"
   ]
  },
  {
   "cell_type": "code",
   "execution_count": 144,
   "metadata": {},
   "outputs": [],
   "source": [
    "List_num_doc = [x for x in range(1, 20, 1)] # generate a list of 1/L (minimum number of documents to interpret a topic)\n",
    "list_L = [1/x for x in List_num_doc]        # generate a list of L"
   ]
  },
  {
   "cell_type": "code",
   "execution_count": 145,
   "metadata": {},
   "outputs": [],
   "source": [
    "# create the function for computing the percentage of potentially interpretable topics against parameter L\n",
    "def perc(i, df):\n",
    "    list_num_topics = []\n",
    "    for j in df:                                  \n",
    "        topic_filter = df[j] >= i         \n",
    "        m = df[j][topic_filter].count()           \n",
    "        list_num_topics.append(m)                                             \n",
    "        count1 = sum(map(lambda x : x >= 1/i, list_num_topics))                                     \n",
    "        perc1 = count1 / k\n",
    "    return(perc1)"
   ]
  },
  {
   "cell_type": "markdown",
   "metadata": {},
   "source": [
    "The plot shows that when L = 0.333, the percentage of interpretable topics is 100%, so I set L to be 0.333 - ie, each topic needs at least 3 (1/0.333) paragraphs with the probability that they belong to the topic is no less than 3  for interpretation. It is worth noting that L is inversely proportional to the minimum number of paragraphs of each topic for interpretation (1/L), in other words, the lower the threshold L is, the more paragraphs that users need to interpret the topics. Although when L = 0.1 the percentage of interpretable topics is also 100%, the minimum number of paragraphs of each topic for interpretation also rises to 10 (1/0.1), which increases the workload of interpretation significantly."
   ]
  },
  {
   "cell_type": "code",
   "execution_count": 146,
   "metadata": {},
   "outputs": [
    {
     "data": {
      "application/vnd.plotly.v1+json": {
       "config": {
        "plotlyServerURL": "https://plotly.com"
       },
       "data": [
        {
         "hovertemplate": "Threshold_L=%{x}<br>Percentage of interpretable topics=%{y}<extra></extra>",
         "legendgroup": "",
         "line": {
          "color": "#636efa",
          "dash": "solid"
         },
         "mode": "lines+markers",
         "name": "",
         "orientation": "v",
         "showlegend": false,
         "type": "scatter",
         "x": [
          1,
          0.5,
          0.3333333333333333,
          0.25,
          0.2,
          0.16666666666666666,
          0.14285714285714285,
          0.125,
          0.1111111111111111,
          0.1,
          0.09090909090909091,
          0.08333333333333333,
          0.07692307692307693,
          0.07142857142857142,
          0.06666666666666667,
          0.0625,
          0.058823529411764705,
          0.05555555555555555,
          0.05263157894736842
         ],
         "xaxis": "x",
         "y": [
          0,
          0.5,
          1,
          1,
          1,
          1,
          1,
          1,
          1,
          1,
          1,
          1,
          1,
          1,
          1,
          1,
          1,
          1,
          1
         ],
         "yaxis": "y"
        }
       ],
       "layout": {
        "autosize": false,
        "height": 400,
        "legend": {
         "tracegroupgap": 0
        },
        "template": {
         "data": {
          "bar": [
           {
            "error_x": {
             "color": "#2a3f5f"
            },
            "error_y": {
             "color": "#2a3f5f"
            },
            "marker": {
             "line": {
              "color": "#E5ECF6",
              "width": 0.5
             }
            },
            "type": "bar"
           }
          ],
          "barpolar": [
           {
            "marker": {
             "line": {
              "color": "#E5ECF6",
              "width": 0.5
             }
            },
            "type": "barpolar"
           }
          ],
          "carpet": [
           {
            "aaxis": {
             "endlinecolor": "#2a3f5f",
             "gridcolor": "white",
             "linecolor": "white",
             "minorgridcolor": "white",
             "startlinecolor": "#2a3f5f"
            },
            "baxis": {
             "endlinecolor": "#2a3f5f",
             "gridcolor": "white",
             "linecolor": "white",
             "minorgridcolor": "white",
             "startlinecolor": "#2a3f5f"
            },
            "type": "carpet"
           }
          ],
          "choropleth": [
           {
            "colorbar": {
             "outlinewidth": 0,
             "ticks": ""
            },
            "type": "choropleth"
           }
          ],
          "contour": [
           {
            "colorbar": {
             "outlinewidth": 0,
             "ticks": ""
            },
            "colorscale": [
             [
              0,
              "#0d0887"
             ],
             [
              0.1111111111111111,
              "#46039f"
             ],
             [
              0.2222222222222222,
              "#7201a8"
             ],
             [
              0.3333333333333333,
              "#9c179e"
             ],
             [
              0.4444444444444444,
              "#bd3786"
             ],
             [
              0.5555555555555556,
              "#d8576b"
             ],
             [
              0.6666666666666666,
              "#ed7953"
             ],
             [
              0.7777777777777778,
              "#fb9f3a"
             ],
             [
              0.8888888888888888,
              "#fdca26"
             ],
             [
              1,
              "#f0f921"
             ]
            ],
            "type": "contour"
           }
          ],
          "contourcarpet": [
           {
            "colorbar": {
             "outlinewidth": 0,
             "ticks": ""
            },
            "type": "contourcarpet"
           }
          ],
          "heatmap": [
           {
            "colorbar": {
             "outlinewidth": 0,
             "ticks": ""
            },
            "colorscale": [
             [
              0,
              "#0d0887"
             ],
             [
              0.1111111111111111,
              "#46039f"
             ],
             [
              0.2222222222222222,
              "#7201a8"
             ],
             [
              0.3333333333333333,
              "#9c179e"
             ],
             [
              0.4444444444444444,
              "#bd3786"
             ],
             [
              0.5555555555555556,
              "#d8576b"
             ],
             [
              0.6666666666666666,
              "#ed7953"
             ],
             [
              0.7777777777777778,
              "#fb9f3a"
             ],
             [
              0.8888888888888888,
              "#fdca26"
             ],
             [
              1,
              "#f0f921"
             ]
            ],
            "type": "heatmap"
           }
          ],
          "heatmapgl": [
           {
            "colorbar": {
             "outlinewidth": 0,
             "ticks": ""
            },
            "colorscale": [
             [
              0,
              "#0d0887"
             ],
             [
              0.1111111111111111,
              "#46039f"
             ],
             [
              0.2222222222222222,
              "#7201a8"
             ],
             [
              0.3333333333333333,
              "#9c179e"
             ],
             [
              0.4444444444444444,
              "#bd3786"
             ],
             [
              0.5555555555555556,
              "#d8576b"
             ],
             [
              0.6666666666666666,
              "#ed7953"
             ],
             [
              0.7777777777777778,
              "#fb9f3a"
             ],
             [
              0.8888888888888888,
              "#fdca26"
             ],
             [
              1,
              "#f0f921"
             ]
            ],
            "type": "heatmapgl"
           }
          ],
          "histogram": [
           {
            "marker": {
             "colorbar": {
              "outlinewidth": 0,
              "ticks": ""
             }
            },
            "type": "histogram"
           }
          ],
          "histogram2d": [
           {
            "colorbar": {
             "outlinewidth": 0,
             "ticks": ""
            },
            "colorscale": [
             [
              0,
              "#0d0887"
             ],
             [
              0.1111111111111111,
              "#46039f"
             ],
             [
              0.2222222222222222,
              "#7201a8"
             ],
             [
              0.3333333333333333,
              "#9c179e"
             ],
             [
              0.4444444444444444,
              "#bd3786"
             ],
             [
              0.5555555555555556,
              "#d8576b"
             ],
             [
              0.6666666666666666,
              "#ed7953"
             ],
             [
              0.7777777777777778,
              "#fb9f3a"
             ],
             [
              0.8888888888888888,
              "#fdca26"
             ],
             [
              1,
              "#f0f921"
             ]
            ],
            "type": "histogram2d"
           }
          ],
          "histogram2dcontour": [
           {
            "colorbar": {
             "outlinewidth": 0,
             "ticks": ""
            },
            "colorscale": [
             [
              0,
              "#0d0887"
             ],
             [
              0.1111111111111111,
              "#46039f"
             ],
             [
              0.2222222222222222,
              "#7201a8"
             ],
             [
              0.3333333333333333,
              "#9c179e"
             ],
             [
              0.4444444444444444,
              "#bd3786"
             ],
             [
              0.5555555555555556,
              "#d8576b"
             ],
             [
              0.6666666666666666,
              "#ed7953"
             ],
             [
              0.7777777777777778,
              "#fb9f3a"
             ],
             [
              0.8888888888888888,
              "#fdca26"
             ],
             [
              1,
              "#f0f921"
             ]
            ],
            "type": "histogram2dcontour"
           }
          ],
          "mesh3d": [
           {
            "colorbar": {
             "outlinewidth": 0,
             "ticks": ""
            },
            "type": "mesh3d"
           }
          ],
          "parcoords": [
           {
            "line": {
             "colorbar": {
              "outlinewidth": 0,
              "ticks": ""
             }
            },
            "type": "parcoords"
           }
          ],
          "pie": [
           {
            "automargin": true,
            "type": "pie"
           }
          ],
          "scatter": [
           {
            "marker": {
             "colorbar": {
              "outlinewidth": 0,
              "ticks": ""
             }
            },
            "type": "scatter"
           }
          ],
          "scatter3d": [
           {
            "line": {
             "colorbar": {
              "outlinewidth": 0,
              "ticks": ""
             }
            },
            "marker": {
             "colorbar": {
              "outlinewidth": 0,
              "ticks": ""
             }
            },
            "type": "scatter3d"
           }
          ],
          "scattercarpet": [
           {
            "marker": {
             "colorbar": {
              "outlinewidth": 0,
              "ticks": ""
             }
            },
            "type": "scattercarpet"
           }
          ],
          "scattergeo": [
           {
            "marker": {
             "colorbar": {
              "outlinewidth": 0,
              "ticks": ""
             }
            },
            "type": "scattergeo"
           }
          ],
          "scattergl": [
           {
            "marker": {
             "colorbar": {
              "outlinewidth": 0,
              "ticks": ""
             }
            },
            "type": "scattergl"
           }
          ],
          "scattermapbox": [
           {
            "marker": {
             "colorbar": {
              "outlinewidth": 0,
              "ticks": ""
             }
            },
            "type": "scattermapbox"
           }
          ],
          "scatterpolar": [
           {
            "marker": {
             "colorbar": {
              "outlinewidth": 0,
              "ticks": ""
             }
            },
            "type": "scatterpolar"
           }
          ],
          "scatterpolargl": [
           {
            "marker": {
             "colorbar": {
              "outlinewidth": 0,
              "ticks": ""
             }
            },
            "type": "scatterpolargl"
           }
          ],
          "scatterternary": [
           {
            "marker": {
             "colorbar": {
              "outlinewidth": 0,
              "ticks": ""
             }
            },
            "type": "scatterternary"
           }
          ],
          "surface": [
           {
            "colorbar": {
             "outlinewidth": 0,
             "ticks": ""
            },
            "colorscale": [
             [
              0,
              "#0d0887"
             ],
             [
              0.1111111111111111,
              "#46039f"
             ],
             [
              0.2222222222222222,
              "#7201a8"
             ],
             [
              0.3333333333333333,
              "#9c179e"
             ],
             [
              0.4444444444444444,
              "#bd3786"
             ],
             [
              0.5555555555555556,
              "#d8576b"
             ],
             [
              0.6666666666666666,
              "#ed7953"
             ],
             [
              0.7777777777777778,
              "#fb9f3a"
             ],
             [
              0.8888888888888888,
              "#fdca26"
             ],
             [
              1,
              "#f0f921"
             ]
            ],
            "type": "surface"
           }
          ],
          "table": [
           {
            "cells": {
             "fill": {
              "color": "#EBF0F8"
             },
             "line": {
              "color": "white"
             }
            },
            "header": {
             "fill": {
              "color": "#C8D4E3"
             },
             "line": {
              "color": "white"
             }
            },
            "type": "table"
           }
          ]
         },
         "layout": {
          "annotationdefaults": {
           "arrowcolor": "#2a3f5f",
           "arrowhead": 0,
           "arrowwidth": 1
          },
          "autotypenumbers": "strict",
          "coloraxis": {
           "colorbar": {
            "outlinewidth": 0,
            "ticks": ""
           }
          },
          "colorscale": {
           "diverging": [
            [
             0,
             "#8e0152"
            ],
            [
             0.1,
             "#c51b7d"
            ],
            [
             0.2,
             "#de77ae"
            ],
            [
             0.3,
             "#f1b6da"
            ],
            [
             0.4,
             "#fde0ef"
            ],
            [
             0.5,
             "#f7f7f7"
            ],
            [
             0.6,
             "#e6f5d0"
            ],
            [
             0.7,
             "#b8e186"
            ],
            [
             0.8,
             "#7fbc41"
            ],
            [
             0.9,
             "#4d9221"
            ],
            [
             1,
             "#276419"
            ]
           ],
           "sequential": [
            [
             0,
             "#0d0887"
            ],
            [
             0.1111111111111111,
             "#46039f"
            ],
            [
             0.2222222222222222,
             "#7201a8"
            ],
            [
             0.3333333333333333,
             "#9c179e"
            ],
            [
             0.4444444444444444,
             "#bd3786"
            ],
            [
             0.5555555555555556,
             "#d8576b"
            ],
            [
             0.6666666666666666,
             "#ed7953"
            ],
            [
             0.7777777777777778,
             "#fb9f3a"
            ],
            [
             0.8888888888888888,
             "#fdca26"
            ],
            [
             1,
             "#f0f921"
            ]
           ],
           "sequentialminus": [
            [
             0,
             "#0d0887"
            ],
            [
             0.1111111111111111,
             "#46039f"
            ],
            [
             0.2222222222222222,
             "#7201a8"
            ],
            [
             0.3333333333333333,
             "#9c179e"
            ],
            [
             0.4444444444444444,
             "#bd3786"
            ],
            [
             0.5555555555555556,
             "#d8576b"
            ],
            [
             0.6666666666666666,
             "#ed7953"
            ],
            [
             0.7777777777777778,
             "#fb9f3a"
            ],
            [
             0.8888888888888888,
             "#fdca26"
            ],
            [
             1,
             "#f0f921"
            ]
           ]
          },
          "colorway": [
           "#636efa",
           "#EF553B",
           "#00cc96",
           "#ab63fa",
           "#FFA15A",
           "#19d3f3",
           "#FF6692",
           "#B6E880",
           "#FF97FF",
           "#FECB52"
          ],
          "font": {
           "color": "#2a3f5f"
          },
          "geo": {
           "bgcolor": "white",
           "lakecolor": "white",
           "landcolor": "#E5ECF6",
           "showlakes": true,
           "showland": true,
           "subunitcolor": "white"
          },
          "hoverlabel": {
           "align": "left"
          },
          "hovermode": "closest",
          "mapbox": {
           "style": "light"
          },
          "paper_bgcolor": "white",
          "plot_bgcolor": "#E5ECF6",
          "polar": {
           "angularaxis": {
            "gridcolor": "white",
            "linecolor": "white",
            "ticks": ""
           },
           "bgcolor": "#E5ECF6",
           "radialaxis": {
            "gridcolor": "white",
            "linecolor": "white",
            "ticks": ""
           }
          },
          "scene": {
           "xaxis": {
            "backgroundcolor": "#E5ECF6",
            "gridcolor": "white",
            "gridwidth": 2,
            "linecolor": "white",
            "showbackground": true,
            "ticks": "",
            "zerolinecolor": "white"
           },
           "yaxis": {
            "backgroundcolor": "#E5ECF6",
            "gridcolor": "white",
            "gridwidth": 2,
            "linecolor": "white",
            "showbackground": true,
            "ticks": "",
            "zerolinecolor": "white"
           },
           "zaxis": {
            "backgroundcolor": "#E5ECF6",
            "gridcolor": "white",
            "gridwidth": 2,
            "linecolor": "white",
            "showbackground": true,
            "ticks": "",
            "zerolinecolor": "white"
           }
          },
          "shapedefaults": {
           "line": {
            "color": "#2a3f5f"
           }
          },
          "ternary": {
           "aaxis": {
            "gridcolor": "white",
            "linecolor": "white",
            "ticks": ""
           },
           "baxis": {
            "gridcolor": "white",
            "linecolor": "white",
            "ticks": ""
           },
           "bgcolor": "#E5ECF6",
           "caxis": {
            "gridcolor": "white",
            "linecolor": "white",
            "ticks": ""
           }
          },
          "title": {
           "x": 0.05
          },
          "xaxis": {
           "automargin": true,
           "gridcolor": "white",
           "linecolor": "white",
           "ticks": "",
           "title": {
            "standoff": 15
           },
           "zerolinecolor": "white",
           "zerolinewidth": 2
          },
          "yaxis": {
           "automargin": true,
           "gridcolor": "white",
           "linecolor": "white",
           "ticks": "",
           "title": {
            "standoff": 15
           },
           "zerolinecolor": "white",
           "zerolinewidth": 2
          }
         }
        },
        "title": {
         "text": "Percentage of interpretable topics"
        },
        "width": 800,
        "xaxis": {
         "anchor": "y",
         "domain": [
          0,
          1
         ],
         "title": {
          "text": "Threshold_L"
         }
        },
        "yaxis": {
         "anchor": "x",
         "domain": [
          0,
          1
         ],
         "title": {
          "text": "Percentage of interpretable topics"
         }
        }
       }
      },
      "text/html": [
       "<div>                            <div id=\"563f1cde-b72e-4368-b97b-18275b62cf1b\" class=\"plotly-graph-div\" style=\"height:400px; width:800px;\"></div>            <script type=\"text/javascript\">                require([\"plotly\"], function(Plotly) {                    window.PLOTLYENV=window.PLOTLYENV || {};                                    if (document.getElementById(\"563f1cde-b72e-4368-b97b-18275b62cf1b\")) {                    Plotly.newPlot(                        \"563f1cde-b72e-4368-b97b-18275b62cf1b\",                        [{\"hovertemplate\": \"Threshold_L=%{x}<br>Percentage of interpretable topics=%{y}<extra></extra>\", \"legendgroup\": \"\", \"line\": {\"color\": \"#636efa\", \"dash\": \"solid\"}, \"mode\": \"lines+markers\", \"name\": \"\", \"orientation\": \"v\", \"showlegend\": false, \"type\": \"scatter\", \"x\": [1.0, 0.5, 0.3333333333333333, 0.25, 0.2, 0.16666666666666666, 0.14285714285714285, 0.125, 0.1111111111111111, 0.1, 0.09090909090909091, 0.08333333333333333, 0.07692307692307693, 0.07142857142857142, 0.06666666666666667, 0.0625, 0.058823529411764705, 0.05555555555555555, 0.05263157894736842], \"xaxis\": \"x\", \"y\": [0.0, 0.5, 1.0, 1.0, 1.0, 1.0, 1.0, 1.0, 1.0, 1.0, 1.0, 1.0, 1.0, 1.0, 1.0, 1.0, 1.0, 1.0, 1.0], \"yaxis\": \"y\"}],                        {\"autosize\": false, \"height\": 400, \"legend\": {\"tracegroupgap\": 0}, \"template\": {\"data\": {\"bar\": [{\"error_x\": {\"color\": \"#2a3f5f\"}, \"error_y\": {\"color\": \"#2a3f5f\"}, \"marker\": {\"line\": {\"color\": \"#E5ECF6\", \"width\": 0.5}}, \"type\": \"bar\"}], \"barpolar\": [{\"marker\": {\"line\": {\"color\": \"#E5ECF6\", \"width\": 0.5}}, \"type\": \"barpolar\"}], \"carpet\": [{\"aaxis\": {\"endlinecolor\": \"#2a3f5f\", \"gridcolor\": \"white\", \"linecolor\": \"white\", \"minorgridcolor\": \"white\", \"startlinecolor\": \"#2a3f5f\"}, \"baxis\": {\"endlinecolor\": \"#2a3f5f\", \"gridcolor\": \"white\", \"linecolor\": \"white\", \"minorgridcolor\": \"white\", \"startlinecolor\": \"#2a3f5f\"}, \"type\": \"carpet\"}], \"choropleth\": [{\"colorbar\": {\"outlinewidth\": 0, \"ticks\": \"\"}, \"type\": \"choropleth\"}], \"contour\": [{\"colorbar\": {\"outlinewidth\": 0, \"ticks\": \"\"}, \"colorscale\": [[0.0, \"#0d0887\"], [0.1111111111111111, \"#46039f\"], [0.2222222222222222, \"#7201a8\"], [0.3333333333333333, \"#9c179e\"], [0.4444444444444444, \"#bd3786\"], [0.5555555555555556, \"#d8576b\"], [0.6666666666666666, \"#ed7953\"], [0.7777777777777778, \"#fb9f3a\"], [0.8888888888888888, \"#fdca26\"], [1.0, \"#f0f921\"]], \"type\": \"contour\"}], \"contourcarpet\": [{\"colorbar\": {\"outlinewidth\": 0, \"ticks\": \"\"}, \"type\": \"contourcarpet\"}], \"heatmap\": [{\"colorbar\": {\"outlinewidth\": 0, \"ticks\": \"\"}, \"colorscale\": [[0.0, \"#0d0887\"], [0.1111111111111111, \"#46039f\"], [0.2222222222222222, \"#7201a8\"], [0.3333333333333333, \"#9c179e\"], [0.4444444444444444, \"#bd3786\"], [0.5555555555555556, \"#d8576b\"], [0.6666666666666666, \"#ed7953\"], [0.7777777777777778, \"#fb9f3a\"], [0.8888888888888888, \"#fdca26\"], [1.0, \"#f0f921\"]], \"type\": \"heatmap\"}], \"heatmapgl\": [{\"colorbar\": {\"outlinewidth\": 0, \"ticks\": \"\"}, \"colorscale\": [[0.0, \"#0d0887\"], [0.1111111111111111, \"#46039f\"], [0.2222222222222222, \"#7201a8\"], [0.3333333333333333, \"#9c179e\"], [0.4444444444444444, \"#bd3786\"], [0.5555555555555556, \"#d8576b\"], [0.6666666666666666, \"#ed7953\"], [0.7777777777777778, \"#fb9f3a\"], [0.8888888888888888, \"#fdca26\"], [1.0, \"#f0f921\"]], \"type\": \"heatmapgl\"}], \"histogram\": [{\"marker\": {\"colorbar\": {\"outlinewidth\": 0, \"ticks\": \"\"}}, \"type\": \"histogram\"}], \"histogram2d\": [{\"colorbar\": {\"outlinewidth\": 0, \"ticks\": \"\"}, \"colorscale\": [[0.0, \"#0d0887\"], [0.1111111111111111, \"#46039f\"], [0.2222222222222222, \"#7201a8\"], [0.3333333333333333, \"#9c179e\"], [0.4444444444444444, \"#bd3786\"], [0.5555555555555556, \"#d8576b\"], [0.6666666666666666, \"#ed7953\"], [0.7777777777777778, \"#fb9f3a\"], [0.8888888888888888, \"#fdca26\"], [1.0, \"#f0f921\"]], \"type\": \"histogram2d\"}], \"histogram2dcontour\": [{\"colorbar\": {\"outlinewidth\": 0, \"ticks\": \"\"}, \"colorscale\": [[0.0, \"#0d0887\"], [0.1111111111111111, \"#46039f\"], [0.2222222222222222, \"#7201a8\"], [0.3333333333333333, \"#9c179e\"], [0.4444444444444444, \"#bd3786\"], [0.5555555555555556, \"#d8576b\"], [0.6666666666666666, \"#ed7953\"], [0.7777777777777778, \"#fb9f3a\"], [0.8888888888888888, \"#fdca26\"], [1.0, \"#f0f921\"]], \"type\": \"histogram2dcontour\"}], \"mesh3d\": [{\"colorbar\": {\"outlinewidth\": 0, \"ticks\": \"\"}, \"type\": \"mesh3d\"}], \"parcoords\": [{\"line\": {\"colorbar\": {\"outlinewidth\": 0, \"ticks\": \"\"}}, \"type\": \"parcoords\"}], \"pie\": [{\"automargin\": true, \"type\": \"pie\"}], \"scatter\": [{\"marker\": {\"colorbar\": {\"outlinewidth\": 0, \"ticks\": \"\"}}, \"type\": \"scatter\"}], \"scatter3d\": [{\"line\": {\"colorbar\": {\"outlinewidth\": 0, \"ticks\": \"\"}}, \"marker\": {\"colorbar\": {\"outlinewidth\": 0, \"ticks\": \"\"}}, \"type\": \"scatter3d\"}], \"scattercarpet\": [{\"marker\": {\"colorbar\": {\"outlinewidth\": 0, \"ticks\": \"\"}}, \"type\": \"scattercarpet\"}], \"scattergeo\": [{\"marker\": {\"colorbar\": {\"outlinewidth\": 0, \"ticks\": \"\"}}, \"type\": \"scattergeo\"}], \"scattergl\": [{\"marker\": {\"colorbar\": {\"outlinewidth\": 0, \"ticks\": \"\"}}, \"type\": \"scattergl\"}], \"scattermapbox\": [{\"marker\": {\"colorbar\": {\"outlinewidth\": 0, \"ticks\": \"\"}}, \"type\": \"scattermapbox\"}], \"scatterpolar\": [{\"marker\": {\"colorbar\": {\"outlinewidth\": 0, \"ticks\": \"\"}}, \"type\": \"scatterpolar\"}], \"scatterpolargl\": [{\"marker\": {\"colorbar\": {\"outlinewidth\": 0, \"ticks\": \"\"}}, \"type\": \"scatterpolargl\"}], \"scatterternary\": [{\"marker\": {\"colorbar\": {\"outlinewidth\": 0, \"ticks\": \"\"}}, \"type\": \"scatterternary\"}], \"surface\": [{\"colorbar\": {\"outlinewidth\": 0, \"ticks\": \"\"}, \"colorscale\": [[0.0, \"#0d0887\"], [0.1111111111111111, \"#46039f\"], [0.2222222222222222, \"#7201a8\"], [0.3333333333333333, \"#9c179e\"], [0.4444444444444444, \"#bd3786\"], [0.5555555555555556, \"#d8576b\"], [0.6666666666666666, \"#ed7953\"], [0.7777777777777778, \"#fb9f3a\"], [0.8888888888888888, \"#fdca26\"], [1.0, \"#f0f921\"]], \"type\": \"surface\"}], \"table\": [{\"cells\": {\"fill\": {\"color\": \"#EBF0F8\"}, \"line\": {\"color\": \"white\"}}, \"header\": {\"fill\": {\"color\": \"#C8D4E3\"}, \"line\": {\"color\": \"white\"}}, \"type\": \"table\"}]}, \"layout\": {\"annotationdefaults\": {\"arrowcolor\": \"#2a3f5f\", \"arrowhead\": 0, \"arrowwidth\": 1}, \"autotypenumbers\": \"strict\", \"coloraxis\": {\"colorbar\": {\"outlinewidth\": 0, \"ticks\": \"\"}}, \"colorscale\": {\"diverging\": [[0, \"#8e0152\"], [0.1, \"#c51b7d\"], [0.2, \"#de77ae\"], [0.3, \"#f1b6da\"], [0.4, \"#fde0ef\"], [0.5, \"#f7f7f7\"], [0.6, \"#e6f5d0\"], [0.7, \"#b8e186\"], [0.8, \"#7fbc41\"], [0.9, \"#4d9221\"], [1, \"#276419\"]], \"sequential\": [[0.0, \"#0d0887\"], [0.1111111111111111, \"#46039f\"], [0.2222222222222222, \"#7201a8\"], [0.3333333333333333, \"#9c179e\"], [0.4444444444444444, \"#bd3786\"], [0.5555555555555556, \"#d8576b\"], [0.6666666666666666, \"#ed7953\"], [0.7777777777777778, \"#fb9f3a\"], [0.8888888888888888, \"#fdca26\"], [1.0, \"#f0f921\"]], \"sequentialminus\": [[0.0, \"#0d0887\"], [0.1111111111111111, \"#46039f\"], [0.2222222222222222, \"#7201a8\"], [0.3333333333333333, \"#9c179e\"], [0.4444444444444444, \"#bd3786\"], [0.5555555555555556, \"#d8576b\"], [0.6666666666666666, \"#ed7953\"], [0.7777777777777778, \"#fb9f3a\"], [0.8888888888888888, \"#fdca26\"], [1.0, \"#f0f921\"]]}, \"colorway\": [\"#636efa\", \"#EF553B\", \"#00cc96\", \"#ab63fa\", \"#FFA15A\", \"#19d3f3\", \"#FF6692\", \"#B6E880\", \"#FF97FF\", \"#FECB52\"], \"font\": {\"color\": \"#2a3f5f\"}, \"geo\": {\"bgcolor\": \"white\", \"lakecolor\": \"white\", \"landcolor\": \"#E5ECF6\", \"showlakes\": true, \"showland\": true, \"subunitcolor\": \"white\"}, \"hoverlabel\": {\"align\": \"left\"}, \"hovermode\": \"closest\", \"mapbox\": {\"style\": \"light\"}, \"paper_bgcolor\": \"white\", \"plot_bgcolor\": \"#E5ECF6\", \"polar\": {\"angularaxis\": {\"gridcolor\": \"white\", \"linecolor\": \"white\", \"ticks\": \"\"}, \"bgcolor\": \"#E5ECF6\", \"radialaxis\": {\"gridcolor\": \"white\", \"linecolor\": \"white\", \"ticks\": \"\"}}, \"scene\": {\"xaxis\": {\"backgroundcolor\": \"#E5ECF6\", \"gridcolor\": \"white\", \"gridwidth\": 2, \"linecolor\": \"white\", \"showbackground\": true, \"ticks\": \"\", \"zerolinecolor\": \"white\"}, \"yaxis\": {\"backgroundcolor\": \"#E5ECF6\", \"gridcolor\": \"white\", \"gridwidth\": 2, \"linecolor\": \"white\", \"showbackground\": true, \"ticks\": \"\", \"zerolinecolor\": \"white\"}, \"zaxis\": {\"backgroundcolor\": \"#E5ECF6\", \"gridcolor\": \"white\", \"gridwidth\": 2, \"linecolor\": \"white\", \"showbackground\": true, \"ticks\": \"\", \"zerolinecolor\": \"white\"}}, \"shapedefaults\": {\"line\": {\"color\": \"#2a3f5f\"}}, \"ternary\": {\"aaxis\": {\"gridcolor\": \"white\", \"linecolor\": \"white\", \"ticks\": \"\"}, \"baxis\": {\"gridcolor\": \"white\", \"linecolor\": \"white\", \"ticks\": \"\"}, \"bgcolor\": \"#E5ECF6\", \"caxis\": {\"gridcolor\": \"white\", \"linecolor\": \"white\", \"ticks\": \"\"}}, \"title\": {\"x\": 0.05}, \"xaxis\": {\"automargin\": true, \"gridcolor\": \"white\", \"linecolor\": \"white\", \"ticks\": \"\", \"title\": {\"standoff\": 15}, \"zerolinecolor\": \"white\", \"zerolinewidth\": 2}, \"yaxis\": {\"automargin\": true, \"gridcolor\": \"white\", \"linecolor\": \"white\", \"ticks\": \"\", \"title\": {\"standoff\": 15}, \"zerolinecolor\": \"white\", \"zerolinewidth\": 2}}}, \"title\": {\"text\": \"Percentage of interpretable topics\"}, \"width\": 800, \"xaxis\": {\"anchor\": \"y\", \"domain\": [0.0, 1.0], \"title\": {\"text\": \"Threshold_L\"}}, \"yaxis\": {\"anchor\": \"x\", \"domain\": [0.0, 1.0], \"title\": {\"text\": \"Percentage of interpretable topics\"}}},                        {\"responsive\": true}                    ).then(function(){\n",
       "                            \n",
       "var gd = document.getElementById('563f1cde-b72e-4368-b97b-18275b62cf1b');\n",
       "var x = new MutationObserver(function (mutations, observer) {{\n",
       "        var display = window.getComputedStyle(gd).display;\n",
       "        if (!display || display === 'none') {{\n",
       "            console.log([gd, 'removed!']);\n",
       "            Plotly.purge(gd);\n",
       "            observer.disconnect();\n",
       "        }}\n",
       "}});\n",
       "\n",
       "// Listen for the removal of the full notebook cells\n",
       "var notebookContainer = gd.closest('#notebook-container');\n",
       "if (notebookContainer) {{\n",
       "    x.observe(notebookContainer, {childList: true});\n",
       "}}\n",
       "\n",
       "// Listen for the clearing of the current output cell\n",
       "var outputEl = gd.closest('.output');\n",
       "if (outputEl) {{\n",
       "    x.observe(outputEl, {childList: true});\n",
       "}}\n",
       "\n",
       "                        })                };                });            </script>        </div>"
      ]
     },
     "metadata": {},
     "output_type": "display_data"
    }
   ],
   "source": [
    "list_perc2 = []\n",
    "for i in list_L:\n",
    "    num = perc(i, df_topic_para.drop(list_remove_para))\n",
    "    list_perc2.append(num)\n",
    "\n",
    "df_L2 = pd.DataFrame({'Threshold_L': list_L, 'Percentage of interpretable topics': list_perc2})\n",
    "fig_L2 = px.line(df_L2, x = 'Threshold_L', y=\"Percentage of interpretable topics\", title = 'Percentage of interpretable topics')\n",
    "fig_L2.update_layout(autosize=False, width=800, height=400)\n",
    "fig_L2.update_traces(mode = \"lines + markers\")\n",
    "fig_L2.show()"
   ]
  },
  {
   "cell_type": "code",
   "execution_count": 147,
   "metadata": {},
   "outputs": [],
   "source": [
    "# define the function for extracting the highest N ranked paragraphs from each topic\n",
    "def top_n_filter(df, top_n):\n",
    "    list_topic_id = [x+1 for x in range(0,k)]\n",
    "    list_n_para = []\n",
    "    list_n_p = []\n",
    "    list_n_index = []\n",
    "    for x in range(1, k + 1): \n",
    "        n_para = [i for i in df.nlargest(top_n, [x])['paragraphs']]\n",
    "        n_p = [i for i in df.nlargest(top_n, [x])[x]]\n",
    "        n_index = [i for i in df_topic_para1.nlargest(top_n, [x]).index]\n",
    "        list_n_para.append(n_para)\n",
    "        list_n_p.append(n_p)\n",
    "        list_n_index.append(n_index)\n",
    "    pd_n_para = pd.DataFrame({'Index':list_n_index, 'topic_id': list_topic_id, 'salient_paragraph': list_n_para, 'probability': list_n_p})\n",
    "    return(pd_n_para.apply(pd.Series.explode).reset_index().drop('index', axis = 1))"
   ]
  },
  {
   "cell_type": "markdown",
   "metadata": {},
   "source": [
    "Below we get the the 4 most prototypical paragraphs of each topic when we set the optimal L to be 0.25. "
   ]
  },
  {
   "cell_type": "code",
   "execution_count": 148,
   "metadata": {},
   "outputs": [
    {
     "data": {
      "text/html": [
       "<style  type=\"text/css\" >\n",
       "#T_0eff8_row0_col2,#T_0eff8_row1_col2,#T_0eff8_row2_col2,#T_0eff8_row3_col2,#T_0eff8_row4_col2,#T_0eff8_row5_col2,#T_0eff8_row6_col2,#T_0eff8_row7_col2,#T_0eff8_row8_col2,#T_0eff8_row9_col2,#T_0eff8_row10_col2,#T_0eff8_row11_col2,#T_0eff8_row12_col2,#T_0eff8_row13_col2,#T_0eff8_row14_col2,#T_0eff8_row15_col2,#T_0eff8_row16_col2,#T_0eff8_row17_col2,#T_0eff8_row18_col2,#T_0eff8_row19_col2,#T_0eff8_row20_col2,#T_0eff8_row21_col2,#T_0eff8_row22_col2,#T_0eff8_row23_col2,#T_0eff8_row24_col2,#T_0eff8_row25_col2,#T_0eff8_row26_col2,#T_0eff8_row27_col2,#T_0eff8_row28_col2,#T_0eff8_row29_col2,#T_0eff8_row30_col2,#T_0eff8_row31_col2,#T_0eff8_row32_col2,#T_0eff8_row33_col2,#T_0eff8_row34_col2,#T_0eff8_row35_col2{\n",
       "            width:  500px;\n",
       "            length:  50px;\n",
       "        }</style><table id=\"T_0eff8_\" ><thead>    <tr>        <th class=\"blank level0\" ></th>        <th class=\"col_heading level0 col0\" >Index</th>        <th class=\"col_heading level0 col1\" >topic_id</th>        <th class=\"col_heading level0 col2\" >salient_paragraph</th>        <th class=\"col_heading level0 col3\" >probability</th>        <th class=\"col_heading level0 col4\" >porobability >= L</th>    </tr></thead><tbody>\n",
       "                <tr>\n",
       "                        <th id=\"T_0eff8_level0_row0\" class=\"row_heading level0 row0\" >0</th>\n",
       "                        <td id=\"T_0eff8_row0_col0\" class=\"data row0 col0\" >17552</td>\n",
       "                        <td id=\"T_0eff8_row0_col1\" class=\"data row0 col1\" >1</td>\n",
       "                        <td id=\"T_0eff8_row0_col2\" class=\"data row0 col2\" >4. Most clubs seem ill-prepared for enquiries from, and inclusion of, people with disabilities who wish to participate in the sport offered by the club. There is little or no support for specialist clubs who provide opportunities for sport that cannot be integrated ie wheelchair basketball or blind cricket! There is often nothing locally to support the child or their parent in accessing the specialist provision and this often involves their having to undertake extensive travel to specialist facilities or organisations catering for this group. There is poor information regarding availability etc and http://www.parasport.org.uk was established as a portal to provide pathway and provision information. The then Mayor of London published a strategy in 2007, which highlighted all these issues and to date there has been little, if any, action to redress these anomalies in London or in the rest of the country. DCSF have, in my view, shown no leadership regarding the legacy of 2012 and its impact on PE in schools and the inclusion of those with disabilities in core curriculum activities or sporting opportunities within or after school. DCMS held a legacy event in 2008 and again in April 2009 focusing on the legacy of the Games for those with disabilities. One outcome was to seek greater links between DWP, DCSF and themselves to ensure that joint strategies were developed and pathways established that enabled children to enjoy and participate in PE and sport within schools/after school clubs/integrated and specialist provision in the community, with good national talent forums and pathways established for those who wish to participate in sport at a higher level and finally, with governing bodies having clear inclusive programmes for sports men and women with disabilities active at a national and international level</td>\n",
       "                        <td id=\"T_0eff8_row0_col3\" class=\"data row0 col3\" >0.626673</td>\n",
       "                        <td id=\"T_0eff8_row0_col4\" class=\"data row0 col4\" >True</td>\n",
       "            </tr>\n",
       "            <tr>\n",
       "                        <th id=\"T_0eff8_level0_row1\" class=\"row_heading level0 row1\" >1</th>\n",
       "                        <td id=\"T_0eff8_row1_col0\" class=\"data row1 col0\" >17553</td>\n",
       "                        <td id=\"T_0eff8_row1_col1\" class=\"data row1 col1\" >1</td>\n",
       "                        <td id=\"T_0eff8_row1_col2\" class=\"data row1 col2\" >5. Integration of disabled people into mainstream sporting provision is a concept rather than a reality. Grants to organisations has largely been based on physical access, rather than actual provision of activities, coaching etc. For some it has been a tick box action, rather than an attempt to include and integrate their provision. In order to create a lasting legacy from 2012, this offer of inclusion has to be both genuine and meaningful, ie accessible facilities with no manmade barriers re attitudes, lack of coaching or energy to find solutions regarding sporting opportunities. These are all major threats to establishing a broad base of participation pyramid with hundreds of disabled people participating in sport at the base level, filtering through at representative level for club and nationally, leading on to the tip of the pyramid—international competition at Paralympic level. This pathway does not currently exist for those with a disability and therefore, a different solution needs to be found that provides a separate provision (where appropriate) and uses the mainstream provision (where appropriate)</td>\n",
       "                        <td id=\"T_0eff8_row1_col3\" class=\"data row1 col3\" >0.568920</td>\n",
       "                        <td id=\"T_0eff8_row1_col4\" class=\"data row1 col4\" >True</td>\n",
       "            </tr>\n",
       "            <tr>\n",
       "                        <th id=\"T_0eff8_level0_row2\" class=\"row_heading level0 row2\" >2</th>\n",
       "                        <td id=\"T_0eff8_row2_col0\" class=\"data row2 col0\" >1519</td>\n",
       "                        <td id=\"T_0eff8_row2_col1\" class=\"data row2 col1\" >1</td>\n",
       "                        <td id=\"T_0eff8_row2_col2\" class=\"data row2 col2\" >3. After school activities often exclude this group of children ie no possibility of inclusion in team sports such as football, cricket, rugby, basket ball etc., limited access to swimming baths, athletic fields etc. All of these sports are undertaken by people with a disability, but not now normally at school. Specialist schools did provide a massive range of sporting opportunities and sport played a major part of my own adjustment to disability. I learned about teamwork, was able to set individual goals, have competition to extend my abilities, occasionally experienced \"being a winner\" and had that thrill of competition. One example of efforts to redress this issue within a school setting is in Leeds, which has a programme of monthly sporting and physical activities arranged in school time for vision impaired children within the schools. One solution easily achieved would be for groups of schools to come together monthly to provide sporting and recreational activities for disabled children and young people within their schools</td>\n",
       "                        <td id=\"T_0eff8_row2_col3\" class=\"data row2 col3\" >0.564087</td>\n",
       "                        <td id=\"T_0eff8_row2_col4\" class=\"data row2 col4\" >True</td>\n",
       "            </tr>\n",
       "            <tr>\n",
       "                        <th id=\"T_0eff8_level0_row3\" class=\"row_heading level0 row3\" >3</th>\n",
       "                        <td id=\"T_0eff8_row3_col0\" class=\"data row3 col0\" >16542</td>\n",
       "                        <td id=\"T_0eff8_row3_col1\" class=\"data row3 col1\" >2</td>\n",
       "                        <td id=\"T_0eff8_row3_col2\" class=\"data row3 col2\" >2.3.1.1  Creative industries grow at least 1% more than the rest of the economy. [1] Music grew by 4.7% from 2007 to 2008. [2]     2.3.1.2  Creative industries more than double our investment. The contribution of music to the UK economy reached well over £3.5 billion with the arts estimated to put over £2 back into the economy for every £1 invested [2]. Over 120,000 people are employed in music. [1] In addition, consumers spent over £4 billion on music in 2000. [2]   2.3.2  Music education and effective teaching of music technology are vital to the continuing world leadership of the UK in music. The UK currently lacks the capability to take full advantage of music technology even though music technology has the ability to motivate pupils. [3] The Cultural Olympiad gives an opportunity to put music technology at the centre of Continuing Professional Development. We believe that there is an opportunity to create Cultural Olympiad music technology teachers, available to every local authority and able to provide training and continuing professional development to the current music teacher workforce</td>\n",
       "                        <td id=\"T_0eff8_row3_col3\" class=\"data row3 col3\" >0.444426</td>\n",
       "                        <td id=\"T_0eff8_row3_col4\" class=\"data row3 col4\" >True</td>\n",
       "            </tr>\n",
       "            <tr>\n",
       "                        <th id=\"T_0eff8_level0_row4\" class=\"row_heading level0 row4\" >4</th>\n",
       "                        <td id=\"T_0eff8_row4_col0\" class=\"data row4 col0\" >17588</td>\n",
       "                        <td id=\"T_0eff8_row4_col1\" class=\"data row4 col1\" >2</td>\n",
       "                        <td id=\"T_0eff8_row4_col2\" class=\"data row4 col2\" >2.2  \"Winning: a tourism strategy for 2012 and beyond\", recognises that although London and Britain are already among the world's top city and country destinations, only a very small percentage of Britain's 200,000 tourism businesses will be high up in the 2012 Games supply chain and thus have any direct engagement with the 2012 Games and their visitors and spectators (see figure 1 below). It also recognises the potential of the 2012 Games to act as a catalyst in addressing a number of critical issues which are currently limiting the potential growth of tourism into and within this country. These include the need to reach out to younger visitors and to new markets, to improve aspects and overall perceptions of Britain's welcome and to counteract potential tourism displacement effects which have proved to be a problem for previous Olympic Games host countries.</td>\n",
       "                        <td id=\"T_0eff8_row4_col3\" class=\"data row4 col3\" >0.441220</td>\n",
       "                        <td id=\"T_0eff8_row4_col4\" class=\"data row4 col4\" >True</td>\n",
       "            </tr>\n",
       "            <tr>\n",
       "                        <th id=\"T_0eff8_level0_row5\" class=\"row_heading level0 row5\" >5</th>\n",
       "                        <td id=\"T_0eff8_row5_col0\" class=\"data row5 col0\" >17650</td>\n",
       "                        <td id=\"T_0eff8_row5_col1\" class=\"data row5 col1\" >2</td>\n",
       "                        <td id=\"T_0eff8_row5_col2\" class=\"data row5 col2\" >— Of specific concern to us is the real risk that even if there is an increase in participation, this will not substantially include women. Women's participation already seriously lags behind that of men (only 12.7% of women compared to 20.6% of men participate in at least three 30 minute sessions of sport per week) and is going down while men's is going up (Active People 3 data).[10] Women are also a very different marketplace: women tend to take part in different activities, have different motivations and face some specific barriers. For this reason, it is vital that the participation legacy for 2012 should not just focus on sport, but should also include physical activity</td>\n",
       "                        <td id=\"T_0eff8_row5_col3\" class=\"data row5 col3\" >0.434702</td>\n",
       "                        <td id=\"T_0eff8_row5_col4\" class=\"data row5 col4\" >True</td>\n",
       "            </tr>\n",
       "            <tr>\n",
       "                        <th id=\"T_0eff8_level0_row6\" class=\"row_heading level0 row6\" >6</th>\n",
       "                        <td id=\"T_0eff8_row6_col0\" class=\"data row6 col0\" >3329</td>\n",
       "                        <td id=\"T_0eff8_row6_col1\" class=\"data row6 col1\" >3</td>\n",
       "                        <td id=\"T_0eff8_row6_col2\" class=\"data row6 col2\" >6 PREPARATIONS FOR THE LONDON 2012 OLyMPIC AND PARALyMPIC GAMES: PROGRESS REPORT JuNE 2008\t \t \t \t \t \t10 The start and completion dates for the construction of the main venue and infrastructure projects delivered by the Olympic Delivery Authority at the end of March 2008 compared with the milestones in the November 2007 Programme Baseline ReportProjectEnabling Works (site preparation) Power Lines under Grounding  (switchover only)   Structures, Bridges and Highways utilities Main Stadium    Aquatics Centre    VeloparkHandball/Indoor Sports ArenaBasketballInternational Broadcast Centre/ Main Press CentreOlympic Village Eton Manor (training facilities  and Paralympic events)  Broxbourne  (white water canoeing) Eton Dorney (rowing) Weymouth and Portland (sailing)construction start date November 2007  March 2008 Change in  programme  Forecast start date  baseline  (months)October 2006 October 2006 0 July 2008 July 2008 0   April 2008 April 2008 0 January 2008 January 2008 0 July 2008 May 2008 –21    September 2008 September 2008 0 March 2009 March 2009 0August 2009 June 2009 –2July 2009 November 2009 4May 2009 March 2009 –2 June 2008 May 2008 –1 March 2010 January 2010 –2   August 2008 May 2009 9  March 2009 January 2009 –2 May 2008 January 2008 –4construction end date November 2007  March 2008 Change in  programme  Forecast end date  baseline   (months)September 2009 September 2009 0 September 2008 November 2008 2   December 2011 December 2011 0 December 2011 August 2011 –4 Construction  Construction end date end dateFebruary 2011 April 2011 2Completion date  Completion date for construction  for construction and initial overlay  and initial overlay for test events for test eventsJune 2011 June 2011 0Construction  Construction end date end dateApril 2011 August 2011 4Completion date  Completion date for construction  for construction and initial overlay  and initial overlay for test events for test eventsJuly 2011 August 2011 1April 2011 February 2011 –2April 2011 March 2011 –1April 2011 April 2011 0June 2011 July 2011 1 December 2011 December 2011 0 February 2012 April 2011 –10   June 2010 October 2010 4  April 2010 July 2009 –9 February 2009 January 2009 –1Source: National Audit Office examination of actual and forecast progress against the November 2007 Programme BaselineNOTE</td>\n",
       "                        <td id=\"T_0eff8_row6_col3\" class=\"data row6 col3\" >0.570649</td>\n",
       "                        <td id=\"T_0eff8_row6_col4\" class=\"data row6 col4\" >True</td>\n",
       "            </tr>\n",
       "            <tr>\n",
       "                        <th id=\"T_0eff8_level0_row7\" class=\"row_heading level0 row7\" >7</th>\n",
       "                        <td id=\"T_0eff8_row7_col0\" class=\"data row7 col0\" >2641</td>\n",
       "                        <td id=\"T_0eff8_row7_col1\" class=\"data row7 col1\" >3</td>\n",
       "                        <td id=\"T_0eff8_row7_col2\" class=\"data row7 col2\" >main reasons for the increase in costs from the time of the bid to the budget announced in march 2007Source: National Audit Office, drawing on information from the Department for Culture, Media and SportOlympic Delivery Authority programme management costs – increased from £16 million to £570 millionAt the time of the bid, the Department based its estimate of the resources the then proposed delivery body (the Olympic Delivery Authority) would need on the model of an urban development corporation. The Olympic Delivery Authority is now expected to require a significantly higher level of resources and this, together with the need to secure the necessary expertise within the timescales of the programme, has resulted in higher programme management costs. The £570 million programme management costs (excluding VAT) comprise: n £344 million Delivery Authority staff costs and Delivery Partner costs. The Delivery Partner (cLm) is engaged on a framework basis. under this arrangement there is no commitment for ODA to use cLm and it may use other project managers or recruit directly. While they have agreed staffing requirements and base level costs to July 2008 there is no contractual commitment beyond this date. It is therefore uncertain what the division of costs between ODA and cLm will be over the duration of the programme. The average monthly number of full time equivalent staff employed by the Delivery Authority during the year to 31 march 2007 was 152</td>\n",
       "                        <td id=\"T_0eff8_row7_col3\" class=\"data row7 col3\" >0.567027</td>\n",
       "                        <td id=\"T_0eff8_row7_col4\" class=\"data row7 col4\" >True</td>\n",
       "            </tr>\n",
       "            <tr>\n",
       "                        <th id=\"T_0eff8_level0_row8\" class=\"row_heading level0 row8\" >8</th>\n",
       "                        <td id=\"T_0eff8_row8_col0\" class=\"data row8 col0\" >3288</td>\n",
       "                        <td id=\"T_0eff8_row8_col1\" class=\"data row8 col1\" >3</td>\n",
       "                        <td id=\"T_0eff8_row8_col2\" class=\"data row8 col2\" >Progress made on the Olympic Delivery Authority’s construction programme3.2 The majority of the Authority’s spending will be on developing the Olympic Park, some 500 acres of previously used and contaminated land in the Lower Lea Valley in East London where access is severely limited by existing roads, railways and waterways. The preparation of the Olympic Park site and the procurement of the main construction contractors for the venues and infrastructure started in earnest in mid-2006. As plans for the design and layout of the Olympic Park have been firmed up, and stakeholders have provided more information on their requirements, the Authority has continually reviewed its plans for delivering the venues and infrastructure for the Games. In November 2007 the Authority produced the Programme Baseline Report which details the activities which are critical to the successful completion of its delivery programme, sets out the scope, expected costs, cash flow, risks and key milestones for individual projects, and is the baseline against which progress will be reported for the life of the programme (we comment on development of the Programme Baseline Report in paragraphs 2.11 to 2.14)</td>\n",
       "                        <td id=\"T_0eff8_row8_col3\" class=\"data row8 col3\" >0.548697</td>\n",
       "                        <td id=\"T_0eff8_row8_col4\" class=\"data row8 col4\" >True</td>\n",
       "            </tr>\n",
       "            <tr>\n",
       "                        <th id=\"T_0eff8_level0_row9\" class=\"row_heading level0 row9\" >9</th>\n",
       "                        <td id=\"T_0eff8_row9_col0\" class=\"data row9 col0\" >3639</td>\n",
       "                        <td id=\"T_0eff8_row9_col1\" class=\"data row9 col1\" >4</td>\n",
       "                        <td id=\"T_0eff8_row9_col2\" class=\"data row9 col2\" >4 UK Sport’s ‘ultimate goals’ for medal success at the London 2012 Games will require a step change in performance amongst elite athletes. The achievements of athletes at recent elite international events in a number of sports, including sailing, cycling, rowing, boxing, disability equestrian and disability shooting, suggest that performance levels in some sports are already improving significantly. Following increased spending on elite sport, host nations can typically expect to win an extra six or seven gold medals at an Olympic Games and to win medals across a wider range of sports. This ‘host nation effect’ would not in itself be enough to deliver UK Sport’s Olympic goal, which is likely to require an improvement of eight or nine gold medals over the Great Britain team’s performance at the Athens Games in 2004 if the relative performance of other nations remained the same. Changes in the performance of other nations since 2004, especially in the context of a general trend of increased spending on elite sport, sometimes referred to as a ‘global sporting arms race’, may also have implications for UK Sport in delivering its medal aspirations</td>\n",
       "                        <td id=\"T_0eff8_row9_col3\" class=\"data row9 col3\" >0.546636</td>\n",
       "                        <td id=\"T_0eff8_row9_col4\" class=\"data row9 col4\" >True</td>\n",
       "            </tr>\n",
       "            <tr>\n",
       "                        <th id=\"T_0eff8_level0_row10\" class=\"row_heading level0 row10\" >10</th>\n",
       "                        <td id=\"T_0eff8_row10_col0\" class=\"data row10 col0\" >3798</td>\n",
       "                        <td id=\"T_0eff8_row10_col1\" class=\"data row10 col1\" >4</td>\n",
       "                        <td id=\"T_0eff8_row10_col2\" class=\"data row10 col2\" >UK Sport will set targets for the  London 2012 Games following a review of performance at the  Beijing 2008 Games and in the  light of available funding 3.4 In its funding submission for 2012, UK Sport referred to an ‘ultimate goal of finishing fourth in the 2012 Olympics’, though the published funding agreement between the Department and UK Sport at that time, set before the London games were secured, said that the target was fifth. When questioned by the Committee of Public Accounts in March 2006, both the Department and UK Sport maintained there was no target. They attributed the confusion to their inappropriate use of the term “target”, and agreed that various published documents had confused long term aims and specific, measurable, agreed and resourced targets. The Committee recommended that “performance expectations need to be unambiguous and clearly explicable”. They also recommended that, in the knowledge of the resources available to it in the run up to London 2012, UK Sport should decide its medal table targets for 2012, which should be reflected in the targets it agreed with individual sports and reviewed in the light of performance at the Beijing 2008 Games</td>\n",
       "                        <td id=\"T_0eff8_row10_col3\" class=\"data row10 col3\" >0.527726</td>\n",
       "                        <td id=\"T_0eff8_row10_col4\" class=\"data row10 col4\" >True</td>\n",
       "            </tr>\n",
       "            <tr>\n",
       "                        <th id=\"T_0eff8_level0_row11\" class=\"row_heading level0 row11\" >11</th>\n",
       "                        <td id=\"T_0eff8_row11_col0\" class=\"data row11 col0\" >3817</td>\n",
       "                        <td id=\"T_0eff8_row11_col1\" class=\"data row11 col1\" >4</td>\n",
       "                        <td id=\"T_0eff8_row11_col2\" class=\"data row11 col2\" >.17 As set out in paragraph 3.9, the Department measures UK Sport’s performance by setting a medal target at 75 per cent of the aggregate of the targets set by UK Sport for individual sports. This adjustment primarily reflects the proportion of medals relative to the targets that the Great Britain team has won at recent Olympic Games:n at the Sydney 2000 Games the Great Britain team won 28 Olympic medals against a target of  38 medals (74 per cent) and 131 Paralympic medals against a target of 145 medals (90 per cent); and n at the Athens 2004 Games, the Great Britain team won 30 Olympic medals against a target of  39 medals (77 per cent) and 94 Paralympic medals against a target of 110 medals (85 per cent)</td>\n",
       "                        <td id=\"T_0eff8_row11_col3\" class=\"data row11 col3\" >0.523479</td>\n",
       "                        <td id=\"T_0eff8_row11_col4\" class=\"data row11 col4\" >True</td>\n",
       "            </tr>\n",
       "            <tr>\n",
       "                        <th id=\"T_0eff8_level0_row12\" class=\"row_heading level0 row12\" >12</th>\n",
       "                        <td id=\"T_0eff8_row12_col0\" class=\"data row12 col0\" >4954</td>\n",
       "                        <td id=\"T_0eff8_row12_col1\" class=\"data row12 col1\" >5</td>\n",
       "                        <td id=\"T_0eff8_row12_col2\" class=\"data row12 col2\" >Stratford is a huge churn. We have done research into the nature of the flats that have gone up around Stratford—the better end—and they are being rented by people who work and basically it is a place to sleep and they go out and do other things, which is what people do when they are young and that is fine. What we could easily end up with is what we have ended up with elsewhere in the borough, which is a desert, with people not interested in the community and so we have a bunch of social tenants in there—not huge numbers—and no real community. I think we have to have a proper debate and discussion around what will happen with the rest of the housing. Ideally we want people who live there to buy and then continue to have an interest in the community. So any discussion about the Village I would argue needs to start with what happens to the private sector area because this has to work; if it does not work it can damage the rest of the Olympic area and the Olympic Park. We are now arguing, for example, for a Royal Park because we think that that will raise the whole standard of the area and people will get some sense of a better place, a place where it is really good to live. The OPLC understands that it needs to get housing and family housing and not just blocks of flats, so starting with that. Then you get to this question about what would the nature of the allocations be and we are about to have a big discussion with various partners where we talk about who would we move in. Certainly from a Newham point of view—because the Village is in Newham—we took a court case which opposed housing by need and were successful in turning the policy around, and the Government has now introduced a policy which would allow us to support people who are working into social housing because our view would tend to be if you have a low rent that is a great benefit if you are working and on a lower income, but if you are on benefit that is not much of a benefit at all. We are certainly at the moment having a discussion around allocations policy and there are plans to have it. We need to make the community work—start off with the community. I get very frustrated when I hear people talk about \"units\"; talk about the community that you are trying to create and how that will look. If we want to have this as a place that people want to live in in 100 years' time the community has to work. To do that you do not then take, for example, social housing for everybody that is not working together because we have evidence that that does not work, so if it does not work perhaps we should stop trying to do it. The nature of the allocation as to who moves in there is, I think, up for debate at the moment and all the people involved are willing to look at that in a radical way that will enable us to build a community there. But I will come back again, you can do that in the social and affordable rent side, what about the rented properties that you will end up with? People will invest and buy chunks off the plan and they will end up with a lot of people that do not necessarily spend a lot of time there. For me it is a very clear thing, this should be the responsibility of the OPLC, it should not be the responsibility of the ODA and the ODA should be handing over that responsibility to the OPLC tomorrow because the ODA has no locus or interest there. It is not that they are doing badly because these guys have built an Olympic site on time and on budget, they are doing a really good job from the point of view of doing what they were asked to do, but they will not be there after 2014 and we will. The OPLC should be the people who are actually involved in the Village now. I am very clear about that</td>\n",
       "                        <td id=\"T_0eff8_row12_col3\" class=\"data row12 col3\" >0.560360</td>\n",
       "                        <td id=\"T_0eff8_row12_col4\" class=\"data row12 col4\" >True</td>\n",
       "            </tr>\n",
       "            <tr>\n",
       "                        <th id=\"T_0eff8_level0_row13\" class=\"row_heading level0 row13\" >13</th>\n",
       "                        <td id=\"T_0eff8_row13_col0\" class=\"data row13 col0\" >4943</td>\n",
       "                        <td id=\"T_0eff8_row13_col1\" class=\"data row13 col1\" >5</td>\n",
       "                        <td id=\"T_0eff8_row13_col2\" class=\"data row13 col2\" >00,000 square feet, you have the Broadcast Centre which, again, is very well connected in terms of power and Internet connectivity, again, good for the latest approaches to production, whether it be broadcast production or any kind of creative media industries that rely on high power and digital connections, which has seen the industry move from having its heart in Soho over the years—where you cannot get the power to run the air conditioning and the servers and the Internet connectivity not being so good—to Shoreditch and benefiting from cheaper warehouse-type accommodation and the bandwidth afforded by the City of London being adjacent to that. Now prices are rising there and more of those warehouses are being turned into lofts and prices are rising and bandwidth is being constrained and not so much investment is going in there or, if it is, it is to maintain that for the City and not spare bandwidth that they can use sending films and recordings and stuff backwards and forward between here and the West Coast of America so, again, they need somewhere new. I think that there is an issue about how attractive the Broadcast Centre is as a building and so there will be a big issue for the Legacy Company (OPLC) to make that an attractive place which is going to be appealing to media professionals. Often it has been somewhat, I would say, disparagingly termed a \"big tin shed\", and undoubtedly that is what it is, but actually big large spaces are what some of these companies need. The fact that there is good transport access, Internet power and all that stuff has the potential to be a really good offer. I do not want to take up the Committee's time but the OPLC now, it is great that that has been formed and it is up and running because what has been lacking is someone—other than the boroughs—who really has the power and the control to market that building because it is never really the ODA's job because they are gone after 2014 so filling it is not really their responsibility and never has been. The tenants that you would want in there—or even the tenants you do not want in there—no potential tenant was going to sign in 2006-07 for a building that they could not occupy until 2014 and beyond, and unfortunately that was often portrayed as no-one is interested. I would not be surprised if no-one was interested—it was six or seven years out and no one even knew what the building was going to look like inside or out. I would think that we should be getting worried by about 2012 if still two to three years out from occupation no-one has expressed an interest, that is when I think we should be worried. Here at 2010 now I think is when we should be generating interest for people to occupy it</td>\n",
       "                        <td id=\"T_0eff8_row13_col3\" class=\"data row13 col3\" >0.557435</td>\n",
       "                        <td id=\"T_0eff8_row13_col4\" class=\"data row13 col4\" >True</td>\n",
       "            </tr>\n",
       "            <tr>\n",
       "                        <th id=\"T_0eff8_level0_row14\" class=\"row_heading level0 row14\" >14</th>\n",
       "                        <td id=\"T_0eff8_row14_col0\" class=\"data row14 col0\" >4654</td>\n",
       "                        <td id=\"T_0eff8_row14_col1\" class=\"data row14 col1\" >5</td>\n",
       "                        <td id=\"T_0eff8_row14_col2\" class=\"data row14 col2\" >Mr Deighton: I think the first thing is in the next one and a half years or so anybody presenting themselves as selling new tickets we want to make quite clear to the general public that cannot be possible, because tickets only go on sale in 2011. Any attempt by anybody—and this is something I think we would like the Committee's help on—if you are hearing about this in your constituencies where they think they are being offered tickets, let us know; we are trying to be as public as possible saying, \"Anything that happens pre-2011 before our formal ticket launch can't be possible\". Anyone trying to do that is effectively trying to take advantage of the public. I think that is the first thing. Secondly, of course, with Olympic tickets, like Premier League tickets, the law is very, very clear; they cannot be resold at a profit. We will be working with the police to follow up on any instances where we think that is happening; whether it is tracking it down on the internet, or whether it is happening in practice. I think the other thing that is really important, as I suggested earlier, we are very keen in our business plan for ticketing to make sure that we get those tickets initially into the hands of the people who most want them, so the opportunity to create this kind of secondary market is as limited as possible. That is why we are really building a very carefully constructed book for each sport, so once those guys have got that ticket it is not going to come back onto the market. If they do want to resell the ticket, we have a plan to develop a London 2012 ticket exchange so they will be able to resell it through us, so they will have no excuse. For whatever reason they cannot go, we will be able to resell it for them; not at a profit but we will be able to take care of their original purchase price. That again is a small facility which should constrain the supply of potential tickets that could represent a touting risk if not controlled</td>\n",
       "                        <td id=\"T_0eff8_row14_col3\" class=\"data row14 col3\" >0.548962</td>\n",
       "                        <td id=\"T_0eff8_row14_col4\" class=\"data row14 col4\" >True</td>\n",
       "            </tr>\n",
       "            <tr>\n",
       "                        <th id=\"T_0eff8_level0_row15\" class=\"row_heading level0 row15\" >15</th>\n",
       "                        <td id=\"T_0eff8_row15_col0\" class=\"data row15 col0\" >454</td>\n",
       "                        <td id=\"T_0eff8_row15_col1\" class=\"data row15 col1\" >6</td>\n",
       "                        <td id=\"T_0eff8_row15_col2\" class=\"data row15 col2\" >The Committee suspended from 4.09 pm to 4.23 pm for a division in the House Alan Keen   202. I did not get to the end of the question at the beginning but the point I am making is that because we have to have a village and all the events have to be in that area it adds costs to hosting the Olympics, I reckon at least half a billion and probably a billion. If we could spread them round the country—and I went to Japan for the World Cup and the atmosphere was brilliant. We went to different places—more people could get to see it. If we could do that with the Olympics, the point I am really asking you is that it is difficult for the Government. The Minister and the Secretary of State are going to see the President of the IOC on Friday. It will not do our bid any good if they go there telling them how they should organise the Olympic Games in the future. I am really asking you as the main channellers of funding in sport in this country, will you make these representations that the Olympics, just for the sake of having 18,000 athletes in one village, which is very nice, although it is not so nice for those whose event comes on the last day and they want a party—we could save somewhere between half a billion and a billion pounds by using facilities we have got around the country now. The athletics could be at Wembley as they were supposed to be. The football could be at the main stadium and spread around the country as it is going to be in fact. What I am saying is that instead of having the athletes all together in one village for the three weeks of the Olympics, we could put a party on for them and they could stay for a week after the Olympics when they could all get drunk if that is what they do. I think somebody needs to go to the IOC and put this point to them. We have been taking evidence from people in the last couple of days and there are tremendous difficulties. There would hardly be a difficulty if we could use stadia around the country and we did not have to have the village. It is the village that causes all the problems that we are facing now</td>\n",
       "                        <td id=\"T_0eff8_row15_col3\" class=\"data row15 col3\" >0.568952</td>\n",
       "                        <td id=\"T_0eff8_row15_col4\" class=\"data row15 col4\" >True</td>\n",
       "            </tr>\n",
       "            <tr>\n",
       "                        <th id=\"T_0eff8_level0_row16\" class=\"row_heading level0 row16\" >16</th>\n",
       "                        <td id=\"T_0eff8_row16_col0\" class=\"data row16 col0\" >5</td>\n",
       "                        <td id=\"T_0eff8_row16_col1\" class=\"data row16 col1\" >6</td>\n",
       "                        <td id=\"T_0eff8_row16_col2\" class=\"data row16 col2\" >Work had been done before I arrived, but it was a different stage of work from what we need to do today—and I shall go into that in a moment. The bid itself was in the Arup report and the DCMS report and was at a very high level. We are now starting from the bottom up as opposed to the top down and that is why, when I go on to tell you a bit more about what we are doing, you will see it is very detail oriented. We are in a competitive process and that is something I have to keep repeating, not just to you, but to myself and to everyone we work with. There are nine of us going for the Games. This is not simply a case of saying that if we do it well, if we tick all the boxes, we will win. That is not the case. I do believe though that when you live in a world class city, going up against other world class cities creates a worthy competition. We really are going for the world championships of the Olympics in this bid. Never before have there been so many world class cities going for the bid, which is why I am approaching it in the way that I am. I also have begun to understand the IOC and have been very encouraged by the early pronouncements and my early brushes with the organisation. They are trying to change the nature of the Games, they are trying to change the nature of bidding. There have been some issues in the past which we know about and they want to transform the organisation, both from the way they work but also in what they ask us to do to prepare a bid. They insist upon the legacy issues for each venue being thought through. They are eager to make the Games more contained; they do not want them to grow ever bigger and bigger. Those are all issues which I believe work in favour of a bid like London, because we too, because we live in a cosmopolitan democratic country, will have lots of people with competing interests and we must be efficient and we must do the right thing for the people in sport and for the country. The early feedback I received from the IOC members when I went to the meeting in Prague was very positive. It was a bit open, in the sense that they are very open to understanding what we are doing, but very positive that we have a chance to win and that was important to me. What have we accomplished in the first six weeks? The first priority deadline that we all need to keep in mind is 15 January. We need to submit our applicant questionnaire by 15 January. It is a deceptively simple document which actually requires quite a lot of work underneath it. We have to answer some very simple questions about the venues and how we will be approaching the Games and where they will be, etcetera. In order to complete that questionnaire and to move through into the next stage—and we will hear on that sometime early next spring—we are undertaking a number of pieces of work. We are building the team. I have spent more of my time on interviewing people and hiring people than on anything else up to now. I have hired a combination of people with sporting experience and people with Olympic experience and people who come from business. My chief operating officer, whom I hired about a week ago, starts next week and he is a guy called Mike Power. He spent 32 years at Proctor and Gamble, worked all over the world, Japan, Germany, the US and Britain and he will bring a tremendous amount of organisational skill, structure, ability to work with complex projects and deliver. He has a background of that. Mike will be a tremendous asset. Roger Jackson and Dick Palmer are both Olympic experts; they are working right now on the technical bid. They are people who understand the ins and outs of what the International Olympic Committee want and ultimately they are the group we need to satisfy. David Magliano has joined me as the director of marketing. He has a track record in building brands and in creating exciting communications around ideas and that is precisely what we need. I am still in the middle of the search for the chief executive. I have interviewed about ten or so people. I have a group of executive search people who have probably interviewed 20 people, but it is important we find the right person. I am confident that I will do so very shortly. I should love to sit here today and have him or her beside me, but I am still in the middle of that process</td>\n",
       "                        <td id=\"T_0eff8_row16_col3\" class=\"data row16 col3\" >0.523737</td>\n",
       "                        <td id=\"T_0eff8_row16_col4\" class=\"data row16 col4\" >True</td>\n",
       "            </tr>\n",
       "            <tr>\n",
       "                        <th id=\"T_0eff8_level0_row17\" class=\"row_heading level0 row17\" >17</th>\n",
       "                        <td id=\"T_0eff8_row17_col0\" class=\"data row17 col0\" >287</td>\n",
       "                        <td id=\"T_0eff8_row17_col1\" class=\"data row17 col1\" >6</td>\n",
       "                        <td id=\"T_0eff8_row17_col2\" class=\"data row17 col2\" >He said it means such a lot to the athletes to live in one village. On the other hand, the alternative to that, I reckon, and maybe you can help, that it must cost £½ billion in order to have 18,000 athletes living in a village for three weeks, the alternative is to spread it around the country. Steve said you could have what would be like a world championships where it is spread around the country rather than have 18,000 athletes living in one village. Because we want them all to live in one village for three weeks and to build a stadium, it is going to cost what, £300 million at least, and then it would be handed over or given to a football club which maybe does not even want it. We perhaps could save £½ billion, and as you are going to see the IOC on Friday, it is an ideal time to talk about it, but we could save £½ billion by having the events spread around the country and we would not then have to build the stadium because we could have the athletics in Wembley Stadium, for instance, and £18 million is the last estimate we have had to put in the metal framing to reduce the seating and make an area big enough for athletics. We have already given £20 million to the FA which you cannot take back from them now. We have given £20 million in order to make it compatible for athletics, and events could also be held around the whole country and we would save £½ billion. If you said to the athletes, \"Look, instead of living in a village, we could give you £27,000 each\", that would still come to £½ billion, which is a lot of money, so it is costing every nation every four years and it is costing taxpayers and kids who would get that money for sports equipment and facilities, and I reckon it is at least £½ billion we would save by spreading it around the country and this is every four years. Because the IOC is such an undemocratic organisation, nobody can put these points and they do not have to answer to anybody. You are going to see them on Friday and you are not in a position to say, \"Look, I think you should do this\", because if you take a hard line, they are going to say, \"Right, you might as well not even bid because you are not getting the Games\". It is an undemocratic organisation, so it is hard to get these changes put forward, so I think you have a job, but I hope you will try to convince me that it is not costing us £½ billion</td>\n",
       "                        <td id=\"T_0eff8_row17_col3\" class=\"data row17 col3\" >0.522565</td>\n",
       "                        <td id=\"T_0eff8_row17_col4\" class=\"data row17 col4\" >True</td>\n",
       "            </tr>\n",
       "            <tr>\n",
       "                        <th id=\"T_0eff8_level0_row18\" class=\"row_heading level0 row18\" >18</th>\n",
       "                        <td id=\"T_0eff8_row18_col0\" class=\"data row18 col0\" >16483</td>\n",
       "                        <td id=\"T_0eff8_row18_col1\" class=\"data row18 col1\" >7</td>\n",
       "                        <td id=\"T_0eff8_row18_col2\" class=\"data row18 col2\" >4.1  The aim is that in the next 20 years, residents in the host boroughs will equal the London average in a range of the life indicators which you would expect to find in a successful community: — employment rates will increase to the London average; — average incomes in the bottom two fifths of earners in the host borough area will be increased to the London average; — young people in the host borough area will have improved GCSE results to at least the London average; — host borough 11 year olds will have at least the same educational attainment as the London average; — the number of families in receipt of benefits in the host boroughs area will fall to no more than the London average; — the rate of violent crime will continue to fall and reflect the London average; and — residents in the host boroughs area, particularly men, will have increased life expectancy to the London average</td>\n",
       "                        <td id=\"T_0eff8_row18_col3\" class=\"data row18 col3\" >0.500009</td>\n",
       "                        <td id=\"T_0eff8_row18_col4\" class=\"data row18 col4\" >True</td>\n",
       "            </tr>\n",
       "            <tr>\n",
       "                        <th id=\"T_0eff8_level0_row19\" class=\"row_heading level0 row19\" >19</th>\n",
       "                        <td id=\"T_0eff8_row19_col0\" class=\"data row19 col0\" >17005</td>\n",
       "                        <td id=\"T_0eff8_row19_col1\" class=\"data row19 col1\" >7</td>\n",
       "                        <td id=\"T_0eff8_row19_col2\" class=\"data row19 col2\" >10.  The Olympic Park Legacy Company's strategic objectives, as set by its Founders cover: — assisting the Government and the Mayor of London in fulfilling some of the legacy promises made in the bid to host the London 2012 Olympic and Paralympic Games; — securing the timely development of the Olympic Park site as a high quality and sustainable mixed community; — promoting social, economic and environmental benefits for local communities; — securing the long term development and management of the Olympic Park site and venues in ways which provide lasting national and local sporting, cultural, education and leisure benefits and which preserve the site's Olympic heritage; — working with partners to contribute to long-term economic growth and prosperity in the wider area; — levering in private investment to maximise and provide best value for the public purse; and — promoting sustainable development, community involvement and equality of opportunity</td>\n",
       "                        <td id=\"T_0eff8_row19_col3\" class=\"data row19 col3\" >0.490262</td>\n",
       "                        <td id=\"T_0eff8_row19_col4\" class=\"data row19 col4\" >True</td>\n",
       "            </tr>\n",
       "            <tr>\n",
       "                        <th id=\"T_0eff8_level0_row20\" class=\"row_heading level0 row20\" >20</th>\n",
       "                        <td id=\"T_0eff8_row20_col0\" class=\"data row20 col0\" >4538</td>\n",
       "                        <td id=\"T_0eff8_row20_col1\" class=\"data row20 col1\" >7</td>\n",
       "                        <td id=\"T_0eff8_row20_col2\" class=\"data row20 col2\" >.2.8Sub-objectiveMaximise the economic, social, health and environmental benefits the Games bring to the UK and all sections of the UK populationMaximise the employment and skills benefits for the UK arising from Games-related businessMaximise the wider economic benefits of the Games across the UK, including those for tourism and business promotionMaximise cultural benefits from hosting the Games and the Cultural OlympiadMaximise social benefits, including in health, education and volunteering, of hosting the GamesEnsure that the Games contribute to Sustainable Communities priorities, including the wider Thames GatewayAgree and promote sustainable development and procurement policies, including commitments to sustainable energy and waste management goalsPromote positive images of the UK to an international audienceEnsure the UK’s diverse communities are engaged with, and benefit from, the changes and opportunities arising from hosting the Games in the UKMaximise the economic, social, health and environmental benefits the Games bring to London and all LondonersMaximise the employment and skills benefits for Londoners arising from Games-related businessMaximise the wider economic benefits of the Games to London, including those for tourism and business promotionMaximise cultural benefits to Londoners from hosting the Games and the Cultural OlympiadMaximise social benefits to Londoners, including in health, education and volunteering, of hosting the GamesEnsure that the Games contribute to Sustainable Communities priorities, including the London Thames GatewayAgree and promote sustainable development and procurement policies, including commitments to sustainable energy and waste management goalsPromote London’s image as a leading world city to an international audienceEnsure London’s diverse communities are engaged with, and benefit from, the changes and opportunities arising from hosting the Games in LondonAPPENDIX FIVE</td>\n",
       "                        <td id=\"T_0eff8_row20_col3\" class=\"data row20 col3\" >0.485648</td>\n",
       "                        <td id=\"T_0eff8_row20_col4\" class=\"data row20 col4\" >True</td>\n",
       "            </tr>\n",
       "            <tr>\n",
       "                        <th id=\"T_0eff8_level0_row21\" class=\"row_heading level0 row21\" >21</th>\n",
       "                        <td id=\"T_0eff8_row21_col0\" class=\"data row21 col0\" >8304</td>\n",
       "                        <td id=\"T_0eff8_row21_col1\" class=\"data row21 col1\" >8</td>\n",
       "                        <td id=\"T_0eff8_row21_col2\" class=\"data row21 col2\" >You think that the assessment of risks is our best estimate of the most likely outcome of the budget as a whole. But actually the assessment of risk-and how we have compiled it-is this: we have not sought to estimate how likely it is that every risk arises. We just said, \"Let us think about every risk that could arise, and let us assume that they all arise and work out the likely cost of them all arising.\" On top of that, we said, \"And there will be some risks that we just cannot think about that are unknown unknowns. There will be some multiple consequentials if everything came together.\" So we end up with an estimate not of the most likely cost of the project, which is what the burden of paragraph 1 of the PAC Report understands it is, but an estimate of how much we would need to set aside in the very unlikely event that all risks arise and some more unknown risks arise as well. The purpose of that is not to get to an estimate of the likely outcome of the budget. Its purpose and why we do it is to see, against any reasonable view of the likely risk that might arise, even on an assumption that they all arise and some more unknown risks arise, whether we have enough money. The conclusion has always been, yes, we had. Against what is therefore, in my view, a conservative and prudent estimate, we had £36 million headroom at the time of the NAO Report. We had more, and indeed the picture over the six-month period since the original figures on which the NAO was recording this, is that the contingency has gone down by £27 million or so-we reckon, because these are provisional figures, but I want to give our best figures-and the assessed risks on that very conservative and prudent basis have gone down by £136 million. So the picture on the budget as a whole is that we are spending contingency significantly slower than risks are disappearing from the programme. That is why, without in any sense being complacent, I am confident that we will bring this in within budget, and I do not think that the budget is close to being used up</td>\n",
       "                        <td id=\"T_0eff8_row21_col3\" class=\"data row21 col3\" >0.656630</td>\n",
       "                        <td id=\"T_0eff8_row21_col4\" class=\"data row21 col4\" >True</td>\n",
       "            </tr>\n",
       "            <tr>\n",
       "                        <th id=\"T_0eff8_level0_row22\" class=\"row_heading level0 row22\" >22</th>\n",
       "                        <td id=\"T_0eff8_row22_col0\" class=\"data row22 col0\" >8388</td>\n",
       "                        <td id=\"T_0eff8_row22_col1\" class=\"data row22 col1\" >8</td>\n",
       "                        <td id=\"T_0eff8_row22_col2\" class=\"data row22 col2\" >Jonathan Stephens: There are two aspects to risk: likelihood and impact. What we are saying is that we made no estimate of likelihood, we just wrote in a 100% likelihood of all the risks we could think of and some unknown risks that we could not think of. We then looked at impact, and on impact we said, \"If this risk were to materialise-we are assuming a 100% likelihood that it materialises-what is the likely cost?\" That is where you get the low, the most likely outcome and the high outcome. When you add those together, you do not get to an outcome of, \"What is the most likely expenditure on the programme?\"; you get to an outcome of, \"If all conceivable risks arise, plus some unknown risks that we cannot identify, what is the likely expenditure?\" That is a conservative and prudent view of, \"Do we have enough contingency left, if all those risks arise?\" In practice, they won’t all arise. It is conceivable that some will arise, but it is pretty unlikely that all of them will arise. It is perfectly conceivable that some individual risk will arise at a higher estimate than the most likely estimate, but the prospect of all those risks arising is unlikely. The prospect of them all arising at the very highest possible cost is so unlikely as to not provide a good basis for planning. I am sorry. I am going on at some length, but there is a real point</td>\n",
       "                        <td id=\"T_0eff8_row22_col3\" class=\"data row22 col3\" >0.578037</td>\n",
       "                        <td id=\"T_0eff8_row22_col4\" class=\"data row22 col4\" >True</td>\n",
       "            </tr>\n",
       "            <tr>\n",
       "                        <th id=\"T_0eff8_level0_row23\" class=\"row_heading level0 row23\" >23</th>\n",
       "                        <td id=\"T_0eff8_row23_col0\" class=\"data row23 col0\" >8320</td>\n",
       "                        <td id=\"T_0eff8_row23_col1\" class=\"data row23 col1\" >8</td>\n",
       "                        <td id=\"T_0eff8_row23_col2\" class=\"data row23 col2\" >Jonathan Stephens: No, what I am saying is that we have tried to identify all possible risks that we can think of. We have then said, what impact do they have? What is the range? The high, medium and low, the medium being the most likely. If that risk materialises, what is the most likely outcome? You might then also say, having identified all your risks, how likely is it that each one materialises? That would then lead you to something that could be, as the Committee’s Report refers to it, characterised as \"the most likely expenditure\". But I am just trying to be clear. I suspect we haven’t explained it clearly enough, but there is a real important point at the bottom of it: that is not what we did. We said we will just assume all the risk materialised. We will not try to estimate which one is more likely to materialise and which one isn’t, and what sort of percentage figure to put against it. We will just assume they will all materialise, and put in the most likely cost if it does materialise to get to a conservative and prudent</td>\n",
       "                        <td id=\"T_0eff8_row23_col3\" class=\"data row23 col3\" >0.499695</td>\n",
       "                        <td id=\"T_0eff8_row23_col4\" class=\"data row23 col4\" >True</td>\n",
       "            </tr>\n",
       "            <tr>\n",
       "                        <th id=\"T_0eff8_level0_row24\" class=\"row_heading level0 row24\" >24</th>\n",
       "                        <td id=\"T_0eff8_row24_col0\" class=\"data row24 col0\" >355</td>\n",
       "                        <td id=\"T_0eff8_row24_col1\" class=\"data row24 col1\" >9</td>\n",
       "                        <td id=\"T_0eff8_row24_col2\" class=\"data row24 col2\" >(Mr Walder) The other major significant infrastructure investment that would be made on the transport side is the Channel Tunnel Rail Link. That project is scheduled for completion by 2007. In both the case of the Jubilee Line and the case of CTRL you are not putting yourself in a position where you are backed up against the wall in terms of completing those projects on time to be ready for the Olympic Games. The site that has been selected benefits from four tube lines, two national rail lines and the Docklands Light Railway. That is a very very significant transport capacity. Overall, when you look at the entire system, the Olympic Games would add about 1% to the daily transport flows that we deal with in London, a range, as you point out this morning, that the system has to accommodate on a fairly regular basis. The real issue in terms of transport is not the delivery of these major projects, the real issue is the concentration of activity in a very small area. That will likely necessitate some improvements, like station improvements at Stratford station, but that is nowhere near the complexity of the other items that you have mentioned.</td>\n",
       "                        <td id=\"T_0eff8_row24_col3\" class=\"data row24 col3\" >0.467950</td>\n",
       "                        <td id=\"T_0eff8_row24_col4\" class=\"data row24 col4\" >True</td>\n",
       "            </tr>\n",
       "            <tr>\n",
       "                        <th id=\"T_0eff8_level0_row25\" class=\"row_heading level0 row25\" >25</th>\n",
       "                        <td id=\"T_0eff8_row25_col0\" class=\"data row25 col0\" >16021</td>\n",
       "                        <td id=\"T_0eff8_row25_col1\" class=\"data row25 col1\" >9</td>\n",
       "                        <td id=\"T_0eff8_row25_col2\" class=\"data row25 col2\" >14. Whichever methodology is adopted a full appraisal of the project also requires an allowance to be made for wider quantifiable economic benefits. To produce an initial estimate in inflated prices we have taken the Arup case tourism assumed benefits as well as the Arup base case fiscal and employment benefits and inflated these figures. We have also assumed, a boost to exports after the Games of £0.5 billion in 2002 prices. Finally we have assumed that investment in tourism would be zero. Wider benefits in inflated prices using this initial analysis indicate a figure of £2.24 billion</td>\n",
       "                        <td id=\"T_0eff8_row25_col3\" class=\"data row25 col3\" >0.440072</td>\n",
       "                        <td id=\"T_0eff8_row25_col4\" class=\"data row25 col4\" >True</td>\n",
       "            </tr>\n",
       "            <tr>\n",
       "                        <th id=\"T_0eff8_level0_row26\" class=\"row_heading level0 row26\" >26</th>\n",
       "                        <td id=\"T_0eff8_row26_col0\" class=\"data row26 col0\" >16001</td>\n",
       "                        <td id=\"T_0eff8_row26_col1\" class=\"data row26 col1\" >9</td>\n",
       "                        <td id=\"T_0eff8_row26_col2\" class=\"data row26 col2\" >4. Our land and infrastructure cost and revenue projections were based upon current experience of the costs of construction of facilities in the UK, supported on land costs and revenues by the real estate market knowledge of Insignia Richard Ellis. Our staging cost and revenue estimates drew upon a range of sources including recent previous bids from European cities such as Paris for 2008 and the outturn cost and revenues from the Sydney 2000 Olympics. Where appropriate we based our staging cost and revenue projections upon Sydney</td>\n",
       "                        <td id=\"T_0eff8_row26_col3\" class=\"data row26 col3\" >0.434756</td>\n",
       "                        <td id=\"T_0eff8_row26_col4\" class=\"data row26 col4\" >True</td>\n",
       "            </tr>\n",
       "            <tr>\n",
       "                        <th id=\"T_0eff8_level0_row27\" class=\"row_heading level0 row27\" >27</th>\n",
       "                        <td id=\"T_0eff8_row27_col0\" class=\"data row27 col0\" >12700</td>\n",
       "                        <td id=\"T_0eff8_row27_col1\" class=\"data row27 col1\" >10</td>\n",
       "                        <td id=\"T_0eff8_row27_col2\" class=\"data row27 col2\" >2. British Cycling told us that the cycling facilities at the Velopark had “the potential to be absolutely world-class” and that they “should be the very best anywhere in the world”.152 There has nonetheless been a certain amount of controversy about the extent to which the Velopark will offer a suitable replacement for off-road facilities at the former Eastway Circuit, lost when land was assembled by the LDA for incorporation into the Olympic Park. The design currently proposed by the ODA for the Velopark offers most of the facilities previously available at Eastway, albeit in a more fragmented layout. British Cycling, despite being supportive of the proposed design for use during the Games and despite anticipating that, after the Games, the Velopark will “provide a boost for cycling”,153 initially lodged objections to the relevant planning applications on the grounds that they did “not provide an adequate or comparable replacement for the road and off-road facilities provided to cycling on the Eastway Circuit”. British Cycling is now satisfied that the ODA has taken on board its concerns and that current plans for the Velopark offer an acceptable replacement for Eastway. The Eastway Users Group, which has campaigned for off-road cycling facilities in the Velopark in legacy mode, remains frustrated by the uncertainty about future provision, and it has pointed out to us that facilities at Eastway closed before the ODA or LDA had provided any suitable temporary alternative, causing  149 Ev 107</td>\n",
       "                        <td id=\"T_0eff8_row27_col3\" class=\"data row27 col3\" >0.513110</td>\n",
       "                        <td id=\"T_0eff8_row27_col4\" class=\"data row27 col4\" >True</td>\n",
       "            </tr>\n",
       "            <tr>\n",
       "                        <th id=\"T_0eff8_level0_row28\" class=\"row_heading level0 row28\" >28</th>\n",
       "                        <td id=\"T_0eff8_row28_col0\" class=\"data row28 col0\" >12643</td>\n",
       "                        <td id=\"T_0eff8_row28_col1\" class=\"data row28 col1\" >10</td>\n",
       "                        <td id=\"T_0eff8_row28_col2\" class=\"data row28 col2\" >1. Beyond the initial payment to the LDA, proceeds will be split between the LDA, to repay costs associated with the remediation and disposal of land and buildings in the Olympic Park, and DCMS, which will act as a channel for reimbursement of the National Lottery Distribution Fund (NLDF). An initial tranche of £631 million will be allocated pro rata according to a formula which would lead to reimbursement of three-quarters of the funds due to the NLDF and one quarter of the remaining funds due to the LDA. A further £544 million will then be allocated according to a formula which would, if receipts from land sales allow, lead to reimbursement of the remaining quarter of the funds due to the NLDF and the remaining three-quarters of the funds due to the LDA. The treatment of any further surplus arising from land sales “will be determined separately at the time by agreement between the Government and the Mayor”. The Revised Memorandum of Understanding does not provide for repayment to the LDA of its grant of £250 million to the ODA, included within the original Public Sector Funding Package.80 It is important to observe that the Memorandum of Understanding does not provide for uprating of these amounts for general inflation. This is a significant omission, to which we return below</td>\n",
       "                        <td id=\"T_0eff8_row28_col3\" class=\"data row28 col3\" >0.492892</td>\n",
       "                        <td id=\"T_0eff8_row28_col4\" class=\"data row28 col4\" >True</td>\n",
       "            </tr>\n",
       "            <tr>\n",
       "                        <th id=\"T_0eff8_level0_row29\" class=\"row_heading level0 row29\" >29</th>\n",
       "                        <td id=\"T_0eff8_row29_col0\" class=\"data row29 col0\" >12647</td>\n",
       "                        <td id=\"T_0eff8_row29_col1\" class=\"data row29 col1\" >10</td>\n",
       "                        <td id=\"T_0eff8_row29_col2\" class=\"data row29 col2\" >53. There is no certainty that the amounts cited in the revised Memorandum of Understanding as being available for redistribution as a result of land sales will actually be forthcoming. There will be some flexibility to maximise returns: the Minister for the Olympics pointed out that the LDA would be able to sell land “in the most favourable circumstances”, delaying sales if necessary until the market would permit the best possible return.83 Mr Coleman confirmed to us a statement made by the Mayor of London in April 2007, that the period over which receipts from land sales were forecast would extend until 2030.84 Clearly, if the Memorandum of Understanding does not provide for uprating of the figures involved in line with general price inflation, there will be a significant difference in the real value of a re-imbursement to the Lottery made, say, in 2013 immediately after the Games and one made in 2030. If the Memorandum of Understanding does not provide for uprating, whether accidentally or not, it should be revised to do so to preserve the real value of the commitment to reimburse the National Lottery Distribution Fund</td>\n",
       "                        <td id=\"T_0eff8_row29_col3\" class=\"data row29 col3\" >0.439088</td>\n",
       "                        <td id=\"T_0eff8_row29_col4\" class=\"data row29 col4\" >True</td>\n",
       "            </tr>\n",
       "            <tr>\n",
       "                        <th id=\"T_0eff8_level0_row30\" class=\"row_heading level0 row30\" >30</th>\n",
       "                        <td id=\"T_0eff8_row30_col0\" class=\"data row30 col0\" >9932</td>\n",
       "                        <td id=\"T_0eff8_row30_col1\" class=\"data row30 col1\" >11</td>\n",
       "                        <td id=\"T_0eff8_row30_col2\" class=\"data row30 col2\" >Lord Moynihan: Adrian, I am looking to the future and in this new found position of being apolitical and outside criticism of what may or may not have happened in the past I can tell you what is required moving forward is significant improvements rather than dwelling on what went wrong in the past. The first thing that is required is consistent funding. It is absolutely essential that we have consistent funding to the Olympic governing bodies. The second thing that is required is hiring the best coaches. I mentioned earlier that coaches are centres of excellence, and they really are. The coach inspires, the coach motivates, the coach can get the best out of our young Olympians of the future. We will deliver far better than we have in the past. The importance given to coaching needs to be on a step change level from where it has been in the past. I am very pleased to say that UK Sport and the Government are at one with us on the importance of reinforcing more emphasis on coaching. Then I mentioned in a highly competitive market, which it will be, to achieve fourth place we need to make sure not just the coaching but the management, the administration, the medical, the support services to our sports men and women are there and that we have the back-up facilities, the high performance centres properly resourced and that the governing bodies are given the support they need to make the decisions on behalf of their staff, their performance directors, their coaches. Ultimately we are all the servants of the sports men and women who will be up there winning medals in 2012. I am absolutely convinced that with the strength of the governing bodies and the talent we have in this country that is an achievable and deliverable target. I am absolutely convinced that unless Clearing the Bar is accepted we will not achieve that stretch target. That is why we are spending so many hours, the days and nights and little time we have available getting that document right and working with UK Sport to make sure we get that right. We have to do it now, we cannot afford to wait until the end of next year. We need to make sure that the funding is secure so that governing bodies can take the steps which are necessary next year. The time invested in the beginning of next year will be worth a huge amount when we get to 2012. It is time invested upfront to make sure that those plans can deliver the success. That means we will look at Beijing in a different light from how we would normally look at Beijing. We will look at Beijing as a stepping stone towards success in 2012 which may not best be judged by medal tallies, for example, but must be judged by how much progress the squads, the teams and the coaches have made en route from here to 2012; which will be our principal goal</td>\n",
       "                        <td id=\"T_0eff8_row30_col3\" class=\"data row30 col3\" >0.568207</td>\n",
       "                        <td id=\"T_0eff8_row30_col4\" class=\"data row30 col4\" >True</td>\n",
       "            </tr>\n",
       "            <tr>\n",
       "                        <th id=\"T_0eff8_level0_row31\" class=\"row_heading level0 row31\" >31</th>\n",
       "                        <td id=\"T_0eff8_row31_col0\" class=\"data row31 col0\" >10086</td>\n",
       "                        <td id=\"T_0eff8_row31_col1\" class=\"data row31 col1\" >11</td>\n",
       "                        <td id=\"T_0eff8_row31_col2\" class=\"data row31 col2\" >Dame Tanni Grey-Thompson: I think we have a fantastic history of disabled athletes competing. That is probably because we were one of the first countries to offer sporting opportunities for disabled athletes. Most of the reason for that was after the Second World War the life expectancy of a quadriplegic was two years and a paraplegic was between five and seven years. The real reason sport started was that it was felt there was not enough money to keep the war injured in hospital until they died, so sport was used as a rehabilitation initially. We have got very strong roots where we have come from and a lot of events have been organised in the UK and that has provided a good solid base. What we have seen in the last few years, and what we are going to see in Beijing, is major changes in the number of countries competing and the quality of athletes. If we want to carry on and maintain that level of success, some of it does come down to funding, unfortunately, funding does make a difference, but it is also about inclusion in governing bodies, inclusion within the mainstream structures and making sure we get it right at school level. I think we do have an amazing opportunity to be very, very successful in the future but we have to make sure that work carries on and is happening right now, that we do not just leave it to chance. We cannot sit on our laurels and say we have done well in the past and it is going on. Beijing will be a massive step forward just in terms of the number of Chinese athletes who will be competing. They have huge advantages in terms of the number of people who were injured through industrial incidents and lack of medical care and all sorts of things that we have not really tapped into yet. In the UK we have a huge potential to tap into a lot of sources that we have not yet identified.</td>\n",
       "                        <td id=\"T_0eff8_row31_col3\" class=\"data row31 col3\" >0.497450</td>\n",
       "                        <td id=\"T_0eff8_row31_col4\" class=\"data row31 col4\" >True</td>\n",
       "            </tr>\n",
       "            <tr>\n",
       "                        <th id=\"T_0eff8_level0_row32\" class=\"row_heading level0 row32\" >32</th>\n",
       "                        <td id=\"T_0eff8_row32_col0\" class=\"data row32 col0\" >9951</td>\n",
       "                        <td id=\"T_0eff8_row32_col1\" class=\"data row32 col1\" >11</td>\n",
       "                        <td id=\"T_0eff8_row32_col2\" class=\"data row32 col2\" >Mr Clegg: There are a number of sports where we are not competitive in the Olympic environment. In Athens last year Great Britain fielded athletes in 21 out of the 27 sports; of the remaining six sports all of them, apart from one, were team sports. There is obviously the football issue which has been well debated and certainly the Chairman and I are at one in terms of seeking a positive resolution in that area. We have got sports like handball, basketball, volleyball, to name but three, where we have a serious challenge to take them from where they are at the moment to where they need to be. In terms of the BOA's plan to field the largest and most competitive team, we need to give those sports the opportunity of moving from where they are now to being competitive in 2012. Seven years to take some of those sports that distance is very challenging. Certainly the model that my Chairman has been discussing does accommodate those sports and we will be working with them, and with the International Federations in particular, to make sure we can get the sports to that level. I think there is no point in us taking up the opportunity of automatic qualification by virtue of being the host nation in all of the team sports if our athletes cannot compete credibly in that environment. It is not in the long-term interests of the sport, the International Federation or the IOC. We are now meeting with each of the International Federations, the International Basketball Federation has been over already, the International Wrestling Federation has been over already and we will be meeting with them all, together with LOCOG and with the British governing bodies, to see what support they can bring to the table to ensure that our athletes in all the sports, or as many sports as possible, are competitive in 2012. I hope that answers the question</td>\n",
       "                        <td id=\"T_0eff8_row32_col3\" class=\"data row32 col3\" >0.479080</td>\n",
       "                        <td id=\"T_0eff8_row32_col4\" class=\"data row32 col4\" >True</td>\n",
       "            </tr>\n",
       "            <tr>\n",
       "                        <th id=\"T_0eff8_level0_row33\" class=\"row_heading level0 row33\" >33</th>\n",
       "                        <td id=\"T_0eff8_row33_col0\" class=\"data row33 col0\" >10424</td>\n",
       "                        <td id=\"T_0eff8_row33_col1\" class=\"data row33 col1\" >12</td>\n",
       "                        <td id=\"T_0eff8_row33_col2\" class=\"data row33 col2\" >38. The London Borough of Newham suggested to us that “opportunities for a wider cultural legacy for the Park are currently being overlooked in the legacy planning processes”, and it claimed that cultural planning for the Olympics “currently only identifies a narrow spread of stakeholders, largely excluding representation from local authorities and key local and regional cultural partners”.291 Heritage Link also relayed to us anxiety felt among smaller voluntary sector organisations that they were somewhat marginalised in discussions on maximising the benefits of the Olympics.292 We put this latter point to witnesses representing the Nations and Regions Group, who sought to reassure us that within the various regional groups culture was “very much embedded” and that (at least in the case of the East of England and the South West) the Regional Cultural Consortium was “one of the key partners” or was the source of cultural initiatives for the regional group. 293</td>\n",
       "                        <td id=\"T_0eff8_row33_col3\" class=\"data row33 col3\" >0.426794</td>\n",
       "                        <td id=\"T_0eff8_row33_col4\" class=\"data row33 col4\" >True</td>\n",
       "            </tr>\n",
       "            <tr>\n",
       "                        <th id=\"T_0eff8_level0_row34\" class=\"row_heading level0 row34\" >34</th>\n",
       "                        <td id=\"T_0eff8_row34_col0\" class=\"data row34 col0\" >10436</td>\n",
       "                        <td id=\"T_0eff8_row34_col1\" class=\"data row34 col1\" >12</td>\n",
       "                        <td id=\"T_0eff8_row34_col2\" class=\"data row34 col2\" >145. Membership of the working groups includes representatives of sport, business, local government, culture, tourism, education, the voluntary sector and other key interest groups.305 We were assured by representatives of the Nations and Regions Group that the working groups’ strategies were based upon a “bottom-up” approach driven by grassroots interests.306 We note that a decision was taken at an early stage of the bid that engagement outside London would be led by Regional Development Agencies and by Regional Sports Boards, and we heard that local authorities were only now being “brought into it”.307 We welcome the Nations and Regions Group’s recognition that local and community interests must underlie national and regional strategies, and we are encouraged by the Group’s account of work under way. We also endorse the concept articulated by the group that the Games should be a UK Games hosted in London. We will in time, however, seek further evidence that the working groups formed in each nation and region truly reflect all elements of their communities in their work</td>\n",
       "                        <td id=\"T_0eff8_row34_col3\" class=\"data row34 col3\" >0.390708</td>\n",
       "                        <td id=\"T_0eff8_row34_col4\" class=\"data row34 col4\" >True</td>\n",
       "            </tr>\n",
       "            <tr>\n",
       "                        <th id=\"T_0eff8_level0_row35\" class=\"row_heading level0 row35\" >35</th>\n",
       "                        <td id=\"T_0eff8_row35_col0\" class=\"data row35 col0\" >11875</td>\n",
       "                        <td id=\"T_0eff8_row35_col1\" class=\"data row35 col1\" >12</td>\n",
       "                        <td id=\"T_0eff8_row35_col2\" class=\"data row35 col2\" >3.16 The second theme of the cultural Olympiad is “Celebrating World Cultures and the Diversity of theUK”. Museums, libraries and archives have an important role to play in promoting knowledge andunderstanding of diverse cultures and in fostering a sense of identity and understanding. They are ideallyplaced within communities to be open and inclusive spaces which inspire, engage and inform people fromall backgrounds. Through Renaissance, regional museums reached over 800,000 new users in 2004–05, fromcommunities who do not normally engage with museums. The MLA Partnership intends that the sector willbecome more responsive to the needs of people from diverse communities, providing everyone withopportunities to develop their knowledge, access information and build cohesion within their community</td>\n",
       "                        <td id=\"T_0eff8_row35_col3\" class=\"data row35 col3\" >0.373343</td>\n",
       "                        <td id=\"T_0eff8_row35_col4\" class=\"data row35 col4\" >True</td>\n",
       "            </tr>\n",
       "    </tbody></table>"
      ],
      "text/plain": [
       "<pandas.io.formats.style.Styler at 0x1cea7a13ca0>"
      ]
     },
     "execution_count": 148,
     "metadata": {},
     "output_type": "execute_result"
    }
   ],
   "source": [
    "L = 1/3                                                # set the optimal L based on the analysis above                                             \n",
    "top_n_above_L = top_n_filter(df_topic_para2, int(1/L))\n",
    "top_n_above_L['porobability >= L'] = top_n_above_L['probability'] >= L\n",
    "top_n_above_L.style.set_properties(subset = ['salient_paragraph'], **{'width':'500px', 'length': '50px'})"
   ]
  },
  {
   "cell_type": "markdown",
   "metadata": {},
   "source": [
    "### 5.3.4. N most prototypical paragraphs of each topic"
   ]
  },
  {
   "cell_type": "code",
   "execution_count": 150,
   "metadata": {},
   "outputs": [
    {
     "data": {
      "text/html": [
       "<style  type=\"text/css\" >\n",
       "#T_cd513_row0_col2,#T_cd513_row1_col2,#T_cd513_row2_col2,#T_cd513_row3_col2,#T_cd513_row4_col2,#T_cd513_row5_col2,#T_cd513_row6_col2,#T_cd513_row7_col2,#T_cd513_row8_col2,#T_cd513_row9_col2,#T_cd513_row10_col2,#T_cd513_row11_col2,#T_cd513_row12_col2,#T_cd513_row13_col2,#T_cd513_row14_col2,#T_cd513_row15_col2,#T_cd513_row16_col2,#T_cd513_row17_col2,#T_cd513_row18_col2,#T_cd513_row19_col2,#T_cd513_row20_col2,#T_cd513_row21_col2,#T_cd513_row22_col2,#T_cd513_row23_col2{\n",
       "            width:  500px;\n",
       "            length:  50px;\n",
       "        }</style><table id=\"T_cd513_\" ><thead>    <tr>        <th class=\"blank level0\" ></th>        <th class=\"col_heading level0 col0\" >Index</th>        <th class=\"col_heading level0 col1\" >topic_id</th>        <th class=\"col_heading level0 col2\" >salient_paragraph</th>        <th class=\"col_heading level0 col3\" >probability</th>    </tr></thead><tbody>\n",
       "                <tr>\n",
       "                        <th id=\"T_cd513_level0_row0\" class=\"row_heading level0 row0\" >0</th>\n",
       "                        <td id=\"T_cd513_row0_col0\" class=\"data row0 col0\" >17552</td>\n",
       "                        <td id=\"T_cd513_row0_col1\" class=\"data row0 col1\" >1</td>\n",
       "                        <td id=\"T_cd513_row0_col2\" class=\"data row0 col2\" >4. Most clubs seem ill-prepared for enquiries from, and inclusion of, people with disabilities who wish to participate in the sport offered by the club. There is little or no support for specialist clubs who provide opportunities for sport that cannot be integrated ie wheelchair basketball or blind cricket! There is often nothing locally to support the child or their parent in accessing the specialist provision and this often involves their having to undertake extensive travel to specialist facilities or organisations catering for this group. There is poor information regarding availability etc and http://www.parasport.org.uk was established as a portal to provide pathway and provision information. The then Mayor of London published a strategy in 2007, which highlighted all these issues and to date there has been little, if any, action to redress these anomalies in London or in the rest of the country. DCSF have, in my view, shown no leadership regarding the legacy of 2012 and its impact on PE in schools and the inclusion of those with disabilities in core curriculum activities or sporting opportunities within or after school. DCMS held a legacy event in 2008 and again in April 2009 focusing on the legacy of the Games for those with disabilities. One outcome was to seek greater links between DWP, DCSF and themselves to ensure that joint strategies were developed and pathways established that enabled children to enjoy and participate in PE and sport within schools/after school clubs/integrated and specialist provision in the community, with good national talent forums and pathways established for those who wish to participate in sport at a higher level and finally, with governing bodies having clear inclusive programmes for sports men and women with disabilities active at a national and international level</td>\n",
       "                        <td id=\"T_cd513_row0_col3\" class=\"data row0 col3\" >0.626673</td>\n",
       "            </tr>\n",
       "            <tr>\n",
       "                        <th id=\"T_cd513_level0_row1\" class=\"row_heading level0 row1\" >1</th>\n",
       "                        <td id=\"T_cd513_row1_col0\" class=\"data row1 col0\" >17553</td>\n",
       "                        <td id=\"T_cd513_row1_col1\" class=\"data row1 col1\" >1</td>\n",
       "                        <td id=\"T_cd513_row1_col2\" class=\"data row1 col2\" >5. Integration of disabled people into mainstream sporting provision is a concept rather than a reality. Grants to organisations has largely been based on physical access, rather than actual provision of activities, coaching etc. For some it has been a tick box action, rather than an attempt to include and integrate their provision. In order to create a lasting legacy from 2012, this offer of inclusion has to be both genuine and meaningful, ie accessible facilities with no manmade barriers re attitudes, lack of coaching or energy to find solutions regarding sporting opportunities. These are all major threats to establishing a broad base of participation pyramid with hundreds of disabled people participating in sport at the base level, filtering through at representative level for club and nationally, leading on to the tip of the pyramid—international competition at Paralympic level. This pathway does not currently exist for those with a disability and therefore, a different solution needs to be found that provides a separate provision (where appropriate) and uses the mainstream provision (where appropriate)</td>\n",
       "                        <td id=\"T_cd513_row1_col3\" class=\"data row1 col3\" >0.568920</td>\n",
       "            </tr>\n",
       "            <tr>\n",
       "                        <th id=\"T_cd513_level0_row2\" class=\"row_heading level0 row2\" >2</th>\n",
       "                        <td id=\"T_cd513_row2_col0\" class=\"data row2 col0\" >16542</td>\n",
       "                        <td id=\"T_cd513_row2_col1\" class=\"data row2 col1\" >2</td>\n",
       "                        <td id=\"T_cd513_row2_col2\" class=\"data row2 col2\" >2.3.1.1  Creative industries grow at least 1% more than the rest of the economy. [1] Music grew by 4.7% from 2007 to 2008. [2]     2.3.1.2  Creative industries more than double our investment. The contribution of music to the UK economy reached well over £3.5 billion with the arts estimated to put over £2 back into the economy for every £1 invested [2]. Over 120,000 people are employed in music. [1] In addition, consumers spent over £4 billion on music in 2000. [2]   2.3.2  Music education and effective teaching of music technology are vital to the continuing world leadership of the UK in music. The UK currently lacks the capability to take full advantage of music technology even though music technology has the ability to motivate pupils. [3] The Cultural Olympiad gives an opportunity to put music technology at the centre of Continuing Professional Development. We believe that there is an opportunity to create Cultural Olympiad music technology teachers, available to every local authority and able to provide training and continuing professional development to the current music teacher workforce</td>\n",
       "                        <td id=\"T_cd513_row2_col3\" class=\"data row2 col3\" >0.444426</td>\n",
       "            </tr>\n",
       "            <tr>\n",
       "                        <th id=\"T_cd513_level0_row3\" class=\"row_heading level0 row3\" >3</th>\n",
       "                        <td id=\"T_cd513_row3_col0\" class=\"data row3 col0\" >17588</td>\n",
       "                        <td id=\"T_cd513_row3_col1\" class=\"data row3 col1\" >2</td>\n",
       "                        <td id=\"T_cd513_row3_col2\" class=\"data row3 col2\" >2.2  \"Winning: a tourism strategy for 2012 and beyond\", recognises that although London and Britain are already among the world's top city and country destinations, only a very small percentage of Britain's 200,000 tourism businesses will be high up in the 2012 Games supply chain and thus have any direct engagement with the 2012 Games and their visitors and spectators (see figure 1 below). It also recognises the potential of the 2012 Games to act as a catalyst in addressing a number of critical issues which are currently limiting the potential growth of tourism into and within this country. These include the need to reach out to younger visitors and to new markets, to improve aspects and overall perceptions of Britain's welcome and to counteract potential tourism displacement effects which have proved to be a problem for previous Olympic Games host countries.</td>\n",
       "                        <td id=\"T_cd513_row3_col3\" class=\"data row3 col3\" >0.441220</td>\n",
       "            </tr>\n",
       "            <tr>\n",
       "                        <th id=\"T_cd513_level0_row4\" class=\"row_heading level0 row4\" >4</th>\n",
       "                        <td id=\"T_cd513_row4_col0\" class=\"data row4 col0\" >3329</td>\n",
       "                        <td id=\"T_cd513_row4_col1\" class=\"data row4 col1\" >3</td>\n",
       "                        <td id=\"T_cd513_row4_col2\" class=\"data row4 col2\" >6 PREPARATIONS FOR THE LONDON 2012 OLyMPIC AND PARALyMPIC GAMES: PROGRESS REPORT JuNE 2008\t \t \t \t \t \t10 The start and completion dates for the construction of the main venue and infrastructure projects delivered by the Olympic Delivery Authority at the end of March 2008 compared with the milestones in the November 2007 Programme Baseline ReportProjectEnabling Works (site preparation) Power Lines under Grounding  (switchover only)   Structures, Bridges and Highways utilities Main Stadium    Aquatics Centre    VeloparkHandball/Indoor Sports ArenaBasketballInternational Broadcast Centre/ Main Press CentreOlympic Village Eton Manor (training facilities  and Paralympic events)  Broxbourne  (white water canoeing) Eton Dorney (rowing) Weymouth and Portland (sailing)construction start date November 2007  March 2008 Change in  programme  Forecast start date  baseline  (months)October 2006 October 2006 0 July 2008 July 2008 0   April 2008 April 2008 0 January 2008 January 2008 0 July 2008 May 2008 –21    September 2008 September 2008 0 March 2009 March 2009 0August 2009 June 2009 –2July 2009 November 2009 4May 2009 March 2009 –2 June 2008 May 2008 –1 March 2010 January 2010 –2   August 2008 May 2009 9  March 2009 January 2009 –2 May 2008 January 2008 –4construction end date November 2007  March 2008 Change in  programme  Forecast end date  baseline   (months)September 2009 September 2009 0 September 2008 November 2008 2   December 2011 December 2011 0 December 2011 August 2011 –4 Construction  Construction end date end dateFebruary 2011 April 2011 2Completion date  Completion date for construction  for construction and initial overlay  and initial overlay for test events for test eventsJune 2011 June 2011 0Construction  Construction end date end dateApril 2011 August 2011 4Completion date  Completion date for construction  for construction and initial overlay  and initial overlay for test events for test eventsJuly 2011 August 2011 1April 2011 February 2011 –2April 2011 March 2011 –1April 2011 April 2011 0June 2011 July 2011 1 December 2011 December 2011 0 February 2012 April 2011 –10   June 2010 October 2010 4  April 2010 July 2009 –9 February 2009 January 2009 –1Source: National Audit Office examination of actual and forecast progress against the November 2007 Programme BaselineNOTE</td>\n",
       "                        <td id=\"T_cd513_row4_col3\" class=\"data row4 col3\" >0.570649</td>\n",
       "            </tr>\n",
       "            <tr>\n",
       "                        <th id=\"T_cd513_level0_row5\" class=\"row_heading level0 row5\" >5</th>\n",
       "                        <td id=\"T_cd513_row5_col0\" class=\"data row5 col0\" >2641</td>\n",
       "                        <td id=\"T_cd513_row5_col1\" class=\"data row5 col1\" >3</td>\n",
       "                        <td id=\"T_cd513_row5_col2\" class=\"data row5 col2\" >main reasons for the increase in costs from the time of the bid to the budget announced in march 2007Source: National Audit Office, drawing on information from the Department for Culture, Media and SportOlympic Delivery Authority programme management costs – increased from £16 million to £570 millionAt the time of the bid, the Department based its estimate of the resources the then proposed delivery body (the Olympic Delivery Authority) would need on the model of an urban development corporation. The Olympic Delivery Authority is now expected to require a significantly higher level of resources and this, together with the need to secure the necessary expertise within the timescales of the programme, has resulted in higher programme management costs. The £570 million programme management costs (excluding VAT) comprise: n £344 million Delivery Authority staff costs and Delivery Partner costs. The Delivery Partner (cLm) is engaged on a framework basis. under this arrangement there is no commitment for ODA to use cLm and it may use other project managers or recruit directly. While they have agreed staffing requirements and base level costs to July 2008 there is no contractual commitment beyond this date. It is therefore uncertain what the division of costs between ODA and cLm will be over the duration of the programme. The average monthly number of full time equivalent staff employed by the Delivery Authority during the year to 31 march 2007 was 152</td>\n",
       "                        <td id=\"T_cd513_row5_col3\" class=\"data row5 col3\" >0.567027</td>\n",
       "            </tr>\n",
       "            <tr>\n",
       "                        <th id=\"T_cd513_level0_row6\" class=\"row_heading level0 row6\" >6</th>\n",
       "                        <td id=\"T_cd513_row6_col0\" class=\"data row6 col0\" >3639</td>\n",
       "                        <td id=\"T_cd513_row6_col1\" class=\"data row6 col1\" >4</td>\n",
       "                        <td id=\"T_cd513_row6_col2\" class=\"data row6 col2\" >4 UK Sport’s ‘ultimate goals’ for medal success at the London 2012 Games will require a step change in performance amongst elite athletes. The achievements of athletes at recent elite international events in a number of sports, including sailing, cycling, rowing, boxing, disability equestrian and disability shooting, suggest that performance levels in some sports are already improving significantly. Following increased spending on elite sport, host nations can typically expect to win an extra six or seven gold medals at an Olympic Games and to win medals across a wider range of sports. This ‘host nation effect’ would not in itself be enough to deliver UK Sport’s Olympic goal, which is likely to require an improvement of eight or nine gold medals over the Great Britain team’s performance at the Athens Games in 2004 if the relative performance of other nations remained the same. Changes in the performance of other nations since 2004, especially in the context of a general trend of increased spending on elite sport, sometimes referred to as a ‘global sporting arms race’, may also have implications for UK Sport in delivering its medal aspirations</td>\n",
       "                        <td id=\"T_cd513_row6_col3\" class=\"data row6 col3\" >0.546636</td>\n",
       "            </tr>\n",
       "            <tr>\n",
       "                        <th id=\"T_cd513_level0_row7\" class=\"row_heading level0 row7\" >7</th>\n",
       "                        <td id=\"T_cd513_row7_col0\" class=\"data row7 col0\" >3798</td>\n",
       "                        <td id=\"T_cd513_row7_col1\" class=\"data row7 col1\" >4</td>\n",
       "                        <td id=\"T_cd513_row7_col2\" class=\"data row7 col2\" >UK Sport will set targets for the  London 2012 Games following a review of performance at the  Beijing 2008 Games and in the  light of available funding 3.4 In its funding submission for 2012, UK Sport referred to an ‘ultimate goal of finishing fourth in the 2012 Olympics’, though the published funding agreement between the Department and UK Sport at that time, set before the London games were secured, said that the target was fifth. When questioned by the Committee of Public Accounts in March 2006, both the Department and UK Sport maintained there was no target. They attributed the confusion to their inappropriate use of the term “target”, and agreed that various published documents had confused long term aims and specific, measurable, agreed and resourced targets. The Committee recommended that “performance expectations need to be unambiguous and clearly explicable”. They also recommended that, in the knowledge of the resources available to it in the run up to London 2012, UK Sport should decide its medal table targets for 2012, which should be reflected in the targets it agreed with individual sports and reviewed in the light of performance at the Beijing 2008 Games</td>\n",
       "                        <td id=\"T_cd513_row7_col3\" class=\"data row7 col3\" >0.527726</td>\n",
       "            </tr>\n",
       "            <tr>\n",
       "                        <th id=\"T_cd513_level0_row8\" class=\"row_heading level0 row8\" >8</th>\n",
       "                        <td id=\"T_cd513_row8_col0\" class=\"data row8 col0\" >4954</td>\n",
       "                        <td id=\"T_cd513_row8_col1\" class=\"data row8 col1\" >5</td>\n",
       "                        <td id=\"T_cd513_row8_col2\" class=\"data row8 col2\" >Stratford is a huge churn. We have done research into the nature of the flats that have gone up around Stratford—the better end—and they are being rented by people who work and basically it is a place to sleep and they go out and do other things, which is what people do when they are young and that is fine. What we could easily end up with is what we have ended up with elsewhere in the borough, which is a desert, with people not interested in the community and so we have a bunch of social tenants in there—not huge numbers—and no real community. I think we have to have a proper debate and discussion around what will happen with the rest of the housing. Ideally we want people who live there to buy and then continue to have an interest in the community. So any discussion about the Village I would argue needs to start with what happens to the private sector area because this has to work; if it does not work it can damage the rest of the Olympic area and the Olympic Park. We are now arguing, for example, for a Royal Park because we think that that will raise the whole standard of the area and people will get some sense of a better place, a place where it is really good to live. The OPLC understands that it needs to get housing and family housing and not just blocks of flats, so starting with that. Then you get to this question about what would the nature of the allocations be and we are about to have a big discussion with various partners where we talk about who would we move in. Certainly from a Newham point of view—because the Village is in Newham—we took a court case which opposed housing by need and were successful in turning the policy around, and the Government has now introduced a policy which would allow us to support people who are working into social housing because our view would tend to be if you have a low rent that is a great benefit if you are working and on a lower income, but if you are on benefit that is not much of a benefit at all. We are certainly at the moment having a discussion around allocations policy and there are plans to have it. We need to make the community work—start off with the community. I get very frustrated when I hear people talk about \"units\"; talk about the community that you are trying to create and how that will look. If we want to have this as a place that people want to live in in 100 years' time the community has to work. To do that you do not then take, for example, social housing for everybody that is not working together because we have evidence that that does not work, so if it does not work perhaps we should stop trying to do it. The nature of the allocation as to who moves in there is, I think, up for debate at the moment and all the people involved are willing to look at that in a radical way that will enable us to build a community there. But I will come back again, you can do that in the social and affordable rent side, what about the rented properties that you will end up with? People will invest and buy chunks off the plan and they will end up with a lot of people that do not necessarily spend a lot of time there. For me it is a very clear thing, this should be the responsibility of the OPLC, it should not be the responsibility of the ODA and the ODA should be handing over that responsibility to the OPLC tomorrow because the ODA has no locus or interest there. It is not that they are doing badly because these guys have built an Olympic site on time and on budget, they are doing a really good job from the point of view of doing what they were asked to do, but they will not be there after 2014 and we will. The OPLC should be the people who are actually involved in the Village now. I am very clear about that</td>\n",
       "                        <td id=\"T_cd513_row8_col3\" class=\"data row8 col3\" >0.560360</td>\n",
       "            </tr>\n",
       "            <tr>\n",
       "                        <th id=\"T_cd513_level0_row9\" class=\"row_heading level0 row9\" >9</th>\n",
       "                        <td id=\"T_cd513_row9_col0\" class=\"data row9 col0\" >4943</td>\n",
       "                        <td id=\"T_cd513_row9_col1\" class=\"data row9 col1\" >5</td>\n",
       "                        <td id=\"T_cd513_row9_col2\" class=\"data row9 col2\" >00,000 square feet, you have the Broadcast Centre which, again, is very well connected in terms of power and Internet connectivity, again, good for the latest approaches to production, whether it be broadcast production or any kind of creative media industries that rely on high power and digital connections, which has seen the industry move from having its heart in Soho over the years—where you cannot get the power to run the air conditioning and the servers and the Internet connectivity not being so good—to Shoreditch and benefiting from cheaper warehouse-type accommodation and the bandwidth afforded by the City of London being adjacent to that. Now prices are rising there and more of those warehouses are being turned into lofts and prices are rising and bandwidth is being constrained and not so much investment is going in there or, if it is, it is to maintain that for the City and not spare bandwidth that they can use sending films and recordings and stuff backwards and forward between here and the West Coast of America so, again, they need somewhere new. I think that there is an issue about how attractive the Broadcast Centre is as a building and so there will be a big issue for the Legacy Company (OPLC) to make that an attractive place which is going to be appealing to media professionals. Often it has been somewhat, I would say, disparagingly termed a \"big tin shed\", and undoubtedly that is what it is, but actually big large spaces are what some of these companies need. The fact that there is good transport access, Internet power and all that stuff has the potential to be a really good offer. I do not want to take up the Committee's time but the OPLC now, it is great that that has been formed and it is up and running because what has been lacking is someone—other than the boroughs—who really has the power and the control to market that building because it is never really the ODA's job because they are gone after 2014 so filling it is not really their responsibility and never has been. The tenants that you would want in there—or even the tenants you do not want in there—no potential tenant was going to sign in 2006-07 for a building that they could not occupy until 2014 and beyond, and unfortunately that was often portrayed as no-one is interested. I would not be surprised if no-one was interested—it was six or seven years out and no one even knew what the building was going to look like inside or out. I would think that we should be getting worried by about 2012 if still two to three years out from occupation no-one has expressed an interest, that is when I think we should be worried. Here at 2010 now I think is when we should be generating interest for people to occupy it</td>\n",
       "                        <td id=\"T_cd513_row9_col3\" class=\"data row9 col3\" >0.557435</td>\n",
       "            </tr>\n",
       "            <tr>\n",
       "                        <th id=\"T_cd513_level0_row10\" class=\"row_heading level0 row10\" >10</th>\n",
       "                        <td id=\"T_cd513_row10_col0\" class=\"data row10 col0\" >454</td>\n",
       "                        <td id=\"T_cd513_row10_col1\" class=\"data row10 col1\" >6</td>\n",
       "                        <td id=\"T_cd513_row10_col2\" class=\"data row10 col2\" >The Committee suspended from 4.09 pm to 4.23 pm for a division in the House Alan Keen   202. I did not get to the end of the question at the beginning but the point I am making is that because we have to have a village and all the events have to be in that area it adds costs to hosting the Olympics, I reckon at least half a billion and probably a billion. If we could spread them round the country—and I went to Japan for the World Cup and the atmosphere was brilliant. We went to different places—more people could get to see it. If we could do that with the Olympics, the point I am really asking you is that it is difficult for the Government. The Minister and the Secretary of State are going to see the President of the IOC on Friday. It will not do our bid any good if they go there telling them how they should organise the Olympic Games in the future. I am really asking you as the main channellers of funding in sport in this country, will you make these representations that the Olympics, just for the sake of having 18,000 athletes in one village, which is very nice, although it is not so nice for those whose event comes on the last day and they want a party—we could save somewhere between half a billion and a billion pounds by using facilities we have got around the country now. The athletics could be at Wembley as they were supposed to be. The football could be at the main stadium and spread around the country as it is going to be in fact. What I am saying is that instead of having the athletes all together in one village for the three weeks of the Olympics, we could put a party on for them and they could stay for a week after the Olympics when they could all get drunk if that is what they do. I think somebody needs to go to the IOC and put this point to them. We have been taking evidence from people in the last couple of days and there are tremendous difficulties. There would hardly be a difficulty if we could use stadia around the country and we did not have to have the village. It is the village that causes all the problems that we are facing now</td>\n",
       "                        <td id=\"T_cd513_row10_col3\" class=\"data row10 col3\" >0.568952</td>\n",
       "            </tr>\n",
       "            <tr>\n",
       "                        <th id=\"T_cd513_level0_row11\" class=\"row_heading level0 row11\" >11</th>\n",
       "                        <td id=\"T_cd513_row11_col0\" class=\"data row11 col0\" >5</td>\n",
       "                        <td id=\"T_cd513_row11_col1\" class=\"data row11 col1\" >6</td>\n",
       "                        <td id=\"T_cd513_row11_col2\" class=\"data row11 col2\" >Work had been done before I arrived, but it was a different stage of work from what we need to do today—and I shall go into that in a moment. The bid itself was in the Arup report and the DCMS report and was at a very high level. We are now starting from the bottom up as opposed to the top down and that is why, when I go on to tell you a bit more about what we are doing, you will see it is very detail oriented. We are in a competitive process and that is something I have to keep repeating, not just to you, but to myself and to everyone we work with. There are nine of us going for the Games. This is not simply a case of saying that if we do it well, if we tick all the boxes, we will win. That is not the case. I do believe though that when you live in a world class city, going up against other world class cities creates a worthy competition. We really are going for the world championships of the Olympics in this bid. Never before have there been so many world class cities going for the bid, which is why I am approaching it in the way that I am. I also have begun to understand the IOC and have been very encouraged by the early pronouncements and my early brushes with the organisation. They are trying to change the nature of the Games, they are trying to change the nature of bidding. There have been some issues in the past which we know about and they want to transform the organisation, both from the way they work but also in what they ask us to do to prepare a bid. They insist upon the legacy issues for each venue being thought through. They are eager to make the Games more contained; they do not want them to grow ever bigger and bigger. Those are all issues which I believe work in favour of a bid like London, because we too, because we live in a cosmopolitan democratic country, will have lots of people with competing interests and we must be efficient and we must do the right thing for the people in sport and for the country. The early feedback I received from the IOC members when I went to the meeting in Prague was very positive. It was a bit open, in the sense that they are very open to understanding what we are doing, but very positive that we have a chance to win and that was important to me. What have we accomplished in the first six weeks? The first priority deadline that we all need to keep in mind is 15 January. We need to submit our applicant questionnaire by 15 January. It is a deceptively simple document which actually requires quite a lot of work underneath it. We have to answer some very simple questions about the venues and how we will be approaching the Games and where they will be, etcetera. In order to complete that questionnaire and to move through into the next stage—and we will hear on that sometime early next spring—we are undertaking a number of pieces of work. We are building the team. I have spent more of my time on interviewing people and hiring people than on anything else up to now. I have hired a combination of people with sporting experience and people with Olympic experience and people who come from business. My chief operating officer, whom I hired about a week ago, starts next week and he is a guy called Mike Power. He spent 32 years at Proctor and Gamble, worked all over the world, Japan, Germany, the US and Britain and he will bring a tremendous amount of organisational skill, structure, ability to work with complex projects and deliver. He has a background of that. Mike will be a tremendous asset. Roger Jackson and Dick Palmer are both Olympic experts; they are working right now on the technical bid. They are people who understand the ins and outs of what the International Olympic Committee want and ultimately they are the group we need to satisfy. David Magliano has joined me as the director of marketing. He has a track record in building brands and in creating exciting communications around ideas and that is precisely what we need. I am still in the middle of the search for the chief executive. I have interviewed about ten or so people. I have a group of executive search people who have probably interviewed 20 people, but it is important we find the right person. I am confident that I will do so very shortly. I should love to sit here today and have him or her beside me, but I am still in the middle of that process</td>\n",
       "                        <td id=\"T_cd513_row11_col3\" class=\"data row11 col3\" >0.523737</td>\n",
       "            </tr>\n",
       "            <tr>\n",
       "                        <th id=\"T_cd513_level0_row12\" class=\"row_heading level0 row12\" >12</th>\n",
       "                        <td id=\"T_cd513_row12_col0\" class=\"data row12 col0\" >16483</td>\n",
       "                        <td id=\"T_cd513_row12_col1\" class=\"data row12 col1\" >7</td>\n",
       "                        <td id=\"T_cd513_row12_col2\" class=\"data row12 col2\" >4.1  The aim is that in the next 20 years, residents in the host boroughs will equal the London average in a range of the life indicators which you would expect to find in a successful community: — employment rates will increase to the London average; — average incomes in the bottom two fifths of earners in the host borough area will be increased to the London average; — young people in the host borough area will have improved GCSE results to at least the London average; — host borough 11 year olds will have at least the same educational attainment as the London average; — the number of families in receipt of benefits in the host boroughs area will fall to no more than the London average; — the rate of violent crime will continue to fall and reflect the London average; and — residents in the host boroughs area, particularly men, will have increased life expectancy to the London average</td>\n",
       "                        <td id=\"T_cd513_row12_col3\" class=\"data row12 col3\" >0.500009</td>\n",
       "            </tr>\n",
       "            <tr>\n",
       "                        <th id=\"T_cd513_level0_row13\" class=\"row_heading level0 row13\" >13</th>\n",
       "                        <td id=\"T_cd513_row13_col0\" class=\"data row13 col0\" >17005</td>\n",
       "                        <td id=\"T_cd513_row13_col1\" class=\"data row13 col1\" >7</td>\n",
       "                        <td id=\"T_cd513_row13_col2\" class=\"data row13 col2\" >10.  The Olympic Park Legacy Company's strategic objectives, as set by its Founders cover: — assisting the Government and the Mayor of London in fulfilling some of the legacy promises made in the bid to host the London 2012 Olympic and Paralympic Games; — securing the timely development of the Olympic Park site as a high quality and sustainable mixed community; — promoting social, economic and environmental benefits for local communities; — securing the long term development and management of the Olympic Park site and venues in ways which provide lasting national and local sporting, cultural, education and leisure benefits and which preserve the site's Olympic heritage; — working with partners to contribute to long-term economic growth and prosperity in the wider area; — levering in private investment to maximise and provide best value for the public purse; and — promoting sustainable development, community involvement and equality of opportunity</td>\n",
       "                        <td id=\"T_cd513_row13_col3\" class=\"data row13 col3\" >0.490262</td>\n",
       "            </tr>\n",
       "            <tr>\n",
       "                        <th id=\"T_cd513_level0_row14\" class=\"row_heading level0 row14\" >14</th>\n",
       "                        <td id=\"T_cd513_row14_col0\" class=\"data row14 col0\" >8304</td>\n",
       "                        <td id=\"T_cd513_row14_col1\" class=\"data row14 col1\" >8</td>\n",
       "                        <td id=\"T_cd513_row14_col2\" class=\"data row14 col2\" >You think that the assessment of risks is our best estimate of the most likely outcome of the budget as a whole. But actually the assessment of risk-and how we have compiled it-is this: we have not sought to estimate how likely it is that every risk arises. We just said, \"Let us think about every risk that could arise, and let us assume that they all arise and work out the likely cost of them all arising.\" On top of that, we said, \"And there will be some risks that we just cannot think about that are unknown unknowns. There will be some multiple consequentials if everything came together.\" So we end up with an estimate not of the most likely cost of the project, which is what the burden of paragraph 1 of the PAC Report understands it is, but an estimate of how much we would need to set aside in the very unlikely event that all risks arise and some more unknown risks arise as well. The purpose of that is not to get to an estimate of the likely outcome of the budget. Its purpose and why we do it is to see, against any reasonable view of the likely risk that might arise, even on an assumption that they all arise and some more unknown risks arise, whether we have enough money. The conclusion has always been, yes, we had. Against what is therefore, in my view, a conservative and prudent estimate, we had £36 million headroom at the time of the NAO Report. We had more, and indeed the picture over the six-month period since the original figures on which the NAO was recording this, is that the contingency has gone down by £27 million or so-we reckon, because these are provisional figures, but I want to give our best figures-and the assessed risks on that very conservative and prudent basis have gone down by £136 million. So the picture on the budget as a whole is that we are spending contingency significantly slower than risks are disappearing from the programme. That is why, without in any sense being complacent, I am confident that we will bring this in within budget, and I do not think that the budget is close to being used up</td>\n",
       "                        <td id=\"T_cd513_row14_col3\" class=\"data row14 col3\" >0.656630</td>\n",
       "            </tr>\n",
       "            <tr>\n",
       "                        <th id=\"T_cd513_level0_row15\" class=\"row_heading level0 row15\" >15</th>\n",
       "                        <td id=\"T_cd513_row15_col0\" class=\"data row15 col0\" >8388</td>\n",
       "                        <td id=\"T_cd513_row15_col1\" class=\"data row15 col1\" >8</td>\n",
       "                        <td id=\"T_cd513_row15_col2\" class=\"data row15 col2\" >Jonathan Stephens: There are two aspects to risk: likelihood and impact. What we are saying is that we made no estimate of likelihood, we just wrote in a 100% likelihood of all the risks we could think of and some unknown risks that we could not think of. We then looked at impact, and on impact we said, \"If this risk were to materialise-we are assuming a 100% likelihood that it materialises-what is the likely cost?\" That is where you get the low, the most likely outcome and the high outcome. When you add those together, you do not get to an outcome of, \"What is the most likely expenditure on the programme?\"; you get to an outcome of, \"If all conceivable risks arise, plus some unknown risks that we cannot identify, what is the likely expenditure?\" That is a conservative and prudent view of, \"Do we have enough contingency left, if all those risks arise?\" In practice, they won’t all arise. It is conceivable that some will arise, but it is pretty unlikely that all of them will arise. It is perfectly conceivable that some individual risk will arise at a higher estimate than the most likely estimate, but the prospect of all those risks arising is unlikely. The prospect of them all arising at the very highest possible cost is so unlikely as to not provide a good basis for planning. I am sorry. I am going on at some length, but there is a real point</td>\n",
       "                        <td id=\"T_cd513_row15_col3\" class=\"data row15 col3\" >0.578037</td>\n",
       "            </tr>\n",
       "            <tr>\n",
       "                        <th id=\"T_cd513_level0_row16\" class=\"row_heading level0 row16\" >16</th>\n",
       "                        <td id=\"T_cd513_row16_col0\" class=\"data row16 col0\" >355</td>\n",
       "                        <td id=\"T_cd513_row16_col1\" class=\"data row16 col1\" >9</td>\n",
       "                        <td id=\"T_cd513_row16_col2\" class=\"data row16 col2\" >(Mr Walder) The other major significant infrastructure investment that would be made on the transport side is the Channel Tunnel Rail Link. That project is scheduled for completion by 2007. In both the case of the Jubilee Line and the case of CTRL you are not putting yourself in a position where you are backed up against the wall in terms of completing those projects on time to be ready for the Olympic Games. The site that has been selected benefits from four tube lines, two national rail lines and the Docklands Light Railway. That is a very very significant transport capacity. Overall, when you look at the entire system, the Olympic Games would add about 1% to the daily transport flows that we deal with in London, a range, as you point out this morning, that the system has to accommodate on a fairly regular basis. The real issue in terms of transport is not the delivery of these major projects, the real issue is the concentration of activity in a very small area. That will likely necessitate some improvements, like station improvements at Stratford station, but that is nowhere near the complexity of the other items that you have mentioned.</td>\n",
       "                        <td id=\"T_cd513_row16_col3\" class=\"data row16 col3\" >0.467950</td>\n",
       "            </tr>\n",
       "            <tr>\n",
       "                        <th id=\"T_cd513_level0_row17\" class=\"row_heading level0 row17\" >17</th>\n",
       "                        <td id=\"T_cd513_row17_col0\" class=\"data row17 col0\" >16021</td>\n",
       "                        <td id=\"T_cd513_row17_col1\" class=\"data row17 col1\" >9</td>\n",
       "                        <td id=\"T_cd513_row17_col2\" class=\"data row17 col2\" >14. Whichever methodology is adopted a full appraisal of the project also requires an allowance to be made for wider quantifiable economic benefits. To produce an initial estimate in inflated prices we have taken the Arup case tourism assumed benefits as well as the Arup base case fiscal and employment benefits and inflated these figures. We have also assumed, a boost to exports after the Games of £0.5 billion in 2002 prices. Finally we have assumed that investment in tourism would be zero. Wider benefits in inflated prices using this initial analysis indicate a figure of £2.24 billion</td>\n",
       "                        <td id=\"T_cd513_row17_col3\" class=\"data row17 col3\" >0.440072</td>\n",
       "            </tr>\n",
       "            <tr>\n",
       "                        <th id=\"T_cd513_level0_row18\" class=\"row_heading level0 row18\" >18</th>\n",
       "                        <td id=\"T_cd513_row18_col0\" class=\"data row18 col0\" >12700</td>\n",
       "                        <td id=\"T_cd513_row18_col1\" class=\"data row18 col1\" >10</td>\n",
       "                        <td id=\"T_cd513_row18_col2\" class=\"data row18 col2\" >2. British Cycling told us that the cycling facilities at the Velopark had “the potential to be absolutely world-class” and that they “should be the very best anywhere in the world”.152 There has nonetheless been a certain amount of controversy about the extent to which the Velopark will offer a suitable replacement for off-road facilities at the former Eastway Circuit, lost when land was assembled by the LDA for incorporation into the Olympic Park. The design currently proposed by the ODA for the Velopark offers most of the facilities previously available at Eastway, albeit in a more fragmented layout. British Cycling, despite being supportive of the proposed design for use during the Games and despite anticipating that, after the Games, the Velopark will “provide a boost for cycling”,153 initially lodged objections to the relevant planning applications on the grounds that they did “not provide an adequate or comparable replacement for the road and off-road facilities provided to cycling on the Eastway Circuit”. British Cycling is now satisfied that the ODA has taken on board its concerns and that current plans for the Velopark offer an acceptable replacement for Eastway. The Eastway Users Group, which has campaigned for off-road cycling facilities in the Velopark in legacy mode, remains frustrated by the uncertainty about future provision, and it has pointed out to us that facilities at Eastway closed before the ODA or LDA had provided any suitable temporary alternative, causing  149 Ev 107</td>\n",
       "                        <td id=\"T_cd513_row18_col3\" class=\"data row18 col3\" >0.513110</td>\n",
       "            </tr>\n",
       "            <tr>\n",
       "                        <th id=\"T_cd513_level0_row19\" class=\"row_heading level0 row19\" >19</th>\n",
       "                        <td id=\"T_cd513_row19_col0\" class=\"data row19 col0\" >12643</td>\n",
       "                        <td id=\"T_cd513_row19_col1\" class=\"data row19 col1\" >10</td>\n",
       "                        <td id=\"T_cd513_row19_col2\" class=\"data row19 col2\" >1. Beyond the initial payment to the LDA, proceeds will be split between the LDA, to repay costs associated with the remediation and disposal of land and buildings in the Olympic Park, and DCMS, which will act as a channel for reimbursement of the National Lottery Distribution Fund (NLDF). An initial tranche of £631 million will be allocated pro rata according to a formula which would lead to reimbursement of three-quarters of the funds due to the NLDF and one quarter of the remaining funds due to the LDA. A further £544 million will then be allocated according to a formula which would, if receipts from land sales allow, lead to reimbursement of the remaining quarter of the funds due to the NLDF and the remaining three-quarters of the funds due to the LDA. The treatment of any further surplus arising from land sales “will be determined separately at the time by agreement between the Government and the Mayor”. The Revised Memorandum of Understanding does not provide for repayment to the LDA of its grant of £250 million to the ODA, included within the original Public Sector Funding Package.80 It is important to observe that the Memorandum of Understanding does not provide for uprating of these amounts for general inflation. This is a significant omission, to which we return below</td>\n",
       "                        <td id=\"T_cd513_row19_col3\" class=\"data row19 col3\" >0.492892</td>\n",
       "            </tr>\n",
       "            <tr>\n",
       "                        <th id=\"T_cd513_level0_row20\" class=\"row_heading level0 row20\" >20</th>\n",
       "                        <td id=\"T_cd513_row20_col0\" class=\"data row20 col0\" >9932</td>\n",
       "                        <td id=\"T_cd513_row20_col1\" class=\"data row20 col1\" >11</td>\n",
       "                        <td id=\"T_cd513_row20_col2\" class=\"data row20 col2\" >Lord Moynihan: Adrian, I am looking to the future and in this new found position of being apolitical and outside criticism of what may or may not have happened in the past I can tell you what is required moving forward is significant improvements rather than dwelling on what went wrong in the past. The first thing that is required is consistent funding. It is absolutely essential that we have consistent funding to the Olympic governing bodies. The second thing that is required is hiring the best coaches. I mentioned earlier that coaches are centres of excellence, and they really are. The coach inspires, the coach motivates, the coach can get the best out of our young Olympians of the future. We will deliver far better than we have in the past. The importance given to coaching needs to be on a step change level from where it has been in the past. I am very pleased to say that UK Sport and the Government are at one with us on the importance of reinforcing more emphasis on coaching. Then I mentioned in a highly competitive market, which it will be, to achieve fourth place we need to make sure not just the coaching but the management, the administration, the medical, the support services to our sports men and women are there and that we have the back-up facilities, the high performance centres properly resourced and that the governing bodies are given the support they need to make the decisions on behalf of their staff, their performance directors, their coaches. Ultimately we are all the servants of the sports men and women who will be up there winning medals in 2012. I am absolutely convinced that with the strength of the governing bodies and the talent we have in this country that is an achievable and deliverable target. I am absolutely convinced that unless Clearing the Bar is accepted we will not achieve that stretch target. That is why we are spending so many hours, the days and nights and little time we have available getting that document right and working with UK Sport to make sure we get that right. We have to do it now, we cannot afford to wait until the end of next year. We need to make sure that the funding is secure so that governing bodies can take the steps which are necessary next year. The time invested in the beginning of next year will be worth a huge amount when we get to 2012. It is time invested upfront to make sure that those plans can deliver the success. That means we will look at Beijing in a different light from how we would normally look at Beijing. We will look at Beijing as a stepping stone towards success in 2012 which may not best be judged by medal tallies, for example, but must be judged by how much progress the squads, the teams and the coaches have made en route from here to 2012; which will be our principal goal</td>\n",
       "                        <td id=\"T_cd513_row20_col3\" class=\"data row20 col3\" >0.568207</td>\n",
       "            </tr>\n",
       "            <tr>\n",
       "                        <th id=\"T_cd513_level0_row21\" class=\"row_heading level0 row21\" >21</th>\n",
       "                        <td id=\"T_cd513_row21_col0\" class=\"data row21 col0\" >10086</td>\n",
       "                        <td id=\"T_cd513_row21_col1\" class=\"data row21 col1\" >11</td>\n",
       "                        <td id=\"T_cd513_row21_col2\" class=\"data row21 col2\" >Dame Tanni Grey-Thompson: I think we have a fantastic history of disabled athletes competing. That is probably because we were one of the first countries to offer sporting opportunities for disabled athletes. Most of the reason for that was after the Second World War the life expectancy of a quadriplegic was two years and a paraplegic was between five and seven years. The real reason sport started was that it was felt there was not enough money to keep the war injured in hospital until they died, so sport was used as a rehabilitation initially. We have got very strong roots where we have come from and a lot of events have been organised in the UK and that has provided a good solid base. What we have seen in the last few years, and what we are going to see in Beijing, is major changes in the number of countries competing and the quality of athletes. If we want to carry on and maintain that level of success, some of it does come down to funding, unfortunately, funding does make a difference, but it is also about inclusion in governing bodies, inclusion within the mainstream structures and making sure we get it right at school level. I think we do have an amazing opportunity to be very, very successful in the future but we have to make sure that work carries on and is happening right now, that we do not just leave it to chance. We cannot sit on our laurels and say we have done well in the past and it is going on. Beijing will be a massive step forward just in terms of the number of Chinese athletes who will be competing. They have huge advantages in terms of the number of people who were injured through industrial incidents and lack of medical care and all sorts of things that we have not really tapped into yet. In the UK we have a huge potential to tap into a lot of sources that we have not yet identified.</td>\n",
       "                        <td id=\"T_cd513_row21_col3\" class=\"data row21 col3\" >0.497450</td>\n",
       "            </tr>\n",
       "            <tr>\n",
       "                        <th id=\"T_cd513_level0_row22\" class=\"row_heading level0 row22\" >22</th>\n",
       "                        <td id=\"T_cd513_row22_col0\" class=\"data row22 col0\" >10424</td>\n",
       "                        <td id=\"T_cd513_row22_col1\" class=\"data row22 col1\" >12</td>\n",
       "                        <td id=\"T_cd513_row22_col2\" class=\"data row22 col2\" >38. The London Borough of Newham suggested to us that “opportunities for a wider cultural legacy for the Park are currently being overlooked in the legacy planning processes”, and it claimed that cultural planning for the Olympics “currently only identifies a narrow spread of stakeholders, largely excluding representation from local authorities and key local and regional cultural partners”.291 Heritage Link also relayed to us anxiety felt among smaller voluntary sector organisations that they were somewhat marginalised in discussions on maximising the benefits of the Olympics.292 We put this latter point to witnesses representing the Nations and Regions Group, who sought to reassure us that within the various regional groups culture was “very much embedded” and that (at least in the case of the East of England and the South West) the Regional Cultural Consortium was “one of the key partners” or was the source of cultural initiatives for the regional group. 293</td>\n",
       "                        <td id=\"T_cd513_row22_col3\" class=\"data row22 col3\" >0.426794</td>\n",
       "            </tr>\n",
       "            <tr>\n",
       "                        <th id=\"T_cd513_level0_row23\" class=\"row_heading level0 row23\" >23</th>\n",
       "                        <td id=\"T_cd513_row23_col0\" class=\"data row23 col0\" >10436</td>\n",
       "                        <td id=\"T_cd513_row23_col1\" class=\"data row23 col1\" >12</td>\n",
       "                        <td id=\"T_cd513_row23_col2\" class=\"data row23 col2\" >145. Membership of the working groups includes representatives of sport, business, local government, culture, tourism, education, the voluntary sector and other key interest groups.305 We were assured by representatives of the Nations and Regions Group that the working groups’ strategies were based upon a “bottom-up” approach driven by grassroots interests.306 We note that a decision was taken at an early stage of the bid that engagement outside London would be led by Regional Development Agencies and by Regional Sports Boards, and we heard that local authorities were only now being “brought into it”.307 We welcome the Nations and Regions Group’s recognition that local and community interests must underlie national and regional strategies, and we are encouraged by the Group’s account of work under way. We also endorse the concept articulated by the group that the Games should be a UK Games hosted in London. We will in time, however, seek further evidence that the working groups formed in each nation and region truly reflect all elements of their communities in their work</td>\n",
       "                        <td id=\"T_cd513_row23_col3\" class=\"data row23 col3\" >0.390708</td>\n",
       "            </tr>\n",
       "    </tbody></table>"
      ],
      "text/plain": [
       "<pandas.io.formats.style.Styler at 0x1cea74fb550>"
      ]
     },
     "execution_count": 150,
     "metadata": {},
     "output_type": "execute_result"
    }
   ],
   "source": [
    "# 2 most prototypical paragraphs of each topic\n",
    "N2 = 2\n",
    "top_n_filter(df_topic_para2, N2).style.set_properties(subset = ['salient_paragraph'], **{'width':'500px', 'length': '50px'})"
   ]
  },
  {
   "cell_type": "markdown",
   "metadata": {},
   "source": [
    "### 5.3.5.  N most prototypical paragraphs of a specific topic"
   ]
  },
  {
   "cell_type": "code",
   "execution_count": 151,
   "metadata": {},
   "outputs": [
    {
     "data": {
      "text/html": [
       "<style  type=\"text/css\" >\n",
       "#T_eeb4b_row0_col2,#T_eeb4b_row1_col2{\n",
       "            width:  500px;\n",
       "            length:  50px;\n",
       "        }</style><table id=\"T_eeb4b_\" ><thead>    <tr>        <th class=\"blank level0\" ></th>        <th class=\"col_heading level0 col0\" >Index</th>        <th class=\"col_heading level0 col1\" >topic_id</th>        <th class=\"col_heading level0 col2\" >salient_paragraph</th>        <th class=\"col_heading level0 col3\" >probability</th>    </tr></thead><tbody>\n",
       "                <tr>\n",
       "                        <th id=\"T_eeb4b_level0_row0\" class=\"row_heading level0 row0\" >18</th>\n",
       "                        <td id=\"T_eeb4b_row0_col0\" class=\"data row0 col0\" >12700</td>\n",
       "                        <td id=\"T_eeb4b_row0_col1\" class=\"data row0 col1\" >10</td>\n",
       "                        <td id=\"T_eeb4b_row0_col2\" class=\"data row0 col2\" >2. British Cycling told us that the cycling facilities at the Velopark had “the potential to be absolutely world-class” and that they “should be the very best anywhere in the world”.152 There has nonetheless been a certain amount of controversy about the extent to which the Velopark will offer a suitable replacement for off-road facilities at the former Eastway Circuit, lost when land was assembled by the LDA for incorporation into the Olympic Park. The design currently proposed by the ODA for the Velopark offers most of the facilities previously available at Eastway, albeit in a more fragmented layout. British Cycling, despite being supportive of the proposed design for use during the Games and despite anticipating that, after the Games, the Velopark will “provide a boost for cycling”,153 initially lodged objections to the relevant planning applications on the grounds that they did “not provide an adequate or comparable replacement for the road and off-road facilities provided to cycling on the Eastway Circuit”. British Cycling is now satisfied that the ODA has taken on board its concerns and that current plans for the Velopark offer an acceptable replacement for Eastway. The Eastway Users Group, which has campaigned for off-road cycling facilities in the Velopark in legacy mode, remains frustrated by the uncertainty about future provision, and it has pointed out to us that facilities at Eastway closed before the ODA or LDA had provided any suitable temporary alternative, causing  149 Ev 107</td>\n",
       "                        <td id=\"T_eeb4b_row0_col3\" class=\"data row0 col3\" >0.513110</td>\n",
       "            </tr>\n",
       "            <tr>\n",
       "                        <th id=\"T_eeb4b_level0_row1\" class=\"row_heading level0 row1\" >19</th>\n",
       "                        <td id=\"T_eeb4b_row1_col0\" class=\"data row1 col0\" >12643</td>\n",
       "                        <td id=\"T_eeb4b_row1_col1\" class=\"data row1 col1\" >10</td>\n",
       "                        <td id=\"T_eeb4b_row1_col2\" class=\"data row1 col2\" >1. Beyond the initial payment to the LDA, proceeds will be split between the LDA, to repay costs associated with the remediation and disposal of land and buildings in the Olympic Park, and DCMS, which will act as a channel for reimbursement of the National Lottery Distribution Fund (NLDF). An initial tranche of £631 million will be allocated pro rata according to a formula which would lead to reimbursement of three-quarters of the funds due to the NLDF and one quarter of the remaining funds due to the LDA. A further £544 million will then be allocated according to a formula which would, if receipts from land sales allow, lead to reimbursement of the remaining quarter of the funds due to the NLDF and the remaining three-quarters of the funds due to the LDA. The treatment of any further surplus arising from land sales “will be determined separately at the time by agreement between the Government and the Mayor”. The Revised Memorandum of Understanding does not provide for repayment to the LDA of its grant of £250 million to the ODA, included within the original Public Sector Funding Package.80 It is important to observe that the Memorandum of Understanding does not provide for uprating of these amounts for general inflation. This is a significant omission, to which we return below</td>\n",
       "                        <td id=\"T_eeb4b_row1_col3\" class=\"data row1 col3\" >0.492892</td>\n",
       "            </tr>\n",
       "    </tbody></table>"
      ],
      "text/plain": [
       "<pandas.io.formats.style.Styler at 0x1cea7344640>"
      ]
     },
     "execution_count": 151,
     "metadata": {},
     "output_type": "execute_result"
    }
   ],
   "source": [
    "topic_id_chosen = 10                                    # choose the topic ID\n",
    "num_para = 2                                            # set N to extract the N most prototypical paragraphs of a specific topic\n",
    "df_n_topic_k = top_n_filter(df_topic_para2, num_para)\n",
    "topic_id_filter = df_n_topic_k['topic_id'] == topic_id_chosen\n",
    "df_n_topic_k[topic_id_filter].style.set_properties(subset = ['salient_paragraph'], **{'width':'500px', 'length': '50px'})"
   ]
  }
 ],
 "metadata": {
  "kernelspec": {
   "display_name": "Python 3",
   "language": "python",
   "name": "python3"
  },
  "language_info": {
   "codemirror_mode": {
    "name": "ipython",
    "version": 3
   },
   "file_extension": ".py",
   "mimetype": "text/x-python",
   "name": "python",
   "nbconvert_exporter": "python",
   "pygments_lexer": "ipython3",
   "version": "3.8.3"
  }
 },
 "nbformat": 4,
 "nbformat_minor": 4
}
